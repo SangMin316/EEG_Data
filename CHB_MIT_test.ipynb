{
  "nbformat": 4,
  "nbformat_minor": 0,
  "metadata": {
    "colab": {
      "provenance": [],
      "mount_file_id": "1TIrU-l5IlzYcdXSrvaAZwjYTI21yw-f0",
      "authorship_tag": "ABX9TyOlxc8z1gLhBttRPrUmc0YD",
      "include_colab_link": true
    },
    "kernelspec": {
      "name": "python3",
      "display_name": "Python 3"
    },
    "language_info": {
      "name": "python"
    },
    "accelerator": "GPU"
  },
  "cells": [
    {
      "cell_type": "markdown",
      "metadata": {
        "id": "view-in-github",
        "colab_type": "text"
      },
      "source": [
        "<a href=\"https://colab.research.google.com/github/SangMin316/EEG_Data/blob/main/CHB_MIT_test.ipynb\" target=\"_parent\"><img src=\"https://colab.research.google.com/assets/colab-badge.svg\" alt=\"Open In Colab\"/></a>"
      ]
    },
    {
      "cell_type": "markdown",
      "source": [
        "data augmentation"
      ],
      "metadata": {
        "id": "vOOL5nJ12gOr"
      }
    },
    {
      "cell_type": "code",
      "source": [
        "import numpy as np\n",
        "def MAF(x,window):\n",
        "    new_signals = np.zeros(x.shape)\n",
        "    sample_num, T = x.shape\n",
        "    for i in range(sample_num):\n",
        "      noise = np.convolve(x[i], np.ones(window),'same')/window\n",
        "      new_signals[i] = x[i] - noise\n",
        "   \n",
        "    return new_signals\n",
        "\n",
        "\n",
        "def asln(x,a,b):\n",
        "\n",
        "    C,T = x.shape\n",
        "    noise = a*np.linspace(0,1,T) - b*np.ones(T)\n",
        "    noise = noise*np.ones((C,1))\n",
        "    n = np.random.randint(2)\n",
        "    if n == 0:\n",
        "      new_signals = x + noise\n",
        "    else:\n",
        "      new_signals = x - noise\n",
        "    return new_signals\n",
        "\n",
        "def apn(x,c,d):\n",
        "    C,T = x.shape\n",
        "    noise = np.linspace(-np.pi+d,np.pi+d,T) - d*np.ones(T)\n",
        "    noise = c*np.sin(noise)*np.ones((C,1))\n",
        "    new_signals = x + noise\n",
        "    return new_signals"
      ],
      "metadata": {
        "id": "6qwJD_tn2fUk"
      },
      "execution_count": 1,
      "outputs": []
    },
    {
      "cell_type": "code",
      "source": [
        "def augmented_data(x,window,a,b,c,d):\n",
        "      # x = np.squeeze(x)\n",
        "      batch,channel,t = x.shape\n",
        "      x = np.reshape(x,(batch*channel,t))\n",
        "      # print(x.shape)\n",
        "      # x = x.numpy()\n",
        "      samples, sequence_length = x.shape\n",
        "      X = []\n",
        "      Y = []\n",
        "      X.append(x)\n",
        "\n",
        "      x_maf = MAF(x,window)\n",
        "      x_asln = asln(x,a,b)\n",
        "      x_apn = apn(x,c,d)\n",
        "      \n",
        "      X.append(x_maf)\n",
        "      X.append(x_asln)\n",
        "      X.append(x_apn)\n",
        "\n",
        "      #one-hot encoding\n",
        "      original = [1,0,0,0]\n",
        "      s_maf = [0,1,0,0]\n",
        "      s_asln = [0,0,1,0]\n",
        "      s_apn = [0,0,0,1]\n",
        "      # print(x_apn.shape)\n",
        "      Y.append(original*np.ones((samples,1)))\n",
        "      Y.append(s_maf*np.ones((samples,1)))\n",
        "      Y.append(s_asln*np.ones((samples,1)))\n",
        "      Y.append(s_apn*np.ones((samples,1)))\n",
        "      \n",
        "      X = np.array(X)\n",
        "\n",
        "      X = X.reshape(4*samples,sequence_length)\n",
        "      # print(X.shape)\n",
        "      Y = np.array(Y)\n",
        "      Y = Y.reshape(4*samples,4)\n",
        "      \n",
        "      return X,Y "
      ],
      "metadata": {
        "id": "qcQcpdcqFb2j"
      },
      "execution_count": 2,
      "outputs": []
    },
    {
      "cell_type": "code",
      "source": [
        "sample = np.load('/content/drive/MyDrive/EEG_data/CHB_MIT/data/Data_Sample01.npy')\n",
        "sample.shape"
      ],
      "metadata": {
        "colab": {
          "base_uri": "https://localhost:8080/"
        },
        "id": "g1GXVWcUsi_B",
        "outputId": "15538568-6e6e-49d0-a698-80c7282bd48d"
      },
      "execution_count": 3,
      "outputs": [
        {
          "output_type": "execute_result",
          "data": {
            "text/plain": [
              "(123, 23, 256)"
            ]
          },
          "metadata": {},
          "execution_count": 3
        }
      ]
    },
    {
      "cell_type": "code",
      "source": [
        "sample.shape"
      ],
      "metadata": {
        "colab": {
          "base_uri": "https://localhost:8080/"
        },
        "id": "cc5cAo1OunBr",
        "outputId": "c3c23937-d12f-44d0-c9d2-b67e541e1f7b"
      },
      "execution_count": 4,
      "outputs": [
        {
          "output_type": "execute_result",
          "data": {
            "text/plain": [
              "(123, 23, 256)"
            ]
          },
          "metadata": {},
          "execution_count": 4
        }
      ]
    },
    {
      "cell_type": "code",
      "source": [
        "from scipy import signal\n",
        "\n",
        "sample1 = signal.resample(sample, 200, axis=2)"
      ],
      "metadata": {
        "id": "meoqX_sWs-R9"
      },
      "execution_count": 5,
      "outputs": []
    },
    {
      "cell_type": "code",
      "source": [
        "sample1.shape"
      ],
      "metadata": {
        "colab": {
          "base_uri": "https://localhost:8080/"
        },
        "id": "Y2V52rHTtg6g",
        "outputId": "3ac72e6e-d277-4996-bab7-ebabbfaa281d"
      },
      "execution_count": 6,
      "outputs": [
        {
          "output_type": "execute_result",
          "data": {
            "text/plain": [
              "(123, 23, 200)"
            ]
          },
          "metadata": {},
          "execution_count": 6
        }
      ]
    },
    {
      "cell_type": "code",
      "source": [
        "x,y= augmented_data(sample1,15,0.75,0,0.75,1.5)"
      ],
      "metadata": {
        "id": "UMfR4P4CsrFT"
      },
      "execution_count": 7,
      "outputs": []
    },
    {
      "cell_type": "code",
      "source": [
        "x.shape"
      ],
      "metadata": {
        "colab": {
          "base_uri": "https://localhost:8080/"
        },
        "id": "7xTkuakeuQWd",
        "outputId": "b5dc1e06-340e-4663-da0a-1ff55ddda3a0"
      },
      "execution_count": 8,
      "outputs": [
        {
          "output_type": "execute_result",
          "data": {
            "text/plain": [
              "(11316, 200)"
            ]
          },
          "metadata": {},
          "execution_count": 8
        }
      ]
    },
    {
      "cell_type": "code",
      "source": [
        "import matplotlib.pyplot as plt\n",
        "\n",
        "sequence_length = 200\n",
        "t = np.linspace(0,sequence_length,sequence_length)\n",
        "\n",
        "plt.figure(figsize =(12, 6))\n",
        "label = ['S1_raw','S2_raw','S1_stationary','S2_stationary',\n",
        "         'S1_trendstationary','S2_trendstationary','S1_cyclostationary','S2_cyclostationary']\n",
        "\n",
        "\n",
        "label = ['raw','stationary','trendstationary','cyclostationary']\n",
        "\n",
        "for i in range(4):\n",
        "  k = x[i*23*123]\n",
        "  print(y[i*23*123])\n",
        "  plt.subplot(2, 2, i+1)\n",
        "  plt.plot(t,k)\n",
        "  plt.title(label[i])\n",
        "plt.savefig('agumented_signal_(15,06,06)')\n",
        "plt.show()  "
      ],
      "metadata": {
        "colab": {
          "base_uri": "https://localhost:8080/",
          "height": 418
        },
        "id": "FDc4kWaTt9xr",
        "outputId": "d338955b-4471-4eb5-8760-0ffcdd767640"
      },
      "execution_count": 9,
      "outputs": [
        {
          "output_type": "stream",
          "name": "stdout",
          "text": [
            "[1. 0. 0. 0.]\n",
            "[0. 1. 0. 0.]\n",
            "[0. 0. 1. 0.]\n",
            "[0. 0. 0. 1.]\n"
          ]
        },
        {
          "output_type": "display_data",
          "data": {
            "text/plain": [
              "<Figure size 864x432 with 4 Axes>"
            ],
            "image/png": "[encoded data removed]"
          },
          "metadata": {
            "needs_background": "light"
          }
        }
      ]
    },
    {
      "cell_type": "code",
      "source": [
        "!pip install mne"
      ],
      "metadata": {
        "colab": {
          "base_uri": "https://localhost:8080/"
        },
        "id": "QanSeKExzmv2",
        "outputId": "91ef18d2-56d4-423c-ddfc-0795aa1ea2ff"
      },
      "execution_count": 10,
      "outputs": [
        {
          "output_type": "stream",
          "name": "stdout",
          "text": [
            "Looking in indexes: https://pypi.org/simple, https://us-python.pkg.dev/colab-wheels/public/simple/\n",
            "Requirement already satisfied: mne in /usr/local/lib/python3.7/dist-packages (1.1.1)\n",
            "Requirement already satisfied: scipy>=1.1.0 in /usr/local/lib/python3.7/dist-packages (from mne) (1.7.3)\n",
            "Requirement already satisfied: pooch>=1.5 in /usr/local/lib/python3.7/dist-packages (from mne) (1.6.0)\n",
            "Requirement already satisfied: numpy>=1.15.4 in /usr/local/lib/python3.7/dist-packages (from mne) (1.21.6)\n",
            "Requirement already satisfied: decorator in /usr/local/lib/python3.7/dist-packages (from mne) (4.4.2)\n",
            "Requirement already satisfied: matplotlib in /usr/local/lib/python3.7/dist-packages (from mne) (3.2.2)\n",
            "Requirement already satisfied: jinja2 in /usr/local/lib/python3.7/dist-packages (from mne) (2.11.3)\n",
            "Requirement already satisfied: tqdm in /usr/local/lib/python3.7/dist-packages (from mne) (4.64.1)\n",
            "Requirement already satisfied: packaging in /usr/local/lib/python3.7/dist-packages (from mne) (21.3)\n",
            "Requirement already satisfied: appdirs>=1.3.0 in /usr/local/lib/python3.7/dist-packages (from pooch>=1.5->mne) (1.4.4)\n",
            "Requirement already satisfied: requests>=2.19.0 in /usr/local/lib/python3.7/dist-packages (from pooch>=1.5->mne) (2.23.0)\n",
            "Requirement already satisfied: pyparsing!=3.0.5,>=2.0.2 in /usr/local/lib/python3.7/dist-packages (from packaging->mne) (3.0.9)\n",
            "Requirement already satisfied: chardet<4,>=3.0.2 in /usr/local/lib/python3.7/dist-packages (from requests>=2.19.0->pooch>=1.5->mne) (3.0.4)\n",
            "Requirement already satisfied: certifi>=2017.4.17 in /usr/local/lib/python3.7/dist-packages (from requests>=2.19.0->pooch>=1.5->mne) (2022.6.15)\n",
            "Requirement already satisfied: idna<3,>=2.5 in /usr/local/lib/python3.7/dist-packages (from requests>=2.19.0->pooch>=1.5->mne) (2.10)\n",
            "Requirement already satisfied: urllib3!=1.25.0,!=1.25.1,<1.26,>=1.21.1 in /usr/local/lib/python3.7/dist-packages (from requests>=2.19.0->pooch>=1.5->mne) (1.24.3)\n",
            "Requirement already satisfied: MarkupSafe>=0.23 in /usr/local/lib/python3.7/dist-packages (from jinja2->mne) (2.0.1)\n",
            "Requirement already satisfied: cycler>=0.10 in /usr/local/lib/python3.7/dist-packages (from matplotlib->mne) (0.11.0)\n",
            "Requirement already satisfied: python-dateutil>=2.1 in /usr/local/lib/python3.7/dist-packages (from matplotlib->mne) (2.8.2)\n",
            "Requirement already satisfied: kiwisolver>=1.0.1 in /usr/local/lib/python3.7/dist-packages (from matplotlib->mne) (1.4.4)\n",
            "Requirement already satisfied: typing-extensions in /usr/local/lib/python3.7/dist-packages (from kiwisolver>=1.0.1->matplotlib->mne) (4.1.1)\n",
            "Requirement already satisfied: six>=1.5 in /usr/local/lib/python3.7/dist-packages (from python-dateutil>=2.1->matplotlib->mne) (1.15.0)\n"
          ]
        }
      ]
    },
    {
      "cell_type": "code",
      "source": [
        "from scipy import signal\n",
        "from torch.utils.data import Dataset\n",
        "import torch\n",
        "\n",
        "class CHB_MIT_Dataset(Dataset):\n",
        "    def __init__(self, idxs, ssl=True, sfreq=200, ratio = None):\n",
        "        #self.path = os.getcwd()\n",
        "        self.path = '/content/drive/MyDrive/EEG_data/CHB_MIT/'\n",
        "\n",
        "        data = []\n",
        "        labels = []\n",
        "\n",
        "        for idx in idxs:\n",
        "            tmp = np.load(self.path + 'data/' + f'Data_Sample{idx:02d}.npy')\n",
        "            y = np.load(self.path +  'label/' + f'Data_Label{idx:02d}.npy')\n",
        "\n",
        "            if ratio != None:\n",
        "                length = int(tmp.shape[0] * ratio)\n",
        "                data.append(tmp[:length, :, :])\n",
        "                labels.append(y[:length])\n",
        "            else:\n",
        "                data.append(tmp)\n",
        "                labels.append(y)\n",
        "\n",
        "        del tmp, y\n",
        "\n",
        "        data = np.concatenate(data, axis=0)\n",
        "\n",
        "        data = np.moveaxis(data, -1, 0)\n",
        "        data = signal.resample(data, sfreq)\n",
        "\n",
        "        self.data = np.moveaxis(data, 0, -1)\n",
        "        self.labels = np.array(np.concatenate(labels, axis=0))\n",
        "        self.ssl = ssl\n",
        "        self.sfreq = sfreq\n",
        "\n",
        "    def __len__(self):\n",
        "        return self.data.shape[0]\n",
        "\n",
        "    def __getitem__(self, item):\n",
        "        return self.data[item]"
      ],
      "metadata": {
        "id": "3js-oEwYNZFe"
      },
      "execution_count": 11,
      "outputs": []
    },
    {
      "cell_type": "code",
      "source": [
        "a = np.load('/content/drive/MyDrive/EEG_data/CHB_MIT/data/Data_Sample01.npy')"
      ],
      "metadata": {
        "id": "iZu3XO-Zovb5"
      },
      "execution_count": 12,
      "outputs": []
    },
    {
      "cell_type": "code",
      "source": [
        "a.shape"
      ],
      "metadata": {
        "colab": {
          "base_uri": "https://localhost:8080/"
        },
        "id": "7KugCXHWo1Ql",
        "outputId": "3f5f6dfe-354b-49ae-e0fc-d21946c389b8"
      },
      "execution_count": 13,
      "outputs": [
        {
          "output_type": "execute_result",
          "data": {
            "text/plain": [
              "(123, 23, 256)"
            ]
          },
          "metadata": {},
          "execution_count": 13
        }
      ]
    },
    {
      "cell_type": "code",
      "source": [
        "idx = list(range(1,21))\n",
        "CHBdataset = CHB_MIT_Dataset(idx)\n",
        "\n",
        "train_size = int(0.8 * len(CHBdataset))\n",
        "val_size = int(0.1 * len(CHBdataset))\n",
        "test_size = len(CHBdataset) - train_size - val_size\n",
        "train_dataset, val_dataset, test_dataset = torch.utils.data.random_split(CHBdataset, [train_size, val_size, test_size],\n",
        "                                                                         generator=torch.Generator().manual_seed(123456))"
      ],
      "metadata": {
        "id": "db93uK2EY0Eh"
      },
      "execution_count": 14,
      "outputs": []
    },
    {
      "cell_type": "code",
      "source": [
        "from torch.utils.data import DataLoader\n",
        "\n",
        "trainLoader = DataLoader(train_dataset, batch_size = 3, shuffle=False)"
      ],
      "metadata": {
        "id": "ktYV2jbUZ82I"
      },
      "execution_count": 15,
      "outputs": []
    },
    {
      "cell_type": "code",
      "source": [
        "for batch_idx, batch in enumerate(trainLoader):\n",
        "  print( 'n:',batch_idx, 'values: ' , batch.shape)\n",
        "  if batch_idx >= 2:\n",
        "    break"
      ],
      "metadata": {
        "colab": {
          "base_uri": "https://localhost:8080/"
        },
        "id": "-0wyqsMBaRdS",
        "outputId": "03c06f92-002b-41a9-c5c0-296f62de593a"
      },
      "execution_count": 16,
      "outputs": [
        {
          "output_type": "stream",
          "name": "stdout",
          "text": [
            "n: 0 values:  torch.Size([3, 23, 200])\n",
            "n: 1 values:  torch.Size([3, 23, 200])\n",
            "n: 2 values:  torch.Size([3, 23, 200])\n"
          ]
        }
      ]
    },
    {
      "cell_type": "markdown",
      "metadata": {
        "id": "fjz8xp2hhpB4"
      },
      "source": [
        "model"
      ]
    },
    {
      "cell_type": "code",
      "execution_count": 17,
      "metadata": {
        "id": "v4F3jTLIbT0R"
      },
      "outputs": [],
      "source": [
        "import torch\n",
        "import torch.nn as nn\n",
        "\n",
        "\n",
        "\n",
        "class feature_extractor3(nn.Module):\n",
        "    def __init__(self):\n",
        "        super(feature_extractor3,self).__init__()\n",
        "        \n",
        "        self.channels = 1 # we use only single channel \n",
        "        \n",
        "        # Activation functions\n",
        "        self.activation = nn.LeakyReLU()\n",
        "        self.bn = nn.BatchNorm1d(1)\n",
        "\n",
        "        # self.conv2t = nns.SeparableConv1d(16,32,10,padding ='same') (in_channels, out_channels, kernel size,,,) \n",
        "\n",
        "        self.softmax = nn.Softmax()\n",
        "        self.conv1t = nn.Conv1d(1,10, 30, padding ='same') #in_channels, out_channels, kernel_size, \n",
        "        self.conv1s = nn.Conv1d(10,10,self.channels)\n",
        "        self.conv2t = nn.Conv1d(10,20,15,padding ='same') \n",
        "        self.conv2s = nn.Conv1d(20,20,self.channels)\n",
        "        self.conv3t = nn.Conv1d(20,34,5,padding ='same')\n",
        "        self.conv3s = nn.Conv1d(34,34,self.channels)\n",
        "        \n",
        "                  \n",
        "        # Flatteninig\n",
        "        self.flatten = nn.Flatten()\n",
        "\n",
        "        # Dropout\n",
        "        self.dropout = nn.Dropout(0.5)\n",
        "\n",
        "        # Decision making\n",
        "        self.Linear = nn.Linear(12800 ,4) # \n",
        "\n",
        "      \n",
        "    def embedding(self, x):\n",
        "        x = self.bn(x)\n",
        "        x = self.activation(self.conv1t(x))\n",
        "        f1 = self.activation(self.conv1s(x))\n",
        "\n",
        "        x = self.activation(self.conv2t(x))\n",
        "        f2 = self.activation(self.conv2s(x))\n",
        "\n",
        "        x = self.activation(self.conv3t(x))\n",
        "        f3 = self.activation(self.conv3s(x))\n",
        "        \n",
        "        # multi-scale feature representation by exploiting intermediate features\n",
        "        feature = torch.cat([f1, f2, f3],dim = 1 )\n",
        "        \n",
        "        return feature\n",
        "\n",
        "    def classifier(self, feature):\n",
        "        # Flattening, dropout, mapping into the decision nodes\n",
        "        feature = self.flatten(feature)\n",
        "        feature = self.dropout(feature)\n",
        "        y_hat = self.softmax(self.Linear(feature))\n",
        "        return y_hat    \n",
        "\n",
        "    def forward(self, x):\n",
        "        feature = self.embedding(x)\n",
        "        y_hat = self.classifier(feature)\n",
        "        return y_hat"
      ]
    },
    {
      "cell_type": "markdown",
      "source": [
        "parameter setting"
      ],
      "metadata": {
        "id": "FZW9BHj4v3oY"
      }
    },
    {
      "cell_type": "code",
      "execution_count": 18,
      "metadata": {
        "id": "HhfJy0SJbd38"
      },
      "outputs": [],
      "source": [
        "import os\n",
        "\n",
        "# batch size\n",
        "batch_size = 128\n",
        "learning_rate = 0.001\n",
        "epochs = 25\n",
        "\n",
        "os.environ[\"CUDA_VISIBLE_DEVICES\"] = \"0\"\n",
        "device = torch.device(\"cuda:0\" if torch.cuda.is_available() else \"cpu\")\n",
        "#torch.device(\"cuda:0\" if torch.cuda.is_available() else \"cpu\")\n",
        "#\"cpu\"\n",
        "\n"
      ]
    },
    {
      "cell_type": "code",
      "execution_count": 19,
      "metadata": {
        "colab": {
          "base_uri": "https://localhost:8080/"
        },
        "id": "rRv7RDlBfV_1",
        "outputId": "796603c3-c482-494f-f83e-e08bc12050a3"
      },
      "outputs": [
        {
          "output_type": "stream",
          "name": "stdout",
          "text": [
            "cuda:0\n"
          ]
        }
      ],
      "source": [
        "print(device)"
      ]
    },
    {
      "cell_type": "code",
      "execution_count": 20,
      "metadata": {
        "id": "EuVYaAzUbg8h"
      },
      "outputs": [],
      "source": [
        "trainLoader = DataLoader(train_dataset, batch_size = batch_size, shuffle=False)\n",
        "valLoader = DataLoader(val_dataset, batch_size = batch_size, shuffle=False)\n",
        "testLoader = DataLoader(test_dataset, batch_size = batch_size, shuffle=False)"
      ]
    },
    {
      "cell_type": "markdown",
      "source": [
        "batch단위로 loss를 계산하는 방법입니다."
      ],
      "metadata": {
        "id": "yP4mQuQlw17N"
      }
    },
    {
      "cell_type": "code",
      "source": [
        "def augmented_data(x,window,a,b,c,d):\n",
        "      # x = np.squeeze(x)\n",
        "      batch,channel,t = x.shape\n",
        "      x = np.reshape(x,(batch*channel,t))\n",
        "      # print(x.shape)\n",
        "      x = x.numpy()\n",
        "      samples, sequence_length = x.shape\n",
        "      X = []\n",
        "      Y = []\n",
        "      X.append(x)\n",
        "\n",
        "      x_maf = MAF(x,window)\n",
        "      x_asln = asln(x,a,b)\n",
        "      x_apn = apn(x,c,d)\n",
        "      \n",
        "      X.append(x_maf)\n",
        "      X.append(x_asln)\n",
        "      X.append(x_apn)\n",
        "\n",
        "      #one-hot encoding\n",
        "      original = [1,0,0,0]\n",
        "      s_maf = [0,1,0,0]\n",
        "      s_asln = [0,0,1,0]\n",
        "      s_apn = [0,0,0,1]\n",
        "      # print(x_apn.shape)\n",
        "      Y.append(original*np.ones((samples,1)))\n",
        "      Y.append(s_maf*np.ones((samples,1)))\n",
        "      Y.append(s_asln*np.ones((samples,1)))\n",
        "      Y.append(s_apn*np.ones((samples,1)))\n",
        "      \n",
        "      X = np.array(X)\n",
        "\n",
        "      X = X.reshape(4*samples,sequence_length)\n",
        "      # print(X.shape)\n",
        "      Y = np.array(Y)\n",
        "      Y = Y.reshape(4*samples,4)\n",
        "      \n",
        "      return X,Y "
      ],
      "metadata": {
        "id": "XvYtHt5Iqkdv"
      },
      "execution_count": 21,
      "outputs": []
    },
    {
      "cell_type": "code",
      "execution_count": 26,
      "metadata": {
        "id": "CTIR3OUmfCqv"
      },
      "outputs": [],
      "source": [
        "class Temporal_Trend_Identification_Task_Loss(torch.nn.modules.loss._Loss):\n",
        "    def __init__(self, device = None):\n",
        "        super().__init__()\n",
        "        self.device = device\n",
        "\n",
        "    def forward(self, batch, encoder, train):\n",
        "        acc = 0\n",
        "        x, y = augmented_data(batch,window = 15, a= 0.75, b = 0, c = 0.75, d= 1.5)\n",
        "        c,t = x.shape\n",
        "        x = np.reshape(x,(c,1,t))\n",
        "        CrossEL = torch.nn.CrossEntropyLoss()\n",
        "        pred = encoder.forward(torch.Tensor(x).to(device))\n",
        "        y = torch.Tensor(y).to(device)\n",
        "        \n",
        "    \n",
        "        loss = CrossEL(pred, torch.Tensor(y).to(device))\n",
        "        if train:\n",
        "            loss.backward(retain_graph=True)\n",
        "        \n",
        "        _, y =  torch.max(y, 1)     \n",
        "        _, predicted = torch.max(pred, 1) \n",
        "        \n",
        "        acc = (predicted == y).sum().item()\n",
        "        acc = acc/c #acc/(batch*channels*4(augmented))\n",
        "        del x\n",
        "        del y\n",
        "        return loss, acc    \n",
        "        "
      ]
    },
    {
      "cell_type": "code",
      "source": [],
      "metadata": {
        "id": "lnpjvMiJhUxn"
      },
      "execution_count": 22,
      "outputs": []
    },
    {
      "cell_type": "markdown",
      "metadata": {
        "id": "PVVgXj8_XkLb"
      },
      "source": [
        "gpu memory 정리"
      ]
    },
    {
      "cell_type": "code",
      "execution_count": 23,
      "metadata": {
        "colab": {
          "base_uri": "https://localhost:8080/"
        },
        "id": "Ci93atLFZ4Hz",
        "outputId": "fecee9d4-2de6-4078-d0f7-ff6b88dbd077"
      },
      "outputs": [
        {
          "output_type": "execute_result",
          "data": {
            "text/plain": [
              "66"
            ]
          },
          "metadata": {},
          "execution_count": 23
        }
      ],
      "source": [
        "import gc\n",
        "gc.collect()"
      ]
    },
    {
      "cell_type": "code",
      "execution_count": 24,
      "metadata": {
        "id": "34QCkoIrahGU"
      },
      "outputs": [],
      "source": [
        "torch.cuda.empty_cache() # GPU 캐시 데이터 삭제"
      ]
    },
    {
      "cell_type": "markdown",
      "source": [
        "model, loss, optimizer settiong"
      ],
      "metadata": {
        "id": "dopbUMZYxDOQ"
      }
    },
    {
      "cell_type": "code",
      "execution_count": 27,
      "metadata": {
        "id": "SPyAFNfIfCtD"
      },
      "outputs": [],
      "source": [
        "model = feature_extractor3().to(device)\n",
        "#model.to(device)\n",
        "criterion = Temporal_Trend_Identification_Task_Loss(device)\n",
        "optimizer = torch.optim.Adam(model.parameters(), lr=learning_rate)"
      ]
    },
    {
      "cell_type": "code",
      "execution_count": 28,
      "metadata": {
        "colab": {
          "base_uri": "https://localhost:8080/"
        },
        "id": "Jcpn9ultjyWu",
        "outputId": "43ff5170-4428-4f40-d2e2-6539ab278275"
      },
      "outputs": [
        {
          "output_type": "stream",
          "name": "stdout",
          "text": [
            "feature_extractor3(\n",
            "  (activation): LeakyReLU(negative_slope=0.01)\n",
            "  (bn): BatchNorm1d(1, eps=1e-05, momentum=0.1, affine=True, track_running_stats=True)\n",
            "  (softmax): Softmax(dim=None)\n",
            "  (conv1t): Conv1d(1, 10, kernel_size=(30,), stride=(1,), padding=same)\n",
            "  (conv1s): Conv1d(10, 10, kernel_size=(1,), stride=(1,))\n",
            "  (conv2t): Conv1d(10, 20, kernel_size=(15,), stride=(1,), padding=same)\n",
            "  (conv2s): Conv1d(20, 20, kernel_size=(1,), stride=(1,))\n",
            "  (conv3t): Conv1d(20, 34, kernel_size=(5,), stride=(1,), padding=same)\n",
            "  (conv3s): Conv1d(34, 34, kernel_size=(1,), stride=(1,))\n",
            "  (flatten): Flatten(start_dim=1, end_dim=-1)\n",
            "  (dropout): Dropout(p=0.5, inplace=False)\n",
            "  (Linear): Linear(in_features=12800, out_features=4, bias=True)\n",
            ")\n"
          ]
        }
      ],
      "source": [
        "print(model)"
      ]
    },
    {
      "cell_type": "markdown",
      "metadata": {
        "id": "-vsPmCptfb6V"
      },
      "source": [
        "learing"
      ]
    },
    {
      "cell_type": "code",
      "execution_count": 29,
      "metadata": {
        "colab": {
          "base_uri": "https://localhost:8080/"
        },
        "id": "ANWc4cbqfCvK",
        "outputId": "a4f6275c-0dae-40a8-d3a3-64f12a71bd99"
      },
      "outputs": [
        {
          "output_type": "stream",
          "name": "stderr",
          "text": [
            "/usr/local/lib/python3.7/dist-packages/torch/nn/modules/conv.py:304: UserWarning: Using padding='same' with even kernel lengths and odd dilation may require a zero-padded copy of the input be created (Triggered internally at  ../aten/src/ATen/native/Convolution.cpp:882.)\n",
            "  self.padding, self.dilation, self.groups)\n",
            "/usr/local/lib/python3.7/dist-packages/ipykernel_launcher.py:57: UserWarning: Implicit dimension choice for softmax has been deprecated. Change the call to include dim=X as an argument.\n"
          ]
        },
        {
          "output_type": "stream",
          "name": "stdout",
          "text": [
            "epoch :  0   train loss :  1.143796647970493 train acc :  0.5919380099067599     val loss :  0.9908773005008698 val acc :  0.7489668251811594\n",
            "epoch :  1   train loss :  0.98680468247487 train acc :  0.7555382089604238     val loss :  0.95030477643013 val acc :  0.790329200634058\n",
            "epoch :  2   train loss :  0.9478068695618556 train acc :  0.7975503889226714     val loss :  0.9348384737968445 val acc :  0.8065061707427537\n",
            "epoch :  3   train loss :  0.9501472619863657 train acc :  0.7891375212197224     val loss :  0.9264277964830399 val acc :  0.8136180932971013\n",
            "epoch :  4   train loss :  0.9456683420217954 train acc :  0.7970856136617006     val loss :  0.9389173835515976 val acc :  0.7995782382246377\n",
            "epoch :  5   train loss :  0.9358078103799087 train acc :  0.8071349930640012     val loss :  0.9228248447179794 val acc :  0.8181683084239131\n",
            "epoch :  6   train loss :  0.930419786618306 train acc :  0.8118554905239688     val loss :  0.9254183620214462 val acc :  0.8222302423007247\n",
            "epoch :  7   train loss :  0.920348719908641 train acc :  0.8219094226651971     val loss :  0.8907797038555145 val acc :  0.8532537930253623\n",
            "epoch :  8   train loss :  0.92568105000716 train acc :  0.8166676365980035     val loss :  0.9115676432847977 val acc :  0.8289458786231885\n",
            "epoch :  9   train loss :  0.9218293199172387 train acc :  0.8202484647372555     val loss :  0.925679937005043 val acc :  0.8152386209239131\n",
            "epoch :  10   train loss :  0.9319886404734391 train acc :  0.8099864922215466     val loss :  0.9575078189373016 val acc :  0.7843778306159421\n",
            "epoch :  11   train loss :  0.9151443999547225 train acc :  0.8273816169111685     val loss :  0.9137064218521118 val acc :  0.8286769701086957\n",
            "epoch :  12   train loss :  0.9359886417022119 train acc :  0.8047557910839161     val loss :  0.9166752249002457 val acc :  0.8240559895833333\n",
            "epoch :  13   train loss :  0.9136217557466947 train acc :  0.8285762160167729     val loss :  0.9028993397951126 val acc :  0.8399286684782608\n",
            "epoch :  14   train loss :  0.9122713689620678 train acc :  0.8296844120553359     val loss :  0.909636914730072 val acc :  0.8345292685688406\n",
            "epoch :  15   train loss :  0.9081980288028717 train acc :  0.8338385883817269     val loss :  0.9403734058141708 val acc :  0.7996277740036233\n",
            "epoch :  16   train loss :  0.9033734041910905 train acc :  0.8384774334587515     val loss :  0.9003735482692719 val acc :  0.8415562726449276\n",
            "epoch :  17   train loss :  0.9222718706497779 train acc :  0.8197390528402758     val loss :  0.9555976092815399 val acc :  0.7844769021739131\n",
            "epoch :  18   train loss :  0.900875041118035 train acc :  0.8411601843582143     val loss :  0.937886044383049 val acc :  0.8036330955615942\n",
            "epoch :  19   train loss :  0.9143198476387904 train acc :  0.8274085374543934     val loss :  0.9063275456428528 val acc :  0.8369635982789856\n",
            "epoch :  20   train loss :  0.9013568254617544 train acc :  0.8409217594000201     val loss :  0.9549895972013474 val acc :  0.7851704030797101\n",
            "epoch :  21   train loss :  0.9154893068166879 train acc :  0.8260285626963617     val loss :  0.9013640135526657 val acc :  0.8404381793478262\n",
            "epoch :  22   train loss :  0.9113653393892142 train acc :  0.8306166348370833     val loss :  0.8988145440816879 val acc :  0.8464461616847825\n",
            "epoch :  23   train loss :  0.9083023231763107 train acc :  0.8337399127140976     val loss :  0.9091335833072662 val acc :  0.8324629189311594\n",
            "epoch :  24   train loss :  0.9037610017336332 train acc :  0.8381252889999493     val loss :  0.8950889408588409 val acc :  0.8462904778079711\n"
          ]
        }
      ],
      "source": [
        "import matplotlib.pyplot as plt\n",
        "loss_tr = []\n",
        "loss_val = []\n",
        "acc_tr = []\n",
        "acc_val = []\n",
        "for epoch in range(epochs):\n",
        "    loss_ep = 0  # add batch loss in epoch\n",
        "    acc_ep = 0\n",
        "    for batch_idx, batch in enumerate(trainLoader):\n",
        "        optimizer.zero_grad()\n",
        "        loss_batch, acc_batch = criterion.forward(batch, model, train = True)\n",
        "        # print(batch_idx)\n",
        "        optimizer.step()\n",
        "        loss_ep += loss_batch.item()\n",
        "        acc_ep += acc_batch\n",
        "\n",
        "    loss_tr.append((loss_ep)/len(trainLoader))\n",
        "    acc_tr.append((acc_ep)/len(trainLoader))\n",
        "\n",
        "    loss_ep_val = 0\n",
        "    acc_ep_val = 0\n",
        "    for batch_idx, batch in enumerate(valLoader):\n",
        "        loss_batch_val, acc_batch_val = criterion.forward(batch, model, train = False)\n",
        "        loss_ep_val += loss_batch_val.item()\n",
        "        acc_ep_val += acc_batch_val\n",
        "    \n",
        "    loss_val.append((loss_ep_val)/len(valLoader))\n",
        "    acc_val.append((acc_ep_val)/len(valLoader))\n",
        "    print(\"epoch : \", epoch, \"  train loss : \", loss_tr[epoch], 'train acc : ', acc_tr[epoch], \"    val loss : \", loss_val[epoch], 'val acc : ', acc_val[epoch])\n"
      ]
    },
    {
      "cell_type": "markdown",
      "source": [
        "result save and plot"
      ],
      "metadata": {
        "id": "EyYjI6wY4bew"
      }
    },
    {
      "cell_type": "code",
      "source": [
        "import pandas as pd\n",
        "col = ['loss_tr','loss_val','acc_tr','acc_val']\n",
        "data = np.array([loss_tr,\n",
        "                 loss_val,\n",
        "                 acc_tr,\n",
        "                 acc_val])\n",
        "print(data.shape)\n",
        "data = np.transpose(data)\n",
        "df = pd.DataFrame(data = data, columns= col)\n",
        "df.to_excel('CHB_100Hz_(20,0.75,0.75).xlsx', index = False)"
      ],
      "metadata": {
        "colab": {
          "base_uri": "https://localhost:8080/"
        },
        "id": "sULgDLvm2xHe",
        "outputId": "56287348-897a-4a05-d9d1-4837cfba2b40"
      },
      "execution_count": 30,
      "outputs": [
        {
          "output_type": "stream",
          "name": "stdout",
          "text": [
            "(4, 25)\n"
          ]
        }
      ]
    },
    {
      "cell_type": "code",
      "execution_count": 31,
      "metadata": {
        "colab": {
          "base_uri": "https://localhost:8080/",
          "height": 295
        },
        "id": "yqo5atQngb6K",
        "outputId": "88c513f8-7a90-4dec-e95b-55a9b2c14989"
      },
      "outputs": [
        {
          "output_type": "display_data",
          "data": {
            "text/plain": [
              "<Figure size 432x288 with 1 Axes>"
            ],
            "image/png": "[encoded data removed]"
          },
          "metadata": {
            "needs_background": "light"
          }
        }
      ],
      "source": [
        "# plt.figure(figsize =(15, 10))\n",
        "plt.plot(range(epochs), loss_tr, color='red')\n",
        "plt.plot(range(epochs), loss_val, color='blue')\n",
        "plt.title('Model loss')\n",
        "plt.xlabel('epochs')\n",
        "plt.ylabel('loss')\n",
        "plt.legend(['Train', 'Validation'], loc='upper right')\n",
        "plt.savefig('CHB_100Hz_(20,0.75,0.75)_loss_1s.png',bbox_inches = 'tight')\n",
        "plt.show()\n"
      ]
    },
    {
      "cell_type": "code",
      "source": [
        "# plt.figure(figsize =(15, 10))\n",
        "plt.plot(range(epochs), acc_tr, color='red')\n",
        "plt.plot(range(epochs), acc_val, color='blue')\n",
        "plt.title('Model accuracy')\n",
        "plt.xlabel('epochs')\n",
        "plt.ylabel('accuracy')\n",
        "plt.legend(['Train', 'Validation'], loc='lower right')\n",
        "plt.savefig('CHB_100Hz_(20,0.75,0.75)_accuracy_1s.png',bbox_inches = 'tight')\n",
        "plt.show()"
      ],
      "metadata": {
        "colab": {
          "base_uri": "https://localhost:8080/",
          "height": 295
        },
        "id": "0qR7XCy2hPq6",
        "outputId": "52bd1c3d-0461-4602-9851-24d97a62dbe4"
      },
      "execution_count": 32,
      "outputs": [
        {
          "output_type": "display_data",
          "data": {
            "text/plain": [
              "<Figure size 432x288 with 1 Axes>"
            ],
            "image/png": "[encoded data removed]"
          },
          "metadata": {
            "needs_background": "light"
          }
        }
      ]
    },
    {
      "cell_type": "markdown",
      "source": [],
      "metadata": {
        "id": "WaNXMjTxw00n"
      }
    },
    {
      "cell_type": "code",
      "source": [
        "def predict( batch, encoder):\n",
        "  x, y = augmented_data(batch,window = 15 , a= 0.75, b = 0, c = 0.75, d= 1.5)\n",
        "  c,t = x.shape\n",
        "  # print('bj',x.shape)\n",
        "  x = np.reshape(x,(c,1,t))\n",
        "      \n",
        "  rept = encoder.forward(torch.Tensor(x).to(device))\n",
        "  \n",
        "  rept = rept.cpu().detach().numpy()\n",
        "  \n",
        "  return rept, y"
      ],
      "metadata": {
        "id": "Rfan6lmcETiJ"
      },
      "execution_count": 33,
      "outputs": []
    },
    {
      "cell_type": "code",
      "source": [],
      "metadata": {
        "id": "y0JvLVvsMF8E"
      },
      "execution_count": null,
      "outputs": []
    },
    {
      "cell_type": "code",
      "source": [
        "Y_hat = []\n",
        "Y = []\n",
        "for batch_idx, batch in enumerate(testLoader):\n",
        "  y_hat,y = predict(batch, encoder = model)\n",
        "\n",
        "  Y_hat.extend(y_hat)\n",
        "  Y.extend(y)"
      ],
      "metadata": {
        "colab": {
          "base_uri": "https://localhost:8080/"
        },
        "id": "pNWFDYC5ETkc",
        "outputId": "7368519a-d1f0-4ac4-dc3e-c66a59d8d92d"
      },
      "execution_count": 34,
      "outputs": [
        {
          "output_type": "stream",
          "name": "stderr",
          "text": [
            "/usr/local/lib/python3.7/dist-packages/ipykernel_launcher.py:57: UserWarning: Implicit dimension choice for softmax has been deprecated. Change the call to include dim=X as an argument.\n"
          ]
        }
      ]
    },
    {
      "cell_type": "code",
      "source": [
        "Y_hat = np.array(Y_hat)\n",
        "print(Y_hat.shape)\n",
        "\n",
        "Y = np.array(Y)\n",
        "print(Y.shape)"
      ],
      "metadata": {
        "colab": {
          "base_uri": "https://localhost:8080/"
        },
        "id": "QRqwmpbFETmz",
        "outputId": "840cbb76-378c-4c7d-e54a-7f5edb8ae8ff"
      },
      "execution_count": 35,
      "outputs": [
        {
          "output_type": "stream",
          "name": "stdout",
          "text": [
            "(37628, 4)\n",
            "(37628, 4)\n"
          ]
        }
      ]
    },
    {
      "cell_type": "code",
      "source": [
        "Y_tensor = torch.Tensor(Y)\n",
        "_, Y_tensor =  torch.max(Y_tensor, 1) \n",
        "Y_hat_tensor = torch.Tensor(Y_hat)\n",
        "\n",
        "\n",
        "_, predicted = torch.max(Y_hat_tensor, 1) \n",
        "# print(predicted.shape)\n",
        "# print(y.shape)\n",
        "print(predicted.shape)\n",
        "correct = (predicted == Y_tensor).sum().item()\n",
        "wrong = len(Y) - correct"
      ],
      "metadata": {
        "colab": {
          "base_uri": "https://localhost:8080/"
        },
        "id": "UrcDupeXEhT6",
        "outputId": "5ce64cc0-ab2e-4539-c9e5-47d4a0f51813"
      },
      "execution_count": 36,
      "outputs": [
        {
          "output_type": "stream",
          "name": "stdout",
          "text": [
            "torch.Size([37628])\n"
          ]
        }
      ]
    },
    {
      "cell_type": "code",
      "source": [
        "correct, wrong\n"
      ],
      "metadata": {
        "colab": {
          "base_uri": "https://localhost:8080/"
        },
        "id": "h4Rf4k1kElB1",
        "outputId": "c12160e6-6de3-424c-9540-e9941f32322e"
      },
      "execution_count": 37,
      "outputs": [
        {
          "output_type": "execute_result",
          "data": {
            "text/plain": [
              "(31296, 6332)"
            ]
          },
          "metadata": {},
          "execution_count": 37
        }
      ]
    },
    {
      "cell_type": "code",
      "source": [
        "print('accuracy:',correct/(correct + wrong))\n"
      ],
      "metadata": {
        "colab": {
          "base_uri": "https://localhost:8080/"
        },
        "id": "Lbqp1GEoEooj",
        "outputId": "6dea8f51-e97d-4ff0-9463-b3d3b2539dfe"
      },
      "execution_count": 38,
      "outputs": [
        {
          "output_type": "stream",
          "name": "stdout",
          "text": [
            "accuracy: 0.8317210587860104\n"
          ]
        }
      ]
    },
    {
      "cell_type": "code",
      "source": [
        "# confusion matrix 사용을 위한 라이브러리\n",
        "from sklearn.metrics import confusion_matrix\n",
        "conf_matrix = confusion_matrix(Y_tensor, predicted)\n",
        "print(conf_matrix)"
      ],
      "metadata": {
        "colab": {
          "base_uri": "https://localhost:8080/"
        },
        "id": "YxTGgCw3Eoqg",
        "outputId": "bfa2e482-deeb-40a0-8ba8-ee20450eba6c"
      },
      "execution_count": 39,
      "outputs": [
        {
          "output_type": "stream",
          "name": "stdout",
          "text": [
            "[[6313  799 1276 1019]\n",
            " [  31 9376    0    0]\n",
            " [1629    1 6828  949]\n",
            " [ 384    1  243 8779]]\n"
          ]
        }
      ]
    },
    {
      "cell_type": "code",
      "source": [
        "#one-hot encoding\n",
        "      # original = [1,0,0,0]\n",
        "      # s_maf = [0,1,0,0]\n",
        "      # s_asln = [0,0,1,0]\n",
        "      # s_apn = [0,0,0,1]\n",
        "\n",
        "title = 'confusion matrix'\n",
        "cmap=plt.cm.Greens\n",
        "plt.figure(figsize=(6, 6))\n",
        "plt.imshow(conf_matrix, interpolation='nearest', cmap=cmap)  # , cmap=plt.cm.Greens\n",
        "plt.title(title, size=12)\n",
        "plt.colorbar(fraction=0.05, pad=0.05)\n",
        "tick_marks = np.arange(4, 4)\n",
        "plt.xticks(np.arange(4), ('raw','stationary','trendstationary','cyclostationary'))\n",
        "plt.yticks(np.arange(4), ('raw','stationary','trendstationary','cyclostationary'))\n",
        "\n",
        "\n",
        "fmt = 'd' \n",
        "thresh = 1\n",
        "for i in range(conf_matrix.shape[0]):\n",
        "    for j in range(conf_matrix.shape[1]):\n",
        "        plt.text(j, i, format(conf_matrix[i, j], fmt),\n",
        "                 ha=\"center\", va=\"center\", color=\"black\" if conf_matrix[i, j] > thresh else \"black\")  #horizontalalignment\n",
        "plt.savefig('Sleepedf+MASS_confusionmatrix_10s',bbox_inches = 'tight')"
      ],
      "metadata": {
        "colab": {
          "base_uri": "https://localhost:8080/",
          "height": 367
        },
        "id": "RY-fejrFEwVN",
        "outputId": "e0471700-4213-4254-bfb0-200901fc5a09"
      },
      "execution_count": 40,
      "outputs": [
        {
          "output_type": "display_data",
          "data": {
            "text/plain": [
              "<Figure size 432x432 with 2 Axes>"
            ],
            "image/png": "[encoded data removed]"
          },
          "metadata": {
            "needs_background": "light"
          }
        }
      ]
    },
    {
      "cell_type": "code",
      "source": [],
      "metadata": {
        "id": "d05WIT_LEosi"
      },
      "execution_count": null,
      "outputs": []
    },
    {
      "cell_type": "code",
      "source": [
        "torch.cuda.empty_cache() # GPU 캐시 데이터 삭제"
      ],
      "metadata": {
        "id": "n2HeGrHBwziU"
      },
      "execution_count": 44,
      "outputs": []
    },
    {
      "cell_type": "code",
      "source": [
        "rept_train = []\n",
        "for batch_idx, batch in enumerate(trainLoader):\n",
        "  b,c,t = batch.shape\n",
        "  batch = np.reshape(batch,(int(b*c),1,t))\n",
        "  rept = model.embedding(torch.Tensor(batch.float()).to(device))\n",
        "  rept = rept.cpu().detach().numpy()\n",
        "  # rept = model.embedding(batch.float())\n",
        "  # rept = model.embedding(torch.Tensor(batch)\n",
        "  rept = np.reshape(rept,(b,c,64,t))\n",
        "  print('rept:',rept.shape)\n",
        "  rept_train.extend(rept)"
      ],
      "metadata": {
        "colab": {
          "base_uri": "https://localhost:8080/"
        },
        "id": "H_QcYyOIynMY",
        "outputId": "7ae2ec97-66f2-4e51-b1ef-4226f7e2c3a5"
      },
      "execution_count": 45,
      "outputs": [
        {
          "output_type": "stream",
          "name": "stdout",
          "text": [
            "rept: (128, 23, 64, 200)\n",
            "rept: (128, 23, 64, 200)\n",
            "rept: (128, 23, 64, 200)\n",
            "rept: (128, 23, 64, 200)\n",
            "rept: (128, 23, 64, 200)\n",
            "rept: (128, 23, 64, 200)\n",
            "rept: (128, 23, 64, 200)\n",
            "rept: (128, 23, 64, 200)\n",
            "rept: (128, 23, 64, 200)\n",
            "rept: (128, 23, 64, 200)\n",
            "rept: (128, 23, 64, 200)\n",
            "rept: (128, 23, 64, 200)\n",
            "rept: (128, 23, 64, 200)\n",
            "rept: (128, 23, 64, 200)\n",
            "rept: (128, 23, 64, 200)\n",
            "rept: (128, 23, 64, 200)\n",
            "rept: (128, 23, 64, 200)\n",
            "rept: (128, 23, 64, 200)\n",
            "rept: (128, 23, 64, 200)\n",
            "rept: (128, 23, 64, 200)\n",
            "rept: (128, 23, 64, 200)\n",
            "rept: (128, 23, 64, 200)\n",
            "rept: (128, 23, 64, 200)\n",
            "rept: (128, 23, 64, 200)\n",
            "rept: (128, 23, 64, 200)\n",
            "rept: (66, 23, 64, 200)\n"
          ]
        }
      ]
    },
    {
      "cell_type": "code",
      "source": [
        "rept_train = np.array(rept_train)\n",
        "print(rept_train.shape)"
      ],
      "metadata": {
        "colab": {
          "base_uri": "https://localhost:8080/"
        },
        "id": "AiA6DYcxzj-F",
        "outputId": "0ee01879-8fec-4383-f0b0-bca0ae5af536"
      },
      "execution_count": 46,
      "outputs": [
        {
          "output_type": "stream",
          "name": "stdout",
          "text": [
            "(3266, 23, 64, 200)\n"
          ]
        }
      ]
    },
    {
      "cell_type": "code",
      "source": [
        "rept_val = []\n",
        "for batch_idx, batch in enumerate(valLoader):\n",
        "  b,c,t = batch.shape\n",
        "  batch = np.reshape(batch,(int(b*c),1,t))\n",
        "  rept = model.embedding(torch.Tensor(batch.float()).to(device))\n",
        "  rept = rept.cpu().detach().numpy()\n",
        "  # rept = model.embedding(batch.float())\n",
        "  # rept = model.embedding(torch.Tensor(batch))\n",
        "  rept = np.reshape(rept,(b,c,64,t))\n",
        "  print('rept:',rept.shape)\n",
        "  rept_val.extend(rept)"
      ],
      "metadata": {
        "colab": {
          "base_uri": "https://localhost:8080/"
        },
        "id": "CyvyiFrE0nLS",
        "outputId": "3140479b-92dd-4089-d9ad-49c779190992"
      },
      "execution_count": 47,
      "outputs": [
        {
          "output_type": "stream",
          "name": "stdout",
          "text": [
            "rept: (128, 23, 64, 200)\n",
            "rept: (128, 23, 64, 200)\n",
            "rept: (128, 23, 64, 200)\n",
            "rept: (24, 23, 64, 200)\n"
          ]
        }
      ]
    },
    {
      "cell_type": "code",
      "source": [
        "rept_val = np.array(rept_val)\n",
        "print(rept_val.shape)"
      ],
      "metadata": {
        "colab": {
          "base_uri": "https://localhost:8080/"
        },
        "id": "IgFFa2F00uU9",
        "outputId": "c860a1e7-0d60-41ef-a682-0c09d04ffc47"
      },
      "execution_count": 48,
      "outputs": [
        {
          "output_type": "stream",
          "name": "stdout",
          "text": [
            "(408, 23, 64, 200)\n"
          ]
        }
      ]
    },
    {
      "cell_type": "code",
      "source": [
        "rept_test = []\n",
        "for batch_idx, batch in enumerate(testLoader):\n",
        "  b,c,t = batch.shape\n",
        "  batch = np.reshape(batch,(int(b*c),1,t))\n",
        "  rept = model.embedding(torch.Tensor(batch.float()).to(device))\n",
        "  rept = rept.cpu().detach().numpy()\n",
        "  # rept = model.embedding(batch.float())\n",
        "  # rept = model.embedding(torch.Tensor(batch))\n",
        "  rept = np.reshape(rept,(b,c,64,t))\n",
        "  print('rept:',rept.shape)\n",
        "  rept_test.extend(rept)"
      ],
      "metadata": {
        "colab": {
          "base_uri": "https://localhost:8080/"
        },
        "id": "0kroIHuG041E",
        "outputId": "34858124-3630-4f16-ac58-d2cd6bbfcee2"
      },
      "execution_count": 49,
      "outputs": [
        {
          "output_type": "stream",
          "name": "stdout",
          "text": [
            "rept: (128, 23, 64, 200)\n",
            "rept: (128, 23, 64, 200)\n",
            "rept: (128, 23, 64, 200)\n",
            "rept: (25, 23, 64, 200)\n"
          ]
        }
      ]
    },
    {
      "cell_type": "code",
      "source": [
        "rept_test = np.array(rept_test)\n",
        "print(rept_test.shape)"
      ],
      "metadata": {
        "colab": {
          "base_uri": "https://localhost:8080/"
        },
        "id": "KUVkLGco1Ea_",
        "outputId": "10c1d1a0-b391-4b83-b716-e7a05a63c2e0"
      },
      "execution_count": 50,
      "outputs": [
        {
          "output_type": "stream",
          "name": "stdout",
          "text": [
            "(409, 23, 64, 200)\n"
          ]
        }
      ]
    },
    {
      "cell_type": "code",
      "source": [
        "GAP_tr = np.transpose(rept_train,(0,2,1,3))\n",
        "print(GAP_tr .shape)\n",
        "GAP_tr  = torch.tensor(GAP_tr )\n",
        "GAP_tr  = torch.mean(GAP_tr ,2)\n",
        "print(GAP_tr .shape)\n",
        "GAP_tr  = torch.mean(GAP_tr ,2)\n",
        "print(GAP_tr .shape)"
      ],
      "metadata": {
        "colab": {
          "base_uri": "https://localhost:8080/"
        },
        "id": "M4Z_-ayy4i2G",
        "outputId": "b31c64a3-9207-42cb-852d-58848dc2754a"
      },
      "execution_count": 51,
      "outputs": [
        {
          "output_type": "stream",
          "name": "stdout",
          "text": [
            "(3266, 64, 23, 200)\n",
            "torch.Size([3266, 64, 200])\n",
            "torch.Size([3266, 64])\n"
          ]
        }
      ]
    },
    {
      "cell_type": "code",
      "source": [
        "def GAP(x):\n",
        "  a = np.transpose(x,(0,2,1,3))\n",
        "  a = torch.tensor(a)\n",
        "  a = torch.mean(a,2)\n",
        "  a = torch.mean(a,2)\n",
        "  return a"
      ],
      "metadata": {
        "id": "6Vj50U-A4MoK"
      },
      "execution_count": 52,
      "outputs": []
    },
    {
      "cell_type": "code",
      "source": [
        "np.save('GAP_rept_train_(20,0.75,0.75).npy',GAP(rept_train))\n",
        "np.save('GAP_rept_val_(20,0.75,0.75).npy',GAP(rept_val))\n",
        "np.save('GAP_rept_test_(20,0.75,0.75).npy',GAP(rept_test))"
      ],
      "metadata": {
        "id": "jzVEeTDF2CM2"
      },
      "execution_count": 53,
      "outputs": []
    },
    {
      "cell_type": "code",
      "source": [
        "torch.save(model,'Temporal_(15,0.75,0.75)_200Hz.pt')"
      ],
      "metadata": {
        "id": "SKq8oqGJ9vrw"
      },
      "execution_count": 54,
      "outputs": []
    },
    {
      "cell_type": "code",
      "source": [
        "torch.save(model.state_dict(),'Temporal_(15,0.75,0.75)_200Hz_stat_dict.pt')"
      ],
      "metadata": {
        "id": "JsweOxDn-nS_"
      },
      "execution_count": 42,
      "outputs": []
    },
    {
      "cell_type": "code",
      "source": [
        "model2 = torch.load('/content/Temporal_(20,0.5,0.5).pt')"
      ],
      "metadata": {
        "id": "6cvklltt-ve-"
      },
      "execution_count": 55,
      "outputs": []
    },
    {
      "cell_type": "code",
      "source": [
        "print(model2)"
      ],
      "metadata": {
        "colab": {
          "base_uri": "https://localhost:8080/"
        },
        "id": "a_18r_l_-4o5",
        "outputId": "9d6aea9b-c19c-45c1-caec-8a95cffda025"
      },
      "execution_count": 58,
      "outputs": [
        {
          "output_type": "stream",
          "name": "stdout",
          "text": [
            "feature_extractor3(\n",
            "  (activation): LeakyReLU(negative_slope=0.01)\n",
            "  (bn): BatchNorm1d(1, eps=1e-05, momentum=0.1, affine=True, track_running_stats=True)\n",
            "  (softmax): Softmax(dim=None)\n",
            "  (conv1t): Conv1d(1, 10, kernel_size=(30,), stride=(1,), padding=same)\n",
            "  (conv1s): Conv1d(10, 10, kernel_size=(1,), stride=(1,))\n",
            "  (conv2t): Conv1d(10, 20, kernel_size=(15,), stride=(1,), padding=same)\n",
            "  (conv2s): Conv1d(20, 20, kernel_size=(1,), stride=(1,))\n",
            "  (conv3t): Conv1d(20, 34, kernel_size=(5,), stride=(1,), padding=same)\n",
            "  (conv3s): Conv1d(34, 34, kernel_size=(1,), stride=(1,))\n",
            "  (flatten): Flatten(start_dim=1, end_dim=-1)\n",
            "  (dropout): Dropout(p=0.5, inplace=False)\n",
            "  (Linear): Linear(in_features=6400, out_features=4, bias=True)\n",
            ")\n"
          ]
        }
      ]
    },
    {
      "cell_type": "code",
      "source": [
        "model1 = torch.load('/content/Temporal_(20,0.5,0.5)_stat_dict.pt')"
      ],
      "metadata": {
        "id": "5TJ0tqlB_BKD"
      },
      "execution_count": 56,
      "outputs": []
    },
    {
      "cell_type": "code",
      "source": [
        "print(model1)"
      ],
      "metadata": {
        "colab": {
          "base_uri": "https://localhost:8080/"
        },
        "id": "naasfkrR_F0i",
        "outputId": "8f9d688a-1e2d-4dba-c277-6bdbf16d9acc"
      },
      "execution_count": 57,
      "outputs": [
        {
          "output_type": "stream",
          "name": "stdout",
          "text": [
            "OrderedDict([('bn.weight', tensor([1.0369], device='cuda:0')), ('bn.bias', tensor([-0.0030], device='cuda:0')), ('bn.running_mean', tensor([0.0033], device='cuda:0')), ('bn.running_var', tensor([0.7601], device='cuda:0')), ('bn.num_batches_tracked', tensor(394, device='cuda:0')), ('conv1t.weight', tensor([[[ 6.0133e-02,  1.4535e-02, -1.0721e-01, -1.1851e-01,  8.3008e-02,\n",
            "          -2.0898e-01, -6.0504e-02, -1.1271e-01, -5.3382e-02, -4.1050e-04,\n",
            "          -3.3932e-02, -1.3404e-01, -8.7082e-02, -1.2835e-01, -1.0662e-01,\n",
            "          -1.5705e-01, -1.6466e-01, -4.5351e-02,  3.7885e-02,  5.1823e-02,\n",
            "          -2.1917e-03,  1.1939e-01,  1.6786e-02, -5.5675e-02, -6.2087e-03,\n",
            "           1.1556e-01, -1.8758e-01,  7.7098e-02,  2.8976e-02, -1.7761e-01]],\n",
            "\n",
            "        [[ 2.2523e-01,  2.2082e-01,  2.2530e-01, -5.1540e-02, -3.9795e-02,\n",
            "           4.7824e-04,  1.7888e-01, -6.3165e-03,  7.9118e-04,  1.6774e-01,\n",
            "           7.0141e-02, -2.4594e-02, -1.3877e-02,  1.8743e-01, -1.5754e-01,\n",
            "           1.7917e-01, -8.5309e-02, -6.3665e-03, -1.5573e-01, -6.8958e-02,\n",
            "           1.3869e-01, -1.0049e-03,  5.3952e-02, -4.8129e-02,  6.4577e-02,\n",
            "           7.6926e-02, -7.5046e-02,  2.0637e-01,  4.5786e-02,  2.2134e-01]],\n",
            "\n",
            "        [[ 7.2353e-03, -9.2740e-02, -8.5353e-02, -1.3346e-01, -1.6957e-01,\n",
            "           3.1413e-02,  8.8511e-02, -7.4246e-02, -1.9617e-01, -4.5413e-02,\n",
            "           1.5836e-02, -1.5427e-01, -2.2214e-02,  4.4600e-02,  7.8372e-02,\n",
            "          -1.9207e-01, -1.8650e-01,  4.2463e-02, -1.4994e-01, -1.7639e-01,\n",
            "          -9.7039e-02, -1.3912e-01, -2.8204e-02,  8.6919e-02, -1.6460e-01,\n",
            "          -1.3639e-02, -1.6663e-01,  8.9374e-02, -1.1879e-01, -2.1089e-01]],\n",
            "\n",
            "        [[ 1.4134e-01, -1.7637e-02,  2.0200e-01,  1.9316e-01,  1.5033e-01,\n",
            "          -3.5108e-02, -1.1608e-01, -1.0987e-01, -5.5416e-02, -1.5445e-02,\n",
            "           1.1304e-01, -1.2550e-01, -1.3484e-01,  1.2430e-02, -7.2113e-02,\n",
            "           3.1014e-02, -3.0367e-02,  4.2985e-02,  1.8739e-02, -2.4179e-02,\n",
            "          -9.3095e-02, -2.3362e-02,  1.1040e-01, -7.2851e-02,  8.1615e-02,\n",
            "           3.6610e-02, -7.0913e-03, -2.0689e-01,  4.7797e-02, -1.3874e-01]],\n",
            "\n",
            "        [[-1.5699e-02,  3.0569e-02, -5.5847e-02, -1.1544e-01, -2.0248e-02,\n",
            "          -7.1385e-02,  1.6996e-01,  1.3250e-01, -5.9251e-02,  3.3268e-02,\n",
            "           8.2533e-02,  1.3392e-01,  1.3619e-01,  1.6358e-01,  6.9055e-02,\n",
            "           1.0632e-01,  1.8601e-01,  1.1939e-01, -5.0929e-02,  1.6215e-01,\n",
            "           5.4095e-02, -8.3684e-03, -4.3955e-02,  1.0594e-01, -1.3798e-01,\n",
            "          -1.1690e-01,  3.5335e-02, -1.1792e-01,  1.8115e-01,  1.0581e-01]],\n",
            "\n",
            "        [[-6.7923e-03, -1.4386e-02,  2.3856e-01,  1.4156e-01,  7.9737e-02,\n",
            "           3.1980e-02,  3.5312e-02,  1.1920e-01, -2.0105e-02,  1.3760e-01,\n",
            "          -9.4429e-03,  1.1491e-01,  3.6469e-02,  5.2931e-02,  2.0428e-01,\n",
            "           7.3294e-02,  1.1360e-01, -4.5078e-03,  1.0600e-01, -9.8989e-02,\n",
            "           2.4193e-02,  1.9080e-01, -1.3166e-02,  1.7431e-01,  1.2979e-01,\n",
            "           1.7373e-02,  6.9420e-02,  1.8276e-01,  1.5964e-01, -2.2312e-02]],\n",
            "\n",
            "        [[-1.1503e-01, -8.0843e-02, -1.5269e-02, -1.6092e-01, -1.4062e-01,\n",
            "          -1.7576e-01, -3.8129e-02, -2.8697e-04, -7.7695e-02,  9.7535e-02,\n",
            "          -2.3362e-02,  1.0346e-01,  1.1695e-01,  1.1622e-01, -5.1065e-03,\n",
            "          -4.8908e-02, -1.3746e-02,  5.1927e-02, -9.5737e-02, -1.1748e-01,\n",
            "          -1.2567e-01, -8.4137e-02, -2.0428e-02,  2.7767e-02, -2.1570e-02,\n",
            "          -5.6277e-02,  7.2736e-02,  5.9752e-02,  8.7568e-02, -2.2819e-02]],\n",
            "\n",
            "        [[-1.1146e-02, -1.7882e-01, -1.4410e-04,  5.0327e-02, -1.1178e-01,\n",
            "           4.9523e-02, -1.1601e-01, -4.1093e-02,  1.5415e-02, -9.5940e-02,\n",
            "           1.6485e-01, -1.1170e-01,  1.5640e-01,  3.3688e-02,  1.7741e-01,\n",
            "          -9.6009e-02,  9.0742e-02,  8.1176e-02, -1.4229e-01, -1.2442e-01,\n",
            "          -1.1735e-01, -1.8675e-01,  3.4984e-02, -1.9530e-01, -3.4156e-02,\n",
            "          -6.7581e-02,  4.4363e-02, -2.1185e-01,  1.3975e-02, -2.3965e-01]],\n",
            "\n",
            "        [[ 1.9952e-01, -6.6413e-02, -8.4960e-02,  4.4382e-02, -5.7208e-02,\n",
            "          -1.1498e-01, -1.1285e-01,  5.2958e-02,  1.9585e-02, -1.3350e-01,\n",
            "          -9.2674e-02,  8.7712e-02,  1.2431e-01,  1.5220e-01,  1.4563e-01,\n",
            "          -1.7918e-02,  1.8145e-01, -6.0798e-02, -6.2005e-02,  8.7122e-02,\n",
            "           1.0617e-01,  1.1863e-01, -2.3567e-02,  1.4985e-02,  8.1124e-02,\n",
            "          -6.7724e-02,  6.8492e-03,  1.0791e-01,  1.8270e-02,  1.7699e-01]],\n",
            "\n",
            "        [[-7.2215e-02, -7.1042e-02, -1.7950e-01, -1.4869e-01, -1.5790e-02,\n",
            "           1.1340e-01,  2.0627e-02,  7.1200e-03,  9.9896e-02, -8.2297e-02,\n",
            "           5.3235e-02, -1.2347e-01, -8.6292e-02, -9.1339e-02, -1.2088e-01,\n",
            "          -1.2966e-01,  8.8855e-02, -3.3958e-02, -3.9436e-02, -1.8885e-02,\n",
            "          -4.6144e-02,  1.7739e-02, -1.9801e-02, -1.4583e-01, -1.0235e-01,\n",
            "          -1.5635e-01, -1.4294e-02, -8.2371e-02, -2.9753e-02, -2.7975e-02]]],\n",
            "       device='cuda:0')), ('conv1t.bias', tensor([-0.1410,  0.1053, -0.1303,  0.0263, -0.0902, -0.0947, -0.0040,  0.1683,\n",
            "         0.1409,  0.1057], device='cuda:0')), ('conv1s.weight', tensor([[[ 0.1429],\n",
            "         [-0.2733],\n",
            "         [-0.0531],\n",
            "         [ 0.0163],\n",
            "         [-0.1724],\n",
            "         [ 0.0682],\n",
            "         [-0.1499],\n",
            "         [-0.2473],\n",
            "         [ 0.2370],\n",
            "         [-0.0105]],\n",
            "\n",
            "        [[-0.0256],\n",
            "         [ 0.3270],\n",
            "         [-0.1548],\n",
            "         [ 0.2133],\n",
            "         [-0.3088],\n",
            "         [ 0.2584],\n",
            "         [ 0.2267],\n",
            "         [ 0.1438],\n",
            "         [ 0.1542],\n",
            "         [-0.3368]],\n",
            "\n",
            "        [[-0.0629],\n",
            "         [-0.1018],\n",
            "         [-0.2161],\n",
            "         [ 0.1674],\n",
            "         [ 0.2387],\n",
            "         [ 0.2739],\n",
            "         [ 0.0407],\n",
            "         [ 0.1022],\n",
            "         [ 0.1207],\n",
            "         [ 0.2231]],\n",
            "\n",
            "        [[ 0.3186],\n",
            "         [-0.1679],\n",
            "         [ 0.0764],\n",
            "         [-0.1415],\n",
            "         [ 0.2000],\n",
            "         [-0.3091],\n",
            "         [ 0.1526],\n",
            "         [ 0.3201],\n",
            "         [ 0.1404],\n",
            "         [-0.0618]],\n",
            "\n",
            "        [[ 0.2185],\n",
            "         [-0.1500],\n",
            "         [ 0.2448],\n",
            "         [-0.2117],\n",
            "         [-0.1740],\n",
            "         [ 0.0143],\n",
            "         [ 0.3077],\n",
            "         [ 0.0547],\n",
            "         [ 0.0084],\n",
            "         [-0.2384]],\n",
            "\n",
            "        [[-0.0097],\n",
            "         [-0.2213],\n",
            "         [-0.3237],\n",
            "         [-0.1173],\n",
            "         [ 0.2651],\n",
            "         [-0.2324],\n",
            "         [-0.2076],\n",
            "         [ 0.2599],\n",
            "         [-0.1595],\n",
            "         [-0.1088]],\n",
            "\n",
            "        [[ 0.1753],\n",
            "         [ 0.2787],\n",
            "         [ 0.2912],\n",
            "         [ 0.1189],\n",
            "         [-0.0767],\n",
            "         [ 0.0171],\n",
            "         [-0.1431],\n",
            "         [-0.0087],\n",
            "         [ 0.0476],\n",
            "         [-0.1343]],\n",
            "\n",
            "        [[ 0.1764],\n",
            "         [ 0.3000],\n",
            "         [ 0.0435],\n",
            "         [ 0.0854],\n",
            "         [-0.2298],\n",
            "         [ 0.0596],\n",
            "         [-0.0381],\n",
            "         [-0.2537],\n",
            "         [-0.2055],\n",
            "         [-0.2586]],\n",
            "\n",
            "        [[-0.3555],\n",
            "         [ 0.2365],\n",
            "         [-0.2594],\n",
            "         [-0.2073],\n",
            "         [ 0.3202],\n",
            "         [ 0.2398],\n",
            "         [-0.3126],\n",
            "         [ 0.0910],\n",
            "         [ 0.0945],\n",
            "         [-0.2926]],\n",
            "\n",
            "        [[-0.1418],\n",
            "         [ 0.0348],\n",
            "         [-0.2246],\n",
            "         [ 0.3012],\n",
            "         [-0.1673],\n",
            "         [-0.2347],\n",
            "         [ 0.0860],\n",
            "         [-0.0954],\n",
            "         [ 0.0882],\n",
            "         [-0.0011]]], device='cuda:0')), ('conv1s.bias', tensor([ 0.2258,  0.1486,  0.0706,  0.1421,  0.0550,  0.2981, -0.0394,  0.0770,\n",
            "         0.0136,  0.2430], device='cuda:0')), ('conv2t.weight', tensor([[[-1.0008e-01, -1.2841e-01, -5.1463e-02,  ..., -4.0807e-02,\n",
            "          -7.2162e-02,  5.3781e-03],\n",
            "         [ 1.8675e-02,  3.3342e-02,  1.8920e-02,  ...,  9.1495e-02,\n",
            "           1.0854e-01,  1.8250e-02],\n",
            "         [-4.9929e-02,  6.7793e-03, -9.8107e-02,  ...,  4.1481e-02,\n",
            "          -1.0765e-01, -5.2584e-02],\n",
            "         ...,\n",
            "         [ 1.2529e-03,  6.9462e-03, -1.0841e-01,  ..., -1.0935e-01,\n",
            "          -6.5889e-02, -2.8592e-02],\n",
            "         [-1.3345e-02,  5.4327e-02, -2.8188e-02,  ...,  1.5211e-02,\n",
            "           3.4744e-02,  1.3968e-02],\n",
            "         [-8.0388e-02, -5.5999e-02, -7.3599e-02,  ..., -4.4933e-02,\n",
            "          -1.0105e-01, -1.4705e-01]],\n",
            "\n",
            "        [[-8.2136e-02, -5.2006e-02, -1.0180e-01,  ..., -1.2319e-02,\n",
            "          -7.3144e-02, -1.0558e-02],\n",
            "         [ 4.2088e-02,  9.0778e-02,  1.6238e-02,  ...,  2.7033e-02,\n",
            "           9.1691e-03,  3.5149e-03],\n",
            "         [-1.0986e-01,  1.1299e-04,  2.1934e-02,  ..., -1.1814e-02,\n",
            "          -5.1470e-02,  4.6784e-02],\n",
            "         ...,\n",
            "         [-5.1436e-02,  1.3503e-02, -8.0599e-02,  ...,  5.7118e-02,\n",
            "           4.8661e-03, -1.5785e-02],\n",
            "         [ 7.2238e-02,  6.9924e-02,  7.4350e-02,  ...,  1.4907e-02,\n",
            "          -6.8981e-03,  2.5112e-02],\n",
            "         [ 3.0141e-02, -1.0318e-02, -4.3007e-02,  ...,  6.0662e-02,\n",
            "          -3.3844e-03, -5.5379e-03]],\n",
            "\n",
            "        [[-4.7578e-02,  2.7602e-02, -4.0917e-02,  ...,  6.5499e-02,\n",
            "          -1.0258e-02,  4.5194e-02],\n",
            "         [ 8.3799e-02,  8.2706e-02,  7.6893e-02,  ...,  1.0283e-01,\n",
            "           3.9882e-02,  2.6534e-02],\n",
            "         [ 2.4530e-02, -1.1377e-01, -7.0608e-02,  ..., -1.7691e-02,\n",
            "          -1.0137e-01, -7.4325e-02],\n",
            "         ...,\n",
            "         [-1.3073e-01, -4.5772e-02, -8.7361e-02,  ..., -1.3043e-01,\n",
            "          -6.2518e-02, -7.5252e-02],\n",
            "         [ 8.9688e-02, -3.6139e-02,  8.7528e-02,  ...,  7.3782e-03,\n",
            "           1.0476e-01, -3.4832e-02],\n",
            "         [-3.2798e-02, -6.8147e-02,  2.8718e-02,  ..., -1.4204e-01,\n",
            "          -1.1110e-01, -8.1256e-02]],\n",
            "\n",
            "        ...,\n",
            "\n",
            "        [[ 3.5922e-02, -5.4748e-02, -4.8831e-02,  ...,  3.9067e-02,\n",
            "          -1.1929e-02, -4.4734e-02],\n",
            "         [ 6.0472e-03,  1.0051e-01,  5.3960e-02,  ...,  6.7640e-02,\n",
            "           1.8481e-02, -3.8195e-02],\n",
            "         [-1.4692e-02, -8.1517e-02, -3.8156e-02,  ..., -1.0420e-02,\n",
            "          -5.5054e-02, -9.6802e-02],\n",
            "         ...,\n",
            "         [-1.1051e-01, -1.1058e-01, -1.0238e-01,  ..., -4.2573e-02,\n",
            "          -3.8223e-02, -3.9757e-02],\n",
            "         [ 4.9894e-02, -9.5680e-03, -6.7938e-02,  ...,  6.5002e-02,\n",
            "           1.0723e-01,  5.3987e-02],\n",
            "         [-1.1914e-01, -3.4844e-02, -8.7460e-02,  ..., -4.7832e-02,\n",
            "          -1.3145e-01, -1.0399e-01]],\n",
            "\n",
            "        [[-6.1692e-02,  4.1553e-02,  1.3830e-02,  ...,  3.9833e-02,\n",
            "          -5.4516e-02,  8.7254e-02],\n",
            "         [-7.6674e-02, -7.5360e-02, -2.4350e-02,  ..., -1.2520e-01,\n",
            "          -1.2709e-01, -5.1142e-02],\n",
            "         [ 5.3227e-02,  1.4796e-02, -3.3317e-02,  ..., -3.2803e-03,\n",
            "           6.2881e-02,  2.2325e-02],\n",
            "         ...,\n",
            "         [ 1.2385e-02,  4.6463e-02,  3.8799e-02,  ..., -3.5253e-02,\n",
            "           4.8481e-02,  8.2834e-02],\n",
            "         [-4.0604e-02, -7.1282e-02,  2.9793e-02,  ..., -5.2399e-02,\n",
            "          -1.2883e-01, -6.1176e-02],\n",
            "         [-5.0187e-02,  1.1490e-02,  5.9511e-02,  ..., -3.2458e-03,\n",
            "           2.8415e-02, -9.5659e-03]],\n",
            "\n",
            "        [[-6.1562e-02,  8.1002e-02,  4.8557e-03,  ...,  3.9047e-02,\n",
            "           4.8584e-02, -2.1992e-02],\n",
            "         [ 1.8168e-02,  2.9795e-02,  1.9351e-02,  ..., -6.2797e-03,\n",
            "          -4.7045e-03,  1.6309e-02],\n",
            "         [ 2.8813e-03, -4.7740e-02,  4.8103e-02,  ..., -5.6937e-02,\n",
            "          -8.6614e-02, -6.2213e-02],\n",
            "         ...,\n",
            "         [ 4.1744e-02, -4.8327e-02, -3.2523e-04,  ..., -7.4840e-02,\n",
            "          -7.7024e-02,  1.7035e-02],\n",
            "         [-7.1197e-02, -6.6665e-02, -4.7055e-02,  ..., -3.2917e-02,\n",
            "          -5.8972e-02,  3.1753e-02],\n",
            "         [ 3.5838e-02, -2.9132e-02, -5.6321e-02,  ..., -4.0440e-02,\n",
            "          -4.9250e-02, -5.1144e-02]]], device='cuda:0')), ('conv2t.bias', tensor([-1.7044e-02,  1.0849e-01, -3.9538e-02,  5.5134e-02, -9.4260e-02,\n",
            "         3.2798e-02,  4.2952e-03, -8.4919e-03, -3.9120e-02, -2.3189e-02,\n",
            "         3.6186e-02,  7.7711e-02,  2.7526e-02, -7.1390e-06, -4.8042e-02,\n",
            "         6.3183e-02,  3.2232e-02, -1.6620e-02, -2.0216e-02, -5.7763e-02],\n",
            "       device='cuda:0')), ('conv2s.weight', tensor([[[ 1.6785e-01],\n",
            "         [ 3.9236e-03],\n",
            "         [ 2.8522e-01],\n",
            "         [ 2.4261e-01],\n",
            "         [ 2.7823e-02],\n",
            "         [ 1.0109e-01],\n",
            "         [-3.9841e-02],\n",
            "         [-9.8306e-02],\n",
            "         [-1.5849e-01],\n",
            "         [-2.1717e-01],\n",
            "         [ 1.1205e-01],\n",
            "         [ 1.0646e-01],\n",
            "         [-6.5466e-02],\n",
            "         [ 1.5048e-01],\n",
            "         [-1.7226e-02],\n",
            "         [-1.0803e-01],\n",
            "         [-1.0096e-02],\n",
            "         [ 2.3992e-01],\n",
            "         [ 1.2156e-01],\n",
            "         [-1.2125e-01]],\n",
            "\n",
            "        [[-7.8093e-02],\n",
            "         [-1.9670e-02],\n",
            "         [-1.3875e-02],\n",
            "         [-1.1014e-01],\n",
            "         [ 1.0780e-01],\n",
            "         [-2.0530e-01],\n",
            "         [-5.7328e-02],\n",
            "         [ 2.2912e-01],\n",
            "         [-2.2314e-01],\n",
            "         [-3.0917e-02],\n",
            "         [-6.6496e-02],\n",
            "         [ 8.8341e-02],\n",
            "         [-1.9911e-01],\n",
            "         [ 2.1986e-01],\n",
            "         [-4.1163e-02],\n",
            "         [ 4.7151e-02],\n",
            "         [ 8.4113e-02],\n",
            "         [-1.1795e-01],\n",
            "         [ 5.5470e-02],\n",
            "         [-8.6378e-02]],\n",
            "\n",
            "        [[-1.2546e-01],\n",
            "         [ 1.5643e-01],\n",
            "         [-9.6288e-04],\n",
            "         [-6.1056e-02],\n",
            "         [-1.8379e-01],\n",
            "         [-1.9688e-01],\n",
            "         [-2.1494e-01],\n",
            "         [ 1.5367e-01],\n",
            "         [-1.8683e-01],\n",
            "         [ 2.1896e-01],\n",
            "         [ 1.9259e-01],\n",
            "         [-3.0478e-02],\n",
            "         [-1.4366e-01],\n",
            "         [-1.8315e-01],\n",
            "         [ 2.0186e-01],\n",
            "         [ 9.2294e-02],\n",
            "         [-7.1220e-02],\n",
            "         [-1.4587e-01],\n",
            "         [ 6.0090e-02],\n",
            "         [-2.2896e-01]],\n",
            "\n",
            "        [[-7.2891e-02],\n",
            "         [-1.6385e-01],\n",
            "         [-1.9830e-01],\n",
            "         [ 1.2895e-01],\n",
            "         [-2.5634e-01],\n",
            "         [-8.7091e-02],\n",
            "         [-6.4799e-02],\n",
            "         [ 1.8759e-01],\n",
            "         [-1.3833e-01],\n",
            "         [-1.1479e-01],\n",
            "         [-4.5236e-02],\n",
            "         [ 1.3607e-01],\n",
            "         [-2.1898e-01],\n",
            "         [-1.2529e-01],\n",
            "         [ 1.2955e-01],\n",
            "         [ 1.1226e-01],\n",
            "         [-1.8641e-01],\n",
            "         [ 2.1417e-01],\n",
            "         [-7.7883e-02],\n",
            "         [-2.8992e-02]],\n",
            "\n",
            "        [[ 1.4843e-01],\n",
            "         [ 1.7711e-01],\n",
            "         [-4.6463e-02],\n",
            "         [ 1.0021e-01],\n",
            "         [ 1.3697e-01],\n",
            "         [ 2.0683e-04],\n",
            "         [ 1.2590e-01],\n",
            "         [ 6.6463e-02],\n",
            "         [-6.9409e-03],\n",
            "         [-1.6529e-01],\n",
            "         [ 1.7164e-01],\n",
            "         [-1.8480e-01],\n",
            "         [ 1.0884e-01],\n",
            "         [-1.6760e-02],\n",
            "         [-1.5565e-01],\n",
            "         [ 5.0527e-02],\n",
            "         [ 1.4736e-01],\n",
            "         [-8.4359e-02],\n",
            "         [-6.2574e-02],\n",
            "         [ 1.1178e-01]],\n",
            "\n",
            "        [[ 1.5041e-02],\n",
            "         [ 1.4522e-02],\n",
            "         [ 9.8280e-02],\n",
            "         [ 2.0950e-01],\n",
            "         [-2.2729e-01],\n",
            "         [ 8.2998e-03],\n",
            "         [ 1.8337e-01],\n",
            "         [-1.9958e-01],\n",
            "         [-1.4323e-02],\n",
            "         [-1.6496e-01],\n",
            "         [-5.9807e-02],\n",
            "         [-1.2672e-01],\n",
            "         [ 1.3519e-02],\n",
            "         [ 5.7990e-02],\n",
            "         [ 2.1610e-01],\n",
            "         [-8.2872e-02],\n",
            "         [ 1.4311e-01],\n",
            "         [ 2.1325e-01],\n",
            "         [ 8.6495e-02],\n",
            "         [ 1.4242e-02]],\n",
            "\n",
            "        [[ 2.2349e-02],\n",
            "         [ 1.2648e-01],\n",
            "         [ 1.0926e-01],\n",
            "         [-1.6119e-01],\n",
            "         [ 2.1126e-02],\n",
            "         [-1.6597e-01],\n",
            "         [ 1.5852e-01],\n",
            "         [-1.7265e-01],\n",
            "         [-1.4395e-01],\n",
            "         [ 1.3899e-01],\n",
            "         [ 1.6058e-01],\n",
            "         [ 2.4017e-01],\n",
            "         [ 2.2533e-01],\n",
            "         [ 2.1830e-01],\n",
            "         [ 1.5095e-01],\n",
            "         [ 7.2972e-02],\n",
            "         [ 4.8223e-03],\n",
            "         [ 6.2362e-03],\n",
            "         [ 1.0919e-01],\n",
            "         [-2.2083e-01]],\n",
            "\n",
            "        [[-2.2128e-01],\n",
            "         [-1.5883e-01],\n",
            "         [ 1.7257e-01],\n",
            "         [-1.7813e-01],\n",
            "         [-1.6616e-01],\n",
            "         [ 2.9928e-02],\n",
            "         [-8.7687e-02],\n",
            "         [ 1.2240e-01],\n",
            "         [-5.3893e-02],\n",
            "         [-2.1189e-03],\n",
            "         [ 1.0221e-02],\n",
            "         [ 2.3386e-01],\n",
            "         [ 1.3358e-01],\n",
            "         [-1.4217e-01],\n",
            "         [ 2.8868e-02],\n",
            "         [-7.3092e-03],\n",
            "         [ 1.2982e-01],\n",
            "         [ 1.1823e-02],\n",
            "         [ 3.2116e-02],\n",
            "         [-4.3778e-02]],\n",
            "\n",
            "        [[ 7.7439e-02],\n",
            "         [ 1.9275e-01],\n",
            "         [-1.5965e-01],\n",
            "         [ 1.2009e-01],\n",
            "         [-2.2091e-02],\n",
            "         [-4.4552e-02],\n",
            "         [ 1.7960e-01],\n",
            "         [ 1.0429e-01],\n",
            "         [-1.9528e-01],\n",
            "         [-1.8245e-01],\n",
            "         [ 1.5573e-01],\n",
            "         [ 1.7566e-02],\n",
            "         [ 1.0416e-01],\n",
            "         [-2.5331e-01],\n",
            "         [-1.8461e-01],\n",
            "         [-9.0231e-03],\n",
            "         [ 1.8692e-01],\n",
            "         [ 4.3533e-02],\n",
            "         [-2.0049e-01],\n",
            "         [ 4.7813e-02]],\n",
            "\n",
            "        [[ 4.5497e-02],\n",
            "         [ 9.6355e-02],\n",
            "         [-2.9367e-02],\n",
            "         [ 1.6197e-01],\n",
            "         [ 6.2491e-03],\n",
            "         [-2.3132e-01],\n",
            "         [-1.7425e-01],\n",
            "         [ 1.7647e-01],\n",
            "         [-2.3342e-01],\n",
            "         [ 1.7836e-01],\n",
            "         [-4.4096e-02],\n",
            "         [-1.3062e-01],\n",
            "         [-1.9690e-01],\n",
            "         [ 1.1397e-01],\n",
            "         [ 2.5081e-02],\n",
            "         [ 8.4970e-02],\n",
            "         [-6.9438e-02],\n",
            "         [-1.0727e-01],\n",
            "         [ 6.4656e-02],\n",
            "         [-1.8916e-01]],\n",
            "\n",
            "        [[-1.4027e-01],\n",
            "         [ 2.1030e-01],\n",
            "         [ 9.7209e-03],\n",
            "         [ 7.5027e-02],\n",
            "         [ 3.5367e-02],\n",
            "         [-1.1697e-01],\n",
            "         [-3.8184e-02],\n",
            "         [-1.7806e-01],\n",
            "         [-9.9170e-02],\n",
            "         [-9.0038e-02],\n",
            "         [ 3.3054e-02],\n",
            "         [ 7.4355e-02],\n",
            "         [-1.8203e-01],\n",
            "         [ 1.2208e-01],\n",
            "         [-1.6391e-01],\n",
            "         [ 8.7072e-02],\n",
            "         [ 7.1678e-02],\n",
            "         [ 1.1946e-02],\n",
            "         [-1.4104e-01],\n",
            "         [-9.3243e-02]],\n",
            "\n",
            "        [[-1.8283e-01],\n",
            "         [ 5.0520e-02],\n",
            "         [-1.6283e-01],\n",
            "         [-9.8430e-02],\n",
            "         [ 6.1258e-02],\n",
            "         [ 1.7982e-01],\n",
            "         [ 1.9887e-01],\n",
            "         [ 1.1992e-01],\n",
            "         [ 1.3990e-01],\n",
            "         [-2.1829e-01],\n",
            "         [-1.1565e-02],\n",
            "         [ 3.5131e-02],\n",
            "         [-7.1032e-02],\n",
            "         [ 2.7289e-02],\n",
            "         [-1.8924e-01],\n",
            "         [ 1.1126e-01],\n",
            "         [-8.4605e-02],\n",
            "         [-6.1758e-02],\n",
            "         [-1.8498e-01],\n",
            "         [ 1.4227e-01]],\n",
            "\n",
            "        [[ 1.9308e-01],\n",
            "         [ 2.2064e-01],\n",
            "         [ 2.7161e-01],\n",
            "         [ 1.3980e-02],\n",
            "         [-1.5161e-01],\n",
            "         [-1.8545e-03],\n",
            "         [ 1.0262e-01],\n",
            "         [-1.7540e-01],\n",
            "         [-1.4437e-01],\n",
            "         [-1.8709e-01],\n",
            "         [ 9.7038e-02],\n",
            "         [ 1.8215e-01],\n",
            "         [-1.6595e-03],\n",
            "         [-1.1375e-01],\n",
            "         [ 1.3014e-02],\n",
            "         [-1.3579e-01],\n",
            "         [ 3.3369e-02],\n",
            "         [ 1.5932e-01],\n",
            "         [ 1.2107e-01],\n",
            "         [ 1.9784e-01]],\n",
            "\n",
            "        [[-1.4895e-02],\n",
            "         [ 1.2129e-01],\n",
            "         [ 1.0970e-01],\n",
            "         [ 9.2098e-02],\n",
            "         [-1.3926e-02],\n",
            "         [ 4.8408e-02],\n",
            "         [-2.3145e-02],\n",
            "         [ 1.5748e-01],\n",
            "         [ 1.5344e-02],\n",
            "         [ 1.4080e-01],\n",
            "         [-1.8104e-01],\n",
            "         [ 1.5132e-01],\n",
            "         [ 2.9662e-02],\n",
            "         [-2.0368e-01],\n",
            "         [-9.5379e-02],\n",
            "         [-1.4089e-01],\n",
            "         [-4.8953e-02],\n",
            "         [ 6.6811e-02],\n",
            "         [-6.1109e-02],\n",
            "         [ 1.2931e-01]],\n",
            "\n",
            "        [[ 5.0362e-02],\n",
            "         [-9.9777e-02],\n",
            "         [ 2.0117e-01],\n",
            "         [-7.6457e-02],\n",
            "         [-9.2135e-02],\n",
            "         [ 1.0437e-01],\n",
            "         [-1.4793e-01],\n",
            "         [ 1.5881e-01],\n",
            "         [-1.5740e-01],\n",
            "         [-8.4389e-02],\n",
            "         [ 1.4878e-01],\n",
            "         [ 2.5037e-01],\n",
            "         [ 2.0708e-01],\n",
            "         [ 1.7756e-01],\n",
            "         [ 9.3479e-02],\n",
            "         [-1.9126e-01],\n",
            "         [ 2.0018e-01],\n",
            "         [ 6.7081e-02],\n",
            "         [ 2.7349e-02],\n",
            "         [-1.1831e-01]],\n",
            "\n",
            "        [[-1.4297e-01],\n",
            "         [ 2.4104e-02],\n",
            "         [ 1.4080e-01],\n",
            "         [ 5.9012e-02],\n",
            "         [ 1.3679e-01],\n",
            "         [-1.2780e-01],\n",
            "         [-9.7351e-02],\n",
            "         [ 1.6679e-01],\n",
            "         [-2.0968e-01],\n",
            "         [-3.7855e-02],\n",
            "         [-2.2560e-01],\n",
            "         [-1.0713e-01],\n",
            "         [ 2.0969e-01],\n",
            "         [ 1.5733e-01],\n",
            "         [-1.8554e-01],\n",
            "         [-1.4573e-01],\n",
            "         [ 1.7737e-02],\n",
            "         [ 5.0612e-02],\n",
            "         [ 9.3762e-02],\n",
            "         [ 2.4577e-02]],\n",
            "\n",
            "        [[-2.3980e-03],\n",
            "         [-2.4386e-02],\n",
            "         [ 9.2546e-02],\n",
            "         [ 2.5894e-02],\n",
            "         [-1.6813e-01],\n",
            "         [ 1.6602e-01],\n",
            "         [ 5.9291e-02],\n",
            "         [-1.6196e-01],\n",
            "         [-2.2069e-01],\n",
            "         [-2.3837e-01],\n",
            "         [-1.1841e-01],\n",
            "         [-1.2713e-01],\n",
            "         [ 4.6509e-02],\n",
            "         [ 1.6897e-01],\n",
            "         [-1.3141e-01],\n",
            "         [ 7.1843e-02],\n",
            "         [ 1.8391e-01],\n",
            "         [ 9.3316e-02],\n",
            "         [ 1.1515e-01],\n",
            "         [-1.7111e-01]],\n",
            "\n",
            "        [[-1.6427e-01],\n",
            "         [-9.6854e-02],\n",
            "         [-1.8380e-01],\n",
            "         [-2.7256e-02],\n",
            "         [ 9.2417e-02],\n",
            "         [-7.9322e-02],\n",
            "         [ 2.5176e-02],\n",
            "         [ 1.8110e-01],\n",
            "         [ 2.0769e-01],\n",
            "         [ 2.3191e-02],\n",
            "         [ 8.4140e-02],\n",
            "         [ 1.9514e-01],\n",
            "         [ 2.4465e-01],\n",
            "         [ 3.9283e-02],\n",
            "         [-4.6008e-02],\n",
            "         [ 8.8590e-02],\n",
            "         [ 1.6970e-01],\n",
            "         [-6.9073e-02],\n",
            "         [ 1.5172e-01],\n",
            "         [ 5.1197e-02]],\n",
            "\n",
            "        [[ 2.0540e-01],\n",
            "         [ 9.2197e-03],\n",
            "         [ 2.2352e-01],\n",
            "         [ 6.9706e-02],\n",
            "         [-5.6589e-02],\n",
            "         [ 7.4470e-02],\n",
            "         [ 2.2138e-01],\n",
            "         [-5.0140e-02],\n",
            "         [ 4.6328e-02],\n",
            "         [-1.8402e-01],\n",
            "         [-1.0101e-01],\n",
            "         [ 4.9240e-02],\n",
            "         [-1.7852e-01],\n",
            "         [-1.7582e-02],\n",
            "         [ 1.5767e-01],\n",
            "         [ 2.3624e-01],\n",
            "         [-1.0861e-01],\n",
            "         [ 8.0670e-02],\n",
            "         [-1.2492e-01],\n",
            "         [-1.4227e-01]],\n",
            "\n",
            "        [[ 2.4738e-01],\n",
            "         [ 1.0787e-01],\n",
            "         [ 1.0193e-02],\n",
            "         [-1.6191e-02],\n",
            "         [ 2.3115e-02],\n",
            "         [ 3.0995e-02],\n",
            "         [-1.1225e-01],\n",
            "         [-2.4821e-02],\n",
            "         [-1.2703e-01],\n",
            "         [-2.1397e-01],\n",
            "         [-2.4992e-01],\n",
            "         [-7.9531e-03],\n",
            "         [ 7.5924e-03],\n",
            "         [ 6.1912e-02],\n",
            "         [ 1.7117e-04],\n",
            "         [ 1.8768e-01],\n",
            "         [ 1.9548e-02],\n",
            "         [ 9.1460e-02],\n",
            "         [-1.7998e-01],\n",
            "         [-6.2442e-03]]], device='cuda:0')), ('conv2s.bias', tensor([-0.1318,  0.1841,  0.0235, -0.0408, -0.1280, -0.0902, -0.0731, -0.0861,\n",
            "         0.1256,  0.2344,  0.0655,  0.1248, -0.1188,  0.2043, -0.1738,  0.1735,\n",
            "        -0.0026, -0.1455, -0.0895, -0.0007], device='cuda:0')), ('conv3t.weight', tensor([[[ 1.1024e-01,  8.8156e-03,  6.6827e-02, -6.4133e-02, -5.8679e-02],\n",
            "         [-4.2761e-02,  8.2635e-02, -1.0961e-01, -9.9714e-02, -5.1971e-02],\n",
            "         [-4.9512e-02,  1.5583e-02,  4.7793e-02, -3.9140e-02, -5.5021e-02],\n",
            "         ...,\n",
            "         [-1.6707e-02,  3.1052e-04, -9.2213e-02, -4.8945e-02, -1.0661e-01],\n",
            "         [-1.5942e-02, -5.5787e-02, -5.6535e-02,  9.5524e-02,  4.1957e-02],\n",
            "         [-2.1717e-02,  1.5720e-02,  1.5763e-02, -9.1006e-02,  7.7406e-02]],\n",
            "\n",
            "        [[ 2.6242e-02, -1.2103e-01,  2.4602e-02,  3.3135e-02, -7.7597e-02],\n",
            "         [-1.1197e-01, -9.1801e-02, -1.1206e-01, -5.5441e-02, -1.2090e-01],\n",
            "         [ 1.0431e-02, -3.8310e-02, -3.1493e-02, -1.2538e-01, -9.3453e-02],\n",
            "         ...,\n",
            "         [ 4.1022e-02, -1.5421e-02,  5.2995e-02, -1.1866e-01, -2.1117e-03],\n",
            "         [ 1.6355e-02,  9.2499e-02,  9.1708e-02,  2.8396e-02, -2.0129e-03],\n",
            "         [ 2.6838e-03,  7.1089e-03, -8.7242e-03,  2.1001e-02, -1.2712e-01]],\n",
            "\n",
            "        [[ 4.7122e-02, -6.8643e-02,  1.1479e-01, -1.2400e-02, -1.4815e-03],\n",
            "         [ 5.6584e-02,  5.8680e-02,  9.6185e-02, -2.1427e-02, -6.0933e-02],\n",
            "         [-1.6179e-02,  9.8979e-02, -2.8646e-02,  2.1607e-02, -2.7875e-02],\n",
            "         ...,\n",
            "         [ 2.1865e-02,  3.9899e-02,  6.1472e-02,  1.6915e-02,  9.9689e-02],\n",
            "         [ 2.6821e-02,  1.2468e-01, -2.8375e-02,  1.0129e-01,  1.1213e-01],\n",
            "         [-1.0120e-01,  7.9668e-02, -3.0104e-02,  7.5689e-02,  4.6628e-03]],\n",
            "\n",
            "        ...,\n",
            "\n",
            "        [[-2.0057e-02, -2.8660e-02,  6.0485e-02, -3.7067e-02, -3.4741e-02],\n",
            "         [ 1.0972e-02, -6.4321e-02,  1.5163e-02, -6.7399e-02,  4.8961e-05],\n",
            "         [-5.7068e-02, -3.9663e-02,  7.1394e-02,  8.9276e-02, -1.4976e-02],\n",
            "         ...,\n",
            "         [-6.3360e-02, -5.8566e-02, -5.9841e-02, -5.2126e-02, -3.3625e-02],\n",
            "         [ 1.0764e-01,  1.1213e-02, -2.4717e-03, -1.6817e-03, -2.0212e-02],\n",
            "         [-6.0659e-02, -1.1372e-02,  2.2652e-02,  8.8907e-02, -6.6049e-02]],\n",
            "\n",
            "        [[-7.7710e-02, -2.5687e-02, -4.7193e-02,  5.9262e-02, -6.7868e-02],\n",
            "         [ 3.5608e-02, -4.8080e-03,  1.2005e-01, -4.0373e-02,  1.0212e-01],\n",
            "         [ 5.7426e-02, -4.6607e-02,  4.9959e-02, -1.2484e-01, -4.0454e-02],\n",
            "         ...,\n",
            "         [-2.0008e-02, -3.3532e-02, -3.2987e-02, -2.7364e-02, -1.3677e-01],\n",
            "         [-3.5480e-02, -2.7270e-02, -6.2346e-02,  2.5071e-02,  9.9677e-02],\n",
            "         [ 1.1735e-02, -2.0535e-02,  9.3488e-02, -9.3151e-03,  2.8574e-02]],\n",
            "\n",
            "        [[ 1.4938e-02, -1.0056e-01,  7.4595e-02,  3.9807e-02, -3.0235e-02],\n",
            "         [-8.4585e-02, -1.5185e-01, -1.1356e-01,  1.6085e-02,  7.6756e-03],\n",
            "         [ 1.7069e-02,  3.1009e-02, -6.2558e-02, -2.7089e-04,  6.7687e-02],\n",
            "         ...,\n",
            "         [-4.0589e-02,  2.6476e-02,  7.4017e-02,  6.2897e-02, -1.1530e-01],\n",
            "         [ 7.4385e-02, -6.9544e-03,  1.2118e-02,  8.5861e-02,  2.8112e-03],\n",
            "         [-1.0936e-01,  5.1513e-02, -3.1908e-02,  4.3050e-02, -3.8644e-02]]],\n",
            "       device='cuda:0')), ('conv3t.bias', tensor([ 0.0067, -0.0113, -0.0084, -0.0664,  0.0493,  0.1549,  0.1004, -0.0599,\n",
            "        -0.0264,  0.0934, -0.0767, -0.0994, -0.0388,  0.0251, -0.0508,  0.0220,\n",
            "        -0.0531,  0.1010, -0.0849, -0.0941, -0.0996, -0.0195,  0.0531,  0.0109,\n",
            "        -0.0708,  0.0289, -0.0121,  0.0413,  0.0133, -0.0407,  0.0699, -0.0711,\n",
            "         0.0999, -0.0921], device='cuda:0')), ('conv3s.weight', tensor([[[-0.0522],\n",
            "         [-0.1419],\n",
            "         [ 0.1273],\n",
            "         ...,\n",
            "         [-0.0020],\n",
            "         [-0.0705],\n",
            "         [-0.1117]],\n",
            "\n",
            "        [[ 0.0432],\n",
            "         [ 0.1007],\n",
            "         [-0.1243],\n",
            "         ...,\n",
            "         [-0.0049],\n",
            "         [-0.1926],\n",
            "         [-0.0294]],\n",
            "\n",
            "        [[-0.1412],\n",
            "         [ 0.0082],\n",
            "         [ 0.0283],\n",
            "         ...,\n",
            "         [ 0.0181],\n",
            "         [ 0.0132],\n",
            "         [-0.1105]],\n",
            "\n",
            "        ...,\n",
            "\n",
            "        [[ 0.0887],\n",
            "         [ 0.0156],\n",
            "         [-0.0436],\n",
            "         ...,\n",
            "         [-0.0036],\n",
            "         [-0.1619],\n",
            "         [ 0.1454]],\n",
            "\n",
            "        [[ 0.1418],\n",
            "         [-0.1283],\n",
            "         [ 0.1408],\n",
            "         ...,\n",
            "         [ 0.1052],\n",
            "         [ 0.1506],\n",
            "         [-0.0758]],\n",
            "\n",
            "        [[-0.1504],\n",
            "         [ 0.0307],\n",
            "         [-0.1147],\n",
            "         ...,\n",
            "         [ 0.1367],\n",
            "         [-0.0592],\n",
            "         [ 0.1362]]], device='cuda:0')), ('conv3s.bias', tensor([ 0.1988, -0.1945, -0.0781,  0.0202, -0.0017, -0.1073, -0.0626, -0.0879,\n",
            "         0.2422, -0.1040,  0.1275, -0.0194, -0.0315,  0.1216,  0.0849,  0.1949,\n",
            "        -0.0840, -0.0593,  0.1100, -0.0345, -0.1395, -0.0727,  0.0390,  0.1699,\n",
            "         0.0772,  0.1105,  0.0012, -0.0304, -0.0325, -0.2031,  0.1239, -0.1271,\n",
            "         0.1265,  0.0197], device='cuda:0')), ('Linear.weight', tensor([[ 0.0533,  0.0472,  0.0543,  ...,  0.0069, -0.0138,  0.0082],\n",
            "        [ 0.0162,  0.0291,  0.0141,  ...,  0.0272,  0.0418,  0.0364],\n",
            "        [ 0.0050,  0.0187,  0.0004,  ..., -0.0348, -0.0235, -0.0620],\n",
            "        [-0.0502, -0.0575, -0.0291,  ..., -0.0315, -0.0180, -0.0043]],\n",
            "       device='cuda:0')), ('Linear.bias', tensor([ 0.0144,  0.0225,  0.0002, -0.0317], device='cuda:0'))])\n"
          ]
        }
      ]
    },
    {
      "cell_type": "code",
      "source": [],
      "metadata": {
        "id": "5wY-Sbfu_F6p"
      },
      "execution_count": null,
      "outputs": []
    }
  ]
}