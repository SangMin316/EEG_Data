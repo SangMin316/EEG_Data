{
 "cells": [
  {
   "cell_type": "code",
   "execution_count": 1,
   "id": "89190d29",
   "metadata": {},
   "outputs": [
    {
     "name": "stdout",
     "output_type": "stream",
     "text": [
      "Requirement already satisfied: pyEDFlib in /Users/josangmin/opt/anaconda3/lib/python3.9/site-packages (0.1.30)\n",
      "Requirement already satisfied: numpy>=1.9.1 in /Users/josangmin/opt/anaconda3/lib/python3.9/site-packages (from pyEDFlib) (1.20.3)\n",
      "Note: you may need to restart the kernel to use updated packages.\n"
     ]
    }
   ],
   "source": [
    "pip install pyEDFlib"
   ]
  },
  {
   "cell_type": "code",
   "execution_count": 2,
   "id": "cfa1600d",
   "metadata": {},
   "outputs": [
    {
     "name": "stdout",
     "output_type": "stream",
     "text": [
      "306\n",
      "number of train samples: 153\n",
      "number of labels: 153\n",
      "([array([-20.19047619,  -3.5030525 , -27.52136752, ..., -61.47496947,\n",
      "       -50.38217338, -22.98778999]), array([ -6.18925519, -10.43589744,  -6.64102564, ...,   1.03907204,\n",
      "        -3.20757021, -23.08547009]), array([-85.43956044, -25.02930403,  14.94139194, ..., -48.19413919,\n",
      "        -1.41025641, -14.12820513]), array([256., 255., 266., ..., 269., 308., 266.]), array([3.382, 3.462, 3.486, ..., 3.27 , 3.296, 3.326]), array([14.868, 14.87 , 14.878, ..., 15.029, 15.003, 14.978]), array([964., 968., 967., ..., 814., 847., 833.])], [{'label': 'EEG Fpz-Cz', 'dimension': 'uV', 'sample_rate': 3000.0, 'sample_frequency': 3000.0, 'physical_max': 198.0, 'physical_min': -197.0, 'digital_max': 2047, 'digital_min': -2048, 'prefilter': 'HP:0.5Hz LP:100Hz [enhanced cassette BW]', 'transducer': 'Ag-AgCl electrodes'}, {'label': 'EEG Pz-Oz', 'dimension': 'uV', 'sample_rate': 3000.0, 'sample_frequency': 3000.0, 'physical_max': 185.0, 'physical_min': -185.0, 'digital_max': 2047, 'digital_min': -2048, 'prefilter': 'HP:0.5Hz LP:100Hz [enhanced cassette BW]', 'transducer': 'Ag-AgCl electrodes'}, {'label': 'EOG horizontal', 'dimension': 'uV', 'sample_rate': 3000.0, 'sample_frequency': 3000.0, 'physical_max': 927.0, 'physical_min': -933.0, 'digital_max': 2047, 'digital_min': -2048, 'prefilter': 'HP:0.5Hz LP:100Hz [enhanced cassette BW]', 'transducer': 'Ag-AgCl electrodes'}, {'label': 'Resp oro-nasal', 'dimension': '', 'sample_rate': 30.0, 'sample_frequency': 30.0, 'physical_max': 2047.0, 'physical_min': -2048.0, 'digital_max': 2047, 'digital_min': -2048, 'prefilter': 'HP:0.03Hz LP:0.9Hz', 'transducer': 'Oral-nasal thermistors'}, {'label': 'EMG submental', 'dimension': 'uV', 'sample_rate': 30.0, 'sample_frequency': 30.0, 'physical_max': 5.0, 'physical_min': -5.0, 'digital_max': 2500, 'digital_min': -2500, 'prefilter': 'HP:16Hz Rectification LP:0.7Hz', 'transducer': 'Ag-AgCl electrodes'}, {'label': 'Temp rectal', 'dimension': '', 'sample_rate': 30.0, 'sample_frequency': 30.0, 'physical_max': 30.0, 'physical_min': 0.0, 'digital_max': 15000, 'digital_min': -15000, 'prefilter': '', 'transducer': 'Rectal thermistor'}, {'label': 'Event marker', 'dimension': '', 'sample_rate': 30.0, 'sample_frequency': 30.0, 'physical_max': 2048.0, 'physical_min': -2047.0, 'digital_max': 2048, 'digital_min': -2047, 'prefilter': 'Hold during 2 seconds', 'transducer': 'Marker button'}], {'technician': '', 'recording_additional': '', 'patientname': '', 'patient_additional': '', 'patientcode': '', 'equipment': '', 'admincode': '', 'gender': '', 'startdate': datetime.datetime(1989, 5, 8, 16, 18), 'birthdate': '', 'annotations': []})\n",
      "\n",
      "(array([], dtype=float64), [], {'technician': '', 'recording_additional': '', 'patientname': 'Female 66yr', 'patient_additional': '', 'patientcode': '', 'equipment': '', 'admincode': '', 'gender': 'Female', 'startdate': datetime.datetime(1989, 5, 17, 16, 46), 'birthdate': '', 'annotations': [[0.0, 24390.0, 'Sleep stage W'], [24390.0, 210.0, 'Sleep stage 1'], [24600.0, 30.0, 'Sleep stage 2'], [24630.0, 30.0, 'Sleep stage W'], [24660.0, 30.0, 'Sleep stage 1'], [24690.0, 300.0, 'Sleep stage 2'], [24990.0, 60.0, 'Sleep stage 1'], [25050.0, 180.0, 'Sleep stage 2'], [25230.0, 30.0, 'Sleep stage 1'], [25260.0, 60.0, 'Sleep stage 2'], [25320.0, 60.0, 'Sleep stage 1'], [25380.0, 1140.0, 'Sleep stage 2'], [26520.0, 30.0, 'Sleep stage 3'], [26550.0, 30.0, 'Sleep stage 2'], [26580.0, 30.0, 'Sleep stage 3'], [26610.0, 60.0, 'Sleep stage 2'], [26670.0, 90.0, 'Sleep stage 3'], [26760.0, 120.0, 'Sleep stage 2'], [26880.0, 60.0, 'Sleep stage 3'], [26940.0, 60.0, 'Sleep stage 2'], [27000.0, 90.0, 'Sleep stage 3'], [27090.0, 60.0, 'Sleep stage 2'], [27150.0, 90.0, 'Sleep stage 3'], [27240.0, 30.0, 'Sleep stage 2'], [27270.0, 90.0, 'Sleep stage 3'], [27360.0, 150.0, 'Sleep stage 2'], [27510.0, 30.0, 'Sleep stage 3'], [27540.0, 90.0, 'Sleep stage 2'], [27630.0, 30.0, 'Sleep stage 1'], [27660.0, 270.0, 'Sleep stage 2'], [27930.0, 840.0, 'Sleep stage R'], [28770.0, 120.0, 'Sleep stage 2'], [28890.0, 60.0, 'Sleep stage 1'], [28950.0, 420.0, 'Sleep stage 2'], [29370.0, 60.0, 'Sleep stage 1'], [29430.0, 450.0, 'Sleep stage 2'], [29880.0, 30.0, 'Sleep stage 3'], [29910.0, 60.0, 'Sleep stage 2'], [29970.0, 60.0, 'Sleep stage 3'], [30030.0, 30.0, 'Sleep stage 2'], [30060.0, 30.0, 'Sleep stage 3'], [30090.0, 30.0, 'Sleep stage 2'], [30120.0, 90.0, 'Sleep stage 3'], [30210.0, 120.0, 'Sleep stage 2'], [30330.0, 90.0, 'Sleep stage 1'], [30420.0, 60.0, 'Sleep stage 2'], [30480.0, 30.0, 'Sleep stage 1'], [30510.0, 60.0, 'Sleep stage W'], [30570.0, 30.0, 'Sleep stage 1'], [30600.0, 30.0, 'Sleep stage W'], [30630.0, 120.0, 'Sleep stage 1'], [30750.0, 30.0, 'Sleep stage 2'], [30780.0, 150.0, 'Sleep stage 1'], [30930.0, 480.0, 'Sleep stage 2'], [31410.0, 90.0, 'Sleep stage 1'], [31500.0, 360.0, 'Sleep stage 2'], [31860.0, 30.0, 'Sleep stage 3'], [31890.0, 180.0, 'Sleep stage 2'], [32070.0, 60.0, 'Sleep stage 3'], [32130.0, 30.0, 'Sleep stage 2'], [32160.0, 30.0, 'Sleep stage 3'], [32190.0, 60.0, 'Sleep stage 2'], [32250.0, 30.0, 'Sleep stage 1'], [32280.0, 60.0, 'Sleep stage 2'], [32340.0, 60.0, 'Sleep stage 1'], [32400.0, 360.0, 'Sleep stage 2'], [32760.0, 90.0, 'Sleep stage 3'], [32850.0, 30.0, 'Sleep stage 4'], [32880.0, 30.0, 'Sleep stage 3'], [32910.0, 60.0, 'Sleep stage 2'], [32970.0, 60.0, 'Sleep stage 3'], [33030.0, 60.0, 'Sleep stage 2'], [33090.0, 30.0, 'Sleep stage 3'], [33120.0, 60.0, 'Sleep stage 2'], [33180.0, 30.0, 'Sleep stage 3'], [33210.0, 150.0, 'Sleep stage 2'], [33360.0, 30.0, 'Sleep stage 3'], [33390.0, 120.0, 'Sleep stage 2'], [33510.0, 90.0, 'Sleep stage 3'], [33600.0, 240.0, 'Sleep stage 2'], [33840.0, 60.0, 'Sleep stage 1'], [33900.0, 120.0, 'Sleep stage 2'], [34020.0, 60.0, 'Sleep stage 1'], [34080.0, 210.0, 'Sleep stage 2'], [34290.0, 600.0, 'Sleep stage R'], [34890.0, 60.0, 'Sleep stage 1'], [34950.0, 360.0, 'Sleep stage R'], [35310.0, 30.0, 'Sleep stage 2'], [35340.0, 330.0, 'Sleep stage R'], [35670.0, 90.0, 'Sleep stage 1'], [35760.0, 150.0, 'Sleep stage 2'], [35910.0, 30.0, 'Sleep stage W'], [35940.0, 30.0, 'Sleep stage 1'], [35970.0, 360.0, 'Sleep stage 2'], [36330.0, 60.0, 'Sleep stage 1'], [36390.0, 1020.0, 'Sleep stage 2'], [37410.0, 30.0, 'Sleep stage 3'], [37440.0, 90.0, 'Sleep stage 2'], [37530.0, 60.0, 'Sleep stage 1'], [37590.0, 120.0, 'Sleep stage 2'], [37710.0, 60.0, 'Sleep stage 3'], [37770.0, 30.0, 'Sleep stage 2'], [37800.0, 30.0, 'Sleep stage 3'], [37830.0, 90.0, 'Sleep stage W'], [37920.0, 150.0, 'Sleep stage 1'], [38070.0, 30.0, 'Sleep stage 2'], [38100.0, 240.0, 'Sleep stage 1'], [38340.0, 660.0, 'Sleep stage 2'], [39000.0, 30.0, 'Sleep stage 1'], [39030.0, 570.0, 'Sleep stage 2'], [39600.0, 60.0, 'Sleep stage 1'], [39660.0, 150.0, 'Sleep stage 2'], [39810.0, 30.0, 'Sleep stage 3'], [39840.0, 60.0, 'Sleep stage 1'], [39900.0, 450.0, 'Sleep stage 2'], [40350.0, 60.0, 'Sleep stage 1'], [40410.0, 90.0, 'Sleep stage 2'], [40500.0, 60.0, 'Sleep stage 1'], [40560.0, 270.0, 'Sleep stage 2'], [40830.0, 30.0, 'Sleep stage 1'], [40860.0, 120.0, 'Sleep stage 2'], [40980.0, 2490.0, 'Sleep stage R'], [43470.0, 210.0, 'Sleep stage 2'], [43680.0, 90.0, 'Sleep stage W'], [43770.0, 150.0, 'Sleep stage 1'], [43920.0, 30.0, 'Sleep stage W'], [43950.0, 60.0, 'Sleep stage 1'], [44010.0, 180.0, 'Sleep stage 2'], [44190.0, 30.0, 'Sleep stage W'], [44220.0, 90.0, 'Sleep stage 1'], [44310.0, 30.0, 'Sleep stage W'], [44340.0, 60.0, 'Sleep stage 1'], [44400.0, 270.0, 'Sleep stage W'], [44670.0, 30.0, 'Sleep stage 1'], [44700.0, 30.0, 'Sleep stage W'], [44730.0, 30.0, 'Sleep stage 1'], [44760.0, 480.0, 'Sleep stage W'], [45240.0, 30.0, 'Sleep stage 1'], [45270.0, 30.0, 'Sleep stage W'], [45300.0, 480.0, 'Sleep stage 1'], [45780.0, 630.0, 'Sleep stage 2'], [46410.0, 60.0, 'Sleep stage 1'], [46470.0, 1560.0, 'Sleep stage 2'], [48030.0, 60.0, 'Sleep stage 1'], [48090.0, 60.0, 'Sleep stage 2'], [48150.0, 90.0, 'Sleep stage 1'], [48240.0, 90.0, 'Sleep stage W'], [48330.0, 180.0, 'Sleep stage 1'], [48510.0, 240.0, 'Sleep stage 2'], [48750.0, 1500.0, 'Sleep stage R'], [50250.0, 90.0, 'Sleep stage 2'], [50340.0, 60.0, 'Sleep stage 1'], [50400.0, 360.0, 'Sleep stage 2'], [50760.0, 60.0, 'Sleep stage 1'], [50820.0, 480.0, 'Sleep stage 2'], [51300.0, 60.0, 'Sleep stage 1'], [51360.0, 330.0, 'Sleep stage 2'], [51690.0, 60.0, 'Sleep stage 1'], [51750.0, 30.0, 'Sleep stage 2'], [51780.0, 90.0, 'Sleep stage 1'], [51870.0, 30.0, 'Sleep stage 2'], [51900.0, 30.0, 'Sleep stage 1'], [51930.0, 30.0, 'Sleep stage 2'], [51960.0, 90.0, 'Sleep stage 1'], [52050.0, 60.0, 'Sleep stage 2'], [52110.0, 60.0, 'Sleep stage 1'], [52170.0, 180.0, 'Sleep stage 2'], [52350.0, 60.0, 'Sleep stage W'], [52410.0, 30.0, 'Sleep stage 1'], [52440.0, 90.0, 'Sleep stage W'], [52530.0, 60.0, 'Sleep stage 1'], [52590.0, 180.0, 'Sleep stage W'], [52770.0, 30.0, 'Sleep stage 1'], [52800.0, 60.0, 'Sleep stage W'], [52860.0, 90.0, 'Sleep stage 1'], [52950.0, 120.0, 'Sleep stage W'], [53070.0, 60.0, 'Sleep stage 1'], [53130.0, 28710.0, 'Sleep stage W'], [81840.0, 4560.0, 'Sleep stage ?']]})\n"
     ]
    }
   ],
   "source": [
    "from pyedflib import highlevel\n",
    "import numpy as np\n",
    "import glob\n",
    "\n",
    "path = '/Users/josangmin/Downloads/sleep-edf-database-expanded-1.0.0/sleep-cassette'\n",
    "data_list = glob.glob(path+'/**')\n",
    "\n",
    "print(len(data_list))\n",
    "\n",
    "trains = [x for x in data_list if x.endswith('PSG.edf')]\n",
    "labels = [x for x in data_list if x.endswith('Hypnogram.edf')]\n",
    "\n",
    "print('number of train samples:',len(trains))\n",
    "print('number of labels:',len(labels))\n",
    "\n",
    "print(highlevel.read_edf(trains[0]))\n",
    "print('')\n",
    "print(highlevel.read_edf(labels[0]))"
   ]
  },
  {
   "cell_type": "markdown",
   "id": "e68b109a",
   "metadata": {},
   "source": [
    "------"
   ]
  },
  {
   "cell_type": "markdown",
   "id": "b8c9f142",
   "metadata": {},
   "source": [
    "153개의 sample이 존재합니다.\n",
    "\n",
    "highlevel.read_edf return 값이 signals, signal_headers, header 3개입니다.\n",
    "\n",
    "따로 따로 값을 출력해보겠습니다."
   ]
  },
  {
   "cell_type": "code",
   "execution_count": 3,
   "id": "b2589b1e",
   "metadata": {
    "scrolled": false
   },
   "outputs": [
    {
     "name": "stdout",
     "output_type": "stream",
     "text": [
      "[array([-20.19047619,  -3.5030525 , -27.52136752, ..., -61.47496947,\n",
      "       -50.38217338, -22.98778999]), array([ -6.18925519, -10.43589744,  -6.64102564, ...,   1.03907204,\n",
      "        -3.20757021, -23.08547009]), array([-85.43956044, -25.02930403,  14.94139194, ..., -48.19413919,\n",
      "        -1.41025641, -14.12820513]), array([256., 255., 266., ..., 269., 308., 266.]), array([3.382, 3.462, 3.486, ..., 3.27 , 3.296, 3.326]), array([14.868, 14.87 , 14.878, ..., 15.029, 15.003, 14.978]), array([964., 968., 967., ..., 814., 847., 833.])]\n",
      "7\n",
      "8412000\n",
      "8412000\n",
      "8412000\n",
      "84120\n",
      "84120\n",
      "84120\n",
      "84120\n"
     ]
    }
   ],
   "source": [
    "signals = highlevel.read_edf(trains[0])[0]\n",
    "#signals : np.ndarray or list\n",
    "#the signals of the chosen channels contained in the EDF.\n",
    "\n",
    "print(signals)\n",
    "print(len(signals))\n",
    "for i in range(len(signals)):\n",
    "    print(len(signals[i]))\n"
   ]
  },
  {
   "cell_type": "markdown",
   "id": "8d7ee02d",
   "metadata": {},
   "source": [
    "signals에는 list 요소가 7개이고, 각 요소에 array(신호)들이 들어있습니다. "
   ]
  },
  {
   "cell_type": "code",
   "execution_count": 7,
   "id": "b30a4b11",
   "metadata": {},
   "outputs": [
    {
     "name": "stdout",
     "output_type": "stream",
     "text": [
      "number of channels: 7\n",
      "\n",
      "\n",
      "{'label': 'EEG Fpz-Cz', 'dimension': 'uV', 'sample_rate': 3000.0, 'sample_frequency': 3000.0, 'physical_max': 198.0, 'physical_min': -197.0, 'digital_max': 2047, 'digital_min': -2048, 'prefilter': 'HP:0.5Hz LP:100Hz [enhanced cassette BW]', 'transducer': 'Ag-AgCl electrodes'}\n",
      "10\n",
      "\n",
      "\n",
      "{'label': 'EEG Pz-Oz', 'dimension': 'uV', 'sample_rate': 3000.0, 'sample_frequency': 3000.0, 'physical_max': 185.0, 'physical_min': -185.0, 'digital_max': 2047, 'digital_min': -2048, 'prefilter': 'HP:0.5Hz LP:100Hz [enhanced cassette BW]', 'transducer': 'Ag-AgCl electrodes'}\n",
      "10\n",
      "\n",
      "\n",
      "{'label': 'EOG horizontal', 'dimension': 'uV', 'sample_rate': 3000.0, 'sample_frequency': 3000.0, 'physical_max': 927.0, 'physical_min': -933.0, 'digital_max': 2047, 'digital_min': -2048, 'prefilter': 'HP:0.5Hz LP:100Hz [enhanced cassette BW]', 'transducer': 'Ag-AgCl electrodes'}\n",
      "10\n",
      "\n",
      "\n",
      "{'label': 'Resp oro-nasal', 'dimension': '', 'sample_rate': 30.0, 'sample_frequency': 30.0, 'physical_max': 2047.0, 'physical_min': -2048.0, 'digital_max': 2047, 'digital_min': -2048, 'prefilter': 'HP:0.03Hz LP:0.9Hz', 'transducer': 'Oral-nasal thermistors'}\n",
      "10\n",
      "\n",
      "\n",
      "{'label': 'EMG submental', 'dimension': 'uV', 'sample_rate': 30.0, 'sample_frequency': 30.0, 'physical_max': 5.0, 'physical_min': -5.0, 'digital_max': 2500, 'digital_min': -2500, 'prefilter': 'HP:16Hz Rectification LP:0.7Hz', 'transducer': 'Ag-AgCl electrodes'}\n",
      "10\n",
      "\n",
      "\n",
      "{'label': 'Temp rectal', 'dimension': '', 'sample_rate': 30.0, 'sample_frequency': 30.0, 'physical_max': 30.0, 'physical_min': 0.0, 'digital_max': 15000, 'digital_min': -15000, 'prefilter': '', 'transducer': 'Rectal thermistor'}\n",
      "10\n",
      "\n",
      "\n",
      "{'label': 'Event marker', 'dimension': '', 'sample_rate': 30.0, 'sample_frequency': 30.0, 'physical_max': 2048.0, 'physical_min': -2047.0, 'digital_max': 2048, 'digital_min': -2047, 'prefilter': 'Hold during 2 seconds', 'transducer': 'Marker button'}\n",
      "10\n",
      "\n",
      "\n"
     ]
    }
   ],
   "source": [
    "signal_headers = highlevel.read_edf(trains[0])[1]\n",
    "#signal_headers : list\n",
    "#one signal header for each channel in the EDF.\n",
    "\n",
    "print('number of channels:',len(signal_headers))\n",
    "print('\\n')\n",
    "\n",
    "for i in range(len(signal_headers)):\n",
    "    print(signal_headers[i])\n",
    "    print(len(signal_headers[i]))\n",
    "    print('\\n')\n"
   ]
  },
  {
   "cell_type": "markdown",
   "id": "b046c212",
   "metadata": {},
   "source": [
    "signal_headers에는 신호에 대한 정보들이 존재합니다. \n",
    "\n",
    "논문과 웹사이트에서는 sample rate가 100Hz, 1Hz라고 나오는데, 3000, 30으로 나옵니다.\n",
    "\n",
    "이는 epoch 사이즈가 30초이기에, 30초당 3000번, 즉 100Hz라고 이해하면 될것 같습니다. "
   ]
  },
  {
   "cell_type": "code",
   "execution_count": 64,
   "id": "46fb650f",
   "metadata": {},
   "outputs": [
    {
     "name": "stdout",
     "output_type": "stream",
     "text": [
      "{'technician': '', 'recording_additional': '', 'patientname': '', 'patient_additional': '', 'patientcode': '', 'equipment': '', 'admincode': '', 'gender': '', 'startdate': datetime.datetime(1989, 5, 8, 16, 18), 'birthdate': '', 'annotations': []}\n",
      "11\n"
     ]
    }
   ],
   "source": [
    "header = highlevel.read_edf(trains[0])[2]\n",
    "#header : dict\n",
    "#the main header of the EDF file containing meta information.\n",
    "print(header)\n",
    "print(len(header))"
   ]
  },
  {
   "cell_type": "markdown",
   "id": "ba76349e",
   "metadata": {},
   "source": [
    "header에는 datetime 말고는 정보가 없습니다. \n",
    "\n",
    "trains data에 말고 label_data에 header에 정보가 있습니다.\n",
    "\n",
    "labels 데이터를 살펴보겠습니다."
   ]
  },
  {
   "cell_type": "code",
   "execution_count": 76,
   "id": "0150aabe",
   "metadata": {},
   "outputs": [
    {
     "name": "stdout",
     "output_type": "stream",
     "text": [
      "[]\n",
      "[]\n"
     ]
    }
   ],
   "source": [
    "signals = highlevel.read_edf(labels[0])[0]\n",
    "#signals : np.ndarray or list\n",
    "#the signals of the chosen channels contained in the EDF.\n",
    "print(signals)\n",
    "\n",
    "signal_header = highlevel.read_edf(labels[0])[1]\n",
    "print(signal_header)\n"
   ]
  },
  {
   "cell_type": "markdown",
   "id": "f1103cf1",
   "metadata": {},
   "source": [
    "signals와 signal_header에 아무것도 없는 것을 확인 할 수 있습니다."
   ]
  },
  {
   "cell_type": "code",
   "execution_count": 8,
   "id": "f9402d9b",
   "metadata": {},
   "outputs": [
    {
     "name": "stdout",
     "output_type": "stream",
     "text": [
      "11\n",
      "{'technician': '', 'recording_additional': '', 'patientname': 'Female 66yr', 'patient_additional': '', 'patientcode': '', 'equipment': '', 'admincode': '', 'gender': 'Female', 'startdate': datetime.datetime(1989, 5, 17, 16, 46), 'birthdate': '', 'annotations': [[0.0, 24390.0, 'Sleep stage W'], [24390.0, 210.0, 'Sleep stage 1'], [24600.0, 30.0, 'Sleep stage 2'], [24630.0, 30.0, 'Sleep stage W'], [24660.0, 30.0, 'Sleep stage 1'], [24690.0, 300.0, 'Sleep stage 2'], [24990.0, 60.0, 'Sleep stage 1'], [25050.0, 180.0, 'Sleep stage 2'], [25230.0, 30.0, 'Sleep stage 1'], [25260.0, 60.0, 'Sleep stage 2'], [25320.0, 60.0, 'Sleep stage 1'], [25380.0, 1140.0, 'Sleep stage 2'], [26520.0, 30.0, 'Sleep stage 3'], [26550.0, 30.0, 'Sleep stage 2'], [26580.0, 30.0, 'Sleep stage 3'], [26610.0, 60.0, 'Sleep stage 2'], [26670.0, 90.0, 'Sleep stage 3'], [26760.0, 120.0, 'Sleep stage 2'], [26880.0, 60.0, 'Sleep stage 3'], [26940.0, 60.0, 'Sleep stage 2'], [27000.0, 90.0, 'Sleep stage 3'], [27090.0, 60.0, 'Sleep stage 2'], [27150.0, 90.0, 'Sleep stage 3'], [27240.0, 30.0, 'Sleep stage 2'], [27270.0, 90.0, 'Sleep stage 3'], [27360.0, 150.0, 'Sleep stage 2'], [27510.0, 30.0, 'Sleep stage 3'], [27540.0, 90.0, 'Sleep stage 2'], [27630.0, 30.0, 'Sleep stage 1'], [27660.0, 270.0, 'Sleep stage 2'], [27930.0, 840.0, 'Sleep stage R'], [28770.0, 120.0, 'Sleep stage 2'], [28890.0, 60.0, 'Sleep stage 1'], [28950.0, 420.0, 'Sleep stage 2'], [29370.0, 60.0, 'Sleep stage 1'], [29430.0, 450.0, 'Sleep stage 2'], [29880.0, 30.0, 'Sleep stage 3'], [29910.0, 60.0, 'Sleep stage 2'], [29970.0, 60.0, 'Sleep stage 3'], [30030.0, 30.0, 'Sleep stage 2'], [30060.0, 30.0, 'Sleep stage 3'], [30090.0, 30.0, 'Sleep stage 2'], [30120.0, 90.0, 'Sleep stage 3'], [30210.0, 120.0, 'Sleep stage 2'], [30330.0, 90.0, 'Sleep stage 1'], [30420.0, 60.0, 'Sleep stage 2'], [30480.0, 30.0, 'Sleep stage 1'], [30510.0, 60.0, 'Sleep stage W'], [30570.0, 30.0, 'Sleep stage 1'], [30600.0, 30.0, 'Sleep stage W'], [30630.0, 120.0, 'Sleep stage 1'], [30750.0, 30.0, 'Sleep stage 2'], [30780.0, 150.0, 'Sleep stage 1'], [30930.0, 480.0, 'Sleep stage 2'], [31410.0, 90.0, 'Sleep stage 1'], [31500.0, 360.0, 'Sleep stage 2'], [31860.0, 30.0, 'Sleep stage 3'], [31890.0, 180.0, 'Sleep stage 2'], [32070.0, 60.0, 'Sleep stage 3'], [32130.0, 30.0, 'Sleep stage 2'], [32160.0, 30.0, 'Sleep stage 3'], [32190.0, 60.0, 'Sleep stage 2'], [32250.0, 30.0, 'Sleep stage 1'], [32280.0, 60.0, 'Sleep stage 2'], [32340.0, 60.0, 'Sleep stage 1'], [32400.0, 360.0, 'Sleep stage 2'], [32760.0, 90.0, 'Sleep stage 3'], [32850.0, 30.0, 'Sleep stage 4'], [32880.0, 30.0, 'Sleep stage 3'], [32910.0, 60.0, 'Sleep stage 2'], [32970.0, 60.0, 'Sleep stage 3'], [33030.0, 60.0, 'Sleep stage 2'], [33090.0, 30.0, 'Sleep stage 3'], [33120.0, 60.0, 'Sleep stage 2'], [33180.0, 30.0, 'Sleep stage 3'], [33210.0, 150.0, 'Sleep stage 2'], [33360.0, 30.0, 'Sleep stage 3'], [33390.0, 120.0, 'Sleep stage 2'], [33510.0, 90.0, 'Sleep stage 3'], [33600.0, 240.0, 'Sleep stage 2'], [33840.0, 60.0, 'Sleep stage 1'], [33900.0, 120.0, 'Sleep stage 2'], [34020.0, 60.0, 'Sleep stage 1'], [34080.0, 210.0, 'Sleep stage 2'], [34290.0, 600.0, 'Sleep stage R'], [34890.0, 60.0, 'Sleep stage 1'], [34950.0, 360.0, 'Sleep stage R'], [35310.0, 30.0, 'Sleep stage 2'], [35340.0, 330.0, 'Sleep stage R'], [35670.0, 90.0, 'Sleep stage 1'], [35760.0, 150.0, 'Sleep stage 2'], [35910.0, 30.0, 'Sleep stage W'], [35940.0, 30.0, 'Sleep stage 1'], [35970.0, 360.0, 'Sleep stage 2'], [36330.0, 60.0, 'Sleep stage 1'], [36390.0, 1020.0, 'Sleep stage 2'], [37410.0, 30.0, 'Sleep stage 3'], [37440.0, 90.0, 'Sleep stage 2'], [37530.0, 60.0, 'Sleep stage 1'], [37590.0, 120.0, 'Sleep stage 2'], [37710.0, 60.0, 'Sleep stage 3'], [37770.0, 30.0, 'Sleep stage 2'], [37800.0, 30.0, 'Sleep stage 3'], [37830.0, 90.0, 'Sleep stage W'], [37920.0, 150.0, 'Sleep stage 1'], [38070.0, 30.0, 'Sleep stage 2'], [38100.0, 240.0, 'Sleep stage 1'], [38340.0, 660.0, 'Sleep stage 2'], [39000.0, 30.0, 'Sleep stage 1'], [39030.0, 570.0, 'Sleep stage 2'], [39600.0, 60.0, 'Sleep stage 1'], [39660.0, 150.0, 'Sleep stage 2'], [39810.0, 30.0, 'Sleep stage 3'], [39840.0, 60.0, 'Sleep stage 1'], [39900.0, 450.0, 'Sleep stage 2'], [40350.0, 60.0, 'Sleep stage 1'], [40410.0, 90.0, 'Sleep stage 2'], [40500.0, 60.0, 'Sleep stage 1'], [40560.0, 270.0, 'Sleep stage 2'], [40830.0, 30.0, 'Sleep stage 1'], [40860.0, 120.0, 'Sleep stage 2'], [40980.0, 2490.0, 'Sleep stage R'], [43470.0, 210.0, 'Sleep stage 2'], [43680.0, 90.0, 'Sleep stage W'], [43770.0, 150.0, 'Sleep stage 1'], [43920.0, 30.0, 'Sleep stage W'], [43950.0, 60.0, 'Sleep stage 1'], [44010.0, 180.0, 'Sleep stage 2'], [44190.0, 30.0, 'Sleep stage W'], [44220.0, 90.0, 'Sleep stage 1'], [44310.0, 30.0, 'Sleep stage W'], [44340.0, 60.0, 'Sleep stage 1'], [44400.0, 270.0, 'Sleep stage W'], [44670.0, 30.0, 'Sleep stage 1'], [44700.0, 30.0, 'Sleep stage W'], [44730.0, 30.0, 'Sleep stage 1'], [44760.0, 480.0, 'Sleep stage W'], [45240.0, 30.0, 'Sleep stage 1'], [45270.0, 30.0, 'Sleep stage W'], [45300.0, 480.0, 'Sleep stage 1'], [45780.0, 630.0, 'Sleep stage 2'], [46410.0, 60.0, 'Sleep stage 1'], [46470.0, 1560.0, 'Sleep stage 2'], [48030.0, 60.0, 'Sleep stage 1'], [48090.0, 60.0, 'Sleep stage 2'], [48150.0, 90.0, 'Sleep stage 1'], [48240.0, 90.0, 'Sleep stage W'], [48330.0, 180.0, 'Sleep stage 1'], [48510.0, 240.0, 'Sleep stage 2'], [48750.0, 1500.0, 'Sleep stage R'], [50250.0, 90.0, 'Sleep stage 2'], [50340.0, 60.0, 'Sleep stage 1'], [50400.0, 360.0, 'Sleep stage 2'], [50760.0, 60.0, 'Sleep stage 1'], [50820.0, 480.0, 'Sleep stage 2'], [51300.0, 60.0, 'Sleep stage 1'], [51360.0, 330.0, 'Sleep stage 2'], [51690.0, 60.0, 'Sleep stage 1'], [51750.0, 30.0, 'Sleep stage 2'], [51780.0, 90.0, 'Sleep stage 1'], [51870.0, 30.0, 'Sleep stage 2'], [51900.0, 30.0, 'Sleep stage 1'], [51930.0, 30.0, 'Sleep stage 2'], [51960.0, 90.0, 'Sleep stage 1'], [52050.0, 60.0, 'Sleep stage 2'], [52110.0, 60.0, 'Sleep stage 1'], [52170.0, 180.0, 'Sleep stage 2'], [52350.0, 60.0, 'Sleep stage W'], [52410.0, 30.0, 'Sleep stage 1'], [52440.0, 90.0, 'Sleep stage W'], [52530.0, 60.0, 'Sleep stage 1'], [52590.0, 180.0, 'Sleep stage W'], [52770.0, 30.0, 'Sleep stage 1'], [52800.0, 60.0, 'Sleep stage W'], [52860.0, 90.0, 'Sleep stage 1'], [52950.0, 120.0, 'Sleep stage W'], [53070.0, 60.0, 'Sleep stage 1'], [53130.0, 28710.0, 'Sleep stage W'], [81840.0, 4560.0, 'Sleep stage ?']]}\n"
     ]
    }
   ],
   "source": [
    "header = highlevel.read_edf(labels[0])[2]\n",
    "print(len(header))\n",
    "print(header)\n"
   ]
  },
  {
   "cell_type": "markdown",
   "id": "f9642b26",
   "metadata": {},
   "source": [
    "--------"
   ]
  },
  {
   "cell_type": "markdown",
   "id": "3d57fa80",
   "metadata": {},
   "source": [
    "labels data에 주석이 달려 있습니다. \n",
    "\n",
    "[시작 시간, 지속시간, 수면 상태]\n",
    "\n",
    "이런식으로 labeling되어 있습니다.\n",
    "\n",
    "label 구성: \n",
    "\"Sleep stage ?\",\n",
    "\"Sleep stage W\",\n",
    "\"Sleep stage 1\",\n",
    "\"Sleep stage 2\",\n",
    "\"Sleep stage 3\",\n",
    "\"Sleep stage 4\",\n",
    "\"Sleep stage R\"\n"
   ]
  },
  {
   "cell_type": "markdown",
   "id": "1b7c3722",
   "metadata": {},
   "source": [
    "Get information EDF files by other mathod"
   ]
  },
  {
   "cell_type": "markdown",
   "id": "b830c1b0",
   "metadata": {},
   "source": [
    "-----"
   ]
  },
  {
   "cell_type": "code",
   "execution_count": 6,
   "id": "3a6cd29c",
   "metadata": {},
   "outputs": [
    {
     "name": "stdout",
     "output_type": "stream",
     "text": [
      "labels:['EEG Fpz-Cz', 'EEG Pz-Oz', 'EOG horizontal', 'Resp oro-nasal', 'EMG submental', 'Temp rectal', 'Event marker']\n",
      "Duaration:82260\n",
      "Freq.:[3000 3000 3000   30   30   30   30]\n",
      "N-Sample(=Freq x Duaration):[8226000 8226000 8226000   82260   82260   82260   82260]\n",
      "Date:1989-07-12 16:09:00\n"
     ]
    }
   ],
   "source": [
    "import pyedflib\n",
    "edf = pyedflib.EdfReader(trains[1])\n",
    "print('labels:'+str(edf.getSignalLabels()))\n",
    "print(\"Duaration:\"+str(edf.getFileDuration()))\n",
    "print(\"Freq.:\"+str(edf.getSampleFrequencies()))\n",
    "print(\"N-Sample(=Freq x Duaration):\"+str(edf.getNSamples()))\n",
    "print(\"Date:\"+str(edf.getStartdatetime()))"
   ]
  },
  {
   "cell_type": "markdown",
   "id": "4e1052a8",
   "metadata": {},
   "source": [
    "Extract EEG imformation and save to csv files"
   ]
  },
  {
   "cell_type": "code",
   "execution_count": null,
   "id": "65e2b290",
   "metadata": {},
   "outputs": [],
   "source": [
    "import pandas as pd\n",
    "columns = ['EEG Fpz-Cz', 'EEG Pz-Oz']\n",
    "for i in range(len(trains)):\n",
    "    edf = pyedflib.EdfReader(trains[i])\n",
    "    a = edf.readSignal(0)\n",
    "    b = edf.readSignal(1)\n",
    "    data = np.array([a,b])\n",
    "    data = data.transpose()\n",
    "    df = pd.DataFrame(data = data, columns = columns)\n",
    "    c = df_files[\"patient_id\"][i]\n",
    "    df.to_csv('%i\\n.csv' % i)\n"
   ]
  }
 ],
 "metadata": {
  "kernelspec": {
   "display_name": "Python 3 (ipykernel)",
   "language": "python",
   "name": "python3"
  },
  "language_info": {
   "codemirror_mode": {
    "name": "ipython",
    "version": 3
   },
   "file_extension": ".py",
   "mimetype": "text/x-python",
   "name": "python",
   "nbconvert_exporter": "python",
   "pygments_lexer": "ipython3",
   "version": "3.9.7"
  }
 },
 "nbformat": 4,
 "nbformat_minor": 5
}
