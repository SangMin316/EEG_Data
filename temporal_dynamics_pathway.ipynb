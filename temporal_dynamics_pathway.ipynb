{
  "cells": [
    {
      "cell_type": "markdown",
      "metadata": {
        "id": "view-in-github",
        "colab_type": "text"
      },
      "source": [
        "<a href=\"https://colab.research.google.com/github/SangMin316/EEG_Data/blob/main/temporal_dynamics_pathway.ipynb\" target=\"_parent\"><img src=\"https://colab.research.google.com/assets/colab-badge.svg\" alt=\"Open In Colab\"/></a>"
      ]
    },
    {
      "cell_type": "code",
      "source": [
        "from google.colab import drive\n",
        "drive.mount('/content/drive')"
      ],
      "metadata": {
        "colab": {
          "base_uri": "https://localhost:8080/"
        },
        "id": "ONTtaLqit05B",
        "outputId": "b1508aec-d89f-4885-b7fd-2294342437da"
      },
      "id": "ONTtaLqit05B",
      "execution_count": 33,
      "outputs": [
        {
          "output_type": "stream",
          "name": "stdout",
          "text": [
            "Drive already mounted at /content/drive; to attempt to forcibly remount, call drive.mount(\"/content/drive\", force_remount=True).\n"
          ]
        }
      ]
    },
    {
      "cell_type": "code",
      "execution_count": 3,
      "id": "64cdaaf7",
      "metadata": {
        "colab": {
          "base_uri": "https://localhost:8080/",
          "height": 381
        },
        "id": "64cdaaf7",
        "outputId": "863b4bea-9efa-46b4-fe1e-c365644cebfb"
      },
      "outputs": [
        {
          "output_type": "stream",
          "name": "stdout",
          "text": [
            "50\n"
          ]
        },
        {
          "output_type": "execute_result",
          "data": {
            "text/plain": [
              "   EEG Fpz-Cz\n",
              "0   25.056899\n",
              "1  -31.417827\n",
              "2  -41.904762\n",
              "3    3.567277\n",
              "4  -32.363370\n",
              "5    2.965568\n",
              "6   -8.982662\n",
              "7  -26.260317\n",
              "8    2.879609\n",
              "9  -26.432234"
            ],
            "text/html": [
              "\n",
              "  <div id=\"df-0fe74494-89fd-4ded-9537-8218f32f01bb\">\n",
              "    <div class=\"colab-df-container\">\n",
              "      <div>\n",
              "<style scoped>\n",
              "    .dataframe tbody tr th:only-of-type {\n",
              "        vertical-align: middle;\n",
              "    }\n",
              "\n",
              "    .dataframe tbody tr th {\n",
              "        vertical-align: top;\n",
              "    }\n",
              "\n",
              "    .dataframe thead th {\n",
              "        text-align: right;\n",
              "    }\n",
              "</style>\n",
              "<table border=\"1\" class=\"dataframe\">\n",
              "  <thead>\n",
              "    <tr style=\"text-align: right;\">\n",
              "      <th></th>\n",
              "      <th>EEG Fpz-Cz</th>\n",
              "    </tr>\n",
              "  </thead>\n",
              "  <tbody>\n",
              "    <tr>\n",
              "      <th>0</th>\n",
              "      <td>25.056899</td>\n",
              "    </tr>\n",
              "    <tr>\n",
              "      <th>1</th>\n",
              "      <td>-31.417827</td>\n",
              "    </tr>\n",
              "    <tr>\n",
              "      <th>2</th>\n",
              "      <td>-41.904762</td>\n",
              "    </tr>\n",
              "    <tr>\n",
              "      <th>3</th>\n",
              "      <td>3.567277</td>\n",
              "    </tr>\n",
              "    <tr>\n",
              "      <th>4</th>\n",
              "      <td>-32.363370</td>\n",
              "    </tr>\n",
              "    <tr>\n",
              "      <th>5</th>\n",
              "      <td>2.965568</td>\n",
              "    </tr>\n",
              "    <tr>\n",
              "      <th>6</th>\n",
              "      <td>-8.982662</td>\n",
              "    </tr>\n",
              "    <tr>\n",
              "      <th>7</th>\n",
              "      <td>-26.260317</td>\n",
              "    </tr>\n",
              "    <tr>\n",
              "      <th>8</th>\n",
              "      <td>2.879609</td>\n",
              "    </tr>\n",
              "    <tr>\n",
              "      <th>9</th>\n",
              "      <td>-26.432234</td>\n",
              "    </tr>\n",
              "  </tbody>\n",
              "</table>\n",
              "</div>\n",
              "      <button class=\"colab-df-convert\" onclick=\"convertToInteractive('df-0fe74494-89fd-4ded-9537-8218f32f01bb')\"\n",
              "              title=\"Convert this dataframe to an interactive table.\"\n",
              "              style=\"display:none;\">\n",
              "        \n",
              "  <svg xmlns=\"http://www.w3.org/2000/svg\" height=\"24px\"viewBox=\"0 0 24 24\"\n",
              "       width=\"24px\">\n",
              "    <path d=\"M0 0h24v24H0V0z\" fill=\"none\"/>\n",
              "    <path d=\"M18.56 5.44l.94 2.06.94-2.06 2.06-.94-2.06-.94-.94-2.06-.94 2.06-2.06.94zm-11 1L8.5 8.5l.94-2.06 2.06-.94-2.06-.94L8.5 2.5l-.94 2.06-2.06.94zm10 10l.94 2.06.94-2.06 2.06-.94-2.06-.94-.94-2.06-.94 2.06-2.06.94z\"/><path d=\"M17.41 7.96l-1.37-1.37c-.4-.4-.92-.59-1.43-.59-.52 0-1.04.2-1.43.59L10.3 9.45l-7.72 7.72c-.78.78-.78 2.05 0 2.83L4 21.41c.39.39.9.59 1.41.59.51 0 1.02-.2 1.41-.59l7.78-7.78 2.81-2.81c.8-.78.8-2.07 0-2.86zM5.41 20L4 18.59l7.72-7.72 1.47 1.35L5.41 20z\"/>\n",
              "  </svg>\n",
              "      </button>\n",
              "      \n",
              "  <style>\n",
              "    .colab-df-container {\n",
              "      display:flex;\n",
              "      flex-wrap:wrap;\n",
              "      gap: 12px;\n",
              "    }\n",
              "\n",
              "    .colab-df-convert {\n",
              "      background-color: #E8F0FE;\n",
              "      border: none;\n",
              "      border-radius: 50%;\n",
              "      cursor: pointer;\n",
              "      display: none;\n",
              "      fill: #1967D2;\n",
              "      height: 32px;\n",
              "      padding: 0 0 0 0;\n",
              "      width: 32px;\n",
              "    }\n",
              "\n",
              "    .colab-df-convert:hover {\n",
              "      background-color: #E2EBFA;\n",
              "      box-shadow: 0px 1px 2px rgba(60, 64, 67, 0.3), 0px 1px 3px 1px rgba(60, 64, 67, 0.15);\n",
              "      fill: #174EA6;\n",
              "    }\n",
              "\n",
              "    [theme=dark] .colab-df-convert {\n",
              "      background-color: #3B4455;\n",
              "      fill: #D2E3FC;\n",
              "    }\n",
              "\n",
              "    [theme=dark] .colab-df-convert:hover {\n",
              "      background-color: #434B5C;\n",
              "      box-shadow: 0px 1px 3px 1px rgba(0, 0, 0, 0.15);\n",
              "      filter: drop-shadow(0px 1px 2px rgba(0, 0, 0, 0.3));\n",
              "      fill: #FFFFFF;\n",
              "    }\n",
              "  </style>\n",
              "\n",
              "      <script>\n",
              "        const buttonEl =\n",
              "          document.querySelector('#df-0fe74494-89fd-4ded-9537-8218f32f01bb button.colab-df-convert');\n",
              "        buttonEl.style.display =\n",
              "          google.colab.kernel.accessAllowed ? 'block' : 'none';\n",
              "\n",
              "        async function convertToInteractive(key) {\n",
              "          const element = document.querySelector('#df-0fe74494-89fd-4ded-9537-8218f32f01bb');\n",
              "          const dataTable =\n",
              "            await google.colab.kernel.invokeFunction('convertToInteractive',\n",
              "                                                     [key], {});\n",
              "          if (!dataTable) return;\n",
              "\n",
              "          const docLinkHtml = 'Like what you see? Visit the ' +\n",
              "            '<a target=\"_blank\" href=https://colab.research.google.com/notebooks/data_table.ipynb>data table notebook</a>'\n",
              "            + ' to learn more about interactive tables.';\n",
              "          element.innerHTML = '';\n",
              "          dataTable['output_type'] = 'display_data';\n",
              "          await google.colab.output.renderOutput(dataTable, element);\n",
              "          const docLink = document.createElement('div');\n",
              "          docLink.innerHTML = docLinkHtml;\n",
              "          element.appendChild(docLink);\n",
              "        }\n",
              "      </script>\n",
              "    </div>\n",
              "  </div>\n",
              "  "
            ]
          },
          "metadata": {},
          "execution_count": 3
        }
      ],
      "source": [
        "import glob \n",
        "import pandas as pd\n",
        "\n",
        "path = '/content/drive/MyDrive/sleep_edfx'\n",
        "data_list = glob.glob(path+'/**')\n",
        "\n",
        "print(len(data_list))\n",
        "sample_csv = pd.read_csv(data_list[0])\n",
        "sample_csv.head(10)"
      ]
    },
    {
      "cell_type": "code",
      "execution_count": 4,
      "id": "c8871162",
      "metadata": {
        "colab": {
          "base_uri": "https://localhost:8080/"
        },
        "id": "c8871162",
        "outputId": "fa5a6b34-2862-47b8-e0eb-f50a22c785c9"
      },
      "outputs": [
        {
          "output_type": "stream",
          "name": "stdout",
          "text": [
            "<class 'pandas.core.frame.DataFrame'>\n",
            "RangeIndex: 6726000 entries, 0 to 6725999\n",
            "Data columns (total 1 columns):\n",
            " #   Column      Dtype  \n",
            "---  ------      -----  \n",
            " 0   EEG Fpz-Cz  float64\n",
            "dtypes: float64(1)\n",
            "memory usage: 51.3 MB\n"
          ]
        }
      ],
      "source": [
        "sample_csv.info()"
      ]
    },
    {
      "cell_type": "code",
      "execution_count": 5,
      "id": "084d182a",
      "metadata": {
        "colab": {
          "base_uri": "https://localhost:8080/"
        },
        "id": "084d182a",
        "outputId": "6871a9ee-a945-4651-9648-bdda612f3ce1"
      },
      "outputs": [
        {
          "output_type": "execute_result",
          "data": {
            "text/plain": [
              "-0.042979      57192\n",
              " 2.707692      16382\n",
              " 0.472772      16298\n",
              " 5.458364      16142\n",
              " 1.332357      16130\n",
              "               ...  \n",
              " 171.873993        2\n",
              "-175.312332        2\n",
              "-175.828083        1\n",
              " 173.163370        1\n",
              "-174.538706        1\n",
              "Name: EEG Fpz-Cz, Length: 4096, dtype: int64"
            ]
          },
          "metadata": {},
          "execution_count": 5
        }
      ],
      "source": [
        "sample_csv['EEG Fpz-Cz'].value_counts()"
      ]
    },
    {
      "cell_type": "code",
      "execution_count": 6,
      "id": "b09e1b40",
      "metadata": {
        "colab": {
          "base_uri": "https://localhost:8080/"
        },
        "id": "b09e1b40",
        "outputId": "faa5fd80-0a89-418a-9d4f-918dc576c82a"
      },
      "outputs": [
        {
          "output_type": "execute_result",
          "data": {
            "text/plain": [
              "(6726000, 1)"
            ]
          },
          "metadata": {},
          "execution_count": 6
        }
      ],
      "source": [
        "sample_csv.shape"
      ]
    },
    {
      "cell_type": "markdown",
      "source": [
        "Cut the data into a sequence of 500 lengths, and then apply augmentation.\n"
      ],
      "metadata": {
        "id": "-1Sfx2V6PH1z"
      },
      "id": "-1Sfx2V6PH1z"
    },
    {
      "cell_type": "code",
      "source": [
        "sequence_length = 500\n",
        "def split_data(x):\n",
        "  a = int(len(x)/sequence_length)\n",
        "  data = []\n",
        "  for i in range(a):\n",
        "    data.append(x[i*sequence_length:(i+1)*sequence_length])\n",
        "  return data\n"
      ],
      "metadata": {
        "id": "8sfVaZV88ABr"
      },
      "id": "8sfVaZV88ABr",
      "execution_count": 7,
      "outputs": []
    },
    {
      "cell_type": "code",
      "source": [
        "data = split_data(sample_csv.values)"
      ],
      "metadata": {
        "id": "JwQVKLuP9Jj4"
      },
      "id": "JwQVKLuP9Jj4",
      "execution_count": 8,
      "outputs": []
    },
    {
      "cell_type": "code",
      "source": [
        "len(data)"
      ],
      "metadata": {
        "colab": {
          "base_uri": "https://localhost:8080/"
        },
        "id": "ooAff8649jUc",
        "outputId": "aecab87a-b542-4397-9366-e67503bd1ef9"
      },
      "id": "ooAff8649jUc",
      "execution_count": 9,
      "outputs": [
        {
          "output_type": "execute_result",
          "data": {
            "text/plain": [
              "13452"
            ]
          },
          "metadata": {},
          "execution_count": 9
        }
      ]
    },
    {
      "cell_type": "code",
      "source": [
        "print(len(data[0]))"
      ],
      "metadata": {
        "colab": {
          "base_uri": "https://localhost:8080/"
        },
        "id": "m0D9teH--HR5",
        "outputId": "4ff2826c-1374-45f0-b10a-c4446fc95b0c"
      },
      "id": "m0D9teH--HR5",
      "execution_count": 10,
      "outputs": [
        {
          "output_type": "stream",
          "name": "stdout",
          "text": [
            "500\n"
          ]
        }
      ]
    },
    {
      "cell_type": "code",
      "source": [
        "a = data[1]\n",
        "a.shape"
      ],
      "metadata": {
        "colab": {
          "base_uri": "https://localhost:8080/"
        },
        "id": "Ygg5wFDc_SQe",
        "outputId": "394c4b66-4ab5-4816-edcd-b690a86aed37"
      },
      "id": "Ygg5wFDc_SQe",
      "execution_count": 11,
      "outputs": [
        {
          "output_type": "execute_result",
          "data": {
            "text/plain": [
              "(500, 1)"
            ]
          },
          "metadata": {},
          "execution_count": 11
        }
      ]
    },
    {
      "cell_type": "code",
      "source": [
        "len(sample_csv)/500"
      ],
      "metadata": {
        "colab": {
          "base_uri": "https://localhost:8080/"
        },
        "id": "1aBx383M-FWl",
        "outputId": "378863f6-92b7-43da-fa68-75a68429eec6"
      },
      "id": "1aBx383M-FWl",
      "execution_count": 12,
      "outputs": [
        {
          "output_type": "execute_result",
          "data": {
            "text/plain": [
              "13452.0"
            ]
          },
          "metadata": {},
          "execution_count": 12
        }
      ]
    },
    {
      "cell_type": "markdown",
      "id": "ad3ce2d4",
      "metadata": {
        "id": "ad3ce2d4"
      },
      "source": [
        "*Data* augmentation for single channel"
      ]
    },
    {
      "cell_type": "code",
      "execution_count": 13,
      "id": "37d36acd",
      "metadata": {
        "id": "37d36acd"
      },
      "outputs": [],
      "source": [
        "import numpy as np\n",
        "\n",
        "np.random.seed(42)\n",
        "\n",
        "\n",
        "def MAF(x,window):\n",
        "    noise = np.convolve(x, np.ones(window),'same')/window\n",
        "    x = x - noise\n",
        "    return x\n",
        "\n",
        "def asln(x,a,b):\n",
        "    T = len(x)\n",
        "    noise = a*np.linspace(0,30,T) - b*np.ones(T)\n",
        "    n = np.random.randint(2)\n",
        "    if n == 0:\n",
        "        new_signals = x + noise\n",
        "    else:\n",
        "        new_signals = x - noise\n",
        "    return new_signals\n",
        "\n",
        "def apn(x,c,d):\n",
        "    T = len(x)\n",
        "    noise =np.sin(np.linspace(-np.pi+d,np.pi+d,T))\n",
        "    new_signals = x + c*noise\n",
        "    return new_signals\n",
        "\n",
        "\n",
        "def augmented_data(x,window,a,b,c,d):\n",
        "    x = np.reshape(x,(1,sequence_length))\n",
        "    x = np.squeeze(x)\n",
        "    x_maf = MAF(x,window)\n",
        "    x_asln = asln(x,a,b)\n",
        "    x_apn = apn(x,c,d)\n",
        "    x = np.array([x ,x_maf, x_asln, x_apn])\n",
        "    x = np.squeeze(x)\n",
        "    #one-hot encoding\n",
        "    label = np.eye(4)\n",
        "    return x, label\n",
        "    "
      ]
    },
    {
      "cell_type": "markdown",
      "source": [
        "Data augmentation for multiple channels"
      ],
      "metadata": {
        "id": "3F7fXigcyKln"
      },
      "id": "3F7fXigcyKln"
    },
    {
      "cell_type": "code",
      "source": [
        "np.random.seed(42)\n",
        "\n",
        "def MAF(x,window):\n",
        "    noise = np.convolve(x, np.ones(window),'same')/window\n",
        "    x = x - noise\n",
        "    return x\n",
        "    \n",
        "def asln(x,a,b):\n",
        "\n",
        "    C,T = x.shape\n",
        "    noise = a*np.linspace(0,T,10) - b*np.one(T)\n",
        "    noise = noise*np.ones((C,1))\n",
        "    n = np.random.randint(2)\n",
        "    if n = 0:\n",
        "        new_signals = x + noise\n",
        "    else:\n",
        "        new_signals = x - noise\n",
        "    return new_signals\n",
        "\n",
        "def apn(x,c,d):\n",
        "    C,T = x.shape\n",
        "    noise = np.linspace(-np.pi+d,np.pi+d,T) - b*np.one(T)\n",
        "    noise = c*np.sin(noise)\n",
        "    new_signals = x + \n",
        "    return new_signals\n",
        "\n",
        "\n",
        "def augmented_data(x,window,a,b,c,d):\n",
        "    x = np.reshape(x,(1,sequence_length))\n",
        "    x = np.squeeze(x)\n",
        "    x_maf = MAF(x,window)\n",
        "    x_asln = asln(x,a,b)\n",
        "    x_apn = apn(x,c,d)\n",
        "    x = np.array([x ,x_maf, x_asln, x_apn])\n",
        "    x = np.squeeze(x)\n",
        "    #one-hot encoding\n",
        "    label = np.eye(4)\n",
        "    return x, label\n",
        "    "
      ],
      "metadata": {
        "id": "10_8SvBXyKOx"
      },
      "id": "10_8SvBXyKOx",
      "execution_count": null,
      "outputs": []
    },
    {
      "cell_type": "code",
      "source": [
        "a = data[0]\n",
        "x,y = augmented_data(a,20,2,0.3,20,0)\n",
        "print(x.shape)\n",
        "print(y)"
      ],
      "metadata": {
        "colab": {
          "base_uri": "https://localhost:8080/"
        },
        "id": "9l6ZRlNf3ltT",
        "outputId": "5335676d-2885-44da-ec46-996ec5f968af"
      },
      "id": "9l6ZRlNf3ltT",
      "execution_count": 14,
      "outputs": [
        {
          "output_type": "stream",
          "name": "stdout",
          "text": [
            "(4, 500)\n",
            "[[1. 0. 0. 0.]\n",
            " [0. 1. 0. 0.]\n",
            " [0. 0. 1. 0.]\n",
            " [0. 0. 0. 1.]]\n"
          ]
        }
      ]
    },
    {
      "cell_type": "markdown",
      "source": [
        "Plot the augmented signals"
      ],
      "metadata": {
        "id": "hEsdf-nmSLfS"
      },
      "id": "hEsdf-nmSLfS"
    },
    {
      "cell_type": "code",
      "source": [
        "import matplotlib.pyplot as plt\n",
        "\n",
        "t = np.linspace(0,500,500)\n",
        "plt.figure(figsize =(12, 7))\n",
        "label = ['raw', 'stationary','trendstationary','cyclostationary']\n",
        "\n",
        "for i in range(4):\n",
        "  y = x[i]\n",
        "  plt.subplot(2, 2, i+1)\n",
        "  plt.plot(t,y)\n",
        "  plt.title(label[i])\n",
        "  \n",
        "plt.show()  "
      ],
      "metadata": {
        "colab": {
          "base_uri": "https://localhost:8080/",
          "height": 444
        },
        "id": "IjRq-9JzBVG9",
        "outputId": "91fea355-5818-4821-b750-aed36e323618"
      },
      "id": "IjRq-9JzBVG9",
      "execution_count": 16,
      "outputs": [
        {
          "output_type": "display_data",
          "data": {
            "text/plain": [
              "<Figure size 864x504 with 4 Axes>"
            ],
            "image/png": "[encoded data removed]"
          },
          "metadata": {
            "needs_background": "light"
          }
        }
      ]
    },
    {
      "cell_type": "markdown",
      "source": [
        "We couldn't find the process of uploading augmented files to a custom dataset, so we chose this method as a temporary measure.\n",
        "\n",
        "\n",
        "In the future, we will implement uploading it to the data loader without saving it."
      ],
      "metadata": {
        "id": "wmzSzi7KSK2E"
      },
      "id": "wmzSzi7KSK2E"
    },
    {
      "cell_type": "code",
      "source": [
        "for j in range(len(data_list)):\n",
        "  sample_csv = pd.read_csv(data_list[j])\n",
        "  data = split_data(sample_csv.values)\n",
        "  for i in range(len(data)):\n",
        "    x,y = augmented_data(data[i],20,2,0.3,20,0)\n",
        "    for k in range(3):\n",
        "      x1 = x[k]\n",
        "      y1 = y[k] \n",
        "      np.savez_compressed('/content/drive/MyDrive/sleep_edfx/500npz/%s_%s_%s.npz' %(i,j,k),x=x1,y=y1)"
      ],
      "metadata": {
        "id": "b7A05cC0nlQ0"
      },
      "id": "b7A05cC0nlQ0",
      "execution_count": null,
      "outputs": []
    },
    {
      "cell_type": "markdown",
      "source": [
        "CustomDataset"
      ],
      "metadata": {
        "id": "QDaY3XwbVBHE"
      },
      "id": "QDaY3XwbVBHE"
    },
    {
      "cell_type": "code",
      "source": [
        "from torch.utils.data import Dataset\n",
        "import torch\n",
        "\n",
        "class CustomDataset(Dataset):\n",
        "  def __init__(self, files, sequence_length):\n",
        "    self.files = files\n",
        "    self.sequence_length = sequence_length\n",
        "\n",
        "  def __len__(self):\n",
        "    return len(self.files)\n",
        "\n",
        "  def __get__item__(self,i):\n",
        "    file = self.files[i]\n",
        "    data = np.load(file)['x']\n",
        "    label = np.load(file)['y']\n",
        "    return {'data' : data,'label':label}    \n",
        "    #return {'data' : torch.tensor(data, dtype=torch.float32),'label' : torch.tensor(label, dtype=torch.long)}"
      ],
      "metadata": {
        "id": "1WJKm7SCA9dM"
      },
      "id": "1WJKm7SCA9dM",
      "execution_count": 39,
      "outputs": []
    },
    {
      "cell_type": "code",
      "source": [
        "file = train[0]\n",
        "data = np.load(file)['x']\n"
      ],
      "metadata": {
        "id": "Mbap9X2lk98b"
      },
      "id": "Mbap9X2lk98b",
      "execution_count": 64,
      "outputs": []
    },
    {
      "cell_type": "code",
      "source": [
        "from torch.utils.data import DataLoader\n",
        "from sklearn.model_selection import train_test_split\n",
        "path = '/content/drive/MyDrive/sleep_edfx/500npz'\n",
        "train = sorted(glob.glob(path+'/*'))\n",
        "\n",
        "train, val = train_test_split(train, test_size=0.3)\n",
        "\n"
      ],
      "metadata": {
        "id": "M2DtZCR8BZ4I"
      },
      "id": "M2DtZCR8BZ4I",
      "execution_count": 40,
      "outputs": []
    },
    {
      "cell_type": "code",
      "source": [
        "train_dataset = CustomDataset(train, 500)\n",
        "val_dataset = CustomDataset(val, 500)"
      ],
      "metadata": {
        "id": "H7kmTXoiC7DU"
      },
      "id": "H7kmTXoiC7DU",
      "execution_count": 41,
      "outputs": []
    },
    {
      "cell_type": "code",
      "source": [
        "batch_size = 2\n",
        "\n",
        "train_dataloader = torch.utils.data.DataLoader(train_dataset, batch_size=batch_size, num_workers=4, shuffle=True)\n",
        "val_dataloader = torch.utils.data.DataLoader(val_dataset, batch_size=batch_size, num_workers=4, shuffle=False)"
      ],
      "metadata": {
        "colab": {
          "base_uri": "https://localhost:8080/"
        },
        "id": "f6KLs6jZ8V9X",
        "outputId": "8498d100-46ee-465b-bea2-02a9b707e2eb"
      },
      "id": "f6KLs6jZ8V9X",
      "execution_count": 60,
      "outputs": [
        {
          "output_type": "stream",
          "name": "stderr",
          "text": [
            "/usr/local/lib/python3.7/dist-packages/torch/utils/data/dataloader.py:566: UserWarning: This DataLoader will create 4 worker processes in total. Our suggested max number of worker in current system is 2, which is smaller than what this DataLoader is going to create. Please be aware that excessive worker creation might get DataLoader running slow or even freeze, lower the worker number to avoid potential slowness/freeze if necessary.\n",
            "  cpuset_checked))\n"
          ]
        }
      ]
    },
    {
      "cell_type": "markdown",
      "id": "c60441da",
      "metadata": {
        "id": "c60441da"
      },
      "source": [
        "model"
      ]
    },
    {
      "cell_type": "code",
      "source": [
        "pip install separableconv-torch"
      ],
      "metadata": {
        "colab": {
          "base_uri": "https://localhost:8080/"
        },
        "id": "JQAxz413W1JT",
        "outputId": "383f4fee-7986-4ddd-d4c4-5e1ae447491d"
      },
      "id": "JQAxz413W1JT",
      "execution_count": 43,
      "outputs": [
        {
          "output_type": "stream",
          "name": "stdout",
          "text": [
            "Looking in indexes: https://pypi.org/simple, https://us-python.pkg.dev/colab-wheels/public/simple/\n",
            "Requirement already satisfied: separableconv-torch in /usr/local/lib/python3.7/dist-packages (0.1.0)\n",
            "Requirement already satisfied: torchvision in /usr/local/lib/python3.7/dist-packages (from separableconv-torch) (0.13.1+cu113)\n",
            "Requirement already satisfied: torch in /usr/local/lib/python3.7/dist-packages (from separableconv-torch) (1.12.1+cu113)\n",
            "Requirement already satisfied: numpy in /usr/local/lib/python3.7/dist-packages (from separableconv-torch) (1.21.6)\n",
            "Requirement already satisfied: typing-extensions in /usr/local/lib/python3.7/dist-packages (from torch->separableconv-torch) (4.1.1)\n",
            "Requirement already satisfied: pillow!=8.3.*,>=5.3.0 in /usr/local/lib/python3.7/dist-packages (from torchvision->separableconv-torch) (7.1.2)\n",
            "Requirement already satisfied: requests in /usr/local/lib/python3.7/dist-packages (from torchvision->separableconv-torch) (2.23.0)\n",
            "Requirement already satisfied: idna<3,>=2.5 in /usr/local/lib/python3.7/dist-packages (from requests->torchvision->separableconv-torch) (2.10)\n",
            "Requirement already satisfied: urllib3!=1.25.0,!=1.25.1,<1.26,>=1.21.1 in /usr/local/lib/python3.7/dist-packages (from requests->torchvision->separableconv-torch) (1.24.3)\n",
            "Requirement already satisfied: chardet<4,>=3.0.2 in /usr/local/lib/python3.7/dist-packages (from requests->torchvision->separableconv-torch) (3.0.4)\n",
            "Requirement already satisfied: certifi>=2017.4.17 in /usr/local/lib/python3.7/dist-packages (from requests->torchvision->separableconv-torch) (2022.6.15)\n"
          ]
        }
      ]
    },
    {
      "cell_type": "code",
      "execution_count": 44,
      "id": "866d5fd9",
      "metadata": {
        "id": "866d5fd9"
      },
      "outputs": [],
      "source": [
        "import torch\n",
        "import torch.nn as nn\n",
        "import separableconv.nn as nns\n",
        "\n",
        "\n",
        "class feature_extractor3(nn.Module):\n",
        "    def __init__(self):\n",
        "        super(feature_extractor3,self).__init__()\n",
        "        \n",
        "        self.channels = 1 # we use only single channel \n",
        "        \n",
        "        # Regularizer\n",
        "        #self.regularizer = tf.keras.regularizers.L1L2(l1=.001, l2=.01)\n",
        "\n",
        "        # Activation functions\n",
        "        self.activation = nn.LeakyReLU()\n",
        "\n",
        "        self.softmax = nn.Softmax()\n",
        "        self.conv1t = nns.SeparableConv2d(1,16,(1,10)) # (in_channels, out_channels, kernel size,,,)\n",
        "        self.conv1s = nn.Conv2d(16,16,(self.channels,1))\n",
        "        self.conv2t = nns.SeparableConv2d(16,32,(1,10))\n",
        "        self.conv2s = nn.Conv2d(32,32,(self.channels,1))\n",
        "        self.conv3t = nns.SeparableConv2d(32,64,(1,10))\n",
        "        self.conv3s = nn.Conv2d(64,64,(self.channels,1))\n",
        "        \n",
        "        # Flatteninig\n",
        "        self.flatten = nn.Flatten()\n",
        "\n",
        "        # Dropout\n",
        "        self.dropout = nn.Dropout(0.5)\n",
        "\n",
        "        # Decision making\n",
        "        self.Linear = nn.Linear(64*473,4) # \n",
        "         \n",
        "        \n",
        "    def embedding(self, x, random_mask=False):\n",
        "\n",
        "        x = self.activation(self.conv1t(x))\n",
        "        f1 = self.activation(self.conv1s(x))\n",
        "\n",
        "        x = self.activation(self.conv2t(x))\n",
        "        f2 = self.activation(self.conv2s(x))\n",
        "\n",
        "        x = self.activation(self.conv3t(x))\n",
        "        f3 = self.activation(self.conv3s(x))\n",
        "        \n",
        "\n",
        "        # multi-scale feature representation by exploiting intermediate features\n",
        "        feature = torch.cat((f1, f2, f3), 0)\n",
        "        return feature\n",
        "\n",
        "    def classifier(self, feature):\n",
        "        # Flattening, dropout, mapping into the decision nodes\n",
        "        feature = self.flatten(feature)\n",
        "        feature = self.dropout(feature)\n",
        "        y_hat = self.softmax(self.Linear(feature))\n",
        "        return y_hat    "
      ]
    },
    {
      "cell_type": "code",
      "execution_count": 45,
      "id": "96b543ae",
      "metadata": {
        "id": "96b543ae",
        "outputId": "b753ddf4-9593-481b-ae83-f491d12f9039",
        "colab": {
          "base_uri": "https://localhost:8080/"
        }
      },
      "outputs": [
        {
          "output_type": "stream",
          "name": "stdout",
          "text": [
            "feature_extractor3(\n",
            "  (activation): LeakyReLU(negative_slope=0.01)\n",
            "  (softmax): Softmax(dim=None)\n",
            "  (conv1t): SeparableConv2d(\n",
            "    (dwconv): Conv2d(1, 1, kernel_size=(1, 10), stride=(1, 1))\n",
            "    (dwconv_normalization): BatchNorm2d(1, eps=1e-05, momentum=0.1, affine=True, track_running_stats=True)\n",
            "    (dwconv_activation): ReLU()\n",
            "    (pwconv): Conv2d(1, 16, kernel_size=(1, 1), stride=(1, 1))\n",
            "    (pwconv_normalization): BatchNorm2d(16, eps=1e-05, momentum=0.1, affine=True, track_running_stats=True)\n",
            "    (pwconv_activation): ReLU()\n",
            "  )\n",
            "  (conv1s): Conv2d(16, 16, kernel_size=(1, 1), stride=(1, 1))\n",
            "  (conv2t): SeparableConv2d(\n",
            "    (dwconv): Conv2d(16, 16, kernel_size=(1, 10), stride=(1, 1), groups=16)\n",
            "    (dwconv_normalization): BatchNorm2d(16, eps=1e-05, momentum=0.1, affine=True, track_running_stats=True)\n",
            "    (dwconv_activation): ReLU()\n",
            "    (pwconv): Conv2d(16, 32, kernel_size=(1, 1), stride=(1, 1))\n",
            "    (pwconv_normalization): BatchNorm2d(32, eps=1e-05, momentum=0.1, affine=True, track_running_stats=True)\n",
            "    (pwconv_activation): ReLU()\n",
            "  )\n",
            "  (conv2s): Conv2d(32, 32, kernel_size=(1, 1), stride=(1, 1))\n",
            "  (conv3t): SeparableConv2d(\n",
            "    (dwconv): Conv2d(32, 32, kernel_size=(1, 10), stride=(1, 1), groups=32)\n",
            "    (dwconv_normalization): BatchNorm2d(32, eps=1e-05, momentum=0.1, affine=True, track_running_stats=True)\n",
            "    (dwconv_activation): ReLU()\n",
            "    (pwconv): Conv2d(32, 64, kernel_size=(1, 1), stride=(1, 1))\n",
            "    (pwconv_normalization): BatchNorm2d(64, eps=1e-05, momentum=0.1, affine=True, track_running_stats=True)\n",
            "    (pwconv_activation): ReLU()\n",
            "  )\n",
            "  (conv3s): Conv2d(64, 64, kernel_size=(1, 1), stride=(1, 1))\n",
            "  (flatten): Flatten(start_dim=1, end_dim=-1)\n",
            "  (dropout): Dropout(p=0.5, inplace=False)\n",
            "  (Linear): Linear(in_features=30272, out_features=4, bias=True)\n",
            ")\n"
          ]
        }
      ],
      "source": [
        "model = feature_extractor3()\n",
        "print(model)"
      ]
    },
    {
      "cell_type": "markdown",
      "source": [],
      "metadata": {
        "id": "0uFINPHdXyhL"
      },
      "id": "0uFINPHdXyhL"
    }
  ],
  "metadata": {
    "kernelspec": {
      "display_name": "Python 3 (ipykernel)",
      "language": "python",
      "name": "python3"
    },
    "language_info": {
      "codemirror_mode": {
        "name": "ipython",
        "version": 3
      },
      "file_extension": ".py",
      "mimetype": "text/x-python",
      "name": "python",
      "nbconvert_exporter": "python",
      "pygments_lexer": "ipython3",
      "version": "3.9.7"
    },
    "colab": {
      "provenance": [],
      "collapsed_sections": [],
      "include_colab_link": true
    },
    "accelerator": "GPU",
    "gpuClass": "standard"
  },
  "nbformat": 4,
  "nbformat_minor": 5
}