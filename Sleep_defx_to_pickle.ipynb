{
  "cells": [
    {
      "cell_type": "markdown",
      "metadata": {
        "id": "view-in-github",
        "colab_type": "text"
      },
      "source": [
        "<a href=\"https://colab.research.google.com/github/SangMin316/EEG_Data/blob/main/Sleep_defx_to_pickle.ipynb\" target=\"_parent\"><img src=\"https://colab.research.google.com/assets/colab-badge.svg\" alt=\"Open In Colab\"/></a>"
      ]
    },
    {
      "cell_type": "code",
      "execution_count": null,
      "metadata": {
        "colab": {
          "base_uri": "https://localhost:8080/"
        },
        "id": "IRpgysTUGCIf",
        "outputId": "d82c75a5-fa00-4b4f-e445-98bbc47ca60c"
      },
      "outputs": [
        {
          "name": "stdout",
          "output_type": "stream",
          "text": [
            "Drive already mounted at /content/drive; to attempt to forcibly remount, call drive.mount(\"/content/drive\", force_remount=True).\n"
          ]
        }
      ],
      "source": [
        "from google.colab import drive\n",
        "drive.mount('/content/drive')"
      ]
    },
    {
      "cell_type": "code",
      "execution_count": null,
      "metadata": {
        "colab": {
          "base_uri": "https://localhost:8080/"
        },
        "id": "ra1DcHAnGSSZ",
        "outputId": "c1c80dfe-608e-41c0-bade-320f9e52de77"
      },
      "outputs": [
        {
          "name": "stdout",
          "output_type": "stream",
          "text": [
            "Looking in indexes: https://pypi.org/simple, https://us-python.pkg.dev/colab-wheels/public/simple/\n",
            "Collecting pyedflib\n",
            "  Downloading pyEDFlib-0.1.30-cp37-cp37m-manylinux_2_17_x86_64.manylinux2014_x86_64.whl (2.4 MB)\n",
            "\u001b[K     |████████████████████████████████| 2.4 MB 8.6 MB/s \n",
            "\u001b[?25hRequirement already satisfied: numpy>=1.9.1 in /usr/local/lib/python3.7/dist-packages (from pyedflib) (1.21.6)\n",
            "Installing collected packages: pyedflib\n",
            "Successfully installed pyedflib-0.1.30\n"
          ]
        }
      ],
      "source": [
        "!pip install pyedflib"
      ]
    },
    {
      "cell_type": "code",
      "execution_count": null,
      "metadata": {
        "colab": {
          "base_uri": "https://localhost:8080/"
        },
        "id": "6vXqaKE8gZBd",
        "outputId": "fad73699-e027-4ad9-d948-b2291298c60e"
      },
      "outputs": [
        {
          "name": "stdout",
          "output_type": "stream",
          "text": [
            "number of cattette files 306\n",
            "number of telemetry files 88\n",
            "number of train samples: 153\n",
            "number of labels: 153\n",
            "([array([-12.93333333, -12.04444444, -10.88888889, ...,  34.44444444,\n",
            "        75.95555556,  77.82222222]), array([ 6.43711844,  0.83247863,  5.2021978 , ..., 26.86080586,\n",
            "       -5.34212454, 22.01611722]), array([ 220.54993895,  220.06471306,  214.72722833, ..., -101.64004884,\n",
            "       -104.06617827,  -94.84688645]), array([130., 129., 112., ...,  53.,  41.,  45.]), array([3.498, 3.512, 3.51 , ..., 3.05 , 3.024, 3.058]), array([14.1794461 , 14.15335317, 14.12039368, ..., 14.11032273,\n",
            "       14.13641566, 14.13504234]), array([1037., 1012.,  985., ...,  858.,  880.,  896.])], [{'label': 'EEG Fpz-Cz', 'dimension': 'uV', 'sample_rate': 3000.0, 'sample_frequency': 3000.0, 'physical_max': 182.0, 'physical_min': -182.0, 'digital_max': 2047, 'digital_min': -2048, 'prefilter': 'HP:0.5Hz LP:100Hz [enhanced cassette BW]', 'transducer': 'Ag-AgCl electrodes'}, {'label': 'EEG Pz-Oz', 'dimension': 'uV', 'sample_rate': 3000.0, 'sample_frequency': 3000.0, 'physical_max': 195.0, 'physical_min': -194.0, 'digital_max': 2047, 'digital_min': -2048, 'prefilter': 'HP:0.5Hz LP:100Hz [enhanced cassette BW]', 'transducer': 'Ag-AgCl electrodes'}, {'label': 'EOG horizontal', 'dimension': 'uV', 'sample_rate': 3000.0, 'sample_frequency': 3000.0, 'physical_max': 994.0, 'physical_min': -993.0, 'digital_max': 2047, 'digital_min': -2048, 'prefilter': 'HP:0.5Hz LP:100Hz [enhanced cassette BW]', 'transducer': 'Ag-AgCl electrodes'}, {'label': 'Resp oro-nasal', 'dimension': '', 'sample_rate': 30.0, 'sample_frequency': 30.0, 'physical_max': 3000.0, 'physical_min': -3000.0, 'digital_max': 3000, 'digital_min': -3000, 'prefilter': 'HP:0.03Hz LP:0.9Hz', 'transducer': 'Oral-nasal thermistors'}, {'label': 'EMG submental', 'dimension': 'uV', 'sample_rate': 30.0, 'sample_frequency': 30.0, 'physical_max': 5.0, 'physical_min': -5.0, 'digital_max': 2500, 'digital_min': -2500, 'prefilter': 'HP:16Hz Rectification LP:0.7Hz', 'transducer': 'Ag-AgCl electrodes'}, {'label': 'Temp rectal', 'dimension': '', 'sample_rate': 30.0, 'sample_frequency': 30.0, 'physical_max': 30.0, 'physical_min': 0.0, 'digital_max': 32767, 'digital_min': -32768, 'prefilter': '', 'transducer': 'Rectal thermistor'}, {'label': 'Event marker', 'dimension': '', 'sample_rate': 30.0, 'sample_frequency': 30.0, 'physical_max': 2048.0, 'physical_min': -2047.0, 'digital_max': 2048, 'digital_min': -2047, 'prefilter': 'Hold during 2 seconds', 'transducer': 'Marker button'}], {'technician': '', 'recording_additional': '', 'patientname': '', 'patient_additional': '', 'patientcode': '', 'equipment': '', 'admincode': '', 'gender': '', 'startdate': datetime.datetime(1991, 9, 26, 15, 0), 'birthdate': '', 'annotations': []})\n",
            "\n",
            "(array([], dtype=float64), [], {'technician': '', 'recording_additional': '', 'patientname': 'Female 26yr', 'patient_additional': '', 'patientcode': '', 'equipment': '', 'admincode': '', 'gender': 'Female', 'startdate': datetime.datetime(1989, 4, 10, 16, 50), 'birthdate': '', 'annotations': [[0.0, 26130.0, 'Sleep stage W'], [26130.0, 30.0, 'Sleep stage 1'], [26160.0, 60.0, 'Sleep stage W'], [26220.0, 240.0, 'Sleep stage 1'], [26460.0, 30.0, 'Sleep stage W'], [26490.0, 90.0, 'Sleep stage 1'], [26580.0, 1050.0, 'Sleep stage 2'], [27630.0, 30.0, 'Sleep stage 3'], [27660.0, 150.0, 'Sleep stage 2'], [27810.0, 390.0, 'Sleep stage 3'], [28200.0, 90.0, 'Sleep stage 2'], [28290.0, 90.0, 'Sleep stage 3'], [28380.0, 30.0, 'Sleep stage 2'], [28410.0, 60.0, 'Sleep stage W'], [28470.0, 30.0, 'Sleep stage 1'], [28500.0, 30.0, 'Sleep stage W'], [28530.0, 30.0, 'Sleep stage 1'], [28560.0, 30.0, 'Sleep stage 2'], [28590.0, 30.0, 'Sleep stage 1'], [28620.0, 690.0, 'Sleep stage 2'], [29310.0, 30.0, 'Sleep stage 3'], [29340.0, 60.0, 'Sleep stage 2'], [29400.0, 90.0, 'Sleep stage W'], [29490.0, 120.0, 'Sleep stage 1'], [29610.0, 120.0, 'Sleep stage 2'], [29730.0, 30.0, 'Sleep stage 1'], [29760.0, 60.0, 'Sleep stage W'], [29820.0, 150.0, 'Sleep stage 1'], [29970.0, 30.0, 'Sleep stage 2'], [30000.0, 30.0, 'Sleep stage 1'], [30030.0, 480.0, 'Sleep stage 2'], [30510.0, 30.0, 'Sleep stage 3'], [30540.0, 60.0, 'Sleep stage 2'], [30600.0, 30.0, 'Sleep stage 3'], [30630.0, 30.0, 'Sleep stage 2'], [30660.0, 30.0, 'Sleep stage 3'], [30690.0, 60.0, 'Sleep stage 2'], [30750.0, 30.0, 'Sleep stage 3'], [30780.0, 60.0, 'Sleep stage 2'], [30840.0, 210.0, 'Sleep stage 3'], [31050.0, 30.0, 'Sleep stage 2'], [31080.0, 240.0, 'Sleep stage 3'], [31320.0, 30.0, 'Sleep stage 4'], [31350.0, 30.0, 'Sleep stage 3'], [31380.0, 810.0, 'Sleep stage 2'], [32190.0, 30.0, 'Sleep stage 1'], [32220.0, 240.0, 'Sleep stage 2'], [32460.0, 330.0, 'Sleep stage R'], [32790.0, 30.0, 'Sleep stage 1'], [32820.0, 540.0, 'Sleep stage R'], [33360.0, 150.0, 'Sleep stage 2'], [33510.0, 60.0, 'Sleep stage 1'], [33570.0, 450.0, 'Sleep stage 2'], [34020.0, 30.0, 'Sleep stage 1'], [34050.0, 540.0, 'Sleep stage 2'], [34590.0, 30.0, 'Sleep stage 3'], [34620.0, 90.0, 'Sleep stage 2'], [34710.0, 30.0, 'Sleep stage 3'], [34740.0, 30.0, 'Sleep stage 2'], [34770.0, 60.0, 'Sleep stage 3'], [34830.0, 30.0, 'Sleep stage 2'], [34860.0, 120.0, 'Sleep stage 3'], [34980.0, 120.0, 'Sleep stage 2'], [35100.0, 150.0, 'Sleep stage 3'], [35250.0, 1200.0, 'Sleep stage 2'], [36450.0, 30.0, 'Sleep stage W'], [36480.0, 60.0, 'Sleep stage 1'], [36540.0, 1080.0, 'Sleep stage 2'], [37620.0, 30.0, 'Sleep stage 1'], [37650.0, 300.0, 'Sleep stage 2'], [37950.0, 60.0, 'Sleep stage W'], [38010.0, 60.0, 'Sleep stage 1'], [38070.0, 90.0, 'Sleep stage 2'], [38160.0, 60.0, 'Sleep stage 1'], [38220.0, 150.0, 'Sleep stage 2'], [38370.0, 1230.0, 'Sleep stage R'], [39600.0, 30.0, 'Sleep stage W'], [39630.0, 1260.0, 'Sleep stage R'], [40890.0, 1410.0, 'Sleep stage 2'], [42300.0, 30.0, 'Sleep stage 3'], [42330.0, 90.0, 'Sleep stage 2'], [42420.0, 90.0, 'Sleep stage 1'], [42510.0, 1110.0, 'Sleep stage 2'], [43620.0, 30.0, 'Sleep stage 3'], [43650.0, 180.0, 'Sleep stage 2'], [43830.0, 30.0, 'Sleep stage 3'], [43860.0, 90.0, 'Sleep stage 2'], [43950.0, 30.0, 'Sleep stage 1'], [43980.0, 510.0, 'Sleep stage 2'], [44490.0, 30.0, 'Sleep stage 3'], [44520.0, 330.0, 'Sleep stage 2'], [44850.0, 30.0, 'Sleep stage 3'], [44880.0, 60.0, 'Sleep stage 2'], [44940.0, 30.0, 'Sleep stage W'], [44970.0, 30.0, 'Sleep stage 1'], [45000.0, 180.0, 'Sleep stage 2'], [45180.0, 1050.0, 'Sleep stage R'], [46230.0, 30.0, 'Sleep stage W'], [46260.0, 60.0, 'Sleep stage 1'], [46320.0, 210.0, 'Sleep stage R'], [46530.0, 90.0, 'Sleep stage W'], [46620.0, 90.0, 'Sleep stage 1'], [46710.0, 1650.0, 'Sleep stage 2'], [48360.0, 30.0, 'Sleep stage 1'], [48390.0, 270.0, 'Sleep stage 2'], [48660.0, 60.0, 'Sleep stage 1'], [48720.0, 210.0, 'Sleep stage 2'], [48930.0, 60.0, 'Sleep stage 1'], [48990.0, 210.0, 'Sleep stage 2'], [49200.0, 660.0, 'Sleep stage R'], [49860.0, 120.0, 'Sleep stage 1'], [49980.0, 570.0, 'Sleep stage R'], [50550.0, 30.0, 'Sleep stage 1'], [50580.0, 150.0, 'Sleep stage R'], [50730.0, 30.0, 'Sleep stage 1'], [50760.0, 270.0, 'Sleep stage R'], [51030.0, 60.0, 'Sleep stage 1'], [51090.0, 33510.0, 'Sleep stage W'], [84600.0, 1800.0, 'Sleep stage ?']]})\n"
          ]
        }
      ],
      "source": [
        "from pyedflib import highlevel\n",
        "import numpy as np\n",
        "import glob\n",
        "\n",
        "path1 = '/content/drive/MyDrive/sleep_edfx/data/sleep-cassette'\n",
        "path2 = '/content/drive/MyDrive/sleep_edfx/data/sleep-telemetry'\n",
        "data_list_cassette = glob.glob(path1+'/**')\n",
        "data_list_telemetry = glob.glob(path2+'/**') \n",
        "\n",
        "print('number of cattette files',len(data_list_cassette))\n",
        "print('number of telemetry files',len(data_list_telemetry))\n",
        "\n",
        "\n",
        "#First, investigate cassette files.\n",
        "trains = [x for x in data_list_cassette if x.endswith('PSG.edf')]\n",
        "labels = [x for x in data_list_cassette if x.endswith('Hypnogram.edf')]\n",
        "\n",
        "print('number of train samples:',len(trains))\n",
        "print('number of labels:',len(labels))\n",
        "\n",
        "print(highlevel.read_edf(trains[0]))\n",
        "print('')\n",
        "print(highlevel.read_edf(labels[0]))"
      ]
    },
    {
      "cell_type": "markdown",
      "metadata": {
        "id": "hCmRMOBKIC_A"
      },
      "source": [
        "cattette 파일에 153개의 sample이 존재합니다.\n",
        "\n",
        "highlevel.read_edf return 값이 signals, signal_headers, header 3개입니다.\n",
        "\n",
        "따로 따로 값을 출력해보겠습니다.\n",
        "\n"
      ]
    },
    {
      "cell_type": "code",
      "execution_count": null,
      "metadata": {
        "colab": {
          "base_uri": "https://localhost:8080/"
        },
        "id": "Ydu28zhZH8NP",
        "outputId": "b1c1e87c-8be3-4ab8-e581-c6edb5a36516"
      },
      "outputs": [
        {
          "name": "stdout",
          "output_type": "stream",
          "text": [
            "[array([-12.93333333, -12.04444444, -10.88888889, ...,  34.44444444,\n",
            "        75.95555556,  77.82222222]), array([ 6.43711844,  0.83247863,  5.2021978 , ..., 26.86080586,\n",
            "       -5.34212454, 22.01611722]), array([ 220.54993895,  220.06471306,  214.72722833, ..., -101.64004884,\n",
            "       -104.06617827,  -94.84688645]), array([130., 129., 112., ...,  53.,  41.,  45.]), array([3.498, 3.512, 3.51 , ..., 3.05 , 3.024, 3.058]), array([14.1794461 , 14.15335317, 14.12039368, ..., 14.11032273,\n",
            "       14.13641566, 14.13504234]), array([1037., 1012.,  985., ...,  858.,  880.,  896.])]\n",
            "7\n",
            "8430000\n",
            "8430000\n",
            "8430000\n",
            "84300\n",
            "84300\n",
            "84300\n",
            "84300\n"
          ]
        }
      ],
      "source": [
        "signals = highlevel.read_edf(trains[0])[0]\n",
        "#signals : np.ndarray or list\n",
        "#the signals of the chosen channels contained in the EDF.\n",
        "\n",
        "print(signals)\n",
        "print(len(signals))\n",
        "for i in range(len(signals)):\n",
        "    print(len(signals[i]))"
      ]
    },
    {
      "cell_type": "markdown",
      "metadata": {
        "id": "xM9E5htnIP-U"
      },
      "source": [
        "signals에는 list 요소가 7개이고, 각 요소에 array(신호)들이 들어있습니다.\n",
        "\n"
      ]
    },
    {
      "cell_type": "code",
      "execution_count": null,
      "metadata": {
        "colab": {
          "base_uri": "https://localhost:8080/"
        },
        "id": "INc1-54NIU5K",
        "outputId": "563075d2-7949-46f1-d07e-1e424977848f"
      },
      "outputs": [
        {
          "name": "stdout",
          "output_type": "stream",
          "text": [
            "number of channels: 7\n",
            "\n",
            "\n",
            "{'label': 'EEG Fpz-Cz', 'dimension': 'uV', 'sample_rate': 3000.0, 'sample_frequency': 3000.0, 'physical_max': 182.0, 'physical_min': -182.0, 'digital_max': 2047, 'digital_min': -2048, 'prefilter': 'HP:0.5Hz LP:100Hz [enhanced cassette BW]', 'transducer': 'Ag-AgCl electrodes'}\n",
            "10\n",
            "\n",
            "\n",
            "{'label': 'EEG Pz-Oz', 'dimension': 'uV', 'sample_rate': 3000.0, 'sample_frequency': 3000.0, 'physical_max': 195.0, 'physical_min': -194.0, 'digital_max': 2047, 'digital_min': -2048, 'prefilter': 'HP:0.5Hz LP:100Hz [enhanced cassette BW]', 'transducer': 'Ag-AgCl electrodes'}\n",
            "10\n",
            "\n",
            "\n",
            "{'label': 'EOG horizontal', 'dimension': 'uV', 'sample_rate': 3000.0, 'sample_frequency': 3000.0, 'physical_max': 994.0, 'physical_min': -993.0, 'digital_max': 2047, 'digital_min': -2048, 'prefilter': 'HP:0.5Hz LP:100Hz [enhanced cassette BW]', 'transducer': 'Ag-AgCl electrodes'}\n",
            "10\n",
            "\n",
            "\n",
            "{'label': 'Resp oro-nasal', 'dimension': '', 'sample_rate': 30.0, 'sample_frequency': 30.0, 'physical_max': 3000.0, 'physical_min': -3000.0, 'digital_max': 3000, 'digital_min': -3000, 'prefilter': 'HP:0.03Hz LP:0.9Hz', 'transducer': 'Oral-nasal thermistors'}\n",
            "10\n",
            "\n",
            "\n",
            "{'label': 'EMG submental', 'dimension': 'uV', 'sample_rate': 30.0, 'sample_frequency': 30.0, 'physical_max': 5.0, 'physical_min': -5.0, 'digital_max': 2500, 'digital_min': -2500, 'prefilter': 'HP:16Hz Rectification LP:0.7Hz', 'transducer': 'Ag-AgCl electrodes'}\n",
            "10\n",
            "\n",
            "\n",
            "{'label': 'Temp rectal', 'dimension': '', 'sample_rate': 30.0, 'sample_frequency': 30.0, 'physical_max': 30.0, 'physical_min': 0.0, 'digital_max': 32767, 'digital_min': -32768, 'prefilter': '', 'transducer': 'Rectal thermistor'}\n",
            "10\n",
            "\n",
            "\n",
            "{'label': 'Event marker', 'dimension': '', 'sample_rate': 30.0, 'sample_frequency': 30.0, 'physical_max': 2048.0, 'physical_min': -2047.0, 'digital_max': 2048, 'digital_min': -2047, 'prefilter': 'Hold during 2 seconds', 'transducer': 'Marker button'}\n",
            "10\n",
            "\n",
            "\n"
          ]
        }
      ],
      "source": [
        "signal_headers = highlevel.read_edf(trains[0])[1]\n",
        "#signal_headers : list\n",
        "#one signal header for each channel in the EDF.\n",
        "\n",
        "print('number of channels:',len(signal_headers))\n",
        "print('\\n')\n",
        "\n",
        "for i in range(len(signal_headers)):\n",
        "    print(signal_headers[i])\n",
        "    print(len(signal_headers[i]))\n",
        "    print('\\n')"
      ]
    },
    {
      "cell_type": "markdown",
      "metadata": {
        "id": "WNs1H9vCIbfO"
      },
      "source": [
        "signal_headers에는 신호에 대한 정보들이 존재합니다.\n",
        "\n",
        "논문과 웹사이트에서는 sample rate가 100Hz, 1Hz라고 나오는데, 3000, 30으로 나옵니다.\n",
        "\n",
        "이는 epoch 사이즈가 30초이기에, 30초당 3000번, 즉 100Hz라고 이해하면 될것 같습니다."
      ]
    },
    {
      "cell_type": "code",
      "execution_count": null,
      "metadata": {
        "colab": {
          "base_uri": "https://localhost:8080/"
        },
        "id": "OJ35Yh5BIcTT",
        "outputId": "f7452ce9-7860-4b08-e23f-7c1694816418"
      },
      "outputs": [
        {
          "name": "stdout",
          "output_type": "stream",
          "text": [
            "{'technician': '', 'recording_additional': '', 'patientname': '', 'patient_additional': '', 'patientcode': '', 'equipment': '', 'admincode': '', 'gender': '', 'startdate': datetime.datetime(1991, 9, 26, 15, 0), 'birthdate': '', 'annotations': []}\n",
            "11\n"
          ]
        }
      ],
      "source": [
        "header = highlevel.read_edf(trains[0])[2]\n",
        "#header : dict\n",
        "#the main header of the EDF file containing meta information.\n",
        "print(header)\n",
        "print(len(header))"
      ]
    },
    {
      "cell_type": "markdown",
      "metadata": {
        "id": "LQVI3BYNIjKw"
      },
      "source": [
        "header에는 datetime 말고는 정보가 없습니다.\n",
        "\n",
        "trains data에 말고 label_data에 header에 정보가 있습니다.\n",
        "\n",
        "labels 데이터를 살펴보겠습니다."
      ]
    },
    {
      "cell_type": "code",
      "execution_count": null,
      "metadata": {
        "colab": {
          "base_uri": "https://localhost:8080/"
        },
        "id": "8hVMJEL0Ii8Y",
        "outputId": "5d080a72-512f-4e5c-88ff-ab0252e4e719"
      },
      "outputs": [
        {
          "name": "stdout",
          "output_type": "stream",
          "text": [
            "[]\n",
            "[]\n"
          ]
        }
      ],
      "source": [
        "signals = highlevel.read_edf(labels[0])[0]\n",
        "#signals : np.ndarray or list\n",
        "#the signals of the chosen channels contained in the EDF.\n",
        "print(signals)\n",
        "\n",
        "signal_header = highlevel.read_edf(labels[0])[1]\n",
        "print(signal_header)"
      ]
    },
    {
      "cell_type": "markdown",
      "metadata": {
        "id": "wpghgFa8Ipi9"
      },
      "source": [
        "signals와 signal_header에 아무것도 없는 것을 확인 할 수 있습니다.\n",
        "\n"
      ]
    },
    {
      "cell_type": "code",
      "execution_count": null,
      "metadata": {
        "colab": {
          "base_uri": "https://localhost:8080/"
        },
        "id": "WO2t5NwsImuE",
        "outputId": "d33278f2-5d1b-465e-acb5-c31c37c0c2ba"
      },
      "outputs": [
        {
          "name": "stdout",
          "output_type": "stream",
          "text": [
            "11\n",
            "{'technician': '', 'recording_additional': '', 'patientname': 'Female 26yr', 'patient_additional': '', 'patientcode': '', 'equipment': '', 'admincode': '', 'gender': 'Female', 'startdate': datetime.datetime(1989, 4, 10, 16, 50), 'birthdate': '', 'annotations': [[0.0, 26130.0, 'Sleep stage W'], [26130.0, 30.0, 'Sleep stage 1'], [26160.0, 60.0, 'Sleep stage W'], [26220.0, 240.0, 'Sleep stage 1'], [26460.0, 30.0, 'Sleep stage W'], [26490.0, 90.0, 'Sleep stage 1'], [26580.0, 1050.0, 'Sleep stage 2'], [27630.0, 30.0, 'Sleep stage 3'], [27660.0, 150.0, 'Sleep stage 2'], [27810.0, 390.0, 'Sleep stage 3'], [28200.0, 90.0, 'Sleep stage 2'], [28290.0, 90.0, 'Sleep stage 3'], [28380.0, 30.0, 'Sleep stage 2'], [28410.0, 60.0, 'Sleep stage W'], [28470.0, 30.0, 'Sleep stage 1'], [28500.0, 30.0, 'Sleep stage W'], [28530.0, 30.0, 'Sleep stage 1'], [28560.0, 30.0, 'Sleep stage 2'], [28590.0, 30.0, 'Sleep stage 1'], [28620.0, 690.0, 'Sleep stage 2'], [29310.0, 30.0, 'Sleep stage 3'], [29340.0, 60.0, 'Sleep stage 2'], [29400.0, 90.0, 'Sleep stage W'], [29490.0, 120.0, 'Sleep stage 1'], [29610.0, 120.0, 'Sleep stage 2'], [29730.0, 30.0, 'Sleep stage 1'], [29760.0, 60.0, 'Sleep stage W'], [29820.0, 150.0, 'Sleep stage 1'], [29970.0, 30.0, 'Sleep stage 2'], [30000.0, 30.0, 'Sleep stage 1'], [30030.0, 480.0, 'Sleep stage 2'], [30510.0, 30.0, 'Sleep stage 3'], [30540.0, 60.0, 'Sleep stage 2'], [30600.0, 30.0, 'Sleep stage 3'], [30630.0, 30.0, 'Sleep stage 2'], [30660.0, 30.0, 'Sleep stage 3'], [30690.0, 60.0, 'Sleep stage 2'], [30750.0, 30.0, 'Sleep stage 3'], [30780.0, 60.0, 'Sleep stage 2'], [30840.0, 210.0, 'Sleep stage 3'], [31050.0, 30.0, 'Sleep stage 2'], [31080.0, 240.0, 'Sleep stage 3'], [31320.0, 30.0, 'Sleep stage 4'], [31350.0, 30.0, 'Sleep stage 3'], [31380.0, 810.0, 'Sleep stage 2'], [32190.0, 30.0, 'Sleep stage 1'], [32220.0, 240.0, 'Sleep stage 2'], [32460.0, 330.0, 'Sleep stage R'], [32790.0, 30.0, 'Sleep stage 1'], [32820.0, 540.0, 'Sleep stage R'], [33360.0, 150.0, 'Sleep stage 2'], [33510.0, 60.0, 'Sleep stage 1'], [33570.0, 450.0, 'Sleep stage 2'], [34020.0, 30.0, 'Sleep stage 1'], [34050.0, 540.0, 'Sleep stage 2'], [34590.0, 30.0, 'Sleep stage 3'], [34620.0, 90.0, 'Sleep stage 2'], [34710.0, 30.0, 'Sleep stage 3'], [34740.0, 30.0, 'Sleep stage 2'], [34770.0, 60.0, 'Sleep stage 3'], [34830.0, 30.0, 'Sleep stage 2'], [34860.0, 120.0, 'Sleep stage 3'], [34980.0, 120.0, 'Sleep stage 2'], [35100.0, 150.0, 'Sleep stage 3'], [35250.0, 1200.0, 'Sleep stage 2'], [36450.0, 30.0, 'Sleep stage W'], [36480.0, 60.0, 'Sleep stage 1'], [36540.0, 1080.0, 'Sleep stage 2'], [37620.0, 30.0, 'Sleep stage 1'], [37650.0, 300.0, 'Sleep stage 2'], [37950.0, 60.0, 'Sleep stage W'], [38010.0, 60.0, 'Sleep stage 1'], [38070.0, 90.0, 'Sleep stage 2'], [38160.0, 60.0, 'Sleep stage 1'], [38220.0, 150.0, 'Sleep stage 2'], [38370.0, 1230.0, 'Sleep stage R'], [39600.0, 30.0, 'Sleep stage W'], [39630.0, 1260.0, 'Sleep stage R'], [40890.0, 1410.0, 'Sleep stage 2'], [42300.0, 30.0, 'Sleep stage 3'], [42330.0, 90.0, 'Sleep stage 2'], [42420.0, 90.0, 'Sleep stage 1'], [42510.0, 1110.0, 'Sleep stage 2'], [43620.0, 30.0, 'Sleep stage 3'], [43650.0, 180.0, 'Sleep stage 2'], [43830.0, 30.0, 'Sleep stage 3'], [43860.0, 90.0, 'Sleep stage 2'], [43950.0, 30.0, 'Sleep stage 1'], [43980.0, 510.0, 'Sleep stage 2'], [44490.0, 30.0, 'Sleep stage 3'], [44520.0, 330.0, 'Sleep stage 2'], [44850.0, 30.0, 'Sleep stage 3'], [44880.0, 60.0, 'Sleep stage 2'], [44940.0, 30.0, 'Sleep stage W'], [44970.0, 30.0, 'Sleep stage 1'], [45000.0, 180.0, 'Sleep stage 2'], [45180.0, 1050.0, 'Sleep stage R'], [46230.0, 30.0, 'Sleep stage W'], [46260.0, 60.0, 'Sleep stage 1'], [46320.0, 210.0, 'Sleep stage R'], [46530.0, 90.0, 'Sleep stage W'], [46620.0, 90.0, 'Sleep stage 1'], [46710.0, 1650.0, 'Sleep stage 2'], [48360.0, 30.0, 'Sleep stage 1'], [48390.0, 270.0, 'Sleep stage 2'], [48660.0, 60.0, 'Sleep stage 1'], [48720.0, 210.0, 'Sleep stage 2'], [48930.0, 60.0, 'Sleep stage 1'], [48990.0, 210.0, 'Sleep stage 2'], [49200.0, 660.0, 'Sleep stage R'], [49860.0, 120.0, 'Sleep stage 1'], [49980.0, 570.0, 'Sleep stage R'], [50550.0, 30.0, 'Sleep stage 1'], [50580.0, 150.0, 'Sleep stage R'], [50730.0, 30.0, 'Sleep stage 1'], [50760.0, 270.0, 'Sleep stage R'], [51030.0, 60.0, 'Sleep stage 1'], [51090.0, 33510.0, 'Sleep stage W'], [84600.0, 1800.0, 'Sleep stage ?']]}\n"
          ]
        }
      ],
      "source": [
        "header = highlevel.read_edf(labels[0])[2]\n",
        "print(len(header))\n",
        "print(header)"
      ]
    },
    {
      "cell_type": "markdown",
      "metadata": {
        "id": "QvVg4kEOIvA3"
      },
      "source": [
        "\n",
        "\n",
        "---\n",
        "\n",
        "\n",
        "labels data에 주석이 달려 있습니다.\n",
        "\n",
        "[시작 시간, 지속시간, 수면 상태]\n",
        "\n",
        "이런식으로 labeling되어 있습니다.\n",
        "\n",
        "label 구성: \"Sleep stage ?\", \"Sleep stage W\", \"Sleep stage 1\", \"Sleep stage 2\", \"Sleep stage 3\", \"Sleep stage 4\", \"Sleep stage R\"\n",
        "\n",
        "Get information EDF files by other mathod\n",
        "\n",
        "\n",
        "---\n",
        "\n"
      ]
    },
    {
      "cell_type": "markdown",
      "metadata": {
        "id": "IU6yJSyZIyJb"
      },
      "source": [
        "another method"
      ]
    },
    {
      "cell_type": "code",
      "execution_count": null,
      "metadata": {
        "colab": {
          "base_uri": "https://localhost:8080/"
        },
        "id": "9Sio2izkIcai",
        "outputId": "b7fa8329-bc99-4f53-d06d-c972747f38cb"
      },
      "outputs": [
        {
          "name": "stdout",
          "output_type": "stream",
          "text": [
            "labels:['EEG Fpz-Cz', 'EEG Pz-Oz', 'EOG horizontal', 'Resp oro-nasal', 'EMG submental', 'Temp rectal', 'Event marker']\n",
            "Duaration:80700\n",
            "Freq.:[3000 3000 3000   30   30   30   30]\n",
            "N-Sample(=Freq x Duaration):[8070000 8070000 8070000   80700   80700   80700   80700]\n",
            "Date:1989-07-12 16:25:00\n"
          ]
        }
      ],
      "source": [
        "import pyedflib\n",
        "edf = pyedflib.EdfReader(trains[1])\n",
        "print('labels:'+str(edf.getSignalLabels()))\n",
        "print(\"Duaration:\"+str(edf.getFileDuration()))\n",
        "print(\"Freq.:\"+str(edf.getSampleFrequencies()))\n",
        "print(\"N-Sample(=Freq x Duaration):\"+str(edf.getNSamples()))\n",
        "print(\"Date:\"+str(edf.getStartdatetime()))"
      ]
    },
    {
      "cell_type": "markdown",
      "metadata": {
        "id": "7inmxkEmJGWu"
      },
      "source": [
        "EEG 신호만 따로 추출해서 파일을 저장해주겠습니다.\n"
      ]
    },
    {
      "cell_type": "code",
      "execution_count": null,
      "metadata": {
        "colab": {
          "base_uri": "https://localhost:8080/"
        },
        "id": "Ar9xQXPPJLy6",
        "outputId": "512146d3-0490-43cd-c55a-841cd344bdc4"
      },
      "outputs": [
        {
          "name": "stdout",
          "output_type": "stream",
          "text": [
            "154\n"
          ]
        }
      ],
      "source": [
        "trains1 = [x for x in data_list_telemetry if x.endswith('PSG.edf')]\n",
        "trains.append(trains1)\n",
        "print(len(trains))"
      ]
    },
    {
      "cell_type": "code",
      "execution_count": null,
      "metadata": {
        "colab": {
          "base_uri": "https://localhost:8080/"
        },
        "id": "Ua_vUG0BNirT",
        "outputId": "e7917dd9-1db1-4483-ca59-670007e1b12b"
      },
      "outputs": [
        {
          "name": "stdout",
          "output_type": "stream",
          "text": [
            "(2, 8430000)\n"
          ]
        },
        {
          "data": {
            "text/plain": [
              "array([[-12.93333333, -12.04444444, -10.88888889, ...,  34.44444444,\n",
              "         75.95555556,  77.82222222],\n",
              "       [  6.43711844,   0.83247863,   5.2021978 , ...,  26.86080586,\n",
              "         -5.34212454,  22.01611722]])"
            ]
          },
          "execution_count": 52,
          "metadata": {},
          "output_type": "execute_result"
        }
      ],
      "source": [
        "edf = highlevel.read_edf(trains[0])[0]\n",
        "a = edf[0]\n",
        "b = edf[1]\n",
        "data = np.array([a,b])\n",
        "print(data.shape)\n",
        "data"
      ]
    },
    {
      "cell_type": "code",
      "execution_count": null,
      "metadata": {
        "colab": {
          "background_save": true
        },
        "id": "uoAv6_DRM1NS"
      },
      "outputs": [],
      "source": [
        "import pickle\n",
        "\n",
        "for i in range(len(trains)):\n",
        "    edf = highlevel.read_edf(trains[i])[0]\n",
        "    a = edf[0] \n",
        "    b = edf[1]\n",
        "    data = np.array([edf[0],edf[1]]) # # EEG Fpz-Cz signal, EEG Pz-Oz signal \n",
        "    a = '/content/drive/MyDrive/sleep_edfx/sleep_edfx_CT+SC/' + '%i.pickle' %i\n",
        "    with open(file = a, mode='wb') as f:\n",
        "      pickle.dump(data, f)"
      ]
    }
  ],
  "metadata": {
    "colab": {
      "provenance": [],
      "mount_file_id": "1IH2YHT0O8A-zHUPJp8FZoN9Q5tjC2KOj",
      "authorship_tag": "ABX9TyMoBv5PaCCuXDnzcmWvTx3C",
      "include_colab_link": true
    },
    "kernelspec": {
      "display_name": "Python 3",
      "name": "python3"
    },
    "language_info": {
      "name": "python"
    }
  },
  "nbformat": 4,
  "nbformat_minor": 0
}