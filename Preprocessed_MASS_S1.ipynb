{
  "nbformat": 4,
  "nbformat_minor": 0,
  "metadata": {
    "colab": {
      "provenance": [],
      "mount_file_id": "1F0qq9jLG60Hbjch5rBj2Xh7PuKbMdc2P",
      "authorship_tag": "ABX9TyP9c7TWBpdBGJjIIgZpbHRI",
      "include_colab_link": true
    },
    "kernelspec": {
      "name": "python3",
      "display_name": "Python 3"
    },
    "language_info": {
      "name": "python"
    }
  },
  "cells": [
    {
      "cell_type": "markdown",
      "metadata": {
        "id": "view-in-github",
        "colab_type": "text"
      },
      "source": [
        "<a href=\"https://colab.research.google.com/github/SangMin316/EEG_Data/blob/main/Preprocessed_MASS_S1.ipynb\" target=\"_parent\"><img src=\"https://colab.research.google.com/assets/colab-badge.svg\" alt=\"Open In Colab\"/></a>"
      ]
    },
    {
      "cell_type": "markdown",
      "source": [
        "공유드라이브에서 복사본을 가져온 거라서, 이름을 수정하는 작업"
      ],
      "metadata": {
        "id": "tqB5nfI8DVz9"
      }
    },
    {
      "cell_type": "code",
      "execution_count": 1,
      "metadata": {
        "id": "AoeatIJqeTEj"
      },
      "outputs": [],
      "source": [
        "import glob\n",
        "data_list = glob.glob('/content/drive/MyDrive/EEG_data/MASS/SS1/**')"
      ]
    },
    {
      "cell_type": "code",
      "source": [
        "import os\n",
        "for i in range(len(data_list)):\n",
        "  # if data_list[i].split(' ')[-1] == '사본':\n",
        "    print(i)\n",
        "    os.rename(data_list[i], data_list[i].split('edf')[0] + 'edf')\n",
        "    "
      ],
      "metadata": {
        "id": "tzL4lEatemg-"
      },
      "execution_count": null,
      "outputs": []
    },
    {
      "cell_type": "markdown",
      "source": [
        "data load"
      ],
      "metadata": {
        "id": "b0BeMgp6DhlN"
      }
    },
    {
      "cell_type": "code",
      "source": [
        "#First, investigate cassette files.\n",
        "data_list = sorted(glob.glob('/content/drive/MyDrive/EEG_data/MASS/SS1/**'))\n",
        "trains = [x for x in data_list if x.endswith('PSG.edf')]\n",
        "\n",
        "labels= [x for x in data_list if x.endswith('Base.edf')]\n",
        "\n",
        "print('number of train samples:',len(trains))\n",
        "print('number of labels:',len(labels))"
      ],
      "metadata": {
        "colab": {
          "base_uri": "https://localhost:8080/"
        },
        "id": "SeCdiPDhh9OB",
        "outputId": "c977928e-e7c6-420d-a71f-3f601421ad57"
      },
      "execution_count": 23,
      "outputs": [
        {
          "output_type": "stream",
          "name": "stdout",
          "text": [
            "number of train samples: 53\n",
            "number of labels: 53\n"
          ]
        }
      ]
    },
    {
      "cell_type": "code",
      "source": [
        "!pip install mne"
      ],
      "metadata": {
        "colab": {
          "base_uri": "https://localhost:8080/"
        },
        "id": "0BNYL1uCioJO",
        "outputId": "fb067721-bd0c-459b-fecc-59cdd6f8e1ca"
      },
      "execution_count": 24,
      "outputs": [
        {
          "output_type": "stream",
          "name": "stdout",
          "text": [
            "Looking in indexes: https://pypi.org/simple, https://us-python.pkg.dev/colab-wheels/public/simple/\n",
            "Requirement already satisfied: mne in /usr/local/lib/python3.7/dist-packages (1.1.1)\n",
            "Requirement already satisfied: pooch>=1.5 in /usr/local/lib/python3.7/dist-packages (from mne) (1.6.0)\n",
            "Requirement already satisfied: decorator in /usr/local/lib/python3.7/dist-packages (from mne) (4.4.2)\n",
            "Requirement already satisfied: tqdm in /usr/local/lib/python3.7/dist-packages (from mne) (4.64.1)\n",
            "Requirement already satisfied: jinja2 in /usr/local/lib/python3.7/dist-packages (from mne) (2.11.3)\n",
            "Requirement already satisfied: matplotlib in /usr/local/lib/python3.7/dist-packages (from mne) (3.2.2)\n",
            "Requirement already satisfied: packaging in /usr/local/lib/python3.7/dist-packages (from mne) (21.3)\n",
            "Requirement already satisfied: numpy>=1.15.4 in /usr/local/lib/python3.7/dist-packages (from mne) (1.21.6)\n",
            "Requirement already satisfied: scipy>=1.1.0 in /usr/local/lib/python3.7/dist-packages (from mne) (1.7.3)\n",
            "Requirement already satisfied: requests>=2.19.0 in /usr/local/lib/python3.7/dist-packages (from pooch>=1.5->mne) (2.23.0)\n",
            "Requirement already satisfied: appdirs>=1.3.0 in /usr/local/lib/python3.7/dist-packages (from pooch>=1.5->mne) (1.4.4)\n",
            "Requirement already satisfied: pyparsing!=3.0.5,>=2.0.2 in /usr/local/lib/python3.7/dist-packages (from packaging->mne) (3.0.9)\n",
            "Requirement already satisfied: urllib3!=1.25.0,!=1.25.1,<1.26,>=1.21.1 in /usr/local/lib/python3.7/dist-packages (from requests>=2.19.0->pooch>=1.5->mne) (1.24.3)\n",
            "Requirement already satisfied: idna<3,>=2.5 in /usr/local/lib/python3.7/dist-packages (from requests>=2.19.0->pooch>=1.5->mne) (2.10)\n",
            "Requirement already satisfied: chardet<4,>=3.0.2 in /usr/local/lib/python3.7/dist-packages (from requests>=2.19.0->pooch>=1.5->mne) (3.0.4)\n",
            "Requirement already satisfied: certifi>=2017.4.17 in /usr/local/lib/python3.7/dist-packages (from requests>=2.19.0->pooch>=1.5->mne) (2022.9.24)\n",
            "Requirement already satisfied: MarkupSafe>=0.23 in /usr/local/lib/python3.7/dist-packages (from jinja2->mne) (2.0.1)\n",
            "Requirement already satisfied: kiwisolver>=1.0.1 in /usr/local/lib/python3.7/dist-packages (from matplotlib->mne) (1.4.4)\n",
            "Requirement already satisfied: cycler>=0.10 in /usr/local/lib/python3.7/dist-packages (from matplotlib->mne) (0.11.0)\n",
            "Requirement already satisfied: python-dateutil>=2.1 in /usr/local/lib/python3.7/dist-packages (from matplotlib->mne) (2.8.2)\n",
            "Requirement already satisfied: typing-extensions in /usr/local/lib/python3.7/dist-packages (from kiwisolver>=1.0.1->matplotlib->mne) (4.1.1)\n",
            "Requirement already satisfied: six>=1.5 in /usr/local/lib/python3.7/dist-packages (from python-dateutil>=2.1->matplotlib->mne) (1.15.0)\n"
          ]
        }
      ]
    },
    {
      "cell_type": "code",
      "source": [
        "ann = mne.read_annotations(labels[0])\n",
        "print(ann.duration)\n",
        "print('------')\n",
        "print(ann.description)"
      ],
      "metadata": {
        "colab": {
          "base_uri": "https://localhost:8080/"
        },
        "id": "A2MMUWtCi6lP",
        "outputId": "e6c187f4-cc2c-4b45-af12-d92ea269adef"
      },
      "execution_count": 7,
      "outputs": [
        {
          "output_type": "stream",
          "name": "stdout",
          "text": [
            "[30. 30. 30. ... 30. 30. 30.]\n",
            "------\n",
            "['Sleep stage ?' 'Sleep stage ?' 'Sleep stage ?' ... 'Sleep stage ?'\n",
            " 'Sleep stage ?' 'Sleep stage ?']\n"
          ]
        }
      ]
    },
    {
      "cell_type": "markdown",
      "source": [
        "See imformation of EDF file "
      ],
      "metadata": {
        "id": "XA51siKuDndX"
      }
    },
    {
      "cell_type": "code",
      "source": [
        "!pip install pyEDFlib"
      ],
      "metadata": {
        "colab": {
          "base_uri": "https://localhost:8080/"
        },
        "id": "gaD8UOW0NFKY",
        "outputId": "21fa5eac-703f-4dfc-ae05-58acb2d79f39"
      },
      "execution_count": 25,
      "outputs": [
        {
          "output_type": "stream",
          "name": "stdout",
          "text": [
            "Looking in indexes: https://pypi.org/simple, https://us-python.pkg.dev/colab-wheels/public/simple/\n",
            "Requirement already satisfied: pyEDFlib in /usr/local/lib/python3.7/dist-packages (0.1.30)\n",
            "Requirement already satisfied: numpy>=1.9.1 in /usr/local/lib/python3.7/dist-packages (from pyEDFlib) (1.21.6)\n"
          ]
        }
      ]
    },
    {
      "cell_type": "code",
      "source": [
        "from pyedflib import highlevel\n",
        "\n",
        "signal_headers = highlevel.read_edf(trains[0])[1]\n",
        "\n",
        "#signal_headers : list\n",
        "#one signal header for each channel in the EDF.\n",
        "\n",
        "print('number of channels:',len(signal_headers))\n",
        "print('\\n')\n",
        "\n",
        "for i in range(len(signal_headers)):\n",
        "    print(signal_headers[i])\n",
        "    print(len(signal_headers[i]))\n",
        "    print('\\n')"
      ],
      "metadata": {
        "colab": {
          "base_uri": "https://localhost:8080/"
        },
        "id": "YeJexwLKM34v",
        "outputId": "fb1c6213-6f34-4734-8dfe-d3e8987dd44a"
      },
      "execution_count": 26,
      "outputs": [
        {
          "output_type": "stream",
          "name": "stdout",
          "text": [
            "number of channels: 31\n",
            "\n",
            "\n",
            "{'label': 'EOG Left Horiz', 'dimension': 'uV', 'sample_rate': 512.0, 'sample_frequency': 512.0, 'physical_max': 730.0, 'physical_min': -730.0, 'digital_max': 32767, 'digital_min': -32768, 'prefilter': '', 'transducer': ''}\n",
            "10\n",
            "\n",
            "\n",
            "{'label': 'EOG Right Horiz', 'dimension': 'uV', 'sample_rate': 512.0, 'sample_frequency': 512.0, 'physical_max': 728.0, 'physical_min': -728.0, 'digital_max': 32767, 'digital_min': -32768, 'prefilter': '', 'transducer': ''}\n",
            "10\n",
            "\n",
            "\n",
            "{'label': 'EMG Chin1', 'dimension': 'uV', 'sample_rate': 512.0, 'sample_frequency': 512.0, 'physical_max': 272.0, 'physical_min': -272.0, 'digital_max': 32767, 'digital_min': -32768, 'prefilter': '', 'transducer': ''}\n",
            "10\n",
            "\n",
            "\n",
            "{'label': 'EMG Chin2', 'dimension': 'uV', 'sample_rate': 512.0, 'sample_frequency': 512.0, 'physical_max': 267.0, 'physical_min': -267.0, 'digital_max': 32767, 'digital_min': -32768, 'prefilter': '', 'transducer': ''}\n",
            "10\n",
            "\n",
            "\n",
            "{'label': 'EMG Chin3', 'dimension': 'uV', 'sample_rate': 512.0, 'sample_frequency': 512.0, 'physical_max': 272.0, 'physical_min': -272.0, 'digital_max': 32767, 'digital_min': -32768, 'prefilter': '', 'transducer': ''}\n",
            "10\n",
            "\n",
            "\n",
            "{'label': 'EEG F3-CLE', 'dimension': 'uV', 'sample_rate': 512.0, 'sample_frequency': 512.0, 'physical_max': 712.0, 'physical_min': -712.0, 'digital_max': 32767, 'digital_min': -32768, 'prefilter': '', 'transducer': ''}\n",
            "10\n",
            "\n",
            "\n",
            "{'label': 'EEG F4-CLE', 'dimension': 'uV', 'sample_rate': 512.0, 'sample_frequency': 512.0, 'physical_max': 696.0, 'physical_min': -696.0, 'digital_max': 32767, 'digital_min': -32768, 'prefilter': '', 'transducer': ''}\n",
            "10\n",
            "\n",
            "\n",
            "{'label': 'EEG C3-CLE', 'dimension': 'uV', 'sample_rate': 512.0, 'sample_frequency': 512.0, 'physical_max': 700.0, 'physical_min': -700.0, 'digital_max': 32767, 'digital_min': -32768, 'prefilter': '', 'transducer': ''}\n",
            "10\n",
            "\n",
            "\n",
            "{'label': 'EEG C4-CLE', 'dimension': 'uV', 'sample_rate': 512.0, 'sample_frequency': 512.0, 'physical_max': 697.0, 'physical_min': -697.0, 'digital_max': 32767, 'digital_min': -32768, 'prefilter': '', 'transducer': ''}\n",
            "10\n",
            "\n",
            "\n",
            "{'label': 'EEG O1-CLE', 'dimension': 'uV', 'sample_rate': 512.0, 'sample_frequency': 512.0, 'physical_max': 700.0, 'physical_min': -700.0, 'digital_max': 32767, 'digital_min': -32768, 'prefilter': '', 'transducer': ''}\n",
            "10\n",
            "\n",
            "\n",
            "{'label': 'EEG O2-CLE', 'dimension': 'uV', 'sample_rate': 512.0, 'sample_frequency': 512.0, 'physical_max': 690.0, 'physical_min': -690.0, 'digital_max': 32767, 'digital_min': -32768, 'prefilter': '', 'transducer': ''}\n",
            "10\n",
            "\n",
            "\n",
            "{'label': 'ECG ECGI', 'dimension': 'uV', 'sample_rate': 1024.0, 'sample_frequency': 1024.0, 'physical_max': 486.0, 'physical_min': -486.0, 'digital_max': 32767, 'digital_min': -32768, 'prefilter': '', 'transducer': ''}\n",
            "10\n",
            "\n",
            "\n",
            "{'label': 'EMG Ant Tibial L', 'dimension': 'uV', 'sample_rate': 512.0, 'sample_frequency': 512.0, 'physical_max': 269.0, 'physical_min': -269.0, 'digital_max': 32767, 'digital_min': -32768, 'prefilter': '', 'transducer': ''}\n",
            "10\n",
            "\n",
            "\n",
            "{'label': 'EMG Ant Tibial R', 'dimension': 'uV', 'sample_rate': 512.0, 'sample_frequency': 512.0, 'physical_max': 268.0, 'physical_min': -268.0, 'digital_max': 32767, 'digital_min': -32768, 'prefilter': '', 'transducer': ''}\n",
            "10\n",
            "\n",
            "\n",
            "{'label': 'Resp Thermistor', 'dimension': 'uV', 'sample_rate': 256.0, 'sample_frequency': 256.0, 'physical_max': 532.0, 'physical_min': -532.0, 'digital_max': 32767, 'digital_min': -32768, 'prefilter': '', 'transducer': ''}\n",
            "10\n",
            "\n",
            "\n",
            "{'label': 'Resp Cannula', 'dimension': 'uV', 'sample_rate': 256.0, 'sample_frequency': 256.0, 'physical_max': 535.0, 'physical_min': -535.0, 'digital_max': 32767, 'digital_min': -32768, 'prefilter': '', 'transducer': ''}\n",
            "10\n",
            "\n",
            "\n",
            "{'label': 'Resp Belt Thor', 'dimension': 'uV', 'sample_rate': 256.0, 'sample_frequency': 256.0, 'physical_max': 243.0, 'physical_min': -243.0, 'digital_max': 32767, 'digital_min': -32768, 'prefilter': '', 'transducer': ''}\n",
            "10\n",
            "\n",
            "\n",
            "{'label': 'Resp Belt Abdo', 'dimension': 'uV', 'sample_rate': 256.0, 'sample_frequency': 256.0, 'physical_max': 242.0, 'physical_min': -242.0, 'digital_max': 32767, 'digital_min': -32768, 'prefilter': '', 'transducer': ''}\n",
            "10\n",
            "\n",
            "\n",
            "{'label': 'EEG F7-CLE', 'dimension': 'uV', 'sample_rate': 512.0, 'sample_frequency': 512.0, 'physical_max': 713.0, 'physical_min': -713.0, 'digital_max': 32767, 'digital_min': -32768, 'prefilter': '', 'transducer': ''}\n",
            "10\n",
            "\n",
            "\n",
            "{'label': 'EEG F8-CLE', 'dimension': 'uV', 'sample_rate': 512.0, 'sample_frequency': 512.0, 'physical_max': 711.0, 'physical_min': -711.0, 'digital_max': 32767, 'digital_min': -32768, 'prefilter': '', 'transducer': ''}\n",
            "10\n",
            "\n",
            "\n",
            "{'label': 'EEG T3-CLE', 'dimension': 'uV', 'sample_rate': 512.0, 'sample_frequency': 512.0, 'physical_max': 714.0, 'physical_min': -714.0, 'digital_max': 32767, 'digital_min': -32768, 'prefilter': '', 'transducer': ''}\n",
            "10\n",
            "\n",
            "\n",
            "{'label': 'EEG T4-CLE', 'dimension': 'uV', 'sample_rate': 512.0, 'sample_frequency': 512.0, 'physical_max': 714.0, 'physical_min': -714.0, 'digital_max': 32767, 'digital_min': -32768, 'prefilter': '', 'transducer': ''}\n",
            "10\n",
            "\n",
            "\n",
            "{'label': 'EEG T5-CLE', 'dimension': 'uV', 'sample_rate': 512.0, 'sample_frequency': 512.0, 'physical_max': 708.0, 'physical_min': -708.0, 'digital_max': 32767, 'digital_min': -32768, 'prefilter': '', 'transducer': ''}\n",
            "10\n",
            "\n",
            "\n",
            "{'label': 'EEG T6-CLE', 'dimension': 'uV', 'sample_rate': 512.0, 'sample_frequency': 512.0, 'physical_max': 719.0, 'physical_min': -719.0, 'digital_max': 32767, 'digital_min': -32768, 'prefilter': '', 'transducer': ''}\n",
            "10\n",
            "\n",
            "\n",
            "{'label': 'EEG P3-CLE', 'dimension': 'uV', 'sample_rate': 512.0, 'sample_frequency': 512.0, 'physical_max': 713.0, 'physical_min': -713.0, 'digital_max': 32767, 'digital_min': -32768, 'prefilter': '', 'transducer': ''}\n",
            "10\n",
            "\n",
            "\n",
            "{'label': 'EEG P4-CLE', 'dimension': 'uV', 'sample_rate': 512.0, 'sample_frequency': 512.0, 'physical_max': 718.0, 'physical_min': -718.0, 'digital_max': 32767, 'digital_min': -32768, 'prefilter': '', 'transducer': ''}\n",
            "10\n",
            "\n",
            "\n",
            "{'label': 'EEG Fz-CLE', 'dimension': 'uV', 'sample_rate': 512.0, 'sample_frequency': 512.0, 'physical_max': 718.0, 'physical_min': -718.0, 'digital_max': 32767, 'digital_min': -32768, 'prefilter': '', 'transducer': ''}\n",
            "10\n",
            "\n",
            "\n",
            "{'label': 'EEG Cz-CLE', 'dimension': 'uV', 'sample_rate': 512.0, 'sample_frequency': 512.0, 'physical_max': 708.0, 'physical_min': -708.0, 'digital_max': 32767, 'digital_min': -32768, 'prefilter': '', 'transducer': ''}\n",
            "10\n",
            "\n",
            "\n",
            "{'label': 'EEG Pz-CLE', 'dimension': 'uV', 'sample_rate': 512.0, 'sample_frequency': 512.0, 'physical_max': 719.0, 'physical_min': -719.0, 'digital_max': 32767, 'digital_min': -32768, 'prefilter': '', 'transducer': ''}\n",
            "10\n",
            "\n",
            "\n",
            "{'label': 'EEG A2-CLE', 'dimension': 'uV', 'sample_rate': 512.0, 'sample_frequency': 512.0, 'physical_max': 238.0, 'physical_min': -238.0, 'digital_max': 32767, 'digital_min': -32768, 'prefilter': '', 'transducer': ''}\n",
            "10\n",
            "\n",
            "\n",
            "{'label': 'SaO2 SaO2', 'dimension': '%', 'sample_rate': 512.0, 'sample_frequency': 512.0, 'physical_max': 102.0, 'physical_min': -102.0, 'digital_max': 32767, 'digital_min': -32768, 'prefilter': '', 'transducer': ''}\n",
            "10\n",
            "\n",
            "\n"
          ]
        }
      ]
    },
    {
      "cell_type": "markdown",
      "source": [
        "EEG가 아닌 label 추출해서, edf 파일 읽어올 때, 제외해서 가져오기"
      ],
      "metadata": {
        "id": "GLxdGJX5Dyzz"
      }
    },
    {
      "cell_type": "code",
      "source": [
        "exclude_channels = []\n",
        "for i in range(len(signal_headers)):  \n",
        "  if signal_headers[i]['label'].split(' ')[0] != 'EEG':\n",
        "    exclude_channels.append(signal_headers[i]['label'])\n"
      ],
      "metadata": {
        "id": "n7OH0iWrPbWr"
      },
      "execution_count": 27,
      "outputs": []
    },
    {
      "cell_type": "code",
      "source": [
        "print(exclude_channels)\n",
        "print(len(exclude_channels))"
      ],
      "metadata": {
        "colab": {
          "base_uri": "https://localhost:8080/"
        },
        "id": "FIbOqhS4QCRP",
        "outputId": "5437f6eb-3288-4848-ac8f-8c2054b99cd5"
      },
      "execution_count": 28,
      "outputs": [
        {
          "output_type": "stream",
          "name": "stdout",
          "text": [
            "['EOG Left Horiz', 'EOG Right Horiz', 'EMG Chin1', 'EMG Chin2', 'EMG Chin3', 'ECG ECGI', 'EMG Ant Tibial L', 'EMG Ant Tibial R', 'Resp Thermistor', 'Resp Cannula', 'Resp Belt Thor', 'Resp Belt Abdo', 'SaO2 SaO2']\n",
            "13\n"
          ]
        }
      ]
    },
    {
      "cell_type": "code",
      "source": [
        "import mne\n",
        "data = mne.io.read_raw_edf(trains[0], exclude= exclude_channels)\n",
        "X = data.get_data()"
      ],
      "metadata": {
        "colab": {
          "base_uri": "https://localhost:8080/"
        },
        "id": "GovVN4XiNmGy",
        "outputId": "97931200-d5ab-4f23-fc15-c0bbf40be174"
      },
      "execution_count": 29,
      "outputs": [
        {
          "output_type": "stream",
          "name": "stdout",
          "text": [
            "Extracting EDF parameters from /content/drive/MyDrive/EEG_data/MASS/SS1/01-01-0001 PSG.edf...\n",
            "EDF file detected\n",
            "Setting channel info structure...\n",
            "Creating raw.info structure...\n"
          ]
        }
      ]
    },
    {
      "cell_type": "code",
      "source": [
        "X.shape"
      ],
      "metadata": {
        "colab": {
          "base_uri": "https://localhost:8080/"
        },
        "id": "FGJna-4yRaQF",
        "outputId": "f9482b31-60f7-41a3-e1c4-f93128723c78"
      },
      "execution_count": 30,
      "outputs": [
        {
          "output_type": "execute_result",
          "data": {
            "text/plain": [
              "(18, 7821824)"
            ]
          },
          "metadata": {},
          "execution_count": 30
        }
      ]
    },
    {
      "cell_type": "code",
      "source": [
        "signal_headers = highlevel.read_edf(trains[0])[1]"
      ],
      "metadata": {
        "id": "-41LAE6DRaSm"
      },
      "execution_count": 32,
      "outputs": []
    },
    {
      "cell_type": "code",
      "source": [
        "ann = mne.read_annotations(labels[0])\n",
        "print(ann.duration)\n",
        "print('------')\n",
        "print(ann.description)"
      ],
      "metadata": {
        "colab": {
          "base_uri": "https://localhost:8080/"
        },
        "id": "LF1VkS-YGoqo",
        "outputId": "1fa9da4d-26aa-40ac-f60d-0c50e70eb0fd"
      },
      "execution_count": 33,
      "outputs": [
        {
          "output_type": "stream",
          "name": "stdout",
          "text": [
            "[30. 30. 30. ... 30. 30. 30.]\n",
            "------\n",
            "['Sleep stage ?' 'Sleep stage ?' 'Sleep stage ?' ... 'Sleep stage ?'\n",
            " 'Sleep stage ?' 'Sleep stage ?']\n"
          ]
        }
      ]
    },
    {
      "cell_type": "code",
      "source": [
        "ann.description.shape"
      ],
      "metadata": {
        "colab": {
          "base_uri": "https://localhost:8080/"
        },
        "id": "xSaiw1gjSx_B",
        "outputId": "33862829-00bb-487f-b7e4-8169f5fe7e3f"
      },
      "execution_count": 34,
      "outputs": [
        {
          "output_type": "execute_result",
          "data": {
            "text/plain": [
              "(1018,)"
            ]
          },
          "metadata": {},
          "execution_count": 34
        }
      ]
    },
    {
      "cell_type": "code",
      "source": [
        "1018*30*256"
      ],
      "metadata": {
        "colab": {
          "base_uri": "https://localhost:8080/"
        },
        "id": "O18i4-afZjN7",
        "outputId": "00a43393-bc7a-4e23-e64f-ae38ae987e67"
      },
      "execution_count": 35,
      "outputs": [
        {
          "output_type": "execute_result",
          "data": {
            "text/plain": [
              "7818240"
            ]
          },
          "metadata": {},
          "execution_count": 35
        }
      ]
    },
    {
      "cell_type": "markdown",
      "source": [
        "Sleep stage ? 제외하고 30초씩 잘라서 데이터 받기"
      ],
      "metadata": {
        "id": "EjextyapEG3l"
      }
    },
    {
      "cell_type": "code",
      "source": [
        "for slice_index in range(X.shape[1] // (256 * 30)):\n",
        "    # ingore the no labels\n",
        "    if ann.description[slice_index] == 'Sleep stage ?':\n",
        "        continue\n",
        "    print(X[:, slice_index * 256 * 30: (slice_index+1) * 256 * 30].shape)\n",
        "    print(ann.description[slice_index])\n",
        "    if slice_index >= 40:\n",
        "        break"
      ],
      "metadata": {
        "colab": {
          "base_uri": "https://localhost:8080/"
        },
        "id": "sD2o-whcSyE8",
        "outputId": "9fc6302c-00ab-4bf5-8ff6-fdf3d9439355"
      },
      "execution_count": 36,
      "outputs": [
        {
          "output_type": "stream",
          "name": "stdout",
          "text": [
            "(18, 7680)\n",
            "Sleep stage W\n",
            "(18, 7680)\n",
            "Sleep stage W\n",
            "(18, 7680)\n",
            "Sleep stage W\n",
            "(18, 7680)\n",
            "Sleep stage W\n",
            "(18, 7680)\n",
            "Sleep stage W\n",
            "(18, 7680)\n",
            "Sleep stage 1\n"
          ]
        }
      ]
    },
    {
      "cell_type": "code",
      "source": [
        "import gc\n",
        "gc.collect()"
      ],
      "metadata": {
        "colab": {
          "base_uri": "https://localhost:8080/"
        },
        "id": "aZ8r7_kKoO-T",
        "outputId": "7f4cf1d1-1137-4780-d28c-13e4cf73a659"
      },
      "execution_count": 45,
      "outputs": [
        {
          "output_type": "execute_result",
          "data": {
            "text/plain": [
              "44"
            ]
          },
          "metadata": {},
          "execution_count": 45
        }
      ]
    },
    {
      "cell_type": "code",
      "source": [
        "import os\n",
        "import pickle\n",
        "import numpy as np\n",
        "for i in range(len(trains)):\n",
        "    print(i)\n",
        "    \n",
        "    # choose EEG channels\n",
        "    exclude_channels = []\n",
        "    signal_headers = highlevel.read_edf(trains[i])[1]\n",
        "    for j in range(len(signal_headers)):  \n",
        "      if signal_headers[j]['label'].split(' ')[0] != 'EEG':\n",
        "        exclude_channels.append(signal_headers[j]['label'])\n",
        "\n",
        "\n",
        "    data = mne.io.read_raw_edf(trains[i],exclude = exclude_channels)\n",
        "    data = data.get_data()\n",
        "    data = mne.filter.resample(data, down = 1.28) # downsampling to 200Hz  \n",
        "    data = mne.filter.filter_data(data, sfreq = 200, l_freq=0., h_freq=75.)\n",
        "    \n",
        "    # load annotaion\n",
        "    ann = mne.read_annotations(labels[i])\n",
        "\n",
        "    for slice_index in range(len(ann.description)): # 200Hz, 30epochs\n",
        "    # ingore the no labels\n",
        "        if ann.description[slice_index] == 'Sleep stage ?':\n",
        "            continue\n",
        "            \n",
        "        adress = '/content/drive/MyDrive/EEG_data/MASS/SS1/Preprocessed_EEG'\n",
        "        if not os.path.exists(adress+'/SS1_{}'.format(i)):\n",
        "            os.makedirs(adress +'/SS1_{}'.format(i))\n",
        "        \n",
        "        data_adress = adress +'/SS1_{}'.format(i)\n",
        "            \n",
        "        data_path = data_adress +'/'+ str(i) + '_' + str(slice_index) + '.npz'\n",
        "        X = data[:, slice_index * 200 * 30: (slice_index+1) * 200 * 30]\n",
        "        Y = ann.description[slice_index]\n",
        "        np.savez(data_path, x = X, y = Y)"
      ],
      "metadata": {
        "id": "2Ji6gnOiSyO_"
      },
      "execution_count": null,
      "outputs": []
    },
    {
      "cell_type": "code",
      "source": [
        "test = glob.glob('/content/drive/MyDrive/EEG_data/MASS/SS1/Preprocessed_EEG/**')"
      ],
      "metadata": {
        "id": "3T-22wiLTvU0"
      },
      "execution_count": 49,
      "outputs": []
    },
    {
      "cell_type": "code",
      "source": [
        "len(test)"
      ],
      "metadata": {
        "colab": {
          "base_uri": "https://localhost:8080/"
        },
        "id": "m9DYEua0T4Tt",
        "outputId": "f2d1dca0-4f50-4c0e-9ed7-b3d9d3800cda"
      },
      "execution_count": 50,
      "outputs": [
        {
          "output_type": "execute_result",
          "data": {
            "text/plain": [
              "53"
            ]
          },
          "metadata": {},
          "execution_count": 50
        }
      ]
    }
  ]
}