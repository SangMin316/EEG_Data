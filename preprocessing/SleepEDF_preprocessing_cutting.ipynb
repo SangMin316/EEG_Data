{
  "nbformat": 4,
  "nbformat_minor": 0,
  "metadata": {
    "colab": {
      "provenance": [],
      "collapsed_sections": []
    },
    "kernelspec": {
      "name": "python3",
      "display_name": "Python 3"
    },
    "language_info": {
      "name": "python"
    }
  },
  "cells": [
    {
      "cell_type": "code",
      "source": [
        "from google.colab import drive\n",
        "drive.mount('/content/drive')"
      ],
      "metadata": {
        "colab": {
          "base_uri": "https://localhost:8080/"
        },
        "id": "-F9ll71SbKnU",
        "outputId": "ebddf696-8a7d-40a7-ac69-f11c2cf90db2"
      },
      "execution_count": 1,
      "outputs": [
        {
          "output_type": "stream",
          "name": "stdout",
          "text": [
            "Mounted at /content/drive\n"
          ]
        }
      ]
    },
    {
      "cell_type": "code",
      "source": [
        "import glob\n",
        "#First, investigate cassette files.\n",
        "data_list = sorted(glob.glob('/content/drive/MyDrive/sleep_edfx/data/sleep-cassette/**'))\n",
        "trains_SC = [x for x in data_list if x.endswith('PSG.edf')]\n",
        "labels_SC= [x for x in data_list if x.endswith('Hypnogram.edf')]\n",
        "\n",
        "print('number of train samples:',len(trains))\n",
        "print('number of labels:',len(labels))"
      ],
      "metadata": {
        "colab": {
          "base_uri": "https://localhost:8080/"
        },
        "id": "SuSg7lbOdIju",
        "outputId": "bbb86f62-be64-44a3-d2aa-1759321f3d3d"
      },
      "execution_count": 32,
      "outputs": [
        {
          "output_type": "stream",
          "name": "stdout",
          "text": [
            "number of train samples: 153\n",
            "number of labels: 153\n"
          ]
        }
      ]
    },
    {
      "cell_type": "code",
      "source": [
        "!pip install mne"
      ],
      "metadata": {
        "colab": {
          "base_uri": "https://localhost:8080/"
        },
        "id": "GgLIFs2BdIlw",
        "outputId": "b776a426-f746-4e24-8088-acc668226b7d"
      },
      "execution_count": 3,
      "outputs": [
        {
          "output_type": "stream",
          "name": "stdout",
          "text": [
            "Looking in indexes: https://pypi.org/simple, https://us-python.pkg.dev/colab-wheels/public/simple/\n",
            "Collecting mne\n",
            "  Downloading mne-1.2.1-py3-none-any.whl (7.6 MB)\n",
            "\u001b[K     |████████████████████████████████| 7.6 MB 5.4 MB/s \n",
            "\u001b[?25hRequirement already satisfied: packaging in /usr/local/lib/python3.7/dist-packages (from mne) (21.3)\n",
            "Requirement already satisfied: matplotlib in /usr/local/lib/python3.7/dist-packages (from mne) (3.2.2)\n",
            "Requirement already satisfied: pooch>=1.5 in /usr/local/lib/python3.7/dist-packages (from mne) (1.6.0)\n",
            "Requirement already satisfied: jinja2 in /usr/local/lib/python3.7/dist-packages (from mne) (2.11.3)\n",
            "Requirement already satisfied: scipy>=1.1.0 in /usr/local/lib/python3.7/dist-packages (from mne) (1.7.3)\n",
            "Requirement already satisfied: numpy>=1.15.4 in /usr/local/lib/python3.7/dist-packages (from mne) (1.21.6)\n",
            "Requirement already satisfied: tqdm in /usr/local/lib/python3.7/dist-packages (from mne) (4.64.1)\n",
            "Requirement already satisfied: decorator in /usr/local/lib/python3.7/dist-packages (from mne) (4.4.2)\n",
            "Requirement already satisfied: appdirs>=1.3.0 in /usr/local/lib/python3.7/dist-packages (from pooch>=1.5->mne) (1.4.4)\n",
            "Requirement already satisfied: requests>=2.19.0 in /usr/local/lib/python3.7/dist-packages (from pooch>=1.5->mne) (2.23.0)\n",
            "Requirement already satisfied: pyparsing!=3.0.5,>=2.0.2 in /usr/local/lib/python3.7/dist-packages (from packaging->mne) (3.0.9)\n",
            "Requirement already satisfied: certifi>=2017.4.17 in /usr/local/lib/python3.7/dist-packages (from requests>=2.19.0->pooch>=1.5->mne) (2022.9.24)\n",
            "Requirement already satisfied: chardet<4,>=3.0.2 in /usr/local/lib/python3.7/dist-packages (from requests>=2.19.0->pooch>=1.5->mne) (3.0.4)\n",
            "Requirement already satisfied: idna<3,>=2.5 in /usr/local/lib/python3.7/dist-packages (from requests>=2.19.0->pooch>=1.5->mne) (2.10)\n",
            "Requirement already satisfied: urllib3!=1.25.0,!=1.25.1,<1.26,>=1.21.1 in /usr/local/lib/python3.7/dist-packages (from requests>=2.19.0->pooch>=1.5->mne) (1.24.3)\n",
            "Requirement already satisfied: MarkupSafe>=0.23 in /usr/local/lib/python3.7/dist-packages (from jinja2->mne) (2.0.1)\n",
            "Requirement already satisfied: python-dateutil>=2.1 in /usr/local/lib/python3.7/dist-packages (from matplotlib->mne) (2.8.2)\n",
            "Requirement already satisfied: cycler>=0.10 in /usr/local/lib/python3.7/dist-packages (from matplotlib->mne) (0.11.0)\n",
            "Requirement already satisfied: kiwisolver>=1.0.1 in /usr/local/lib/python3.7/dist-packages (from matplotlib->mne) (1.4.4)\n",
            "Requirement already satisfied: typing-extensions in /usr/local/lib/python3.7/dist-packages (from kiwisolver>=1.0.1->matplotlib->mne) (4.1.1)\n",
            "Requirement already satisfied: six>=1.5 in /usr/local/lib/python3.7/dist-packages (from python-dateutil>=2.1->matplotlib->mne) (1.15.0)\n",
            "Installing collected packages: mne\n",
            "Successfully installed mne-1.2.1\n"
          ]
        }
      ]
    },
    {
      "cell_type": "code",
      "source": [
        "import mne\n",
        "ann = mne.read_annotations(labels_SC[4])"
      ],
      "metadata": {
        "id": "jhyo4fQqdIoH"
      },
      "execution_count": 42,
      "outputs": []
    },
    {
      "cell_type": "code",
      "source": [
        "ann.duration"
      ],
      "metadata": {
        "colab": {
          "base_uri": "https://localhost:8080/"
        },
        "id": "uxh6z60FdIq_",
        "outputId": "3e38b0db-1279-4564-e718-dba6aaa65340"
      },
      "execution_count": 43,
      "outputs": [
        {
          "output_type": "execute_result",
          "data": {
            "text/plain": [
              "array([2.187e+04, 7.800e+02, 3.000e+01, 4.500e+02, 9.300e+02, 3.000e+01,\n",
              "       4.500e+02, 6.000e+01, 6.000e+01, 3.000e+01, 3.000e+01, 3.000e+01,\n",
              "       3.000e+01, 9.000e+01, 3.000e+01, 6.000e+01, 3.000e+01, 3.000e+01,\n",
              "       9.000e+01, 6.000e+01, 9.000e+01, 1.200e+02, 3.000e+01, 1.500e+02,\n",
              "       3.000e+01, 2.700e+02, 3.000e+01, 1.200e+02, 3.000e+01, 6.000e+02,\n",
              "       3.000e+01, 9.000e+01, 3.000e+01, 5.100e+02, 3.000e+01, 1.800e+02,\n",
              "       3.000e+01, 6.000e+01, 6.000e+01, 3.000e+01, 1.200e+02, 3.000e+01,\n",
              "       6.000e+01, 3.000e+01, 6.000e+01, 3.000e+01, 1.200e+02, 3.000e+01,\n",
              "       3.000e+01, 3.000e+01, 3.000e+01, 3.000e+01, 3.000e+01, 6.000e+01,\n",
              "       3.000e+01, 3.000e+01, 3.000e+01, 2.400e+02, 3.000e+01, 9.000e+01,\n",
              "       3.000e+01, 8.700e+02, 3.000e+01, 3.300e+02, 3.000e+01, 3.000e+01,\n",
              "       1.200e+02, 3.000e+01, 6.000e+01, 3.000e+01, 9.000e+01, 1.200e+02,\n",
              "       6.000e+01, 5.700e+02, 3.000e+01, 6.000e+01, 2.100e+02, 3.000e+01,\n",
              "       3.000e+01, 9.000e+01, 6.000e+01, 3.300e+02, 6.000e+01, 5.100e+02,\n",
              "       3.000e+01, 5.700e+02, 6.000e+01, 6.000e+01, 6.000e+01, 9.000e+01,\n",
              "       3.000e+01, 6.000e+01, 3.000e+01, 3.000e+01, 3.000e+01, 6.000e+01,\n",
              "       3.000e+01, 3.600e+02, 6.000e+01, 5.100e+02, 3.000e+01, 9.000e+01,\n",
              "       3.000e+01, 6.000e+01, 9.000e+01, 3.000e+01, 2.700e+02, 6.000e+01,\n",
              "       7.200e+02, 5.400e+02, 2.400e+02, 1.290e+03, 3.000e+01, 6.000e+01,\n",
              "       6.000e+01, 3.000e+01, 3.000e+01, 3.600e+02, 3.000e+01, 2.400e+02,\n",
              "       3.000e+01, 9.000e+01, 3.000e+01, 1.200e+02, 6.000e+01, 3.000e+01,\n",
              "       6.000e+01, 7.500e+02, 3.600e+02, 6.000e+01, 2.400e+02, 9.000e+01,\n",
              "       7.500e+02, 1.500e+02, 1.800e+02, 5.100e+02, 3.000e+01, 9.000e+01,\n",
              "       3.000e+01, 6.000e+01, 9.600e+02, 3.000e+01, 4.800e+02, 3.000e+01,\n",
              "       6.000e+01, 9.600e+02, 1.050e+03, 9.000e+01, 4.500e+02, 6.000e+01,\n",
              "       6.000e+02, 6.000e+01, 1.200e+02, 3.600e+02, 6.000e+01, 3.900e+02,\n",
              "       9.000e+01, 3.000e+02, 1.500e+02, 3.510e+04, 2.280e+03])"
            ]
          },
          "metadata": {},
          "execution_count": 43
        }
      ]
    },
    {
      "cell_type": "code",
      "source": [
        "ann.description"
      ],
      "metadata": {
        "colab": {
          "base_uri": "https://localhost:8080/"
        },
        "id": "O9cNz6MgeHgg",
        "outputId": "df7f5737-1746-4d6c-eaee-08768fb3ab9b"
      },
      "execution_count": 44,
      "outputs": [
        {
          "output_type": "execute_result",
          "data": {
            "text/plain": [
              "array(['Sleep stage W', 'Sleep stage 1', 'Sleep stage W', 'Sleep stage 1',\n",
              "       'Sleep stage 2', 'Sleep stage W', 'Sleep stage 2', 'Sleep stage 3',\n",
              "       'Sleep stage 2', 'Sleep stage 3', 'Sleep stage 4', 'Sleep stage 3',\n",
              "       'Sleep stage 2', 'Sleep stage 3', 'Sleep stage 2', 'Sleep stage 3',\n",
              "       'Sleep stage 2', 'Sleep stage 3', 'Sleep stage 4', 'Sleep stage 3',\n",
              "       'Sleep stage 4', 'Sleep stage 3', 'Sleep stage 4', 'Sleep stage 2',\n",
              "       'Sleep stage 3', 'Sleep stage 2', 'Sleep stage 3', 'Sleep stage 2',\n",
              "       'Sleep stage 1', 'Sleep stage 2', 'Sleep stage R', 'Sleep stage 2',\n",
              "       'Sleep stage R', 'Sleep stage 2', 'Sleep stage 3', 'Sleep stage 2',\n",
              "       'Sleep stage 3', 'Sleep stage 2', 'Sleep stage 3', 'Sleep stage 4',\n",
              "       'Sleep stage 3', 'Sleep stage 2', 'Sleep stage 3', 'Sleep stage 4',\n",
              "       'Sleep stage 3', 'Sleep stage 2', 'Sleep stage 4', 'Sleep stage 3',\n",
              "       'Sleep stage 4', 'Sleep stage 3', 'Sleep stage 4', 'Sleep stage 3',\n",
              "       'Sleep stage 4', 'Sleep stage 3', 'Sleep stage 4', 'Sleep stage 3',\n",
              "       'Sleep stage 4', 'Sleep stage 3', 'Sleep stage W', 'Sleep stage 2',\n",
              "       'Sleep stage 3', 'Sleep stage 2', 'Sleep stage 3', 'Sleep stage 2',\n",
              "       'Sleep stage 3', 'Sleep stage 2', 'Sleep stage 3', 'Sleep stage 4',\n",
              "       'Sleep stage 2', 'Sleep stage 3', 'Sleep stage 2', 'Sleep stage R',\n",
              "       'Sleep stage 2', 'Sleep stage R', 'Sleep stage 1', 'Sleep stage 2',\n",
              "       'Sleep stage R', 'Sleep stage W', 'Sleep stage 1', 'Sleep stage 2',\n",
              "       'Sleep stage 1', 'Sleep stage 2', 'Sleep stage 1', 'Sleep stage 2',\n",
              "       'Sleep stage 3', 'Sleep stage 2', 'Sleep stage 3', 'Sleep stage 2',\n",
              "       'Sleep stage 3', 'Sleep stage 2', 'Sleep stage 3', 'Sleep stage 2',\n",
              "       'Sleep stage 4', 'Sleep stage 3', 'Sleep stage 4', 'Sleep stage 2',\n",
              "       'Sleep stage 3', 'Sleep stage 2', 'Sleep stage 3', 'Sleep stage 2',\n",
              "       'Sleep stage 3', 'Sleep stage 2', 'Sleep stage R', 'Sleep stage 2',\n",
              "       'Sleep stage R', 'Sleep stage 2', 'Sleep stage R', 'Sleep stage 1',\n",
              "       'Sleep stage 2', 'Sleep stage R', 'Sleep stage 1', 'Sleep stage 2',\n",
              "       'Sleep stage 3', 'Sleep stage 2', 'Sleep stage 3', 'Sleep stage 2',\n",
              "       'Sleep stage 1', 'Sleep stage 2', 'Sleep stage 3', 'Sleep stage 2',\n",
              "       'Sleep stage 3', 'Sleep stage 2', 'Sleep stage 3', 'Sleep stage 2',\n",
              "       'Sleep stage 3', 'Sleep stage W', 'Sleep stage 1', 'Sleep stage 2',\n",
              "       'Sleep stage R', 'Sleep stage 1', 'Sleep stage R', 'Sleep stage 1',\n",
              "       'Sleep stage R', 'Sleep stage 1', 'Sleep stage 2', 'Sleep stage R',\n",
              "       'Sleep stage 2', 'Sleep stage R', 'Sleep stage W', 'Sleep stage 1',\n",
              "       'Sleep stage 2', 'Sleep stage 3', 'Sleep stage 2', 'Sleep stage 3',\n",
              "       'Sleep stage 1', 'Sleep stage 2', 'Sleep stage R', 'Sleep stage 1',\n",
              "       'Sleep stage 2', 'Sleep stage 1', 'Sleep stage 2', 'Sleep stage W',\n",
              "       'Sleep stage 1', 'Sleep stage 2', 'Sleep stage 1', 'Sleep stage 2',\n",
              "       'Sleep stage 1', 'Sleep stage 2', 'Sleep stage 1', 'Sleep stage W',\n",
              "       'Sleep stage ?'], dtype='<U13')"
            ]
          },
          "metadata": {},
          "execution_count": 44
        }
      ]
    },
    {
      "cell_type": "code",
      "source": [
        "annotaion = []\n",
        "for dur, des in zip(ann.duration, ann.description):\n",
        "  for i in range(int(dur)//30):\n",
        "    annotaion.append(des[-1])\n"
      ],
      "metadata": {
        "id": "00mPtycqeLQl"
      },
      "execution_count": 45,
      "outputs": []
    },
    {
      "cell_type": "code",
      "source": [
        "import numpy as np\n",
        "annotaion = np.array(annotaion)"
      ],
      "metadata": {
        "id": "YpiNR9RGejKX"
      },
      "execution_count": 46,
      "outputs": []
    },
    {
      "cell_type": "code",
      "source": [
        "unique, counts = np.unique(annotaion, return_counts = True)\n",
        "uniq_cnt_dict = dict(zip(unique, counts))\n",
        "uniq_cnt_dict"
      ],
      "metadata": {
        "colab": {
          "base_uri": "https://localhost:8080/"
        },
        "id": "O5AtW56lexfW",
        "outputId": "e1e1786e-a402-43d7-8e04-56878ac9c3c0"
      },
      "execution_count": 47,
      "outputs": [
        {
          "output_type": "execute_result",
          "data": {
            "text/plain": [
              "{'1': 94, '2': 545, '3': 73, '4': 22, '?': 76, 'R': 163, 'W': 1907}"
            ]
          },
          "metadata": {},
          "execution_count": 47
        }
      ]
    },
    {
      "cell_type": "code",
      "source": [
        "uniq_cnt_dict.keys()"
      ],
      "metadata": {
        "colab": {
          "base_uri": "https://localhost:8080/"
        },
        "id": "pfhfjkbmgCOL",
        "outputId": "1b2b9ccb-e968-4502-9aed-2f0c293a510f"
      },
      "execution_count": 48,
      "outputs": [
        {
          "output_type": "execute_result",
          "data": {
            "text/plain": [
              "dict_keys(['1', '2', '3', '4', '?', 'R', 'W'])"
            ]
          },
          "metadata": {},
          "execution_count": 48
        }
      ]
    },
    {
      "cell_type": "code",
      "source": [
        "import matplotlib.pyplot as plt\n",
        "x = np.arange(7)\n",
        "\n",
        "plt.bar(x,uniq_cnt_dict.values())\n",
        "plt.xticks(x, uniq_cnt_dict.keys())\n",
        "plt.xlabel('Sleep Stage')\n",
        "plt.ylabel('Number of Sleep Stage')\n",
        "plt.title('SleepEdf Histgram')\n",
        "plt.savefig('SleepEDF_Histogram',bbox_inches = 'tight')"
      ],
      "metadata": {
        "colab": {
          "base_uri": "https://localhost:8080/",
          "height": 295
        },
        "id": "7dEskVSZe7Ne",
        "outputId": "4bc5b4b7-758e-4843-dfe7-fbdceb34c265"
      },
      "execution_count": 49,
      "outputs": [
        {
          "output_type": "display_data",
          "data": {
            "text/plain": [
              "<Figure size 432x288 with 1 Axes>"
            ],
            "image/png": "[encoded data removed]"
          },
          "metadata": {
            "needs_background": "light"
          }
        }
      ]
    },
    {
      "cell_type": "markdown",
      "source": [
        "Data Imbalance Problem\n",
        "\n",
        "we truncate the leading and the tail wake sleep epochs and preserve only 30 minutes for them respectively to alleviate the class-imbalance problem.[1]\n",
        "\n",
        "\n",
        "[1] Self-Supervised Learning for Sleep Stage Classification with Predictive and Discriminative Contrastive Coding"
      ],
      "metadata": {
        "id": "3biyDS_09-bd"
      }
    },
    {
      "cell_type": "code",
      "source": [
        "annotaion = []\n",
        "for dur, des in zip(ann.duration, ann.description):\n",
        "  for i in range(int(dur)//30):\n",
        "    if des =='Sleep stage W' and i == 60:\n",
        "      break\n",
        "\n",
        "    annotaion.append(des[-1])\n"
      ],
      "metadata": {
        "id": "RPnKBW6MvEy5"
      },
      "execution_count": 66,
      "outputs": []
    },
    {
      "cell_type": "code",
      "source": [
        "annotaion = np.array(annotaion)\n",
        "unique, counts = np.unique(annotaion, return_counts = True)\n",
        "uniq_cnt_dict = dict(zip(unique, counts))\n",
        "uniq_cnt_dict"
      ],
      "metadata": {
        "colab": {
          "base_uri": "https://localhost:8080/"
        },
        "id": "cERH-IExvE58",
        "outputId": "ee805e82-2314-4b6b-b5da-981568f45ff9"
      },
      "execution_count": 67,
      "outputs": [
        {
          "output_type": "execute_result",
          "data": {
            "text/plain": [
              "{'1': 94, '2': 545, '3': 73, '4': 22, '?': 76, 'R': 163, 'W': 128}"
            ]
          },
          "metadata": {},
          "execution_count": 67
        }
      ]
    },
    {
      "cell_type": "code",
      "source": [
        "import matplotlib.pyplot as plt\n",
        "x = np.arange(7)\n",
        "\n",
        "plt.bar(x,uniq_cnt_dict.values())\n",
        "plt.xticks(x, uniq_cnt_dict.keys())\n",
        "plt.xlabel('Sleep Stage')\n",
        "plt.ylabel('Number of Sleep Stage')\n",
        "plt.title('SleepEdf Histgram')\n",
        "plt.savefig('Cutted_SleepEDF_Histogram',bbox_inches = 'tight')"
      ],
      "metadata": {
        "colab": {
          "base_uri": "https://localhost:8080/",
          "height": 295
        },
        "id": "qItiwkSIvcT1",
        "outputId": "bff4def7-cd8f-4a4e-ad00-0cc43ccded7e"
      },
      "execution_count": 52,
      "outputs": [
        {
          "output_type": "display_data",
          "data": {
            "text/plain": [
              "<Figure size 432x288 with 1 Axes>"
            ],
            "image/png": "[encoded data removed]"
          },
          "metadata": {
            "needs_background": "light"
          }
        }
      ]
    },
    {
      "cell_type": "markdown",
      "source": [
        "verification in data"
      ],
      "metadata": {
        "id": "hwK6hVnr3FfP"
      }
    },
    {
      "cell_type": "code",
      "source": [
        "data = mne.io.read_raw_edf(trains_SC[4])\n",
        "data = data.get_data()[:2,:]\n",
        "ann = mne.read_annotations(labels_SC[4])\n",
        "\n",
        "labels = []\n",
        "for dur, des in zip(ann.duration, ann.description):\n",
        "    for i in range(int(dur) // 30):\n",
        "        labels.append(des[-1])\n",
        "\n",
        "asd = []\n",
        "n= 0\n",
        "for slice_index in range(data.shape[1] // (100 * 30)): # 200Hz, 30epochs\n",
        "    # ingore the no labels\n",
        "        if labels[slice_index] == '?':\n",
        "            n = 0\n",
        "            continue\n",
        "        if labels[slice_index] == 'W':\n",
        "           n += 1\n",
        "        else:\n",
        "           n = 0\n",
        "\n",
        "        if n >= 61:\n",
        "           continue\n",
        "        asd.append(labels[slice_index])"
      ],
      "metadata": {
        "colab": {
          "base_uri": "https://localhost:8080/"
        },
        "id": "OwpyTSS-znlN",
        "outputId": "b369b2cd-61f0-4535-c6e9-3f0b1e8d39da"
      },
      "execution_count": null,
      "outputs": [
        {
          "output_type": "stream",
          "name": "stdout",
          "text": [
            "Extracting EDF parameters from /content/drive/MyDrive/sleep_edfx/data/sleep-cassette/SC4021E0-PSG.edf...\n",
            "EDF file detected\n",
            "Setting channel info structure...\n",
            "Creating raw.info structure...\n"
          ]
        }
      ]
    },
    {
      "cell_type": "code",
      "source": [
        "asd = np.array(asd)\n",
        "unique, counts = np.unique(asd, return_counts = True)\n",
        "uniq_cnt_dict1 = dict(zip(unique, counts))\n",
        "uniq_cnt_dict1"
      ],
      "metadata": {
        "colab": {
          "base_uri": "https://localhost:8080/"
        },
        "id": "LgteosYK0j68",
        "outputId": "c1a8d2b2-0549-48b5-b267-03131939d245"
      },
      "execution_count": 65,
      "outputs": [
        {
          "output_type": "execute_result",
          "data": {
            "text/plain": [
              "{'1': 94, '2': 545, '3': 73, '4': 22, 'R': 163, 'W': 128}"
            ]
          },
          "metadata": {},
          "execution_count": 65
        }
      ]
    },
    {
      "cell_type": "code",
      "source": [],
      "metadata": {
        "id": "RBf-Ot2e34gh"
      },
      "execution_count": null,
      "outputs": []
    },
    {
      "cell_type": "code",
      "source": [
        "uniq_cnt_dict"
      ],
      "metadata": {
        "colab": {
          "base_uri": "https://localhost:8080/"
        },
        "id": "gM22fbKMvcYu",
        "outputId": "f25e51b3-f843-4590-9fda-9a7ac51e5cdb"
      },
      "execution_count": 68,
      "outputs": [
        {
          "output_type": "execute_result",
          "data": {
            "text/plain": [
              "{'1': 94, '2': 545, '3': 73, '4': 22, '?': 76, 'R': 163, 'W': 128}"
            ]
          },
          "metadata": {},
          "execution_count": 68
        }
      ]
    },
    {
      "cell_type": "markdown",
      "source": [
        "\n"
      ],
      "metadata": {
        "id": "u8hOkKwM3obp"
      }
    },
    {
      "cell_type": "markdown",
      "source": [
        "Save the data"
      ],
      "metadata": {
        "id": "V-xWQgSO4BsA"
      }
    },
    {
      "cell_type": "code",
      "source": [
        "import os\n",
        "for i in range(len(trains_SC)):\n",
        "    print(i)\n",
        "    if i == 5:  # 5개 sample만 진행\n",
        "      break \n",
        "    subjetc_id = trains_SC[i].split('/')[-1].split('-')[0]\n",
        "    \n",
        "    # load signal and upsampling\n",
        "    data = mne.io.read_raw_edf(trains_SC[i])\n",
        "    data = data.get_data()[:2,:]\n",
        "    data = mne.filter.resample(data, up = 2.0) # upsampling to 200Hz  \n",
        "    \n",
        "    # load annotaion\n",
        "    ann = mne.read_annotations(labels_SC[i])\n",
        "    labels = []\n",
        "    for dur, des in zip(ann.duration, ann.description):\n",
        "        for i in range(int(dur) // 30):\n",
        "          labels.append(des[-1])\n",
        "\n",
        "    n = 0\n",
        "    for slice_index in range(data.shape[1] // (200 * 30)): # 200Hz, 30epochs\n",
        "    # ingore the no labels\n",
        "        if labels[slice_index] == '?':\n",
        "            n = 0\n",
        "            continue\n",
        "        elif labels[slice_index] == 'W':\n",
        "           n += 1\n",
        "        else:\n",
        "           n = 0\n",
        "\n",
        "        if n >= 61:\n",
        "           continue\n",
        "        \n",
        "        adress = '/content/drive/MyDrive/sleep_edfx/Cutted_EEG'\n",
        "        if not os.path.exists(adress+'/_'+str(subjetc_id)):\n",
        "            os.makedirs(adress+'/_'+str(subjetc_id))\n",
        "        \n",
        "        data_adress = adress+'/_'+str(subjetc_id)\n",
        "            \n",
        "        data_path = data_adress +'/'+ str(subjetc_id) + '_' + str(slice_index) + '.npz'\n",
        "        X = data[:, slice_index * 200 * 30: (slice_index+1) * 200 * 30]\n",
        "        Y = labels[slice_index]\n",
        "        np.savez(data_path, x = X, y = Y)"
      ],
      "metadata": {
        "colab": {
          "base_uri": "https://localhost:8080/"
        },
        "id": "qYOTZAQvvcaz",
        "outputId": "e67c23a1-7cd0-4af7-b58c-c6e2a9f104c4"
      },
      "execution_count": 74,
      "outputs": [
        {
          "output_type": "stream",
          "name": "stdout",
          "text": [
            "0\n",
            "Extracting EDF parameters from /content/drive/MyDrive/sleep_edfx/data/sleep-cassette/SC4001E0-PSG.edf...\n",
            "EDF file detected\n",
            "Setting channel info structure...\n",
            "Creating raw.info structure...\n",
            "1\n",
            "Extracting EDF parameters from /content/drive/MyDrive/sleep_edfx/data/sleep-cassette/SC4002E0-PSG.edf...\n",
            "EDF file detected\n",
            "Setting channel info structure...\n",
            "Creating raw.info structure...\n",
            "2\n",
            "Extracting EDF parameters from /content/drive/MyDrive/sleep_edfx/data/sleep-cassette/SC4011E0-PSG.edf...\n",
            "EDF file detected\n",
            "Setting channel info structure...\n",
            "Creating raw.info structure...\n",
            "3\n",
            "Extracting EDF parameters from /content/drive/MyDrive/sleep_edfx/data/sleep-cassette/SC4012E0-PSG.edf...\n",
            "EDF file detected\n",
            "Setting channel info structure...\n",
            "Creating raw.info structure...\n",
            "4\n",
            "Extracting EDF parameters from /content/drive/MyDrive/sleep_edfx/data/sleep-cassette/SC4021E0-PSG.edf...\n",
            "EDF file detected\n",
            "Setting channel info structure...\n",
            "Creating raw.info structure...\n",
            "5\n"
          ]
        }
      ]
    }
  ]
}