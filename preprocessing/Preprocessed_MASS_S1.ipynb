{
  "nbformat": 4,
  "nbformat_minor": 0,
  "metadata": {
    "colab": {
      "provenance": [],
      "collapsed_sections": []
    },
    "kernelspec": {
      "name": "python3",
      "display_name": "Python 3"
    },
    "language_info": {
      "name": "python"
    }
  },
  "cells": [
    {
      "cell_type": "markdown",
      "source": [
        "data load"
      ],
      "metadata": {
        "id": "b0BeMgp6DhlN"
      }
    },
    {
      "cell_type": "code",
      "source": [
        "import glob\n",
        "#First, investigate cassette files.\n",
        "data_list = sorted(glob.glob('/content/drive/MyDrive/EEG_data/MASS/SS1/**'))\n",
        "trains = [x for x in data_list if x.endswith('PSG.edf')]\n",
        "\n",
        "labels= [x for x in data_list if x.endswith('Base.edf')]\n",
        "\n",
        "print('number of train samples:',len(trains))\n",
        "print('number of labels:',len(labels))"
      ],
      "metadata": {
        "colab": {
          "base_uri": "https://localhost:8080/"
        },
        "id": "SeCdiPDhh9OB",
        "outputId": "161250e1-5d23-45e2-d20d-788f670581cb"
      },
      "execution_count": 1,
      "outputs": [
        {
          "output_type": "stream",
          "name": "stdout",
          "text": [
            "number of train samples: 53\n",
            "number of labels: 53\n"
          ]
        }
      ]
    },
    {
      "cell_type": "markdown",
      "source": [
        "See imformation of EDF file "
      ],
      "metadata": {
        "id": "XA51siKuDndX"
      }
    },
    {
      "cell_type": "code",
      "source": [
        "!pip install pyEDFlib"
      ],
      "metadata": {
        "colab": {
          "base_uri": "https://localhost:8080/"
        },
        "id": "gaD8UOW0NFKY",
        "outputId": "8b9a2f6c-e548-4ac0-9c11-aaf7d1ade649"
      },
      "execution_count": 2,
      "outputs": [
        {
          "output_type": "stream",
          "name": "stdout",
          "text": [
            "Looking in indexes: https://pypi.org/simple, https://us-python.pkg.dev/colab-wheels/public/simple/\n",
            "Collecting pyEDFlib\n",
            "  Downloading pyEDFlib-0.1.30-cp37-cp37m-manylinux_2_17_x86_64.manylinux2014_x86_64.whl (2.4 MB)\n",
            "\u001b[K     |████████████████████████████████| 2.4 MB 5.2 MB/s \n",
            "\u001b[?25hRequirement already satisfied: numpy>=1.9.1 in /usr/local/lib/python3.7/dist-packages (from pyEDFlib) (1.21.6)\n",
            "Installing collected packages: pyEDFlib\n",
            "Successfully installed pyEDFlib-0.1.30\n"
          ]
        }
      ]
    },
    {
      "cell_type": "code",
      "source": [
        "from pyedflib import highlevel\n",
        "signal_headers = highlevel.read_edf(trains[0])[1]\n"
      ],
      "metadata": {
        "id": "YeJexwLKM34v"
      },
      "execution_count": 3,
      "outputs": []
    },
    {
      "cell_type": "markdown",
      "source": [
        "EDF file에 EEG신호 뿐만아니라, EMG등 다양한 신호들이 존재합니다."
      ],
      "metadata": {
        "id": "fXEmRa28vHH3"
      }
    },
    {
      "cell_type": "code",
      "source": [
        "print('number of channels:',len(signal_headers))\n",
        "for i in range(len(signal_headers)):\n",
        "      print(signal_headers[i]['label'],i)\n"
      ],
      "metadata": {
        "colab": {
          "base_uri": "https://localhost:8080/"
        },
        "id": "-NnIOr1NAq8G",
        "outputId": "4c74d2ca-8942-429b-9b1d-4c7e8467893b"
      },
      "execution_count": 4,
      "outputs": [
        {
          "output_type": "stream",
          "name": "stdout",
          "text": [
            "number of channels: 31\n",
            "EOG Left Horiz 0\n",
            "EOG Right Horiz 1\n",
            "EMG Chin1 2\n",
            "EMG Chin2 3\n",
            "EMG Chin3 4\n",
            "EEG F3-CLE 5\n",
            "EEG F4-CLE 6\n",
            "EEG C3-CLE 7\n",
            "EEG C4-CLE 8\n",
            "EEG O1-CLE 9\n",
            "EEG O2-CLE 10\n",
            "ECG ECGI 11\n",
            "EMG Ant Tibial L 12\n",
            "EMG Ant Tibial R 13\n",
            "Resp Thermistor 14\n",
            "Resp Cannula 15\n",
            "Resp Belt Thor 16\n",
            "Resp Belt Abdo 17\n",
            "EEG F7-CLE 18\n",
            "EEG F8-CLE 19\n",
            "EEG T3-CLE 20\n",
            "EEG T4-CLE 21\n",
            "EEG T5-CLE 22\n",
            "EEG T6-CLE 23\n",
            "EEG P3-CLE 24\n",
            "EEG P4-CLE 25\n",
            "EEG Fz-CLE 26\n",
            "EEG Cz-CLE 27\n",
            "EEG Pz-CLE 28\n",
            "EEG A2-CLE 29\n",
            "SaO2 SaO2 30\n"
          ]
        }
      ]
    },
    {
      "cell_type": "markdown",
      "source": [
        "EEG신호만 따로 가져오겠습니다."
      ],
      "metadata": {
        "id": "MY95RT4tAy7O"
      }
    },
    {
      "cell_type": "code",
      "source": [
        "#signal_headers : list\n",
        "\n",
        "print('number of channels:',len(signal_headers))\n",
        "\n",
        "for i in range(len(signal_headers)):\n",
        "    if signal_headers[i]['label'].split(' ')[0] == 'EEG':\n",
        "      print(signal_headers[i]['label'],i)\n"
      ],
      "metadata": {
        "colab": {
          "base_uri": "https://localhost:8080/"
        },
        "id": "wgfheug91Kmx",
        "outputId": "051569ec-0b16-40ff-bf66-bdfd08ef215f"
      },
      "execution_count": 5,
      "outputs": [
        {
          "output_type": "stream",
          "name": "stdout",
          "text": [
            "number of channels: 31\n",
            "EEG F3-CLE 5\n",
            "EEG F4-CLE 6\n",
            "EEG C3-CLE 7\n",
            "EEG C4-CLE 8\n",
            "EEG O1-CLE 9\n",
            "EEG O2-CLE 10\n",
            "EEG F7-CLE 18\n",
            "EEG F8-CLE 19\n",
            "EEG T3-CLE 20\n",
            "EEG T4-CLE 21\n",
            "EEG T5-CLE 22\n",
            "EEG T6-CLE 23\n",
            "EEG P3-CLE 24\n",
            "EEG P4-CLE 25\n",
            "EEG Fz-CLE 26\n",
            "EEG Cz-CLE 27\n",
            "EEG Pz-CLE 28\n",
            "EEG A2-CLE 29\n"
          ]
        }
      ]
    },
    {
      "cell_type": "markdown",
      "source": [
        "EEG channel name list를 만들어주고, list에 있는 순서대로 EEG데이터를 저장할 예정입니다."
      ],
      "metadata": {
        "id": "1vidUDttA3ew"
      }
    },
    {
      "cell_type": "code",
      "source": [
        "channel_list_sys1020_18 = ['EEG F7-CLE','EEG F3-CLE','EEG Fz-CLE','EEG F4-CLE', 'EEG F8-CLE','EEG T3-CLE','EEG C3-CLE',\n",
        "                       'EEG Cz-CLE','EEG C4-CLE','EEG T4-CLE','EEG T5-CLE','EEG P3-CLE','EEG Pz-CLE','EEG P4-CLE',\n",
        "                       'EEG T6-CLE','EEG O1-CLE','EEG O2-CLE']\n",
        "                       # A2는 제외"
      ],
      "metadata": {
        "id": "TSf5Otby8qca"
      },
      "execution_count": 6,
      "outputs": []
    },
    {
      "cell_type": "code",
      "source": [
        "EEG_data = highlevel.read_edf(trains[0])[0]"
      ],
      "metadata": {
        "id": "pnU5wVi2902D"
      },
      "execution_count": 7,
      "outputs": []
    },
    {
      "cell_type": "code",
      "source": [
        "data = []\n",
        "for channel_name in channel_list_sys1020_18:  \n",
        "  for i in range(len(signal_headers)):\n",
        "    if signal_headers[i]['label'] == channel_name:\n",
        "      data.append(EEG_data[i])\n",
        "print(data)"
      ],
      "metadata": {
        "colab": {
          "base_uri": "https://localhost:8080/"
        },
        "id": "zrFHw0eqBH-p",
        "outputId": "8a760975-0c3e-475c-b6ae-7a73ecae75c2"
      },
      "execution_count": 8,
      "outputs": [
        {
          "output_type": "stream",
          "name": "stdout",
          "text": [
            "[array([ 4.29747463,  9.323888  ,  9.08453498, ..., -5.49423972,\n",
            "       -4.90673686, -4.27571527]), array([-0.79310292,  5.26924544,  5.74728008, ..., -5.50826276,\n",
            "       -4.92158389, -4.26971847]), array([-2.1145037 ,  5.18217746,  6.03674372, ..., -5.51085679,\n",
            "       -4.919234  , -4.26187533]), array([ 1.56118105,  8.6980087 , 12.09649805, ..., -5.49068437,\n",
            "       -4.91718929, -4.25873198]), array([ 0.48821241,  8.71187915, 11.33737697, ..., -5.50052644,\n",
            "       -4.91467155, -4.26372168]), array([11.40700389,  9.94708171,  6.02490272, ..., -5.50194553,\n",
            "       -4.91361868, -4.25992218]), array([-7.0389868 , -2.55283436, -0.1388571 , ..., -5.50087739,\n",
            "       -4.92408637, -4.26184482]), array([-5.62856489,  1.22078279,  4.87232776, ..., -5.49892424,\n",
            "       -4.91554131, -4.26733806]), array([-4.62645914,  3.49909209,  9.45499351, ..., -5.49857328,\n",
            "       -4.92425422, -4.26485084]), array([ 1.27470817,  2.69105058, 11.97354086, ..., -5.50194553,\n",
            "       -4.91361868, -4.25992218]), array([-10.07956054,  -7.83245594,  -6.81693751, ...,  -5.49892424,\n",
            "        -4.91554131,  -4.26733806]), array([-10.78176547,  -8.2576791 ,  -7.45258259, ...,  -5.49423972,\n",
            "        -4.90673686,  -4.27571527]), array([-9.44623484, -2.92932021, -0.80090028, ..., -5.49658961,\n",
            "       -4.90414282, -4.26781109]), array([-6.89130999, -0.12051575,  5.09452964, ..., -5.51085679,\n",
            "       -4.919234  , -4.26187533]), array([-1.89802396,  3.06097505,  5.47464714, ..., -5.49658961,\n",
            "       -4.90414282, -4.26781109]), array([ -9.85885405, -11.07652399, -14.2168307 , ...,  -5.50087739,\n",
            "        -4.92408637,  -4.26184482]), array([-10.85511559,  -5.69604028,  -3.21126116, ...,  -5.50652323,\n",
            "        -4.91691463,  -4.26413367])]\n"
          ]
        }
      ]
    },
    {
      "cell_type": "code",
      "source": [
        "import numpy as np\n",
        "data = np.array(data)\n",
        "data.shape"
      ],
      "metadata": {
        "id": "Z3dEO5xcANb9",
        "colab": {
          "base_uri": "https://localhost:8080/"
        },
        "outputId": "328beec6-4006-4f1a-8478-9e2d89e0630e"
      },
      "execution_count": 30,
      "outputs": [
        {
          "output_type": "execute_result",
          "data": {
            "text/plain": [
              "(17, 7821824)"
            ]
          },
          "metadata": {},
          "execution_count": 30
        }
      ]
    },
    {
      "cell_type": "markdown",
      "source": [
        "MASS SS1 dataset에는 EEG channel이 19개인것과, 17개인 것이 존재합니다."
      ],
      "metadata": {
        "id": "moW7ZMP0CKKq"
      }
    },
    {
      "cell_type": "code",
      "source": [
        "signal_headers = highlevel.read_edf(trains[1])[1]\n",
        "print('number of channels:',len(signal_headers))\n",
        "\n",
        "for i in range(len(signal_headers)):\n",
        "    if signal_headers[i]['label'].split(' ')[0] == 'EEG':\n",
        "    # exclude_channels.append(signal_headers[i]['label'])\n",
        "      print(signal_headers[i]['label'],i)"
      ],
      "metadata": {
        "colab": {
          "base_uri": "https://localhost:8080/"
        },
        "id": "RB__Q2bnBcLZ",
        "outputId": "70cdc2f5-e91f-479a-9bec-c07e02ca2175"
      },
      "execution_count": 10,
      "outputs": [
        {
          "output_type": "stream",
          "name": "stdout",
          "text": [
            "number of channels: 31\n",
            "EEG Fp1-LER 0\n",
            "EEG Fp2-LER 1\n",
            "EEG F3-LER 2\n",
            "EEG F4-LER 3\n",
            "EEG F7-LER 4\n",
            "EEG F8-LER 5\n",
            "EEG C3-LER 6\n",
            "EEG C4-LER 7\n",
            "EEG P3-LER 8\n",
            "EEG P4-LER 9\n",
            "EEG O1-LER 10\n",
            "EEG O2-LER 11\n",
            "EEG T3-LER 12\n",
            "EEG T4-LER 13\n",
            "EEG T5-LER 14\n",
            "EEG T6-LER 15\n",
            "EEG Fz-LER 16\n",
            "EEG Cz-LER 17\n",
            "EEG Pz-LER 18\n"
          ]
        }
      ]
    },
    {
      "cell_type": "code",
      "source": [
        "signal_headers = highlevel.read_edf(trains[5])[1]\n",
        "print('number of channels:',len(signal_headers))\n",
        "\n",
        "for i in range(len(signal_headers)):\n",
        "    if signal_headers[i]['label'].split(' ')[0] == 'EEG':\n",
        "    # exclude_channels.append(signal_headers[i]['label'])\n",
        "      print(signal_headers[i]['label'],i)"
      ],
      "metadata": {
        "colab": {
          "base_uri": "https://localhost:8080/"
        },
        "id": "L2ftuLMjCBPJ",
        "outputId": "59850203-72c4-4180-9bdf-13a75574ae48"
      },
      "execution_count": 33,
      "outputs": [
        {
          "output_type": "stream",
          "name": "stdout",
          "text": [
            "number of channels: 30\n",
            "EEG F3-LER 0\n",
            "EEG F4-LER 1\n",
            "EEG C3-LER 2\n",
            "EEG C4-LER 3\n",
            "EEG P3-LER 4\n",
            "EEG P4-LER 5\n",
            "EEG O1-LER 6\n",
            "EEG O2-LER 7\n",
            "EEG F7-LER 8\n",
            "EEG F8-LER 9\n",
            "EEG T3-LER 10\n",
            "EEG T4-LER 11\n",
            "EEG T5-LER 12\n",
            "EEG T6-LER 13\n",
            "EEG Fz-LER 14\n",
            "EEG Cz-LER 15\n",
            "EEG Pz-LER 16\n"
          ]
        }
      ]
    },
    {
      "cell_type": "code",
      "source": [
        "len(signal_headers)"
      ],
      "metadata": {
        "colab": {
          "base_uri": "https://localhost:8080/"
        },
        "id": "F2ETJkKK-XO9",
        "outputId": "4fd88080-d6fe-4e7c-f1e0-29a18e2b1c89"
      },
      "execution_count": 38,
      "outputs": [
        {
          "output_type": "execute_result",
          "data": {
            "text/plain": [
              "30"
            ]
          },
          "metadata": {},
          "execution_count": 38
        }
      ]
    },
    {
      "cell_type": "code",
      "source": [
        "channel_list_sys1020_17 = ['EEG F7-LER','EEG F3-LER','EEG Fz-LER','EEG F4-LER', 'EEG F8-LER','EEG T3-LER','EEG C3-LER',\n",
        "                       'EEG Cz-LER','EEG C4-LER','EEG T4-LER','EEG T5-LER','EEG P3-LER','EEG Pz-LER','EEG P4-LER',\n",
        "                       'EEG T6-LER','EEG O1-LER','EEG O2-LER']\n",
        "\n",
        "channel_list_sys1020_19 = ['Fp1-LER','Fp2-LER','EEG F7-LER','EEG F3-LER','EEG Fz-LER','EEG F4-LER', 'EEG F8-LER',\n",
        "                           'EEG T3-LER','EEG C3-LER','EEG Cz-LER','EEG C4-LER','EEG T4-LER','EEG T5-LER','EEG P3-LER',\n",
        "                           'EEG Pz-LER','EEG P4-LER','EEG T6-LER','EEG O1-LER','EEG O2-LER']\n",
        "                      "
      ],
      "metadata": {
        "id": "-dMKne5pCsdQ"
      },
      "execution_count": 12,
      "outputs": []
    },
    {
      "cell_type": "markdown",
      "source": [
        "annotaion 확인하기"
      ],
      "metadata": {
        "id": "GLxdGJX5Dyzz"
      }
    },
    {
      "cell_type": "code",
      "source": [
        "!pip install mne"
      ],
      "metadata": {
        "colab": {
          "base_uri": "https://localhost:8080/"
        },
        "id": "0BNYL1uCioJO",
        "outputId": "d7e1f25d-f63c-474e-c97e-96bb957fecde"
      },
      "execution_count": 13,
      "outputs": [
        {
          "output_type": "stream",
          "name": "stdout",
          "text": [
            "Looking in indexes: https://pypi.org/simple, https://us-python.pkg.dev/colab-wheels/public/simple/\n",
            "Collecting mne\n",
            "  Downloading mne-1.2.1-py3-none-any.whl (7.6 MB)\n",
            "\u001b[K     |████████████████████████████████| 7.6 MB 5.2 MB/s \n",
            "\u001b[?25hRequirement already satisfied: pooch>=1.5 in /usr/local/lib/python3.7/dist-packages (from mne) (1.6.0)\n",
            "Requirement already satisfied: decorator in /usr/local/lib/python3.7/dist-packages (from mne) (4.4.2)\n",
            "Requirement already satisfied: packaging in /usr/local/lib/python3.7/dist-packages (from mne) (21.3)\n",
            "Requirement already satisfied: jinja2 in /usr/local/lib/python3.7/dist-packages (from mne) (2.11.3)\n",
            "Requirement already satisfied: scipy>=1.1.0 in /usr/local/lib/python3.7/dist-packages (from mne) (1.7.3)\n",
            "Requirement already satisfied: matplotlib in /usr/local/lib/python3.7/dist-packages (from mne) (3.2.2)\n",
            "Requirement already satisfied: numpy>=1.15.4 in /usr/local/lib/python3.7/dist-packages (from mne) (1.21.6)\n",
            "Requirement already satisfied: tqdm in /usr/local/lib/python3.7/dist-packages (from mne) (4.64.1)\n",
            "Requirement already satisfied: appdirs>=1.3.0 in /usr/local/lib/python3.7/dist-packages (from pooch>=1.5->mne) (1.4.4)\n",
            "Requirement already satisfied: requests>=2.19.0 in /usr/local/lib/python3.7/dist-packages (from pooch>=1.5->mne) (2.23.0)\n",
            "Requirement already satisfied: pyparsing!=3.0.5,>=2.0.2 in /usr/local/lib/python3.7/dist-packages (from packaging->mne) (3.0.9)\n",
            "Requirement already satisfied: chardet<4,>=3.0.2 in /usr/local/lib/python3.7/dist-packages (from requests>=2.19.0->pooch>=1.5->mne) (3.0.4)\n",
            "Requirement already satisfied: certifi>=2017.4.17 in /usr/local/lib/python3.7/dist-packages (from requests>=2.19.0->pooch>=1.5->mne) (2022.9.24)\n",
            "Requirement already satisfied: idna<3,>=2.5 in /usr/local/lib/python3.7/dist-packages (from requests>=2.19.0->pooch>=1.5->mne) (2.10)\n",
            "Requirement already satisfied: urllib3!=1.25.0,!=1.25.1,<1.26,>=1.21.1 in /usr/local/lib/python3.7/dist-packages (from requests>=2.19.0->pooch>=1.5->mne) (1.24.3)\n",
            "Requirement already satisfied: MarkupSafe>=0.23 in /usr/local/lib/python3.7/dist-packages (from jinja2->mne) (2.0.1)\n",
            "Requirement already satisfied: kiwisolver>=1.0.1 in /usr/local/lib/python3.7/dist-packages (from matplotlib->mne) (1.4.4)\n",
            "Requirement already satisfied: python-dateutil>=2.1 in /usr/local/lib/python3.7/dist-packages (from matplotlib->mne) (2.8.2)\n",
            "Requirement already satisfied: cycler>=0.10 in /usr/local/lib/python3.7/dist-packages (from matplotlib->mne) (0.11.0)\n",
            "Requirement already satisfied: typing-extensions in /usr/local/lib/python3.7/dist-packages (from kiwisolver>=1.0.1->matplotlib->mne) (4.1.1)\n",
            "Requirement already satisfied: six>=1.5 in /usr/local/lib/python3.7/dist-packages (from python-dateutil>=2.1->matplotlib->mne) (1.15.0)\n",
            "Installing collected packages: mne\n",
            "Successfully installed mne-1.2.1\n"
          ]
        }
      ]
    },
    {
      "cell_type": "code",
      "source": [
        "import mne\n",
        "ann = mne.read_annotations(labels[0])\n",
        "print(ann.duration)\n",
        "print('------')\n",
        "ann.description"
      ],
      "metadata": {
        "colab": {
          "base_uri": "https://localhost:8080/"
        },
        "id": "A2MMUWtCi6lP",
        "outputId": "b0b73c88-b786-4b27-d2b7-56bf9c9868ff"
      },
      "execution_count": 15,
      "outputs": [
        {
          "output_type": "stream",
          "name": "stdout",
          "text": [
            "[30. 30. 30. ... 30. 30. 30.]\n",
            "------\n"
          ]
        },
        {
          "output_type": "execute_result",
          "data": {
            "text/plain": [
              "array(['Sleep stage ?', 'Sleep stage ?', 'Sleep stage ?', ...,\n",
              "       'Sleep stage ?', 'Sleep stage ?', 'Sleep stage ?'], dtype='<U13')"
            ]
          },
          "metadata": {},
          "execution_count": 15
        }
      ]
    },
    {
      "cell_type": "code",
      "source": [
        "anotation = ann.description\n",
        "unique, counts = np.unique(anotation, return_counts = True)\n",
        "uniq_cnt_dict = dict(zip(unique, counts))\n",
        "uniq_cnt_dict"
      ],
      "metadata": {
        "colab": {
          "base_uri": "https://localhost:8080/"
        },
        "id": "2IKfRQkC5FjA",
        "outputId": "06f13860-3d9e-4f18-89a1-d803c6eb17ff"
      },
      "execution_count": 20,
      "outputs": [
        {
          "output_type": "execute_result",
          "data": {
            "text/plain": [
              "{'Sleep stage 1': 69,\n",
              " 'Sleep stage 2': 500,\n",
              " 'Sleep stage 3': 115,\n",
              " 'Sleep stage ?': 100,\n",
              " 'Sleep stage R': 174,\n",
              " 'Sleep stage W': 60}"
            ]
          },
          "metadata": {},
          "execution_count": 20
        }
      ]
    },
    {
      "cell_type": "markdown",
      "source": [
        "Sleep stage ? 제외하고 30초씩 잘라서 데이터 받기"
      ],
      "metadata": {
        "id": "EjextyapEG3l"
      }
    },
    {
      "cell_type": "code",
      "source": [
        "for slice_index in range(data.shape[1] // (256 * 30)):\n",
        "    # ingore the no labels\n",
        "    if ann.description[slice_index] == 'Sleep stage ?':\n",
        "        continue\n",
        "    print(data[:, slice_index * 256 * 30: (slice_index+1) * 256 * 30].shape)\n",
        "    print(ann.description[slice_index])\n",
        "    if slice_index >= 40:\n",
        "        break"
      ],
      "metadata": {
        "colab": {
          "base_uri": "https://localhost:8080/"
        },
        "id": "sD2o-whcSyE8",
        "outputId": "460742ba-5b7d-44b8-c251-ec1c63373edc"
      },
      "execution_count": 28,
      "outputs": [
        {
          "output_type": "stream",
          "name": "stdout",
          "text": [
            "(17, 7680)\n",
            "Sleep stage W\n",
            "(17, 7680)\n",
            "Sleep stage W\n",
            "(17, 7680)\n",
            "Sleep stage W\n",
            "(17, 7680)\n",
            "Sleep stage W\n",
            "(17, 7680)\n",
            "Sleep stage W\n",
            "(17, 7680)\n",
            "Sleep stage 1\n"
          ]
        }
      ]
    },
    {
      "cell_type": "code",
      "source": [
        "import gc\n",
        "gc.collect()"
      ],
      "metadata": {
        "colab": {
          "base_uri": "https://localhost:8080/"
        },
        "id": "aZ8r7_kKoO-T",
        "outputId": "24be7f3b-e9ff-4e58-a69d-d5c8a7232f9c"
      },
      "execution_count": null,
      "outputs": [
        {
          "output_type": "execute_result",
          "data": {
            "text/plain": [
              "475"
            ]
          },
          "metadata": {},
          "execution_count": 50
        }
      ]
    },
    {
      "cell_type": "code",
      "source": [
        "import os\n",
        "\n",
        "for i in range(len(trains)):\n",
        "    print(i)\n",
        "    EEG = highlevel.read_edf(trains[i])\n",
        "    EEG_data = EEG[0]\n",
        "    signal_headers = EEG[1]\n",
        "    n = 0\n",
        "    for j in range(len(signal_headers)):\n",
        "        if signal_headers[j]['label'].split(' ')[0] == 'EEG':\n",
        "           n += 1\n",
        "    \n",
        "    data = []\n",
        "    print(n)\n",
        "    if n == 18: # 18channels\n",
        "      for channel_name in channel_list_sys1020_18:  \n",
        "        for k in range(len(signal_headers)):\n",
        "            if signal_headers[k]['label'] == channel_name:\n",
        "                data.append(EEG_data[i])\n",
        "      channel_num = 18\n",
        "\n",
        "    if n == 17: # 17channels\n",
        "      for channel_name in channel_list_sys1020_17:  \n",
        "        for k in range(len(signal_headers)):\n",
        "            if signal_headers[k]['label'] == channel_name:\n",
        "                data.append(EEG_data[i])  \n",
        "      channel_num = 17\n",
        "\n",
        "    if n == 19: # 19channels\n",
        "      for channel_name in channel_list_sys1020_19:  \n",
        "        for k in range(len(signal_headers)):\n",
        "            if signal_headers[k]['label'] == channel_name:\n",
        "                data.append(EEG_data[i])                \n",
        "      channel_num = 19\n",
        "\n",
        "    data = np.array(data)\n",
        "    data = mne.filter.resample(data, down = 1.28) # downsampling to 200Hz  \n",
        "    data = mne.filter.filter_data(data, sfreq = 200, l_freq=0., h_freq=75.)\n",
        "    ann = mne.read_annotations(labels[i])\n",
        "\n",
        "    for slice_index in range(len(ann.description)): # 200Hz, 30epochs\n",
        "        # ingore the no labels\n",
        "        if ann.description[slice_index] == 'Sleep stage ?':\n",
        "            continue\n",
        "            \n",
        "        adress = '/content/drive/MyDrive/EEG_data/MASS/SS1/Preprocessed_EEG'\n",
        "        if not os.path.exists(adress+'/SS1_CH'+str(channel_num) + '_'+str(i)):\n",
        "            os.makedirs(adress+'/SS1_CH'+str(channel_num) + '_'+str(i))\n",
        "        \n",
        "        data_adress = adress+'/SS1_CH'+str(channel_num) + '_'+str(i)\n",
        "            \n",
        "        data_path = data_adress +'/'+ str(i) + '_' + str(slice_index) + '.npz'\n",
        "        X = data[:, slice_index * 200 * 30: (slice_index+1) * 200 * 30]\n",
        "        Y = ann.description[slice_index]\n",
        "        np.savez(data_path, x = X, y = Y)"
      ],
      "metadata": {
        "colab": {
          "base_uri": "https://localhost:8080/"
        },
        "id": "eQ8F1ukeD1lR",
        "outputId": "b4fe6664-05ae-4214-bf07-0401e30950af"
      },
      "execution_count": null,
      "outputs": [
        {
          "output_type": "stream",
          "name": "stdout",
          "text": [
            "0\n",
            "18\n",
            "Setting up low-pass filter at 75 Hz\n",
            "\n",
            "FIR filter parameters\n",
            "---------------------\n",
            "Designing a one-pass, zero-phase, non-causal lowpass filter:\n",
            "- Windowed time-domain design (firwin) method\n",
            "- Hamming window with 0.0194 passband ripple and 53 dB stopband attenuation\n",
            "- Upper passband edge: 75.00 Hz\n",
            "- Upper transition bandwidth: 18.75 Hz (-6 dB cutoff frequency: 84.38 Hz)\n",
            "- Filter length: 37 samples (0.185 sec)\n",
            "\n"
          ]
        },
        {
          "output_type": "stream",
          "name": "stderr",
          "text": [
            "[Parallel(n_jobs=1)]: Using backend SequentialBackend with 1 concurrent workers.\n",
            "[Parallel(n_jobs=1)]: Done   1 out of   1 | elapsed:    1.3s remaining:    0.0s\n",
            "[Parallel(n_jobs=1)]: Done   2 out of   2 | elapsed:    2.6s remaining:    0.0s\n",
            "[Parallel(n_jobs=1)]: Done   3 out of   3 | elapsed:    3.9s remaining:    0.0s\n",
            "[Parallel(n_jobs=1)]: Done   4 out of   4 | elapsed:    5.2s remaining:    0.0s\n",
            "[Parallel(n_jobs=1)]: Done  17 out of  17 | elapsed:   21.5s finished\n"
          ]
        },
        {
          "output_type": "stream",
          "name": "stdout",
          "text": [
            "1\n",
            "19\n",
            "Setting up low-pass filter at 75 Hz\n",
            "\n",
            "FIR filter parameters\n",
            "---------------------\n",
            "Designing a one-pass, zero-phase, non-causal lowpass filter:\n",
            "- Windowed time-domain design (firwin) method\n",
            "- Hamming window with 0.0194 passband ripple and 53 dB stopband attenuation\n",
            "- Upper passband edge: 75.00 Hz\n",
            "- Upper transition bandwidth: 18.75 Hz (-6 dB cutoff frequency: 84.38 Hz)\n",
            "- Filter length: 37 samples (0.185 sec)\n",
            "\n"
          ]
        },
        {
          "output_type": "stream",
          "name": "stderr",
          "text": [
            "[Parallel(n_jobs=1)]: Using backend SequentialBackend with 1 concurrent workers.\n",
            "[Parallel(n_jobs=1)]: Done   1 out of   1 | elapsed:    1.4s remaining:    0.0s\n",
            "[Parallel(n_jobs=1)]: Done   2 out of   2 | elapsed:    2.7s remaining:    0.0s\n",
            "[Parallel(n_jobs=1)]: Done   3 out of   3 | elapsed:    4.0s remaining:    0.0s\n",
            "[Parallel(n_jobs=1)]: Done   4 out of   4 | elapsed:    5.4s remaining:    0.0s\n",
            "[Parallel(n_jobs=1)]: Done  17 out of  17 | elapsed:   22.5s finished\n"
          ]
        },
        {
          "output_type": "stream",
          "name": "stdout",
          "text": [
            "2\n",
            "19\n",
            "Setting up low-pass filter at 75 Hz\n",
            "\n",
            "FIR filter parameters\n",
            "---------------------\n",
            "Designing a one-pass, zero-phase, non-causal lowpass filter:\n",
            "- Windowed time-domain design (firwin) method\n",
            "- Hamming window with 0.0194 passband ripple and 53 dB stopband attenuation\n",
            "- Upper passband edge: 75.00 Hz\n",
            "- Upper transition bandwidth: 18.75 Hz (-6 dB cutoff frequency: 84.38 Hz)\n",
            "- Filter length: 37 samples (0.185 sec)\n",
            "\n"
          ]
        },
        {
          "output_type": "stream",
          "name": "stderr",
          "text": [
            "[Parallel(n_jobs=1)]: Using backend SequentialBackend with 1 concurrent workers.\n",
            "[Parallel(n_jobs=1)]: Done   1 out of   1 | elapsed:    1.7s remaining:    0.0s\n",
            "[Parallel(n_jobs=1)]: Done   2 out of   2 | elapsed:    3.3s remaining:    0.0s\n",
            "[Parallel(n_jobs=1)]: Done   3 out of   3 | elapsed:    4.8s remaining:    0.0s\n",
            "[Parallel(n_jobs=1)]: Done   4 out of   4 | elapsed:    6.4s remaining:    0.0s\n",
            "[Parallel(n_jobs=1)]: Done  17 out of  17 | elapsed:   26.2s finished\n"
          ]
        },
        {
          "output_type": "stream",
          "name": "stdout",
          "text": [
            "3\n",
            "19\n",
            "Setting up low-pass filter at 75 Hz\n",
            "\n",
            "FIR filter parameters\n",
            "---------------------\n",
            "Designing a one-pass, zero-phase, non-causal lowpass filter:\n",
            "- Windowed time-domain design (firwin) method\n",
            "- Hamming window with 0.0194 passband ripple and 53 dB stopband attenuation\n",
            "- Upper passband edge: 75.00 Hz\n",
            "- Upper transition bandwidth: 18.75 Hz (-6 dB cutoff frequency: 84.38 Hz)\n",
            "- Filter length: 37 samples (0.185 sec)\n",
            "\n"
          ]
        },
        {
          "output_type": "stream",
          "name": "stderr",
          "text": [
            "[Parallel(n_jobs=1)]: Using backend SequentialBackend with 1 concurrent workers.\n",
            "[Parallel(n_jobs=1)]: Done   1 out of   1 | elapsed:    1.4s remaining:    0.0s\n",
            "[Parallel(n_jobs=1)]: Done   2 out of   2 | elapsed:    2.7s remaining:    0.0s\n",
            "[Parallel(n_jobs=1)]: Done   3 out of   3 | elapsed:    4.1s remaining:    0.0s\n",
            "[Parallel(n_jobs=1)]: Done   4 out of   4 | elapsed:    5.6s remaining:    0.0s\n",
            "[Parallel(n_jobs=1)]: Done  17 out of  17 | elapsed:   23.3s finished\n"
          ]
        },
        {
          "output_type": "stream",
          "name": "stdout",
          "text": [
            "4\n",
            "17\n",
            "Setting up low-pass filter at 75 Hz\n",
            "\n",
            "FIR filter parameters\n",
            "---------------------\n",
            "Designing a one-pass, zero-phase, non-causal lowpass filter:\n",
            "- Windowed time-domain design (firwin) method\n",
            "- Hamming window with 0.0194 passband ripple and 53 dB stopband attenuation\n",
            "- Upper passband edge: 75.00 Hz\n",
            "- Upper transition bandwidth: 18.75 Hz (-6 dB cutoff frequency: 84.38 Hz)\n",
            "- Filter length: 37 samples (0.185 sec)\n",
            "\n"
          ]
        },
        {
          "output_type": "stream",
          "name": "stderr",
          "text": [
            "[Parallel(n_jobs=1)]: Using backend SequentialBackend with 1 concurrent workers.\n",
            "[Parallel(n_jobs=1)]: Done   1 out of   1 | elapsed:    1.6s remaining:    0.0s\n",
            "[Parallel(n_jobs=1)]: Done   2 out of   2 | elapsed:    3.1s remaining:    0.0s\n",
            "[Parallel(n_jobs=1)]: Done   3 out of   3 | elapsed:    4.6s remaining:    0.0s\n",
            "[Parallel(n_jobs=1)]: Done   4 out of   4 | elapsed:    6.0s remaining:    0.0s\n",
            "[Parallel(n_jobs=1)]: Done  17 out of  17 | elapsed:   25.9s finished\n"
          ]
        },
        {
          "output_type": "stream",
          "name": "stdout",
          "text": [
            "5\n",
            "17\n",
            "Setting up low-pass filter at 75 Hz\n",
            "\n",
            "FIR filter parameters\n",
            "---------------------\n",
            "Designing a one-pass, zero-phase, non-causal lowpass filter:\n",
            "- Windowed time-domain design (firwin) method\n",
            "- Hamming window with 0.0194 passband ripple and 53 dB stopband attenuation\n",
            "- Upper passband edge: 75.00 Hz\n",
            "- Upper transition bandwidth: 18.75 Hz (-6 dB cutoff frequency: 84.38 Hz)\n",
            "- Filter length: 37 samples (0.185 sec)\n",
            "\n"
          ]
        },
        {
          "output_type": "stream",
          "name": "stderr",
          "text": [
            "[Parallel(n_jobs=1)]: Using backend SequentialBackend with 1 concurrent workers.\n",
            "[Parallel(n_jobs=1)]: Done   1 out of   1 | elapsed:    1.4s remaining:    0.0s\n",
            "[Parallel(n_jobs=1)]: Done   2 out of   2 | elapsed:    2.8s remaining:    0.0s\n",
            "[Parallel(n_jobs=1)]: Done   3 out of   3 | elapsed:    4.2s remaining:    0.0s\n",
            "[Parallel(n_jobs=1)]: Done   4 out of   4 | elapsed:    5.6s remaining:    0.0s\n",
            "[Parallel(n_jobs=1)]: Done  17 out of  17 | elapsed:   24.1s finished\n"
          ]
        },
        {
          "output_type": "stream",
          "name": "stdout",
          "text": [
            "6\n",
            "18\n",
            "Setting up low-pass filter at 75 Hz\n",
            "\n",
            "FIR filter parameters\n",
            "---------------------\n",
            "Designing a one-pass, zero-phase, non-causal lowpass filter:\n",
            "- Windowed time-domain design (firwin) method\n",
            "- Hamming window with 0.0194 passband ripple and 53 dB stopband attenuation\n",
            "- Upper passband edge: 75.00 Hz\n",
            "- Upper transition bandwidth: 18.75 Hz (-6 dB cutoff frequency: 84.38 Hz)\n",
            "- Filter length: 37 samples (0.185 sec)\n",
            "\n"
          ]
        },
        {
          "output_type": "stream",
          "name": "stderr",
          "text": [
            "[Parallel(n_jobs=1)]: Using backend SequentialBackend with 1 concurrent workers.\n",
            "[Parallel(n_jobs=1)]: Done   1 out of   1 | elapsed:    1.4s remaining:    0.0s\n",
            "[Parallel(n_jobs=1)]: Done   2 out of   2 | elapsed:    2.8s remaining:    0.0s\n",
            "[Parallel(n_jobs=1)]: Done   3 out of   3 | elapsed:    4.1s remaining:    0.0s\n",
            "[Parallel(n_jobs=1)]: Done   4 out of   4 | elapsed:    5.4s remaining:    0.0s\n",
            "[Parallel(n_jobs=1)]: Done  17 out of  17 | elapsed:   22.7s finished\n"
          ]
        },
        {
          "output_type": "stream",
          "name": "stdout",
          "text": [
            "7\n",
            "18\n",
            "Setting up low-pass filter at 75 Hz\n",
            "\n",
            "FIR filter parameters\n",
            "---------------------\n",
            "Designing a one-pass, zero-phase, non-causal lowpass filter:\n",
            "- Windowed time-domain design (firwin) method\n",
            "- Hamming window with 0.0194 passband ripple and 53 dB stopband attenuation\n",
            "- Upper passband edge: 75.00 Hz\n",
            "- Upper transition bandwidth: 18.75 Hz (-6 dB cutoff frequency: 84.38 Hz)\n",
            "- Filter length: 37 samples (0.185 sec)\n",
            "\n"
          ]
        },
        {
          "output_type": "stream",
          "name": "stderr",
          "text": [
            "[Parallel(n_jobs=1)]: Using backend SequentialBackend with 1 concurrent workers.\n",
            "[Parallel(n_jobs=1)]: Done   1 out of   1 | elapsed:    1.6s remaining:    0.0s\n",
            "[Parallel(n_jobs=1)]: Done   2 out of   2 | elapsed:    3.0s remaining:    0.0s\n",
            "[Parallel(n_jobs=1)]: Done   3 out of   3 | elapsed:    4.3s remaining:    0.0s\n",
            "[Parallel(n_jobs=1)]: Done   4 out of   4 | elapsed:    5.7s remaining:    0.0s\n",
            "[Parallel(n_jobs=1)]: Done  17 out of  17 | elapsed:   23.6s finished\n"
          ]
        },
        {
          "output_type": "stream",
          "name": "stdout",
          "text": [
            "8\n",
            "18\n"
          ]
        }
      ]
    },
    {
      "cell_type": "code",
      "source": [
        "n"
      ],
      "metadata": {
        "colab": {
          "base_uri": "https://localhost:8080/"
        },
        "id": "POdXsn_bDI4g",
        "outputId": "662c6e6f-ca0a-4dcd-969e-f6401ea32de0"
      },
      "execution_count": 43,
      "outputs": [
        {
          "output_type": "execute_result",
          "data": {
            "text/plain": [
              "0"
            ]
          },
          "metadata": {},
          "execution_count": 43
        }
      ]
    },
    {
      "cell_type": "code",
      "source": [
        "test = glob.glob('/content/drive/MyDrive/EEG_data/MASS/SS1/Preprocessed_EEG/**')"
      ],
      "metadata": {
        "id": "3T-22wiLTvU0"
      },
      "execution_count": null,
      "outputs": []
    },
    {
      "cell_type": "code",
      "source": [
        "len(test)"
      ],
      "metadata": {
        "colab": {
          "base_uri": "https://localhost:8080/"
        },
        "id": "m9DYEua0T4Tt",
        "outputId": "f2d1dca0-4f50-4c0e-9ed7-b3d9d3800cda"
      },
      "execution_count": null,
      "outputs": [
        {
          "output_type": "execute_result",
          "data": {
            "text/plain": [
              "53"
            ]
          },
          "metadata": {},
          "execution_count": 50
        }
      ]
    },
    {
      "cell_type": "code",
      "source": [
        "sleepedf_files = glob.glob('/content/drive/MyDrive/sleep_edfx/Preprocessed_EEG/SC/SC4001E0/**')\n",
        "sleepdef_ann = []\n",
        "for i in range(len(sleepedf_files)):\n",
        "  a = np.load(sleepedf_files[i])\n",
        "  sleepdef_ann.append(a['y'])\n"
      ],
      "metadata": {
        "id": "33-XvCR46K0A"
      },
      "execution_count": 24,
      "outputs": []
    },
    {
      "cell_type": "code",
      "source": [
        "sleepdef_ann = np.array(sleepdef_ann)\n",
        "sleepdef_ann"
      ],
      "metadata": {
        "colab": {
          "base_uri": "https://localhost:8080/"
        },
        "id": "9s8mn1wC6zUr",
        "outputId": "38f697bd-f740-4728-cb94-a17a8c046223"
      },
      "execution_count": 26,
      "outputs": [
        {
          "output_type": "execute_result",
          "data": {
            "text/plain": [
              "(2650,)"
            ]
          },
          "metadata": {},
          "execution_count": 26
        }
      ]
    },
    {
      "cell_type": "code",
      "source": [
        "unique, counts = np.unique(sleepdef_ann, return_counts = True)\n",
        "uniq_cnt_dict = dict(zip(unique, counts))\n",
        "uniq_cnt_dict"
      ],
      "metadata": {
        "colab": {
          "base_uri": "https://localhost:8080/"
        },
        "id": "UMzoXenm6K2D",
        "outputId": "48ff34df-b6db-4d08-de21-71673505694f"
      },
      "execution_count": 27,
      "outputs": [
        {
          "output_type": "execute_result",
          "data": {
            "text/plain": [
              "{'1': 58, '2': 250, '3': 101, '4': 119, 'R': 125, 'W': 1997}"
            ]
          },
          "metadata": {},
          "execution_count": 27
        }
      ]
    }
  ]
}