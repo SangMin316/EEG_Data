{
  "nbformat": 4,
  "nbformat_minor": 0,
  "metadata": {
    "colab": {
      "provenance": [],
      "collapsed_sections": []
    },
    "kernelspec": {
      "name": "python3",
      "display_name": "Python 3"
    },
    "language_info": {
      "name": "python"
    }
  },
  "cells": [
    {
      "cell_type": "markdown",
      "source": [
        "We preprocess Sleep EDF files\n",
        "\n",
        "we resample data to 200Hz, apply band pass filter 0 ~ 75Hz, (same seed dataset)"
      ],
      "metadata": {
        "id": "WdKJu9r3Xpb_"
      }
    },
    {
      "cell_type": "code",
      "source": [
        "!pip install pyedflib"
      ],
      "metadata": {
        "colab": {
          "base_uri": "https://localhost:8080/"
        },
        "id": "jfx7PGUEMbbT",
        "outputId": "e03e93c0-fad6-4f2e-d9d7-c2a8be57682d"
      },
      "execution_count": null,
      "outputs": [
        {
          "output_type": "stream",
          "name": "stdout",
          "text": [
            "Looking in indexes: https://pypi.org/simple, https://us-python.pkg.dev/colab-wheels/public/simple/\n",
            "Requirement already satisfied: pyedflib in /usr/local/lib/python3.7/dist-packages (0.1.30)\n",
            "Requirement already satisfied: numpy>=1.9.1 in /usr/local/lib/python3.7/dist-packages (from pyedflib) (1.21.6)\n"
          ]
        }
      ]
    },
    {
      "cell_type": "code",
      "execution_count": null,
      "metadata": {
        "colab": {
          "base_uri": "https://localhost:8080/"
        },
        "id": "x78DWReOL45b",
        "outputId": "310ac4f8-d28f-4260-f7dd-71390a8542b6"
      },
      "outputs": [
        {
          "output_type": "stream",
          "name": "stdout",
          "text": [
            "number of cattette files 306\n",
            "number of telemetry files 88\n"
          ]
        }
      ],
      "source": [
        "from pyedflib import highlevel\n",
        "import numpy as np\n",
        "import glob\n",
        "\n",
        "path1 = '/content/drive/MyDrive/sleep_edfx/data/sleep-cassette'\n",
        "path2 = '/content/drive/MyDrive/sleep_edfx/data/sleep-telemetry'\n",
        "data_list_cassette = sorted(glob.glob(path1+'/**'))\n",
        "data_list_telemetry = sorted(glob.glob(path2+'/**')) \n",
        "\n",
        "print('number of cattette files',len(data_list_cassette))\n",
        "print('number of telemetry files',len(data_list_telemetry))"
      ]
    },
    {
      "cell_type": "code",
      "source": [
        "#First, investigate cassette files.\n",
        "trains_SC = [x for x in data_list_cassette if x.endswith('PSG.edf')]\n",
        "labels_SC= [x for x in data_list_cassette if x.endswith('Hypnogram.edf')]\n",
        "\n",
        "trains_ST = [x for x in data_list_telemetry if x.endswith('PSG.edf')]\n",
        "labels_ST= [x for x in data_list_telemetry if x.endswith('Hypnogram.edf')]\n",
        "\n",
        "print('number of SC_train samples:',len(trains_SC))\n",
        "print('number of SC_labels:',len(labels_SC))\n",
        "print('number of ST_train samples:',len(trains_ST))\n",
        "print('number of ST_labels:',len(labels_ST))"
      ],
      "metadata": {
        "colab": {
          "base_uri": "https://localhost:8080/"
        },
        "id": "9fyQxTgRMr-v",
        "outputId": "91ec2044-2d9e-4bca-ad17-196ebbc2c5d1"
      },
      "execution_count": null,
      "outputs": [
        {
          "output_type": "stream",
          "name": "stdout",
          "text": [
            "number of SC_train samples: 153\n",
            "number of SC_labels: 153\n",
            "number of ST_train samples: 44\n",
            "number of ST_labels: 44\n"
          ]
        }
      ]
    },
    {
      "cell_type": "code",
      "source": [
        "for i in range(len(trains_SC)):\n",
        "    print(trains_SC[i].split('/')[-1].split('-')[0])\n",
        "    print(labels_SC[i].split('/')[-1].split('-')[0])\n",
        "    print('-----')\n",
        "    if i > 4:\n",
        "      break\n",
        "print('...')"
      ],
      "metadata": {
        "colab": {
          "base_uri": "https://localhost:8080/"
        },
        "id": "LpnqAqcOM61N",
        "outputId": "edf4d3aa-328d-4739-fb5d-3b691149cf8c"
      },
      "execution_count": null,
      "outputs": [
        {
          "output_type": "stream",
          "name": "stdout",
          "text": [
            "SC4001E0\n",
            "SC4001EC\n",
            "-----\n",
            "SC4002E0\n",
            "SC4002EC\n",
            "-----\n",
            "SC4011E0\n",
            "SC4011EH\n",
            "-----\n",
            "SC4012E0\n",
            "SC4012EC\n",
            "-----\n",
            "SC4021E0\n",
            "SC4021EH\n",
            "-----\n",
            "SC4022E0\n",
            "SC4022EJ\n",
            "-----\n",
            "...\n"
          ]
        }
      ]
    },
    {
      "cell_type": "code",
      "source": [
        "!pip install mne"
      ],
      "metadata": {
        "colab": {
          "base_uri": "https://localhost:8080/"
        },
        "id": "SPbs-NSqNSkI",
        "outputId": "fe2908fa-8ffc-4309-b6ef-78105ac1934c"
      },
      "execution_count": null,
      "outputs": [
        {
          "output_type": "stream",
          "name": "stdout",
          "text": [
            "Looking in indexes: https://pypi.org/simple, https://us-python.pkg.dev/colab-wheels/public/simple/\n",
            "Requirement already satisfied: mne in /usr/local/lib/python3.7/dist-packages (1.1.1)\n",
            "Requirement already satisfied: numpy>=1.15.4 in /usr/local/lib/python3.7/dist-packages (from mne) (1.21.6)\n",
            "Requirement already satisfied: scipy>=1.1.0 in /usr/local/lib/python3.7/dist-packages (from mne) (1.7.3)\n",
            "Requirement already satisfied: matplotlib in /usr/local/lib/python3.7/dist-packages (from mne) (3.2.2)\n",
            "Requirement already satisfied: jinja2 in /usr/local/lib/python3.7/dist-packages (from mne) (2.11.3)\n",
            "Requirement already satisfied: packaging in /usr/local/lib/python3.7/dist-packages (from mne) (21.3)\n",
            "Requirement already satisfied: decorator in /usr/local/lib/python3.7/dist-packages (from mne) (4.4.2)\n",
            "Requirement already satisfied: tqdm in /usr/local/lib/python3.7/dist-packages (from mne) (4.64.1)\n",
            "Requirement already satisfied: pooch>=1.5 in /usr/local/lib/python3.7/dist-packages (from mne) (1.6.0)\n",
            "Requirement already satisfied: requests>=2.19.0 in /usr/local/lib/python3.7/dist-packages (from pooch>=1.5->mne) (2.23.0)\n",
            "Requirement already satisfied: appdirs>=1.3.0 in /usr/local/lib/python3.7/dist-packages (from pooch>=1.5->mne) (1.4.4)\n",
            "Requirement already satisfied: pyparsing!=3.0.5,>=2.0.2 in /usr/local/lib/python3.7/dist-packages (from packaging->mne) (3.0.9)\n",
            "Requirement already satisfied: chardet<4,>=3.0.2 in /usr/local/lib/python3.7/dist-packages (from requests>=2.19.0->pooch>=1.5->mne) (3.0.4)\n",
            "Requirement already satisfied: urllib3!=1.25.0,!=1.25.1,<1.26,>=1.21.1 in /usr/local/lib/python3.7/dist-packages (from requests>=2.19.0->pooch>=1.5->mne) (1.24.3)\n",
            "Requirement already satisfied: certifi>=2017.4.17 in /usr/local/lib/python3.7/dist-packages (from requests>=2.19.0->pooch>=1.5->mne) (2022.9.24)\n",
            "Requirement already satisfied: idna<3,>=2.5 in /usr/local/lib/python3.7/dist-packages (from requests>=2.19.0->pooch>=1.5->mne) (2.10)\n",
            "Requirement already satisfied: MarkupSafe>=0.23 in /usr/local/lib/python3.7/dist-packages (from jinja2->mne) (2.0.1)\n",
            "Requirement already satisfied: python-dateutil>=2.1 in /usr/local/lib/python3.7/dist-packages (from matplotlib->mne) (2.8.2)\n",
            "Requirement already satisfied: kiwisolver>=1.0.1 in /usr/local/lib/python3.7/dist-packages (from matplotlib->mne) (1.4.4)\n",
            "Requirement already satisfied: cycler>=0.10 in /usr/local/lib/python3.7/dist-packages (from matplotlib->mne) (0.11.0)\n",
            "Requirement already satisfied: typing-extensions in /usr/local/lib/python3.7/dist-packages (from kiwisolver>=1.0.1->matplotlib->mne) (4.1.1)\n",
            "Requirement already satisfied: six>=1.5 in /usr/local/lib/python3.7/dist-packages (from python-dateutil>=2.1->matplotlib->mne) (1.15.0)\n"
          ]
        }
      ]
    },
    {
      "cell_type": "code",
      "source": [
        "import mne"
      ],
      "metadata": {
        "id": "aMID6bZ-YA0U"
      },
      "execution_count": null,
      "outputs": []
    },
    {
      "cell_type": "code",
      "source": [
        "import mne\n",
        "data = mne.io.read_raw_edf(trains_SC[0])\n",
        "X = data.get_data()"
      ],
      "metadata": {
        "colab": {
          "base_uri": "https://localhost:8080/"
        },
        "id": "VBVuP6-jNPD8",
        "outputId": "60071f12-7ca6-4392-af11-2876153476ce"
      },
      "execution_count": null,
      "outputs": [
        {
          "output_type": "stream",
          "name": "stdout",
          "text": [
            "Extracting EDF parameters from /content/drive/MyDrive/sleep_edfx/data/sleep-cassette/SC4001E0-PSG.edf...\n",
            "EDF file detected\n",
            "Setting channel info structure...\n",
            "Creating raw.info structure...\n"
          ]
        }
      ]
    },
    {
      "cell_type": "code",
      "source": [
        "X.shape # EEG signal"
      ],
      "metadata": {
        "colab": {
          "base_uri": "https://localhost:8080/"
        },
        "id": "ISb2xBxyNZSI",
        "outputId": "001e21a9-59e2-47a7-8fd2-796576d56a69"
      },
      "execution_count": null,
      "outputs": [
        {
          "output_type": "execute_result",
          "data": {
            "text/plain": [
              "(7, 7950000)"
            ]
          },
          "metadata": {},
          "execution_count": 7
        }
      ]
    },
    {
      "cell_type": "code",
      "source": [
        "ann = mne.read_annotations(labels_SC[2])\n",
        "print(ann.duration)\n",
        "print('------')\n",
        "print(ann.description)"
      ],
      "metadata": {
        "colab": {
          "base_uri": "https://localhost:8080/"
        },
        "id": "WAEcQhAuNZUL",
        "outputId": "610e1d30-2ca8-4a1f-c1c3-edae5a0e4370"
      },
      "execution_count": null,
      "outputs": [
        {
          "output_type": "stream",
          "name": "stdout",
          "text": [
            "[2.154e+04 3.600e+02 6.000e+01 6.000e+01 1.800e+02 5.100e+02 3.000e+01\n",
            " 1.500e+02 1.800e+02 2.100e+02 6.000e+01 1.800e+02 3.600e+02 3.000e+01\n",
            " 1.200e+02 6.900e+02 3.000e+01 3.600e+02 3.000e+01 1.200e+02 3.000e+01\n",
            " 9.000e+01 6.000e+01 6.000e+01 3.000e+01 1.200e+02 3.000e+01 3.000e+01\n",
            " 9.000e+01 2.700e+02 9.000e+01 6.900e+02 1.200e+02 2.100e+02 2.100e+02\n",
            " 3.000e+01 9.000e+01 3.000e+02 3.000e+01 8.700e+02 1.650e+03 1.110e+03\n",
            " 3.000e+01 3.000e+01 9.000e+01 3.000e+01 5.700e+02 3.000e+01 9.000e+01\n",
            " 3.000e+01 7.800e+02 3.000e+01 1.050e+03 3.000e+01 1.380e+03 3.000e+01\n",
            " 6.000e+01 9.000e+01 1.200e+02 2.100e+02 3.900e+02 9.000e+01 6.000e+01\n",
            " 9.000e+01 3.000e+01 3.000e+01 6.000e+01 1.200e+02 1.200e+02 7.500e+02\n",
            " 6.000e+01 6.000e+02 1.170e+03 1.320e+03 6.000e+01 1.200e+02 3.000e+01\n",
            " 3.000e+01 9.000e+01 6.000e+01 6.000e+01 1.200e+02 6.000e+01 6.000e+01\n",
            " 3.000e+01 3.000e+01 3.000e+01 6.000e+01 1.800e+02 3.000e+01 6.000e+01\n",
            " 3.000e+01 1.230e+03 6.000e+01 3.300e+02 6.000e+01 3.000e+02 6.000e+01\n",
            " 1.200e+02 9.000e+01 1.800e+02 3.000e+01 2.700e+02 3.000e+01 3.000e+01\n",
            " 2.400e+02 2.100e+02 6.000e+01 1.080e+03 3.000e+01 9.000e+01 6.000e+01\n",
            " 6.000e+01 6.900e+02 6.000e+01 2.400e+02 6.000e+01 1.020e+03 6.000e+01\n",
            " 3.000e+01 1.170e+03 3.900e+02 3.000e+01 4.800e+02 3.303e+04 2.340e+03]\n",
            "------\n",
            "['Sleep stage W' 'Sleep stage 1' 'Sleep stage 2' 'Sleep stage 1'\n",
            " 'Sleep stage 2' 'Sleep stage 1' 'Sleep stage W' 'Sleep stage 1'\n",
            " 'Sleep stage 2' 'Sleep stage 1' 'Sleep stage W' 'Sleep stage 1'\n",
            " 'Sleep stage 2' 'Sleep stage 3' 'Sleep stage 2' 'Sleep stage 3'\n",
            " 'Sleep stage 2' 'Sleep stage 3' 'Sleep stage 4' 'Sleep stage 3'\n",
            " 'Sleep stage 4' 'Sleep stage 3' 'Sleep stage 4' 'Sleep stage 3'\n",
            " 'Sleep stage 4' 'Sleep stage 3' 'Sleep stage 4' 'Sleep stage 3'\n",
            " 'Sleep stage 2' 'Sleep stage W' 'Sleep stage 1' 'Sleep stage 2'\n",
            " 'Sleep stage W' 'Sleep stage 1' 'Sleep stage 2' 'Sleep stage W'\n",
            " 'Sleep stage 1' 'Sleep stage 2' 'Sleep stage 1' 'Sleep stage 2'\n",
            " 'Sleep stage R' 'Sleep stage 2' 'Sleep stage 3' 'Sleep stage 2'\n",
            " 'Sleep stage 3' 'Sleep stage 2' 'Sleep stage 3' 'Sleep stage 4'\n",
            " 'Sleep stage 3' 'Sleep stage 4' 'Sleep stage 2' 'Sleep stage 1'\n",
            " 'Sleep stage 2' 'Sleep stage 1' 'Sleep stage 2' 'Sleep stage 1'\n",
            " 'Sleep stage W' 'Sleep stage 1' 'Sleep stage W' 'Sleep stage 1'\n",
            " 'Sleep stage 2' 'Sleep stage W' 'Sleep stage 1' 'Sleep stage W'\n",
            " 'Sleep stage 1' 'Sleep stage W' 'Sleep stage 1' 'Sleep stage W'\n",
            " 'Sleep stage 1' 'Sleep stage 2' 'Sleep stage 1' 'Sleep stage 2'\n",
            " 'Sleep stage R' 'Sleep stage 2' 'Sleep stage 3' 'Sleep stage 2'\n",
            " 'Sleep stage 3' 'Sleep stage 2' 'Sleep stage 3' 'Sleep stage 2'\n",
            " 'Sleep stage 3' 'Sleep stage 2' 'Sleep stage 3' 'Sleep stage 2'\n",
            " 'Sleep stage 3' 'Sleep stage 2' 'Sleep stage 3' 'Sleep stage 2'\n",
            " 'Sleep stage 3' 'Sleep stage 4' 'Sleep stage 3' 'Sleep stage 1'\n",
            " 'Sleep stage 2' 'Sleep stage 1' 'Sleep stage 2' 'Sleep stage 1'\n",
            " 'Sleep stage 2' 'Sleep stage 1' 'Sleep stage 2' 'Sleep stage 1'\n",
            " 'Sleep stage 2' 'Sleep stage R' 'Sleep stage 2' 'Sleep stage W'\n",
            " 'Sleep stage 1' 'Sleep stage 2' 'Sleep stage R' 'Sleep stage 1'\n",
            " 'Sleep stage R' 'Sleep stage 1' 'Sleep stage R' 'Sleep stage 2'\n",
            " 'Sleep stage 1' 'Sleep stage 2' 'Sleep stage 1' 'Sleep stage 2'\n",
            " 'Sleep stage 1' 'Sleep stage 2' 'Sleep stage W' 'Sleep stage 1'\n",
            " 'Sleep stage 2' 'Sleep stage R' 'Sleep stage 1' 'Sleep stage R'\n",
            " 'Sleep stage W' 'Sleep stage ?']\n"
          ]
        }
      ]
    },
    {
      "cell_type": "code",
      "source": [
        "labels = []\n",
        "for dur, des in zip(ann.duration, ann.description):\n",
        "    for i in range(int(dur) // 30):\n",
        "        labels.append(des[-1])"
      ],
      "metadata": {
        "id": "QmqSl-_oNZWh"
      },
      "execution_count": null,
      "outputs": []
    },
    {
      "cell_type": "code",
      "source": [
        "sum(ann.duration)*100"
      ],
      "metadata": {
        "colab": {
          "base_uri": "https://localhost:8080/"
        },
        "id": "nawZ35FfN7VD",
        "outputId": "18d0d2d9-ed99-4819-bc62-126c028e83ce"
      },
      "execution_count": null,
      "outputs": [
        {
          "output_type": "execute_result",
          "data": {
            "text/plain": [
              "8640000.0"
            ]
          },
          "metadata": {},
          "execution_count": 10
        }
      ]
    },
    {
      "cell_type": "code",
      "source": [
        "print(len(labels))\n",
        "print(8406000//(100*30))"
      ],
      "metadata": {
        "colab": {
          "base_uri": "https://localhost:8080/"
        },
        "id": "DmlnvL_8OIKK",
        "outputId": "07168395-825e-4fc2-ed76-1ce7bf2b71ac"
      },
      "execution_count": null,
      "outputs": [
        {
          "output_type": "stream",
          "name": "stdout",
          "text": [
            "2880\n",
            "2802\n"
          ]
        }
      ]
    },
    {
      "cell_type": "markdown",
      "source": [
        "label수랑, 신호의 갯수가 맞지 않음,, 신호 마지막에 'Sleep stage ?'에 비정상적으로 긴 label이 있는데, \n",
        "\n",
        "이 부분을 삭제, 및 신호의 시작과 label의 시작을 맞춤\n",
        "\n",
        "Self-supervised Electroencephalogram Representation Learning for Automatic Sleep Staging 참고\n",
        "\n",
        "https://arxiv.org/ftp/arxiv/papers/2110/2110.15278.pdf\n"
      ],
      "metadata": {
        "id": "-z6o6whH3xSt"
      }
    },
    {
      "cell_type": "code",
      "source": [
        "for slice_index in range(X.shape[1] // (100 * 30)):\n",
        "    # ingore the no labels\n",
        "    if labels[slice_index] == '?':\n",
        "        continue\n",
        "    print(X[:, slice_index * 100 * 30: (slice_index+1) * 100 * 30].shape)\n",
        "    print(labels[slice_index])\n",
        "    if slice_index >= 10:\n",
        "        break"
      ],
      "metadata": {
        "colab": {
          "base_uri": "https://localhost:8080/"
        },
        "id": "g0ch2Cdn3vRg",
        "outputId": "2ffce3ec-886e-4915-fd34-e13c61055079"
      },
      "execution_count": null,
      "outputs": [
        {
          "output_type": "stream",
          "name": "stdout",
          "text": [
            "(7, 3000)\n",
            "W\n",
            "(7, 3000)\n",
            "W\n",
            "(7, 3000)\n",
            "W\n",
            "(7, 3000)\n",
            "W\n",
            "(7, 3000)\n",
            "W\n",
            "(7, 3000)\n",
            "W\n",
            "(7, 3000)\n",
            "W\n",
            "(7, 3000)\n",
            "W\n",
            "(7, 3000)\n",
            "W\n",
            "(7, 3000)\n",
            "W\n",
            "(7, 3000)\n",
            "W\n"
          ]
        }
      ]
    },
    {
      "cell_type": "markdown",
      "source": [
        "annotaion과 그에 해당하는 신호들을 추출 가능!\n",
        "\n",
        "------"
      ],
      "metadata": {
        "id": "QFlnDwrc-Yad"
      }
    },
    {
      "cell_type": "markdown",
      "source": [
        "다양한 dataset을 가지고 SSL을 하고자 하는데, sampling rate를 200Hz로 통일 하고자 함. sampling rate가 200Hz가 정답이 아님. \n",
        "\n",
        "데이터를 불러올때 마다 원하는 sampling rate로 불러 올 수 있는데(mne.fikter.resample()), 이 과정이 오래걸려서 애초에 200Hz로 저장하려고 함.\n",
        "\n",
        "band pass filtter [0 ~ 75Hz] 적용"
      ],
      "metadata": {
        "id": "SkODj79G-h4R"
      }
    },
    {
      "cell_type": "code",
      "source": [
        "X = data.get_data()[:2,:]\n",
        "X1 = mne.filter.resample(X, up = 2.0) # upsampling to 200Hz  \n",
        "print(X.shape)\n",
        "print(X1.shape[1]/2)"
      ],
      "metadata": {
        "colab": {
          "base_uri": "https://localhost:8080/"
        },
        "id": "B1CrIMfEOIMa",
        "outputId": "dd41bafa-c669-45bf-8400-4d58f505357e"
      },
      "execution_count": null,
      "outputs": [
        {
          "output_type": "stream",
          "name": "stdout",
          "text": [
            "(2, 7950000)\n",
            "7950000.0\n"
          ]
        }
      ]
    },
    {
      "cell_type": "code",
      "source": [
        "X1 = mne.filter.filter_data(X1, sfreq = 200, l_freq=0., h_freq=75.)"
      ],
      "metadata": {
        "colab": {
          "base_uri": "https://localhost:8080/"
        },
        "id": "ChoK39e8-2JL",
        "outputId": "2776e026-f4d2-4f4b-998f-12fad7728512"
      },
      "execution_count": null,
      "outputs": [
        {
          "output_type": "stream",
          "name": "stdout",
          "text": [
            "Setting up low-pass filter at 75 Hz\n",
            "\n",
            "FIR filter parameters\n",
            "---------------------\n",
            "Designing a one-pass, zero-phase, non-causal lowpass filter:\n",
            "- Windowed time-domain design (firwin) method\n",
            "- Hamming window with 0.0194 passband ripple and 53 dB stopband attenuation\n",
            "- Upper passband edge: 75.00 Hz\n",
            "- Upper transition bandwidth: 18.75 Hz (-6 dB cutoff frequency: 84.38 Hz)\n",
            "- Filter length: 37 samples (0.185 sec)\n",
            "\n"
          ]
        },
        {
          "output_type": "stream",
          "name": "stderr",
          "text": [
            "[Parallel(n_jobs=1)]: Using backend SequentialBackend with 1 concurrent workers.\n",
            "[Parallel(n_jobs=1)]: Done   1 out of   1 | elapsed:    7.6s remaining:    0.0s\n",
            "[Parallel(n_jobs=1)]: Done   2 out of   2 | elapsed:   14.6s remaining:    0.0s\n",
            "[Parallel(n_jobs=1)]: Done   2 out of   2 | elapsed:   14.6s finished\n"
          ]
        }
      ]
    },
    {
      "cell_type": "code",
      "source": [
        "import matplotlib.pyplot as plt\n",
        "x = np.linspace(0,10000,10000)\n",
        "x1 = np.linspace(0,20000,20000)\n",
        "\n",
        "plt.figure(figsize =(20, 10))\n",
        "\n",
        "\n",
        "for i in range(4):\n",
        "  \n",
        "  y = X[0,i*10000:(1+i)*10000]\n",
        "  plt.subplot(4, 2, 2*i+1)\n",
        "  plt.plot(x,y)\n",
        "\n",
        "  plt.title('Original signal')\n",
        "  plt.xlabel('Time(1/200s)')\n",
        "  plt.ylabel('Signal(uV)')\n",
        "  \n",
        "  y1 = X1[0,i*20000:(1+i)*20000]\n",
        "  plt.subplot(4, 2, 2*(i+1))\n",
        "  plt.plot(x1,y1)\n",
        "  \n",
        "\n",
        "  plt.title('Preprocessed signal')\n",
        "  plt.xlabel('Time(1/200s)')\n",
        "  plt.ylabel('Signal(uV)')\n",
        "  \n",
        "# plt.show()"
      ],
      "metadata": {
        "colab": {
          "base_uri": "https://localhost:8080/",
          "height": 530
        },
        "id": "_W9Ko6Oi_-aQ",
        "outputId": "0b729193-b447-4463-bbf8-74c0950e1045"
      },
      "execution_count": null,
      "outputs": [
        {
          "output_type": "display_data",
          "data": {
            "text/plain": [
              "<Figure size 1440x720 with 8 Axes>"
            ],
            "image/png": "[encoded data removed]"
          },
          "metadata": {
            "needs_background": "light"
          }
        }
      ]
    },
    {
      "cell_type": "code",
      "source": [
        "import os\n",
        "import pickle\n",
        "\n",
        "for i in range(len(trains_SC)):\n",
        "    print(i)\n",
        "    subjetc_id = trains_SC[i].split('/')[-1].split('-')[0]\n",
        "    adress = '/content/drive/MyDrive/sleep_edfx/Preprocessed_EEG/SC'\n",
        "\n",
        "    # folder dosen't exist, make folder\n",
        "    if not os.path.exists(adress+'/{}'.format(subjetc_id)):\n",
        "        os.makedirs(adress +'/{}'.format(subjetc_id))\n",
        "    # folder exists, pass\n",
        "    elif os.path.exists(adress+'/{}'.format(subjetc_id)):\n",
        "        continue  \n",
        "    \n",
        "    data_adress = adress +'/{}'.format(subjetc_id)\n",
        "    # load signal and upsampling\n",
        "    data = mne.io.read_raw_edf(trains_SC[i])\n",
        "    data = data.get_data()[:2,:]\n",
        "    data = mne.filter.resample(data, up = 2.0) # upsampling to 200Hz  \n",
        "    data = mne.filter.filter_data(data, sfreq = 200, l_freq=0., h_freq=75.)\n",
        "    \n",
        "    # load annotaion\n",
        "    ann = mne.read_annotations(labels_SC[i])\n",
        "    labels = []\n",
        "    for dur, des in zip(ann.duration, ann.description):\n",
        "        for i in range(int(dur) // 30):\n",
        "            labels.append(des[-1])\n",
        "\n",
        "    for slice_index in range(data.shape[1] // (200 * 30)): # 200Hz, 30epochs\n",
        "    # ingore the no labels\n",
        "        if labels[slice_index] == '?':\n",
        "            continue\n",
        "            \n",
        "        data_path = data_adress +'/'+ str(subjetc_id) + '_' + str(slice_index) + '.npz'\n",
        "        X = data[:, slice_index * 200 * 30: (slice_index+1) * 200 * 30]\n",
        "        Y = labels[slice_index]\n",
        "        np.savez(data_path, x = X, y = Y)\n",
        "        "
      ],
      "metadata": {
        "colab": {
          "base_uri": "https://localhost:8080/"
        },
        "id": "A7RtSMCkOIQ7",
        "outputId": "b93746f2-f63d-469f-aade-babc3539a79d"
      },
      "execution_count": null,
      "outputs": [
        {
          "output_type": "stream",
          "name": "stdout",
          "text": [
            "0\n",
            "1\n",
            "2\n",
            "3\n",
            "4\n",
            "5\n",
            "6\n",
            "7\n",
            "8\n",
            "9\n",
            "10\n",
            "11\n",
            "12\n",
            "13\n",
            "14\n",
            "15\n",
            "16\n",
            "17\n",
            "18\n",
            "19\n",
            "20\n",
            "21\n",
            "22\n",
            "23\n",
            "24\n",
            "25\n",
            "26\n",
            "27\n",
            "28\n",
            "29\n",
            "30\n",
            "31\n",
            "32\n",
            "33\n",
            "34\n",
            "35\n",
            "36\n",
            "37\n",
            "38\n",
            "39\n",
            "40\n",
            "41\n",
            "42\n",
            "43\n",
            "44\n",
            "45\n",
            "46\n",
            "47\n",
            "48\n",
            "49\n",
            "50\n",
            "51\n",
            "52\n",
            "53\n",
            "54\n",
            "55\n",
            "56\n",
            "57\n",
            "58\n",
            "59\n",
            "60\n",
            "61\n",
            "62\n",
            "63\n",
            "64\n",
            "65\n",
            "66\n",
            "67\n",
            "68\n",
            "69\n",
            "70\n",
            "71\n",
            "72\n",
            "73\n",
            "74\n",
            "75\n",
            "76\n",
            "77\n",
            "78\n",
            "79\n",
            "80\n",
            "81\n",
            "82\n",
            "83\n",
            "84\n",
            "85\n",
            "86\n",
            "87\n",
            "88\n",
            "89\n",
            "90\n",
            "91\n",
            "92\n",
            "93\n",
            "94\n",
            "95\n",
            "96\n",
            "97\n",
            "98\n",
            "99\n",
            "100\n",
            "101\n",
            "102\n",
            "103\n",
            "104\n",
            "105\n",
            "106\n",
            "107\n",
            "108\n",
            "109\n",
            "110\n",
            "111\n",
            "112\n",
            "113\n",
            "114\n",
            "115\n",
            "116\n",
            "117\n",
            "118\n",
            "119\n",
            "120\n",
            "121\n",
            "122\n",
            "123\n",
            "124\n",
            "125\n",
            "126\n",
            "127\n",
            "128\n",
            "129\n",
            "130\n",
            "131\n",
            "132\n",
            "133\n",
            "134\n",
            "135\n",
            "136\n",
            "137\n",
            "138\n",
            "139\n",
            "140\n",
            "141\n",
            "142\n",
            "143\n",
            "144\n",
            "145\n",
            "146\n",
            "147\n",
            "148\n",
            "149\n",
            "150\n",
            "151\n",
            "152\n"
          ]
        }
      ]
    },
    {
      "cell_type": "code",
      "source": [],
      "metadata": {
        "id": "sFhTjGEfnsdh"
      },
      "execution_count": null,
      "outputs": []
    },
    {
      "cell_type": "code",
      "source": [],
      "metadata": {
        "id": "1i21HwhxnuDo"
      },
      "execution_count": null,
      "outputs": []
    },
    {
      "cell_type": "code",
      "source": [],
      "metadata": {
        "id": "O7LRpzvInuGI"
      },
      "execution_count": null,
      "outputs": []
    },
    {
      "cell_type": "code",
      "source": [],
      "metadata": {
        "id": "n7kvDUNTnuIa"
      },
      "execution_count": null,
      "outputs": []
    },
    {
      "cell_type": "code",
      "source": [
        "for i in range(len(trains_ST)):\n",
        "    print(i)\n",
        "    subjetc_id = trains_ST[i].split('/')[-1].split('-')[0]\n",
        "    \n",
        "\n",
        "    adress = '/content/drive/MyDrive/sleep_edfx/Preprocessed_EEG/ST'\n",
        "    if not os.path.exists(adress+'/{}'.format(subjetc_id)):\n",
        "        os.makedirs(adress +'/{}'.format(subjetc_id))\n",
        "    \n",
        "    data_adress = adress +'/{}'.format(subjetc_id)\n",
        "\n",
        "    # load signal and upsampling\n",
        "    data = mne.io.read_raw_edf(trains_ST[i])\n",
        "    data = data.get_data()[:2,:]\n",
        "    data = mne.filter.resample(data, up = 2.0) # upsampling to 200Hz  \n",
        "    data = mne.filter.filter_data(data, sfreq = 200, l_freq=0., h_freq=75.)\n",
        "\n",
        "    # load annotaion\n",
        "    ann = mne.read_annotations(labels_ST[i])\n",
        "    labels = []\n",
        "    for dur, des in zip(ann.duration, ann.description):\n",
        "        for i in range(int(dur) // 30):\n",
        "            labels.append(des[-1])\n",
        "    \n",
        "    for slice_index in range(len(labels)): # 200Hz, 30epochs\n",
        "    # ingore the no labels\n",
        "        if labels[slice_index] == '?':\n",
        "            continue\n",
        "            \n",
        "        data_path = data_adress +'/'+ str(subjetc_id) + '_' + str(slice_index) + '.npz'\n",
        "        X = data[:, slice_index * 200 * 30: (slice_index+1) * 200 * 30]\n",
        "        Y = labels[slice_index]\n",
        "        np.savez(data_path, x = X, y = Y)\n",
        "        \n",
        "        "
      ],
      "metadata": {
        "colab": {
          "base_uri": "https://localhost:8080/"
        },
        "id": "zK6gyc-3N32z",
        "outputId": "42cc0257-cabe-43ba-e649-4f25a8e4d1a4"
      },
      "execution_count": null,
      "outputs": [
        {
          "output_type": "stream",
          "name": "stdout",
          "text": [
            "0\n",
            "Extracting EDF parameters from /content/drive/MyDrive/sleep_edfx/data/sleep-telemetry/ST7011J0-PSG.edf...\n",
            "EDF file detected\n",
            "Setting channel info structure...\n",
            "Creating raw.info structure...\n",
            "Setting up low-pass filter at 75 Hz\n",
            "\n",
            "FIR filter parameters\n",
            "---------------------\n",
            "Designing a one-pass, zero-phase, non-causal lowpass filter:\n",
            "- Windowed time-domain design (firwin) method\n",
            "- Hamming window with 0.0194 passband ripple and 53 dB stopband attenuation\n",
            "- Upper passband edge: 75.00 Hz\n",
            "- Upper transition bandwidth: 18.75 Hz (-6 dB cutoff frequency: 84.38 Hz)\n",
            "- Filter length: 37 samples (0.185 sec)\n",
            "\n"
          ]
        },
        {
          "output_type": "stream",
          "name": "stderr",
          "text": [
            "[Parallel(n_jobs=1)]: Using backend SequentialBackend with 1 concurrent workers.\n",
            "[Parallel(n_jobs=1)]: Done   1 out of   1 | elapsed:    1.9s remaining:    0.0s\n",
            "[Parallel(n_jobs=1)]: Done   2 out of   2 | elapsed:    3.8s remaining:    0.0s\n",
            "[Parallel(n_jobs=1)]: Done   2 out of   2 | elapsed:    3.8s finished\n"
          ]
        },
        {
          "output_type": "stream",
          "name": "stdout",
          "text": [
            "1\n",
            "Extracting EDF parameters from /content/drive/MyDrive/sleep_edfx/data/sleep-telemetry/ST7012J0-PSG.edf...\n",
            "EDF file detected\n",
            "Setting channel info structure...\n",
            "Creating raw.info structure...\n",
            "Setting up low-pass filter at 75 Hz\n",
            "\n",
            "FIR filter parameters\n",
            "---------------------\n",
            "Designing a one-pass, zero-phase, non-causal lowpass filter:\n",
            "- Windowed time-domain design (firwin) method\n",
            "- Hamming window with 0.0194 passband ripple and 53 dB stopband attenuation\n",
            "- Upper passband edge: 75.00 Hz\n",
            "- Upper transition bandwidth: 18.75 Hz (-6 dB cutoff frequency: 84.38 Hz)\n",
            "- Filter length: 37 samples (0.185 sec)\n",
            "\n"
          ]
        },
        {
          "output_type": "stream",
          "name": "stderr",
          "text": [
            "[Parallel(n_jobs=1)]: Using backend SequentialBackend with 1 concurrent workers.\n",
            "[Parallel(n_jobs=1)]: Done   1 out of   1 | elapsed:    1.7s remaining:    0.0s\n",
            "[Parallel(n_jobs=1)]: Done   2 out of   2 | elapsed:    3.4s remaining:    0.0s\n",
            "[Parallel(n_jobs=1)]: Done   2 out of   2 | elapsed:    3.4s finished\n"
          ]
        },
        {
          "output_type": "stream",
          "name": "stdout",
          "text": [
            "2\n",
            "Extracting EDF parameters from /content/drive/MyDrive/sleep_edfx/data/sleep-telemetry/ST7021J0-PSG.edf...\n",
            "EDF file detected\n",
            "Setting channel info structure...\n",
            "Creating raw.info structure...\n",
            "Setting up low-pass filter at 75 Hz\n",
            "\n",
            "FIR filter parameters\n",
            "---------------------\n",
            "Designing a one-pass, zero-phase, non-causal lowpass filter:\n",
            "- Windowed time-domain design (firwin) method\n",
            "- Hamming window with 0.0194 passband ripple and 53 dB stopband attenuation\n",
            "- Upper passband edge: 75.00 Hz\n",
            "- Upper transition bandwidth: 18.75 Hz (-6 dB cutoff frequency: 84.38 Hz)\n",
            "- Filter length: 37 samples (0.185 sec)\n",
            "\n"
          ]
        },
        {
          "output_type": "stream",
          "name": "stderr",
          "text": [
            "[Parallel(n_jobs=1)]: Using backend SequentialBackend with 1 concurrent workers.\n",
            "[Parallel(n_jobs=1)]: Done   1 out of   1 | elapsed:    1.7s remaining:    0.0s\n",
            "[Parallel(n_jobs=1)]: Done   2 out of   2 | elapsed:    3.2s remaining:    0.0s\n",
            "[Parallel(n_jobs=1)]: Done   2 out of   2 | elapsed:    3.2s finished\n"
          ]
        },
        {
          "output_type": "stream",
          "name": "stdout",
          "text": [
            "3\n",
            "Extracting EDF parameters from /content/drive/MyDrive/sleep_edfx/data/sleep-telemetry/ST7022J0-PSG.edf...\n",
            "EDF file detected\n",
            "Setting channel info structure...\n",
            "Creating raw.info structure...\n",
            "Setting up low-pass filter at 75 Hz\n",
            "\n",
            "FIR filter parameters\n",
            "---------------------\n",
            "Designing a one-pass, zero-phase, non-causal lowpass filter:\n",
            "- Windowed time-domain design (firwin) method\n",
            "- Hamming window with 0.0194 passband ripple and 53 dB stopband attenuation\n",
            "- Upper passband edge: 75.00 Hz\n",
            "- Upper transition bandwidth: 18.75 Hz (-6 dB cutoff frequency: 84.38 Hz)\n",
            "- Filter length: 37 samples (0.185 sec)\n",
            "\n"
          ]
        },
        {
          "output_type": "stream",
          "name": "stderr",
          "text": [
            "[Parallel(n_jobs=1)]: Using backend SequentialBackend with 1 concurrent workers.\n",
            "[Parallel(n_jobs=1)]: Done   1 out of   1 | elapsed:    1.6s remaining:    0.0s\n",
            "[Parallel(n_jobs=1)]: Done   2 out of   2 | elapsed:    3.2s remaining:    0.0s\n",
            "[Parallel(n_jobs=1)]: Done   2 out of   2 | elapsed:    3.2s finished\n"
          ]
        },
        {
          "output_type": "stream",
          "name": "stdout",
          "text": [
            "4\n",
            "Extracting EDF parameters from /content/drive/MyDrive/sleep_edfx/data/sleep-telemetry/ST7041J0-PSG.edf...\n",
            "EDF file detected\n",
            "Setting channel info structure...\n",
            "Creating raw.info structure...\n",
            "Setting up low-pass filter at 75 Hz\n",
            "\n",
            "FIR filter parameters\n",
            "---------------------\n",
            "Designing a one-pass, zero-phase, non-causal lowpass filter:\n",
            "- Windowed time-domain design (firwin) method\n",
            "- Hamming window with 0.0194 passband ripple and 53 dB stopband attenuation\n",
            "- Upper passband edge: 75.00 Hz\n",
            "- Upper transition bandwidth: 18.75 Hz (-6 dB cutoff frequency: 84.38 Hz)\n",
            "- Filter length: 37 samples (0.185 sec)\n",
            "\n"
          ]
        },
        {
          "output_type": "stream",
          "name": "stderr",
          "text": [
            "[Parallel(n_jobs=1)]: Using backend SequentialBackend with 1 concurrent workers.\n",
            "[Parallel(n_jobs=1)]: Done   1 out of   1 | elapsed:    1.7s remaining:    0.0s\n",
            "[Parallel(n_jobs=1)]: Done   2 out of   2 | elapsed:    3.3s remaining:    0.0s\n",
            "[Parallel(n_jobs=1)]: Done   2 out of   2 | elapsed:    3.3s finished\n"
          ]
        },
        {
          "output_type": "stream",
          "name": "stdout",
          "text": [
            "5\n",
            "Extracting EDF parameters from /content/drive/MyDrive/sleep_edfx/data/sleep-telemetry/ST7042J0-PSG.edf...\n",
            "EDF file detected\n",
            "Setting channel info structure...\n",
            "Creating raw.info structure...\n",
            "Setting up low-pass filter at 75 Hz\n",
            "\n",
            "FIR filter parameters\n",
            "---------------------\n",
            "Designing a one-pass, zero-phase, non-causal lowpass filter:\n",
            "- Windowed time-domain design (firwin) method\n",
            "- Hamming window with 0.0194 passband ripple and 53 dB stopband attenuation\n",
            "- Upper passband edge: 75.00 Hz\n",
            "- Upper transition bandwidth: 18.75 Hz (-6 dB cutoff frequency: 84.38 Hz)\n",
            "- Filter length: 37 samples (0.185 sec)\n",
            "\n"
          ]
        },
        {
          "output_type": "stream",
          "name": "stderr",
          "text": [
            "[Parallel(n_jobs=1)]: Using backend SequentialBackend with 1 concurrent workers.\n",
            "[Parallel(n_jobs=1)]: Done   1 out of   1 | elapsed:    1.8s remaining:    0.0s\n",
            "[Parallel(n_jobs=1)]: Done   2 out of   2 | elapsed:    3.6s remaining:    0.0s\n",
            "[Parallel(n_jobs=1)]: Done   2 out of   2 | elapsed:    3.6s finished\n"
          ]
        },
        {
          "output_type": "stream",
          "name": "stdout",
          "text": [
            "6\n",
            "Extracting EDF parameters from /content/drive/MyDrive/sleep_edfx/data/sleep-telemetry/ST7051J0-PSG.edf...\n",
            "EDF file detected\n",
            "Setting channel info structure...\n",
            "Creating raw.info structure...\n",
            "Setting up low-pass filter at 75 Hz\n",
            "\n",
            "FIR filter parameters\n",
            "---------------------\n",
            "Designing a one-pass, zero-phase, non-causal lowpass filter:\n",
            "- Windowed time-domain design (firwin) method\n",
            "- Hamming window with 0.0194 passband ripple and 53 dB stopband attenuation\n",
            "- Upper passband edge: 75.00 Hz\n",
            "- Upper transition bandwidth: 18.75 Hz (-6 dB cutoff frequency: 84.38 Hz)\n",
            "- Filter length: 37 samples (0.185 sec)\n",
            "\n"
          ]
        },
        {
          "output_type": "stream",
          "name": "stderr",
          "text": [
            "[Parallel(n_jobs=1)]: Using backend SequentialBackend with 1 concurrent workers.\n",
            "[Parallel(n_jobs=1)]: Done   1 out of   1 | elapsed:    1.7s remaining:    0.0s\n",
            "[Parallel(n_jobs=1)]: Done   2 out of   2 | elapsed:    3.3s remaining:    0.0s\n",
            "[Parallel(n_jobs=1)]: Done   2 out of   2 | elapsed:    3.3s finished\n"
          ]
        },
        {
          "output_type": "stream",
          "name": "stdout",
          "text": [
            "7\n",
            "Extracting EDF parameters from /content/drive/MyDrive/sleep_edfx/data/sleep-telemetry/ST7052J0-PSG.edf...\n",
            "EDF file detected\n",
            "Setting channel info structure...\n",
            "Creating raw.info structure...\n",
            "Setting up low-pass filter at 75 Hz\n",
            "\n",
            "FIR filter parameters\n",
            "---------------------\n",
            "Designing a one-pass, zero-phase, non-causal lowpass filter:\n",
            "- Windowed time-domain design (firwin) method\n",
            "- Hamming window with 0.0194 passband ripple and 53 dB stopband attenuation\n",
            "- Upper passband edge: 75.00 Hz\n",
            "- Upper transition bandwidth: 18.75 Hz (-6 dB cutoff frequency: 84.38 Hz)\n",
            "- Filter length: 37 samples (0.185 sec)\n",
            "\n"
          ]
        },
        {
          "output_type": "stream",
          "name": "stderr",
          "text": [
            "[Parallel(n_jobs=1)]: Using backend SequentialBackend with 1 concurrent workers.\n",
            "[Parallel(n_jobs=1)]: Done   1 out of   1 | elapsed:    1.7s remaining:    0.0s\n",
            "[Parallel(n_jobs=1)]: Done   2 out of   2 | elapsed:    3.5s remaining:    0.0s\n",
            "[Parallel(n_jobs=1)]: Done   2 out of   2 | elapsed:    3.5s finished\n"
          ]
        },
        {
          "output_type": "stream",
          "name": "stdout",
          "text": [
            "8\n",
            "Extracting EDF parameters from /content/drive/MyDrive/sleep_edfx/data/sleep-telemetry/ST7061J0-PSG.edf...\n",
            "EDF file detected\n",
            "Setting channel info structure...\n",
            "Creating raw.info structure...\n",
            "Setting up low-pass filter at 75 Hz\n",
            "\n",
            "FIR filter parameters\n",
            "---------------------\n",
            "Designing a one-pass, zero-phase, non-causal lowpass filter:\n",
            "- Windowed time-domain design (firwin) method\n",
            "- Hamming window with 0.0194 passband ripple and 53 dB stopband attenuation\n",
            "- Upper passband edge: 75.00 Hz\n",
            "- Upper transition bandwidth: 18.75 Hz (-6 dB cutoff frequency: 84.38 Hz)\n",
            "- Filter length: 37 samples (0.185 sec)\n",
            "\n"
          ]
        },
        {
          "output_type": "stream",
          "name": "stderr",
          "text": [
            "[Parallel(n_jobs=1)]: Using backend SequentialBackend with 1 concurrent workers.\n",
            "[Parallel(n_jobs=1)]: Done   1 out of   1 | elapsed:    1.7s remaining:    0.0s\n",
            "[Parallel(n_jobs=1)]: Done   2 out of   2 | elapsed:    3.4s remaining:    0.0s\n",
            "[Parallel(n_jobs=1)]: Done   2 out of   2 | elapsed:    3.4s finished\n"
          ]
        },
        {
          "output_type": "stream",
          "name": "stdout",
          "text": [
            "9\n",
            "Extracting EDF parameters from /content/drive/MyDrive/sleep_edfx/data/sleep-telemetry/ST7062J0-PSG.edf...\n",
            "EDF file detected\n",
            "Setting channel info structure...\n",
            "Creating raw.info structure...\n",
            "Setting up low-pass filter at 75 Hz\n",
            "\n",
            "FIR filter parameters\n",
            "---------------------\n",
            "Designing a one-pass, zero-phase, non-causal lowpass filter:\n",
            "- Windowed time-domain design (firwin) method\n",
            "- Hamming window with 0.0194 passband ripple and 53 dB stopband attenuation\n",
            "- Upper passband edge: 75.00 Hz\n",
            "- Upper transition bandwidth: 18.75 Hz (-6 dB cutoff frequency: 84.38 Hz)\n",
            "- Filter length: 37 samples (0.185 sec)\n",
            "\n"
          ]
        },
        {
          "output_type": "stream",
          "name": "stderr",
          "text": [
            "[Parallel(n_jobs=1)]: Using backend SequentialBackend with 1 concurrent workers.\n",
            "[Parallel(n_jobs=1)]: Done   1 out of   1 | elapsed:    1.8s remaining:    0.0s\n",
            "[Parallel(n_jobs=1)]: Done   2 out of   2 | elapsed:    3.5s remaining:    0.0s\n",
            "[Parallel(n_jobs=1)]: Done   2 out of   2 | elapsed:    3.5s finished\n"
          ]
        },
        {
          "output_type": "stream",
          "name": "stdout",
          "text": [
            "10\n",
            "Extracting EDF parameters from /content/drive/MyDrive/sleep_edfx/data/sleep-telemetry/ST7071J0-PSG.edf...\n",
            "EDF file detected\n",
            "Setting channel info structure...\n",
            "Creating raw.info structure...\n",
            "Setting up low-pass filter at 75 Hz\n",
            "\n",
            "FIR filter parameters\n",
            "---------------------\n",
            "Designing a one-pass, zero-phase, non-causal lowpass filter:\n",
            "- Windowed time-domain design (firwin) method\n",
            "- Hamming window with 0.0194 passband ripple and 53 dB stopband attenuation\n",
            "- Upper passband edge: 75.00 Hz\n",
            "- Upper transition bandwidth: 18.75 Hz (-6 dB cutoff frequency: 84.38 Hz)\n",
            "- Filter length: 37 samples (0.185 sec)\n",
            "\n"
          ]
        },
        {
          "output_type": "stream",
          "name": "stderr",
          "text": [
            "[Parallel(n_jobs=1)]: Using backend SequentialBackend with 1 concurrent workers.\n",
            "[Parallel(n_jobs=1)]: Done   1 out of   1 | elapsed:    1.4s remaining:    0.0s\n",
            "[Parallel(n_jobs=1)]: Done   2 out of   2 | elapsed:    2.9s remaining:    0.0s\n",
            "[Parallel(n_jobs=1)]: Done   2 out of   2 | elapsed:    2.9s finished\n"
          ]
        },
        {
          "output_type": "stream",
          "name": "stdout",
          "text": [
            "11\n",
            "Extracting EDF parameters from /content/drive/MyDrive/sleep_edfx/data/sleep-telemetry/ST7072J0-PSG.edf...\n",
            "EDF file detected\n",
            "Setting channel info structure...\n",
            "Creating raw.info structure...\n",
            "Setting up low-pass filter at 75 Hz\n",
            "\n",
            "FIR filter parameters\n",
            "---------------------\n",
            "Designing a one-pass, zero-phase, non-causal lowpass filter:\n",
            "- Windowed time-domain design (firwin) method\n",
            "- Hamming window with 0.0194 passband ripple and 53 dB stopband attenuation\n",
            "- Upper passband edge: 75.00 Hz\n",
            "- Upper transition bandwidth: 18.75 Hz (-6 dB cutoff frequency: 84.38 Hz)\n",
            "- Filter length: 37 samples (0.185 sec)\n",
            "\n"
          ]
        },
        {
          "output_type": "stream",
          "name": "stderr",
          "text": [
            "[Parallel(n_jobs=1)]: Using backend SequentialBackend with 1 concurrent workers.\n",
            "[Parallel(n_jobs=1)]: Done   1 out of   1 | elapsed:    1.5s remaining:    0.0s\n",
            "[Parallel(n_jobs=1)]: Done   2 out of   2 | elapsed:    2.9s remaining:    0.0s\n",
            "[Parallel(n_jobs=1)]: Done   2 out of   2 | elapsed:    2.9s finished\n"
          ]
        },
        {
          "output_type": "stream",
          "name": "stdout",
          "text": [
            "12\n",
            "Extracting EDF parameters from /content/drive/MyDrive/sleep_edfx/data/sleep-telemetry/ST7081J0-PSG.edf...\n",
            "EDF file detected\n",
            "Setting channel info structure...\n",
            "Creating raw.info structure...\n",
            "Setting up low-pass filter at 75 Hz\n",
            "\n",
            "FIR filter parameters\n",
            "---------------------\n",
            "Designing a one-pass, zero-phase, non-causal lowpass filter:\n",
            "- Windowed time-domain design (firwin) method\n",
            "- Hamming window with 0.0194 passband ripple and 53 dB stopband attenuation\n",
            "- Upper passband edge: 75.00 Hz\n",
            "- Upper transition bandwidth: 18.75 Hz (-6 dB cutoff frequency: 84.38 Hz)\n",
            "- Filter length: 37 samples (0.185 sec)\n",
            "\n"
          ]
        },
        {
          "output_type": "stream",
          "name": "stderr",
          "text": [
            "[Parallel(n_jobs=1)]: Using backend SequentialBackend with 1 concurrent workers.\n",
            "[Parallel(n_jobs=1)]: Done   1 out of   1 | elapsed:    1.5s remaining:    0.0s\n",
            "[Parallel(n_jobs=1)]: Done   2 out of   2 | elapsed:    3.0s remaining:    0.0s\n",
            "[Parallel(n_jobs=1)]: Done   2 out of   2 | elapsed:    3.0s finished\n"
          ]
        },
        {
          "output_type": "stream",
          "name": "stdout",
          "text": [
            "13\n",
            "Extracting EDF parameters from /content/drive/MyDrive/sleep_edfx/data/sleep-telemetry/ST7082J0-PSG.edf...\n",
            "EDF file detected\n",
            "Setting channel info structure...\n",
            "Creating raw.info structure...\n",
            "Setting up low-pass filter at 75 Hz\n",
            "\n",
            "FIR filter parameters\n",
            "---------------------\n",
            "Designing a one-pass, zero-phase, non-causal lowpass filter:\n",
            "- Windowed time-domain design (firwin) method\n",
            "- Hamming window with 0.0194 passband ripple and 53 dB stopband attenuation\n",
            "- Upper passband edge: 75.00 Hz\n",
            "- Upper transition bandwidth: 18.75 Hz (-6 dB cutoff frequency: 84.38 Hz)\n",
            "- Filter length: 37 samples (0.185 sec)\n",
            "\n"
          ]
        },
        {
          "output_type": "stream",
          "name": "stderr",
          "text": [
            "[Parallel(n_jobs=1)]: Using backend SequentialBackend with 1 concurrent workers.\n",
            "[Parallel(n_jobs=1)]: Done   1 out of   1 | elapsed:    1.6s remaining:    0.0s\n",
            "[Parallel(n_jobs=1)]: Done   2 out of   2 | elapsed:    3.0s remaining:    0.0s\n",
            "[Parallel(n_jobs=1)]: Done   2 out of   2 | elapsed:    3.0s finished\n"
          ]
        },
        {
          "output_type": "stream",
          "name": "stdout",
          "text": [
            "14\n",
            "Extracting EDF parameters from /content/drive/MyDrive/sleep_edfx/data/sleep-telemetry/ST7091J0-PSG.edf...\n",
            "EDF file detected\n",
            "Setting channel info structure...\n",
            "Creating raw.info structure...\n",
            "Setting up low-pass filter at 75 Hz\n",
            "\n",
            "FIR filter parameters\n",
            "---------------------\n",
            "Designing a one-pass, zero-phase, non-causal lowpass filter:\n",
            "- Windowed time-domain design (firwin) method\n",
            "- Hamming window with 0.0194 passband ripple and 53 dB stopband attenuation\n",
            "- Upper passband edge: 75.00 Hz\n",
            "- Upper transition bandwidth: 18.75 Hz (-6 dB cutoff frequency: 84.38 Hz)\n",
            "- Filter length: 37 samples (0.185 sec)\n",
            "\n"
          ]
        },
        {
          "output_type": "stream",
          "name": "stderr",
          "text": [
            "[Parallel(n_jobs=1)]: Using backend SequentialBackend with 1 concurrent workers.\n",
            "[Parallel(n_jobs=1)]: Done   1 out of   1 | elapsed:    1.6s remaining:    0.0s\n",
            "[Parallel(n_jobs=1)]: Done   2 out of   2 | elapsed:    3.2s remaining:    0.0s\n",
            "[Parallel(n_jobs=1)]: Done   2 out of   2 | elapsed:    3.2s finished\n"
          ]
        },
        {
          "output_type": "stream",
          "name": "stdout",
          "text": [
            "15\n",
            "Extracting EDF parameters from /content/drive/MyDrive/sleep_edfx/data/sleep-telemetry/ST7092J0-PSG.edf...\n",
            "EDF file detected\n",
            "Setting channel info structure...\n",
            "Creating raw.info structure...\n",
            "Setting up low-pass filter at 75 Hz\n",
            "\n",
            "FIR filter parameters\n",
            "---------------------\n",
            "Designing a one-pass, zero-phase, non-causal lowpass filter:\n",
            "- Windowed time-domain design (firwin) method\n",
            "- Hamming window with 0.0194 passband ripple and 53 dB stopband attenuation\n",
            "- Upper passband edge: 75.00 Hz\n",
            "- Upper transition bandwidth: 18.75 Hz (-6 dB cutoff frequency: 84.38 Hz)\n",
            "- Filter length: 37 samples (0.185 sec)\n",
            "\n"
          ]
        },
        {
          "output_type": "stream",
          "name": "stderr",
          "text": [
            "[Parallel(n_jobs=1)]: Using backend SequentialBackend with 1 concurrent workers.\n",
            "[Parallel(n_jobs=1)]: Done   1 out of   1 | elapsed:    1.5s remaining:    0.0s\n",
            "[Parallel(n_jobs=1)]: Done   2 out of   2 | elapsed:    3.0s remaining:    0.0s\n",
            "[Parallel(n_jobs=1)]: Done   2 out of   2 | elapsed:    3.0s finished\n"
          ]
        },
        {
          "output_type": "stream",
          "name": "stdout",
          "text": [
            "16\n",
            "Extracting EDF parameters from /content/drive/MyDrive/sleep_edfx/data/sleep-telemetry/ST7101J0-PSG.edf...\n",
            "EDF file detected\n",
            "Setting channel info structure...\n",
            "Creating raw.info structure...\n",
            "Setting up low-pass filter at 75 Hz\n",
            "\n",
            "FIR filter parameters\n",
            "---------------------\n",
            "Designing a one-pass, zero-phase, non-causal lowpass filter:\n",
            "- Windowed time-domain design (firwin) method\n",
            "- Hamming window with 0.0194 passband ripple and 53 dB stopband attenuation\n",
            "- Upper passband edge: 75.00 Hz\n",
            "- Upper transition bandwidth: 18.75 Hz (-6 dB cutoff frequency: 84.38 Hz)\n",
            "- Filter length: 37 samples (0.185 sec)\n",
            "\n"
          ]
        },
        {
          "output_type": "stream",
          "name": "stderr",
          "text": [
            "[Parallel(n_jobs=1)]: Using backend SequentialBackend with 1 concurrent workers.\n",
            "[Parallel(n_jobs=1)]: Done   1 out of   1 | elapsed:    3.0s remaining:    0.0s\n",
            "[Parallel(n_jobs=1)]: Done   2 out of   2 | elapsed:    7.2s remaining:    0.0s\n",
            "[Parallel(n_jobs=1)]: Done   2 out of   2 | elapsed:    7.2s finished\n"
          ]
        },
        {
          "output_type": "stream",
          "name": "stdout",
          "text": [
            "17\n",
            "Extracting EDF parameters from /content/drive/MyDrive/sleep_edfx/data/sleep-telemetry/ST7102J0-PSG.edf...\n",
            "EDF file detected\n",
            "Setting channel info structure...\n",
            "Creating raw.info structure...\n",
            "Setting up low-pass filter at 75 Hz\n",
            "\n",
            "FIR filter parameters\n",
            "---------------------\n",
            "Designing a one-pass, zero-phase, non-causal lowpass filter:\n",
            "- Windowed time-domain design (firwin) method\n",
            "- Hamming window with 0.0194 passband ripple and 53 dB stopband attenuation\n",
            "- Upper passband edge: 75.00 Hz\n",
            "- Upper transition bandwidth: 18.75 Hz (-6 dB cutoff frequency: 84.38 Hz)\n",
            "- Filter length: 37 samples (0.185 sec)\n",
            "\n"
          ]
        },
        {
          "output_type": "stream",
          "name": "stderr",
          "text": [
            "[Parallel(n_jobs=1)]: Using backend SequentialBackend with 1 concurrent workers.\n",
            "[Parallel(n_jobs=1)]: Done   1 out of   1 | elapsed:    1.6s remaining:    0.0s\n",
            "[Parallel(n_jobs=1)]: Done   2 out of   2 | elapsed:    3.1s remaining:    0.0s\n",
            "[Parallel(n_jobs=1)]: Done   2 out of   2 | elapsed:    3.1s finished\n"
          ]
        },
        {
          "output_type": "stream",
          "name": "stdout",
          "text": [
            "18\n",
            "Extracting EDF parameters from /content/drive/MyDrive/sleep_edfx/data/sleep-telemetry/ST7111J0-PSG.edf...\n",
            "EDF file detected\n",
            "Setting channel info structure...\n",
            "Creating raw.info structure...\n",
            "Setting up low-pass filter at 75 Hz\n",
            "\n",
            "FIR filter parameters\n",
            "---------------------\n",
            "Designing a one-pass, zero-phase, non-causal lowpass filter:\n",
            "- Windowed time-domain design (firwin) method\n",
            "- Hamming window with 0.0194 passband ripple and 53 dB stopband attenuation\n",
            "- Upper passband edge: 75.00 Hz\n",
            "- Upper transition bandwidth: 18.75 Hz (-6 dB cutoff frequency: 84.38 Hz)\n",
            "- Filter length: 37 samples (0.185 sec)\n",
            "\n"
          ]
        },
        {
          "output_type": "stream",
          "name": "stderr",
          "text": [
            "[Parallel(n_jobs=1)]: Using backend SequentialBackend with 1 concurrent workers.\n",
            "[Parallel(n_jobs=1)]: Done   1 out of   1 | elapsed:    1.7s remaining:    0.0s\n",
            "[Parallel(n_jobs=1)]: Done   2 out of   2 | elapsed:    3.5s remaining:    0.0s\n",
            "[Parallel(n_jobs=1)]: Done   2 out of   2 | elapsed:    3.5s finished\n"
          ]
        },
        {
          "output_type": "stream",
          "name": "stdout",
          "text": [
            "19\n",
            "Extracting EDF parameters from /content/drive/MyDrive/sleep_edfx/data/sleep-telemetry/ST7112J0-PSG.edf...\n",
            "EDF file detected\n",
            "Setting channel info structure...\n",
            "Creating raw.info structure...\n",
            "Setting up low-pass filter at 75 Hz\n",
            "\n",
            "FIR filter parameters\n",
            "---------------------\n",
            "Designing a one-pass, zero-phase, non-causal lowpass filter:\n",
            "- Windowed time-domain design (firwin) method\n",
            "- Hamming window with 0.0194 passband ripple and 53 dB stopband attenuation\n",
            "- Upper passband edge: 75.00 Hz\n",
            "- Upper transition bandwidth: 18.75 Hz (-6 dB cutoff frequency: 84.38 Hz)\n",
            "- Filter length: 37 samples (0.185 sec)\n",
            "\n"
          ]
        },
        {
          "output_type": "stream",
          "name": "stderr",
          "text": [
            "[Parallel(n_jobs=1)]: Using backend SequentialBackend with 1 concurrent workers.\n",
            "[Parallel(n_jobs=1)]: Done   1 out of   1 | elapsed:    1.6s remaining:    0.0s\n",
            "[Parallel(n_jobs=1)]: Done   2 out of   2 | elapsed:    3.4s remaining:    0.0s\n",
            "[Parallel(n_jobs=1)]: Done   2 out of   2 | elapsed:    3.4s finished\n"
          ]
        },
        {
          "output_type": "stream",
          "name": "stdout",
          "text": [
            "20\n",
            "Extracting EDF parameters from /content/drive/MyDrive/sleep_edfx/data/sleep-telemetry/ST7121J0-PSG.edf...\n",
            "EDF file detected\n",
            "Setting channel info structure...\n",
            "Creating raw.info structure...\n",
            "Setting up low-pass filter at 75 Hz\n",
            "\n",
            "FIR filter parameters\n",
            "---------------------\n",
            "Designing a one-pass, zero-phase, non-causal lowpass filter:\n",
            "- Windowed time-domain design (firwin) method\n",
            "- Hamming window with 0.0194 passband ripple and 53 dB stopband attenuation\n",
            "- Upper passband edge: 75.00 Hz\n",
            "- Upper transition bandwidth: 18.75 Hz (-6 dB cutoff frequency: 84.38 Hz)\n",
            "- Filter length: 37 samples (0.185 sec)\n",
            "\n"
          ]
        },
        {
          "output_type": "stream",
          "name": "stderr",
          "text": [
            "[Parallel(n_jobs=1)]: Using backend SequentialBackend with 1 concurrent workers.\n",
            "[Parallel(n_jobs=1)]: Done   1 out of   1 | elapsed:    1.6s remaining:    0.0s\n",
            "[Parallel(n_jobs=1)]: Done   2 out of   2 | elapsed:    3.2s remaining:    0.0s\n",
            "[Parallel(n_jobs=1)]: Done   2 out of   2 | elapsed:    3.2s finished\n"
          ]
        },
        {
          "output_type": "stream",
          "name": "stdout",
          "text": [
            "21\n",
            "Extracting EDF parameters from /content/drive/MyDrive/sleep_edfx/data/sleep-telemetry/ST7122J0-PSG.edf...\n",
            "EDF file detected\n",
            "Setting channel info structure...\n",
            "Creating raw.info structure...\n",
            "Setting up low-pass filter at 75 Hz\n",
            "\n",
            "FIR filter parameters\n",
            "---------------------\n",
            "Designing a one-pass, zero-phase, non-causal lowpass filter:\n",
            "- Windowed time-domain design (firwin) method\n",
            "- Hamming window with 0.0194 passband ripple and 53 dB stopband attenuation\n",
            "- Upper passband edge: 75.00 Hz\n",
            "- Upper transition bandwidth: 18.75 Hz (-6 dB cutoff frequency: 84.38 Hz)\n",
            "- Filter length: 37 samples (0.185 sec)\n",
            "\n"
          ]
        },
        {
          "output_type": "stream",
          "name": "stderr",
          "text": [
            "[Parallel(n_jobs=1)]: Using backend SequentialBackend with 1 concurrent workers.\n",
            "[Parallel(n_jobs=1)]: Done   1 out of   1 | elapsed:    1.6s remaining:    0.0s\n",
            "[Parallel(n_jobs=1)]: Done   2 out of   2 | elapsed:    3.2s remaining:    0.0s\n",
            "[Parallel(n_jobs=1)]: Done   2 out of   2 | elapsed:    3.2s finished\n"
          ]
        },
        {
          "output_type": "stream",
          "name": "stdout",
          "text": [
            "22\n",
            "Extracting EDF parameters from /content/drive/MyDrive/sleep_edfx/data/sleep-telemetry/ST7131J0-PSG.edf...\n",
            "EDF file detected\n",
            "Setting channel info structure...\n",
            "Creating raw.info structure...\n",
            "Setting up low-pass filter at 75 Hz\n",
            "\n",
            "FIR filter parameters\n",
            "---------------------\n",
            "Designing a one-pass, zero-phase, non-causal lowpass filter:\n",
            "- Windowed time-domain design (firwin) method\n",
            "- Hamming window with 0.0194 passband ripple and 53 dB stopband attenuation\n",
            "- Upper passband edge: 75.00 Hz\n",
            "- Upper transition bandwidth: 18.75 Hz (-6 dB cutoff frequency: 84.38 Hz)\n",
            "- Filter length: 37 samples (0.185 sec)\n",
            "\n"
          ]
        },
        {
          "output_type": "stream",
          "name": "stderr",
          "text": [
            "[Parallel(n_jobs=1)]: Using backend SequentialBackend with 1 concurrent workers.\n",
            "[Parallel(n_jobs=1)]: Done   1 out of   1 | elapsed:    1.5s remaining:    0.0s\n",
            "[Parallel(n_jobs=1)]: Done   2 out of   2 | elapsed:    3.0s remaining:    0.0s\n",
            "[Parallel(n_jobs=1)]: Done   2 out of   2 | elapsed:    3.0s finished\n"
          ]
        },
        {
          "output_type": "stream",
          "name": "stdout",
          "text": [
            "23\n",
            "Extracting EDF parameters from /content/drive/MyDrive/sleep_edfx/data/sleep-telemetry/ST7132J0-PSG.edf...\n",
            "EDF file detected\n",
            "Setting channel info structure...\n",
            "Creating raw.info structure...\n",
            "Setting up low-pass filter at 75 Hz\n",
            "\n",
            "FIR filter parameters\n",
            "---------------------\n",
            "Designing a one-pass, zero-phase, non-causal lowpass filter:\n",
            "- Windowed time-domain design (firwin) method\n",
            "- Hamming window with 0.0194 passband ripple and 53 dB stopband attenuation\n",
            "- Upper passband edge: 75.00 Hz\n",
            "- Upper transition bandwidth: 18.75 Hz (-6 dB cutoff frequency: 84.38 Hz)\n",
            "- Filter length: 37 samples (0.185 sec)\n",
            "\n"
          ]
        },
        {
          "output_type": "stream",
          "name": "stderr",
          "text": [
            "[Parallel(n_jobs=1)]: Using backend SequentialBackend with 1 concurrent workers.\n",
            "[Parallel(n_jobs=1)]: Done   1 out of   1 | elapsed:    1.6s remaining:    0.0s\n",
            "[Parallel(n_jobs=1)]: Done   2 out of   2 | elapsed:    3.0s remaining:    0.0s\n",
            "[Parallel(n_jobs=1)]: Done   2 out of   2 | elapsed:    3.0s finished\n"
          ]
        },
        {
          "output_type": "stream",
          "name": "stdout",
          "text": [
            "24\n",
            "Extracting EDF parameters from /content/drive/MyDrive/sleep_edfx/data/sleep-telemetry/ST7141J0-PSG.edf...\n",
            "EDF file detected\n",
            "Setting channel info structure...\n",
            "Creating raw.info structure...\n",
            "Setting up low-pass filter at 75 Hz\n",
            "\n",
            "FIR filter parameters\n",
            "---------------------\n",
            "Designing a one-pass, zero-phase, non-causal lowpass filter:\n",
            "- Windowed time-domain design (firwin) method\n",
            "- Hamming window with 0.0194 passband ripple and 53 dB stopband attenuation\n",
            "- Upper passband edge: 75.00 Hz\n",
            "- Upper transition bandwidth: 18.75 Hz (-6 dB cutoff frequency: 84.38 Hz)\n",
            "- Filter length: 37 samples (0.185 sec)\n",
            "\n"
          ]
        },
        {
          "output_type": "stream",
          "name": "stderr",
          "text": [
            "[Parallel(n_jobs=1)]: Using backend SequentialBackend with 1 concurrent workers.\n",
            "[Parallel(n_jobs=1)]: Done   1 out of   1 | elapsed:    1.5s remaining:    0.0s\n",
            "[Parallel(n_jobs=1)]: Done   2 out of   2 | elapsed:    2.9s remaining:    0.0s\n",
            "[Parallel(n_jobs=1)]: Done   2 out of   2 | elapsed:    2.9s finished\n"
          ]
        },
        {
          "output_type": "stream",
          "name": "stdout",
          "text": [
            "25\n",
            "Extracting EDF parameters from /content/drive/MyDrive/sleep_edfx/data/sleep-telemetry/ST7142J0-PSG.edf...\n",
            "EDF file detected\n",
            "Setting channel info structure...\n",
            "Creating raw.info structure...\n",
            "Setting up low-pass filter at 75 Hz\n",
            "\n",
            "FIR filter parameters\n",
            "---------------------\n",
            "Designing a one-pass, zero-phase, non-causal lowpass filter:\n",
            "- Windowed time-domain design (firwin) method\n",
            "- Hamming window with 0.0194 passband ripple and 53 dB stopband attenuation\n",
            "- Upper passband edge: 75.00 Hz\n",
            "- Upper transition bandwidth: 18.75 Hz (-6 dB cutoff frequency: 84.38 Hz)\n",
            "- Filter length: 37 samples (0.185 sec)\n",
            "\n"
          ]
        },
        {
          "output_type": "stream",
          "name": "stderr",
          "text": [
            "[Parallel(n_jobs=1)]: Using backend SequentialBackend with 1 concurrent workers.\n",
            "[Parallel(n_jobs=1)]: Done   1 out of   1 | elapsed:    1.5s remaining:    0.0s\n",
            "[Parallel(n_jobs=1)]: Done   2 out of   2 | elapsed:    3.0s remaining:    0.0s\n",
            "[Parallel(n_jobs=1)]: Done   2 out of   2 | elapsed:    3.0s finished\n"
          ]
        },
        {
          "output_type": "stream",
          "name": "stdout",
          "text": [
            "26\n",
            "Extracting EDF parameters from /content/drive/MyDrive/sleep_edfx/data/sleep-telemetry/ST7151J0-PSG.edf...\n",
            "EDF file detected\n",
            "Setting channel info structure...\n",
            "Creating raw.info structure...\n",
            "Setting up low-pass filter at 75 Hz\n",
            "\n",
            "FIR filter parameters\n",
            "---------------------\n",
            "Designing a one-pass, zero-phase, non-causal lowpass filter:\n",
            "- Windowed time-domain design (firwin) method\n",
            "- Hamming window with 0.0194 passband ripple and 53 dB stopband attenuation\n",
            "- Upper passband edge: 75.00 Hz\n",
            "- Upper transition bandwidth: 18.75 Hz (-6 dB cutoff frequency: 84.38 Hz)\n",
            "- Filter length: 37 samples (0.185 sec)\n",
            "\n"
          ]
        },
        {
          "output_type": "stream",
          "name": "stderr",
          "text": [
            "[Parallel(n_jobs=1)]: Using backend SequentialBackend with 1 concurrent workers.\n",
            "[Parallel(n_jobs=1)]: Done   1 out of   1 | elapsed:    2.1s remaining:    0.0s\n",
            "[Parallel(n_jobs=1)]: Done   2 out of   2 | elapsed:    4.0s remaining:    0.0s\n",
            "[Parallel(n_jobs=1)]: Done   2 out of   2 | elapsed:    4.0s finished\n"
          ]
        },
        {
          "output_type": "stream",
          "name": "stdout",
          "text": [
            "27\n",
            "Extracting EDF parameters from /content/drive/MyDrive/sleep_edfx/data/sleep-telemetry/ST7152J0-PSG.edf...\n",
            "EDF file detected\n",
            "Setting channel info structure...\n",
            "Creating raw.info structure...\n",
            "Setting up low-pass filter at 75 Hz\n",
            "\n",
            "FIR filter parameters\n",
            "---------------------\n",
            "Designing a one-pass, zero-phase, non-causal lowpass filter:\n",
            "- Windowed time-domain design (firwin) method\n",
            "- Hamming window with 0.0194 passband ripple and 53 dB stopband attenuation\n",
            "- Upper passband edge: 75.00 Hz\n",
            "- Upper transition bandwidth: 18.75 Hz (-6 dB cutoff frequency: 84.38 Hz)\n",
            "- Filter length: 37 samples (0.185 sec)\n",
            "\n"
          ]
        },
        {
          "output_type": "stream",
          "name": "stderr",
          "text": [
            "[Parallel(n_jobs=1)]: Using backend SequentialBackend with 1 concurrent workers.\n",
            "[Parallel(n_jobs=1)]: Done   1 out of   1 | elapsed:    2.4s remaining:    0.0s\n",
            "[Parallel(n_jobs=1)]: Done   2 out of   2 | elapsed:    4.2s remaining:    0.0s\n",
            "[Parallel(n_jobs=1)]: Done   2 out of   2 | elapsed:    4.2s finished\n"
          ]
        },
        {
          "output_type": "stream",
          "name": "stdout",
          "text": [
            "28\n",
            "Extracting EDF parameters from /content/drive/MyDrive/sleep_edfx/data/sleep-telemetry/ST7161J0-PSG.edf...\n",
            "EDF file detected\n",
            "Setting channel info structure...\n",
            "Creating raw.info structure...\n",
            "Setting up low-pass filter at 75 Hz\n",
            "\n",
            "FIR filter parameters\n",
            "---------------------\n",
            "Designing a one-pass, zero-phase, non-causal lowpass filter:\n",
            "- Windowed time-domain design (firwin) method\n",
            "- Hamming window with 0.0194 passband ripple and 53 dB stopband attenuation\n",
            "- Upper passband edge: 75.00 Hz\n",
            "- Upper transition bandwidth: 18.75 Hz (-6 dB cutoff frequency: 84.38 Hz)\n",
            "- Filter length: 37 samples (0.185 sec)\n",
            "\n"
          ]
        },
        {
          "output_type": "stream",
          "name": "stderr",
          "text": [
            "[Parallel(n_jobs=1)]: Using backend SequentialBackend with 1 concurrent workers.\n",
            "[Parallel(n_jobs=1)]: Done   1 out of   1 | elapsed:    1.7s remaining:    0.0s\n",
            "[Parallel(n_jobs=1)]: Done   2 out of   2 | elapsed:    3.5s remaining:    0.0s\n",
            "[Parallel(n_jobs=1)]: Done   2 out of   2 | elapsed:    3.5s finished\n"
          ]
        },
        {
          "output_type": "stream",
          "name": "stdout",
          "text": [
            "29\n",
            "Extracting EDF parameters from /content/drive/MyDrive/sleep_edfx/data/sleep-telemetry/ST7162J0-PSG.edf...\n",
            "EDF file detected\n",
            "Setting channel info structure...\n",
            "Creating raw.info structure...\n",
            "Setting up low-pass filter at 75 Hz\n",
            "\n",
            "FIR filter parameters\n",
            "---------------------\n",
            "Designing a one-pass, zero-phase, non-causal lowpass filter:\n",
            "- Windowed time-domain design (firwin) method\n",
            "- Hamming window with 0.0194 passband ripple and 53 dB stopband attenuation\n",
            "- Upper passband edge: 75.00 Hz\n",
            "- Upper transition bandwidth: 18.75 Hz (-6 dB cutoff frequency: 84.38 Hz)\n",
            "- Filter length: 37 samples (0.185 sec)\n",
            "\n"
          ]
        },
        {
          "output_type": "stream",
          "name": "stderr",
          "text": [
            "[Parallel(n_jobs=1)]: Using backend SequentialBackend with 1 concurrent workers.\n",
            "[Parallel(n_jobs=1)]: Done   1 out of   1 | elapsed:    1.6s remaining:    0.0s\n",
            "[Parallel(n_jobs=1)]: Done   2 out of   2 | elapsed:    3.2s remaining:    0.0s\n",
            "[Parallel(n_jobs=1)]: Done   2 out of   2 | elapsed:    3.2s finished\n"
          ]
        },
        {
          "output_type": "stream",
          "name": "stdout",
          "text": [
            "30\n",
            "Extracting EDF parameters from /content/drive/MyDrive/sleep_edfx/data/sleep-telemetry/ST7171J0-PSG.edf...\n",
            "EDF file detected\n",
            "Setting channel info structure...\n",
            "Creating raw.info structure...\n",
            "Setting up low-pass filter at 75 Hz\n",
            "\n",
            "FIR filter parameters\n",
            "---------------------\n",
            "Designing a one-pass, zero-phase, non-causal lowpass filter:\n",
            "- Windowed time-domain design (firwin) method\n",
            "- Hamming window with 0.0194 passband ripple and 53 dB stopband attenuation\n",
            "- Upper passband edge: 75.00 Hz\n",
            "- Upper transition bandwidth: 18.75 Hz (-6 dB cutoff frequency: 84.38 Hz)\n",
            "- Filter length: 37 samples (0.185 sec)\n",
            "\n"
          ]
        },
        {
          "output_type": "stream",
          "name": "stderr",
          "text": [
            "[Parallel(n_jobs=1)]: Using backend SequentialBackend with 1 concurrent workers.\n",
            "[Parallel(n_jobs=1)]: Done   1 out of   1 | elapsed:    1.6s remaining:    0.0s\n",
            "[Parallel(n_jobs=1)]: Done   2 out of   2 | elapsed:    3.1s remaining:    0.0s\n",
            "[Parallel(n_jobs=1)]: Done   2 out of   2 | elapsed:    3.1s finished\n"
          ]
        },
        {
          "output_type": "stream",
          "name": "stdout",
          "text": [
            "31\n",
            "Extracting EDF parameters from /content/drive/MyDrive/sleep_edfx/data/sleep-telemetry/ST7172J0-PSG.edf...\n",
            "EDF file detected\n",
            "Setting channel info structure...\n",
            "Creating raw.info structure...\n",
            "Setting up low-pass filter at 75 Hz\n",
            "\n",
            "FIR filter parameters\n",
            "---------------------\n",
            "Designing a one-pass, zero-phase, non-causal lowpass filter:\n",
            "- Windowed time-domain design (firwin) method\n",
            "- Hamming window with 0.0194 passband ripple and 53 dB stopband attenuation\n",
            "- Upper passband edge: 75.00 Hz\n",
            "- Upper transition bandwidth: 18.75 Hz (-6 dB cutoff frequency: 84.38 Hz)\n",
            "- Filter length: 37 samples (0.185 sec)\n",
            "\n"
          ]
        },
        {
          "output_type": "stream",
          "name": "stderr",
          "text": [
            "[Parallel(n_jobs=1)]: Using backend SequentialBackend with 1 concurrent workers.\n",
            "[Parallel(n_jobs=1)]: Done   1 out of   1 | elapsed:    1.6s remaining:    0.0s\n",
            "[Parallel(n_jobs=1)]: Done   2 out of   2 | elapsed:    3.2s remaining:    0.0s\n",
            "[Parallel(n_jobs=1)]: Done   2 out of   2 | elapsed:    3.2s finished\n"
          ]
        },
        {
          "output_type": "stream",
          "name": "stdout",
          "text": [
            "32\n",
            "Extracting EDF parameters from /content/drive/MyDrive/sleep_edfx/data/sleep-telemetry/ST7181J0-PSG.edf...\n",
            "EDF file detected\n",
            "Setting channel info structure...\n",
            "Creating raw.info structure...\n",
            "Setting up low-pass filter at 75 Hz\n",
            "\n",
            "FIR filter parameters\n",
            "---------------------\n",
            "Designing a one-pass, zero-phase, non-causal lowpass filter:\n",
            "- Windowed time-domain design (firwin) method\n",
            "- Hamming window with 0.0194 passband ripple and 53 dB stopband attenuation\n",
            "- Upper passband edge: 75.00 Hz\n",
            "- Upper transition bandwidth: 18.75 Hz (-6 dB cutoff frequency: 84.38 Hz)\n",
            "- Filter length: 37 samples (0.185 sec)\n",
            "\n"
          ]
        },
        {
          "output_type": "stream",
          "name": "stderr",
          "text": [
            "[Parallel(n_jobs=1)]: Using backend SequentialBackend with 1 concurrent workers.\n",
            "[Parallel(n_jobs=1)]: Done   1 out of   1 | elapsed:    1.7s remaining:    0.0s\n",
            "[Parallel(n_jobs=1)]: Done   2 out of   2 | elapsed:    3.4s remaining:    0.0s\n",
            "[Parallel(n_jobs=1)]: Done   2 out of   2 | elapsed:    3.4s finished\n"
          ]
        },
        {
          "output_type": "stream",
          "name": "stdout",
          "text": [
            "33\n",
            "Extracting EDF parameters from /content/drive/MyDrive/sleep_edfx/data/sleep-telemetry/ST7182J0-PSG.edf...\n",
            "EDF file detected\n",
            "Setting channel info structure...\n",
            "Creating raw.info structure...\n",
            "Setting up low-pass filter at 75 Hz\n",
            "\n",
            "FIR filter parameters\n",
            "---------------------\n",
            "Designing a one-pass, zero-phase, non-causal lowpass filter:\n",
            "- Windowed time-domain design (firwin) method\n",
            "- Hamming window with 0.0194 passband ripple and 53 dB stopband attenuation\n",
            "- Upper passband edge: 75.00 Hz\n",
            "- Upper transition bandwidth: 18.75 Hz (-6 dB cutoff frequency: 84.38 Hz)\n",
            "- Filter length: 37 samples (0.185 sec)\n",
            "\n"
          ]
        },
        {
          "output_type": "stream",
          "name": "stderr",
          "text": [
            "[Parallel(n_jobs=1)]: Using backend SequentialBackend with 1 concurrent workers.\n",
            "[Parallel(n_jobs=1)]: Done   1 out of   1 | elapsed:    1.7s remaining:    0.0s\n",
            "[Parallel(n_jobs=1)]: Done   2 out of   2 | elapsed:    3.5s remaining:    0.0s\n",
            "[Parallel(n_jobs=1)]: Done   2 out of   2 | elapsed:    3.5s finished\n"
          ]
        },
        {
          "output_type": "stream",
          "name": "stdout",
          "text": [
            "34\n",
            "Extracting EDF parameters from /content/drive/MyDrive/sleep_edfx/data/sleep-telemetry/ST7191J0-PSG.edf...\n",
            "EDF file detected\n",
            "Setting channel info structure...\n",
            "Creating raw.info structure...\n",
            "Setting up low-pass filter at 75 Hz\n",
            "\n",
            "FIR filter parameters\n",
            "---------------------\n",
            "Designing a one-pass, zero-phase, non-causal lowpass filter:\n",
            "- Windowed time-domain design (firwin) method\n",
            "- Hamming window with 0.0194 passband ripple and 53 dB stopband attenuation\n",
            "- Upper passband edge: 75.00 Hz\n",
            "- Upper transition bandwidth: 18.75 Hz (-6 dB cutoff frequency: 84.38 Hz)\n",
            "- Filter length: 37 samples (0.185 sec)\n",
            "\n"
          ]
        },
        {
          "output_type": "stream",
          "name": "stderr",
          "text": [
            "[Parallel(n_jobs=1)]: Using backend SequentialBackend with 1 concurrent workers.\n",
            "[Parallel(n_jobs=1)]: Done   1 out of   1 | elapsed:    3.2s remaining:    0.0s\n",
            "[Parallel(n_jobs=1)]: Done   2 out of   2 | elapsed:    5.1s remaining:    0.0s\n",
            "[Parallel(n_jobs=1)]: Done   2 out of   2 | elapsed:    5.1s finished\n"
          ]
        },
        {
          "output_type": "stream",
          "name": "stdout",
          "text": [
            "35\n",
            "Extracting EDF parameters from /content/drive/MyDrive/sleep_edfx/data/sleep-telemetry/ST7192J0-PSG.edf...\n",
            "EDF file detected\n",
            "Setting channel info structure...\n",
            "Creating raw.info structure...\n",
            "Setting up low-pass filter at 75 Hz\n",
            "\n",
            "FIR filter parameters\n",
            "---------------------\n",
            "Designing a one-pass, zero-phase, non-causal lowpass filter:\n",
            "- Windowed time-domain design (firwin) method\n",
            "- Hamming window with 0.0194 passband ripple and 53 dB stopband attenuation\n",
            "- Upper passband edge: 75.00 Hz\n",
            "- Upper transition bandwidth: 18.75 Hz (-6 dB cutoff frequency: 84.38 Hz)\n",
            "- Filter length: 37 samples (0.185 sec)\n",
            "\n"
          ]
        },
        {
          "output_type": "stream",
          "name": "stderr",
          "text": [
            "[Parallel(n_jobs=1)]: Using backend SequentialBackend with 1 concurrent workers.\n",
            "[Parallel(n_jobs=1)]: Done   1 out of   1 | elapsed:    1.8s remaining:    0.0s\n",
            "[Parallel(n_jobs=1)]: Done   2 out of   2 | elapsed:    3.4s remaining:    0.0s\n",
            "[Parallel(n_jobs=1)]: Done   2 out of   2 | elapsed:    3.4s finished\n"
          ]
        },
        {
          "output_type": "stream",
          "name": "stdout",
          "text": [
            "36\n",
            "Extracting EDF parameters from /content/drive/MyDrive/sleep_edfx/data/sleep-telemetry/ST7201J0-PSG.edf...\n",
            "EDF file detected\n",
            "Setting channel info structure...\n",
            "Creating raw.info structure...\n",
            "Setting up low-pass filter at 75 Hz\n",
            "\n",
            "FIR filter parameters\n",
            "---------------------\n",
            "Designing a one-pass, zero-phase, non-causal lowpass filter:\n",
            "- Windowed time-domain design (firwin) method\n",
            "- Hamming window with 0.0194 passband ripple and 53 dB stopband attenuation\n",
            "- Upper passband edge: 75.00 Hz\n",
            "- Upper transition bandwidth: 18.75 Hz (-6 dB cutoff frequency: 84.38 Hz)\n",
            "- Filter length: 37 samples (0.185 sec)\n",
            "\n"
          ]
        },
        {
          "output_type": "stream",
          "name": "stderr",
          "text": [
            "[Parallel(n_jobs=1)]: Using backend SequentialBackend with 1 concurrent workers.\n",
            "[Parallel(n_jobs=1)]: Done   1 out of   1 | elapsed:    1.6s remaining:    0.0s\n",
            "[Parallel(n_jobs=1)]: Done   2 out of   2 | elapsed:    3.1s remaining:    0.0s\n",
            "[Parallel(n_jobs=1)]: Done   2 out of   2 | elapsed:    3.1s finished\n"
          ]
        },
        {
          "output_type": "stream",
          "name": "stdout",
          "text": [
            "37\n",
            "Extracting EDF parameters from /content/drive/MyDrive/sleep_edfx/data/sleep-telemetry/ST7202J0-PSG.edf...\n",
            "EDF file detected\n",
            "Setting channel info structure...\n",
            "Creating raw.info structure...\n",
            "Setting up low-pass filter at 75 Hz\n",
            "\n",
            "FIR filter parameters\n",
            "---------------------\n",
            "Designing a one-pass, zero-phase, non-causal lowpass filter:\n",
            "- Windowed time-domain design (firwin) method\n",
            "- Hamming window with 0.0194 passband ripple and 53 dB stopband attenuation\n",
            "- Upper passband edge: 75.00 Hz\n",
            "- Upper transition bandwidth: 18.75 Hz (-6 dB cutoff frequency: 84.38 Hz)\n",
            "- Filter length: 37 samples (0.185 sec)\n",
            "\n"
          ]
        },
        {
          "output_type": "stream",
          "name": "stderr",
          "text": [
            "[Parallel(n_jobs=1)]: Using backend SequentialBackend with 1 concurrent workers.\n",
            "[Parallel(n_jobs=1)]: Done   1 out of   1 | elapsed:    1.6s remaining:    0.0s\n",
            "[Parallel(n_jobs=1)]: Done   2 out of   2 | elapsed:    3.3s remaining:    0.0s\n",
            "[Parallel(n_jobs=1)]: Done   2 out of   2 | elapsed:    3.3s finished\n"
          ]
        },
        {
          "output_type": "stream",
          "name": "stdout",
          "text": [
            "38\n",
            "Extracting EDF parameters from /content/drive/MyDrive/sleep_edfx/data/sleep-telemetry/ST7211J0-PSG.edf...\n",
            "EDF file detected\n",
            "Setting channel info structure...\n",
            "Creating raw.info structure...\n",
            "Setting up low-pass filter at 75 Hz\n",
            "\n",
            "FIR filter parameters\n",
            "---------------------\n",
            "Designing a one-pass, zero-phase, non-causal lowpass filter:\n",
            "- Windowed time-domain design (firwin) method\n",
            "- Hamming window with 0.0194 passband ripple and 53 dB stopband attenuation\n",
            "- Upper passband edge: 75.00 Hz\n",
            "- Upper transition bandwidth: 18.75 Hz (-6 dB cutoff frequency: 84.38 Hz)\n",
            "- Filter length: 37 samples (0.185 sec)\n",
            "\n"
          ]
        },
        {
          "output_type": "stream",
          "name": "stderr",
          "text": [
            "[Parallel(n_jobs=1)]: Using backend SequentialBackend with 1 concurrent workers.\n",
            "[Parallel(n_jobs=1)]: Done   1 out of   1 | elapsed:    1.7s remaining:    0.0s\n",
            "[Parallel(n_jobs=1)]: Done   2 out of   2 | elapsed:    3.3s remaining:    0.0s\n",
            "[Parallel(n_jobs=1)]: Done   2 out of   2 | elapsed:    3.3s finished\n"
          ]
        },
        {
          "output_type": "stream",
          "name": "stdout",
          "text": [
            "39\n",
            "Extracting EDF parameters from /content/drive/MyDrive/sleep_edfx/data/sleep-telemetry/ST7212J0-PSG.edf...\n",
            "EDF file detected\n",
            "Setting channel info structure...\n",
            "Creating raw.info structure...\n",
            "Setting up low-pass filter at 75 Hz\n",
            "\n",
            "FIR filter parameters\n",
            "---------------------\n",
            "Designing a one-pass, zero-phase, non-causal lowpass filter:\n",
            "- Windowed time-domain design (firwin) method\n",
            "- Hamming window with 0.0194 passband ripple and 53 dB stopband attenuation\n",
            "- Upper passband edge: 75.00 Hz\n",
            "- Upper transition bandwidth: 18.75 Hz (-6 dB cutoff frequency: 84.38 Hz)\n",
            "- Filter length: 37 samples (0.185 sec)\n",
            "\n"
          ]
        },
        {
          "output_type": "stream",
          "name": "stderr",
          "text": [
            "[Parallel(n_jobs=1)]: Using backend SequentialBackend with 1 concurrent workers.\n",
            "[Parallel(n_jobs=1)]: Done   1 out of   1 | elapsed:    1.6s remaining:    0.0s\n",
            "[Parallel(n_jobs=1)]: Done   2 out of   2 | elapsed:    3.3s remaining:    0.0s\n",
            "[Parallel(n_jobs=1)]: Done   2 out of   2 | elapsed:    3.3s finished\n"
          ]
        },
        {
          "output_type": "stream",
          "name": "stdout",
          "text": [
            "40\n",
            "Extracting EDF parameters from /content/drive/MyDrive/sleep_edfx/data/sleep-telemetry/ST7221J0-PSG.edf...\n",
            "EDF file detected\n",
            "Setting channel info structure...\n",
            "Creating raw.info structure...\n",
            "Setting up low-pass filter at 75 Hz\n",
            "\n",
            "FIR filter parameters\n",
            "---------------------\n",
            "Designing a one-pass, zero-phase, non-causal lowpass filter:\n",
            "- Windowed time-domain design (firwin) method\n",
            "- Hamming window with 0.0194 passband ripple and 53 dB stopband attenuation\n",
            "- Upper passband edge: 75.00 Hz\n",
            "- Upper transition bandwidth: 18.75 Hz (-6 dB cutoff frequency: 84.38 Hz)\n",
            "- Filter length: 37 samples (0.185 sec)\n",
            "\n"
          ]
        },
        {
          "output_type": "stream",
          "name": "stderr",
          "text": [
            "[Parallel(n_jobs=1)]: Using backend SequentialBackend with 1 concurrent workers.\n",
            "[Parallel(n_jobs=1)]: Done   1 out of   1 | elapsed:    3.7s remaining:    0.0s\n",
            "[Parallel(n_jobs=1)]: Done   2 out of   2 | elapsed:    8.1s remaining:    0.0s\n",
            "[Parallel(n_jobs=1)]: Done   2 out of   2 | elapsed:    8.1s finished\n"
          ]
        },
        {
          "output_type": "stream",
          "name": "stdout",
          "text": [
            "41\n",
            "Extracting EDF parameters from /content/drive/MyDrive/sleep_edfx/data/sleep-telemetry/ST7222J0-PSG.edf...\n",
            "EDF file detected\n",
            "Setting channel info structure...\n",
            "Creating raw.info structure...\n",
            "Setting up low-pass filter at 75 Hz\n",
            "\n",
            "FIR filter parameters\n",
            "---------------------\n",
            "Designing a one-pass, zero-phase, non-causal lowpass filter:\n",
            "- Windowed time-domain design (firwin) method\n",
            "- Hamming window with 0.0194 passband ripple and 53 dB stopband attenuation\n",
            "- Upper passband edge: 75.00 Hz\n",
            "- Upper transition bandwidth: 18.75 Hz (-6 dB cutoff frequency: 84.38 Hz)\n",
            "- Filter length: 37 samples (0.185 sec)\n",
            "\n"
          ]
        },
        {
          "output_type": "stream",
          "name": "stderr",
          "text": [
            "[Parallel(n_jobs=1)]: Using backend SequentialBackend with 1 concurrent workers.\n",
            "[Parallel(n_jobs=1)]: Done   1 out of   1 | elapsed:    1.5s remaining:    0.0s\n",
            "[Parallel(n_jobs=1)]: Done   2 out of   2 | elapsed:    3.0s remaining:    0.0s\n",
            "[Parallel(n_jobs=1)]: Done   2 out of   2 | elapsed:    3.0s finished\n"
          ]
        },
        {
          "output_type": "stream",
          "name": "stdout",
          "text": [
            "42\n",
            "Extracting EDF parameters from /content/drive/MyDrive/sleep_edfx/data/sleep-telemetry/ST7241J0-PSG.edf...\n",
            "EDF file detected\n",
            "Setting channel info structure...\n",
            "Creating raw.info structure...\n",
            "Setting up low-pass filter at 75 Hz\n",
            "\n",
            "FIR filter parameters\n",
            "---------------------\n",
            "Designing a one-pass, zero-phase, non-causal lowpass filter:\n",
            "- Windowed time-domain design (firwin) method\n",
            "- Hamming window with 0.0194 passband ripple and 53 dB stopband attenuation\n",
            "- Upper passband edge: 75.00 Hz\n",
            "- Upper transition bandwidth: 18.75 Hz (-6 dB cutoff frequency: 84.38 Hz)\n",
            "- Filter length: 37 samples (0.185 sec)\n",
            "\n"
          ]
        },
        {
          "output_type": "stream",
          "name": "stderr",
          "text": [
            "[Parallel(n_jobs=1)]: Using backend SequentialBackend with 1 concurrent workers.\n",
            "[Parallel(n_jobs=1)]: Done   1 out of   1 | elapsed:    1.7s remaining:    0.0s\n",
            "[Parallel(n_jobs=1)]: Done   2 out of   2 | elapsed:    3.4s remaining:    0.0s\n",
            "[Parallel(n_jobs=1)]: Done   2 out of   2 | elapsed:    3.4s finished\n"
          ]
        },
        {
          "output_type": "stream",
          "name": "stdout",
          "text": [
            "43\n",
            "Extracting EDF parameters from /content/drive/MyDrive/sleep_edfx/data/sleep-telemetry/ST7242J0-PSG.edf...\n",
            "EDF file detected\n",
            "Setting channel info structure...\n",
            "Creating raw.info structure...\n",
            "Setting up low-pass filter at 75 Hz\n",
            "\n",
            "FIR filter parameters\n",
            "---------------------\n",
            "Designing a one-pass, zero-phase, non-causal lowpass filter:\n",
            "- Windowed time-domain design (firwin) method\n",
            "- Hamming window with 0.0194 passband ripple and 53 dB stopband attenuation\n",
            "- Upper passband edge: 75.00 Hz\n",
            "- Upper transition bandwidth: 18.75 Hz (-6 dB cutoff frequency: 84.38 Hz)\n",
            "- Filter length: 37 samples (0.185 sec)\n",
            "\n"
          ]
        },
        {
          "output_type": "stream",
          "name": "stderr",
          "text": [
            "[Parallel(n_jobs=1)]: Using backend SequentialBackend with 1 concurrent workers.\n",
            "[Parallel(n_jobs=1)]: Done   1 out of   1 | elapsed:    1.6s remaining:    0.0s\n",
            "[Parallel(n_jobs=1)]: Done   2 out of   2 | elapsed:    3.1s remaining:    0.0s\n",
            "[Parallel(n_jobs=1)]: Done   2 out of   2 | elapsed:    3.1s finished\n"
          ]
        }
      ]
    },
    {
      "cell_type": "code",
      "source": [],
      "metadata": {
        "id": "pjwgMQlXTQsG"
      },
      "execution_count": null,
      "outputs": []
    },
    {
      "cell_type": "code",
      "source": [
        "a = np.load('/content/drive/MyDrive/sleep_edfx/Preprocessed_EEG/ST/ST7011J0/ST7011J0_0.npz')"
      ],
      "metadata": {
        "id": "Mjwaf_k7TQ05"
      },
      "execution_count": null,
      "outputs": []
    },
    {
      "cell_type": "code",
      "source": [
        "a['y']"
      ],
      "metadata": {
        "colab": {
          "base_uri": "https://localhost:8080/"
        },
        "id": "lq0GbfE9TZ69",
        "outputId": "24d00324-5828-4b69-8af4-0e6bb5615450"
      },
      "execution_count": null,
      "outputs": [
        {
          "output_type": "execute_result",
          "data": {
            "text/plain": [
              "array('W', dtype='<U1')"
            ]
          },
          "metadata": {},
          "execution_count": 15
        }
      ]
    },
    {
      "cell_type": "code",
      "source": [
        "i = 125\n",
        "subjetc_id = trains_SC[i].split('/')[-1].split('-')[0]\n",
        "adress = '/content/drive/MyDrive/sleep_edfx/Preprocessed_EEG/SC'\n",
        "\n",
        "\n",
        "data_adress = adress +'/{}'.format(subjetc_id)\n",
        "    # load signal and upsampling\n",
        "data = mne.io.read_raw_edf(trains_SC[i])\n",
        "data = data.get_data()[:2,:]\n",
        "data = mne.filter.resample(data, up = 2.0) # upsampling to 200Hz  \n",
        "data = mne.filter.filter_data(data, sfreq = 200, l_freq=0., h_freq=75.)\n",
        "    \n",
        "    # load annotaion\n",
        "ann = mne.read_annotations(labels_SC[i])\n",
        "labels = []\n",
        "for dur, des in zip(ann.duration, ann.description):\n",
        "    for i in range(int(dur) // 30):\n",
        "        labels.append(des[-1])\n",
        "\n",
        "for slice_index in range(data.shape[1] // (200 * 30)): # 200Hz, 30epochs\n",
        "    # ingore the no labels\n",
        "    if labels[slice_index] == '?':\n",
        "        continue\n",
        "            \n",
        "    data_path = data_adress +'/'+ str(subjetc_id) + '_' + str(slice_index) + '.npz'\n",
        "    X = data[:, slice_index * 200 * 30: (slice_index+1) * 200 * 30]\n",
        "    Y = labels[slice_index]\n",
        "    np.savez(data_path, x = X, y = Y)\n",
        "        "
      ],
      "metadata": {
        "colab": {
          "base_uri": "https://localhost:8080/"
        },
        "id": "zSeWWi-AnvGU",
        "outputId": "615ca0bc-1ec8-4bb4-9cf8-53ce50ac558d"
      },
      "execution_count": null,
      "outputs": [
        {
          "output_type": "stream",
          "name": "stdout",
          "text": [
            "Extracting EDF parameters from /content/drive/MyDrive/sleep_edfx/data/sleep-cassette/SC4651E0-PSG.edf...\n",
            "EDF file detected\n",
            "Setting channel info structure...\n",
            "Creating raw.info structure...\n",
            "Setting up low-pass filter at 75 Hz\n",
            "\n",
            "FIR filter parameters\n",
            "---------------------\n",
            "Designing a one-pass, zero-phase, non-causal lowpass filter:\n",
            "- Windowed time-domain design (firwin) method\n",
            "- Hamming window with 0.0194 passband ripple and 53 dB stopband attenuation\n",
            "- Upper passband edge: 75.00 Hz\n",
            "- Upper transition bandwidth: 18.75 Hz (-6 dB cutoff frequency: 84.38 Hz)\n",
            "- Filter length: 37 samples (0.185 sec)\n",
            "\n"
          ]
        },
        {
          "output_type": "stream",
          "name": "stderr",
          "text": [
            "[Parallel(n_jobs=1)]: Using backend SequentialBackend with 1 concurrent workers.\n",
            "[Parallel(n_jobs=1)]: Done   1 out of   1 | elapsed:    5.0s remaining:    0.0s\n",
            "[Parallel(n_jobs=1)]: Done   2 out of   2 | elapsed:   10.6s remaining:    0.0s\n",
            "[Parallel(n_jobs=1)]: Done   2 out of   2 | elapsed:   10.6s finished\n"
          ]
        }
      ]
    }
  ]
}