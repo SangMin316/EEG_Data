{
  "nbformat": 4,
  "nbformat_minor": 0,
  "metadata": {
    "colab": {
      "provenance": [],
      "collapsed_sections": [],
      "include_colab_link": true
    },
    "kernelspec": {
      "name": "python3",
      "display_name": "Python 3"
    },
    "language_info": {
      "name": "python"
    },
    "accelerator": "GPU"
  },
  "cells": [
    {
      "cell_type": "markdown",
      "metadata": {
        "id": "view-in-github",
        "colab_type": "text"
      },
      "source": [
        "<a href=\"https://colab.research.google.com/github/SangMin316/EEG_Data/blob/main/221004_CHB_MIT_test_(1).ipynb\" target=\"_parent\"><img src=\"https://colab.research.google.com/assets/colab-badge.svg\" alt=\"Open In Colab\"/></a>"
      ]
    },
    {
      "cell_type": "code",
      "source": [
        "from google.colab import drive\n",
        "drive.mount('/content/drive')"
      ],
      "metadata": {
        "colab": {
          "base_uri": "https://localhost:8080/"
        },
        "id": "06OzyPkl6Nt1",
        "outputId": "bc3921f6-e064-4b9f-bc0b-7662cb5656b2"
      },
      "execution_count": null,
      "outputs": [
        {
          "output_type": "stream",
          "name": "stdout",
          "text": [
            "Mounted at /content/drive\n"
          ]
        }
      ]
    },
    {
      "cell_type": "code",
      "source": [
        "import gc\n",
        "gc.collect()"
      ],
      "metadata": {
        "colab": {
          "base_uri": "https://localhost:8080/"
        },
        "id": "MmY95W-j8zFn",
        "outputId": "dc9fdcd9-dbd7-48c0-c9d7-2f6b336bd840"
      },
      "execution_count": null,
      "outputs": [
        {
          "output_type": "execute_result",
          "data": {
            "text/plain": [
              "36"
            ]
          },
          "metadata": {},
          "execution_count": 2
        }
      ]
    },
    {
      "cell_type": "code",
      "source": [
        "from typing_extensions import dataclass_transform\n",
        "from scipy import signal\n",
        "from torch.utils.data import Dataset\n",
        "import torch\n",
        "import numpy as np\n",
        "import torch.nn as nn\n",
        "\n",
        "# 임시적으로 reprentation을 받는 방법,,\n",
        "class CHB_MIT_Dataset(Dataset):\n",
        "    def __init__(self, idxs, ssl=True, sfreq=200, ratio = None):\n",
        "        #self.path = os.getcwd()\n",
        "        self.path = '/content/drive/MyDrive/EEG_data/CHB_MIT/'\n",
        "\n",
        "        # temporal\n",
        "        temporal_rept = np.load('/content/drive/MyDrive/EEG_data/CHB_MIT/feature/rept_100Hz_(20,0.75,0.75).npy')\n",
        "      \n",
        "        #sepctral\n",
        "        spectral_rept = np.load('/content/drive/MyDrive/EEG_data/CHB_MIT/feature/spec_feature.npy')\n",
        "        \n",
        "        #spatial\n",
        "        spatial_rept = np.load('/content/drive/MyDrive/EEG_data/CHB_MIT/feature/feature_save.npy')\n",
        "\n",
        "\n",
        "        labels = []        \n",
        "        for idx in idxs:\n",
        "            y = np.load(self.path +  'label/' + f'Data_Label{idx:02d}.npy')\n",
        "            labels.append(y)\n",
        "\n",
        "        del  y\n",
        "        labels = np.array(np.concatenate(labels, axis=0))\n",
        "        labels = torch.tensor(labels).long()\n",
        "        labels = nn.functional.one_hot(labels,num_classes=2)\n",
        "\n",
        "        # data = np.concatenate(data, axis=0)\n",
        "        \n",
        "        # data = signal.resample(data, sfreq)\n",
        "\n",
        "        self.spectral_rept = spectral_rept\n",
        "        self.temporal_rept = temporal_rept\n",
        "        self.spatial_rept = spatial_rept\n",
        "       \n",
        "        self.labels = labels\n",
        "        self.ssl = ssl\n",
        "        self.sfreq = sfreq\n",
        "\n",
        "    def __len__(self):\n",
        "        return self.temporal_rept.shape[0]\n",
        "\n",
        "    def __getitem__(self, item):\n",
        "        return { 'spectral' : torch.tensor(self.spectral_rept[item]),\n",
        "                 'spatial'  : torch.tensor(self.spatial_rept[item]),\n",
        "                 'temporal' : torch.tensor(self.temporal_rept[item]),\n",
        "                  'label' : self.labels[item]\n",
        "                }"
      ],
      "metadata": {
        "id": "JZ124vrFJ2AS"
      },
      "execution_count": null,
      "outputs": []
    },
    {
      "cell_type": "code",
      "source": [
        "a = np.load('/content/drive/MyDrive/EEG_data/CHB_MIT/feature/feature_save.npy')"
      ],
      "metadata": {
        "id": "wf0t_HKzJjhi"
      },
      "execution_count": null,
      "outputs": []
    },
    {
      "cell_type": "code",
      "source": [
        "a.shape"
      ],
      "metadata": {
        "colab": {
          "base_uri": "https://localhost:8080/"
        },
        "id": "6Lk7pI3VsSdk",
        "outputId": "f9499180-c1b7-4090-e05a-ea74df978c51"
      },
      "execution_count": null,
      "outputs": [
        {
          "output_type": "execute_result",
          "data": {
            "text/plain": [
              "(4083, 60)"
            ]
          },
          "metadata": {},
          "execution_count": 5
        }
      ]
    },
    {
      "cell_type": "code",
      "source": [
        "idx = list(range(1,21))\n",
        "CHBdataset = CHB_MIT_Dataset(idx)\n"
      ],
      "metadata": {
        "id": "4UNWGu798KWg"
      },
      "execution_count": null,
      "outputs": []
    },
    {
      "cell_type": "code",
      "source": [
        "train_size = int(0.8 * len(CHBdataset))\n",
        "val_size = int(0.1 * len(CHBdataset))\n",
        "test_size = len(CHBdataset) - train_size - val_size\n",
        "train_dataset, val_dataset, test_dataset = torch.utils.data.random_split(CHBdataset, [train_size, val_size, test_size],\n",
        "                                                                         generator=torch.Generator().manual_seed(16))"
      ],
      "metadata": {
        "id": "QQuUzwOl8h3u"
      },
      "execution_count": null,
      "outputs": []
    },
    {
      "cell_type": "code",
      "source": [
        "from torch.utils.data import DataLoader\n",
        "\n",
        "trainLoader = DataLoader(train_dataset, batch_size = 128, shuffle=False)"
      ],
      "metadata": {
        "id": "ksRkTTmC8O39"
      },
      "execution_count": null,
      "outputs": []
    },
    {
      "cell_type": "code",
      "source": [
        "for batch_idx, batch in enumerate(trainLoader):\n",
        "  print( 'n:',batch_idx, '' , batch['temporal'].shape, '',batch['spectral'].shape ,'label: ', batch['label'].shape)"
      ],
      "metadata": {
        "colab": {
          "base_uri": "https://localhost:8080/"
        },
        "id": "QAOAUs-s_BMY",
        "outputId": "96de58eb-de39-47c4-ffb6-9e49cc6df841"
      },
      "execution_count": null,
      "outputs": [
        {
          "output_type": "stream",
          "name": "stdout",
          "text": [
            "n: 0  torch.Size([128, 23, 64, 100])  torch.Size([128, 23, 64]) label:  torch.Size([128, 2])\n",
            "n: 1  torch.Size([128, 23, 64, 100])  torch.Size([128, 23, 64]) label:  torch.Size([128, 2])\n",
            "n: 2  torch.Size([128, 23, 64, 100])  torch.Size([128, 23, 64]) label:  torch.Size([128, 2])\n",
            "n: 3  torch.Size([128, 23, 64, 100])  torch.Size([128, 23, 64]) label:  torch.Size([128, 2])\n",
            "n: 4  torch.Size([128, 23, 64, 100])  torch.Size([128, 23, 64]) label:  torch.Size([128, 2])\n",
            "n: 5  torch.Size([128, 23, 64, 100])  torch.Size([128, 23, 64]) label:  torch.Size([128, 2])\n",
            "n: 6  torch.Size([128, 23, 64, 100])  torch.Size([128, 23, 64]) label:  torch.Size([128, 2])\n",
            "n: 7  torch.Size([128, 23, 64, 100])  torch.Size([128, 23, 64]) label:  torch.Size([128, 2])\n",
            "n: 8  torch.Size([128, 23, 64, 100])  torch.Size([128, 23, 64]) label:  torch.Size([128, 2])\n",
            "n: 9  torch.Size([128, 23, 64, 100])  torch.Size([128, 23, 64]) label:  torch.Size([128, 2])\n",
            "n: 10  torch.Size([128, 23, 64, 100])  torch.Size([128, 23, 64]) label:  torch.Size([128, 2])\n",
            "n: 11  torch.Size([128, 23, 64, 100])  torch.Size([128, 23, 64]) label:  torch.Size([128, 2])\n",
            "n: 12  torch.Size([128, 23, 64, 100])  torch.Size([128, 23, 64]) label:  torch.Size([128, 2])\n",
            "n: 13  torch.Size([128, 23, 64, 100])  torch.Size([128, 23, 64]) label:  torch.Size([128, 2])\n",
            "n: 14  torch.Size([128, 23, 64, 100])  torch.Size([128, 23, 64]) label:  torch.Size([128, 2])\n",
            "n: 15  torch.Size([128, 23, 64, 100])  torch.Size([128, 23, 64]) label:  torch.Size([128, 2])\n",
            "n: 16  torch.Size([128, 23, 64, 100])  torch.Size([128, 23, 64]) label:  torch.Size([128, 2])\n",
            "n: 17  torch.Size([128, 23, 64, 100])  torch.Size([128, 23, 64]) label:  torch.Size([128, 2])\n",
            "n: 18  torch.Size([128, 23, 64, 100])  torch.Size([128, 23, 64]) label:  torch.Size([128, 2])\n",
            "n: 19  torch.Size([128, 23, 64, 100])  torch.Size([128, 23, 64]) label:  torch.Size([128, 2])\n",
            "n: 20  torch.Size([128, 23, 64, 100])  torch.Size([128, 23, 64]) label:  torch.Size([128, 2])\n",
            "n: 21  torch.Size([128, 23, 64, 100])  torch.Size([128, 23, 64]) label:  torch.Size([128, 2])\n",
            "n: 22  torch.Size([128, 23, 64, 100])  torch.Size([128, 23, 64]) label:  torch.Size([128, 2])\n",
            "n: 23  torch.Size([128, 23, 64, 100])  torch.Size([128, 23, 64]) label:  torch.Size([128, 2])\n",
            "n: 24  torch.Size([128, 23, 64, 100])  torch.Size([128, 23, 64]) label:  torch.Size([128, 2])\n",
            "n: 25  torch.Size([66, 23, 64, 100])  torch.Size([66, 23, 64]) label:  torch.Size([66, 2])\n"
          ]
        }
      ]
    },
    {
      "cell_type": "code",
      "source": [
        "batch['label']"
      ],
      "metadata": {
        "colab": {
          "base_uri": "https://localhost:8080/"
        },
        "id": "p9RLGGExL-iX",
        "outputId": "06b5f1c7-ac5d-40a7-d4d1-b33f81900935"
      },
      "execution_count": null,
      "outputs": [
        {
          "output_type": "execute_result",
          "data": {
            "text/plain": [
              "tensor([[0, 1],\n",
              "        [0, 1],\n",
              "        [0, 1],\n",
              "        [1, 0],\n",
              "        [1, 0],\n",
              "        [1, 0],\n",
              "        [0, 1],\n",
              "        [1, 0],\n",
              "        [0, 1],\n",
              "        [1, 0],\n",
              "        [1, 0],\n",
              "        [1, 0],\n",
              "        [1, 0],\n",
              "        [1, 0],\n",
              "        [1, 0],\n",
              "        [0, 1],\n",
              "        [1, 0],\n",
              "        [1, 0],\n",
              "        [1, 0],\n",
              "        [1, 0],\n",
              "        [0, 1],\n",
              "        [0, 1],\n",
              "        [1, 0],\n",
              "        [0, 1],\n",
              "        [1, 0],\n",
              "        [0, 1],\n",
              "        [1, 0],\n",
              "        [1, 0],\n",
              "        [0, 1],\n",
              "        [1, 0],\n",
              "        [0, 1],\n",
              "        [1, 0],\n",
              "        [1, 0],\n",
              "        [0, 1],\n",
              "        [1, 0],\n",
              "        [1, 0],\n",
              "        [1, 0],\n",
              "        [0, 1],\n",
              "        [1, 0],\n",
              "        [1, 0],\n",
              "        [0, 1],\n",
              "        [1, 0],\n",
              "        [1, 0],\n",
              "        [1, 0],\n",
              "        [1, 0],\n",
              "        [0, 1],\n",
              "        [1, 0],\n",
              "        [1, 0],\n",
              "        [1, 0],\n",
              "        [1, 0],\n",
              "        [1, 0],\n",
              "        [1, 0],\n",
              "        [1, 0],\n",
              "        [1, 0],\n",
              "        [0, 1],\n",
              "        [1, 0],\n",
              "        [0, 1],\n",
              "        [0, 1],\n",
              "        [0, 1],\n",
              "        [0, 1],\n",
              "        [1, 0],\n",
              "        [0, 1],\n",
              "        [0, 1],\n",
              "        [1, 0],\n",
              "        [1, 0],\n",
              "        [0, 1]])"
            ]
          },
          "metadata": {},
          "execution_count": 10
        }
      ]
    },
    {
      "cell_type": "code",
      "source": [
        "!pip install separableconv-torch"
      ],
      "metadata": {
        "colab": {
          "base_uri": "https://localhost:8080/"
        },
        "id": "vm9zYkO8KWhi",
        "outputId": "c9042301-3dca-48f6-a349-907723af3ac7"
      },
      "execution_count": null,
      "outputs": [
        {
          "output_type": "stream",
          "name": "stdout",
          "text": [
            "Looking in indexes: https://pypi.org/simple, https://us-python.pkg.dev/colab-wheels/public/simple/\n",
            "Collecting separableconv-torch\n",
            "  Downloading separableconv_torch-0.1.0-py3-none-any.whl (11 kB)\n",
            "Requirement already satisfied: torch in /usr/local/lib/python3.7/dist-packages (from separableconv-torch) (1.12.1+cu113)\n",
            "Requirement already satisfied: numpy in /usr/local/lib/python3.7/dist-packages (from separableconv-torch) (1.21.6)\n",
            "Requirement already satisfied: torchvision in /usr/local/lib/python3.7/dist-packages (from separableconv-torch) (0.13.1+cu113)\n",
            "Requirement already satisfied: typing-extensions in /usr/local/lib/python3.7/dist-packages (from torch->separableconv-torch) (4.1.1)\n",
            "Requirement already satisfied: requests in /usr/local/lib/python3.7/dist-packages (from torchvision->separableconv-torch) (2.23.0)\n",
            "Requirement already satisfied: pillow!=8.3.*,>=5.3.0 in /usr/local/lib/python3.7/dist-packages (from torchvision->separableconv-torch) (7.1.2)\n",
            "Requirement already satisfied: idna<3,>=2.5 in /usr/local/lib/python3.7/dist-packages (from requests->torchvision->separableconv-torch) (2.10)\n",
            "Requirement already satisfied: urllib3!=1.25.0,!=1.25.1,<1.26,>=1.21.1 in /usr/local/lib/python3.7/dist-packages (from requests->torchvision->separableconv-torch) (1.24.3)\n",
            "Requirement already satisfied: chardet<4,>=3.0.2 in /usr/local/lib/python3.7/dist-packages (from requests->torchvision->separableconv-torch) (3.0.4)\n",
            "Requirement already satisfied: certifi>=2017.4.17 in /usr/local/lib/python3.7/dist-packages (from requests->torchvision->separableconv-torch) (2022.6.15)\n",
            "Installing collected packages: separableconv-torch\n",
            "Successfully installed separableconv-torch-0.1.0\n"
          ]
        }
      ]
    },
    {
      "cell_type": "code",
      "source": [
        "import numpy as np\n",
        "import torch\n",
        "import torch.nn as nn\n",
        "import separableconv.nn as nn\n",
        "\n",
        "class FeatureEncoder(nn.Module):\n",
        "    def __init__(self,x):\n",
        "        super(FeatureEncoder, self).__init__()\n",
        "        self.sepctral_rept = x['spectral']\n",
        "        self.temporal_rept = x['temporal']\n",
        "        self.spatial_rept = x['spatial']\n",
        "        \n",
        "        #self.GVP = torch.var(dim=-1)\n",
        "\n",
        "    def Temporal_GAP(self, x):\n",
        "         #  x.shape = batch,  channel, feature, time -->\n",
        "        a = torch.tensor(x)\n",
        "        a = torch.mean(a, 1) # channel\n",
        "        a = torch.mean(a, 2) # time\n",
        "        return a\n",
        "\n",
        "    def Temporal_GVP(self, x):\n",
        "         #  x.shape = batch,  channel, feature, time -->\n",
        "        a = torch.tensor(x)\n",
        "        a = torch.var(a, 1) # channel\n",
        "        a = torch.var(a, 2) # time\n",
        "        return a    \n",
        "\n",
        "    def forward(self):\n",
        "        f_1 = self.sepctral_rept\n",
        "        f_2 = self.temporal_rept\n",
        "\n",
        "        f_GAP = torch.cat((torch.mean(f_1,1), self.Temporal_GAP(f_2), self.spatial_rept) , axis=1)\n",
        "        f_GVP = torch.cat((torch.var(f_1, dim=1), self.Temporal_GVP(f_2), self.spatial_rept), axis=1)\n",
        "        # GVP가 정확하지가 않음,,\n",
        "\n",
        "        return  f_GAP, f_GVP\n",
        "\n",
        "\n",
        "class StatisticianModule(nn.Module):\n",
        "    def __init__(self, dense, classes):\n",
        "        super(StatisticianModule, self).__init__()\n",
        "        self.classes = classes\n",
        "\n",
        "        self.softmax = torch.nn.Softmax(dim=1)\n",
        "        self.c_dense = nn.Linear(int(64*2*2 + 60*2),dense ) #376 = sum(i=3) represntation*2 \n",
        "\n",
        "        self.gap_pwconv = nn.Conv1d(int(64*2 + 60), dense, 1)\n",
        "        self.gvp_pwconv = nn.Conv1d(int(64*2 + 60), dense, 1)\n",
        "\n",
        "        self.fullconnect = nn.Linear(int(64*2+60), self.classes)\n",
        "\n",
        "\n",
        "    def forward(self, f_GAP, f_GVP):\n",
        "        #[batch, gap+gvp] -> [batch,dense]\n",
        "      \n",
        "        c = self.softmax(self.c_dense(torch.cat((f_GAP, f_GVP),axis=1)))\n",
        "\n",
        "        #[batch, gap, 1] -> [batch, 1, dense] -> [batch, dense]\n",
        "        f_GAP_d = self.gap_pwconv(f_GAP.unsqueeze(dim=-1)).squeeze()\n",
        "        f_GVP_d = self.gvp_pwconv(f_GVP.unsqueeze(dim=-1)).squeeze()\n",
        "        \n",
        "        f_GAP_dd = torch.sum(c*f_GAP_d,dim=1)\n",
        "        f_GVP_dd = torch.sum(c*f_GVP_d,dim=1)\n",
        "       \n",
        "        \n",
        "        ALN = torch.div(torch.sub(f_GAP.T,f_GAP_dd),f_GAP_dd).T\n",
        "\n",
        "        y_hat = self.fullconnect(ALN)\n",
        "        # print('y_hat: ',y_hat.shape)\n",
        "        return y_hat"
      ],
      "metadata": {
        "id": "h3bHNu5vCz4v"
      },
      "execution_count": null,
      "outputs": []
    },
    {
      "cell_type": "code",
      "source": [
        "epochs = 40\n",
        "learning_rate = 0.001\n",
        "batch_size = 1024\n",
        "model = StatisticianModule(300,2)\n",
        "optimizer = torch.optim.Adam(model.parameters(), lr=learning_rate)\n",
        "\n",
        "trainLoader = DataLoader(train_dataset, batch_size = batch_size, shuffle=False)\n",
        "valLoader = DataLoader(val_dataset, batch_size = batch_size, shuffle=False)\n",
        "testLoader = DataLoader(test_dataset, batch_size = batch_size, shuffle=False)\n"
      ],
      "metadata": {
        "id": "Mg_nmDT_iPbf"
      },
      "execution_count": null,
      "outputs": []
    },
    {
      "cell_type": "code",
      "source": [
        "import os\n",
        "os.environ[\"CUDA_VISIBLE_DEVICES\"] = \"0\"\n",
        "device = torch.device(\"cuda:0\" if torch.cuda.is_available() else \"cpu\")\n",
        "#torch.device(\"cuda:0\" if torch.cuda.is_available() else \"cpu\")\n",
        "#\"cpu\"\n",
        "print(device)"
      ],
      "metadata": {
        "colab": {
          "base_uri": "https://localhost:8080/"
        },
        "id": "ttY1f8Y_7KLc",
        "outputId": "9dc337f1-c5b2-435c-f16e-7b6c9343333e"
      },
      "execution_count": null,
      "outputs": [
        {
          "output_type": "stream",
          "name": "stdout",
          "text": [
            "cuda:0\n"
          ]
        }
      ]
    },
    {
      "cell_type": "code",
      "source": [
        "loss_tr = []\n",
        "loss_val = []\n",
        "acc_tr = []\n",
        "acc_val = []\n",
        "for epoch in range(epochs):\n",
        "    loss_ep = 0  # add batch loss in epoch\n",
        "    acc_ep = 0\n",
        "    for batch_idx, batch in enumerate(trainLoader):\n",
        "        optimizer.zero_grad()\n",
        "        f_GAP, f_GVP =  FeatureEncoder(batch).forward()\n",
        "        pred  = model.forward(f_GAP, f_GVP).to(device)\n",
        "        CrossEL = torch.nn.CrossEntropyLoss()\n",
        "        label = batch['label'].type(torch.float64).to(device)\n",
        "        # label = batch['label'].to(device)\n",
        "        # print(pred.shape)\n",
        "        loss = CrossEL(pred, label)\n",
        "        loss.backward(retain_graph=True)\n",
        "        optimizer.step() \n",
        "\n",
        "        _, label =  torch.max(label, 1)  \n",
        "        _, predicted = torch.max(pred, 1)\n",
        "        acc = (predicted == label).sum().item()\n",
        "        acc = acc/batch['label'].shape[0] #batch size로 나눠주는 거\n",
        "        loss_ep += loss.item()\n",
        "        # print('acc:', acc)\n",
        "        acc_ep += acc\n",
        "\n",
        "    loss_tr.append((loss_ep)/len(trainLoader))\n",
        "    acc_tr.append((acc_ep)/len(trainLoader))        \n",
        "\n",
        "    loss_ep_val = 0\n",
        "    acc_ep_val = 0\n",
        "    \n",
        "    for batch_idx, batch in enumerate(valLoader):\n",
        "        f_GAP, f_GVP =  FeatureEncoder(batch).forward()\n",
        "        pred  = model.forward(f_GAP, f_GVP).to(device)\n",
        "        CrossEL = torch.nn.CrossEntropyLoss()\n",
        "        label = batch['label'].type(torch.float64).to(device)\n",
        "        loss = CrossEL(pred, label)\n",
        "        \n",
        "        _, label =  torch.max(label, 1)  \n",
        "        _, predicted = torch.max(pred, 1)\n",
        "        acc = (predicted == label).sum().item()\n",
        "        acc = acc/batch['label'].shape[0] \n",
        "\n",
        "        loss_ep_val += loss.item()\n",
        "        acc_ep_val += acc\n",
        "\n",
        "    loss_val.append((loss_ep_val)/len(valLoader))\n",
        "    acc_val.append((acc_ep_val)/len(valLoader))\n",
        "    print(\"epoch : \", epoch, \"  train loss : \", loss_tr[epoch], 'train acc : ', acc_tr[epoch], \"    val loss : \", loss_val[epoch], 'val acc : ', acc_val[epoch])\n",
        "        \n",
        "\n"
      ],
      "metadata": {
        "colab": {
          "base_uri": "https://localhost:8080/"
        },
        "id": "eEnhXWVI3so0",
        "outputId": "652a9121-30fb-4b15-c7a8-eb288ad20c52"
      },
      "execution_count": null,
      "outputs": [
        {
          "output_type": "stream",
          "name": "stderr",
          "text": [
            "/usr/local/lib/python3.7/dist-packages/ipykernel_launcher.py:17: UserWarning: To copy construct from a tensor, it is recommended to use sourceTensor.clone().detach() or sourceTensor.clone().detach().requires_grad_(True), rather than torch.tensor(sourceTensor).\n",
            "/usr/local/lib/python3.7/dist-packages/ipykernel_launcher.py:24: UserWarning: To copy construct from a tensor, it is recommended to use sourceTensor.clone().detach() or sourceTensor.clone().detach().requires_grad_(True), rather than torch.tensor(sourceTensor).\n"
          ]
        },
        {
          "output_type": "stream",
          "name": "stdout",
          "text": [
            "epoch :  0   train loss :  14.99903521863733 train acc :  0.5443278833762887     val loss :  0.6287127837456543 val acc :  0.6323529411764706\n",
            "epoch :  1   train loss :  0.651161633392475 train acc :  0.6563078890141752     val loss :  0.658029584670622 val acc :  0.6617647058823529\n",
            "epoch :  2   train loss :  0.6932508042584429 train acc :  0.654395034632732     val loss :  0.7216786748693124 val acc :  0.6470588235294118\n",
            "epoch :  3   train loss :  0.7392004241487625 train acc :  0.6596579010953608     val loss :  0.7534704476905366 val acc :  0.6519607843137255\n",
            "epoch :  4   train loss :  0.7559359306163426 train acc :  0.6611227448453608     val loss :  0.7551006122181813 val acc :  0.6519607843137255\n",
            "epoch :  5   train loss :  0.747914696839074 train acc :  0.6608786042203608     val loss :  0.7360252126521778 val acc :  0.6519607843137255\n",
            "epoch :  6   train loss :  0.7240932517967764 train acc :  0.6611227448453608     val loss :  0.7058523445408426 val acc :  0.6519607843137255\n",
            "epoch :  7   train loss :  0.6931529995576262 train acc :  0.6603903229703608     val loss :  0.6729051114297381 val acc :  0.6470588235294118\n",
            "epoch :  8   train loss :  0.6623839479293143 train acc :  0.6583692413015464     val loss :  0.6435944625706065 val acc :  0.6446078431372549\n",
            "epoch :  9   train loss :  0.6370330390984105 train acc :  0.6569723542203608     val loss :  0.6218320684251832 val acc :  0.6470588235294118\n",
            "epoch :  10   train loss :  0.6197708200644351 train acc :  0.6550192292203608     val loss :  0.608709003794573 val acc :  0.6642156862745098\n",
            "epoch :  11   train loss :  0.6105955526456699 train acc :  0.6585051546391752     val loss :  0.6028520307485379 val acc :  0.6691176470588235\n",
            "epoch :  12   train loss :  0.6074735229660442 train acc :  0.6589254792203608     val loss :  0.6015182587080726 val acc :  0.6691176470588235\n",
            "epoch :  13   train loss :  0.6075628710108523 train acc :  0.6631438265141752     val loss :  0.601948701612213 val acc :  0.6642156862745098\n",
            "epoch :  14   train loss :  0.6084384211878677 train acc :  0.6624114046391752     val loss :  0.6023207478517411 val acc :  0.6568627450980392\n",
            "epoch :  15   train loss :  0.6087600421571888 train acc :  0.6657211461018041     val loss :  0.6019719551664356 val acc :  0.6544117647058824\n",
            "epoch :  16   train loss :  0.6082479742935996 train acc :  0.6638762483891752     val loss :  0.6010510069044197 val acc :  0.6617647058823529\n",
            "epoch :  17   train loss :  0.6072332349708022 train acc :  0.6612989288015464     val loss :  0.5999889751786694 val acc :  0.6666666666666666\n",
            "epoch :  18   train loss :  0.6061649563677006 train acc :  0.6626555452641752     val loss :  0.5991141059454165 val acc :  0.6666666666666666\n",
            "epoch :  19   train loss :  0.6053186131840195 train acc :  0.6641883456829897     val loss :  0.598520860587265 val acc :  0.6642156862745098\n",
            "epoch :  20   train loss :  0.6047420992702418 train acc :  0.6624793613079897     val loss :  0.5981277431197026 val acc :  0.6691176470588235\n",
            "epoch :  21   train loss :  0.6043442343903247 train acc :  0.6631438265141752     val loss :  0.5977993713801398 val acc :  0.6764705882352942\n",
            "epoch :  22   train loss :  0.6040083493925588 train acc :  0.6649207675579897     val loss :  0.5974373073846686 val acc :  0.6715686274509803\n",
            "epoch :  23   train loss :  0.603661054702542 train acc :  0.6649207675579897     val loss :  0.5970094853866041 val acc :  0.6715686274509803\n",
            "epoch :  24   train loss :  0.6032843439510562 train acc :  0.6666977086018041     val loss :  0.5965331500651789 val acc :  0.6715686274509803\n",
            "epoch :  25   train loss :  0.602893587817271 train acc :  0.6664535679768041     val loss :  0.5960423653835759 val acc :  0.6691176470588235\n",
            "epoch :  26   train loss :  0.6025100515606064 train acc :  0.6652328648518041     val loss :  0.5955636901233126 val acc :  0.6691176470588235\n",
            "epoch :  27   train loss :  0.6021446965028519 train acc :  0.6649887242268041     val loss :  0.5951080289395416 val acc :  0.6642156862745098\n",
            "epoch :  28   train loss :  0.6017963286457106 train acc :  0.6670098058956185     val loss :  0.594674274343632 val acc :  0.6691176470588235\n",
            "epoch :  29   train loss :  0.6014576326899221 train acc :  0.6672539465206185     val loss :  0.5942569245018211 val acc :  0.6666666666666666\n",
            "epoch :  30   train loss :  0.6011218926254627 train acc :  0.6659652867268041     val loss :  0.5938512325907747 val acc :  0.6642156862745098\n",
            "epoch :  31   train loss :  0.6007860281680251 train acc :  0.6659652867268041     val loss :  0.5934546718045193 val acc :  0.6642156862745098\n",
            "epoch :  32   train loss :  0.6004501764407381 train acc :  0.6664535679768041     val loss :  0.5930660041231735 val acc :  0.6642156862745098\n",
            "epoch :  33   train loss :  0.600115798044405 train acc :  0.6664535679768041     val loss :  0.5926841331791937 val acc :  0.6617647058823529\n",
            "epoch :  34   train loss :  0.5997841022963445 train acc :  0.6657211461018041     val loss :  0.5923076509041529 val acc :  0.6617647058823529\n",
            "epoch :  35   train loss :  0.5994556133446542 train acc :  0.6659652867268041     val loss :  0.5919353070066256 val acc :  0.6617647058823529\n",
            "epoch :  36   train loss :  0.5991303267872298 train acc :  0.6664535679768041     val loss :  0.5915663928596997 val acc :  0.6617647058823529\n",
            "epoch :  37   train loss :  0.5988082175625414 train acc :  0.6662094273518041     val loss :  0.5912009335177786 val acc :  0.6617647058823529\n",
            "epoch :  38   train loss :  0.598489331160195 train acc :  0.6662094273518041     val loss :  0.5908395030042705 val acc :  0.6617647058823529\n",
            "epoch :  39   train loss :  0.5981737430298268 train acc :  0.6662094273518041     val loss :  0.5904828562748198 val acc :  0.6617647058823529\n"
          ]
        }
      ]
    },
    {
      "cell_type": "code",
      "source": [
        "batch['label'].shape[0]"
      ],
      "metadata": {
        "colab": {
          "base_uri": "https://localhost:8080/"
        },
        "id": "sFnvA8Gq6Cjt",
        "outputId": "bd132284-6f2c-4df2-9049-257bed6702c7"
      },
      "execution_count": null,
      "outputs": [
        {
          "output_type": "execute_result",
          "data": {
            "text/plain": [
              "408"
            ]
          },
          "metadata": {},
          "execution_count": 21
        }
      ]
    },
    {
      "cell_type": "code",
      "source": [
        "import pandas as pd\n",
        "# 실험결과를 excel로 저장하는 방법\n",
        "col = ['loss_tr','loss_val','acc_tr','acc_val']\n",
        "data = np.array([loss_tr,\n",
        "                 loss_val,\n",
        "                 acc_tr,\n",
        "                 acc_val])\n",
        "print(data.shape)\n",
        "data = np.transpose(data)\n",
        "df = pd.DataFrame(data = data, columns= col)\n",
        "df.to_excel('CHB_100Hz.xlsx', index = False)"
      ],
      "metadata": {
        "colab": {
          "base_uri": "https://localhost:8080/"
        },
        "id": "aHb22LwZ44el",
        "outputId": "101a8e4f-4593-48a3-a3b3-1cf6a12e2abf"
      },
      "execution_count": null,
      "outputs": [
        {
          "output_type": "stream",
          "name": "stdout",
          "text": [
            "(4, 40)\n"
          ]
        }
      ]
    },
    {
      "cell_type": "code",
      "source": [
        "import matplotlib.pyplot as plt\n",
        "  \n",
        "# plt.figure(figsize =(15, 10))\n",
        "plt.plot(range(epochs), loss_tr, color='red')\n",
        "plt.plot(range(epochs), loss_val, color='blue')\n",
        "plt.title('CHB_MIT Loss')\n",
        "plt.xlabel('epochs')\n",
        "plt.ylabel('loss')\n",
        "plt.legend(['Train', 'Validation'], loc='upper right')\n",
        "plt.savefig('CHB_100Hz_loss.png',bbox_inches = 'tight')\n",
        "plt.show() "
      ],
      "metadata": {
        "colab": {
          "base_uri": "https://localhost:8080/",
          "height": 295
        },
        "id": "K7x8bXNj38AJ",
        "outputId": "8bd9b18f-470e-4b89-c8b2-2b2de9ccf2c0"
      },
      "execution_count": null,
      "outputs": [
        {
          "output_type": "display_data",
          "data": {
            "text/plain": [
              "<Figure size 432x288 with 1 Axes>"
            ],
            "image/png": "[encoded data removed]"
          },
          "metadata": {
            "needs_background": "light"
          }
        }
      ]
    },
    {
      "cell_type": "code",
      "source": [
        "# plt.figure(figsize =(15, 10))\n",
        "plt.plot(range(epochs), acc_tr, color='red')\n",
        "plt.plot(range(epochs), acc_val, color='blue')\n",
        "plt.title('CHB_MIT Accuracy')\n",
        "plt.xlabel('epochs')\n",
        "plt.ylabel('accuracy')\n",
        "plt.legend(['Train', 'Validation'], loc='lower right')\n",
        "plt.savefig('CHB_100Hz_accuracy.png',bbox_inches = 'tight')\n",
        "plt.show()"
      ],
      "metadata": {
        "colab": {
          "base_uri": "https://localhost:8080/",
          "height": 295
        },
        "id": "xElqJIxCCz66",
        "outputId": "b3a059e2-fa4a-487b-f0f3-52c71ae1e3ac"
      },
      "execution_count": null,
      "outputs": [
        {
          "output_type": "display_data",
          "data": {
            "text/plain": [
              "<Figure size 432x288 with 1 Axes>"
            ],
            "image/png": "[encoded data removed]"
          },
          "metadata": {
            "needs_background": "light"
          }
        }
      ]
    },
    {
      "cell_type": "code",
      "source": [
        "y = []\n",
        "y_hat = []\n",
        "acc = 0\n",
        "for batch_idx, batch in enumerate(testLoader):\n",
        "    f_GAP, f_GVP =  FeatureEncoder(batch).forward()\n",
        "    pred  = model.forward(f_GAP, f_GVP).to(device)\n",
        "    label = batch['label'].type(torch.float64).to(device)\n",
        "    _, label =  torch.max(label, 1)  \n",
        "    _, predicted = torch.max(pred, 1)\n",
        "    acc = (predicted == label).sum().item()\n",
        "\n",
        "    "
      ],
      "metadata": {
        "colab": {
          "base_uri": "https://localhost:8080/"
        },
        "id": "vkhnKWUdyW_k",
        "outputId": "310bad5f-2303-44d5-a72b-f5ae6b54d50f"
      },
      "execution_count": null,
      "outputs": [
        {
          "output_type": "stream",
          "name": "stderr",
          "text": [
            "/usr/local/lib/python3.7/dist-packages/ipykernel_launcher.py:17: UserWarning: To copy construct from a tensor, it is recommended to use sourceTensor.clone().detach() or sourceTensor.clone().detach().requires_grad_(True), rather than torch.tensor(sourceTensor).\n",
            "/usr/local/lib/python3.7/dist-packages/ipykernel_launcher.py:24: UserWarning: To copy construct from a tensor, it is recommended to use sourceTensor.clone().detach() or sourceTensor.clone().detach().requires_grad_(True), rather than torch.tensor(sourceTensor).\n"
          ]
        }
      ]
    },
    {
      "cell_type": "code",
      "source": [
        "acc/batch['label'].shape[0]"
      ],
      "metadata": {
        "colab": {
          "base_uri": "https://localhost:8080/"
        },
        "id": "0Zvljxp1zXUG",
        "outputId": "99e4eb36-4745-4749-bc0a-345a1b9d4b55"
      },
      "execution_count": null,
      "outputs": [
        {
          "output_type": "execute_result",
          "data": {
            "text/plain": [
              "0.6430317848410758"
            ]
          },
          "metadata": {},
          "execution_count": 33
        }
      ]
    },
    {
      "cell_type": "code",
      "source": [],
      "metadata": {
        "id": "L3Cjhmw_Cz9e"
      },
      "execution_count": null,
      "outputs": []
    }
  ]
}
