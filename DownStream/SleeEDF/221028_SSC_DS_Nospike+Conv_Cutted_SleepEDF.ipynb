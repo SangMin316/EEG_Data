{
  "nbformat": 4,
  "nbformat_minor": 0,
  "metadata": {
    "colab": {
      "provenance": [],
      "collapsed_sections": []
    },
    "kernelspec": {
      "name": "python3",
      "display_name": "Python 3"
    },
    "language_info": {
      "name": "python"
    },
    "gpuClass": "standard",
    "accelerator": "GPU"
  },
  "cells": [
    {
      "cell_type": "code",
      "source": [
        "!pip install mne"
      ],
      "metadata": {
        "colab": {
          "base_uri": "https://localhost:8080/"
        },
        "id": "bDWt74XAgpLK",
        "outputId": "41a2ae92-3aa7-47ce-862c-0db2edc78163"
      },
      "execution_count": 1,
      "outputs": [
        {
          "output_type": "stream",
          "name": "stdout",
          "text": [
            "Looking in indexes: https://pypi.org/simple, https://us-python.pkg.dev/colab-wheels/public/simple/\n",
            "Requirement already satisfied: mne in /usr/local/lib/python3.7/dist-packages (1.2.1)\n",
            "Requirement already satisfied: matplotlib in /usr/local/lib/python3.7/dist-packages (from mne) (3.2.2)\n",
            "Requirement already satisfied: packaging in /usr/local/lib/python3.7/dist-packages (from mne) (21.3)\n",
            "Requirement already satisfied: tqdm in /usr/local/lib/python3.7/dist-packages (from mne) (4.64.1)\n",
            "Requirement already satisfied: numpy>=1.15.4 in /usr/local/lib/python3.7/dist-packages (from mne) (1.21.6)\n",
            "Requirement already satisfied: jinja2 in /usr/local/lib/python3.7/dist-packages (from mne) (2.11.3)\n",
            "Requirement already satisfied: pooch>=1.5 in /usr/local/lib/python3.7/dist-packages (from mne) (1.6.0)\n",
            "Requirement already satisfied: scipy>=1.1.0 in /usr/local/lib/python3.7/dist-packages (from mne) (1.7.3)\n",
            "Requirement already satisfied: decorator in /usr/local/lib/python3.7/dist-packages (from mne) (4.4.2)\n",
            "Requirement already satisfied: requests>=2.19.0 in /usr/local/lib/python3.7/dist-packages (from pooch>=1.5->mne) (2.23.0)\n",
            "Requirement already satisfied: appdirs>=1.3.0 in /usr/local/lib/python3.7/dist-packages (from pooch>=1.5->mne) (1.4.4)\n",
            "Requirement already satisfied: pyparsing!=3.0.5,>=2.0.2 in /usr/local/lib/python3.7/dist-packages (from packaging->mne) (3.0.9)\n",
            "Requirement already satisfied: urllib3!=1.25.0,!=1.25.1,<1.26,>=1.21.1 in /usr/local/lib/python3.7/dist-packages (from requests>=2.19.0->pooch>=1.5->mne) (1.24.3)\n",
            "Requirement already satisfied: idna<3,>=2.5 in /usr/local/lib/python3.7/dist-packages (from requests>=2.19.0->pooch>=1.5->mne) (2.10)\n",
            "Requirement already satisfied: chardet<4,>=3.0.2 in /usr/local/lib/python3.7/dist-packages (from requests>=2.19.0->pooch>=1.5->mne) (3.0.4)\n",
            "Requirement already satisfied: certifi>=2017.4.17 in /usr/local/lib/python3.7/dist-packages (from requests>=2.19.0->pooch>=1.5->mne) (2022.9.24)\n",
            "Requirement already satisfied: MarkupSafe>=0.23 in /usr/local/lib/python3.7/dist-packages (from jinja2->mne) (2.0.1)\n",
            "Requirement already satisfied: kiwisolver>=1.0.1 in /usr/local/lib/python3.7/dist-packages (from matplotlib->mne) (1.4.4)\n",
            "Requirement already satisfied: cycler>=0.10 in /usr/local/lib/python3.7/dist-packages (from matplotlib->mne) (0.11.0)\n",
            "Requirement already satisfied: python-dateutil>=2.1 in /usr/local/lib/python3.7/dist-packages (from matplotlib->mne) (2.8.2)\n",
            "Requirement already satisfied: typing-extensions in /usr/local/lib/python3.7/dist-packages (from kiwisolver>=1.0.1->matplotlib->mne) (4.1.1)\n",
            "Requirement already satisfied: six>=1.5 in /usr/local/lib/python3.7/dist-packages (from python-dateutil>=2.1->matplotlib->mne) (1.15.0)\n"
          ]
        }
      ]
    },
    {
      "cell_type": "code",
      "execution_count": 2,
      "metadata": {
        "id": "l4YUYhC7E4Ck"
      },
      "outputs": [],
      "source": [
        "from torch.utils.data import Dataset\n",
        "import torch\n",
        "import pickle\n",
        "import mne\n",
        "import numpy as np\n",
        "import time\n",
        "\n",
        "class Sleepedf_dataset(Dataset):\n",
        "    def __init__(self, files):\n",
        "        self.files = files\n",
        "        max_value = 0.\n",
        "        min_value = 0.\n",
        "\n",
        "        for i in range(len(self.files)):\n",
        "            sample = np.load(files[i])['x']\n",
        "            temp_max = sample.max()\n",
        "            temp_min = sample.min()\n",
        "            max_value = np.max([max_value, temp_max])\n",
        "            min_value = np.min([min_value, temp_min])\n",
        "        \n",
        "\n",
        "        self.max_value = max_value\n",
        "        self.min_value = min_value\n",
        "\n",
        "    def preprocessing(self, data):\n",
        "        data_max = np.max(data,axis = 1, keepdims=True) # max value of each channels\n",
        "        data_min = np.min(data,axis = 1, keepdims=True) # shape = c,t\n",
        "        c,t = data.shape\n",
        "        \n",
        "        return data/data_max*np.ones((c,t)) - (data_max - data_min)*np.ones((c,t))/(self.max_value - self.min_value)\n",
        "\n",
        "    def one_hot_encoding(self,y):\n",
        "        if y == '1':\n",
        "          y = np.array([0,1,0,0,0,0])\n",
        "        elif y == '2':\n",
        "          y = np.array([0,0,1,0,0,0])   \n",
        "        elif y == '3':\n",
        "          y = np.array([0,0,0,1,0,0])\n",
        "        elif y == '4':\n",
        "          y = np.array([0,0,0,0,1,0])\n",
        "        elif y == 'R':\n",
        "          y = np.array([0,0,0,0,0,1])\n",
        "        else: # W\n",
        "          y = np.array([1,0,0,0,0,0])      \n",
        "        return y  \n",
        "\n",
        "\n",
        "    def __getitem__(self, index):          \n",
        "        sample = np.load(self.files[index])  \n",
        "        y = self.one_hot_encoding(sample['y'])\n",
        "        sample = self.preprocessing(sample['x'])\n",
        "        return { 'x' : torch.tensor(sample), \n",
        "                 'y' : torch.tensor(y)\n",
        "                   }\n",
        "          \n",
        "    def __len__(self):\n",
        "        return len(self.files)\n"
      ]
    },
    {
      "cell_type": "code",
      "source": [
        "from google.colab import drive\n",
        "drive.mount('/content/drive')"
      ],
      "metadata": {
        "colab": {
          "base_uri": "https://localhost:8080/"
        },
        "id": "bIOrsdt3_1Yd",
        "outputId": "6f27891b-eb0f-4a84-bbbc-57c30efc8d22"
      },
      "execution_count": 3,
      "outputs": [
        {
          "output_type": "stream",
          "name": "stdout",
          "text": [
            "Drive already mounted at /content/drive; to attempt to forcibly remount, call drive.mount(\"/content/drive\", force_remount=True).\n"
          ]
        }
      ]
    },
    {
      "cell_type": "code",
      "execution_count": 4,
      "metadata": {
        "colab": {
          "base_uri": "https://localhost:8080/"
        },
        "id": "pk5UWrymWlfa",
        "outputId": "aac190c0-1aa5-4f70-9a7e-7204c8a54059"
      },
      "outputs": [
        {
          "output_type": "stream",
          "name": "stdout",
          "text": [
            "5\n",
            "5283\n"
          ]
        }
      ],
      "source": [
        "import glob\n",
        "\n",
        "SleepEDF_file_list = glob.glob('/content/drive/MyDrive/sleep_edfx/Cutted_EEG/**')\n",
        "print(len(SleepEDF_file_list))\n",
        "SleepEDF_list = []\n",
        "for i in range(len(SleepEDF_file_list)):\n",
        "    SleepEDF_list.extend(glob.glob(SleepEDF_file_list[i]+'/**'))\n",
        "print(len(SleepEDF_list))"
      ]
    },
    {
      "cell_type": "code",
      "source": [
        "from sklearn.model_selection import train_test_split\n",
        "\n",
        "train, test = train_test_split(SleepEDF_list, test_size=0.2)#, shuffle=True, random_state=34), #stratify=target\n",
        "train, val = train_test_split(train, test_size= 0.25)#, shu"
      ],
      "metadata": {
        "id": "8hZHBofhD_ti"
      },
      "execution_count": 5,
      "outputs": []
    },
    {
      "cell_type": "code",
      "source": [
        "train_dataset = Sleepedf_dataset(train)\n",
        "val_dataset = Sleepedf_dataset(val)\n",
        "test_dataset = Sleepedf_dataset(test)"
      ],
      "metadata": {
        "id": "eY3pJkIbWoFC"
      },
      "execution_count": 6,
      "outputs": []
    },
    {
      "cell_type": "code",
      "source": [
        "!pip install separableconv-torch"
      ],
      "metadata": {
        "id": "834tX7V_uCyj",
        "colab": {
          "base_uri": "https://localhost:8080/"
        },
        "outputId": "f1463ba0-c3e3-4484-c35f-f4b26ff46c8c"
      },
      "execution_count": 7,
      "outputs": [
        {
          "output_type": "stream",
          "name": "stdout",
          "text": [
            "Looking in indexes: https://pypi.org/simple, https://us-python.pkg.dev/colab-wheels/public/simple/\n",
            "Requirement already satisfied: separableconv-torch in /usr/local/lib/python3.7/dist-packages (0.1.0)\n",
            "Requirement already satisfied: numpy in /usr/local/lib/python3.7/dist-packages (from separableconv-torch) (1.21.6)\n",
            "Requirement already satisfied: torchvision in /usr/local/lib/python3.7/dist-packages (from separableconv-torch) (0.13.1+cu113)\n",
            "Requirement already satisfied: torch in /usr/local/lib/python3.7/dist-packages (from separableconv-torch) (1.12.1+cu113)\n",
            "Requirement already satisfied: typing-extensions in /usr/local/lib/python3.7/dist-packages (from torch->separableconv-torch) (4.1.1)\n",
            "Requirement already satisfied: requests in /usr/local/lib/python3.7/dist-packages (from torchvision->separableconv-torch) (2.23.0)\n",
            "Requirement already satisfied: pillow!=8.3.*,>=5.3.0 in /usr/local/lib/python3.7/dist-packages (from torchvision->separableconv-torch) (7.1.2)\n",
            "Requirement already satisfied: idna<3,>=2.5 in /usr/local/lib/python3.7/dist-packages (from requests->torchvision->separableconv-torch) (2.10)\n",
            "Requirement already satisfied: urllib3!=1.25.0,!=1.25.1,<1.26,>=1.21.1 in /usr/local/lib/python3.7/dist-packages (from requests->torchvision->separableconv-torch) (1.24.3)\n",
            "Requirement already satisfied: chardet<4,>=3.0.2 in /usr/local/lib/python3.7/dist-packages (from requests->torchvision->separableconv-torch) (3.0.4)\n",
            "Requirement already satisfied: certifi>=2017.4.17 in /usr/local/lib/python3.7/dist-packages (from requests->torchvision->separableconv-torch) (2022.9.24)\n"
          ]
        }
      ]
    },
    {
      "cell_type": "code",
      "source": [
        "import numpy as np\n",
        "import torch\n",
        "import torch.nn as nn\n",
        "from mne.filter import filter_data, notch_filter\n",
        "import matplotlib.pyplot as plt\n",
        "\n",
        "\n",
        "class Encoder(nn.Module):\n",
        "    def __init__(self, fs, encode_info):\n",
        "        super(Encoder, self).__init__()\n",
        "        #spectral layer means spectral convolution\n",
        "        #self.bac_layer is consist of several SeparableConv2d, which plays the role of temporal separable convolution\n",
        "        #convolution layer are initiated by xavier_uniform initization\n",
        "        #Input are Normalized by self.bn(=torch.nn.BatchNorm2d)\n",
        "        #[batch, electrode, length] -> [batch, electrode, Feature]\n",
        "        self.fs = fs\n",
        "        self.elu = nn.ELU()\n",
        "        self.maxpool = nn.AdaptiveMaxPool1d(1)\n",
        "        self.bn = nn.BatchNorm1d(1)\n",
        "        self.activation = nn.LeakyReLU()\n",
        "\n",
        "        self.spectral_layer = nn.Conv1d(1, 10, int(self.fs/2), padding=\"same\")\n",
        "\n",
        "        # self.bac_layer = nn.Sequential()\n",
        "        # for i, arg in enumerate(encode_info):\n",
        "        #     input_dim, output_dim, kernel_size = arg\n",
        "        #     self.bac_layer.add_module(\"temporal_conv_\"+str(i),\n",
        "        #                           nn.Conv1d(input_dim, output_dim, kernel_size, padding = 'same'))\n",
        "        #     self.bac_layer.add_module(\"ELU\",nn.ELU()) \n",
        "        \n",
        "        self.conv1t = nn.Conv1d(10,16, 30, padding ='same')\n",
        "        self.conv2t = nn.Conv1d(16,32, 15, padding ='same')\n",
        "        self.conv3t = nn.Conv1d(32,64, 5, padding ='same')\n",
        "        \n",
        "        torch.nn.init.xavier_uniform_(self.spectral_layer.weight)\n",
        "        #self.bac_layer.apply(weight_init_xavier_uniform)\n",
        "\n",
        "    def forward(self, x):\n",
        "        x = self.activation(self.spectral_layer(x))\n",
        "        x = self.activation(self.conv1t(x))\n",
        "        x = self.activation(self.conv2t(x))\n",
        "        x = self.activation(self.conv3t(x))\n",
        "\n",
        "        return x\n",
        "\n",
        "#Linear layer for SSL classification\n",
        "class Head_NN(nn.Module):\n",
        "    def __init__(self):\n",
        "        super(Head_NN, self).__init__()        \n",
        "        # self.layer = nn.Sequential(\n",
        "        #     nn.Dropout(0.5),\n",
        "        #     nn.Linear(64*length, 5)\n",
        "        # )\n",
        "        \n",
        "        self.layer = nn.Sequential(\n",
        "            nn.Dropout(0.5),\n",
        "            nn.Linear(64, 5)\n",
        "        )\n",
        "        \n",
        "        self.softmax = torch.nn.Softmax()\n",
        "        # self.layer.apply(weight_init_xavier_uniform)\n",
        "        self.bn = nn.BatchNorm1d(64)\n",
        "        self.flatten = nn.Flatten()\n",
        "\n",
        "    def forward(self, x):\n",
        "        x = torch.mean(x, axis = 2) # Global average pooling into temporal dimension\n",
        "        # x = self.flatten(x)\n",
        "        x = self.layer(x)\n",
        "        x = self.softmax(x)\n",
        "        return x\n",
        "\n",
        "class StoppedBandPathway(nn.Module):\n",
        "    def __init__(self, fs, Unsupervise, encode_info, bands):\n",
        "        super(StoppedBandPathway, self).__init__()\n",
        "        self.encoder = Encoder(fs, encode_info)\n",
        "        self.pretrain = Head_NN()\n",
        "        self.Unsupervise = Unsupervise\n",
        "\n",
        "\n",
        "    def forward(self, x):\n",
        "        x = self.encoder(x)\n",
        "        x = self.pretrain(x)\n",
        "        return x\n",
        "\n",
        "    def getRep(self, x):\n",
        "        x = self.encoder(x)\n",
        "        return x\n"
      ],
      "metadata": {
        "id": "glstHzJT3A0Q"
      },
      "execution_count": 8,
      "outputs": []
    },
    {
      "cell_type": "code",
      "source": [
        "class feature_extractor3(nn.Module):\n",
        "    def __init__(self):\n",
        "        super(feature_extractor3,self).__init__()\n",
        "        \n",
        "        self.channels = 1 # we use only single channel \n",
        "        \n",
        "        # Activation functions\n",
        "        self.activation = nn.LeakyReLU()\n",
        "        # self.bn = nn.BatchNorm1d(1)\n",
        "\n",
        "        # self.conv2t = nns.SeparableConv1d(16,32,10,padding ='same') (in_channels, out_channels, kernel size,,,) \n",
        "\n",
        "        self.softmax = nn.Softmax()\n",
        "        self.conv1t = nn.Conv1d(1,10, 30, padding ='same') #in_channels, out_channels, kernel_size, \n",
        "        self.conv1s = nn.Conv1d(10,10,self.channels)\n",
        "        self.conv2t = nn.Conv1d(10,20,15,padding ='same') \n",
        "        self.conv2s = nn.Conv1d(20,20,self.channels)\n",
        "        self.conv3t = nn.Conv1d(20,34,5,padding ='same')\n",
        "        self.conv3s = nn.Conv1d(34,34,self.channels)\n",
        "        \n",
        "                  \n",
        "        # Flatteninig\n",
        "        self.flatten = nn.Flatten()\n",
        "\n",
        "        # Dropout\n",
        "        self.dropout = nn.Dropout(0.5)\n",
        "\n",
        "        # Decision making\n",
        "        self.Linear = nn.Linear(256000 ,4) # \n",
        "\n",
        "      \n",
        "    def embedding(self, x):\n",
        "        x = self.activation(self.conv1t(x))\n",
        "        f1 = self.activation(self.conv1s(x))\n",
        "\n",
        "        x = self.activation(self.conv2t(x))\n",
        "        f2 = self.activation(self.conv2s(x))\n",
        "\n",
        "        x = self.activation(self.conv3t(x))\n",
        "        f3 = self.activation(self.conv3s(x))\n",
        "        \n",
        "        # multi-scale feature representation by exploiting intermediate features\n",
        "        feature = torch.cat([f1, f2, f3],dim = 1 )\n",
        "        \n",
        "        return feature\n",
        "\n",
        "    def classifier(self, feature):\n",
        "        # Flattening, dropout, mapping into the decision nodes\n",
        "        feature = self.flatten(feature)\n",
        "        feature = self.dropout(feature)\n",
        "        y_hat = self.softmax(self.Linear(feature))\n",
        "        return y_hat    \n",
        "\n",
        "    def forward(self, x):\n",
        "        feature = self.embedding(x)\n",
        "        y_hat = self.classifier(feature)\n",
        "        return y_hat"
      ],
      "metadata": {
        "id": "17Wx4RicDlgZ"
      },
      "execution_count": 9,
      "outputs": []
    },
    {
      "cell_type": "code",
      "source": [
        "# import numpy as np\n",
        "# import torch\n",
        "# import torch.nn as nn\n",
        "# import torch.nn.functional as F\n",
        "\n",
        "# # import separableconv.nn as snn\n",
        "\n",
        "# class FeatureEncoder(nn.Module):\n",
        "#     def __init__(self,x1,x2):\n",
        "#         super(FeatureEncoder, self).__init__()\n",
        "#         self.sepctral_rept = x1\n",
        "#         self.temporal_rept = x2\n",
        "#         self.conv1 = nn.Conv2d(64,64, (2,1))\n",
        "#         self.conv2 = nn.Conv2d(64,64, (2,1))\n",
        "\n",
        "\n",
        "#     def fGAP(self, x):\n",
        "#         x = torch.tensor(x)\n",
        "#         x = F.adaptive_avg_pool2d(x, (1, 1))\n",
        "#         return x\n",
        "\n",
        "#     def fGVP(self, x):\n",
        "#          #  x.shape = batch,  channel, feature, time -->\n",
        "#         x = torch.tensor(x)\n",
        "#         torch.var(x.view(x.size(0), x.size(1), -1), dim=2)\n",
        "#         return x    \n",
        "    \n",
        "\n",
        "#     def forward(self,b,c,f,t):\n",
        "#         f_1 = self.sepctral_rept\n",
        "#         f_2 = self.temporal_rept\n",
        "#         f_1 = torch.reshape(f_1,(b,f,c,t)) \n",
        "#         f_2 = torch.reshape(f_2,(b,f,c,t)) \n",
        "#         f_1 = self.conv1(f_1)\n",
        "#         f_2 = self.conv2(f_2) # b,f,1, t\n",
        "        \n",
        "#         # print(f_1.shape,f_2.shape)\n",
        "#         f_GAP = torch.cat(( self.fGAP(f_1).squeeze(),self.fGAP(f_2).squeeze() ), axis=1)\n",
        "#         f_GVP = torch.cat((self.fGVP(f_1).squeeze(),self.fGVP(f_2).squeeze()), axis=1)\n",
        "#         # print(f_GAP.shape,f_GVP.shape)\n",
        "\n",
        "\n",
        "#         return  f_GAP, f_GVP\n",
        "\n",
        "\n",
        "# class StatisticianModule(nn.Module):\n",
        "#     def __init__(self, dense, classes):\n",
        "#         super(StatisticianModule, self).__init__()\n",
        "#         self.classes = classes\n",
        "\n",
        "#         self.softmax = torch.nn.Softmax(dim=1)\n",
        "#         self.c_dense = nn.Linear(dense, 64*2*2) # 64*2*2\n",
        "\n",
        "#         self.gap_pwconv = nn.Conv1d(128, dense, 1) \n",
        "#         self.gvp_pwconv = nn.Conv1d(128, dense, 1)\n",
        "\n",
        "#         self.fullconnect = nn.Linear(dense, self.classes)\n",
        "\n",
        "\n",
        "#     def forward(self, f_GAP, f_GVP):\n",
        "#         #[batch, gap+gvp] -> [batch,dense]\n",
        "      \n",
        "#         c = self.softmax(self.c_dense(torch.cat((f_GAP, f_GVP),axis=1)))\n",
        "#         # print('c:',c.shape)\n",
        "#         #[batch, gap, 1] -> [batch, 1, dense] -> [batch, dense]\n",
        "#         f_GAP_d = self.gap_pwconv(f_GAP.unsqueeze(dim=-1)).squeeze()\n",
        "#         f_GVP_d = self.gvp_pwconv(f_GVP.unsqueeze(dim=-1)).squeeze()\n",
        "        \n",
        "#         f_GAP_dd = torch.sum(c*f_GAP_d,dim=1)\n",
        "#         f_GVP_dd = torch.sum(c*f_GVP_d,dim=1)\n",
        "#         # print('f_GAP_dd: ',f_GAP_dd.shape)\n",
        "#         ALN = torch.div(torch.sub(f_GAP_d.T,f_GAP_dd),f_GAP_dd).T\n",
        "#         # print('ALN', ALN.shape)\n",
        "\n",
        "#         y_hat = self.fullconnect(ALN)\n",
        "#         # print('y_hat: ',y_hat.shape)\n",
        "#         return y_hat"
      ],
      "metadata": {
        "id": "h3bHNu5vCz4v"
      },
      "execution_count": 10,
      "outputs": []
    },
    {
      "cell_type": "code",
      "source": [
        "import numpy as np\n",
        "import torch\n",
        "import torch.nn as nn\n",
        "import torch.nn.functional as F\n",
        "\n",
        "# import separableconv.nn as snn\n",
        "\n",
        "class FeatureEncoder(nn.Module):\n",
        "    def __init__(self,x1,x2):\n",
        "        super(FeatureEncoder, self).__init__()\n",
        "        self.sepctral_rept = x1\n",
        "        self.temporal_rept = x2\n",
        "        self.conv1 = nn.Conv2d(64,64, (2,1))\n",
        "        self.conv2 = nn.Conv2d(64,64, (2,1))\n",
        "\n",
        "\n",
        "    def fGAP(self, x):\n",
        "        x = torch.tensor(x)\n",
        "        x = F.adaptive_avg_pool2d(x, (1, 1))\n",
        "        return x\n",
        "\n",
        "    def fGVP(self, x):\n",
        "        x = torch.tensor(x)\n",
        "        torch.var(x.view(x.size(0), x.size(1), -1), dim=2)\n",
        "        return x    \n",
        "    \n",
        "\n",
        "    def forward(self,b,c,f,t):\n",
        "        f_1 = self.sepctral_rept\n",
        "        f_2 = self.temporal_rept\n",
        "        f_1 = torch.reshape(f_1,(b,f,c,t)) \n",
        "        f_2 = torch.reshape(f_2,(b,f,c,t)) \n",
        "        \n",
        "        # print(f_1.shape,f_2.shape)\n",
        "        f_GAP = torch.cat(( self.fGAP(f_1).squeeze(),self.fGAP(f_2).squeeze() ), axis=1)\n",
        "        f_GVP = torch.cat((self.fGVP(f_1).squeeze(),self.fGVP(f_2).squeeze()), axis=1)\n",
        "        print(f_GAP.shape,f_GVP.shape)\n",
        "\n",
        "\n",
        "        return  f_GAP, f_GVP\n",
        "\n",
        "\n",
        "class StatisticianModule(nn.Module):\n",
        "    def __init__(self, dense, classes):\n",
        "        super(StatisticianModule, self).__init__()\n",
        "        self.classes = classes\n",
        "        \n",
        "        self.conv1 = nn.Conv2d(64,64, (2,1))\n",
        "        self.conv2 = nn.Conv2d(64,64, (2,1))\n",
        "\n",
        "        self.softmax = torch.nn.Softmax(dim=1)\n",
        "        self.c_dense = nn.Linear(dense, 64*2*2) # 64*2*2\n",
        "\n",
        "        self.gap_pwconv = nn.Conv1d(128, dense, 1) \n",
        "        self.gvp_pwconv = nn.Conv1d(128, dense, 1)\n",
        "\n",
        "        self.fullconnect = nn.Linear(dense, self.classes)\n",
        "\n",
        "        torch.nn.init.xavier_uniform_(self.conv1.weight)\n",
        "        torch.nn.init.xavier_uniform_(self.conv2.weight)\n",
        "        torch.nn.init.xavier_uniform_(self.c_dense.weight)\n",
        "        torch.nn.init.xavier_uniform_(self.gap_pwconv.weight)\n",
        "        torch.nn.init.xavier_uniform_(self.gvp_pwconv.weight)\n",
        "        torch.nn.init.xavier_uniform_(self.fullconnect.weight)\n",
        "        \n",
        "\n",
        "    def GAPGVP(self, x1, x2, b,c,f,t ):\n",
        "        x1 = torch.reshape(x1,(b,f,c,t)) \n",
        "        x2 = torch.reshape(x2,(b,f,c,t)) \n",
        "        x1 = self.conv1(x1)\n",
        "        x2 = self.conv2(x2)\n",
        "\n",
        "        f_GAP = torch.cat((F.adaptive_avg_pool2d(x1, (1, 1)).squeeze(), F.adaptive_avg_pool2d(x2, (1, 1)).squeeze()), axis=1)\n",
        "        f_GVP = torch.cat((torch.var(x1.view(x1.size(0), x1.size(1), -1), dim=2),torch.var(x1.view(x1.size(0), x1.size(1), -1), dim=2)), axis=1)\n",
        "        del x1\n",
        "        del x2\n",
        "        return f_GAP, f_GVP\n",
        "\n",
        "    def forward(self,x1, x2, b,c,f,t):\n",
        "        f_GAP, f_GVP = self.GAPGVP(x1, x2, b,c,f,t )\n",
        "        # print(f_GAP.shape, f_GVP.shape)\n",
        "        c = self.softmax(self.c_dense(torch.cat((f_GAP, f_GVP),axis=1)))\n",
        "        # print('c:',c.shape)\n",
        "        #[batch, gap, 1] -> [batch, 1, dense] -> [batch, dense]\n",
        "        f_GAP_d = self.gap_pwconv(f_GAP.unsqueeze(dim=-1)).squeeze()\n",
        "        f_GVP_d = self.gvp_pwconv(f_GVP.unsqueeze(dim=-1)).squeeze()\n",
        "        \n",
        "        f_GAP_dd = torch.sum(c*f_GAP_d,dim=1)\n",
        "        f_GVP_dd = torch.sum(c*f_GVP_d,dim=1)\n",
        "        # print('f_GAP_dd: ',f_GAP_dd.shape)\n",
        "        ALN = torch.div(torch.sub(f_GAP_d.T,f_GAP_dd),f_GAP_dd).T\n",
        "        # print('ALN', ALN.shape)\n",
        "\n",
        "        y_hat = self.fullconnect(ALN)\n",
        "        # print('y_hat: ',y_hat.shape)\n",
        "        return y_hat"
      ],
      "metadata": {
        "id": "t8IC9wl5vk_V"
      },
      "execution_count": 11,
      "outputs": []
    },
    {
      "cell_type": "code",
      "source": [
        "# import numpy as np\n",
        "# import torch\n",
        "# import torch.nn as nn\n",
        "# import separableconv.nn as nn\n",
        "\n",
        "# class FeatureEncoder(nn.Module):\n",
        "#     def __init__(self,x1,x2):\n",
        "#         super(FeatureEncoder, self).__init__()\n",
        "#         self.sepctral_rept = x1\n",
        "#         self.temporal_rept = x2\n",
        "#         self.conv = nn.Conv2d(1,16, (1,2), padding ='same')\n",
        "#         #self.GVP = torch.var(dim=-1)\n",
        "\n",
        "#     def Temporal_GAP(self, x):\n",
        "#          #  x.shape = batch*channel, feature, time -->\n",
        "#         x = torch.tensor(x)\n",
        "#         x = torch.mean(x, 1) # channel\n",
        "#         x = torch.mean(x, 2) # time\n",
        "#         return x\n",
        "\n",
        "#     def Temporal_GVP(self, x):\n",
        "#          #  x.shape = batch,  channel, feature, time -->\n",
        "#         x = torch.tensor(x)\n",
        "#         x = torch.var(x, 1) # channel\n",
        "#         x = torch.var(x, 2) # time\n",
        "#         return x    \n",
        "\n",
        "#     def forward(self,b,c,f,t):\n",
        "#         f_1 = self.sepctral_rept\n",
        "#         f_2 = self.temporal_rept\n",
        "#         f_1 = torch.reshape(f_1,(b,c,f,t))\n",
        "#         f_2 = torch.reshape(f_2,(b,c,f,t))\n",
        "#         f_1 = self.conv(f_1)\n",
        "#         f_2 = self.conv(f_2)\n",
        "\n",
        "        \n",
        "#         f_GAP = torch.cat(( self.Temporal_GAP(f_1), self.Temporal_GAP(f_2)), axis=1)\n",
        "#         f_GVP = torch.cat((self.Temporal_GVP(f_1), self.Temporal_GVP(f_2)), axis=1)\n",
        "      \n",
        "#         # f_GAP = torch.cat((self.GAP(f_1).squeeze(), self.GAP(f_2).squeeze(), self.Temporal_GAP(f_3).squeeze()), axis=1)\n",
        "#         # f_GVP = torch.cat((torch.var(f_1, dim=-1), torch.var(f_2, dim=-1), torch.var(f_3, dim=-1)), axis=1)\n",
        "\n",
        "#         return  f_GAP, f_GVP\n",
        "\n",
        "\n",
        "# class StatisticianModule(nn.Module):\n",
        "#     def __init__(self, dense, classes):\n",
        "#         super(StatisticianModule, self).__init__()\n",
        "#         self.classes = classes\n",
        "\n",
        "#         self.softmax = torch.nn.Softmax(dim=1)\n",
        "#         self.c_dense = nn.Linear(dense, 64*2*2)\n",
        "\n",
        "#         self.gap_pwconv = nn.Conv1d(64*2, dense, 1)\n",
        "#         self.gvp_pwconv = nn.Conv1d(64*2, dense, 1)\n",
        "\n",
        "#         self.fullconnect = nn.Linear(dense, self.classes)\n",
        "\n",
        "\n",
        "#     def forward(self, f_GAP, f_GVP):\n",
        "#         #[batch, gap+gvp] -> [batch,dense]\n",
        "      \n",
        "#         c = self.softmax(self.c_dense(torch.cat((f_GAP, f_GVP),axis=1)))\n",
        "#         # print('c:',c.shape)\n",
        "#         #[batch, gap, 1] -> [batch, 1, dense] -> [batch, dense]\n",
        "#         f_GAP_d = self.gap_pwconv(f_GAP.unsqueeze(dim=-1)).squeeze()\n",
        "#         f_GVP_d = self.gvp_pwconv(f_GVP.unsqueeze(dim=-1)).squeeze()\n",
        "        \n",
        "#         f_GAP_dd = torch.sum(c*f_GAP_d,dim=1)\n",
        "#         f_GVP_dd = torch.sum(c*f_GVP_d,dim=1)\n",
        "#         # print('f_GAP_dd: ',f_GAP_dd.shape)\n",
        "#         ALN = torch.div(torch.sub(f_GAP_d.T,f_GAP_dd),f_GAP_dd).T\n",
        "#         # print('ALN', ALN.shape)\n",
        "\n",
        "#         y_hat = self.fullconnect(ALN)\n",
        "#         # print('y_hat: ',y_hat.shape)\n",
        "#         return y_hat"
      ],
      "metadata": {
        "id": "26isRnwBt_1e"
      },
      "execution_count": 12,
      "outputs": []
    },
    {
      "cell_type": "markdown",
      "source": [
        "load pretrain model"
      ],
      "metadata": {
        "id": "PK5lzwTNxWpq"
      }
    },
    {
      "cell_type": "code",
      "source": [
        "FE1 = torch.load('/content/Spectral__10s_ep6_.pt')\n",
        "FE2 = torch.load('/content/Temporal__10s_ep15_.pt')\n",
        "FE1.eval()\n",
        "FE2.eval()\n"
      ],
      "metadata": {
        "id": "IYeo7tM_Gxsr",
        "colab": {
          "base_uri": "https://localhost:8080/"
        },
        "outputId": "8fffa2bc-ff46-4ba5-fcce-411bf96cbb5d"
      },
      "execution_count": 13,
      "outputs": [
        {
          "output_type": "execute_result",
          "data": {
            "text/plain": [
              "feature_extractor3(\n",
              "  (activation): LeakyReLU(negative_slope=0.01)\n",
              "  (softmax): Softmax(dim=None)\n",
              "  (conv1t): Conv1d(1, 10, kernel_size=(30,), stride=(1,), padding=same)\n",
              "  (conv1s): Conv1d(10, 10, kernel_size=(1,), stride=(1,))\n",
              "  (conv2t): Conv1d(10, 20, kernel_size=(15,), stride=(1,), padding=same)\n",
              "  (conv2s): Conv1d(20, 20, kernel_size=(1,), stride=(1,))\n",
              "  (conv3t): Conv1d(20, 34, kernel_size=(5,), stride=(1,), padding=same)\n",
              "  (conv3s): Conv1d(34, 34, kernel_size=(1,), stride=(1,))\n",
              "  (flatten): Flatten(start_dim=1, end_dim=-1)\n",
              "  (dropout): Dropout(p=0.5, inplace=False)\n",
              "  (Linear): Linear(in_features=128000, out_features=4, bias=True)\n",
              ")"
            ]
          },
          "metadata": {},
          "execution_count": 13
        }
      ]
    },
    {
      "cell_type": "code",
      "source": [
        "import os\n",
        "os.environ[\"CUDA_VISIBLE_DEVICES\"] = \"0\"\n",
        "device = torch.device(\"cuda:0\" if torch.cuda.is_available() else \"cpu\")\n",
        "#torch.device(\"cuda:0\" if torch.cuda.is_available() else \"cpu\")\n",
        "#\"cpu\"\n",
        "\n",
        "print(device)\n"
      ],
      "metadata": {
        "id": "TGeS3Hycs2gd",
        "colab": {
          "base_uri": "https://localhost:8080/"
        },
        "outputId": "36462de7-ab83-4549-984d-6aeabec358e7"
      },
      "execution_count": 14,
      "outputs": [
        {
          "output_type": "stream",
          "name": "stdout",
          "text": [
            "cuda:0\n"
          ]
        }
      ]
    },
    {
      "cell_type": "code",
      "source": [
        "epochs = 30\n",
        "learning_rate = 0.0005\n",
        "batch_size = 128\n",
        "model = StatisticianModule(256,6).to(device)\n",
        "optimizer = torch.optim.Adam(model.parameters(), lr=learning_rate)"
      ],
      "metadata": {
        "id": "1Sg0RcOsGxvT"
      },
      "execution_count": 15,
      "outputs": []
    },
    {
      "cell_type": "code",
      "source": [
        "from torch.utils.data import DataLoader\n",
        "\n",
        "\n",
        "trainLoader = DataLoader(train_dataset, batch_size = batch_size, shuffle=True)\n",
        "valLoader = DataLoader(val_dataset, batch_size = batch_size, shuffle=True)\n",
        "testLoader = DataLoader(test_dataset, batch_size = batch_size, shuffle=True)\n"
      ],
      "metadata": {
        "id": "Mg_nmDT_iPbf"
      },
      "execution_count": 16,
      "outputs": []
    },
    {
      "cell_type": "code",
      "source": [
        "# for batch_idx, batch in enumerate(SleepEDF_list):\n",
        "#     a = np.load(batch)\n",
        "#     if a['y'] != 'W' and a['y'] !='R' and a['y'] !='1' and a['y'] !='2' and a['y'] !='3' and a['y'] !='4':\n",
        "#       print(a['y'])\n"
      ],
      "metadata": {
        "id": "8pstynYNNnN5"
      },
      "execution_count": 17,
      "outputs": []
    },
    {
      "cell_type": "code",
      "source": [
        "torch.cuda.empty_cache()"
      ],
      "metadata": {
        "id": "t3ZnedrL-WDG"
      },
      "execution_count": 18,
      "outputs": []
    },
    {
      "cell_type": "code",
      "source": [
        "loss_tr = []\n",
        "loss_val = []\n",
        "acc_tr = []\n",
        "acc_val = []\n",
        "for epoch in range(epochs):\n",
        "    loss_ep = 0  # add batch loss in epoch\n",
        "    acc_ep = 0\n",
        "    for batch_idx, batch in enumerate(trainLoader):\n",
        "        optimizer.zero_grad()\n",
        "        b,c,t = batch['x'].shape\n",
        "        data = torch.reshape(batch['x'],(b*c,1,t))\n",
        "        data = torch.Tensor(data).type(torch.float).to(device)\n",
        "\n",
        "        x1 =  FE1.getRep(data)\n",
        "        x2 =  FE2.embedding(data) \n",
        "        bc,f,t = x1.shape\n",
        "        pred  = model.forward(x1,x2,b,c,f,t)\n",
        "        CrossEL = torch.nn.CrossEntropyLoss()\n",
        "        label = batch['y'].type(torch.float64).to(device)\n",
        "       \n",
        "        loss = CrossEL(pred, label)\n",
        "        loss.backward(retain_graph=True)\n",
        "        optimizer.step() \n",
        "\n",
        "        _, label =  torch.max(label, 1)  \n",
        "        _, predicted = torch.max(pred, 1)\n",
        "        acc = (predicted == label).sum().item()\n",
        "        acc = acc/batch['x'].shape[0] #acc/(batch*channels*4(augmented))\n",
        "        loss_ep += loss.item()\n",
        "        # print('acc:', acc)\n",
        "        acc_ep += acc\n",
        "\n",
        "    loss_tr.append((loss_ep)/len(trainLoader))\n",
        "    acc_tr.append((acc_ep)/len(trainLoader))        \n",
        "\n",
        "    loss_ep_val = 0\n",
        "    acc_ep_val = 0\n",
        "    \n",
        "    for batch_idx, batch in enumerate(valLoader):\n",
        "        b,c,t = batch['x'].shape\n",
        "        data = torch.reshape(batch['x'],(b*c,1,t))\n",
        "        data = torch.Tensor(data).type(torch.float).to(device)\n",
        "\n",
        "        x1 =  FE1.getRep(data)\n",
        "        x2 =  FE2.embedding(data) \n",
        "        bc,f,t = x1.shape\n",
        "        pred  = model.forward(x1,x2,b,c,f,t)\n",
        "        CrossEL = torch.nn.CrossEntropyLoss()\n",
        "        label = batch['y'].type(torch.float64).to(device)\n",
        "        loss = CrossEL(pred, label)\n",
        "        \n",
        "        _, label =  torch.max(label, 1)  \n",
        "        _, predicted = torch.max(pred, 1)\n",
        "        acc = (predicted == label).sum().item()\n",
        "        acc = acc/batch['x'].shape[0]\n",
        "\n",
        "        loss_ep_val += loss.item()\n",
        "        acc_ep_val += acc\n",
        "\n",
        "    loss_val.append((loss_ep_val)/len(valLoader))\n",
        "    acc_val.append((acc_ep_val)/len(valLoader))\n",
        "    print(\"epoch : \", epoch, \"  train loss : \", loss_tr[epoch], 'train acc : ', acc_tr[epoch], \"    val loss : \", loss_val[epoch], 'val acc : ', acc_val[epoch])\n",
        "    torch.save(model,'SleepEDF_noConv_30s_ep' + str(epoch)+'_.pt')\n"
      ],
      "metadata": {
        "id": "eEnhXWVI3so0",
        "colab": {
          "base_uri": "https://localhost:8080/"
        },
        "outputId": "ffec2dde-6737-4b2b-b07e-a093a7a4c937"
      },
      "execution_count": 19,
      "outputs": [
        {
          "output_type": "stream",
          "name": "stderr",
          "text": [
            "/usr/local/lib/python3.7/dist-packages/torch/nn/modules/conv.py:304: UserWarning: Using padding='same' with even kernel lengths and odd dilation may require a zero-padded copy of the input be created (Triggered internally at  ../aten/src/ATen/native/Convolution.cpp:882.)\n",
            "  self.padding, self.dilation, self.groups)\n"
          ]
        },
        {
          "output_type": "stream",
          "name": "stdout",
          "text": [
            "epoch :  0   train loss :  6.840794084619013 train acc :  0.41885953608247417     val loss :  13.935553957066984 val acc :  0.3383575336700337\n",
            "epoch :  1   train loss :  2.105936612377309 train acc :  0.436694587628866     val loss :  1.6678554033300046 val acc :  0.45817550505050497\n",
            "epoch :  2   train loss :  1.6357516335936015 train acc :  0.4426063144329897     val loss :  1.5575938763595516 val acc :  0.4481797138047138\n",
            "epoch :  3   train loss :  1.50790406716181 train acc :  0.4433440721649485     val loss :  1.448138399355377 val acc :  0.45501893939393934\n",
            "epoch :  4   train loss :  1.4352373966228062 train acc :  0.4566688144329897     val loss :  1.4079170039359492 val acc :  0.4854008838383838\n",
            "epoch :  5   train loss :  1.3983394225899937 train acc :  0.4813563144329897     val loss :  1.3837398913318937 val acc :  0.49429187710437705\n",
            "epoch :  6   train loss :  1.3698884805652898 train acc :  0.49063144329896907     val loss :  1.3390380194636458 val acc :  0.5203598484848485\n",
            "epoch :  7   train loss :  1.3445247072956916 train acc :  0.4987306701030928     val loss :  1.3371182939834165 val acc :  0.5130734427609427\n",
            "epoch :  8   train loss :  1.3231591064772885 train acc :  0.5015818298969072     val loss :  1.3118097819466308 val acc :  0.520675505050505\n",
            "epoch :  9   train loss :  1.3004675567436235 train acc :  0.5129800257731959     val loss :  1.2862712625470578 val acc :  0.5216487794612795\n",
            "epoch :  10   train loss :  1.2823219894655242 train acc :  0.5178930412371134     val loss :  1.2702654947790157 val acc :  0.5303293350168351\n",
            "epoch :  11   train loss :  1.263880808110416 train acc :  0.5245682989690722     val loss :  1.270329267946025 val acc :  0.5289088804713804\n",
            "epoch :  12   train loss :  1.2464746041972306 train acc :  0.5359664948453609     val loss :  1.2355226854031736 val acc :  0.562131734006734\n",
            "epoch :  13   train loss :  1.234324446324086 train acc :  0.5415302835051546     val loss :  1.2196480550337583 val acc :  0.5672348484848485\n",
            "epoch :  14   train loss :  1.2198885303272953 train acc :  0.5545940721649485     val loss :  1.2183529509447817 val acc :  0.5739688552188552\n",
            "epoch :  15   train loss :  1.206325046091254 train acc :  0.5573550257731958     val loss :  1.207991403645541 val acc :  0.567550505050505\n",
            "epoch :  16   train loss :  1.1944991426253404 train acc :  0.5663176546391753     val loss :  1.1983005835679408 val acc :  0.5763362794612795\n",
            "epoch :  17   train loss :  1.1825201931210791 train acc :  0.5670425257731959     val loss :  1.1882308847196432 val acc :  0.5847011784511785\n",
            "epoch :  18   train loss :  1.1737533616714333 train acc :  0.5754059278350515     val loss :  1.1812730816834582 val acc :  0.5754682239057239\n",
            "epoch :  19   train loss :  1.1640018948069148 train acc :  0.5798807989690722     val loss :  1.1798294967785947 val acc :  0.5950126262626263\n",
            "epoch :  20   train loss :  1.1538994095556572 train acc :  0.5856926546391752     val loss :  1.1536793598810349 val acc :  0.6060869107744108\n",
            "epoch :  21   train loss :  1.145409806233005 train acc :  0.5919426546391753     val loss :  1.1538184703471177 val acc :  0.6067445286195287\n",
            "epoch :  22   train loss :  1.137905843073704 train acc :  0.5896681701030928     val loss :  1.1452316848803408 val acc :  0.6046664562289563\n",
            "epoch :  23   train loss :  1.128670604202186 train acc :  0.598791881443299     val loss :  1.1304911795624544 val acc :  0.6106376262626263\n",
            "epoch :  24   train loss :  1.1219424850062092 train acc :  0.5952802835051546     val loss :  1.1422062772528037 val acc :  0.6115056818181819\n",
            "epoch :  25   train loss :  1.1129785692187257 train acc :  0.6025418814432989     val loss :  1.1363785260747759 val acc :  0.6015098905723906\n",
            "epoch :  26   train loss :  1.1073190011238179 train acc :  0.6078930412371134     val loss :  1.1306063633048373 val acc :  0.6117161195286196\n",
            "epoch :  27   train loss :  1.1008564533943013 train acc :  0.6128060567010309     val loss :  1.1163633179069679 val acc :  0.6083491161616161\n",
            "epoch :  28   train loss :  1.0923570633951103 train acc :  0.6111920103092783     val loss :  1.1002659450951682 val acc :  0.6320233585858586\n",
            "epoch :  29   train loss :  1.0867960332310278 train acc :  0.6219168814432989     val loss :  1.1250318600887297 val acc :  0.6127946127946129\n"
          ]
        }
      ]
    },
    {
      "cell_type": "markdown",
      "source": [
        "additional learning"
      ],
      "metadata": {
        "id": "_2kCHnP5DCJj"
      }
    },
    {
      "cell_type": "code",
      "source": [
        "for epoch in range(30,50):\n",
        "    loss_ep = 0  # add batch loss in epoch\n",
        "    acc_ep = 0\n",
        "    for batch_idx, batch in enumerate(trainLoader):\n",
        "        optimizer.zero_grad()\n",
        "        b,c,t = batch['x'].shape\n",
        "        data = torch.reshape(batch['x'],(b*c,1,t))\n",
        "        data = torch.Tensor(data).type(torch.float).to(device)\n",
        "\n",
        "        x1 =  FE1.getRep(data)\n",
        "        x2 =  FE2.embedding(data) \n",
        "        bc,f,t = x1.shape\n",
        "        pred  = model.forward(x1,x2,b,c,f,t)\n",
        "        CrossEL = torch.nn.CrossEntropyLoss()\n",
        "        label = batch['y'].type(torch.float64).to(device)\n",
        "       \n",
        "        loss = CrossEL(pred, label)\n",
        "        loss.backward(retain_graph=True)\n",
        "        optimizer.step() \n",
        "\n",
        "        _, label =  torch.max(label, 1)  \n",
        "        _, predicted = torch.max(pred, 1)\n",
        "        acc = (predicted == label).sum().item()\n",
        "        acc = acc/batch['x'].shape[0] #acc/(batch*channels*4(augmented))\n",
        "        loss_ep += loss.item()\n",
        "        # print('acc:', acc)\n",
        "        acc_ep += acc\n",
        "\n",
        "    loss_tr.append((loss_ep)/len(trainLoader))\n",
        "    acc_tr.append((acc_ep)/len(trainLoader))        \n",
        "\n",
        "    loss_ep_val = 0\n",
        "    acc_ep_val = 0\n",
        "    \n",
        "    for batch_idx, batch in enumerate(valLoader):\n",
        "        b,c,t = batch['x'].shape\n",
        "        data = torch.reshape(batch['x'],(b*c,1,t))\n",
        "        data = torch.Tensor(data).type(torch.float).to(device)\n",
        "\n",
        "        x1 =  FE1.getRep(data)\n",
        "        x2 =  FE2.embedding(data) \n",
        "        bc,f,t = x1.shape\n",
        "        pred  = model.forward(x1,x2,b,c,f,t)\n",
        "        CrossEL = torch.nn.CrossEntropyLoss()\n",
        "        label = batch['y'].type(torch.float64).to(device)\n",
        "        loss = CrossEL(pred, label)\n",
        "        \n",
        "        _, label =  torch.max(label, 1)  \n",
        "        _, predicted = torch.max(pred, 1)\n",
        "        acc = (predicted == label).sum().item()\n",
        "        acc = acc/batch['x'].shape[0]\n",
        "\n",
        "        loss_ep_val += loss.item()\n",
        "        acc_ep_val += acc\n",
        "\n",
        "    loss_val.append((loss_ep_val)/len(valLoader))\n",
        "    acc_val.append((acc_ep_val)/len(valLoader))\n",
        "    print(\"epoch : \", epoch, \"  train loss : \", loss_tr[epoch], 'train acc : ', acc_tr[epoch], \"    val loss : \", loss_val[epoch], 'val acc : ', acc_val[epoch])\n",
        "    torch.save(model,'SleepEDF_Conv_30s_ep' + str(epoch)+'_.pt')"
      ],
      "metadata": {
        "colab": {
          "base_uri": "https://localhost:8080/"
        },
        "id": "1L6Ofrl7CtTf",
        "outputId": "2eb1af5f-aa39-4dde-87bf-4122b25c9a4c"
      },
      "execution_count": 29,
      "outputs": [
        {
          "output_type": "stream",
          "name": "stdout",
          "text": [
            "epoch :  30   train loss :  1.0800243160831886 train acc :  0.6286791237113402     val loss :  1.0968956145538669 val acc :  0.6185553451178452\n",
            "epoch :  31   train loss :  1.0750024316140652 train acc :  0.6221423969072165     val loss :  1.1260892767152437 val acc :  0.6196338383838383\n",
            "epoch :  32   train loss :  1.067705886142794 train acc :  0.6237789948453608     val loss :  1.1168814739524011 val acc :  0.613873106060606\n",
            "epoch :  33   train loss :  1.0632877692432363 train acc :  0.6313917525773196     val loss :  1.0619601843780044 val acc :  0.6500420875420876\n",
            "epoch :  34   train loss :  1.0567146921514283 train acc :  0.6336791237113402     val loss :  1.082949955869303 val acc :  0.6247369528619529\n",
            "epoch :  35   train loss :  1.0504324159016785 train acc :  0.6392912371134021     val loss :  1.0591533008297693 val acc :  0.6281039562289563\n",
            "epoch :  36   train loss :  1.0468415329400114 train acc :  0.6419297680412371     val loss :  1.067629633211885 val acc :  0.6374421296296297\n",
            "epoch :  37   train loss :  1.041819735923014 train acc :  0.6402416237113403     val loss :  1.063767094484347 val acc :  0.654698021885522\n",
            "epoch :  38   train loss :  1.0379933706629234 train acc :  0.6395425257731958     val loss :  1.080717242204291 val acc :  0.6489372895622896\n",
            "epoch :  39   train loss :  1.0303988119249339 train acc :  0.6427545103092784     val loss :  1.0560115209041965 val acc :  0.6530671296296297\n",
            "epoch :  40   train loss :  1.025604319285359 train acc :  0.6504413659793815     val loss :  1.0433530206110029 val acc :  0.650462962962963\n",
            "epoch :  41   train loss :  1.0213475589811822 train acc :  0.6473807989690722     val loss :  1.0499730720191602 val acc :  0.6425452441077442\n",
            "epoch :  42   train loss :  1.016113824057837 train acc :  0.6432796391752578     val loss :  1.0362433053706757 val acc :  0.6601167929292929\n",
            "epoch :  43   train loss :  1.0104960091832602 train acc :  0.656153350515464     val loss :  1.0531845785957106 val acc :  0.6404671717171717\n",
            "epoch :  44   train loss :  1.0057302136003452 train acc :  0.6518911082474227     val loss :  1.0294843266068594 val acc :  0.6657723063973064\n",
            "epoch :  45   train loss :  1.0030603976991657 train acc :  0.6569297680412371     val loss :  1.0349631918454503 val acc :  0.646885521885522\n",
            "epoch :  46   train loss :  0.9980944822580414 train acc :  0.6535921391752578     val loss :  1.0323411041069328 val acc :  0.6576178451178452\n",
            "epoch :  47   train loss :  0.9914919718853126 train acc :  0.6573163659793815     val loss :  1.0127316794179064 val acc :  0.6608796296296297\n",
            "epoch :  48   train loss :  0.9882371163365105 train acc :  0.660528350515464     val loss :  1.0074582371966772 val acc :  0.664246632996633\n",
            "epoch :  49   train loss :  0.983068897111975 train acc :  0.6596907216494846     val loss :  1.0067652651473924 val acc :  0.6710858585858586\n"
          ]
        }
      ]
    },
    {
      "cell_type": "code",
      "source": [
        "for epoch in range(50,70):\n",
        "    loss_ep = 0  # add batch loss in epoch\n",
        "    acc_ep = 0\n",
        "    for batch_idx, batch in enumerate(trainLoader):\n",
        "        optimizer.zero_grad()\n",
        "        b,c,t = batch['x'].shape\n",
        "        data = torch.reshape(batch['x'],(b*c,1,t))\n",
        "        data = torch.Tensor(data).type(torch.float).to(device)\n",
        "\n",
        "        x1 =  FE1.getRep(data)\n",
        "        x2 =  FE2.embedding(data) \n",
        "        bc,f,t = x1.shape\n",
        "        pred  = model.forward(x1,x2,b,c,f,t)\n",
        "        CrossEL = torch.nn.CrossEntropyLoss()\n",
        "        label = batch['y'].type(torch.float64).to(device)\n",
        "       \n",
        "        loss = CrossEL(pred, label)\n",
        "        loss.backward(retain_graph=True)\n",
        "        optimizer.step() \n",
        "\n",
        "        _, label =  torch.max(label, 1)  \n",
        "        _, predicted = torch.max(pred, 1)\n",
        "        acc = (predicted == label).sum().item()\n",
        "        acc = acc/batch['x'].shape[0] #acc/(batch*channels*4(augmented))\n",
        "        loss_ep += loss.item()\n",
        "        # print('acc:', acc)\n",
        "        acc_ep += acc\n",
        "\n",
        "    loss_tr.append((loss_ep)/len(trainLoader))\n",
        "    acc_tr.append((acc_ep)/len(trainLoader))        \n",
        "\n",
        "    loss_ep_val = 0\n",
        "    acc_ep_val = 0\n",
        "    \n",
        "    for batch_idx, batch in enumerate(valLoader):\n",
        "        b,c,t = batch['x'].shape\n",
        "        data = torch.reshape(batch['x'],(b*c,1,t))\n",
        "        data = torch.Tensor(data).type(torch.float).to(device)\n",
        "\n",
        "        x1 =  FE1.getRep(data)\n",
        "        x2 =  FE2.embedding(data) \n",
        "        bc,f,t = x1.shape\n",
        "        pred  = model.forward(x1,x2,b,c,f,t)\n",
        "        CrossEL = torch.nn.CrossEntropyLoss()\n",
        "        label = batch['y'].type(torch.float64).to(device)\n",
        "        loss = CrossEL(pred, label)\n",
        "        \n",
        "        _, label =  torch.max(label, 1)  \n",
        "        _, predicted = torch.max(pred, 1)\n",
        "        acc = (predicted == label).sum().item()\n",
        "        acc = acc/batch['x'].shape[0]\n",
        "\n",
        "        loss_ep_val += loss.item()\n",
        "        acc_ep_val += acc\n",
        "\n",
        "    loss_val.append((loss_ep_val)/len(valLoader))\n",
        "    acc_val.append((acc_ep_val)/len(valLoader))\n",
        "    print(\"epoch : \", epoch, \"  train loss : \", loss_tr[epoch], 'train acc : ', acc_tr[epoch], \"    val loss : \", loss_val[epoch], 'val acc : ', acc_val[epoch])\n",
        "    torch.save(model,'SleepEDF_Conv_30s_ep' + str(epoch)+'_.pt')"
      ],
      "metadata": {
        "colab": {
          "base_uri": "https://localhost:8080/"
        },
        "id": "UvGXt2GZL6WA",
        "outputId": "7d270c77-5e81-4e1d-8fee-919917d129c1"
      },
      "execution_count": 30,
      "outputs": [
        {
          "output_type": "stream",
          "name": "stdout",
          "text": [
            "epoch :  50   train loss :  0.9795771825689937 train acc :  0.6577545103092785     val loss :  1.013969940758782 val acc :  0.6602220117845118\n",
            "epoch :  51   train loss :  0.9742341388334621 train acc :  0.6701417525773197     val loss :  1.0201740444351501 val acc :  0.6523042929292929\n",
            "epoch :  52   train loss :  0.971978126540084 train acc :  0.6652545103092784     val loss :  1.0465325204576545 val acc :  0.661958122895623\n",
            "epoch :  53   train loss :  0.9666111924847679 train acc :  0.6650289948453608     val loss :  0.9966075917472084 val acc :  0.6609848484848485\n",
            "epoch :  54   train loss :  0.9623616534473313 train acc :  0.6702287371134021     val loss :  1.002456204144532 val acc :  0.6476220538720538\n",
            "epoch :  55   train loss :  0.9606027741801383 train acc :  0.6661920103092784     val loss :  0.9996352540081668 val acc :  0.6644570707070707\n",
            "epoch :  56   train loss :  0.9543278746701508 train acc :  0.6738788659793815     val loss :  0.98593384873648 val acc :  0.6643518518518519\n",
            "epoch :  57   train loss :  0.9524073577334758 train acc :  0.6734922680412372     val loss :  0.9660819360909133 val acc :  0.6828177609427609\n",
            "epoch :  58   train loss :  0.9477118389618093 train acc :  0.6729413659793815     val loss :  0.9735828592303414 val acc :  0.6652199074074074\n",
            "epoch :  59   train loss :  0.942770742632223 train acc :  0.6732667525773196     val loss :  0.9753724487354548 val acc :  0.6746632996632997\n",
            "epoch :  60   train loss :  0.939486590064846 train acc :  0.6780154639175258     val loss :  0.9807000825558289 val acc :  0.6591435185185186\n",
            "epoch :  61   train loss :  0.9376642944537386 train acc :  0.6780798969072166     val loss :  0.9759121391138686 val acc :  0.6560921717171717\n",
            "epoch :  62   train loss :  0.934967032254628 train acc :  0.6759536082474227     val loss :  0.9772808688683146 val acc :  0.6746632996632997\n",
            "epoch :  63   train loss :  0.9294442995915851 train acc :  0.6760663659793815     val loss :  0.9661565431345078 val acc :  0.6661931818181819\n",
            "epoch :  64   train loss :  0.9249440885077174 train acc :  0.6798904639175258     val loss :  0.9583256527875952 val acc :  0.6856323653198654\n",
            "epoch :  65   train loss :  0.9234297600462456 train acc :  0.6836404639175258     val loss :  0.9391264632794621 val acc :  0.6745580808080809\n",
            "epoch :  66   train loss :  0.9180641309264207 train acc :  0.684590850515464     val loss :  0.9668889996192538 val acc :  0.663694234006734\n",
            "epoch :  67   train loss :  0.9156108683242569 train acc :  0.6870779639175258     val loss :  0.9412161680292189 val acc :  0.6806344696969697\n",
            "epoch :  68   train loss :  0.9129849785524685 train acc :  0.6809664948453609     val loss :  0.9481777773245186 val acc :  0.6763994107744108\n",
            "epoch :  69   train loss :  0.9117928056524269 train acc :  0.6889787371134021     val loss :  0.9598229770981378 val acc :  0.6746632996632997\n"
          ]
        }
      ]
    },
    {
      "cell_type": "code",
      "source": [
        "for epoch in range(70,90):\n",
        "    loss_ep = 0  # add batch loss in epoch\n",
        "    acc_ep = 0\n",
        "    for batch_idx, batch in enumerate(trainLoader):\n",
        "        optimizer.zero_grad()\n",
        "        b,c,t = batch['x'].shape\n",
        "        data = torch.reshape(batch['x'],(b*c,1,t))\n",
        "        data = torch.Tensor(data).type(torch.float).to(device)\n",
        "\n",
        "        x1 =  FE1.getRep(data)\n",
        "        x2 =  FE2.embedding(data) \n",
        "        bc,f,t = x1.shape\n",
        "        pred  = model.forward(x1,x2,b,c,f,t)\n",
        "        CrossEL = torch.nn.CrossEntropyLoss()\n",
        "        label = batch['y'].type(torch.float64).to(device)\n",
        "       \n",
        "        loss = CrossEL(pred, label)\n",
        "        loss.backward(retain_graph=True)\n",
        "        optimizer.step() \n",
        "\n",
        "        _, label =  torch.max(label, 1)  \n",
        "        _, predicted = torch.max(pred, 1)\n",
        "        acc = (predicted == label).sum().item()\n",
        "        acc = acc/batch['x'].shape[0] #acc/(batch*channels*4(augmented))\n",
        "        loss_ep += loss.item()\n",
        "        # print('acc:', acc)\n",
        "        acc_ep += acc\n",
        "\n",
        "    loss_tr.append((loss_ep)/len(trainLoader))\n",
        "    acc_tr.append((acc_ep)/len(trainLoader))        \n",
        "\n",
        "    loss_ep_val = 0\n",
        "    acc_ep_val = 0\n",
        "    \n",
        "    for batch_idx, batch in enumerate(valLoader):\n",
        "        b,c,t = batch['x'].shape\n",
        "        data = torch.reshape(batch['x'],(b*c,1,t))\n",
        "        data = torch.Tensor(data).type(torch.float).to(device)\n",
        "\n",
        "        x1 =  FE1.getRep(data)\n",
        "        x2 =  FE2.embedding(data) \n",
        "        bc,f,t = x1.shape\n",
        "        pred  = model.forward(x1,x2,b,c,f,t)\n",
        "        CrossEL = torch.nn.CrossEntropyLoss()\n",
        "        label = batch['y'].type(torch.float64).to(device)\n",
        "        loss = CrossEL(pred, label)\n",
        "        \n",
        "        _, label =  torch.max(label, 1)  \n",
        "        _, predicted = torch.max(pred, 1)\n",
        "        acc = (predicted == label).sum().item()\n",
        "        acc = acc/batch['x'].shape[0]\n",
        "\n",
        "        loss_ep_val += loss.item()\n",
        "        acc_ep_val += acc\n",
        "\n",
        "    loss_val.append((loss_ep_val)/len(valLoader))\n",
        "    acc_val.append((acc_ep_val)/len(valLoader))\n",
        "    print(\"epoch : \", epoch, \"  train loss : \", loss_tr[epoch], 'train acc : ', acc_tr[epoch], \"    val loss : \", loss_val[epoch], 'val acc : ', acc_val[epoch])\n",
        "    torch.save(model,'SleepEDF_Conv_30s_ep' + str(epoch)+'_.pt')"
      ],
      "metadata": {
        "colab": {
          "base_uri": "https://localhost:8080/"
        },
        "id": "tY8D-qThQDlR",
        "outputId": "5e5a2e01-11a5-4ee8-be19-f513d5b0d6c9"
      },
      "execution_count": 46,
      "outputs": [
        {
          "output_type": "stream",
          "name": "stdout",
          "text": [
            "epoch :  70   train loss :  0.907995027146619 train acc :  0.6878414948453608     val loss :  0.9342092460901156 val acc :  0.6634837962962963\n",
            "epoch :  71   train loss :  0.9036884698792921 train acc :  0.6848034793814434     val loss :  0.9193046725775379 val acc :  0.6924715909090909\n",
            "epoch :  72   train loss :  0.9036955847234716 train acc :  0.686291881443299     val loss :  0.9291902526177608 val acc :  0.6712962962962963\n",
            "epoch :  73   train loss :  0.8998756029709907 train acc :  0.6910663659793815     val loss :  0.9323506238169674 val acc :  0.6831334175084175\n",
            "epoch :  74   train loss :  0.896046970228427 train acc :  0.6910534793814433     val loss :  0.9172995612016442 val acc :  0.6889993686868687\n",
            "epoch :  75   train loss :  0.8921792911499147 train acc :  0.690715206185567     val loss :  0.9361378723602708 val acc :  0.6732428451178452\n",
            "epoch :  76   train loss :  0.8901244134739037 train acc :  0.6917042525773196     val loss :  0.9211501660256024 val acc :  0.6719539141414141\n",
            "epoch :  77   train loss :  0.8887229180997706 train acc :  0.6922164948453609     val loss :  0.9324737171252373 val acc :  0.6894202441077442\n",
            "epoch :  78   train loss :  0.88606275918018 train acc :  0.6895038659793815     val loss :  0.9293831959198252 val acc :  0.6731376262626263\n",
            "epoch :  79   train loss :  0.8835377225288629 train acc :  0.6932538659793814     val loss :  0.9254659148451899 val acc :  0.6791087962962963\n",
            "epoch :  80   train loss :  0.8779916785411553 train acc :  0.7001030927835052     val loss :  0.9227601480435091 val acc :  0.6711910774410774\n",
            "epoch :  81   train loss :  0.8782942218459199 train acc :  0.6920038659793815     val loss :  0.9370399848527631 val acc :  0.6717171717171717\n",
            "epoch :  82   train loss :  0.8753051918574919 train acc :  0.6987532216494846     val loss :  0.9302125932014863 val acc :  0.6656407828282828\n",
            "epoch :  83   train loss :  0.8733760601203691 train acc :  0.6974291237113402     val loss :  0.9258493713419946 val acc :  0.6809501262626263\n",
            "epoch :  84   train loss :  0.871149881988309 train acc :  0.7011533505154639     val loss :  0.918838242695501 val acc :  0.6723747895622896\n",
            "epoch :  85   train loss :  0.8679078306208818 train acc :  0.7015045103092784     val loss :  0.9054687759395679 val acc :  0.6868160774410774\n",
            "epoch :  86   train loss :  0.8693423260183891 train acc :  0.7013659793814433     val loss :  0.9004904023441309 val acc :  0.6790035774410774\n",
            "epoch :  87   train loss :  0.8675402843598613 train acc :  0.7026417525773196     val loss :  0.8951802456313244 val acc :  0.694207702020202\n",
            "epoch :  88   train loss :  0.862737743650868 train acc :  0.7003286082474227     val loss :  0.9052039723879006 val acc :  0.6766098484848485\n",
            "epoch :  89   train loss :  0.8600184612776591 train acc :  0.7004284793814434     val loss :  0.8813344479801316 val acc :  0.6951809764309764\n"
          ]
        }
      ]
    },
    {
      "cell_type": "code",
      "source": [
        "for epoch in range(90,110):\n",
        "    loss_ep = 0  # add batch loss in epoch\n",
        "    acc_ep = 0\n",
        "    for batch_idx, batch in enumerate(trainLoader):\n",
        "        optimizer.zero_grad()\n",
        "        b,c,t = batch['x'].shape\n",
        "        data = torch.reshape(batch['x'],(b*c,1,t))\n",
        "        data = torch.Tensor(data).type(torch.float).to(device)\n",
        "\n",
        "        x1 =  FE1.getRep(data)\n",
        "        x2 =  FE2.embedding(data) \n",
        "        bc,f,t = x1.shape\n",
        "        pred  = model.forward(x1,x2,b,c,f,t)\n",
        "        CrossEL = torch.nn.CrossEntropyLoss()\n",
        "        label = batch['y'].type(torch.float64).to(device)\n",
        "       \n",
        "        loss = CrossEL(pred, label)\n",
        "        loss.backward(retain_graph=True)\n",
        "        optimizer.step() \n",
        "\n",
        "        _, label =  torch.max(label, 1)  \n",
        "        _, predicted = torch.max(pred, 1)\n",
        "        acc = (predicted == label).sum().item()\n",
        "        acc = acc/batch['x'].shape[0] #acc/(batch*channels*4(augmented))\n",
        "        loss_ep += loss.item()\n",
        "        # print('acc:', acc)\n",
        "        acc_ep += acc\n",
        "\n",
        "    loss_tr.append((loss_ep)/len(trainLoader))\n",
        "    acc_tr.append((acc_ep)/len(trainLoader))        \n",
        "\n",
        "    loss_ep_val = 0\n",
        "    acc_ep_val = 0\n",
        "    \n",
        "    for batch_idx, batch in enumerate(valLoader):\n",
        "        b,c,t = batch['x'].shape\n",
        "        data = torch.reshape(batch['x'],(b*c,1,t))\n",
        "        data = torch.Tensor(data).type(torch.float).to(device)\n",
        "\n",
        "        x1 =  FE1.getRep(data)\n",
        "        x2 =  FE2.embedding(data) \n",
        "        bc,f,t = x1.shape\n",
        "        pred  = model.forward(x1,x2,b,c,f,t)\n",
        "        CrossEL = torch.nn.CrossEntropyLoss()\n",
        "        label = batch['y'].type(torch.float64).to(device)\n",
        "        loss = CrossEL(pred, label)\n",
        "        \n",
        "        _, label =  torch.max(label, 1)  \n",
        "        _, predicted = torch.max(pred, 1)\n",
        "        acc = (predicted == label).sum().item()\n",
        "        acc = acc/batch['x'].shape[0]\n",
        "\n",
        "        loss_ep_val += loss.item()\n",
        "        acc_ep_val += acc\n",
        "\n",
        "    loss_val.append((loss_ep_val)/len(valLoader))\n",
        "    acc_val.append((acc_ep_val)/len(valLoader))\n",
        "    print(\"epoch : \", epoch, \"  train loss : \", loss_tr[epoch], 'train acc : ', acc_tr[epoch], \"    val loss : \", loss_val[epoch], 'val acc : ', acc_val[epoch])\n",
        "    torch.save(model,'SleepEDF_Conv_30s_ep' + str(epoch)+'_.pt')"
      ],
      "metadata": {
        "colab": {
          "base_uri": "https://localhost:8080/"
        },
        "id": "LHblO57_Rodc",
        "outputId": "1b0abee2-21b4-471c-c38c-6bbf2c6b2d5b"
      },
      "execution_count": 48,
      "outputs": [
        {
          "output_type": "stream",
          "name": "stdout",
          "text": [
            "epoch :  90   train loss :  0.8598942842106599 train acc :  0.7058666237113402     val loss :  0.9023787939248008 val acc :  0.6712962962962963\n",
            "epoch :  91   train loss :  0.8560641919295682 train acc :  0.7099903350515464     val loss :  0.9019892751531994 val acc :  0.6800820707070707\n",
            "epoch :  92   train loss :  0.8518199484299006 train acc :  0.7052899484536083     val loss :  0.8839498886704844 val acc :  0.6927872474747475\n",
            "epoch :  93   train loss :  0.8513056035566662 train acc :  0.7064787371134021     val loss :  0.898904694646697 val acc :  0.679871632996633\n",
            "epoch :  94   train loss :  0.8506347275608622 train acc :  0.7091784793814433     val loss :  0.9011855435582211 val acc :  0.685395622895623\n",
            "epoch :  95   train loss :  0.8483742607658467 train acc :  0.7083279639175258     val loss :  0.9194035969063798 val acc :  0.6912615740740741\n",
            "epoch :  96   train loss :  0.8470521723037885 train acc :  0.7099033505154639     val loss :  0.8954855407069213 val acc :  0.6936553030303031\n",
            "epoch :  97   train loss :  0.8448491174898791 train acc :  0.7077287371134021     val loss :  0.8868119632041069 val acc :  0.6842119107744108\n",
            "epoch :  98   train loss :  0.8429502989525743 train acc :  0.7099162371134021     val loss :  0.8876174341191047 val acc :  0.6910511363636364\n",
            "epoch :  99   train loss :  0.839427930424644 train acc :  0.710402706185567     val loss :  0.8725482559499197 val acc :  0.7032039141414141\n",
            "epoch :  100   train loss :  0.8390015627051429 train acc :  0.7132538659793815     val loss :  0.8768080239678966 val acc :  0.687684132996633\n",
            "epoch :  101   train loss :  0.8383061759817305 train acc :  0.7129155927835051     val loss :  0.8815413974341887 val acc :  0.6875789141414141\n",
            "epoch :  102   train loss :  0.8361957815871274 train acc :  0.7109664948453609     val loss :  0.865270219711098 val acc :  0.6970223063973064\n",
            "epoch :  103   train loss :  0.8326013409390418 train acc :  0.7113273195876288     val loss :  0.8878721199846029 val acc :  0.6921296296296297\n",
            "epoch :  104   train loss :  0.8312073440624391 train acc :  0.7152029639175258     val loss :  0.8915499376234703 val acc :  0.695496632996633\n",
            "epoch :  105   train loss :  0.8302808679197105 train acc :  0.7156282216494846     val loss :  0.8645555851873864 val acc :  0.6953914141414141\n",
            "epoch :  106   train loss :  0.8305869891277194 train acc :  0.7139046391752578     val loss :  0.8646056399458377 val acc :  0.6982060185185186\n",
            "epoch :  107   train loss :  0.8266361052617364 train acc :  0.7171778350515464     val loss :  0.8826835326422211 val acc :  0.6913667929292929\n",
            "epoch :  108   train loss :  0.8242121866311172 train acc :  0.7187532216494845     val loss :  0.894679814491751 val acc :  0.6862636784511785\n",
            "epoch :  109   train loss :  0.8246734352552718 train acc :  0.7141655927835052     val loss :  0.8939144509690977 val acc :  0.6907091750841752\n"
          ]
        }
      ]
    },
    {
      "cell_type": "code",
      "source": [
        "import pandas as pd\n",
        "col = ['loss_tr','loss_val','acc_tr','acc_val']\n",
        "data = np.array([loss_tr,\n",
        "                 loss_val,\n",
        "                 acc_tr,\n",
        "                 acc_val])\n",
        "print(data.shape)\n",
        "data = np.transpose(data)\n",
        "df = pd.DataFrame(data = data, columns= col)\n",
        "df.to_excel('SleepEDF_conv10s.xlsx', index = False)\n"
      ],
      "metadata": {
        "colab": {
          "base_uri": "https://localhost:8080/"
        },
        "id": "-dLGi88mRVw5",
        "outputId": "eb40bb9a-b10e-4ea3-b14e-d6df02b5126e"
      },
      "execution_count": 49,
      "outputs": [
        {
          "output_type": "stream",
          "name": "stdout",
          "text": [
            "(4, 110)\n"
          ]
        }
      ]
    },
    {
      "cell_type": "code",
      "source": [
        "epochs = 110"
      ],
      "metadata": {
        "id": "TjQgJ4OsFn5M"
      },
      "execution_count": 50,
      "outputs": []
    },
    {
      "cell_type": "code",
      "source": [
        "import matplotlib.pyplot as plt\n",
        "  \n",
        "# plt.figure(figsize =(15, 10))\n",
        "plt.plot(range(epochs), loss_tr, color='red')\n",
        "plt.plot(range(epochs), loss_val, color='blue')\n",
        "plt.title('Model loss')\n",
        "plt.xlabel('epochs')\n",
        "plt.ylabel('loss')\n",
        "plt.legend(['Train', 'Validation'], loc='upper right')\n",
        "plt.savefig('SleepEDF_conv10s_loss.png',bbox_inches = 'tight')\n",
        "plt.show() "
      ],
      "metadata": {
        "colab": {
          "base_uri": "https://localhost:8080/",
          "height": 295
        },
        "outputId": "ef2388bd-378f-4bcc-f0ad-741a3835b27e",
        "id": "aRBbSnNtQbkD"
      },
      "execution_count": 51,
      "outputs": [
        {
          "output_type": "display_data",
          "data": {
            "text/plain": [
              "<Figure size 432x288 with 1 Axes>"
            ],
            "image/png": "[encoded data removed]"
          },
          "metadata": {
            "needs_background": "light"
          }
        }
      ]
    },
    {
      "cell_type": "code",
      "source": [
        "# plt.figure(figsize =(15, 10))\n",
        "plt.plot(range(epochs), acc_tr, color='red')\n",
        "plt.plot(range(epochs), acc_val, color='blue')\n",
        "plt.title('Model accuracy')\n",
        "plt.xlabel('epochs')\n",
        "plt.ylabel('accuracy')\n",
        "plt.legend(['Train', 'Validation'], loc='lower right')\n",
        "plt.savefig('SleepEDF_conv10s_accuracy.png',bbox_inches = 'tight')\n",
        "plt.show()"
      ],
      "metadata": {
        "colab": {
          "base_uri": "https://localhost:8080/",
          "height": 295
        },
        "outputId": "56b95e13-551c-449d-b79e-ec811198c1d6",
        "id": "sN6ihZN4QbkE"
      },
      "execution_count": 52,
      "outputs": [
        {
          "output_type": "display_data",
          "data": {
            "text/plain": [
              "<Figure size 432x288 with 1 Axes>"
            ],
            "image/png": "[encoded data removed]"
          },
          "metadata": {
            "needs_background": "light"
          }
        }
      ]
    },
    {
      "cell_type": "code",
      "source": [
        "model = torch.load('/content/SleepEDF_Conv_30s_ep99_.pt').to(device)"
      ],
      "metadata": {
        "id": "V4ccVb0ETOsY"
      },
      "execution_count": 54,
      "outputs": []
    },
    {
      "cell_type": "code",
      "source": [
        "loss_ep_test = 0\n",
        "acc_ep_test = 0\n",
        "for batch_idx, batch in enumerate(testLoader):\n",
        "        b,c,t = batch['x'].shape\n",
        "        data = torch.reshape(batch['x'],(b*c,1,t))\n",
        "        data = torch.Tensor(data).type(torch.float).to(device)\n",
        "\n",
        "        x1 =  FE1.getRep(data)\n",
        "        x2 =  FE2.embedding(data) \n",
        "        bc,f,t = x1.shape\n",
        "        pred  = model.forward(x1,x2,b,c,f,t)\n",
        "        CrossEL = torch.nn.CrossEntropyLoss()\n",
        "        label = batch['y'].type(torch.float64).to(device)\n",
        "        loss = CrossEL(pred, label)\n",
        "        \n",
        "        _, label =  torch.max(label, 1)  \n",
        "        _, predicted = torch.max(pred, 1)\n",
        "        acc = (predicted == label).sum().item()\n",
        "        acc = acc/batch['x'].shape[0]\n",
        "        loss_ep_test += loss.item()\n",
        "        acc_ep_test += acc\n",
        "\n",
        "acc_ep_test = acc_ep_test/len(testLoader)\n",
        "loss_ep_test = loss_ep_test/len(testLoader)\n",
        "\n",
        "print(acc_ep_test)\n",
        "print(loss_ep_test)"
      ],
      "metadata": {
        "colab": {
          "base_uri": "https://localhost:8080/"
        },
        "id": "2GMhsbW-tHab",
        "outputId": "9b6dc029-f953-4063-a6ff-250d851c53b6"
      },
      "execution_count": 55,
      "outputs": [
        {
          "output_type": "stream",
          "name": "stdout",
          "text": [
            "0.7394518097643098\n",
            "0.8012365100297059\n"
          ]
        }
      ]
    },
    {
      "cell_type": "code",
      "source": [
        "label_list = []\n",
        "predicted_list = []\n",
        "for batch_idx, batch in enumerate(testLoader):\n",
        "        b,c,t = batch['x'].shape\n",
        "        data = torch.reshape(batch['x'],(b*c,1,t))\n",
        "        data = torch.Tensor(data).type(torch.float).to(device)\n",
        "\n",
        "        x1 =  FE1.getRep(data)\n",
        "        x2 =  FE2.embedding(data) \n",
        "        bc,f,t = x1.shape\n",
        "        pred  = model.forward(x1,x2,b,c,f,t)\n",
        "        CrossEL = torch.nn.CrossEntropyLoss()\n",
        "        label = batch['y'].type(torch.float64).to(device)\n",
        "        \n",
        "        _, label =  torch.max(label, 1)  \n",
        "        _, predicted = torch.max(pred, 1)\n",
        "        label_list.extend(label.cpu().detach().numpy())\n",
        "        predicted_list.extend(predicted.cpu().detach().numpy())"
      ],
      "metadata": {
        "id": "JXgSul4kDlpz"
      },
      "execution_count": 56,
      "outputs": []
    },
    {
      "cell_type": "code",
      "source": [
        "# confusion matrix 사용을 위한 라이브러리\n",
        "from sklearn.metrics import confusion_matrix\n",
        "conf_matrix = confusion_matrix(label_list, predicted_list)\n",
        "print(conf_matrix)"
      ],
      "metadata": {
        "id": "c-y5mOdw49Y5",
        "colab": {
          "base_uri": "https://localhost:8080/"
        },
        "outputId": "e9cb84c6-05f4-4b72-c76a-e4d14c3b3cc7"
      },
      "execution_count": 57,
      "outputs": [
        {
          "output_type": "stream",
          "name": "stdout",
          "text": [
            "[[ 94   1  18   0   2  12]\n",
            " [ 25   2  32   0   0  29]\n",
            " [  9   1 468   7   5  23]\n",
            " [  0   0  39  26  11   0]\n",
            " [  0   0  19  18  45   0]\n",
            " [  8   1  20   0   0 142]]\n"
          ]
        }
      ]
    },
    {
      "cell_type": "code",
      "source": [
        "title = 'confusion matrix'\n",
        "cmap=plt.cm.Greens\n",
        "plt.figure(figsize=(6, 6))\n",
        "plt.imshow(conf_matrix, interpolation='nearest', cmap=cmap)  # , cmap=plt.cm.Greens\n",
        "plt.title(title, size=12)\n",
        "plt.colorbar(fraction=0.05, pad=0.05)\n",
        "tick_marks = np.arange(6, 6)\n",
        "plt.yticks(np.arange(6), ('W','N1','N2','N3','N4','R'))\n",
        "plt.xticks(np.arange(6), ('W','N1','N2','N3','N4','R'))\n",
        "\n",
        "\n",
        "fmt = 'd' \n",
        "thresh = 1\n",
        "for i in range(conf_matrix.shape[0]):\n",
        "    for j in range(conf_matrix.shape[1]):\n",
        "        plt.text(j, i, format(conf_matrix[i, j], fmt),\n",
        "                 ha=\"center\", va=\"center\", color=\"black\" if conf_matrix[i, j] > thresh else \"black\")  #horizontalalignment\n",
        "plt.savefig('SleepEDF_conv10s_confusion matrix.png',bbox_inches = 'tight')"
      ],
      "metadata": {
        "colab": {
          "base_uri": "https://localhost:8080/",
          "height": 367
        },
        "id": "l1JMllMxSB7b",
        "outputId": "a4f95d52-944e-4323-8856-0b278aa6a334"
      },
      "execution_count": 58,
      "outputs": [
        {
          "output_type": "display_data",
          "data": {
            "text/plain": [
              "<Figure size 432x432 with 2 Axes>"
            ],
            "image/png": "[encoded data removed]"
          },
          "metadata": {
            "needs_background": "light"
          }
        }
      ]
    }
  ]
}