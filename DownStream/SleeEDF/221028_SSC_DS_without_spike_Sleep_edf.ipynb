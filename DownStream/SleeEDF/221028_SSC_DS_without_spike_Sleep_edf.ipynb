{
  "nbformat": 4,
  "nbformat_minor": 0,
  "metadata": {
    "colab": {
      "provenance": [],
      "collapsed_sections": []
    },
    "kernelspec": {
      "name": "python3",
      "display_name": "Python 3"
    },
    "language_info": {
      "name": "python"
    },
    "gpuClass": "standard"
  },
  "cells": [
    {
      "cell_type": "code",
      "source": [
        "!pip install mne"
      ],
      "metadata": {
        "colab": {
          "base_uri": "https://localhost:8080/"
        },
        "id": "bDWt74XAgpLK",
        "outputId": "b1377a32-f3db-44d0-d05d-9fdc7018173a"
      },
      "execution_count": 1,
      "outputs": [
        {
          "output_type": "stream",
          "name": "stdout",
          "text": [
            "Looking in indexes: https://pypi.org/simple, https://us-python.pkg.dev/colab-wheels/public/simple/\n",
            "Collecting mne\n",
            "  Downloading mne-1.2.1-py3-none-any.whl (7.6 MB)\n",
            "\u001b[K     |████████████████████████████████| 7.6 MB 5.0 MB/s \n",
            "\u001b[?25hRequirement already satisfied: scipy>=1.1.0 in /usr/local/lib/python3.7/dist-packages (from mne) (1.7.3)\n",
            "Requirement already satisfied: jinja2 in /usr/local/lib/python3.7/dist-packages (from mne) (2.11.3)\n",
            "Requirement already satisfied: numpy>=1.15.4 in /usr/local/lib/python3.7/dist-packages (from mne) (1.21.6)\n",
            "Requirement already satisfied: tqdm in /usr/local/lib/python3.7/dist-packages (from mne) (4.64.1)\n",
            "Requirement already satisfied: pooch>=1.5 in /usr/local/lib/python3.7/dist-packages (from mne) (1.6.0)\n",
            "Requirement already satisfied: packaging in /usr/local/lib/python3.7/dist-packages (from mne) (21.3)\n",
            "Requirement already satisfied: decorator in /usr/local/lib/python3.7/dist-packages (from mne) (4.4.2)\n",
            "Requirement already satisfied: matplotlib in /usr/local/lib/python3.7/dist-packages (from mne) (3.2.2)\n",
            "Requirement already satisfied: requests>=2.19.0 in /usr/local/lib/python3.7/dist-packages (from pooch>=1.5->mne) (2.23.0)\n",
            "Requirement already satisfied: appdirs>=1.3.0 in /usr/local/lib/python3.7/dist-packages (from pooch>=1.5->mne) (1.4.4)\n",
            "Requirement already satisfied: pyparsing!=3.0.5,>=2.0.2 in /usr/local/lib/python3.7/dist-packages (from packaging->mne) (3.0.9)\n",
            "Requirement already satisfied: certifi>=2017.4.17 in /usr/local/lib/python3.7/dist-packages (from requests>=2.19.0->pooch>=1.5->mne) (2022.9.24)\n",
            "Requirement already satisfied: urllib3!=1.25.0,!=1.25.1,<1.26,>=1.21.1 in /usr/local/lib/python3.7/dist-packages (from requests>=2.19.0->pooch>=1.5->mne) (1.24.3)\n",
            "Requirement already satisfied: idna<3,>=2.5 in /usr/local/lib/python3.7/dist-packages (from requests>=2.19.0->pooch>=1.5->mne) (2.10)\n",
            "Requirement already satisfied: chardet<4,>=3.0.2 in /usr/local/lib/python3.7/dist-packages (from requests>=2.19.0->pooch>=1.5->mne) (3.0.4)\n",
            "Requirement already satisfied: MarkupSafe>=0.23 in /usr/local/lib/python3.7/dist-packages (from jinja2->mne) (2.0.1)\n",
            "Requirement already satisfied: cycler>=0.10 in /usr/local/lib/python3.7/dist-packages (from matplotlib->mne) (0.11.0)\n",
            "Requirement already satisfied: python-dateutil>=2.1 in /usr/local/lib/python3.7/dist-packages (from matplotlib->mne) (2.8.2)\n",
            "Requirement already satisfied: kiwisolver>=1.0.1 in /usr/local/lib/python3.7/dist-packages (from matplotlib->mne) (1.4.4)\n",
            "Requirement already satisfied: typing-extensions in /usr/local/lib/python3.7/dist-packages (from kiwisolver>=1.0.1->matplotlib->mne) (4.1.1)\n",
            "Requirement already satisfied: six>=1.5 in /usr/local/lib/python3.7/dist-packages (from python-dateutil>=2.1->matplotlib->mne) (1.15.0)\n",
            "Installing collected packages: mne\n",
            "Successfully installed mne-1.2.1\n"
          ]
        }
      ]
    },
    {
      "cell_type": "code",
      "execution_count": 66,
      "metadata": {
        "id": "l4YUYhC7E4Ck"
      },
      "outputs": [],
      "source": [
        "from torch.utils.data import Dataset\n",
        "import torch\n",
        "import pickle\n",
        "import mne\n",
        "import numpy as np\n",
        "import time\n",
        "\n",
        "class Sleepedf_dataset(Dataset):\n",
        "    def __init__(self, files):\n",
        "        self.files = files\n",
        "        max_value = 0.\n",
        "        min_value = 0.\n",
        "\n",
        "        for i in range(len(self.files)):\n",
        "            sample = np.load(files[i])['x']\n",
        "            temp_max = sample.max()\n",
        "            temp_min = sample.min()\n",
        "            max_value = np.max([max_value, temp_max])\n",
        "            min_value = np.min([min_value, temp_min])\n",
        "        \n",
        "\n",
        "        self.max_value = max_value\n",
        "        self.min_value = min_value\n",
        "\n",
        "    def preprocessing(self, data):\n",
        "        data_max = np.max(data,axis = 1, keepdims=True) # max value of each channels\n",
        "        data_min = np.min(data,axis = 1, keepdims=True) # shape = c,t\n",
        "        c,t = data.shape\n",
        "        \n",
        "        return data/data_max*np.ones((c,t)) - (data_max - data_min)*np.ones((c,t))/(self.max_value - self.min_value)\n",
        "\n",
        "    def one_hot_encoding(self,y):\n",
        "        if y == '1':\n",
        "          y = np.array([0,1,0,0,0,0])\n",
        "        elif y == '2':\n",
        "          y = np.array([0,0,1,0,0,0])   \n",
        "        elif y == '3':\n",
        "          y = np.array([0,0,0,1,0,0])\n",
        "        elif y == '4':\n",
        "          y = np.array([0,0,0,0,1,0])\n",
        "        elif y == 'R':\n",
        "          y = np.array([0,0,0,0,0,1])\n",
        "        else:\n",
        "          y = np.array([1,0,0,0,0,0])      \n",
        "        return y  \n",
        "\n",
        "\n",
        "    def __getitem__(self, index):          \n",
        "        sample = np.load(self.files[index])  \n",
        "        y = self.one_hot_encoding(sample['y'])\n",
        "        sample = self.preprocessing(sample['x'])\n",
        "        return { 'x' : torch.tensor(sample), \n",
        "                 'y' : torch.tensor(y)\n",
        "                   }\n",
        "          \n",
        "    def __len__(self):\n",
        "        return len(self.files)\n"
      ]
    },
    {
      "cell_type": "code",
      "source": [
        "from google.colab import drive\n",
        "drive.mount('/content/drive')"
      ],
      "metadata": {
        "colab": {
          "base_uri": "https://localhost:8080/"
        },
        "id": "bIOrsdt3_1Yd",
        "outputId": "b029a566-557a-4ca2-e4d7-f472a51eaddd"
      },
      "execution_count": 3,
      "outputs": [
        {
          "output_type": "stream",
          "name": "stdout",
          "text": [
            "Mounted at /content/drive\n"
          ]
        }
      ]
    },
    {
      "cell_type": "code",
      "execution_count": 4,
      "metadata": {
        "colab": {
          "base_uri": "https://localhost:8080/"
        },
        "id": "pk5UWrymWlfa",
        "outputId": "c35034f9-314c-4f00-a040-0214c98cea89"
      },
      "outputs": [
        {
          "output_type": "stream",
          "name": "stdout",
          "text": [
            "62\n",
            "5480\n"
          ]
        }
      ],
      "source": [
        "import glob\n",
        "\n",
        "SleepEDF_file_list = glob.glob('/content/drive/MyDrive/sleep_edfx/Preprocessed_EEG/SC/**')\n",
        "print(len(SleepEDF_file_list[0]))\n",
        "SleepEDF_list = []\n",
        "for i in range(2):\n",
        "    SleepEDF_list.extend(glob.glob(SleepEDF_file_list[i]+'/**'))\n",
        "print(len(SleepEDF_list))"
      ]
    },
    {
      "cell_type": "code",
      "source": [
        "from sklearn.model_selection import train_test_split\n",
        "\n",
        "train, test = train_test_split(SleepEDF_list, test_size=0.2)#, shuffle=True, random_state=34), #stratify=target\n",
        "train, val = train_test_split(train, test_size= 0.25)#, shu"
      ],
      "metadata": {
        "id": "8hZHBofhD_ti"
      },
      "execution_count": 50,
      "outputs": []
    },
    {
      "cell_type": "code",
      "source": [
        "train_dataset = Sleepedf_dataset(train)\n",
        "val_dataset = Sleepedf_dataset(val)\n",
        "test_dataset = Sleepedf_dataset(test)"
      ],
      "metadata": {
        "id": "eY3pJkIbWoFC"
      },
      "execution_count": 67,
      "outputs": []
    },
    {
      "cell_type": "code",
      "source": [
        "!pip install separableconv-torch"
      ],
      "metadata": {
        "id": "834tX7V_uCyj",
        "colab": {
          "base_uri": "https://localhost:8080/"
        },
        "outputId": "5cedb44b-febc-4036-daf6-8606554569ad"
      },
      "execution_count": 7,
      "outputs": [
        {
          "output_type": "stream",
          "name": "stdout",
          "text": [
            "Looking in indexes: https://pypi.org/simple, https://us-python.pkg.dev/colab-wheels/public/simple/\n",
            "Collecting separableconv-torch\n",
            "  Downloading separableconv_torch-0.1.0-py3-none-any.whl (11 kB)\n",
            "Requirement already satisfied: numpy in /usr/local/lib/python3.7/dist-packages (from separableconv-torch) (1.21.6)\n",
            "Requirement already satisfied: torchvision in /usr/local/lib/python3.7/dist-packages (from separableconv-torch) (0.13.1+cu113)\n",
            "Requirement already satisfied: torch in /usr/local/lib/python3.7/dist-packages (from separableconv-torch) (1.12.1+cu113)\n",
            "Requirement already satisfied: typing-extensions in /usr/local/lib/python3.7/dist-packages (from torch->separableconv-torch) (4.1.1)\n",
            "Requirement already satisfied: pillow!=8.3.*,>=5.3.0 in /usr/local/lib/python3.7/dist-packages (from torchvision->separableconv-torch) (7.1.2)\n",
            "Requirement already satisfied: requests in /usr/local/lib/python3.7/dist-packages (from torchvision->separableconv-torch) (2.23.0)\n",
            "Requirement already satisfied: certifi>=2017.4.17 in /usr/local/lib/python3.7/dist-packages (from requests->torchvision->separableconv-torch) (2022.9.24)\n",
            "Requirement already satisfied: chardet<4,>=3.0.2 in /usr/local/lib/python3.7/dist-packages (from requests->torchvision->separableconv-torch) (3.0.4)\n",
            "Requirement already satisfied: idna<3,>=2.5 in /usr/local/lib/python3.7/dist-packages (from requests->torchvision->separableconv-torch) (2.10)\n",
            "Requirement already satisfied: urllib3!=1.25.0,!=1.25.1,<1.26,>=1.21.1 in /usr/local/lib/python3.7/dist-packages (from requests->torchvision->separableconv-torch) (1.24.3)\n",
            "Installing collected packages: separableconv-torch\n",
            "Successfully installed separableconv-torch-0.1.0\n"
          ]
        }
      ]
    },
    {
      "cell_type": "code",
      "source": [
        "import numpy as np\n",
        "import torch\n",
        "import torch.nn as nn\n",
        "from mne.filter import filter_data, notch_filter\n",
        "import matplotlib.pyplot as plt\n",
        "\n",
        "\n",
        "class Encoder(nn.Module):\n",
        "    def __init__(self, fs, encode_info):\n",
        "        super(Encoder, self).__init__()\n",
        "        #spectral layer means spectral convolution\n",
        "        #self.bac_layer is consist of several SeparableConv2d, which plays the role of temporal separable convolution\n",
        "        #convolution layer are initiated by xavier_uniform initization\n",
        "        #Input are Normalized by self.bn(=torch.nn.BatchNorm2d)\n",
        "        #[batch, electrode, length] -> [batch, electrode, Feature]\n",
        "        self.fs = fs\n",
        "        self.elu = nn.ELU()\n",
        "        self.maxpool = nn.AdaptiveMaxPool1d(1)\n",
        "        self.bn = nn.BatchNorm1d(1)\n",
        "        self.activation = nn.LeakyReLU()\n",
        "\n",
        "        self.spectral_layer = nn.Conv1d(1, 10, int(self.fs/2), padding=\"same\")\n",
        "\n",
        "        # self.bac_layer = nn.Sequential()\n",
        "        # for i, arg in enumerate(encode_info):\n",
        "        #     input_dim, output_dim, kernel_size = arg\n",
        "        #     self.bac_layer.add_module(\"temporal_conv_\"+str(i),\n",
        "        #                           nn.Conv1d(input_dim, output_dim, kernel_size, padding = 'same'))\n",
        "        #     self.bac_layer.add_module(\"ELU\",nn.ELU()) \n",
        "        \n",
        "        self.conv1t = nn.Conv1d(10,16, 30, padding ='same')\n",
        "        self.conv2t = nn.Conv1d(16,32, 15, padding ='same')\n",
        "        self.conv3t = nn.Conv1d(32,64, 5, padding ='same')\n",
        "        \n",
        "        torch.nn.init.xavier_uniform_(self.spectral_layer.weight)\n",
        "        #self.bac_layer.apply(weight_init_xavier_uniform)\n",
        "\n",
        "    def forward(self, x):\n",
        "        x = self.activation(self.spectral_layer(x))\n",
        "        x = self.activation(self.conv1t(x))\n",
        "        x = self.activation(self.conv2t(x))\n",
        "        x = self.activation(self.conv3t(x))\n",
        "\n",
        "        return x\n",
        "\n",
        "#Linear layer for SSL classification\n",
        "class Head_NN(nn.Module):\n",
        "    def __init__(self):\n",
        "        super(Head_NN, self).__init__()        \n",
        "        # self.layer = nn.Sequential(\n",
        "        #     nn.Dropout(0.5),\n",
        "        #     nn.Linear(64*length, 5)\n",
        "        # )\n",
        "        \n",
        "        self.layer = nn.Sequential(\n",
        "            nn.Dropout(0.5),\n",
        "            nn.Linear(64, 5)\n",
        "        )\n",
        "        \n",
        "        self.softmax = torch.nn.Softmax()\n",
        "        # self.layer.apply(weight_init_xavier_uniform)\n",
        "        self.bn = nn.BatchNorm1d(64)\n",
        "        self.flatten = nn.Flatten()\n",
        "\n",
        "    def forward(self, x):\n",
        "        x = torch.mean(x, axis = 2) # Global average pooling into temporal dimension\n",
        "        # x = self.flatten(x)\n",
        "        x = self.layer(x)\n",
        "        x = self.softmax(x)\n",
        "        return x\n",
        "\n",
        "class StoppedBandPathway(nn.Module):\n",
        "    def __init__(self, fs, Unsupervise, encode_info, bands):\n",
        "        super(StoppedBandPathway, self).__init__()\n",
        "        self.encoder = Encoder(fs, encode_info)\n",
        "        self.pretrain = Head_NN()\n",
        "        self.Unsupervise = Unsupervise\n",
        "\n",
        "\n",
        "    def forward(self, x):\n",
        "        x = self.encoder(x)\n",
        "        x = self.pretrain(x)\n",
        "        return x\n",
        "\n",
        "    def getRep(self, x):\n",
        "        x = self.encoder(x)\n",
        "        return x\n"
      ],
      "metadata": {
        "id": "glstHzJT3A0Q"
      },
      "execution_count": 35,
      "outputs": []
    },
    {
      "cell_type": "code",
      "source": [
        "class feature_extractor3(nn.Module):\n",
        "    def __init__(self):\n",
        "        super(feature_extractor3,self).__init__()\n",
        "        \n",
        "        self.channels = 1 # we use only single channel \n",
        "        \n",
        "        # Activation functions\n",
        "        self.activation = nn.LeakyReLU()\n",
        "        # self.bn = nn.BatchNorm1d(1)\n",
        "\n",
        "        # self.conv2t = nns.SeparableConv1d(16,32,10,padding ='same') (in_channels, out_channels, kernel size,,,) \n",
        "\n",
        "        self.softmax = nn.Softmax()\n",
        "        self.conv1t = nn.Conv1d(1,10, 30, padding ='same') #in_channels, out_channels, kernel_size, \n",
        "        self.conv1s = nn.Conv1d(10,10,self.channels)\n",
        "        self.conv2t = nn.Conv1d(10,20,15,padding ='same') \n",
        "        self.conv2s = nn.Conv1d(20,20,self.channels)\n",
        "        self.conv3t = nn.Conv1d(20,34,5,padding ='same')\n",
        "        self.conv3s = nn.Conv1d(34,34,self.channels)\n",
        "        \n",
        "                  \n",
        "        # Flatteninig\n",
        "        self.flatten = nn.Flatten()\n",
        "\n",
        "        # Dropout\n",
        "        self.dropout = nn.Dropout(0.5)\n",
        "\n",
        "        # Decision making\n",
        "        self.Linear = nn.Linear(256000 ,4) # \n",
        "\n",
        "      \n",
        "    def embedding(self, x):\n",
        "        x = self.activation(self.conv1t(x))\n",
        "        f1 = self.activation(self.conv1s(x))\n",
        "\n",
        "        x = self.activation(self.conv2t(x))\n",
        "        f2 = self.activation(self.conv2s(x))\n",
        "\n",
        "        x = self.activation(self.conv3t(x))\n",
        "        f3 = self.activation(self.conv3s(x))\n",
        "        \n",
        "        # multi-scale feature representation by exploiting intermediate features\n",
        "        feature = torch.cat([f1, f2, f3],dim = 1 )\n",
        "        \n",
        "        return feature\n",
        "\n",
        "    def classifier(self, feature):\n",
        "        # Flattening, dropout, mapping into the decision nodes\n",
        "        feature = self.flatten(feature)\n",
        "        feature = self.dropout(feature)\n",
        "        y_hat = self.softmax(self.Linear(feature))\n",
        "        return y_hat    \n",
        "\n",
        "    def forward(self, x):\n",
        "        feature = self.embedding(x)\n",
        "        y_hat = self.classifier(feature)\n",
        "        return y_hat"
      ],
      "metadata": {
        "id": "17Wx4RicDlgZ"
      },
      "execution_count": 36,
      "outputs": []
    },
    {
      "cell_type": "code",
      "source": [
        "import numpy as np\n",
        "import torch\n",
        "import torch.nn as nn\n",
        "# import separableconv.nn as snn\n",
        "\n",
        "class FeatureEncoder(nn.Module):\n",
        "    def __init__(self,x1,x2):\n",
        "        super(FeatureEncoder, self).__init__()\n",
        "        self.sepctral_rept = x1\n",
        "        self.temporal_rept = x2\n",
        "        self.spatial_conv = nn.Conv2d(64,64, (2,1))\n",
        "        #self.GVP = torch.var(dim=-1) \n",
        "\n",
        "    def fGAP(self, x):\n",
        "        #  x.shape = batch*channel, feature, time -->\n",
        "        x = torch.tensor(x)\n",
        "        x = torch.mean(x, 2) # channel\n",
        "        x = torch.mean(x, 2) # time\n",
        "        return x\n",
        "\n",
        "    def fGVP(self, x):\n",
        "         #  x.shape = batch,  channel, feature, time -->\n",
        "        x = torch.tensor(x)\n",
        "        x = torch.var(x, 2) # channel\n",
        "        x = torch.var(x, 2) # time\n",
        "        return x    \n",
        "    \n",
        "\n",
        "    def forward(self,b,c,f,t):\n",
        "        f_1 = self.sepctral_rept\n",
        "        f_2 = self.temporal_rept\n",
        "        f_1 = torch.reshape(f_1,(b,f,c,t)) \n",
        "        f_2 = torch.reshape(f_2,(b,f,c,t)) \n",
        "        # print(f_1.shape,f_2.shape)\n",
        "        f_GAP = torch.cat(( self.fGAP(f_1),self.fGAP(f_2) ), axis=1)\n",
        "        f_GVP = torch.cat((self.fGVP(f_1),self.fGVP(f_2)), axis=1)\n",
        "        # print(f_GAP.shape,f_GVP.shape)\n",
        "\n",
        "\n",
        "        return  f_GAP, f_GVP\n",
        "\n",
        "\n",
        "class StatisticianModule(nn.Module):\n",
        "    def __init__(self, dense, classes):\n",
        "        super(StatisticianModule, self).__init__()\n",
        "        self.classes = classes\n",
        "\n",
        "        self.softmax = torch.nn.Softmax(dim=1)\n",
        "        self.c_dense = nn.Linear(dense, 64*2*2) # 64*2*2\n",
        "\n",
        "        self.gap_pwconv = nn.Conv1d(128, dense, 1) \n",
        "        self.gvp_pwconv = nn.Conv1d(128, dense, 1)\n",
        "\n",
        "        self.fullconnect = nn.Linear(dense, self.classes)\n",
        "\n",
        "\n",
        "    def forward(self, f_GAP, f_GVP):\n",
        "        #[batch, gap+gvp] -> [batch,dense]\n",
        "      \n",
        "        c = self.softmax(self.c_dense(torch.cat((f_GAP, f_GVP),axis=1)))\n",
        "        # print('c:',c.shape)\n",
        "        #[batch, gap, 1] -> [batch, 1, dense] -> [batch, dense]\n",
        "        f_GAP_d = self.gap_pwconv(f_GAP.unsqueeze(dim=-1)).squeeze()\n",
        "        f_GVP_d = self.gvp_pwconv(f_GVP.unsqueeze(dim=-1)).squeeze()\n",
        "        \n",
        "        f_GAP_dd = torch.sum(c*f_GAP_d,dim=1)\n",
        "        f_GVP_dd = torch.sum(c*f_GVP_d,dim=1)\n",
        "        # print('f_GAP_dd: ',f_GAP_dd.shape)\n",
        "        ALN = torch.div(torch.sub(f_GAP_d.T,f_GAP_dd),f_GAP_dd).T\n",
        "        # print('ALN', ALN.shape)\n",
        "\n",
        "        y_hat = self.fullconnect(ALN)\n",
        "        # print('y_hat: ',y_hat.shape)\n",
        "        return y_hat"
      ],
      "metadata": {
        "id": "h3bHNu5vCz4v"
      },
      "execution_count": 37,
      "outputs": []
    },
    {
      "cell_type": "code",
      "source": [
        "# import numpy as np\n",
        "# import torch\n",
        "# import torch.nn as nn\n",
        "# import separableconv.nn as nn\n",
        "\n",
        "# class FeatureEncoder(nn.Module):\n",
        "#     def __init__(self,x1,x2):\n",
        "#         super(FeatureEncoder, self).__init__()\n",
        "#         self.sepctral_rept = x1\n",
        "#         self.temporal_rept = x2\n",
        "#         self.conv = nn.Conv2d(1,16, (1,2), padding ='same')\n",
        "#         #self.GVP = torch.var(dim=-1)\n",
        "\n",
        "#     def Temporal_GAP(self, x):\n",
        "#          #  x.shape = batch*channel, feature, time -->\n",
        "#         x = torch.tensor(x)\n",
        "#         x = torch.mean(x, 1) # channel\n",
        "#         x = torch.mean(x, 2) # time\n",
        "#         return x\n",
        "\n",
        "#     def Temporal_GVP(self, x):\n",
        "#          #  x.shape = batch,  channel, feature, time -->\n",
        "#         x = torch.tensor(x)\n",
        "#         x = torch.var(x, 1) # channel\n",
        "#         x = torch.var(x, 2) # time\n",
        "#         return x    \n",
        "\n",
        "#     def forward(self,b,c,f,t):\n",
        "#         f_1 = self.sepctral_rept\n",
        "#         f_2 = self.temporal_rept\n",
        "#         f_1 = torch.reshape(f_1,(b,c,f,t))\n",
        "#         f_2 = torch.reshape(f_2,(b,c,f,t))\n",
        "#         f_1 = self.conv(f_1)\n",
        "#         f_2 = self.conv(f_2)\n",
        "\n",
        "        \n",
        "#         f_GAP = torch.cat(( self.Temporal_GAP(f_1), self.Temporal_GAP(f_2)), axis=1)\n",
        "#         f_GVP = torch.cat((self.Temporal_GVP(f_1), self.Temporal_GVP(f_2)), axis=1)\n",
        "      \n",
        "#         # f_GAP = torch.cat((self.GAP(f_1).squeeze(), self.GAP(f_2).squeeze(), self.Temporal_GAP(f_3).squeeze()), axis=1)\n",
        "#         # f_GVP = torch.cat((torch.var(f_1, dim=-1), torch.var(f_2, dim=-1), torch.var(f_3, dim=-1)), axis=1)\n",
        "\n",
        "#         return  f_GAP, f_GVP\n",
        "\n",
        "\n",
        "# class StatisticianModule(nn.Module):\n",
        "#     def __init__(self, dense, classes):\n",
        "#         super(StatisticianModule, self).__init__()\n",
        "#         self.classes = classes\n",
        "\n",
        "#         self.softmax = torch.nn.Softmax(dim=1)\n",
        "#         self.c_dense = nn.Linear(dense, 64*2*2)\n",
        "\n",
        "#         self.gap_pwconv = nn.Conv1d(64*2, dense, 1)\n",
        "#         self.gvp_pwconv = nn.Conv1d(64*2, dense, 1)\n",
        "\n",
        "#         self.fullconnect = nn.Linear(dense, self.classes)\n",
        "\n",
        "\n",
        "#     def forward(self, f_GAP, f_GVP):\n",
        "#         #[batch, gap+gvp] -> [batch,dense]\n",
        "      \n",
        "#         c = self.softmax(self.c_dense(torch.cat((f_GAP, f_GVP),axis=1)))\n",
        "#         # print('c:',c.shape)\n",
        "#         #[batch, gap, 1] -> [batch, 1, dense] -> [batch, dense]\n",
        "#         f_GAP_d = self.gap_pwconv(f_GAP.unsqueeze(dim=-1)).squeeze()\n",
        "#         f_GVP_d = self.gvp_pwconv(f_GVP.unsqueeze(dim=-1)).squeeze()\n",
        "        \n",
        "#         f_GAP_dd = torch.sum(c*f_GAP_d,dim=1)\n",
        "#         f_GVP_dd = torch.sum(c*f_GVP_d,dim=1)\n",
        "#         # print('f_GAP_dd: ',f_GAP_dd.shape)\n",
        "#         ALN = torch.div(torch.sub(f_GAP_d.T,f_GAP_dd),f_GAP_dd).T\n",
        "#         # print('ALN', ALN.shape)\n",
        "\n",
        "#         y_hat = self.fullconnect(ALN)\n",
        "#         # print('y_hat: ',y_hat.shape)\n",
        "#         return y_hat"
      ],
      "metadata": {
        "id": "26isRnwBt_1e"
      },
      "execution_count": null,
      "outputs": []
    },
    {
      "cell_type": "markdown",
      "source": [
        "load pretrain model"
      ],
      "metadata": {
        "id": "PK5lzwTNxWpq"
      }
    },
    {
      "cell_type": "code",
      "source": [
        "FE1 = torch.load('/content/Spectral__1s_ep19_.pt')\n",
        "FE2 = torch.load('/content/Temporal_1s_ep10_.pt')\n",
        "FE1.eval()\n",
        "FE2.eval()\n"
      ],
      "metadata": {
        "id": "IYeo7tM_Gxsr",
        "colab": {
          "base_uri": "https://localhost:8080/"
        },
        "outputId": "e0a8a9eb-f933-4896-b3e2-d4c6fb0915f9"
      },
      "execution_count": 113,
      "outputs": [
        {
          "output_type": "execute_result",
          "data": {
            "text/plain": [
              "feature_extractor3(\n",
              "  (activation): LeakyReLU(negative_slope=0.01)\n",
              "  (softmax): Softmax(dim=None)\n",
              "  (conv1t): Conv1d(1, 10, kernel_size=(30,), stride=(1,), padding=same)\n",
              "  (conv1s): Conv1d(10, 10, kernel_size=(1,), stride=(1,))\n",
              "  (conv2t): Conv1d(10, 20, kernel_size=(15,), stride=(1,), padding=same)\n",
              "  (conv2s): Conv1d(20, 20, kernel_size=(1,), stride=(1,))\n",
              "  (conv3t): Conv1d(20, 34, kernel_size=(5,), stride=(1,), padding=same)\n",
              "  (conv3s): Conv1d(34, 34, kernel_size=(1,), stride=(1,))\n",
              "  (flatten): Flatten(start_dim=1, end_dim=-1)\n",
              "  (dropout): Dropout(p=0.5, inplace=False)\n",
              "  (Linear): Linear(in_features=12800, out_features=4, bias=True)\n",
              ")"
            ]
          },
          "metadata": {},
          "execution_count": 113
        }
      ]
    },
    {
      "cell_type": "code",
      "source": [
        "import os\n",
        "os.environ[\"CUDA_VISIBLE_DEVICES\"] = \"0\"\n",
        "device = torch.device(\"cuda:0\" if torch.cuda.is_available() else \"cpu\")\n",
        "#torch.device(\"cuda:0\" if torch.cuda.is_available() else \"cpu\")\n",
        "#\"cpu\"\n",
        "\n",
        "print(device)\n"
      ],
      "metadata": {
        "id": "TGeS3Hycs2gd",
        "colab": {
          "base_uri": "https://localhost:8080/"
        },
        "outputId": "2e3f1cf8-925d-4906-dd91-483795db77c6"
      },
      "execution_count": 114,
      "outputs": [
        {
          "output_type": "stream",
          "name": "stdout",
          "text": [
            "cuda:0\n"
          ]
        }
      ]
    },
    {
      "cell_type": "code",
      "source": [
        "epochs = 30\n",
        "learning_rate = 0.0001\n",
        "batch_size = 128\n",
        "model = StatisticianModule(256,6).to(device)\n",
        "optimizer = torch.optim.Adam(model.parameters(), lr=learning_rate)"
      ],
      "metadata": {
        "id": "1Sg0RcOsGxvT"
      },
      "execution_count": 115,
      "outputs": []
    },
    {
      "cell_type": "code",
      "source": [
        "from torch.utils.data import DataLoader\n",
        "\n",
        "\n",
        "trainLoader = DataLoader(train_dataset, batch_size = batch_size, shuffle=True)\n",
        "valLoader = DataLoader(val_dataset, batch_size = batch_size, shuffle=True)\n",
        "testLoader = DataLoader(test_dataset, batch_size = batch_size, shuffle=True)\n"
      ],
      "metadata": {
        "id": "Mg_nmDT_iPbf"
      },
      "execution_count": 116,
      "outputs": []
    },
    {
      "cell_type": "code",
      "source": [
        "# for batch_idx, batch in enumerate(SleepEDF_list):\n",
        "#     a = np.load(batch)\n",
        "#     if a['y'] != 'W' and a['y'] !='R' and a['y'] !='1' and a['y'] !='2' and a['y'] !='3' and a['y'] !='4':\n",
        "#       print(a['y'])\n"
      ],
      "metadata": {
        "id": "8pstynYNNnN5"
      },
      "execution_count": null,
      "outputs": []
    },
    {
      "cell_type": "code",
      "source": [
        "loss_tr = []\n",
        "loss_val = []\n",
        "acc_tr = []\n",
        "acc_val = []\n",
        "for epoch in range(epochs):\n",
        "    loss_ep = 0  # add batch loss in epoch\n",
        "    acc_ep = 0\n",
        "    for batch_idx, batch in enumerate(trainLoader):\n",
        "        optimizer.zero_grad()\n",
        "        b,c,t = batch['x'].shape\n",
        "        data = torch.reshape(batch['x'],(b*c,1,t))\n",
        "        data = torch.Tensor(data).type(torch.float).to(device)\n",
        "\n",
        "        x1 =  FE1.getRep(data)\n",
        "        x2 =  FE2.embedding(data) \n",
        "        bc,f,t = x1.shape\n",
        "        f_GAP, f_GVP =  FeatureEncoder(x1,x2).forward(b,c,f,t)\n",
        "        pred  = model.forward(f_GAP, f_GVP)\n",
        "        CrossEL = torch.nn.CrossEntropyLoss()\n",
        "        label = batch['y'].type(torch.float64).to(device)\n",
        "       \n",
        "        loss = CrossEL(pred, label)\n",
        "        loss.backward(retain_graph=True)\n",
        "        optimizer.step() \n",
        "\n",
        "        _, label =  torch.max(label, 1)  \n",
        "        _, predicted = torch.max(pred, 1)\n",
        "        acc = (predicted == label).sum().item()\n",
        "        acc = acc/batch['x'].shape[0] #acc/(batch*channels*4(augmented))\n",
        "        loss_ep += loss.item()\n",
        "        # print('acc:', acc)\n",
        "        acc_ep += acc\n",
        "\n",
        "    loss_tr.append((loss_ep)/len(trainLoader))\n",
        "    acc_tr.append((acc_ep)/len(trainLoader))        \n",
        "\n",
        "    loss_ep_val = 0\n",
        "    acc_ep_val = 0\n",
        "    \n",
        "    for batch_idx, batch in enumerate(valLoader):\n",
        "        b,c,t = batch['x'].shape\n",
        "        data = torch.reshape(batch['x'],(b*c,1,t))\n",
        "        data = torch.Tensor(data).type(torch.float).to(device)\n",
        "\n",
        "        x1 =  FE1.getRep(data)\n",
        "        x2 =  FE2.embedding(data) \n",
        "        bc,f,t = x1.shape\n",
        "        f_GAP, f_GVP =  FeatureEncoder(x1,x2).forward(b,c,f,t)\n",
        "\n",
        "        pred  = model.forward(f_GAP, f_GVP)\n",
        "        CrossEL = torch.nn.CrossEntropyLoss()\n",
        "        label = batch['y'].type(torch.float64).to(device)\n",
        "        loss = CrossEL(pred, label)\n",
        "        \n",
        "        _, label =  torch.max(label, 1)  \n",
        "        _, predicted = torch.max(pred, 1)\n",
        "        acc = (predicted == label).sum().item()\n",
        "        acc = acc/batch['x'].shape[0]\n",
        "\n",
        "        loss_ep_val += loss.item()\n",
        "        acc_ep_val += acc\n",
        "\n",
        "    loss_val.append((loss_ep_val)/len(valLoader))\n",
        "    acc_val.append((acc_ep_val)/len(valLoader))\n",
        "    print(\"epoch : \", epoch, \"  train loss : \", loss_tr[epoch], 'train acc : ', acc_tr[epoch], \"    val loss : \", loss_val[epoch], 'val acc : ', acc_val[epoch])\n",
        "    torch.save(model,'SleepEDF_noConv_1s_ep' + str(epoch)+'_.pt')\n"
      ],
      "metadata": {
        "id": "eEnhXWVI3so0",
        "colab": {
          "base_uri": "https://localhost:8080/"
        },
        "outputId": "06968460-296d-4ec4-c49f-8b0fde5ac7e0"
      },
      "execution_count": 118,
      "outputs": [
        {
          "output_type": "stream",
          "name": "stderr",
          "text": [
            "/usr/local/lib/python3.7/dist-packages/ipykernel_launcher.py:16: UserWarning: To copy construct from a tensor, it is recommended to use sourceTensor.clone().detach() or sourceTensor.clone().detach().requires_grad_(True), rather than torch.tensor(sourceTensor).\n",
            "  app.launch_new_instance()\n",
            "/usr/local/lib/python3.7/dist-packages/ipykernel_launcher.py:23: UserWarning: To copy construct from a tensor, it is recommended to use sourceTensor.clone().detach() or sourceTensor.clone().detach().requires_grad_(True), rather than torch.tensor(sourceTensor).\n"
          ]
        },
        {
          "output_type": "stream",
          "name": "stdout",
          "text": [
            "epoch :  0   train loss :  2.178537589010347 train acc :  0.5081676136363636     val loss :  1.5732524258324199 val acc :  0.6928047839506173\n",
            "epoch :  1   train loss :  1.5638204981121702 train acc :  0.6811079545454545     val loss :  1.4205178104424996 val acc :  0.6929012345679012\n",
            "epoch :  2   train loss :  1.691965483404411 train acc :  0.6800972465034966     val loss :  1.4391910261817662 val acc :  0.6984953703703703\n",
            "epoch :  3   train loss :  1.4655803383807866 train acc :  0.677857298951049     val loss :  1.4367360449722482 val acc :  0.6609760802469136\n",
            "epoch :  4   train loss :  1.598624657529316 train acc :  0.6489565122377622     val loss :  2.6822019293315043 val acc :  0.7044753086419753\n",
            "epoch :  5   train loss :  1.616655497982387 train acc :  0.6616313374125874     val loss :  1.5863547547331973 val acc :  0.6157407407407408\n",
            "epoch :  6   train loss :  1.506794394544998 train acc :  0.656058784965035     val loss :  1.0966234782516144 val acc :  0.7228009259259259\n",
            "epoch :  7   train loss :  1.60222067428685 train acc :  0.6959680944055944     val loss :  1.120064714802527 val acc :  0.71508487654321\n",
            "epoch :  8   train loss :  1.3806933015755904 train acc :  0.6976617132867133     val loss :  1.2572433557652403 val acc :  0.7116126543209877\n",
            "epoch :  9   train loss :  1.2288382877460189 train acc :  0.6903955419580419     val loss :  1.3931016610339735 val acc :  0.7175925925925926\n",
            "epoch :  10   train loss :  1.58536831839811 train acc :  0.6979348776223776     val loss :  1.3760350419919185 val acc :  0.7208719135802469\n",
            "epoch :  11   train loss :  1.2195317883284786 train acc :  0.7026059877622378     val loss :  1.0592613184100943 val acc :  0.7276234567901234\n",
            "epoch :  12   train loss :  1.111166339313898 train acc :  0.7006938374125874     val loss :  1.0285136472853476 val acc :  0.724633487654321\n",
            "epoch :  13   train loss :  1.0814738412826974 train acc :  0.7011582167832168     val loss :  1.0395625098913845 val acc :  0.722608024691358\n",
            "epoch :  14   train loss :  1.0788941975540558 train acc :  0.7009943181818182     val loss :  1.0355522479965455 val acc :  0.7216435185185186\n",
            "epoch :  15   train loss :  1.077183330226022 train acc :  0.7014313811188811     val loss :  1.0276446233275 val acc :  0.7223186728395061\n",
            "epoch :  16   train loss :  1.0709136679736482 train acc :  0.7004479895104895     val loss :  1.0392226386228922 val acc :  0.7209683641975309\n",
            "epoch :  17   train loss :  1.0636222287709418 train acc :  0.7015133304195804     val loss :  1.0163436622874822 val acc :  0.7282986111111112\n",
            "epoch :  18   train loss :  1.0560080588701013 train acc :  0.7033435314685315     val loss :  1.0089695214927714 val acc :  0.7265625\n",
            "epoch :  19   train loss :  1.055247609033613 train acc :  0.7038625437062938     val loss :  1.008869911788084 val acc :  0.7252121913580247\n",
            "epoch :  20   train loss :  1.0261147283453167 train acc :  0.7027425699300699     val loss :  0.9671042082911381 val acc :  0.7294560185185186\n",
            "epoch :  21   train loss :  1.0280905539230665 train acc :  0.7018138111888111     val loss :  1.186629856329365 val acc :  0.7075617283950617\n",
            "epoch :  22   train loss :  9.543669622624288 train acc :  0.625     val loss :  2.7224483407683553 val acc :  0.5163001543209877\n",
            "epoch :  23   train loss :  4.33008180971646 train acc :  0.4842111013986014     val loss :  1.9523532270619053 val acc :  0.667920524691358\n",
            "epoch :  24   train loss :  2.064159863105761 train acc :  0.6899038461538461     val loss :  1.6894171054748843 val acc :  0.7281057098765432\n",
            "epoch :  25   train loss :  1.9744763093883042 train acc :  0.7043542395104895     val loss :  1.7231698062606624 val acc :  0.7254050925925926\n",
            "epoch :  26   train loss :  1.6655371059124602 train acc :  0.7005299388111889     val loss :  1.2055549488745503 val acc :  0.71875\n",
            "epoch :  27   train loss :  1.2586651599024614 train acc :  0.6992460664335665     val loss :  1.1623450332400453 val acc :  0.7205825617283951\n",
            "epoch :  28   train loss :  1.217106337539969 train acc :  0.6997650786713288     val loss :  1.1517549537458964 val acc :  0.7271412037037037\n",
            "epoch :  29   train loss :  1.1656148783696196 train acc :  0.7011582167832168     val loss :  1.1637397294363225 val acc :  0.7178819444444444\n"
          ]
        }
      ]
    },
    {
      "cell_type": "code",
      "source": [
        "import pandas as pd\n",
        "col = ['loss_tr','loss_val','acc_tr','acc_val']\n",
        "data = np.array([loss_tr,\n",
        "                 loss_val,\n",
        "                 acc_tr,\n",
        "                 acc_val])\n",
        "print(data.shape)\n",
        "data = np.transpose(data)\n",
        "df = pd.DataFrame(data = data, columns= col)\n",
        "df.to_excel('SleepEDF_1s.xlsx', index = False)\n"
      ],
      "metadata": {
        "colab": {
          "base_uri": "https://localhost:8080/"
        },
        "id": "-dLGi88mRVw5",
        "outputId": "3037f1db-7fdb-46d4-bb64-94b6454e83c3"
      },
      "execution_count": 119,
      "outputs": [
        {
          "output_type": "stream",
          "name": "stdout",
          "text": [
            "(4, 30)\n"
          ]
        }
      ]
    },
    {
      "cell_type": "code",
      "source": [
        "import matplotlib.pyplot as plt\n",
        "  \n",
        "# plt.figure(figsize =(15, 10))\n",
        "plt.plot(range(epochs), loss_tr, color='red')\n",
        "plt.plot(range(epochs), loss_val, color='blue')\n",
        "plt.title('Model loss')\n",
        "plt.xlabel('epochs')\n",
        "plt.ylabel('loss')\n",
        "plt.legend(['Train', 'Validation'], loc='upper right')\n",
        "plt.savefig('Sleep_1s_loss.png',bbox_inches = 'tight')\n",
        "plt.show() "
      ],
      "metadata": {
        "colab": {
          "base_uri": "https://localhost:8080/",
          "height": 295
        },
        "outputId": "7ea21077-ea41-48ff-ba38-d6e1cda0b489",
        "id": "aRBbSnNtQbkD"
      },
      "execution_count": 120,
      "outputs": [
        {
          "output_type": "display_data",
          "data": {
            "text/plain": [
              "<Figure size 432x288 with 1 Axes>"
            ],
            "image/png": "[encoded data removed]"
          },
          "metadata": {
            "needs_background": "light"
          }
        }
      ]
    },
    {
      "cell_type": "code",
      "source": [
        "# plt.figure(figsize =(15, 10))\n",
        "plt.plot(range(epochs), acc_tr, color='red')\n",
        "plt.plot(range(epochs), acc_val, color='blue')\n",
        "plt.title('Model accuracy')\n",
        "plt.xlabel('epochs')\n",
        "plt.ylabel('accuracy')\n",
        "plt.legend(['Train', 'Validation'], loc='lower right')\n",
        "plt.savefig('Sleep_1s_accuracy.png',bbox_inches = 'tight')\n",
        "plt.show()"
      ],
      "metadata": {
        "colab": {
          "base_uri": "https://localhost:8080/",
          "height": 295
        },
        "outputId": "64632a68-27a9-4b77-cde9-830717080684",
        "id": "sN6ihZN4QbkE"
      },
      "execution_count": 121,
      "outputs": [
        {
          "output_type": "display_data",
          "data": {
            "text/plain": [
              "<Figure size 432x288 with 1 Axes>"
            ],
            "image/png": "[encoded data removed]"
          },
          "metadata": {
            "needs_background": "light"
          }
        }
      ]
    },
    {
      "cell_type": "code",
      "source": [
        "for batch_idx, batch in enumerate(testLoader):\n",
        "        b,c,t = batch['x'].shape\n",
        "        data = torch.reshape(batch['x'],(b*c,1,t))\n",
        "        data = torch.Tensor(data).type(torch.float).to(device)\n",
        "\n",
        "        x1 =  FE1.getRep(data)\n",
        "        x2 =  FE2.embedding(data) \n",
        "        bc,f,t = x1.shape\n",
        "        f_GAP, f_GVP =  FeatureEncoder(x1,x2).forward(b,c,f,t)\n",
        "\n",
        "        pred  = model.forward(f_GAP, f_GVP)\n",
        "        CrossEL = torch.nn.CrossEntropyLoss()\n",
        "        label = batch['y'].type(torch.float64).to(device)\n",
        "        loss = CrossEL(pred, label)\n",
        "        \n",
        "        _, label =  torch.max(label, 1)  \n",
        "        _, predicted = torch.max(pred, 1)\n",
        "        acc = (predicted == label).sum().item()\n",
        "        acc = acc/batch['x'].shape[0]\n",
        "\n",
        "print(acc)\n",
        "print(loss)"
      ],
      "metadata": {
        "colab": {
          "base_uri": "https://localhost:8080/"
        },
        "id": "2GMhsbW-tHab",
        "outputId": "71c3d8d8-74ea-48dd-8bbd-cd3eb5ea4834"
      },
      "execution_count": 122,
      "outputs": [
        {
          "output_type": "stream",
          "name": "stderr",
          "text": [
            "/usr/local/lib/python3.7/dist-packages/ipykernel_launcher.py:16: UserWarning: To copy construct from a tensor, it is recommended to use sourceTensor.clone().detach() or sourceTensor.clone().detach().requires_grad_(True), rather than torch.tensor(sourceTensor).\n",
            "  app.launch_new_instance()\n",
            "/usr/local/lib/python3.7/dist-packages/ipykernel_launcher.py:23: UserWarning: To copy construct from a tensor, it is recommended to use sourceTensor.clone().detach() or sourceTensor.clone().detach().requires_grad_(True), rather than torch.tensor(sourceTensor).\n"
          ]
        },
        {
          "output_type": "stream",
          "name": "stdout",
          "text": [
            "0.6805555555555556\n",
            "tensor(1.1550, device='cuda:0', dtype=torch.float64, grad_fn=<DivBackward1>)\n"
          ]
        }
      ]
    },
    {
      "cell_type": "code",
      "source": [
        "label_list = []\n",
        "predicted_list = []\n",
        "for batch_idx, batch in enumerate(testLoader):\n",
        "        b,c,t = batch['x'].shape\n",
        "        data = torch.reshape(batch['x'],(b*c,1,t))\n",
        "        data = torch.Tensor(data).type(torch.float).to(device)\n",
        "\n",
        "        x1 =  FE1.getRep(data)\n",
        "        x2 =  FE2.embedding(data) \n",
        "        bc,f,t = x1.shape\n",
        "        f_GAP, f_GVP =  FeatureEncoder(x1,x2).forward(b,c,f,t)\n",
        "\n",
        "        pred  = model.forward(f_GAP, f_GVP)\n",
        "        label = batch['y'].type(torch.float64).to(device)\n",
        "        \n",
        "        _, label =  torch.max(label, 1)  \n",
        "        _, predicted = torch.max(pred, 1)\n",
        "        label_list.extend(label.cpu().detach().numpy())\n",
        "        predicted_list.extend(predicted.cpu().detach().numpy())"
      ],
      "metadata": {
        "id": "JXgSul4kDlpz",
        "colab": {
          "base_uri": "https://localhost:8080/"
        },
        "outputId": "df152a9b-6931-4696-c61f-e20916579071"
      },
      "execution_count": 123,
      "outputs": [
        {
          "output_type": "stream",
          "name": "stderr",
          "text": [
            "/usr/local/lib/python3.7/dist-packages/ipykernel_launcher.py:16: UserWarning: To copy construct from a tensor, it is recommended to use sourceTensor.clone().detach() or sourceTensor.clone().detach().requires_grad_(True), rather than torch.tensor(sourceTensor).\n",
            "  app.launch_new_instance()\n",
            "/usr/local/lib/python3.7/dist-packages/ipykernel_launcher.py:23: UserWarning: To copy construct from a tensor, it is recommended to use sourceTensor.clone().detach() or sourceTensor.clone().detach().requires_grad_(True), rather than torch.tensor(sourceTensor).\n"
          ]
        }
      ]
    },
    {
      "cell_type": "code",
      "source": [
        "# confusion matrix 사용을 위한 라이브러리\n",
        "from sklearn.metrics import confusion_matrix\n",
        "conf_matrix = confusion_matrix(label_list, predicted_list)\n",
        "print(conf_matrix)"
      ],
      "metadata": {
        "id": "c-y5mOdw49Y5",
        "colab": {
          "base_uri": "https://localhost:8080/"
        },
        "outputId": "6e98a4a2-6ae7-4f9d-9e27-79789ffbfe68"
      },
      "execution_count": 124,
      "outputs": [
        {
          "output_type": "stream",
          "name": "stdout",
          "text": [
            "[[770   0   0   1   6   0]\n",
            " [ 25   0   0   0   0   0]\n",
            " [125   0   0   0   1   0]\n",
            " [ 40   0   2   0   0   0]\n",
            " [ 57   1   0   0   0   0]\n",
            " [ 68   0   0   0   0   0]]\n"
          ]
        }
      ]
    },
    {
      "cell_type": "code",
      "source": [
        "title = 'confusion matrix'\n",
        "cmap=plt.cm.Greens\n",
        "plt.figure(figsize=(6, 6))\n",
        "plt.imshow(conf_matrix, interpolation='nearest', cmap=cmap)  # , cmap=plt.cm.Greens\n",
        "plt.title(title, size=12)\n",
        "plt.colorbar(fraction=0.05, pad=0.05)\n",
        "tick_marks = np.arange(6, 6)\n",
        "plt.yticks(np.arange(6), ('W','N1','N2','N3','N4','R'))\n",
        "plt.xticks(np.arange(6), ('W','N1','N2','N3','N4','R'))\n",
        "\n",
        "\n",
        "fmt = 'd' \n",
        "thresh = 1\n",
        "for i in range(conf_matrix.shape[0]):\n",
        "    for j in range(conf_matrix.shape[1]):\n",
        "        plt.text(j, i, format(conf_matrix[i, j], fmt),\n",
        "                 ha=\"center\", va=\"center\", color=\"black\" if conf_matrix[i, j] > thresh else \"black\")  #horizontalalignment\n",
        "plt.savefig('SleepEDF_1s_confusion matrix.png',bbox_inches = 'tight')"
      ],
      "metadata": {
        "colab": {
          "base_uri": "https://localhost:8080/",
          "height": 367
        },
        "id": "l1JMllMxSB7b",
        "outputId": "c9e96f62-3d7b-43eb-9082-40c198230251"
      },
      "execution_count": 126,
      "outputs": [
        {
          "output_type": "display_data",
          "data": {
            "text/plain": [
              "<Figure size 432x432 with 2 Axes>"
            ],
            "image/png": "[encoded data removed]"
          },
          "metadata": {
            "needs_background": "light"
          }
        }
      ]
    }
  ]
}