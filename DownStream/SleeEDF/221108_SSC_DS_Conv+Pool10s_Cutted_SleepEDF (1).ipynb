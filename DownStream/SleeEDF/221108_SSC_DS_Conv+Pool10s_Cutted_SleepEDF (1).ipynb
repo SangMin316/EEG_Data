{
  "nbformat": 4,
  "nbformat_minor": 0,
  "metadata": {
    "colab": {
      "provenance": [],
      "collapsed_sections": []
    },
    "kernelspec": {
      "name": "python3",
      "display_name": "Python 3"
    },
    "language_info": {
      "name": "python"
    },
    "gpuClass": "standard",
    "accelerator": "GPU"
  },
  "cells": [
    {
      "cell_type": "code",
      "source": [
        "!pip install mne"
      ],
      "metadata": {
        "colab": {
          "base_uri": "https://localhost:8080/"
        },
        "id": "bDWt74XAgpLK",
        "outputId": "4c8f324e-aa38-4d5b-a5ff-5bbf454c2b7d"
      },
      "execution_count": 1,
      "outputs": [
        {
          "output_type": "stream",
          "name": "stdout",
          "text": [
            "Looking in indexes: https://pypi.org/simple, https://us-python.pkg.dev/colab-wheels/public/simple/\n",
            "Requirement already satisfied: mne in /usr/local/lib/python3.7/dist-packages (1.2.1)\n",
            "Requirement already satisfied: scipy>=1.1.0 in /usr/local/lib/python3.7/dist-packages (from mne) (1.7.3)\n",
            "Requirement already satisfied: jinja2 in /usr/local/lib/python3.7/dist-packages (from mne) (2.11.3)\n",
            "Requirement already satisfied: tqdm in /usr/local/lib/python3.7/dist-packages (from mne) (4.64.1)\n",
            "Requirement already satisfied: packaging in /usr/local/lib/python3.7/dist-packages (from mne) (21.3)\n",
            "Requirement already satisfied: numpy>=1.15.4 in /usr/local/lib/python3.7/dist-packages (from mne) (1.21.6)\n",
            "Requirement already satisfied: decorator in /usr/local/lib/python3.7/dist-packages (from mne) (4.4.2)\n",
            "Requirement already satisfied: pooch>=1.5 in /usr/local/lib/python3.7/dist-packages (from mne) (1.6.0)\n",
            "Requirement already satisfied: matplotlib in /usr/local/lib/python3.7/dist-packages (from mne) (3.2.2)\n",
            "Requirement already satisfied: requests>=2.19.0 in /usr/local/lib/python3.7/dist-packages (from pooch>=1.5->mne) (2.23.0)\n",
            "Requirement already satisfied: appdirs>=1.3.0 in /usr/local/lib/python3.7/dist-packages (from pooch>=1.5->mne) (1.4.4)\n",
            "Requirement already satisfied: pyparsing!=3.0.5,>=2.0.2 in /usr/local/lib/python3.7/dist-packages (from packaging->mne) (3.0.9)\n",
            "Requirement already satisfied: idna<3,>=2.5 in /usr/local/lib/python3.7/dist-packages (from requests>=2.19.0->pooch>=1.5->mne) (2.10)\n",
            "Requirement already satisfied: certifi>=2017.4.17 in /usr/local/lib/python3.7/dist-packages (from requests>=2.19.0->pooch>=1.5->mne) (2022.9.24)\n",
            "Requirement already satisfied: urllib3!=1.25.0,!=1.25.1,<1.26,>=1.21.1 in /usr/local/lib/python3.7/dist-packages (from requests>=2.19.0->pooch>=1.5->mne) (1.24.3)\n",
            "Requirement already satisfied: chardet<4,>=3.0.2 in /usr/local/lib/python3.7/dist-packages (from requests>=2.19.0->pooch>=1.5->mne) (3.0.4)\n",
            "Requirement already satisfied: MarkupSafe>=0.23 in /usr/local/lib/python3.7/dist-packages (from jinja2->mne) (2.0.1)\n",
            "Requirement already satisfied: python-dateutil>=2.1 in /usr/local/lib/python3.7/dist-packages (from matplotlib->mne) (2.8.2)\n",
            "Requirement already satisfied: kiwisolver>=1.0.1 in /usr/local/lib/python3.7/dist-packages (from matplotlib->mne) (1.4.4)\n",
            "Requirement already satisfied: cycler>=0.10 in /usr/local/lib/python3.7/dist-packages (from matplotlib->mne) (0.11.0)\n",
            "Requirement already satisfied: typing-extensions in /usr/local/lib/python3.7/dist-packages (from kiwisolver>=1.0.1->matplotlib->mne) (4.1.1)\n",
            "Requirement already satisfied: six>=1.5 in /usr/local/lib/python3.7/dist-packages (from python-dateutil>=2.1->matplotlib->mne) (1.15.0)\n"
          ]
        }
      ]
    },
    {
      "cell_type": "code",
      "execution_count": 2,
      "metadata": {
        "id": "l4YUYhC7E4Ck"
      },
      "outputs": [],
      "source": [
        "from torch.utils.data import Dataset\n",
        "import torch\n",
        "import pickle\n",
        "import mne\n",
        "import numpy as np\n",
        "import time\n",
        "\n",
        "class Sleepedf_dataset(Dataset):\n",
        "    def __init__(self, files):\n",
        "        self.files = files\n",
        "        max_value = 0.\n",
        "        min_value = 0.\n",
        "\n",
        "        for i in range(len(self.files)):\n",
        "            sample = np.load(files[i])['x']\n",
        "            temp_max = sample.max()\n",
        "            temp_min = sample.min()\n",
        "            max_value = np.max([max_value, temp_max])\n",
        "            min_value = np.min([min_value, temp_min])\n",
        "        \n",
        "\n",
        "        self.max_value = max_value\n",
        "        self.min_value = min_value\n",
        "\n",
        "    def preprocessing(self, data):\n",
        "        data_max = np.max(data,axis = 1, keepdims=True) # max value of each channels\n",
        "        data_min = np.min(data,axis = 1, keepdims=True) # shape = c,t\n",
        "        c,t = data.shape\n",
        "        \n",
        "        return data/data_max*np.ones((c,t)) - (data_max - data_min)*np.ones((c,t))/(self.max_value - self.min_value)\n",
        "\n",
        "    def one_hot_encoding(self,y):\n",
        "        if y == '1':\n",
        "          y = np.array([0,1,0,0,0,0])\n",
        "        elif y == '2':\n",
        "          y = np.array([0,0,1,0,0,0])   \n",
        "        elif y == '3':\n",
        "          y = np.array([0,0,0,1,0,0])\n",
        "        elif y == '4':\n",
        "          y = np.array([0,0,0,0,1,0])\n",
        "        elif y == 'R':\n",
        "          y = np.array([0,0,0,0,0,1])\n",
        "        else: # W\n",
        "          y = np.array([1,0,0,0,0,0])      \n",
        "        return y  \n",
        "\n",
        "\n",
        "    def __getitem__(self, index):          \n",
        "        sample = np.load(self.files[index])  \n",
        "        y = self.one_hot_encoding(sample['y'])\n",
        "        sample = self.preprocessing(sample['x'])\n",
        "        return { 'x' : torch.tensor(sample), \n",
        "                 'y' : torch.tensor(y)\n",
        "                   }\n",
        "          \n",
        "    def __len__(self):\n",
        "        return len(self.files)\n"
      ]
    },
    {
      "cell_type": "code",
      "source": [
        "from google.colab import drive\n",
        "drive.mount('/content/drive')"
      ],
      "metadata": {
        "colab": {
          "base_uri": "https://localhost:8080/"
        },
        "id": "bIOrsdt3_1Yd",
        "outputId": "c5659d45-c1b8-463e-daa6-f21225e6009c"
      },
      "execution_count": 3,
      "outputs": [
        {
          "output_type": "stream",
          "name": "stdout",
          "text": [
            "Drive already mounted at /content/drive; to attempt to forcibly remount, call drive.mount(\"/content/drive\", force_remount=True).\n"
          ]
        }
      ]
    },
    {
      "cell_type": "code",
      "execution_count": 4,
      "metadata": {
        "colab": {
          "base_uri": "https://localhost:8080/"
        },
        "id": "pk5UWrymWlfa",
        "outputId": "52b0499f-b1de-4758-b6e9-4e28c524a0d3"
      },
      "outputs": [
        {
          "output_type": "stream",
          "name": "stdout",
          "text": [
            "5\n",
            "5283\n"
          ]
        }
      ],
      "source": [
        "import glob\n",
        "\n",
        "SleepEDF_file_list = glob.glob('/content/drive/MyDrive/sleep_edfx/Cutted_EEG/**')\n",
        "print(len(SleepEDF_file_list))\n",
        "SleepEDF_list = []\n",
        "for i in range(len(SleepEDF_file_list)):\n",
        "    SleepEDF_list.extend(glob.glob(SleepEDF_file_list[i]+'/**'))\n",
        "print(len(SleepEDF_list))"
      ]
    },
    {
      "cell_type": "code",
      "source": [
        "from sklearn.model_selection import train_test_split\n",
        "\n",
        "train, test = train_test_split(SleepEDF_list, test_size=0.2)#, shuffle=True, random_state=34), #stratify=target\n",
        "train, val = train_test_split(train, test_size= 0.25)#, shu"
      ],
      "metadata": {
        "id": "8hZHBofhD_ti"
      },
      "execution_count": 5,
      "outputs": []
    },
    {
      "cell_type": "code",
      "source": [
        "train_dataset = Sleepedf_dataset(train)\n",
        "val_dataset = Sleepedf_dataset(val)\n",
        "test_dataset = Sleepedf_dataset(test)"
      ],
      "metadata": {
        "id": "eY3pJkIbWoFC"
      },
      "execution_count": 6,
      "outputs": []
    },
    {
      "cell_type": "code",
      "source": [
        "!pip install separableconv-torch"
      ],
      "metadata": {
        "id": "834tX7V_uCyj",
        "colab": {
          "base_uri": "https://localhost:8080/"
        },
        "outputId": "8b591d95-94b4-44a6-9679-c2e214c9a774"
      },
      "execution_count": 7,
      "outputs": [
        {
          "output_type": "stream",
          "name": "stdout",
          "text": [
            "Looking in indexes: https://pypi.org/simple, https://us-python.pkg.dev/colab-wheels/public/simple/\n",
            "Requirement already satisfied: separableconv-torch in /usr/local/lib/python3.7/dist-packages (0.1.0)\n",
            "Requirement already satisfied: torchvision in /usr/local/lib/python3.7/dist-packages (from separableconv-torch) (0.13.1+cu113)\n",
            "Requirement already satisfied: numpy in /usr/local/lib/python3.7/dist-packages (from separableconv-torch) (1.21.6)\n",
            "Requirement already satisfied: torch in /usr/local/lib/python3.7/dist-packages (from separableconv-torch) (1.12.1+cu113)\n",
            "Requirement already satisfied: typing-extensions in /usr/local/lib/python3.7/dist-packages (from torch->separableconv-torch) (4.1.1)\n",
            "Requirement already satisfied: requests in /usr/local/lib/python3.7/dist-packages (from torchvision->separableconv-torch) (2.23.0)\n",
            "Requirement already satisfied: pillow!=8.3.*,>=5.3.0 in /usr/local/lib/python3.7/dist-packages (from torchvision->separableconv-torch) (7.1.2)\n",
            "Requirement already satisfied: idna<3,>=2.5 in /usr/local/lib/python3.7/dist-packages (from requests->torchvision->separableconv-torch) (2.10)\n",
            "Requirement already satisfied: chardet<4,>=3.0.2 in /usr/local/lib/python3.7/dist-packages (from requests->torchvision->separableconv-torch) (3.0.4)\n",
            "Requirement already satisfied: urllib3!=1.25.0,!=1.25.1,<1.26,>=1.21.1 in /usr/local/lib/python3.7/dist-packages (from requests->torchvision->separableconv-torch) (1.24.3)\n",
            "Requirement already satisfied: certifi>=2017.4.17 in /usr/local/lib/python3.7/dist-packages (from requests->torchvision->separableconv-torch) (2022.9.24)\n"
          ]
        }
      ]
    },
    {
      "cell_type": "code",
      "source": [
        "import numpy as np\n",
        "import torch\n",
        "import torch.nn as nn\n",
        "from mne.filter import filter_data, notch_filter\n",
        "import matplotlib.pyplot as plt\n",
        "\n",
        "\n",
        "class Encoder(nn.Module):\n",
        "    def __init__(self, fs, encode_info):\n",
        "        super(Encoder, self).__init__()\n",
        "        #spectral layer means spectral convolution\n",
        "        #self.bac_layer is consist of several SeparableConv2d, which plays the role of temporal separable convolution\n",
        "        #convolution layer are initiated by xavier_uniform initization\n",
        "        #Input are Normalized by self.bn(=torch.nn.BatchNorm2d)\n",
        "        #[batch, electrode, length] -> [batch, electrode, Feature]\n",
        "        self.fs = fs\n",
        "        self.elu = nn.ELU()\n",
        "        self.maxpool = nn.AdaptiveMaxPool1d(1)\n",
        "        self.bn = nn.BatchNorm1d(1)\n",
        "        self.activation = nn.LeakyReLU()\n",
        "\n",
        "        self.spectral_layer = nn.Conv1d(1, 10, int(self.fs/2), padding=\"same\")\n",
        "\n",
        "        # self.bac_layer = nn.Sequential()\n",
        "        # for i, arg in enumerate(encode_info):\n",
        "        #     input_dim, output_dim, kernel_size = arg\n",
        "        #     self.bac_layer.add_module(\"temporal_conv_\"+str(i),\n",
        "        #                           nn.Conv1d(input_dim, output_dim, kernel_size, padding = 'same'))\n",
        "        #     self.bac_layer.add_module(\"ELU\",nn.ELU()) \n",
        "        \n",
        "        self.conv1t = nn.Conv1d(10,16, 30, padding ='same')\n",
        "        self.conv2t = nn.Conv1d(16,32, 15, padding ='same')\n",
        "        self.conv3t = nn.Conv1d(32,64, 5, padding ='same')\n",
        "        \n",
        "        torch.nn.init.xavier_uniform_(self.spectral_layer.weight)\n",
        "        #self.bac_layer.apply(weight_init_xavier_uniform)\n",
        "\n",
        "    def forward(self, x):\n",
        "        x = self.activation(self.spectral_layer(x))\n",
        "        x = self.activation(self.conv1t(x))\n",
        "        x = self.activation(self.conv2t(x))\n",
        "        x = self.activation(self.conv3t(x))\n",
        "\n",
        "        return x\n",
        "\n",
        "#Linear layer for SSL classification\n",
        "class Head_NN(nn.Module):\n",
        "    def __init__(self):\n",
        "        super(Head_NN, self).__init__()        \n",
        "        # self.layer = nn.Sequential(\n",
        "        #     nn.Dropout(0.5),\n",
        "        #     nn.Linear(64*length, 5)\n",
        "        # )\n",
        "        \n",
        "        self.layer = nn.Sequential(\n",
        "            nn.Dropout(0.5),\n",
        "            nn.Linear(64, 5)\n",
        "        )\n",
        "        \n",
        "        self.softmax = torch.nn.Softmax()\n",
        "        # self.layer.apply(weight_init_xavier_uniform)\n",
        "        self.bn = nn.BatchNorm1d(64)\n",
        "        self.flatten = nn.Flatten()\n",
        "\n",
        "    def forward(self, x):\n",
        "        x = torch.mean(x, axis = 2) # Global average pooling into temporal dimension\n",
        "        # x = self.flatten(x)\n",
        "        x = self.layer(x)\n",
        "        x = self.softmax(x)\n",
        "        return x\n",
        "\n",
        "class StoppedBandPathway(nn.Module):\n",
        "    def __init__(self, fs, Unsupervise, encode_info, bands):\n",
        "        super(StoppedBandPathway, self).__init__()\n",
        "        self.encoder = Encoder(fs, encode_info)\n",
        "        self.pretrain = Head_NN()\n",
        "        self.Unsupervise = Unsupervise\n",
        "\n",
        "\n",
        "    def forward(self, x):\n",
        "        x = self.encoder(x)\n",
        "        x = self.pretrain(x)\n",
        "        return x\n",
        "\n",
        "    def getRep(self, x):\n",
        "        x = self.encoder(x)\n",
        "        return x\n"
      ],
      "metadata": {
        "id": "glstHzJT3A0Q"
      },
      "execution_count": 8,
      "outputs": []
    },
    {
      "cell_type": "code",
      "source": [
        "class feature_extractor3(nn.Module):\n",
        "    def __init__(self):\n",
        "        super(feature_extractor3,self).__init__()\n",
        "        \n",
        "        self.channels = 1 # we use only single channel \n",
        "        \n",
        "        # Activation functions\n",
        "        self.activation = nn.LeakyReLU()\n",
        "        # self.bn = nn.BatchNorm1d(1)\n",
        "\n",
        "        # self.conv2t = nns.SeparableConv1d(16,32,10,padding ='same') (in_channels, out_channels, kernel size,,,) \n",
        "\n",
        "        self.softmax = nn.Softmax()\n",
        "        self.conv1t = nn.Conv1d(1,10, 30, padding ='same') #in_channels, out_channels, kernel_size, \n",
        "        self.conv1s = nn.Conv1d(10,10,self.channels)\n",
        "        self.conv2t = nn.Conv1d(10,20,15,padding ='same') \n",
        "        self.conv2s = nn.Conv1d(20,20,self.channels)\n",
        "        self.conv3t = nn.Conv1d(20,34,5,padding ='same')\n",
        "        self.conv3s = nn.Conv1d(34,34,self.channels)\n",
        "        \n",
        "                  \n",
        "        # Flatteninig\n",
        "        self.flatten = nn.Flatten()\n",
        "\n",
        "        # Dropout\n",
        "        self.dropout = nn.Dropout(0.5)\n",
        "\n",
        "        # Decision making\n",
        "        self.Linear = nn.Linear(256000 ,4) # \n",
        "\n",
        "      \n",
        "    def embedding(self, x):\n",
        "        x = self.activation(self.conv1t(x))\n",
        "        f1 = self.activation(self.conv1s(x))\n",
        "\n",
        "        x = self.activation(self.conv2t(x))\n",
        "        f2 = self.activation(self.conv2s(x))\n",
        "\n",
        "        x = self.activation(self.conv3t(x))\n",
        "        f3 = self.activation(self.conv3s(x))\n",
        "        \n",
        "        # multi-scale feature representation by exploiting intermediate features\n",
        "        feature = torch.cat([f1, f2, f3],dim = 1 )\n",
        "        \n",
        "        return feature\n",
        "\n",
        "    def classifier(self, feature):\n",
        "        # Flattening, dropout, mapping into the decision nodes\n",
        "        feature = self.flatten(feature)\n",
        "        feature = self.dropout(feature)\n",
        "        y_hat = self.softmax(self.Linear(feature))\n",
        "        return y_hat    \n",
        "\n",
        "    def forward(self, x):\n",
        "        feature = self.embedding(x)\n",
        "        y_hat = self.classifier(feature)\n",
        "        return y_hat"
      ],
      "metadata": {
        "id": "17Wx4RicDlgZ"
      },
      "execution_count": 9,
      "outputs": []
    },
    {
      "cell_type": "code",
      "source": [
        "# import numpy as np\n",
        "# import torch\n",
        "# import torch.nn as nn\n",
        "# import torch.nn.functional as F\n",
        "\n",
        "# # import separableconv.nn as snn\n",
        "\n",
        "# class FeatureEncoder(nn.Module):\n",
        "#     def __init__(self,x1,x2):\n",
        "#         super(FeatureEncoder, self).__init__()\n",
        "#         self.sepctral_rept = x1\n",
        "#         self.temporal_rept = x2\n",
        "#         self.conv1 = nn.Conv2d(64,64, (2,1))\n",
        "#         self.conv2 = nn.Conv2d(64,64, (2,1))\n",
        "\n",
        "\n",
        "#     def fGAP(self, x):\n",
        "#         x = torch.tensor(x)\n",
        "#         x = F.adaptive_avg_pool2d(x, (1, 1))\n",
        "#         return x\n",
        "\n",
        "#     def fGVP(self, x):\n",
        "#          #  x.shape = batch,  channel, feature, time -->\n",
        "#         x = torch.tensor(x)\n",
        "#         torch.var(x.view(x.size(0), x.size(1), -1), dim=2)\n",
        "#         return x    \n",
        "    \n",
        "\n",
        "#     def forward(self,b,c,f,t):\n",
        "#         f_1 = self.sepctral_rept\n",
        "#         f_2 = self.temporal_rept\n",
        "#         f_1 = torch.reshape(f_1,(b,f,c,t)) \n",
        "#         f_2 = torch.reshape(f_2,(b,f,c,t)) \n",
        "#         f_1 = self.conv1(f_1)\n",
        "#         f_2 = self.conv2(f_2) # b,f,1, t\n",
        "        \n",
        "#         # print(f_1.shape,f_2.shape)\n",
        "#         f_GAP = torch.cat(( self.fGAP(f_1).squeeze(),self.fGAP(f_2).squeeze() ), axis=1)\n",
        "#         f_GVP = torch.cat((self.fGVP(f_1).squeeze(),self.fGVP(f_2).squeeze()), axis=1)\n",
        "#         # print(f_GAP.shape,f_GVP.shape)\n",
        "\n",
        "\n",
        "#         return  f_GAP, f_GVP\n",
        "\n",
        "\n",
        "# class StatisticianModule(nn.Module):\n",
        "#     def __init__(self, dense, classes):\n",
        "#         super(StatisticianModule, self).__init__()\n",
        "#         self.classes = classes\n",
        "\n",
        "#         self.softmax = torch.nn.Softmax(dim=1)\n",
        "#         self.c_dense = nn.Linear(dense, 64*2*2) # 64*2*2\n",
        "\n",
        "#         self.gap_pwconv = nn.Conv1d(128, dense, 1) \n",
        "#         self.gvp_pwconv = nn.Conv1d(128, dense, 1)\n",
        "\n",
        "#         self.fullconnect = nn.Linear(dense, self.classes)\n",
        "\n",
        "\n",
        "#     def forward(self, f_GAP, f_GVP):\n",
        "#         #[batch, gap+gvp] -> [batch,dense]\n",
        "      \n",
        "#         c = self.softmax(self.c_dense(torch.cat((f_GAP, f_GVP),axis=1)))\n",
        "#         # print('c:',c.shape)\n",
        "#         #[batch, gap, 1] -> [batch, 1, dense] -> [batch, dense]\n",
        "#         f_GAP_d = self.gap_pwconv(f_GAP.unsqueeze(dim=-1)).squeeze()\n",
        "#         f_GVP_d = self.gvp_pwconv(f_GVP.unsqueeze(dim=-1)).squeeze()\n",
        "        \n",
        "#         f_GAP_dd = torch.sum(c*f_GAP_d,dim=1)\n",
        "#         f_GVP_dd = torch.sum(c*f_GVP_d,dim=1)\n",
        "#         # print('f_GAP_dd: ',f_GAP_dd.shape)\n",
        "#         ALN = torch.div(torch.sub(f_GAP_d.T,f_GAP_dd),f_GAP_dd).T\n",
        "#         # print('ALN', ALN.shape)\n",
        "\n",
        "#         y_hat = self.fullconnect(ALN)\n",
        "#         # print('y_hat: ',y_hat.shape)\n",
        "#         return y_hat"
      ],
      "metadata": {
        "id": "h3bHNu5vCz4v"
      },
      "execution_count": 10,
      "outputs": []
    },
    {
      "cell_type": "code",
      "source": [
        "import numpy as np\n",
        "import torch\n",
        "import torch.nn as nn\n",
        "import torch.nn.functional as F\n",
        "\n",
        "# import separableconv.nn as snn\n",
        "\n",
        "\n",
        "class StatisticianModule(nn.Module):\n",
        "    def __init__(self, dense, classes):\n",
        "        super(StatisticianModule, self).__init__()\n",
        "        self.classes = classes\n",
        "        \n",
        "        self.conv1 = nn.Conv2d(64,64, (2,1))\n",
        "        self.conv2 = nn.Conv2d(64,64, (2,1))\n",
        "\n",
        "        self.softmax = torch.nn.Softmax(dim=1)\n",
        "        self.c_dense = nn.Linear(64*2*2, dense) # 64*2*2\n",
        "\n",
        "        self.gap_pwconv = nn.Conv1d(128, dense, 1) \n",
        "        self.gvp_pwconv = nn.Conv1d(128, dense, 1)\n",
        "        self.flatten = nn.Flatten()\n",
        "        self.dense0 = nn.Linear(dense*3,self.classes)\n",
        "        self.dense1 = nn.Linear(dense*3, dense)\n",
        "        self.dense2 = nn.Linear(dense,self.classes)\n",
        "        self.Dropout = nn.Dropout(0.5)\n",
        "\n",
        "        torch.nn.init.xavier_uniform_(self.conv1.weight)\n",
        "        torch.nn.init.xavier_uniform_(self.conv2.weight)\n",
        "        torch.nn.init.xavier_uniform_(self.c_dense.weight)\n",
        "        torch.nn.init.xavier_uniform_(self.gap_pwconv.weight)\n",
        "        torch.nn.init.xavier_uniform_(self.gvp_pwconv.weight)\n",
        "        torch.nn.init.xavier_uniform_(self.dense0.weight)\n",
        "        torch.nn.init.xavier_uniform_(self.dense1.weight)\n",
        "        torch.nn.init.xavier_uniform_(self.dense2.weight)\n",
        "\n",
        "        \n",
        "    def fGAP(self, x):\n",
        "        x = torch.tensor(x)\n",
        "        x = F.adaptive_avg_pool2d(x, (3, 1)).squeeze()\n",
        "        return x\n",
        "\n",
        "    def fGVP(self, x):\n",
        "        x = torch.tensor(x)\n",
        "        x = x.squeeze()\n",
        "        b,f,c = x.shape\n",
        "        x = x.view(b, 3*f,-1)\n",
        "        x = torch.var(x, dim=2)\n",
        "        x = torch.reshape(x,(b,f,3))\n",
        "        return x    \n",
        "    \n",
        "\n",
        "    def GAPGVP(self, x1, x2, b,c,f,t ):\n",
        "        x1 = torch.reshape(x1,(b,f,c,t)) \n",
        "        x2 = torch.reshape(x2,(b,f,c,t)) \n",
        "        x1 = self.conv1(x1)\n",
        "        x2 = self.conv2(x2)\n",
        "        f_GAP = torch.cat((self.fGAP(x1), self.fGAP(x2)), axis=1)\n",
        "        f_GVP = torch.cat((self.fGVP(x1),self.fGVP(x2)), axis=1)\n",
        "\n",
        "        del x1\n",
        "        del x2\n",
        "        return f_GAP, f_GVP\n",
        "\n",
        "    def forward(self,x1, x2, b,c,f,t):\n",
        "        f_GAP, f_GVP = self.GAPGVP(x1, x2, b,c,f,t )\n",
        "        # f_GAP = self.flatten(f_GAP)\n",
        "        # f_GVP = self.flatten(f_GVP)\n",
        "        c = torch.cat((f_GAP, f_GVP),axis=1)\n",
        "        c = self.softmax(self.c_dense(torch.transpose(c,1,2)))\n",
        "        #[batch, gap, 1] -> [batch, 1, dense] -> [batch, dense]\n",
        "        f_GAP_d = self.gap_pwconv(f_GAP).squeeze()\n",
        "        f_GVP_d = self.gvp_pwconv(f_GVP).squeeze()\n",
        "        f_GAP_dd = torch.sum(torch.diagonal(c@f_GAP_d,0,dim1 =1, dim2 =2),dim=1)\n",
        "        f_GVP_dd = torch.sum(torch.diagonal(c@f_GVP_d,0,dim1 =1, dim2 =2),dim=1)\n",
        "        y_hat = torch.div(torch.sub(f_GAP.T,f_GAP_dd),f_GVP_dd).T #ALN\n",
        "        \n",
        "        \n",
        "        # y_hat = self.flatten(y_hat)\n",
        "        # y_hat = self.dense0(y_hat)\n",
        "\n",
        "        #dense layer \n",
        "        y_hat = self.flatten(y_hat)\n",
        "        y_hat = F.relu(self.dense1(y_hat))\n",
        "        y_hat = self.Dropout(y_hat)\n",
        "        y_hat = F.relu(self.dense2(y_hat))\n",
        "\n",
        "        # print('y_hat: ',y_hat.shape)\n",
        "        return y_hat"
      ],
      "metadata": {
        "id": "t8IC9wl5vk_V"
      },
      "execution_count": 33,
      "outputs": []
    },
    {
      "cell_type": "code",
      "source": [],
      "metadata": {
        "id": "KT0WH1m7CeQ_"
      },
      "execution_count": 11,
      "outputs": []
    },
    {
      "cell_type": "markdown",
      "source": [
        "load pretrain model"
      ],
      "metadata": {
        "id": "PK5lzwTNxWpq"
      }
    },
    {
      "cell_type": "code",
      "source": [
        "FE1 = torch.load('/content/Spectral__10s_ep6_.pt')\n",
        "FE2 = torch.load('/content/Temporal__10s_ep15_.pt')\n"
      ],
      "metadata": {
        "id": "IYeo7tM_Gxsr"
      },
      "execution_count": 12,
      "outputs": []
    },
    {
      "cell_type": "code",
      "source": [
        "import os\n",
        "os.environ[\"CUDA_VISIBLE_DEVICES\"] = \"0\"\n",
        "device = torch.device(\"cuda:0\" if torch.cuda.is_available() else \"cpu\")\n",
        "#torch.device(\"cuda:0\" if torch.cuda.is_available() else \"cpu\")\n",
        "#\"cpu\"\n",
        "\n",
        "print(device)\n"
      ],
      "metadata": {
        "id": "TGeS3Hycs2gd",
        "colab": {
          "base_uri": "https://localhost:8080/"
        },
        "outputId": "4cec8734-dfb0-4748-b022-6254f0356b34"
      },
      "execution_count": 34,
      "outputs": [
        {
          "output_type": "stream",
          "name": "stdout",
          "text": [
            "cuda:0\n"
          ]
        }
      ]
    },
    {
      "cell_type": "code",
      "source": [
        "epochs = 100\n",
        "learning_rate = 0.0005\n",
        "batch_size = 100\n",
        "model = StatisticianModule(128,6).to(device)\n",
        "optimizer = torch.optim.Adam(model.parameters(), lr=learning_rate)\n",
        "# optimizer = torch.optim.SGD(model.parameters(), lr=learning_rate)"
      ],
      "metadata": {
        "id": "1Sg0RcOsGxvT"
      },
      "execution_count": 56,
      "outputs": []
    },
    {
      "cell_type": "code",
      "source": [
        "from torch.utils.data import DataLoader\n",
        "\n",
        "\n",
        "trainLoader = DataLoader(train_dataset, batch_size = batch_size, shuffle=True)\n",
        "valLoader = DataLoader(val_dataset, batch_size = batch_size, shuffle=True)\n",
        "testLoader = DataLoader(test_dataset, batch_size = batch_size, shuffle=True)\n"
      ],
      "metadata": {
        "id": "Mg_nmDT_iPbf"
      },
      "execution_count": 57,
      "outputs": []
    },
    {
      "cell_type": "code",
      "source": [
        "torch.cuda.empty_cache()"
      ],
      "metadata": {
        "id": "t3ZnedrL-WDG"
      },
      "execution_count": 58,
      "outputs": []
    },
    {
      "cell_type": "code",
      "source": [
        "loss_tr = []\n",
        "loss_val = []\n",
        "acc_tr = []\n",
        "acc_val = []\n",
        "for epoch in range(epochs):\n",
        "    loss_ep = 0  # add batch loss in epoch\n",
        "    acc_ep = 0\n",
        "    for batch_idx, batch in enumerate(trainLoader):\n",
        "        optimizer.zero_grad()\n",
        "        b,c,t = batch['x'].shape\n",
        "        data = torch.reshape(batch['x'],(b*c,1,t))\n",
        "        data = torch.Tensor(data).type(torch.float).to(device)\n",
        "\n",
        "        x1 =  FE1.getRep(data)\n",
        "        x2 =  FE2.embedding(data) \n",
        "        bc,f,t = x1.shape\n",
        "        pred  = model.forward(x1,x2,b,c,f,t)\n",
        "        CrossEL = torch.nn.CrossEntropyLoss()\n",
        "        label = batch['y'].type(torch.float64).to(device)\n",
        "       \n",
        "        loss = CrossEL(pred, label)\n",
        "        loss.backward(retain_graph=True)\n",
        "        optimizer.step() \n",
        "\n",
        "        _, label =  torch.max(label, 1)  \n",
        "        _, predicted = torch.max(pred, 1)\n",
        "        acc = (predicted == label).sum().item()\n",
        "        acc = acc/batch['x'].shape[0] #acc/(batch*channels*4(augmented))\n",
        "        loss_ep += loss.item()\n",
        "        # print('acc:', acc)\n",
        "        acc_ep += acc\n",
        "\n",
        "    loss_tr.append((loss_ep)/len(trainLoader))\n",
        "    acc_tr.append((acc_ep)/len(trainLoader))        \n",
        "\n",
        "    loss_ep_val = 0\n",
        "    acc_ep_val = 0\n",
        "    \n",
        "    FE1.eval()\n",
        "    FE2.eval()\n",
        "    model.eval()\n",
        "    for batch_idx, batch in enumerate(valLoader):\n",
        "        b,c,t = batch['x'].shape\n",
        "        data = torch.reshape(batch['x'],(b*c,1,t))\n",
        "        data = torch.Tensor(data).type(torch.float).to(device)\n",
        "\n",
        "        x1 =  FE1.getRep(data)\n",
        "        x2 =  FE2.embedding(data) \n",
        "        bc,f,t = x1.shape\n",
        "        pred  = model.forward(x1,x2,b,c,f,t)\n",
        "        CrossEL = torch.nn.CrossEntropyLoss()\n",
        "        label = batch['y'].type(torch.float64).to(device)\n",
        "        loss = CrossEL(pred, label)\n",
        "        \n",
        "        _, label =  torch.max(label, 1)  \n",
        "        _, predicted = torch.max(pred, 1)\n",
        "        acc = (predicted == label).sum().item()\n",
        "        acc = acc/batch['x'].shape[0]\n",
        "\n",
        "        loss_ep_val += loss.item()\n",
        "        acc_ep_val += acc\n",
        "\n",
        "    loss_val.append((loss_ep_val)/len(valLoader))\n",
        "    acc_val.append((acc_ep_val)/len(valLoader))\n",
        "    print(\"epoch : \", epoch, \"  train loss : \", loss_tr[epoch], 'train acc : ', acc_tr[epoch], \"    val loss : \", loss_val[epoch], 'val acc : ', acc_val[epoch])\n",
        "    torch.save(model,'SleepEDF_noConv_30s_ep' + str(epoch)+'_.pt')\n",
        "    FE1.train()\n",
        "    FE2.train()\n",
        "    model.train()\n"
      ],
      "metadata": {
        "id": "eEnhXWVI3so0",
        "colab": {
          "base_uri": "https://localhost:8080/",
          "height": 1000
        },
        "outputId": "79b6804d-0cba-4351-a988-2529e511e508"
      },
      "execution_count": 59,
      "outputs": [
        {
          "metadata": {
            "tags": null
          },
          "name": "stderr",
          "output_type": "stream",
          "text": [
            "/usr/local/lib/python3.7/dist-packages/ipykernel_launcher.py:39: UserWarning: To copy construct from a tensor, it is recommended to use sourceTensor.clone().detach() or sourceTensor.clone().detach().requires_grad_(True), rather than torch.tensor(sourceTensor).\n",
            "/usr/local/lib/python3.7/dist-packages/ipykernel_launcher.py:44: UserWarning: To copy construct from a tensor, it is recommended to use sourceTensor.clone().detach() or sourceTensor.clone().detach().requires_grad_(True), rather than torch.tensor(sourceTensor).\n"
          ]
        },
        {
          "output_type": "stream",
          "name": "stdout",
          "text": [
            "epoch :  0   train loss :  1.8006188962678769 train acc :  0.0976856884057971     val loss :  1.7916113675344123 val acc :  0.139585326953748\n",
            "epoch :  1   train loss :  1.7920037824968282 train acc :  0.12581068840579707     val loss :  1.7917343986985026 val acc :  0.1507017543859649\n",
            "epoch :  2   train loss :  1.7887676715246146 train acc :  0.23338315217391306     val loss :  1.774856126207674 val acc :  0.4641945773524721\n",
            "epoch :  3   train loss :  1.6621981836259836 train acc :  0.45150815217391305     val loss :  1.5316382390254757 val acc :  0.46124401913875607\n",
            "epoch :  4   train loss :  1.5170202506911363 train acc :  0.4574003623188406     val loss :  1.4625253900502004 val acc :  0.47784688995215313\n",
            "epoch :  5   train loss :  1.4767297913683073 train acc :  0.46574275362318845     val loss :  1.4372921451552514 val acc :  0.4751036682615629\n",
            "epoch :  6   train loss :  1.4935158249263778 train acc :  0.4698052536231884     val loss :  1.4708003606220956 val acc :  0.4773684210526317\n",
            "epoch :  7   train loss :  1.5043857505179916 train acc :  0.46629076086956533     val loss :  1.460242394686601 val acc :  0.4691866028708134\n",
            "epoch :  8   train loss :  1.4653190161107594 train acc :  0.4674139492753623     val loss :  1.4314052971199367 val acc :  0.47625199362041465\n",
            "epoch :  9   train loss :  1.4483020866286023 train acc :  0.4701811594202899     val loss :  1.4100842480511189 val acc :  0.48079744816586917\n",
            "epoch :  10   train loss :  1.418773874742033 train acc :  0.4763360507246376     val loss :  1.3929430132419869 val acc :  0.4830781499202553\n",
            "epoch :  11   train loss :  1.3895301874563353 train acc :  0.5032427536231884     val loss :  1.3414679903165097 val acc :  0.5519617224880382\n",
            "epoch :  12   train loss :  1.3427951551925903 train acc :  0.5457880434782609     val loss :  1.286239269380079 val acc :  0.5633173843700159\n",
            "epoch :  13   train loss :  1.2926643530036703 train acc :  0.5621467391304348     val loss :  1.2357748612412143 val acc :  0.5826315789473685\n",
            "epoch :  14   train loss :  1.2489246779809702 train acc :  0.5832246376811591     val loss :  1.1898449446751693 val acc :  0.6087878787878789\n",
            "epoch :  15   train loss :  1.2242677093529697 train acc :  0.5890851449275363     val loss :  1.1635006380618287 val acc :  0.6089952153110049\n",
            "epoch :  16   train loss :  1.18950620516998 train acc :  0.5978804347826085     val loss :  1.137954692905338 val acc :  0.6158054226475279\n",
            "epoch :  17   train loss :  1.1663887250576208 train acc :  0.6039130434782608     val loss :  1.1093215846314288 val acc :  0.6296969696969698\n",
            "epoch :  18   train loss :  1.1366963099916654 train acc :  0.6126766304347825     val loss :  1.0852232230552123 val acc :  0.6262838915470494\n",
            "epoch :  19   train loss :  1.1284863945076147 train acc :  0.6148188405797101     val loss :  1.068244487445035 val acc :  0.6362838915470493\n",
            "epoch :  20   train loss :  1.1052952438537231 train acc :  0.6166304347826087     val loss :  1.0529720325767995 val acc :  0.63311004784689\n",
            "epoch :  21   train loss :  1.0887375597375786 train acc :  0.6245833333333333     val loss :  1.0355991809958953 val acc :  0.6374003189792663\n",
            "epoch :  22   train loss :  1.0578419598111328 train acc :  0.6204891304347826     val loss :  1.0226519528438933 val acc :  0.6280861244019139\n",
            "epoch :  23   train loss :  1.0508399088856382 train acc :  0.6278804347826087     val loss :  1.0128361235337966 val acc :  0.6333173843700158\n",
            "epoch :  24   train loss :  1.0399162279116156 train acc :  0.6247237318840579     val loss :  0.9916805372201797 val acc :  0.6283253588516747\n",
            "epoch :  25   train loss :  1.0163530204990339 train acc :  0.637019927536232     val loss :  0.9859544282943676 val acc :  0.640829346092504\n",
            "epoch :  26   train loss :  1.0192117748556888 train acc :  0.6242255434782608     val loss :  0.9639601219958215 val acc :  0.6424401913875598\n",
            "epoch :  27   train loss :  1.0005603035780402 train acc :  0.6370063405797102     val loss :  0.9578857853631394 val acc :  0.649712918660287\n",
            "epoch :  28   train loss :  0.9860016516089422 train acc :  0.6378170289855072     val loss :  0.9561896724088722 val acc :  0.6514992025518341\n",
            "epoch :  29   train loss :  0.9795523983001815 train acc :  0.6465534420289856     val loss :  0.9533868000212241 val acc :  0.6553588516746413\n",
            "epoch :  30   train loss :  0.9602694896818286 train acc :  0.6451766304347825     val loss :  0.9423999776488002 val acc :  0.654688995215311\n",
            "epoch :  31   train loss :  0.9651406011333523 train acc :  0.6450362318840579     val loss :  0.9334813589261075 val acc :  0.6669856459330142\n",
            "epoch :  32   train loss :  0.9508976305034386 train acc :  0.6538632246376812     val loss :  0.9216205643850603 val acc :  0.6696969696969698\n",
            "epoch :  33   train loss :  0.9537183228519278 train acc :  0.6490534420289853     val loss :  0.9143208605615182 val acc :  0.6651674641148325\n",
            "epoch :  34   train loss :  0.939386263808777 train acc :  0.6566304347826087     val loss :  0.9105196757238221 val acc :  0.6665231259968102\n",
            "epoch :  35   train loss :  0.9422787346520298 train acc :  0.6653170289855073     val loss :  0.9144734560929393 val acc :  0.672200956937799\n",
            "epoch :  36   train loss :  0.937659723115619 train acc :  0.6642708333333334     val loss :  0.9092140075036487 val acc :  0.6760606060606063\n",
            "epoch :  37   train loss :  0.93209792947596 train acc :  0.6719746376811593     val loss :  0.90156780828551 val acc :  0.6803827751196172\n",
            "epoch :  38   train loss :  0.9232939188065162 train acc :  0.6719112318840579     val loss :  0.9002175503542597 val acc :  0.6735566188197767\n",
            "epoch :  39   train loss :  0.9219557499437298 train acc :  0.6673641304347827     val loss :  0.9130865516880767 val acc :  0.6767464114832535\n",
            "epoch :  40   train loss :  0.9126690830843259 train acc :  0.6711141304347826     val loss :  0.8975320388674379 val acc :  0.6803827751196172\n",
            "epoch :  41   train loss :  0.9175960980966121 train acc :  0.6638813405797102     val loss :  0.8950667051197789 val acc :  0.6817543859649122\n",
            "epoch :  42   train loss :  0.9016967251291138 train acc :  0.6758967391304348     val loss :  0.8914708713768756 val acc :  0.6829027113237639\n",
            "epoch :  43   train loss :  0.9035104477582265 train acc :  0.6736458333333334     val loss :  0.8936987161846012 val acc :  0.6799362041467304\n",
            "epoch :  44   train loss :  0.905312661661369 train acc :  0.670584239130435     val loss :  0.9210050583510458 val acc :  0.6835725677830942\n",
            "epoch :  45   train loss :  0.8998218737076821 train acc :  0.6748958333333334     val loss :  0.8777673862505321 val acc :  0.6883253588516746\n",
            "epoch :  46   train loss :  0.9006718881780245 train acc :  0.6769882246376812     val loss :  0.9013588034081685 val acc :  0.6751196172248803\n",
            "epoch :  47   train loss :  0.8923499237331793 train acc :  0.682504528985507     val loss :  0.8811721173021422 val acc :  0.67311004784689\n",
            "epoch :  48   train loss :  0.8922781545366987 train acc :  0.6792391304347827     val loss :  0.889682574932563 val acc :  0.6742424242424243\n",
            "epoch :  49   train loss :  0.8892150488309868 train acc :  0.6870063405797102     val loss :  0.8829275737825018 val acc :  0.6819617224880383\n",
            "epoch :  50   train loss :  1.1471624580120434 train acc :  0.6266168478260867     val loss :  1.4354751773204724 val acc :  0.5403508771929825\n",
            "epoch :  51   train loss :  1.3894443476250715 train acc :  0.5096014492753623     val loss :  1.2615780432837196 val acc :  0.5394417862838915\n",
            "epoch :  52   train loss :  1.206576865716201 train acc :  0.5597871376811593     val loss :  1.1079808828112279 val acc :  0.5942424242424242\n",
            "epoch :  53   train loss :  1.0945121208554012 train acc :  0.5993659420289854     val loss :  1.0429045956834637 val acc :  0.6317384370015948\n",
            "epoch :  54   train loss :  1.053109330931405 train acc :  0.6148822463768118     val loss :  1.0065076258235524 val acc :  0.6358373205741628\n",
            "epoch :  55   train loss :  1.0262578345390894 train acc :  0.6196467391304348     val loss :  0.9907899627214863 val acc :  0.6308133971291866\n",
            "epoch :  56   train loss :  1.0001172846508892 train acc :  0.6244112318840578     val loss :  0.973164914405327 val acc :  0.6381020733652313\n",
            "epoch :  57   train loss :  0.9861214905710843 train acc :  0.6320063405797101     val loss :  0.9629703211136745 val acc :  0.6483253588516745\n",
            "epoch :  58   train loss :  0.9746360386015157 train acc :  0.6395516304347827     val loss :  0.9542242549227304 val acc :  0.6503827751196172\n",
            "epoch :  59   train loss :  0.9763123416463191 train acc :  0.6353804347826086     val loss :  0.9422633985319492 val acc :  0.6537958532695375\n",
            "epoch :  60   train loss :  0.9584620092642592 train acc :  0.6366938405797102     val loss :  0.9398124155829969 val acc :  0.6517224880382776\n",
            "epoch :  61   train loss :  0.955486575379998 train acc :  0.6479438405797102     val loss :  0.9377950304929624 val acc :  0.6496810207336523\n",
            "epoch :  62   train loss :  0.9482522396825465 train acc :  0.6459737318840579     val loss :  0.9244709772811505 val acc :  0.6572089314194578\n",
            "epoch :  63   train loss :  0.936467941080893 train acc :  0.6457699275362319     val loss :  0.9253633969853464 val acc :  0.6496650717703348\n",
            "epoch :  64   train loss :  0.9419546184923664 train acc :  0.6479438405797102     val loss :  0.9170753870501615 val acc :  0.6556140350877193\n",
            "epoch :  65   train loss :  0.9316052137983057 train acc :  0.6545199275362319     val loss :  0.9186685400402717 val acc :  0.654688995215311\n",
            "epoch :  66   train loss :  0.9307701890811537 train acc :  0.6563632246376812     val loss :  0.9162540767116077 val acc :  0.657878787878788\n",
            "epoch :  67   train loss :  0.9381683869448496 train acc :  0.6471784420289856     val loss :  0.9053194961845397 val acc :  0.6617703349282297\n",
            "epoch :  68   train loss :  0.9357678475821866 train acc :  0.6470380434782609     val loss :  0.9166498778348097 val acc :  0.6512759170653907\n",
            "epoch :  69   train loss :  0.9275568356540517 train acc :  0.6504891304347826     val loss :  0.9147399189998136 val acc :  0.6501275917065391\n",
            "epoch :  70   train loss :  0.916948002968802 train acc :  0.6629257246376811     val loss :  0.9121897803418088 val acc :  0.6574162679425837\n"
          ]
        },
        {
          "output_type": "error",
          "ename": "KeyboardInterrupt",
          "evalue": "ignored",
          "traceback": [
            "\u001b[0;31m---------------------------------------------------------------------------\u001b[0m",
            "\u001b[0;31mKeyboardInterrupt\u001b[0m                         Traceback (most recent call last)",
            "\u001b[0;32m<ipython-input-59-ff03da67dd8e>\u001b[0m in \u001b[0;36m<module>\u001b[0;34m\u001b[0m\n\u001b[1;32m     17\u001b[0m         \u001b[0mpred\u001b[0m  \u001b[0;34m=\u001b[0m \u001b[0mmodel\u001b[0m\u001b[0;34m.\u001b[0m\u001b[0mforward\u001b[0m\u001b[0;34m(\u001b[0m\u001b[0mx1\u001b[0m\u001b[0;34m,\u001b[0m\u001b[0mx2\u001b[0m\u001b[0;34m,\u001b[0m\u001b[0mb\u001b[0m\u001b[0;34m,\u001b[0m\u001b[0mc\u001b[0m\u001b[0;34m,\u001b[0m\u001b[0mf\u001b[0m\u001b[0;34m,\u001b[0m\u001b[0mt\u001b[0m\u001b[0;34m)\u001b[0m\u001b[0;34m\u001b[0m\u001b[0;34m\u001b[0m\u001b[0m\n\u001b[1;32m     18\u001b[0m         \u001b[0mCrossEL\u001b[0m \u001b[0;34m=\u001b[0m \u001b[0mtorch\u001b[0m\u001b[0;34m.\u001b[0m\u001b[0mnn\u001b[0m\u001b[0;34m.\u001b[0m\u001b[0mCrossEntropyLoss\u001b[0m\u001b[0;34m(\u001b[0m\u001b[0;34m)\u001b[0m\u001b[0;34m\u001b[0m\u001b[0;34m\u001b[0m\u001b[0m\n\u001b[0;32m---> 19\u001b[0;31m         \u001b[0mlabel\u001b[0m \u001b[0;34m=\u001b[0m \u001b[0mbatch\u001b[0m\u001b[0;34m[\u001b[0m\u001b[0;34m'y'\u001b[0m\u001b[0;34m]\u001b[0m\u001b[0;34m.\u001b[0m\u001b[0mtype\u001b[0m\u001b[0;34m(\u001b[0m\u001b[0mtorch\u001b[0m\u001b[0;34m.\u001b[0m\u001b[0mfloat64\u001b[0m\u001b[0;34m)\u001b[0m\u001b[0;34m.\u001b[0m\u001b[0mto\u001b[0m\u001b[0;34m(\u001b[0m\u001b[0mdevice\u001b[0m\u001b[0;34m)\u001b[0m\u001b[0;34m\u001b[0m\u001b[0;34m\u001b[0m\u001b[0m\n\u001b[0m\u001b[1;32m     20\u001b[0m \u001b[0;34m\u001b[0m\u001b[0m\n\u001b[1;32m     21\u001b[0m         \u001b[0mloss\u001b[0m \u001b[0;34m=\u001b[0m \u001b[0mCrossEL\u001b[0m\u001b[0;34m(\u001b[0m\u001b[0mpred\u001b[0m\u001b[0;34m,\u001b[0m \u001b[0mlabel\u001b[0m\u001b[0;34m)\u001b[0m\u001b[0;34m\u001b[0m\u001b[0;34m\u001b[0m\u001b[0m\n",
            "\u001b[0;31mKeyboardInterrupt\u001b[0m: "
          ]
        }
      ]
    },
    {
      "cell_type": "code",
      "source": [
        "epochs =71"
      ],
      "metadata": {
        "id": "WmgIKOoqT1q9"
      },
      "execution_count": 60,
      "outputs": []
    },
    {
      "cell_type": "code",
      "source": [
        "import pandas as pd\n",
        "col = ['loss_tr','loss_val','acc_tr','acc_val']\n",
        "data = np.array([loss_tr,\n",
        "                 loss_val,\n",
        "                 acc_tr,\n",
        "                 acc_val])\n",
        "print(data.shape)\n",
        "data = np.transpose(data)\n",
        "df = pd.DataFrame(data = data, columns= col)\n",
        "df.to_excel('SleepEDF_conv10s.xlsx', index = False)\n"
      ],
      "metadata": {
        "colab": {
          "base_uri": "https://localhost:8080/"
        },
        "id": "-dLGi88mRVw5",
        "outputId": "a3a3eecc-fe47-47db-aa29-4f8f80006752"
      },
      "execution_count": 61,
      "outputs": [
        {
          "output_type": "stream",
          "name": "stdout",
          "text": [
            "(4, 71)\n"
          ]
        }
      ]
    },
    {
      "cell_type": "code",
      "source": [
        "import matplotlib.pyplot as plt\n",
        "  \n",
        "# plt.figure(figsize =(15, 10))\n",
        "plt.plot(range(epochs), loss_tr, color='red')\n",
        "plt.plot(range(epochs), loss_val, color='blue')\n",
        "plt.title('Model loss')\n",
        "plt.xlabel('epochs')\n",
        "plt.ylabel('loss')\n",
        "plt.legend(['Train', 'Validation'], loc='upper right')\n",
        "plt.savefig('SleepEDF_conv10s_loss.png',bbox_inches = 'tight')\n",
        "plt.show() "
      ],
      "metadata": {
        "colab": {
          "base_uri": "https://localhost:8080/",
          "height": 295
        },
        "outputId": "6b48e891-cad6-41c2-d8d2-719060b05a00",
        "id": "aRBbSnNtQbkD"
      },
      "execution_count": 62,
      "outputs": [
        {
          "output_type": "display_data",
          "data": {
            "text/plain": [
              "<Figure size 432x288 with 1 Axes>"
            ],
            "image/png": "[encoded data removed]"
          },
          "metadata": {
            "needs_background": "light"
          }
        }
      ]
    },
    {
      "cell_type": "code",
      "source": [
        "# plt.figure(figsize =(15, 10))\n",
        "plt.plot(range(epochs), acc_tr, color='red')\n",
        "plt.plot(range(epochs), acc_val, color='blue')\n",
        "plt.title('Model accuracy')\n",
        "plt.xlabel('epochs')\n",
        "plt.ylabel('accuracy')\n",
        "plt.legend(['Train', 'Validation'], loc='lower right')\n",
        "plt.savefig('SleepEDF_conv10s_accuracy.png',bbox_inches = 'tight')\n",
        "plt.show()"
      ],
      "metadata": {
        "colab": {
          "base_uri": "https://localhost:8080/",
          "height": 295
        },
        "outputId": "438e5ab0-c3cd-4c91-e3d1-9b2d16dc03e8",
        "id": "sN6ihZN4QbkE"
      },
      "execution_count": 63,
      "outputs": [
        {
          "output_type": "display_data",
          "data": {
            "text/plain": [
              "<Figure size 432x288 with 1 Axes>"
            ],
            "image/png": "[encoded data removed]"
          },
          "metadata": {
            "needs_background": "light"
          }
        }
      ]
    },
    {
      "cell_type": "code",
      "source": [
        "model = torch.load('/content/SleepEDF_noConv_30s_ep49_.pt')"
      ],
      "metadata": {
        "id": "0e6Ej0xIgUZG"
      },
      "execution_count": 65,
      "outputs": []
    },
    {
      "cell_type": "code",
      "source": [
        "loss_ep_test = 0\n",
        "acc_ep_test = 0\n",
        "FE1.eval()\n",
        "FE2.eval()\n",
        "model.eval()\n",
        "\n",
        "for batch_idx, batch in enumerate(testLoader):\n",
        "        b,c,t = batch['x'].shape\n",
        "        data = torch.reshape(batch['x'],(b*c,1,t))\n",
        "        data = torch.Tensor(data).type(torch.float).to(device)\n",
        "\n",
        "        x1 =  FE1.getRep(data)\n",
        "        x2 =  FE2.embedding(data) \n",
        "        bc,f,t = x1.shape\n",
        "        pred  = model.forward(x1,x2,b,c,f,t)\n",
        "        CrossEL = torch.nn.CrossEntropyLoss()\n",
        "        label = batch['y'].type(torch.float64).to(device)\n",
        "        loss = CrossEL(pred, label)\n",
        "        \n",
        "        _, label =  torch.max(label, 1)  \n",
        "        _, predicted = torch.max(pred, 1)\n",
        "        acc = (predicted == label).sum().item()\n",
        "        acc = acc/batch['x'].shape[0]\n",
        "        loss_ep_test += loss.item()\n",
        "        acc_ep_test += acc\n",
        "\n",
        "acc_ep_test = acc_ep_test/len(testLoader)\n",
        "loss_ep_test = loss_ep_test/len(testLoader)\n",
        "\n",
        "print(acc_ep_test)\n",
        "print(loss_ep_test)"
      ],
      "metadata": {
        "colab": {
          "base_uri": "https://localhost:8080/"
        },
        "id": "2GMhsbW-tHab",
        "outputId": "247013b0-8422-4b8e-bad2-9b4f3790aa12"
      },
      "execution_count": 66,
      "outputs": [
        {
          "output_type": "stream",
          "name": "stderr",
          "text": [
            "/usr/local/lib/python3.7/dist-packages/ipykernel_launcher.py:39: UserWarning: To copy construct from a tensor, it is recommended to use sourceTensor.clone().detach() or sourceTensor.clone().detach().requires_grad_(True), rather than torch.tensor(sourceTensor).\n",
            "/usr/local/lib/python3.7/dist-packages/ipykernel_launcher.py:44: UserWarning: To copy construct from a tensor, it is recommended to use sourceTensor.clone().detach() or sourceTensor.clone().detach().requires_grad_(True), rather than torch.tensor(sourceTensor).\n"
          ]
        },
        {
          "output_type": "stream",
          "name": "stdout",
          "text": [
            "0.6651515151515152\n",
            "0.9168781937528651\n"
          ]
        }
      ]
    },
    {
      "cell_type": "code",
      "source": [
        "label_list = []\n",
        "predicted_list = []\n",
        "for batch_idx, batch in enumerate(testLoader):\n",
        "        b,c,t = batch['x'].shape\n",
        "        data = torch.reshape(batch['x'],(b*c,1,t))\n",
        "        data = torch.Tensor(data).type(torch.float).to(device)\n",
        "\n",
        "        x1 =  FE1.getRep(data)\n",
        "        x2 =  FE2.embedding(data) \n",
        "        bc,f,t = x1.shape\n",
        "        pred  = model.forward(x1,x2,b,c,f,t)\n",
        "        CrossEL = torch.nn.CrossEntropyLoss()\n",
        "        label = batch['y'].type(torch.float64).to(device)\n",
        "        \n",
        "        _, label =  torch.max(label, 1)  \n",
        "        _, predicted = torch.max(pred, 1)\n",
        "        label_list.extend(label.cpu().detach().numpy())\n",
        "        predicted_list.extend(predicted.cpu().detach().numpy())"
      ],
      "metadata": {
        "id": "JXgSul4kDlpz",
        "colab": {
          "base_uri": "https://localhost:8080/"
        },
        "outputId": "ed7745b3-720c-48b7-f115-e000476ffba0"
      },
      "execution_count": 67,
      "outputs": [
        {
          "output_type": "stream",
          "name": "stderr",
          "text": [
            "/usr/local/lib/python3.7/dist-packages/ipykernel_launcher.py:39: UserWarning: To copy construct from a tensor, it is recommended to use sourceTensor.clone().detach() or sourceTensor.clone().detach().requires_grad_(True), rather than torch.tensor(sourceTensor).\n",
            "/usr/local/lib/python3.7/dist-packages/ipykernel_launcher.py:44: UserWarning: To copy construct from a tensor, it is recommended to use sourceTensor.clone().detach() or sourceTensor.clone().detach().requires_grad_(True), rather than torch.tensor(sourceTensor).\n"
          ]
        }
      ]
    },
    {
      "cell_type": "code",
      "source": [
        "# confusion matrix 사용을 위한 라이브러리\n",
        "from sklearn.metrics import confusion_matrix\n",
        "conf_matrix = confusion_matrix(label_list, predicted_list)\n",
        "print(conf_matrix)"
      ],
      "metadata": {
        "id": "c-y5mOdw49Y5",
        "colab": {
          "base_uri": "https://localhost:8080/"
        },
        "outputId": "83e663ac-f1f3-4109-d9a4-ab50157f973b"
      },
      "execution_count": 68,
      "outputs": [
        {
          "output_type": "stream",
          "name": "stdout",
          "text": [
            "[[113   0  11   1   2  43]\n",
            " [ 21   0  16   0   0  40]\n",
            " [  1   0 390  13   4  66]\n",
            " [  0   0  55  19  24   0]\n",
            " [  0   0  19  12  43   0]\n",
            " [  6   0  20   0   0 138]]\n"
          ]
        }
      ]
    },
    {
      "cell_type": "code",
      "source": [
        "title = 'confusion matrix'\n",
        "cmap=plt.cm.Greens\n",
        "plt.figure(figsize=(6, 6))\n",
        "plt.imshow(conf_matrix, interpolation='nearest', cmap=cmap)  # , cmap=plt.cm.Greens\n",
        "plt.title(title, size=12)\n",
        "plt.colorbar(fraction=0.05, pad=0.05)\n",
        "tick_marks = np.arange(6, 6)\n",
        "plt.yticks(np.arange(6), ('W','N1','N2','N3','N4','R'))\n",
        "plt.xticks(np.arange(6), ('W','N1','N2','N3','N4','R'))\n",
        "\n",
        "\n",
        "fmt = 'd' \n",
        "thresh = 1\n",
        "for i in range(conf_matrix.shape[0]):\n",
        "    for j in range(conf_matrix.shape[1]):\n",
        "        plt.text(j, i, format(conf_matrix[i, j], fmt),\n",
        "                 ha=\"center\", va=\"center\", color=\"black\" if conf_matrix[i, j] > thresh else \"black\")  #horizontalalignment\n",
        "plt.savefig('SleepEDF_conv10s_confusion matrix.png',bbox_inches = 'tight')"
      ],
      "metadata": {
        "colab": {
          "base_uri": "https://localhost:8080/",
          "height": 367
        },
        "id": "l1JMllMxSB7b",
        "outputId": "3d27cb92-dcf5-4dfa-9da0-db5d4b29148b"
      },
      "execution_count": 69,
      "outputs": [
        {
          "output_type": "display_data",
          "data": {
            "text/plain": [
              "<Figure size 432x432 with 2 Axes>"
            ],
            "image/png": "[encoded data removed]"
          },
          "metadata": {
            "needs_background": "light"
          }
        }
      ]
    }
  ]
}