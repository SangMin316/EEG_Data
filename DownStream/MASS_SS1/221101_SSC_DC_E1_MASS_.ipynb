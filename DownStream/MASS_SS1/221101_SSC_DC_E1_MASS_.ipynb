{
  "nbformat": 4,
  "nbformat_minor": 0,
  "metadata": {
    "colab": {
      "provenance": [],
      "collapsed_sections": []
    },
    "kernelspec": {
      "name": "python3",
      "display_name": "Python 3"
    },
    "language_info": {
      "name": "python"
    },
    "gpuClass": "standard",
    "accelerator": "GPU"
  },
  "cells": [
    {
      "cell_type": "code",
      "source": [
        "from google.colab import drive\n",
        "drive.mount('/content/drive')"
      ],
      "metadata": {
        "colab": {
          "base_uri": "https://localhost:8080/"
        },
        "id": "XLhzhFpgNwjT",
        "outputId": "28b02f07-3192-46a6-d0c6-22ff41cc4b2a"
      },
      "execution_count": 1,
      "outputs": [
        {
          "output_type": "stream",
          "name": "stdout",
          "text": [
            "Drive already mounted at /content/drive; to attempt to forcibly remount, call drive.mount(\"/content/drive\", force_remount=True).\n"
          ]
        }
      ]
    },
    {
      "cell_type": "code",
      "source": [
        "!pip install mne"
      ],
      "metadata": {
        "colab": {
          "base_uri": "https://localhost:8080/"
        },
        "id": "bDWt74XAgpLK",
        "outputId": "1fa42426-5035-4f4d-eb3a-151d789b1a68"
      },
      "execution_count": 2,
      "outputs": [
        {
          "output_type": "stream",
          "name": "stdout",
          "text": [
            "Looking in indexes: https://pypi.org/simple, https://us-python.pkg.dev/colab-wheels/public/simple/\n",
            "Requirement already satisfied: mne in /usr/local/lib/python3.7/dist-packages (1.2.1)\n",
            "Requirement already satisfied: scipy>=1.1.0 in /usr/local/lib/python3.7/dist-packages (from mne) (1.7.3)\n",
            "Requirement already satisfied: decorator in /usr/local/lib/python3.7/dist-packages (from mne) (4.4.2)\n",
            "Requirement already satisfied: tqdm in /usr/local/lib/python3.7/dist-packages (from mne) (4.64.1)\n",
            "Requirement already satisfied: packaging in /usr/local/lib/python3.7/dist-packages (from mne) (21.3)\n",
            "Requirement already satisfied: jinja2 in /usr/local/lib/python3.7/dist-packages (from mne) (2.11.3)\n",
            "Requirement already satisfied: numpy>=1.15.4 in /usr/local/lib/python3.7/dist-packages (from mne) (1.21.6)\n",
            "Requirement already satisfied: matplotlib in /usr/local/lib/python3.7/dist-packages (from mne) (3.2.2)\n",
            "Requirement already satisfied: pooch>=1.5 in /usr/local/lib/python3.7/dist-packages (from mne) (1.6.0)\n",
            "Requirement already satisfied: requests>=2.19.0 in /usr/local/lib/python3.7/dist-packages (from pooch>=1.5->mne) (2.23.0)\n",
            "Requirement already satisfied: appdirs>=1.3.0 in /usr/local/lib/python3.7/dist-packages (from pooch>=1.5->mne) (1.4.4)\n",
            "Requirement already satisfied: pyparsing!=3.0.5,>=2.0.2 in /usr/local/lib/python3.7/dist-packages (from packaging->mne) (3.0.9)\n",
            "Requirement already satisfied: certifi>=2017.4.17 in /usr/local/lib/python3.7/dist-packages (from requests>=2.19.0->pooch>=1.5->mne) (2022.9.24)\n",
            "Requirement already satisfied: chardet<4,>=3.0.2 in /usr/local/lib/python3.7/dist-packages (from requests>=2.19.0->pooch>=1.5->mne) (3.0.4)\n",
            "Requirement already satisfied: idna<3,>=2.5 in /usr/local/lib/python3.7/dist-packages (from requests>=2.19.0->pooch>=1.5->mne) (2.10)\n",
            "Requirement already satisfied: urllib3!=1.25.0,!=1.25.1,<1.26,>=1.21.1 in /usr/local/lib/python3.7/dist-packages (from requests>=2.19.0->pooch>=1.5->mne) (1.24.3)\n",
            "Requirement already satisfied: MarkupSafe>=0.23 in /usr/local/lib/python3.7/dist-packages (from jinja2->mne) (2.0.1)\n",
            "Requirement already satisfied: kiwisolver>=1.0.1 in /usr/local/lib/python3.7/dist-packages (from matplotlib->mne) (1.4.4)\n",
            "Requirement already satisfied: cycler>=0.10 in /usr/local/lib/python3.7/dist-packages (from matplotlib->mne) (0.11.0)\n",
            "Requirement already satisfied: python-dateutil>=2.1 in /usr/local/lib/python3.7/dist-packages (from matplotlib->mne) (2.8.2)\n",
            "Requirement already satisfied: typing-extensions in /usr/local/lib/python3.7/dist-packages (from kiwisolver>=1.0.1->matplotlib->mne) (4.1.1)\n",
            "Requirement already satisfied: six>=1.5 in /usr/local/lib/python3.7/dist-packages (from python-dateutil>=2.1->matplotlib->mne) (1.15.0)\n"
          ]
        }
      ]
    },
    {
      "cell_type": "code",
      "execution_count": 3,
      "metadata": {
        "id": "l4YUYhC7E4Ck"
      },
      "outputs": [],
      "source": [
        "from torch.utils.data import Dataset\n",
        "import torch\n",
        "import pickle\n",
        "import mne\n",
        "import numpy as np\n",
        "import time\n",
        "\n",
        "class Sleepedf_dataset(Dataset):\n",
        "    def __init__(self, files, seq_len, SSL = bool):\n",
        "        self.files = files\n",
        "        self.sequence_length = seq_len\n",
        "        self.SSL = SSL\n",
        "        # sample을 split해줬을 때 몇개로 split되는지 누적해서 저장, i번째 data를 찾을 때 data_adress 각 값이 기준이 됨\n",
        "        data_adress = [0]\n",
        "        ad = 0\n",
        "        max_value = 0.\n",
        "        min_value = 0.\n",
        "\n",
        "        for i in range(len(self.files)):\n",
        "            sample = np.load(files[i])['x']\n",
        "            c,t = sample.shape\n",
        "            t = int(t/self.sequence_length) \n",
        "            ad += t\n",
        "            data_adress.append(ad)\n",
        "            temp_max = sample.max()\n",
        "            temp_min = sample.min()\n",
        "            max_value = np.max([max_value, temp_max])\n",
        "            min_value = np.min([min_value, temp_min])\n",
        "        \n",
        "        self.data_adress = data_adress\n",
        "        self.max_value = max_value\n",
        "        self.min_value = min_value\n",
        "\n",
        "    def preprocessing(self, data):\n",
        "        data_max = np.max(data,axis = 2, keepdims=True) # max value of each channels\n",
        "        data_min = np.min(data,axis = 2, keepdims=True) # shape = b,c\n",
        "        b,c,t = data.shape\n",
        "        \n",
        "        return data/data_max*np.ones((b,c,t)) - (data_max - data_min)*np.ones((b,c,t))/(self.max_value - self.min_value)\n",
        "\n",
        "\n",
        "    def split_data(self, data):\n",
        "        L = self.sequence_length\n",
        "        channels, length = data.shape\n",
        "        a = L*int(length/L)\n",
        "        \n",
        "        if length == a:\n",
        "            data = np.reshape(data,(int(length/L),channels,L))\n",
        "        \n",
        "        else:\n",
        "            data = data[:,:a]\n",
        "            data = np.reshape(data,(int(a/L),channels,L))\n",
        "        return data\n",
        "\n",
        "    def one_hot_encoding(self,y):\n",
        "        if y == 'W':\n",
        "          y = np.array([1,0,0,0,0])\n",
        "        elif y == '1':\n",
        "          y = np.array([0,1,0,0,0])\n",
        "        elif y == '2':\n",
        "          y = np.array([0,0,1,0,0])   \n",
        "        elif y == '3':\n",
        "          y = np.array([0,0,0,1,0])\n",
        "        elif y == '4':\n",
        "          y = np.array([0,0,0,0,1])      \n",
        "        return y  \n",
        "\n",
        "\n",
        "    def __getitem__(self, index):\n",
        "        for i in range(len(self.data_adress)):\n",
        "            if index < self.data_adress[i]:\n",
        "                break\n",
        "          \n",
        "        sample = np.load(self.files[i-1])  \n",
        "        y = self.one_hot_encoding(sample['y'])\n",
        "        sample = self.split_data(sample['x'])\n",
        "        sample = self.preprocessing(sample)\n",
        "\n",
        "        if self.SSL:\n",
        "          return sample[index - self.data_adress[i-1],:,:]\n",
        "        else:\n",
        "          return { 'x' : torch.tensor(sample[index - self.data_adress[i-1],:,:]), \n",
        "                   'y' : torch.tensor(y)\n",
        "                   }\n",
        "\n",
        "          \n",
        "          \n",
        "    def __len__(self):\n",
        "        return self.data_adress[-1]\n"
      ]
    },
    {
      "cell_type": "code",
      "source": [
        "class MASS_dataset(Dataset):\n",
        "    def __init__(self, files):\n",
        "        self.files = files\n",
        "        max_value = 0.\n",
        "        min_value = 0.\n",
        "\n",
        "        for i in range(len(self.files)):\n",
        "            sample = np.load(files[i])['x']\n",
        "            temp_max = sample.max()\n",
        "            temp_min = sample.min()\n",
        "            max_value = np.max([max_value, temp_max])\n",
        "            min_value = np.min([min_value, temp_min])\n",
        "        \n",
        "\n",
        "        self.max_value = max_value\n",
        "        self.min_value = min_value\n",
        "\n",
        "    def preprocessing(self, data):\n",
        "        data_max = np.max(data,axis = 1, keepdims=True) # max value of each channels\n",
        "        data_min = np.min(data,axis = 1, keepdims=True) # shape = c,t\n",
        "        c,t = data.shape\n",
        "        \n",
        "        return data/data_max*np.ones((c,t)) - (data_max - data_min)*np.ones((c,t))/(self.max_value - self.min_value)\n",
        "\n",
        "\n",
        "    def split_data(self, data):\n",
        "        L = self.sequence_length\n",
        "        channels, length = data.shape\n",
        "        a = L*int(length/L)\n",
        "        \n",
        "        if length == a:\n",
        "            data = np.reshape(data,(int(length/L),channels,L))\n",
        "        \n",
        "        else:\n",
        "            data = data[:,:a]\n",
        "            data = np.reshape(data,(int(a/L),channels,L))\n",
        "        return data\n",
        "\n",
        "    def one_hot_encoding(self,y):\n",
        "        if y == 'Sleep stage W':\n",
        "          y = np.array([1,0,0,0,0])\n",
        "        elif y == 'Sleep stage 1':\n",
        "          y = np.array([0,1,0,0,0])\n",
        "        elif y == 'Sleep stage 2':\n",
        "          y = np.array([0,0,1,0,0])   \n",
        "        elif y == 'Sleep stage 3':\n",
        "          y = np.array([0,0,0,1,0])\n",
        "        elif y == 'Sleep stage R':\n",
        "          y = np.array([0,0,0,0,1])      \n",
        "        return y  \n",
        "\n",
        "\n",
        "    def __getitem__(self, index):          \n",
        "        sample = np.load(self.files[index])  \n",
        "        y = self.one_hot_encoding(sample['y'])\n",
        "        sample = self.preprocessing(sample['x'])\n",
        "        return { 'x' : torch.tensor(sample), \n",
        "                 'y' : torch.tensor(y)\n",
        "                   }\n",
        "          \n",
        "    def __len__(self):\n",
        "        return len(self.files)"
      ],
      "metadata": {
        "id": "x59y8HGhPIQB"
      },
      "execution_count": 4,
      "outputs": []
    },
    {
      "cell_type": "code",
      "execution_count": 5,
      "metadata": {
        "colab": {
          "base_uri": "https://localhost:8080/"
        },
        "id": "pk5UWrymWlfa",
        "outputId": "949bee47-6765-443e-f185-25b68446c5af"
      },
      "outputs": [
        {
          "output_type": "stream",
          "name": "stdout",
          "text": [
            "5\n",
            "4683\n"
          ]
        }
      ],
      "source": [
        "import glob\n",
        "\n",
        "SS1_list = glob.glob('/content/drive/MyDrive/EEG_data/MASS/SS1/Preprocessed_EEG/17channels/**')\n",
        "print(len(SS1_list))\n",
        "MASS_list = []\n",
        "for i in range(len(SS1_list)):\n",
        "    MASS_list.extend(glob.glob(SS1_list[i]+'/**'))\n",
        "print(len(MASS_list))"
      ]
    },
    {
      "cell_type": "code",
      "source": [
        "from sklearn.model_selection import train_test_split\n",
        "\n",
        "train, test = train_test_split(MASS_list, test_size=0.2)#, shuffle=True, random_state=34), #stratify=target\n",
        "train, val = train_test_split(train, test_size= 0.25)#, shu"
      ],
      "metadata": {
        "id": "8hZHBofhD_ti"
      },
      "execution_count": 6,
      "outputs": []
    },
    {
      "cell_type": "code",
      "source": [],
      "metadata": {
        "id": "fGvyMclMw_Vk"
      },
      "execution_count": 6,
      "outputs": []
    },
    {
      "cell_type": "code",
      "source": [
        "train_dataset = MASS_dataset(train)\n",
        "val_dataset = MASS_dataset(val)\n",
        "test_dataset = MASS_dataset(test)"
      ],
      "metadata": {
        "id": "eY3pJkIbWoFC"
      },
      "execution_count": 7,
      "outputs": []
    },
    {
      "cell_type": "code",
      "source": [
        "!pip install separableconv-torch"
      ],
      "metadata": {
        "colab": {
          "base_uri": "https://localhost:8080/"
        },
        "id": "834tX7V_uCyj",
        "outputId": "14fd8a06-9287-4f04-e73d-00d304e58e20"
      },
      "execution_count": 8,
      "outputs": [
        {
          "output_type": "stream",
          "name": "stdout",
          "text": [
            "Looking in indexes: https://pypi.org/simple, https://us-python.pkg.dev/colab-wheels/public/simple/\n",
            "Requirement already satisfied: separableconv-torch in /usr/local/lib/python3.7/dist-packages (0.1.0)\n",
            "Requirement already satisfied: numpy in /usr/local/lib/python3.7/dist-packages (from separableconv-torch) (1.21.6)\n",
            "Requirement already satisfied: torch in /usr/local/lib/python3.7/dist-packages (from separableconv-torch) (1.12.1+cu113)\n",
            "Requirement already satisfied: torchvision in /usr/local/lib/python3.7/dist-packages (from separableconv-torch) (0.13.1+cu113)\n",
            "Requirement already satisfied: typing-extensions in /usr/local/lib/python3.7/dist-packages (from torch->separableconv-torch) (4.1.1)\n",
            "Requirement already satisfied: requests in /usr/local/lib/python3.7/dist-packages (from torchvision->separableconv-torch) (2.23.0)\n",
            "Requirement already satisfied: pillow!=8.3.*,>=5.3.0 in /usr/local/lib/python3.7/dist-packages (from torchvision->separableconv-torch) (7.1.2)\n",
            "Requirement already satisfied: chardet<4,>=3.0.2 in /usr/local/lib/python3.7/dist-packages (from requests->torchvision->separableconv-torch) (3.0.4)\n",
            "Requirement already satisfied: idna<3,>=2.5 in /usr/local/lib/python3.7/dist-packages (from requests->torchvision->separableconv-torch) (2.10)\n",
            "Requirement already satisfied: certifi>=2017.4.17 in /usr/local/lib/python3.7/dist-packages (from requests->torchvision->separableconv-torch) (2022.9.24)\n",
            "Requirement already satisfied: urllib3!=1.25.0,!=1.25.1,<1.26,>=1.21.1 in /usr/local/lib/python3.7/dist-packages (from requests->torchvision->separableconv-torch) (1.24.3)\n"
          ]
        }
      ]
    },
    {
      "cell_type": "code",
      "source": [
        "import numpy as np\n",
        "import torch\n",
        "import torch.nn as nn\n",
        "from mne.filter import filter_data, notch_filter\n",
        "import matplotlib.pyplot as plt\n",
        "class Encoder(nn.Module):\n",
        "    def __init__(self, fs, encode_info):\n",
        "        super(Encoder, self).__init__()\n",
        "        #spectral layer means spectral convolution\n",
        "        #self.bac_layer is consist of several SeparableConv2d, which plays the role of temporal separable convolution\n",
        "        #convolution layer are initiated by xavier_uniform initization\n",
        "        #Input are Normalized by self.bn(=torch.nn.BatchNorm2d)\n",
        "        #[batch, electrode, length] -> [batch, electrode, Feature]\n",
        "        self.fs = fs\n",
        "        self.elu = nn.ELU()\n",
        "        self.maxpool = nn.AdaptiveMaxPool1d(1)\n",
        "        self.bn = nn.BatchNorm1d(1)\n",
        "        self.activation = nn.LeakyReLU()\n",
        "\n",
        "        self.spectral_layer = nn.Conv1d(1, 10, int(self.fs/2), padding=\"same\")\n",
        "\n",
        "        # self.bac_layer = nn.Sequential()\n",
        "        # for i, arg in enumerate(encode_info):\n",
        "        #     input_dim, output_dim, kernel_size = arg\n",
        "        #     self.bac_layer.add_module(\"temporal_conv_\"+str(i),\n",
        "        #                           nn.Conv1d(input_dim, output_dim, kernel_size, padding = 'same'))\n",
        "        #     self.bac_layer.add_module(\"ELU\",nn.ELU()) \n",
        "        \n",
        "        self.conv1t = nn.Conv1d(10,16, 30, padding ='same')\n",
        "        self.conv2t = nn.Conv1d(16,32, 15, padding ='same')\n",
        "        self.conv3t = nn.Conv1d(32,64, 5, padding ='same')\n",
        "        \n",
        "        # torch.nn.init.xavier_uniform_(self.spectral_layer.weight)\n",
        "        #self.bac_layer.apply(weight_init_xavier_uniform)\n",
        "\n",
        "    def forward(self, x):\n",
        "        x = self.activation(self.spectral_layer(x))\n",
        "        x = self.activation(self.conv1t(x))\n",
        "        x = self.activation(self.conv2t(x))\n",
        "        x = self.activation(self.conv3t(x))\n",
        "\n",
        "        return x\n",
        "\n",
        "#Linear layer for SSL classification\n",
        "class Head_NN(nn.Module):\n",
        "    def __init__(self, length):\n",
        "        super(Head_NN, self).__init__()\n",
        "        self.length = length\n",
        "        self.layer = nn.Sequential(\n",
        "            nn.Dropout(0.5),\n",
        "            nn.Linear(64, 5)\n",
        "        )\n",
        "        self.softmax = torch.nn.Softmax()\n",
        "        # self.layer.apply(weight_init_xavier_uniform)\n",
        "        self.bn = nn.BatchNorm1d(64)\n",
        "        self.flatten = nn.Flatten()\n",
        "\n",
        "    def forward(self, x):\n",
        "        x = torch.mean(x, axis = 2) # Global average pooling into temporal dimension\n",
        "        x = self.layer(x)\n",
        "        x = self.softmax(x)\n",
        "        return x\n",
        "\n",
        "class StoppedBandPathway(nn.Module):\n",
        "    def __init__(self, fs, Unsupervise, encode_info, bands):\n",
        "        super(StoppedBandPathway, self).__init__()\n",
        "        self.encoder = Encoder(fs, encode_info)\n",
        "        self.pretrain = Head_NN(2000)\n",
        "        self.Unsupervise = Unsupervise\n",
        "\n",
        "\n",
        "    def forward(self, x):\n",
        "        x = self.encoder(x)\n",
        "        x = self.pretrain(x)\n",
        "        return x\n",
        "\n",
        "    def getRep(self, x):\n",
        "        x = self.encoder(x)\n",
        "        return x\n"
      ],
      "metadata": {
        "id": "glstHzJT3A0Q"
      },
      "execution_count": 9,
      "outputs": []
    },
    {
      "cell_type": "code",
      "source": [
        "\n",
        "class feature_extractor3(nn.Module):\n",
        "    def __init__(self):\n",
        "        super(feature_extractor3,self).__init__()\n",
        "        \n",
        "        self.channels = 1 # we use only single channel \n",
        "        \n",
        "        # Activation functions\n",
        "        self.activation = nn.LeakyReLU()\n",
        "        # self.bn = nn.BatchNorm1d(1)\n",
        "\n",
        "        # self.conv2t = nns.SeparableConv1d(16,32,10,padding ='same') (in_channels, out_channels, kernel size,,,) \n",
        "\n",
        "        self.softmax = nn.Softmax()\n",
        "        self.conv1t = nn.Conv1d(1,10, 30, padding ='same') #in_channels, out_channels, kernel_size, \n",
        "        self.conv1s = nn.Conv1d(10,10,self.channels)\n",
        "        self.conv2t = nn.Conv1d(10,20,15,padding ='same') \n",
        "        self.conv2s = nn.Conv1d(20,20,self.channels)\n",
        "        self.conv3t = nn.Conv1d(20,34,5,padding ='same')\n",
        "        self.conv3s = nn.Conv1d(34,34,self.channels)\n",
        "        \n",
        "                  \n",
        "        # Flatteninig\n",
        "        self.flatten = nn.Flatten()\n",
        "\n",
        "        # Dropout\n",
        "        self.dropout = nn.Dropout(0.5)\n",
        "\n",
        "        # Decision making\n",
        "        self.Linear = nn.Linear(256000 ,4) # \n",
        "\n",
        "      \n",
        "    def embedding(self, x):\n",
        "        x = self.activation(self.conv1t(x))\n",
        "        f1 = self.activation(self.conv1s(x))\n",
        "\n",
        "        x = self.activation(self.conv2t(x))\n",
        "        f2 = self.activation(self.conv2s(x))\n",
        "\n",
        "        x = self.activation(self.conv3t(x))\n",
        "        f3 = self.activation(self.conv3s(x))\n",
        "        \n",
        "        # multi-scale feature representation by exploiting intermediate features\n",
        "        feature = torch.cat([f1, f2, f3],dim = 1 )\n",
        "        \n",
        "        return feature\n",
        "\n",
        "    def classifier(self, feature):\n",
        "        # Flattening, dropout, mapping into the decision nodes\n",
        "        feature = self.flatten(feature)\n",
        "        feature = self.dropout(feature)\n",
        "        y_hat = self.softmax(self.Linear(feature))\n",
        "        return y_hat    \n",
        "\n",
        "    def forward(self, x):\n",
        "        feature = self.embedding(x)\n",
        "        y_hat = self.classifier(feature)\n",
        "        return y_hat"
      ],
      "metadata": {
        "id": "17Wx4RicDlgZ"
      },
      "execution_count": 10,
      "outputs": []
    },
    {
      "cell_type": "code",
      "source": [
        "class SpatialNetwork(nn.Module):\n",
        "    def __init__(self,temporal_len):\n",
        "        super(SpatialNetwork, self).__init__()\n",
        "\n",
        "        # input length/2 = output of conv1 length\n",
        "        # self.conv1 = nn.Conv1d(1, 16, stride = 2 ,padding = 14, kernel_size=30) \n",
        "        self.conv1 = nn.Conv1d(1, 16, padding = \"same\", kernel_size=30) \n",
        "        self.conv2 = nn.Conv1d(16, 32, padding=\"same\", kernel_size=15)\n",
        "        self.conv3 = nn.Conv1d(32, 64, padding=\"same\", kernel_size=5)\n",
        "\n",
        "\n",
        "        self.Spatial_conv_17 = nn.Conv2d(64,64,kernel_size = (17,1)) \n",
        "        self.maxpool = nn.MaxPool2d(3, stride=2)\n",
        "\n",
        "\n",
        "        self.dropout = nn.Dropout(0.5)\n",
        "\n",
        "        # self.fc = nn.Linear(FL[-1] * 2, 5)\n",
        "        self.fc = nn.Linear(3069, 5)\n",
        "        self.elu = nn.ELU()\n",
        "        self.classifier = nn.Softmax(dim=1)\n",
        "        self.softmax = nn.Softmax()\n",
        "        self.flatten = nn.Flatten()\n",
        "\n",
        "        # xavier initialization\n",
        "        torch.nn.init.xavier_uniform_(self.conv1.weight)\n",
        "        torch.nn.init.xavier_uniform_(self.conv2.weight)\n",
        "        torch.nn.init.xavier_uniform_(self.conv3.weight)\n",
        "\n",
        "    def embedding1(self, x, b, c):\n",
        "        # X=(B,C,T)\n",
        "\n",
        "        # X=(B*C,1,T)\n",
        "        x = self.elu(self.conv1(x))\n",
        "\n",
        "        # X=(B*C,F,T2)\n",
        "        x = self.elu(self.conv2(x))\n",
        "\n",
        "        # X=(B*C,F,T3)\n",
        "        x = self.elu(self.conv3(x))\n",
        "        \n",
        "        bc,f,t = x.shape \n",
        "        x = torch.reshape(x,(b,c,f,t))\n",
        "        \n",
        "        # X=(B,F,T4*2) # remove summation part, because each of dataset has a different number of channels\n",
        "        # x = torch.cat([x.max(dim=1)[0], x.sum(dim=1) / c], dim=1)       \n",
        "        return x\n",
        "\n",
        "    def embedding2(self, x, b, c):\n",
        "        x = self.embedding1(x,b,c)\n",
        "        b,c,f,t = x.shape\n",
        "        x = torch.reshape(x,(b,f,c,t))\n",
        "        if c == 17:\n",
        "          x = self.elu(self.Spatial_conv_17(x))\n",
        "          # print(x.shape) # b,64,1,t\n",
        "          # x = torch.squeeze(x)\n",
        "          # x = self.maxpool(x)\n",
        "             \n",
        "        return x    \n",
        "\n",
        "    def classifier(self, feature):\n",
        "        # Flattening, dropout, mapping into the decision nodes\n",
        "        # feature = torch.mean(feature, dim = 2) \n",
        "        feature = self.flatten(feature)\n",
        "        ## feature.shape = [batch,filter]\n",
        "\n",
        "        feature = self.dropout(feature)\n",
        "        y_hat = self.softmax(self.fc(feature))\n",
        "        return y_hat   \n",
        "    \n",
        "    def forward(self,x,b,c):\n",
        "        # print('1:',out.shape)\n",
        "        x = self.embedding2(x,b,c)\n",
        "        x = self.classifier(x)\n",
        "        return x\n",
        "\n"
      ],
      "metadata": {
        "id": "suVNz0jDDljO"
      },
      "execution_count": 11,
      "outputs": []
    },
    {
      "cell_type": "code",
      "source": [
        "import numpy as np\n",
        "import torch\n",
        "import torch.nn as nn\n",
        "import torch.nn.functional as F\n",
        "\n",
        "\n",
        "class StatisticianModule(nn.Module):\n",
        "    def __init__(self, dense, classes):\n",
        "        super(StatisticianModule, self).__init__()\n",
        "        self.classes = classes\n",
        "        \n",
        "        self.conv1 = nn.Conv2d(64,64, (17,1))\n",
        "        self.conv2 = nn.Conv2d(64,64, (17,1))   \n",
        "        self.conv2 = nn.Conv2d(31,31, (17,1))\n",
        "\n",
        "\n",
        "        self.softmax = torch.nn.Softmax(dim=1)\n",
        "        self.c_dense = nn.Linear(dense, 64*2*3) # 64*2*2\n",
        "\n",
        "        self.gap_pwconv = nn.Conv1d(192, dense, 1) \n",
        "        self.gvp_pwconv = nn.Conv1d(192, dense, 1)\n",
        "\n",
        "        self.fullconnect = nn.Linear(dense, self.classes)\n",
        "\n",
        "        torch.nn.init.xavier_uniform_(self.conv1.weight)\n",
        "        torch.nn.init.xavier_uniform_(self.conv2.weight)\n",
        "        torch.nn.init.xavier_uniform_(self.c_dense.weight)\n",
        "        torch.nn.init.xavier_uniform_(self.gap_pwconv.weight)\n",
        "        torch.nn.init.xavier_uniform_(self.gvp_pwconv.weight)\n",
        "        torch.nn.init.xavier_uniform_(self.fullconnect.weight)\n",
        "        \n",
        "\n",
        "    def GAPGVP(self, x1, x2,x3, b,c,f,t ):\n",
        "        x1 = torch.reshape(x1,(b,f,c,t)) \n",
        "        x2 = torch.reshape(x2,(b,f,c,t)) \n",
        "        x3 = torch.reshape(x3,(b,f,c,t)) \n",
        "\n",
        "        x1 = self.conv1(x1)\n",
        "        x2 = self.conv2(x2)\n",
        "        x3 = self.conv3(x3)\n",
        "        # print('x1',x1.shape)\n",
        "        # print('x2',x2.shape)\n",
        "        # print('x3',x3.shape)\n",
        "\n",
        "        f_GAP = torch.cat((F.adaptive_avg_pool2d(x1, (1, 1)).squeeze(), F.adaptive_avg_pool2d(x2, (1, 1)).squeeze() ,F.adaptive_avg_pool2d(x3, (1, 1)).squeeze()), axis=1)\n",
        "        # print('f_GAP',f_GAP.shape)\n",
        "\n",
        "        f_GVP = torch.cat((torch.var(x1.view(x1.size(0), x1.size(1), -1), dim=2),torch.var(x2.view(x2.size(0), x2.size(1), -1), dim=2), torch.var(x3.view(x3.size(0), x3.size(1), -1), dim=2)),axis=1)\n",
        "        # print('f_GVP',f_GVP.shape)\n",
        "\n",
        "        del x1\n",
        "        del x2\n",
        "        del x3\n",
        "        return f_GAP, f_GVP\n",
        "\n",
        "    def forward(self,x1, x2,x3, b,c,f,t):\n",
        "        f_GAP, f_GVP = self.GAPGVP(x1, x2, x3, b,c,f,t )\n",
        "        # print(f_GAP.shape, f_GVP.shape)\n",
        "        c = self.softmax(self.c_dense(torch.cat((f_GAP, f_GVP),axis=1)))\n",
        "        # print('c:',c.shape)\n",
        "        #[batch, gap, 1] -> [batch, 1, dense] -> [batch, dense]\n",
        "        f_GAP_d = self.gap_pwconv(f_GAP.unsqueeze(dim=-1)).squeeze()\n",
        "        f_GVP_d = self.gvp_pwconv(f_GVP.unsqueeze(dim=-1)).squeeze()\n",
        "        \n",
        "        f_GAP_dd = torch.sum(c*f_GAP_d,dim=1)\n",
        "        f_GVP_dd = torch.sum(c*f_GVP_d,dim=1)\n",
        "        # print('f_GAP_dd: ',f_GAP_dd.shape)\n",
        "        ALN = torch.div(torch.sub(f_GAP_d.T,f_GAP_dd),f_GAP_dd).T\n",
        "        # print('ALN', ALN.shape)\n",
        "\n",
        "        y_hat = self.fullconnect(ALN)\n",
        "        # print('y_hat: ',y_hat.shape)\n",
        "        return y_hat"
      ],
      "metadata": {
        "id": "BFXKThj2OCHg"
      },
      "execution_count": 12,
      "outputs": []
    },
    {
      "cell_type": "code",
      "source": [],
      "metadata": {
        "id": "VMqBq--jS9QX"
      },
      "execution_count": 12,
      "outputs": []
    },
    {
      "cell_type": "markdown",
      "source": [
        "load pretrain model"
      ],
      "metadata": {
        "id": "PK5lzwTNxWpq"
      }
    },
    {
      "cell_type": "code",
      "source": [
        "FE1 = torch.load('/content/Spectral__10s_ep6_.pt')\n",
        "FE2 = torch.load('/content/Spike_10s_ep8_.pt')\n",
        "FE3 = torch.load('/content/Temporal__10s_ep15_.pt')\n",
        "\n",
        "FE1.eval()\n",
        "FE2.eval()\n",
        "FE3.eval()"
      ],
      "metadata": {
        "colab": {
          "base_uri": "https://localhost:8080/"
        },
        "id": "IYeo7tM_Gxsr",
        "outputId": "c4bb39f6-8674-4349-e997-9a461b67e1d5"
      },
      "execution_count": 13,
      "outputs": [
        {
          "output_type": "execute_result",
          "data": {
            "text/plain": [
              "feature_extractor3(\n",
              "  (activation): LeakyReLU(negative_slope=0.01)\n",
              "  (softmax): Softmax(dim=None)\n",
              "  (conv1t): Conv1d(1, 10, kernel_size=(30,), stride=(1,), padding=same)\n",
              "  (conv1s): Conv1d(10, 10, kernel_size=(1,), stride=(1,))\n",
              "  (conv2t): Conv1d(10, 20, kernel_size=(15,), stride=(1,), padding=same)\n",
              "  (conv2s): Conv1d(20, 20, kernel_size=(1,), stride=(1,))\n",
              "  (conv3t): Conv1d(20, 34, kernel_size=(5,), stride=(1,), padding=same)\n",
              "  (conv3s): Conv1d(34, 34, kernel_size=(1,), stride=(1,))\n",
              "  (flatten): Flatten(start_dim=1, end_dim=-1)\n",
              "  (dropout): Dropout(p=0.5, inplace=False)\n",
              "  (Linear): Linear(in_features=128000, out_features=4, bias=True)\n",
              ")"
            ]
          },
          "metadata": {},
          "execution_count": 13
        }
      ]
    },
    {
      "cell_type": "code",
      "source": [
        "import os\n",
        "os.environ[\"CUDA_VISIBLE_DEVICES\"] = \"0\"\n",
        "device = torch.device(\"cuda:0\" if torch.cuda.is_available() else \"cpu\")\n",
        "#torch.device(\"cuda:0\" if torch.cuda.is_available() else \"cpu\")\n",
        "#\"cpu\"\n",
        "\n",
        "print(device)\n"
      ],
      "metadata": {
        "colab": {
          "base_uri": "https://localhost:8080/"
        },
        "id": "TGeS3Hycs2gd",
        "outputId": "ca0ff29a-5a72-4b5c-abec-9846241b043e"
      },
      "execution_count": 14,
      "outputs": [
        {
          "output_type": "stream",
          "name": "stdout",
          "text": [
            "cuda:0\n"
          ]
        }
      ]
    },
    {
      "cell_type": "code",
      "source": [
        "epochs = 30\n",
        "learning_rate = 0.0005\n",
        "batch_size = 10\n",
        "model = StatisticianModule(384,5).to(device)\n",
        "optimizer = torch.optim.Adam(model.parameters(), lr=learning_rate)"
      ],
      "metadata": {
        "id": "1Sg0RcOsGxvT"
      },
      "execution_count": 15,
      "outputs": []
    },
    {
      "cell_type": "code",
      "source": [
        "from torch.utils.data import DataLoader\n",
        "\n",
        "\n",
        "trainLoader = DataLoader(train_dataset, batch_size = batch_size, shuffle=True)\n",
        "valLoader = DataLoader(val_dataset, batch_size = batch_size, shuffle=True)\n",
        "testLoader = DataLoader(test_dataset, batch_size = batch_size, shuffle=True)\n"
      ],
      "metadata": {
        "id": "Mg_nmDT_iPbf"
      },
      "execution_count": 16,
      "outputs": []
    },
    {
      "cell_type": "code",
      "source": [
        "loss_tr = []\n",
        "loss_val = []\n",
        "acc_tr = []\n",
        "acc_val = []\n",
        "for epoch in range(epochs):\n",
        "    loss_ep = 0  # add batch loss in epoch\n",
        "    acc_ep = 0\n",
        "    for batch_idx, batch in enumerate(trainLoader):\n",
        "        optimizer.zero_grad()\n",
        "        b,c,t = batch['x'].shape\n",
        "        data = torch.reshape(batch['x'],(b*c,1,t))\n",
        "        data = torch.Tensor(data).type(torch.float).to(device)\n",
        "\n",
        "        x1 =  FE1.getRep(data)\n",
        "        x2 =  FE2.embedding1(data,b,c) \n",
        "        x3 =  FE3.embedding(data)\n",
        "        del data\n",
        "        bc,f,t = x1.shape\n",
        "        pred  = model.forward(x1,x2,x3,b,c,f,t)\n",
        "        CrossEL = torch.nn.CrossEntropyLoss()\n",
        "        label = batch['y'].type(torch.float64).to(device)\n",
        "       \n",
        "        loss = CrossEL(pred, label)\n",
        "        loss.backward(retain_graph=True)\n",
        "        optimizer.step() \n",
        "\n",
        "        _, label =  torch.max(label, 1)  \n",
        "        _, predicted = torch.max(pred, 1)\n",
        "        acc = (predicted == label).sum().item()\n",
        "        acc = acc/batch['x'].shape[0] #acc/(batch*channels*4(augmented))\n",
        "        loss_ep += loss.item()\n",
        "        # print('acc:', acc)\n",
        "        acc_ep += acc\n",
        "\n",
        "    loss_tr.append((loss_ep)/len(trainLoader))\n",
        "    acc_tr.append((acc_ep)/len(trainLoader))        \n",
        "\n",
        "    loss_ep_val = 0\n",
        "    acc_ep_val = 0\n",
        "    \n",
        "    for batch_idx, batch in enumerate(valLoader):\n",
        "        b,c,t = batch['x'].shape\n",
        "        data = torch.reshape(batch['x'],(b*c,1,t))\n",
        "        data = torch.Tensor(data).type(torch.float).to(device)\n",
        "\n",
        "        x1 =  FE1.getRep(data)\n",
        "        x2 =  FE2.embedding1(data,b,c) \n",
        "        x3 =  FE3.embedding(data)\n",
        "        del data\n",
        "\n",
        "        bc,f,t = x1.shape\n",
        "        pred  = model.forward(x1,x2,x3,b,c,f,t)\n",
        "        label = batch['y'].type(torch.float64).to(device)\n",
        "        loss = CrossEL(pred, label)\n",
        "\n",
        "       \n",
        "        _, label =  torch.max(label, 1)  \n",
        "        _, predicted = torch.max(pred, 1)\n",
        "        acc = (predicted == label).sum().item()\n",
        "        acc = acc/batch['x'].shape[0]\n",
        "\n",
        "        loss_ep_val += loss.item()\n",
        "        acc_ep_val += acc\n",
        "\n",
        "    loss_val.append((loss_ep_val)/len(valLoader))\n",
        "    acc_val.append((acc_ep_val)/len(valLoader))\n",
        "    print(\"epoch : \", epoch, \"  train loss : \", loss_tr[epoch], 'train acc : ', acc_tr[epoch], \"    val loss : \", loss_val[epoch], 'val acc : ', acc_val[epoch])\n",
        "    torch.save(model,'MASS_10s_ep' + str(epoch)+'_.pt')\n"
      ],
      "metadata": {
        "id": "eEnhXWVI3so0"
      },
      "execution_count": null,
      "outputs": []
    },
    {
      "cell_type": "code",
      "source": [
        "torch.cuda.empty_cache()"
      ],
      "metadata": {
        "id": "TxUJLBg3TfYc"
      },
      "execution_count": null,
      "outputs": []
    },
    {
      "cell_type": "code",
      "source": [
        "import pandas as pd\n",
        "col = ['loss_tr','loss_val','acc_tr','acc_val']\n",
        "data = np.array([loss_tr,\n",
        "                 loss_val,\n",
        "                 acc_tr,\n",
        "                 acc_val])\n",
        "print(data.shape)\n",
        "data = np.transpose(data)\n",
        "df = pd.DataFrame(data = data, columns= col)\n",
        "df.to_excel('MASS_10s.xlsx', index = False)"
      ],
      "metadata": {
        "id": "aHb22LwZ44el"
      },
      "execution_count": null,
      "outputs": []
    },
    {
      "cell_type": "code",
      "source": [
        "epochs = 19"
      ],
      "metadata": {
        "id": "blKDYmwjt9p7"
      },
      "execution_count": null,
      "outputs": []
    },
    {
      "cell_type": "code",
      "source": [
        "import matplotlib.pyplot as plt\n",
        "  \n",
        "# plt.figure(figsize =(15, 10))\n",
        "plt.plot(range(epochs), loss_tr, color='red')\n",
        "plt.plot(range(epochs), loss_val, color='blue')\n",
        "plt.title('Model loss')\n",
        "plt.xlabel('epochs')\n",
        "plt.ylabel('loss')\n",
        "plt.legend(['Train', 'Validation'], loc='upper right')\n",
        "plt.savefig('MASS_10s_loss.png',bbox_inches = 'tight')\n",
        "plt.show() "
      ],
      "metadata": {
        "id": "K7x8bXNj38AJ"
      },
      "execution_count": null,
      "outputs": []
    },
    {
      "cell_type": "code",
      "source": [
        "# plt.figure(figsize =(15, 10))\n",
        "plt.plot(range(epochs), acc_tr, color='red')\n",
        "plt.plot(range(epochs), acc_val, color='blue')\n",
        "plt.title('Model accuracy')\n",
        "plt.xlabel('epochs')\n",
        "plt.ylabel('accuracy')\n",
        "plt.legend(['Train', 'Validation'], loc='lower right')\n",
        "plt.savefig('MASS_10s_accuracy.png',bbox_inches = 'tight')\n",
        "plt.show()"
      ],
      "metadata": {
        "id": "xElqJIxCCz66"
      },
      "execution_count": null,
      "outputs": []
    },
    {
      "cell_type": "code",
      "source": [],
      "metadata": {
        "id": "L3Cjhmw_Cz9e"
      },
      "execution_count": null,
      "outputs": []
    },
    {
      "cell_type": "code",
      "source": [
        "model = torch.load('/content/MASS_10s_ep15_.pt').to(device)"
      ],
      "metadata": {
        "id": "V4ccVb0ETOsY"
      },
      "execution_count": 18,
      "outputs": []
    },
    {
      "cell_type": "code",
      "source": [
        "loss_ep_test = 0\n",
        "acc_ep_test = 0\n",
        "for batch_idx, batch in enumerate(testLoader):\n",
        "        b,c,t = batch['x'].shape\n",
        "        data = torch.reshape(batch['x'],(b*c,1,t))\n",
        "        data = torch.Tensor(data).type(torch.float).to(device)\n",
        "\n",
        "        x1 =  FE1.getRep(data)\n",
        "        x2 =  FE2.embedding1(data,b,c) \n",
        "        x3 =  FE3.embedding(data)\n",
        "        del data\n",
        "        bc,f,t = x1.shape\n",
        "        pred  = model.forward(x1,x2,x3,b,c,f,t)\n",
        "        label = batch['y'].type(torch.float64).to(device)\n",
        "        loss = CrossEL(pred, label)\n",
        "\n",
        "       \n",
        "        _, label =  torch.max(label, 1)  \n",
        "        _, predicted = torch.max(pred, 1)\n",
        "        acc = (predicted == label).sum().item()\n",
        "        acc = acc/batch['x'].shape[0]\n",
        "\n",
        "        loss_ep_test += loss.item()\n",
        "        acc_ep_test += acc\n",
        "\n",
        "acc_ep_test = acc_ep_test/len(testLoader)\n",
        "loss_ep_test = loss_ep_test/len(testLoader)\n",
        "\n",
        "print(acc_ep_test)\n",
        "print(loss_ep_test)"
      ],
      "metadata": {
        "colab": {
          "base_uri": "https://localhost:8080/"
        },
        "id": "2GMhsbW-tHab",
        "outputId": "10f12f4b-0839-4e29-a5fc-7a5cf9eedbef"
      },
      "execution_count": 19,
      "outputs": [
        {
          "output_type": "stream",
          "name": "stdout",
          "text": [
            "0.5682370820668693\n",
            "1.0883751597372946\n"
          ]
        }
      ]
    },
    {
      "cell_type": "code",
      "source": [
        "label_list = []\n",
        "predicted_list = []\n",
        "for batch_idx, batch in enumerate(testLoader):\n",
        "        b,c,t = batch['x'].shape\n",
        "        data = torch.reshape(batch['x'],(b*c,1,t))\n",
        "        data = torch.Tensor(data).type(torch.float).to(device)\n",
        "\n",
        "        x1 =  FE1.getRep(data)\n",
        "        x2 =  FE2.embedding1(data,b,c) \n",
        "        x3 =  FE3.embedding(data)\n",
        "        bc,f,t = x1.shape\n",
        "        pred  = model.forward(x1,x2,x3,b,c,f,t)\n",
        "        label = batch['y'].type(torch.float64).to(device)\n",
        "               \n",
        "        _, label =  torch.max(label, 1)  \n",
        "        _, predicted = torch.max(pred, 1)\n",
        "        label_list.extend(label.cpu().detach().numpy())\n",
        "        predicted_list.extend(predicted.cpu().detach().numpy())"
      ],
      "metadata": {
        "id": "QAeKifEYQipU"
      },
      "execution_count": 20,
      "outputs": []
    },
    {
      "cell_type": "code",
      "source": [
        "# confusion matrix 사용을 위한 라이브러리\n",
        "from sklearn.metrics import confusion_matrix\n",
        "conf_matrix = confusion_matrix(label_list, predicted_list)\n",
        "print(conf_matrix)"
      ],
      "metadata": {
        "colab": {
          "base_uri": "https://localhost:8080/"
        },
        "outputId": "3d492032-cc7e-4490-c281-dbc1291ac9b5",
        "id": "4HlahGK0QipU"
      },
      "execution_count": 21,
      "outputs": [
        {
          "output_type": "stream",
          "name": "stdout",
          "text": [
            "[[144   3  60   0  19]\n",
            " [ 51   6  69   0   7]\n",
            " [ 37   9 350   1   7]\n",
            " [  0   0  54   7   0]\n",
            " [ 24   3  61   0  25]]\n"
          ]
        }
      ]
    },
    {
      "cell_type": "code",
      "source": [
        "title = 'confusion matrix'\n",
        "cmap=plt.cm.Greens\n",
        "plt.figure(figsize=(6, 6))\n",
        "plt.imshow(conf_matrix, interpolation='nearest', cmap=cmap)  # , cmap=plt.cm.Greens\n",
        "plt.title(title, size=12)\n",
        "plt.colorbar(fraction=0.05, pad=0.05)\n",
        "tick_marks = np.arange(5, 5)\n",
        "plt.yticks(np.arange(5), ('W','N1','N2','N3','R'))\n",
        "plt.xticks(np.arange(5), ('W','N1','N2','N3','R'))\n",
        "\n",
        "\n",
        "fmt = 'd' \n",
        "thresh = 1\n",
        "for i in range(conf_matrix.shape[0]):\n",
        "    for j in range(conf_matrix.shape[1]):\n",
        "        plt.text(j, i, format(conf_matrix[i, j], fmt),\n",
        "                 ha=\"center\", va=\"center\", color=\"black\" if conf_matrix[i, j] > thresh else \"black\")  #horizontalalignment\n",
        "plt.savefig('MASS1_10s_confusion matrix.png',bbox_inches = 'tight')"
      ],
      "metadata": {
        "colab": {
          "base_uri": "https://localhost:8080/",
          "height": 367
        },
        "id": "l1JMllMxSB7b",
        "outputId": "1666fd26-fb54-4232-f63e-9963ae4a92da"
      },
      "execution_count": 22,
      "outputs": [
        {
          "output_type": "display_data",
          "data": {
            "text/plain": [
              "<Figure size 432x432 with 2 Axes>"
            ],
            "image/png": "[encoded data removed]"
          },
          "metadata": {
            "needs_background": "light"
          }
        }
      ]
    },
    {
      "cell_type": "code",
      "source": [],
      "metadata": {
        "id": "g7GeRdvUDlmJ"
      },
      "execution_count": null,
      "outputs": []
    },
    {
      "cell_type": "code",
      "source": [],
      "metadata": {
        "id": "JXgSul4kDlpz"
      },
      "execution_count": null,
      "outputs": []
    },
    {
      "cell_type": "code",
      "source": [],
      "metadata": {
        "id": "c-y5mOdw49Y5"
      },
      "execution_count": null,
      "outputs": []
    }
  ]
}