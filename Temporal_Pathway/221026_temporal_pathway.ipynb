{
  "cells": [
    {
      "cell_type": "code",
      "execution_count": 1,
      "metadata": {
        "colab": {
          "base_uri": "https://localhost:8080/"
        },
        "id": "73InA_X7LEyS",
        "outputId": "a3a19710-9944-4206-95b3-502e7be6a8e2"
      },
      "outputs": [
        {
          "output_type": "stream",
          "name": "stdout",
          "text": [
            "Looking in indexes: https://pypi.org/simple, https://us-python.pkg.dev/colab-wheels/public/simple/\n",
            "Requirement already satisfied: mne in /usr/local/lib/python3.7/dist-packages (1.2.1)\n",
            "Requirement already satisfied: numpy>=1.15.4 in /usr/local/lib/python3.7/dist-packages (from mne) (1.21.6)\n",
            "Requirement already satisfied: pooch>=1.5 in /usr/local/lib/python3.7/dist-packages (from mne) (1.6.0)\n",
            "Requirement already satisfied: jinja2 in /usr/local/lib/python3.7/dist-packages (from mne) (2.11.3)\n",
            "Requirement already satisfied: decorator in /usr/local/lib/python3.7/dist-packages (from mne) (4.4.2)\n",
            "Requirement already satisfied: tqdm in /usr/local/lib/python3.7/dist-packages (from mne) (4.64.1)\n",
            "Requirement already satisfied: packaging in /usr/local/lib/python3.7/dist-packages (from mne) (21.3)\n",
            "Requirement already satisfied: scipy>=1.1.0 in /usr/local/lib/python3.7/dist-packages (from mne) (1.7.3)\n",
            "Requirement already satisfied: matplotlib in /usr/local/lib/python3.7/dist-packages (from mne) (3.2.2)\n",
            "Requirement already satisfied: appdirs>=1.3.0 in /usr/local/lib/python3.7/dist-packages (from pooch>=1.5->mne) (1.4.4)\n",
            "Requirement already satisfied: requests>=2.19.0 in /usr/local/lib/python3.7/dist-packages (from pooch>=1.5->mne) (2.23.0)\n",
            "Requirement already satisfied: pyparsing!=3.0.5,>=2.0.2 in /usr/local/lib/python3.7/dist-packages (from packaging->mne) (3.0.9)\n",
            "Requirement already satisfied: idna<3,>=2.5 in /usr/local/lib/python3.7/dist-packages (from requests>=2.19.0->pooch>=1.5->mne) (2.10)\n",
            "Requirement already satisfied: urllib3!=1.25.0,!=1.25.1,<1.26,>=1.21.1 in /usr/local/lib/python3.7/dist-packages (from requests>=2.19.0->pooch>=1.5->mne) (1.24.3)\n",
            "Requirement already satisfied: chardet<4,>=3.0.2 in /usr/local/lib/python3.7/dist-packages (from requests>=2.19.0->pooch>=1.5->mne) (3.0.4)\n",
            "Requirement already satisfied: certifi>=2017.4.17 in /usr/local/lib/python3.7/dist-packages (from requests>=2.19.0->pooch>=1.5->mne) (2022.9.24)\n",
            "Requirement already satisfied: MarkupSafe>=0.23 in /usr/local/lib/python3.7/dist-packages (from jinja2->mne) (2.0.1)\n",
            "Requirement already satisfied: kiwisolver>=1.0.1 in /usr/local/lib/python3.7/dist-packages (from matplotlib->mne) (1.4.4)\n",
            "Requirement already satisfied: python-dateutil>=2.1 in /usr/local/lib/python3.7/dist-packages (from matplotlib->mne) (2.8.2)\n",
            "Requirement already satisfied: cycler>=0.10 in /usr/local/lib/python3.7/dist-packages (from matplotlib->mne) (0.11.0)\n",
            "Requirement already satisfied: typing-extensions in /usr/local/lib/python3.7/dist-packages (from kiwisolver>=1.0.1->matplotlib->mne) (4.1.1)\n",
            "Requirement already satisfied: six>=1.5 in /usr/local/lib/python3.7/dist-packages (from python-dateutil>=2.1->matplotlib->mne) (1.15.0)\n"
          ]
        }
      ],
      "source": [
        "!pip install mne"
      ]
    },
    {
      "cell_type": "code",
      "source": [
        "from google.colab import drive\n",
        "drive.mount('/content/drive')"
      ],
      "metadata": {
        "colab": {
          "base_uri": "https://localhost:8080/"
        },
        "id": "DYzTWnuE78ah",
        "outputId": "70d9481e-1ea2-42b3-f2a3-2581728c8d4d"
      },
      "execution_count": 2,
      "outputs": [
        {
          "output_type": "stream",
          "name": "stdout",
          "text": [
            "Drive already mounted at /content/drive; to attempt to forcibly remount, call drive.mount(\"/content/drive\", force_remount=True).\n"
          ]
        }
      ]
    },
    {
      "cell_type": "code",
      "execution_count": 3,
      "metadata": {
        "id": "J4n0GuZ31VF2"
      },
      "outputs": [],
      "source": [
        "import numpy as np\n",
        "def MAF(x,window):\n",
        "    new_signals = np.zeros(x.shape)\n",
        "    sample_num, T = x.shape\n",
        "    for i in range(sample_num):\n",
        "      noise = np.convolve(x[i], np.ones(window),'same')/window\n",
        "      new_signals[i] = x[i] - noise\n",
        "   \n",
        "    return new_signals\n",
        "\n",
        "\n",
        "def asln(x,a,b):\n",
        "\n",
        "    C,T = x.shape\n",
        "    noise = a*np.linspace(0,1,T) - b*np.ones(T)\n",
        "    noise = noise*np.ones((C,1))\n",
        "    n = np.random.randint(2)\n",
        "    if n == 0:\n",
        "      new_signals = x + noise\n",
        "    else:\n",
        "      new_signals = x - noise\n",
        "    return new_signals\n",
        "\n",
        "def apn(x,c,d):\n",
        "    C,T = x.shape\n",
        "    noise = np.linspace(-np.pi+d,np.pi+d,T) - d*np.ones(T)\n",
        "    noise = c*np.sin(noise)*np.ones((C,1))\n",
        "    new_signals = x + noise\n",
        "    return new_signals"
      ]
    },
    {
      "cell_type": "code",
      "execution_count": 4,
      "metadata": {
        "id": "AUBvAjlt1VJh"
      },
      "outputs": [],
      "source": [
        "def augmented_data(x,window,a,b,c,d):\n",
        "      batch,channel,time = x.shape\n",
        "      x = np.reshape(x,(batch*channel,time))\n",
        "      # print(x.shape)\n",
        "      x = x.numpy()\n",
        "      samples, sequence_length = x.shape\n",
        "      X = []\n",
        "      Y = []\n",
        "      x_maf = MAF(x,window)\n",
        "      x_asln = asln(x,a,b)\n",
        "      x_apn = apn(x,c,d)\n",
        "      X.append(x)\n",
        "      X.append(x_maf)\n",
        "      X.append(x_asln)\n",
        "      X.append(x_apn)\n",
        "\n",
        "      #one-hot encoding\n",
        "      original = [1,0,0,0]\n",
        "      s_maf = [0,1,0,0]\n",
        "      s_asln = [0,0,1,0]\n",
        "      s_apn = [0,0,0,1]\n",
        "\n",
        "      Y.append(original*np.ones((samples,1)))\n",
        "      Y.append(s_maf*np.ones((samples,1)))\n",
        "      Y.append(s_asln*np.ones((samples,1)))\n",
        "      Y.append(s_apn*np.ones((samples,1)))\n",
        "      \n",
        "      X = np.array(X)\n",
        "\n",
        "      X = X.reshape(4*samples,sequence_length)\n",
        "      # print(X.shape)\n",
        "      Y = np.array(Y)\n",
        "      Y = Y.reshape(4*samples,4)\n",
        "      \n",
        "      return X,Y"
      ]
    },
    {
      "cell_type": "code",
      "execution_count": 5,
      "metadata": {
        "id": "l4YUYhC7E4Ck"
      },
      "outputs": [],
      "source": [
        "from torch.utils.data import Dataset\n",
        "import torch\n",
        "import pickle\n",
        "import mne\n",
        "import numpy as np\n",
        "import time\n",
        "\n",
        "class Sleepedf_dataset(Dataset):\n",
        "    def __init__(self, files, seq_len, SSL = bool):\n",
        "        self.files = files\n",
        "        self.sequence_length = seq_len\n",
        "        self.SSL = SSL\n",
        "        # sample을 split해줬을 때 몇개로 split되는지 누적해서 저장, i번째 data를 찾을 때 data_adress 각 값이 기준이 됨\n",
        "        data_adress = [0]\n",
        "        ad = 0\n",
        "        max_value = 0.\n",
        "        min_value = 0.\n",
        "\n",
        "        for i in range(len(self.files)):\n",
        "            sample = np.load(files[i])['x']\n",
        "            c,t = sample.shape\n",
        "            t = int(t/self.sequence_length) \n",
        "            ad += t\n",
        "            data_adress.append(ad)\n",
        "            temp_max = sample.max()\n",
        "            temp_min = sample.min()\n",
        "            max_value = np.max([max_value, temp_max])\n",
        "            min_value = np.min([min_value, temp_min])\n",
        "        \n",
        "        self.data_adress = data_adress\n",
        "        self.max_value = max_value\n",
        "        self.min_value = min_value\n",
        "\n",
        "    def preprocessing(self, data):\n",
        "        data_max = np.max(data,axis = 2, keepdims=True) # max value of each channels\n",
        "        data_min = np.min(data,axis = 2, keepdims=True) # shape = b,c\n",
        "        b,c,t = data.shape\n",
        "        \n",
        "        return data/data_max*np.ones((b,c,t)) - (data_max - data_min)*np.ones((b,c,t))/(self.max_value - self.min_value)\n",
        "\n",
        "\n",
        "    def split_data(self, data):\n",
        "        L = self.sequence_length\n",
        "        channels, length = data.shape\n",
        "        a = L*int(length/L)\n",
        "        \n",
        "        if length == a:\n",
        "            data = np.reshape(data,(int(length/L),channels,L))\n",
        "        \n",
        "        else:\n",
        "            data = data[:,:a]\n",
        "            data = np.reshape(data,(int(a/L),channels,L))\n",
        "        return data\n",
        "\n",
        "    def one_hot_encoding(self,y):\n",
        "        if y == 'Sleep stage W':\n",
        "          y = np.array([1,0,0,0,0])\n",
        "        elif y == 'Sleep stage 1':\n",
        "          y = np.array([0,1,0,0,0])\n",
        "        elif y == 'Sleep stage 2':\n",
        "          y = np.array([0,0,1,0,0])   \n",
        "        elif y == 'Sleep stage 3':\n",
        "          y = np.array([0,0,0,1,0])\n",
        "        elif y == 'Sleep stage R':\n",
        "          y = np.array([0,0,0,0,1])      \n",
        "        return y  \n",
        "\n",
        "\n",
        "    def __getitem__(self, index):\n",
        "        for i in range(len(self.data_adress)):\n",
        "            if index < self.data_adress[i]:\n",
        "                break\n",
        "          \n",
        "        sample = np.load(self.files[i-1])  \n",
        "        y = self.one_hot_encoding(sample['y'])\n",
        "        sample = self.split_data(sample['x'])\n",
        "        sample = self.preprocessing(sample)\n",
        "\n",
        "        if self.SSL:\n",
        "          return sample[index - self.data_adress[i-1],:,:]\n",
        "        else:\n",
        "          return { 'x' : torch.tensor(sample[index - self.data_adress[i-1],:,:]), \n",
        "                   'y' : torch.tensor(y)\n",
        "                   }\n",
        "\n",
        "          \n",
        "          \n",
        "    def __len__(self):\n",
        "        return self.data_adress[-1]\n"
      ]
    },
    {
      "cell_type": "code",
      "execution_count": 6,
      "metadata": {
        "id": "x59y8HGhPIQB"
      },
      "outputs": [],
      "source": [
        "class MASS_dataset(Dataset):\n",
        "    def __init__(self, files, seq_len, SSL = bool):\n",
        "        self.files = files\n",
        "        self.sequence_length = seq_len\n",
        "        self.SSL = SSL\n",
        "        # self.freq = 1.28 # 256Hz / 1.28 = 200Hz\n",
        "        # sample을 split해줬을 때 몇개로 split되는지 누적해서 저장, i번째 data를 찾을 때 data_adress 각 값이 기준이 됨\n",
        "        data_adress = [0]\n",
        "        ad = 0\n",
        "        max_value = 0.\n",
        "        min_value = 0.\n",
        "\n",
        "        for i in range(len(self.files)):\n",
        "            sample = np.load(files[i])['x']\n",
        "            c,t = sample.shape\n",
        "            t = int(t/self.sequence_length) \n",
        "            ad += t\n",
        "            data_adress.append(ad)\n",
        "            temp_max = sample.max()\n",
        "            temp_min = sample.min()\n",
        "            max_value = np.max([max_value, temp_max])\n",
        "            min_value = np.min([min_value, temp_min])\n",
        "      \n",
        "        self.data_adress = data_adress\n",
        "        self.max_value = max_value\n",
        "        self.min_value = min_value\n",
        "\n",
        "    def preprocessing(self, data):\n",
        "        data_max = np.max(data,axis = 2, keepdims=True) # max value of each channels\n",
        "        data_min = np.min(data,axis = 2, keepdims=True) # shape = b,c\n",
        "        b,c,t = data.shape\n",
        "        \n",
        "        return data/data_max*np.ones((b,c,t)) - (data_max - data_min)*np.ones((b,c,t))/(self.max_value - self.min_value)\n",
        "\n",
        "\n",
        "    def split_data(self, data):\n",
        "        L = self.sequence_length\n",
        "        channels, length = data.shape\n",
        "        a = L*int(length/L)\n",
        "        \n",
        "        if length == a:\n",
        "            data = np.reshape(data,(int(length/L),channels,L))\n",
        "        \n",
        "        else:\n",
        "            data = data[:,:a]\n",
        "            data = np.reshape(data,(int(a/L),channels,L))\n",
        "        return data\n",
        "\n",
        "    def one_hot_encoding(self,y):\n",
        "        if y == 'Sleep stage W':\n",
        "          y = np.array([1,0,0,0,0])\n",
        "        elif y == 'Sleep stage 1':\n",
        "          y = np.array([0,1,0,0,0])\n",
        "        elif y == 'Sleep stage 2':\n",
        "          y = np.array([0,0,1,0,0])   \n",
        "        elif y == 'Sleep stage 3':\n",
        "          y = np.array([0,0,0,1,0])\n",
        "        elif y == 'Sleep stage R':\n",
        "          y = np.array([0,0,0,0,1])      \n",
        "        return y  \n",
        "\n",
        "\n",
        "    def __getitem__(self, index):\n",
        "        for i in range(len(self.data_adress)):\n",
        "            if index < self.data_adress[i]:\n",
        "                break\n",
        "          \n",
        "        sample = np.load(self.files[i-1])  \n",
        "        y = self.one_hot_encoding(sample['y'])\n",
        "        sample = self.split_data(sample['x'])\n",
        "        sample = self.preprocessing(sample)\n",
        "\n",
        "        if self.SSL:\n",
        "          return sample[index - self.data_adress[i-1],:,:]\n",
        "        else:\n",
        "          return { 'x' : torch.tensor(sample[index - self.data_adress[i-1],:,:]), \n",
        "                   'y' : torch.tensor(y)\n",
        "                   }\n",
        "\n",
        "          \n",
        "    def __len__(self):\n",
        "        return self.data_adress[-1]"
      ]
    },
    {
      "cell_type": "code",
      "execution_count": 7,
      "metadata": {
        "id": "dK-L4S1ZPOy8"
      },
      "outputs": [],
      "source": [
        "from sklearn.model_selection import train_test_split\n",
        "\n",
        "class concat_dataset():\n",
        "    def __init__(self, data_dic,seq_len):\n",
        "        self.data_dic = data_dic #data_dic : {'dataset1_name : [dataset1_adress],,,datasetN_name : [datasetN_adress]}\n",
        "        self.seq_len = seq_len\n",
        "    \n",
        "    def tr_val_te_split(self,data_list):\n",
        "        train, test = train_test_split(data_list, test_size=0.2)#, shuffle=True, random_state=34), #stratify=target\n",
        "        train, val = train_test_split(train, test_size= 0.25)#, shuffle=True, random_state=34)\n",
        "        del data_list\n",
        "        print('split done')\n",
        "        return train, val, test    \n",
        "    \n",
        "    def call(self):\n",
        "        # train_dataset = [] # extend로 빈 어레의 받으면 메모리가 터지는 문제 발생했음.\n",
        "        # val_dataset = []\n",
        "        # test_dataset = []\n",
        "    \n",
        "        for name, data_list in self.data_dic.items():\n",
        "            print(name)\n",
        "            tr, val, te = self.tr_val_te_split(data_list)\n",
        "            \n",
        "            if name =='Sleep_edf':\n",
        "                sleepedf_train_data = Sleepedf_dataset(tr,self.seq_len,SSL = True)\n",
        "                print('sleep train done')\n",
        "                sleepedf_val_data = Sleepedf_dataset(val,self.seq_len, SSL = True)\n",
        "                print('sleep val done')\n",
        "                sleepedf_test_data = Sleepedf_dataset(te,self.seq_len, SSL = True)\n",
        "                print('sleep test done')\n",
        "            \n",
        "            elif name == 'MASS':\n",
        "                MASS_train_data = Sleepedf_dataset(tr,self.seq_len, SSL = True)\n",
        "                print('MASS train done')\n",
        "                MASS_val_data = Sleepedf_dataset(val,self.seq_len, SSL = True)\n",
        "                print('MASS val done')\n",
        "                MASS_test_data = Sleepedf_dataset(te,self.seq_len, SSL = True)\n",
        "                print('MASS test done')\n",
        "        \n",
        "            # train_dataset.extend(train_data)\n",
        "            # val_dataset.extend(val_data)\n",
        "            # test_dataset.extend(test_data)\n",
        "            # print(train_data)\n",
        "\n",
        "        # del train_data,val_data, test_data\n",
        "    \n",
        "        train_dataset = torch.utils.data.ConcatDataset([sleepedf_train_data,MASS_train_data])\n",
        "        val_dataset = torch.utils.data.ConcatDataset([sleepedf_test_data,MASS_val_data])\n",
        "        test_dataset = torch.utils.data.ConcatDataset([sleepedf_val_data,MASS_test_data])\n",
        "    \n",
        "        return train_dataset, val_dataset, test_dataset"
      ]
    },
    {
      "cell_type": "code",
      "execution_count": 8,
      "metadata": {
        "id": "Xsq0GRtNkHT2"
      },
      "outputs": [],
      "source": [
        "# from torch.utils.data import random_split\n",
        "\n",
        "# class concat_dataset():\n",
        "#     def __init__(self, data_dic,seq_len):\n",
        "#         self.data_dic = data_dic #data_dic : {'dataset1_name : [dataset1_adress],,,datasetN_name : [datasetN_adress]}\n",
        "#         self.seq_len = seq_len\n",
        "    \n",
        "#     def call(self):\n",
        "#         # train_dataset = [] # extend로 빈 어레의 받으면 메모리가 터지는 문제 발생했음.\n",
        "#         # val_dataset = []\n",
        "#         # test_dataset = []\n",
        "    \n",
        "#         for name, data_list in self.data_dic.items():\n",
        "\n",
        "#             if name =='Sleep_edf':\n",
        "#                 sleepedf_data = Sleepedf_dataset(data_list,self.seq_len,SSL = True)\n",
        "            \n",
        "#             elif name == 'MASS':\n",
        "#                 MASS_data = Sleepedf_dataset(data_list,self.seq_len, SSL = True)\n",
        "               \n",
        "#         sleepedf_train_data, sleepedf_val_data, sleepedf_test_data = random_split(sleepedf_data, [int(0.8*len(sleepedf_data)), int(0.1*len(sleepedf_data)), int(0.1*len(sleepedf_data))], generator=torch.Generator().manual_seed(42))\n",
        "#         MASS_train_data, MASS_val_data, MASS_test_data = random_split(MASS_data, [int(0.8*len(MASS_data)), int(0.1*len(MASS_data)), int(0.1*len(MASS_data))], generator=torch.Generator().manual_seed(42))\n",
        "\n",
        "\n",
        "#         train_dataset = torch.utils.data.ConcatDataset([sleepedf_train_data,MASS_train_data])\n",
        "#         val_dataset = torch.utils.data.ConcatDataset([sleepedf_test_data,MASS_val_data])\n",
        "#         test_dataset = torch.utils.data.ConcatDataset([sleepedf_val_data,MASS_test_data])\n",
        "    \n",
        "#         return train_dataset, val_dataset, test_dataset"
      ]
    },
    {
      "cell_type": "code",
      "execution_count": 9,
      "metadata": {
        "id": "2DgEVPsM1yxk"
      },
      "outputs": [],
      "source": [
        "import glob\n",
        "temp = glob.glob('/content/drive/MyDrive/EEG_data/MASS/SS1/Preprocessed_EEG/SS1_0/**')"
      ]
    },
    {
      "cell_type": "code",
      "execution_count": 10,
      "metadata": {
        "id": "ZGU9dgj91yzt"
      },
      "outputs": [],
      "source": [
        "train_dataset = MASS_dataset(temp,6000, SSL = True) "
      ]
    },
    {
      "cell_type": "code",
      "execution_count": 11,
      "metadata": {
        "id": "790uPh_l1y1z"
      },
      "outputs": [],
      "source": [
        "from torch.utils.data import DataLoader\n",
        "trainLoader = DataLoader(train_dataset, batch_size = 10 , shuffle=True)"
      ]
    },
    {
      "cell_type": "code",
      "execution_count": 12,
      "metadata": {
        "colab": {
          "base_uri": "https://localhost:8080/"
        },
        "id": "RD41cRC-1y4F",
        "outputId": "c949c33d-5d86-4717-ff5a-46020fee7858"
      },
      "outputs": [
        {
          "output_type": "stream",
          "name": "stdout",
          "text": [
            "batch_idx: 0   torch.Size([10, 17, 6000])\n",
            "time: 0.08579707145690918\n",
            "batch_idx: 1   torch.Size([10, 17, 6000])\n",
            "time: 0.15894412994384766\n",
            "batch_idx: 2   torch.Size([10, 17, 6000])\n",
            "time: 0.22810006141662598\n"
          ]
        }
      ],
      "source": [
        "import time\n",
        "start_T = time.time()\n",
        "for batch_idx, batch in enumerate(trainLoader):\n",
        "  print('batch_idx:',batch_idx,' ',batch.shape)\n",
        "  end_T = time.time()\n",
        "  print('time:', end_T - start_T)\n",
        "  if batch_idx >= 2:\n",
        "        break"
      ]
    },
    {
      "cell_type": "code",
      "execution_count": 13,
      "metadata": {
        "id": "AvjPi3kg1-Hp"
      },
      "outputs": [],
      "source": [
        "x,y = augmented_data(batch[:2,:2,:],200,0.6,0,0.6,1.5)"
      ]
    },
    {
      "cell_type": "code",
      "execution_count": 14,
      "metadata": {
        "colab": {
          "base_uri": "https://localhost:8080/"
        },
        "id": "kVCp30Lv2RWJ",
        "outputId": "787e4c92-3731-423f-d778-0e97624a090b"
      },
      "outputs": [
        {
          "output_type": "stream",
          "name": "stdout",
          "text": [
            "(16, 6000)\n",
            "(16, 4)\n"
          ]
        }
      ],
      "source": [
        "print(x.shape)\n",
        "print(y.shape)"
      ]
    },
    {
      "cell_type": "code",
      "execution_count": 15,
      "metadata": {
        "colab": {
          "base_uri": "https://localhost:8080/",
          "height": 416
        },
        "id": "_FbGt-hS2T6P",
        "outputId": "962b36f5-e051-4f6a-aac4-581baca76a76"
      },
      "outputs": [
        {
          "output_type": "stream",
          "name": "stdout",
          "text": [
            "[1. 0. 0. 0.]\n",
            "[0. 1. 0. 0.]\n",
            "[0. 0. 1. 0.]\n",
            "[0. 0. 0. 1.]\n"
          ]
        },
        {
          "output_type": "display_data",
          "data": {
            "text/plain": [
              "<Figure size 864x432 with 4 Axes>"
            ],
            "image/png": "[encoded data removed]"
          },
          "metadata": {
            "needs_background": "light"
          }
        }
      ],
      "source": [
        "import matplotlib.pyplot as plt\n",
        "\n",
        "sequence_length = 6000\n",
        "t = np.linspace(0,sequence_length,sequence_length)\n",
        "plt.figure(figsize =(12, 6))\n",
        "label = ['S1_raw','S2_raw','S1_stationary','S2_stationary',\n",
        "         'S1_trendstationary','S2_trendstationary','S1_cyclostationary','S2_cyclostationary']\n",
        "\n",
        "\n",
        "label = ['raw','stationary','trendstationary','cyclostationary']\n",
        "\n",
        "\n",
        "for i in range(4):\n",
        "  k = x[i*4]\n",
        "  print(y[i*4])\n",
        "  plt.subplot(2, 2, i+1)\n",
        "  plt.plot(t,k)\n",
        "  plt.title(label[i])"
      ]
    },
    {
      "cell_type": "markdown",
      "source": [
        "We use only 1000 samples from each dataset"
      ],
      "metadata": {
        "id": "F37WVzFYGuBz"
      }
    },
    {
      "cell_type": "code",
      "execution_count": 16,
      "metadata": {
        "colab": {
          "base_uri": "https://localhost:8080/"
        },
        "id": "pk5UWrymWlfa",
        "outputId": "c3063103-1338-41b6-98cf-aa52b33ba38d"
      },
      "outputs": [
        {
          "output_type": "stream",
          "name": "stdout",
          "text": [
            "153\n",
            "2650\n",
            "2830\n"
          ]
        },
        {
          "output_type": "execute_result",
          "data": {
            "text/plain": [
              "5480"
            ]
          },
          "metadata": {},
          "execution_count": 16
        }
      ],
      "source": [
        "SC_list = glob.glob('/content/drive/MyDrive/sleep_edfx/Preprocessed_EEG/SC/**')\n",
        "print(len(SC_list))\n",
        "sleepedf_list = []\n",
        "for i in range(2): #len(SC_list) \n",
        "  length = len(sleepedf_list)\n",
        "  sleepedf_list.extend(glob.glob(SC_list[i]+'/**'))\n",
        "  print(len(sleepedf_list) - length)\n",
        "len(sleepedf_list)"
      ]
    },
    {
      "cell_type": "code",
      "execution_count": 17,
      "metadata": {
        "colab": {
          "base_uri": "https://localhost:8080/"
        },
        "id": "obBikyK6Wlhg",
        "outputId": "70b73846-c820-4775-92b7-9fa4b7f6ad87"
      },
      "outputs": [
        {
          "output_type": "stream",
          "name": "stdout",
          "text": [
            "53\n",
            "1004\n",
            "1071\n",
            "937\n",
            "1041\n",
            "1079\n",
            "991\n",
            "877\n",
            "7000\n"
          ]
        }
      ],
      "source": [
        "SS1_list = glob.glob('/content/drive/MyDrive/EEG_data/MASS/SS1/Preprocessed_EEGedf/**')\n",
        "print(len(SS1_list))\n",
        "MASS_list = []\n",
        "for i in range(7,14):\n",
        "    length = len(MASS_list)\n",
        "    MASS_list.extend(glob.glob(SS1_list[i]+'/**'))\n",
        "    print(len(MASS_list) - length)\n",
        "print(len(MASS_list))"
      ]
    },
    {
      "cell_type": "code",
      "execution_count": 18,
      "metadata": {
        "id": "eY3pJkIbWoFC"
      },
      "outputs": [],
      "source": [
        "data_dic = {'MASS' : MASS_list[:1000], 'Sleep_edf': sleepedf_list[:1000]}"
      ]
    },
    {
      "cell_type": "code",
      "execution_count": 19,
      "metadata": {
        "id": "pb6mPckKWoHR",
        "colab": {
          "base_uri": "https://localhost:8080/"
        },
        "outputId": "10b06fe5-b683-4021-ead3-4a0f6fdd37ab"
      },
      "outputs": [
        {
          "output_type": "stream",
          "name": "stdout",
          "text": [
            "MASS\n",
            "split done\n",
            "MASS train done\n",
            "MASS val done\n",
            "MASS test done\n",
            "Sleep_edf\n",
            "split done\n",
            "sleep train done\n",
            "sleep val done\n",
            "sleep test done\n"
          ]
        }
      ],
      "source": [
        "train_dataset, val_dataset, test_dataset = concat_dataset(data_dic, seq_len = 6000).call()"
      ]
    },
    {
      "cell_type": "code",
      "execution_count": 20,
      "metadata": {
        "id": "CcmiiI43YFCV"
      },
      "outputs": [],
      "source": [
        "from torch.utils.data import DataLoader\n",
        "trainLoader = DataLoader(train_dataset, batch_size = 4 , shuffle= False)"
      ]
    },
    {
      "cell_type": "code",
      "execution_count": 21,
      "metadata": {
        "colab": {
          "base_uri": "https://localhost:8080/"
        },
        "id": "3YWymlqfWs4T",
        "outputId": "4e908155-5267-48a1-b5f7-f70b1b853457"
      },
      "outputs": [
        {
          "output_type": "stream",
          "name": "stdout",
          "text": [
            "batch_idx: 0   torch.Size([4, 2, 6000])\n",
            "time: 0.2806715965270996\n",
            "batch_idx: 1   torch.Size([4, 2, 6000])\n",
            "time: 0.2917594909667969\n",
            "batch_idx: 2   torch.Size([4, 2, 6000])\n",
            "time: 0.30333852767944336\n",
            "batch_idx: 3   torch.Size([4, 2, 6000])\n",
            "time: 0.31403326988220215\n",
            "batch_idx: 4   torch.Size([4, 2, 6000])\n",
            "time: 0.3271322250366211\n",
            "batch_idx: 5   torch.Size([4, 2, 6000])\n",
            "time: 0.33782172203063965\n",
            "batch_idx: 6   torch.Size([4, 2, 6000])\n",
            "time: 0.35083723068237305\n",
            "batch_idx: 7   torch.Size([4, 2, 6000])\n",
            "time: 0.36209750175476074\n",
            "batch_idx: 8   torch.Size([4, 2, 6000])\n",
            "time: 0.37464141845703125\n",
            "batch_idx: 9   torch.Size([4, 2, 6000])\n",
            "time: 0.3855319023132324\n",
            "batch_idx: 10   torch.Size([4, 2, 6000])\n",
            "time: 0.3963963985443115\n"
          ]
        }
      ],
      "source": [
        "import time\n",
        "start_T = time.time()\n",
        "for batch_idx, batch in enumerate(trainLoader):\n",
        "  print('batch_idx:',batch_idx,' ',batch.shape)\n",
        "  end_T = time.time()\n",
        "  print('time:', end_T - start_T)\n",
        "  if batch_idx >= 10:\n",
        "        break"
      ]
    },
    {
      "cell_type": "code",
      "execution_count": 22,
      "metadata": {
        "id": "MCNOvtP-zleK"
      },
      "outputs": [],
      "source": [
        "class Temporal_Trend_Identification_Task_Loss(torch.nn.modules.loss._Loss):\n",
        "    def __init__(self, device = None):\n",
        "        super().__init__()\n",
        "        self.device = device\n",
        "\n",
        "    def forward(self, batch, encoder, train):\n",
        "        acc = 0\n",
        "        x, y = augmented_data(batch,window = 200, a= 0.6, b = 0, c = 0.6, d= 1.5)\n",
        "        c,t = x.shape\n",
        "        x = np.reshape(x,(c,1,t))\n",
        "        CrossEL = torch.nn.CrossEntropyLoss()\n",
        "        pred = encoder.forward(torch.Tensor(x).to(device))\n",
        "        y = torch.Tensor(y).to(device)\n",
        "        _, y =  torch.max(y, 1) \n",
        "        \n",
        "      \n",
        "        # print('y:',y.shape)\n",
        "        # print('rept:',rept.shape)\n",
        "        loss = CrossEL(pred, torch.Tensor(y).to(device))\n",
        "        if train:\n",
        "            loss.backward(retain_graph=True)\n",
        "\n",
        "        _, predicted = torch.max(pred, 1) \n",
        "        # print(predicted.shape)\n",
        "        # print(y.shape)\n",
        "        acc = (predicted == y).sum().item()\n",
        "        acc = acc/c #acc/(batch*channels*4(augmented))\n",
        "        loss = loss\n",
        "        del x\n",
        "        del y\n",
        "        return loss, acc\n"
      ]
    },
    {
      "cell_type": "code",
      "execution_count": 23,
      "metadata": {
        "id": "5EGzVg2QL5W-"
      },
      "outputs": [],
      "source": [
        "import torch\n",
        "import torch.nn as nn\n",
        "\n",
        "\n",
        "\n",
        "class feature_extractor3(nn.Module):\n",
        "    def __init__(self, seq_len):\n",
        "        super(feature_extractor3,self).__init__()\n",
        "        self.channels = 1 # we use only single channel \n",
        "        \n",
        "        # Activation functions\n",
        "        self.activation = nn.LeakyReLU()\n",
        "        # self.bn = nn.BatchNorm1d(1)\n",
        "\n",
        "        # self.conv2t = nns.SeparableConv1d(16,32,10,padding ='same') (in_channels, out_channels, kernel size,,,) \n",
        "\n",
        "        self.softmax = nn.Softmax()\n",
        "        self.conv1t = nn.Conv1d(1,10, 30, padding ='same') #in_channels, out_channels, kernel_size, \n",
        "        self.conv1s = nn.Conv1d(10,10,self.channels)\n",
        "        self.conv2t = nn.Conv1d(10,20,15,padding ='same') \n",
        "        self.conv2s = nn.Conv1d(20,20,self.channels)\n",
        "        self.conv3t = nn.Conv1d(20,34,5,padding ='same')\n",
        "        self.conv3s = nn.Conv1d(34,34,self.channels)\n",
        "        \n",
        "                  \n",
        "        # Flatteninig\n",
        "        self.flatten = nn.Flatten()\n",
        "\n",
        "        # Dropout\n",
        "        self.dropout = nn.Dropout(0.5)\n",
        "\n",
        "        # Decision making\n",
        "        self.Linear = nn.Linear(int(64*seq_len) ,4) # \n",
        "\n",
        "        # xavier initialization\n",
        "        torch.nn.init.xavier_uniform_(self.conv1t.weight)\n",
        "        torch.nn.init.xavier_uniform_(self.conv2t.weight)\n",
        "        torch.nn.init.xavier_uniform_(self.conv3t.weight)\n",
        "        torch.nn.init.xavier_uniform_(self.conv1s.weight)\n",
        "        torch.nn.init.xavier_uniform_(self.conv2s.weight)\n",
        "        torch.nn.init.xavier_uniform_(self.conv3s.weight)\n",
        "\n",
        "      \n",
        "    def embedding(self, x):\n",
        "        x = self.activation(self.conv1t(x))\n",
        "        f1 = self.activation(self.conv1s(x))\n",
        "\n",
        "        x = self.activation(self.conv2t(x))\n",
        "        f2 = self.activation(self.conv2s(x))\n",
        "\n",
        "        x = self.activation(self.conv3t(x))\n",
        "        f3 = self.activation(self.conv3s(x))\n",
        "        \n",
        "        # multi-scale feature representation by exploiting intermediate features\n",
        "        feature = torch.cat([f1, f2, f3],dim = 1 )\n",
        "        \n",
        "        return feature\n",
        "\n",
        "    def classifier(self, feature):\n",
        "        # Flattening, dropout, mapping into the decision nodes\n",
        "        feature = self.flatten(feature)\n",
        "        feature = self.dropout(feature)\n",
        "        y_hat = self.softmax(self.Linear(feature))\n",
        "        return y_hat    \n",
        "\n",
        "    def forward(self, x):\n",
        "        feature = self.embedding(x)\n",
        "        y_hat = self.classifier(feature)\n",
        "        return y_hat"
      ]
    },
    {
      "cell_type": "code",
      "source": [
        "import os\n",
        "import torch\n",
        "# batch size\n",
        "batch_size = 4\n",
        "learning_rate = 0.0001\n",
        "epochs = 20\n",
        "\n",
        "os.environ[\"CUDA_VISIBLE_DEVICES\"] = \"0\"\n",
        "device = torch.device(\"cuda:0\" if torch.cuda.is_available() else \"cpu\")\n",
        "#torch.device(\"cuda:0\" if torch.cuda.is_available() else \"cpu\")\n",
        "#\"cpu\""
      ],
      "metadata": {
        "id": "7zQO8svDl3aN"
      },
      "execution_count": 24,
      "outputs": []
    },
    {
      "cell_type": "code",
      "execution_count": 25,
      "metadata": {
        "colab": {
          "base_uri": "https://localhost:8080/"
        },
        "id": "mg3TmfVUKo0p",
        "outputId": "171dd866-6573-4ca9-88b7-4f4c8b190d70"
      },
      "outputs": [
        {
          "output_type": "stream",
          "name": "stdout",
          "text": [
            "cuda:0\n"
          ]
        }
      ],
      "source": [
        "print(device)"
      ]
    },
    {
      "cell_type": "code",
      "execution_count": 26,
      "metadata": {
        "id": "SfvpM7pStiLH"
      },
      "outputs": [],
      "source": [
        "\n",
        "# dataset loader\n",
        "\n",
        "trainLoader = DataLoader(train_dataset, batch_size = batch_size, shuffle=False)\n",
        "valLoader = DataLoader(train_dataset, batch_size = batch_size, shuffle=False)\n",
        "testLoader = DataLoader(test_dataset, batch_size = batch_size, shuffle=False)"
      ]
    },
    {
      "cell_type": "code",
      "execution_count": 27,
      "metadata": {
        "id": "2OGUDTGF0JVI"
      },
      "outputs": [],
      "source": [
        "model = feature_extractor3(6000).to(device)\n",
        "#model.to(device)\n",
        "criterion = Temporal_Trend_Identification_Task_Loss(device)\n",
        "optimizer = torch.optim.Adam(model.parameters(), lr=learning_rate)"
      ]
    },
    {
      "cell_type": "code",
      "execution_count": 28,
      "metadata": {
        "colab": {
          "base_uri": "https://localhost:8080/"
        },
        "id": "yJsuvJLq0JXK",
        "outputId": "b7fe32b0-be34-425e-ade2-612e98a59401"
      },
      "outputs": [
        {
          "output_type": "stream",
          "name": "stderr",
          "text": [
            "/usr/local/lib/python3.7/dist-packages/torch/nn/modules/conv.py:304: UserWarning: Using padding='same' with even kernel lengths and odd dilation may require a zero-padded copy of the input be created (Triggered internally at  ../aten/src/ATen/native/Convolution.cpp:882.)\n",
            "  self.padding, self.dilation, self.groups)\n",
            "/usr/local/lib/python3.7/dist-packages/ipykernel_launcher.py:63: UserWarning: Implicit dimension choice for softmax has been deprecated. Change the call to include dim=X as an argument.\n"
          ]
        },
        {
          "output_type": "stream",
          "name": "stdout",
          "text": [
            "epoch :  0   train loss :  0.9396293582518895 train acc :  0.8150810185185184     val loss :  0.9071115988492966 val acc :  0.8437731481481489\n",
            "epoch :  1   train loss :  0.9040893836816152 train acc :  0.8419907407407404     val loss :  0.9119918924570084 val acc :  0.8405555555555557\n",
            "epoch :  2   train loss :  0.8950427651405335 train acc :  0.8496296296296292     val loss :  0.9005995148420334 val acc :  0.8467361111111111\n",
            "epoch :  3   train loss :  0.879507272640864 train acc :  0.8654050925925924     val loss :  0.8869599030415217 val acc :  0.860844907407407\n",
            "epoch :  4   train loss :  0.8767128753662109 train acc :  0.8682175925925926     val loss :  0.8936251278718312 val acc :  0.8556597222222221\n",
            "epoch :  5   train loss :  0.8786069083213807 train acc :  0.8662037037037033     val loss :  0.8963630890846253 val acc :  0.8522106481481473\n",
            "epoch :  6   train loss :  0.8690101357301077 train acc :  0.8755208333333325     val loss :  0.8939230632781983 val acc :  0.8534374999999993\n",
            "epoch :  7   train loss :  0.8798757324616114 train acc :  0.8646412037037027     val loss :  0.8902051071325938 val acc :  0.8545833333333331\n",
            "epoch :  8   train loss :  0.8809297833840052 train acc :  0.8629976851851857     val loss :  0.888685998916626 val acc :  0.8551620370370365\n",
            "epoch :  9   train loss :  0.8700758391618728 train acc :  0.8740509259259255     val loss :  0.881898157397906 val acc :  0.8619097222222217\n",
            "epoch :  10   train loss :  0.8754335494836172 train acc :  0.8687384259259258     val loss :  0.8590287470817566 val acc :  0.8847337962962962\n",
            "epoch :  11   train loss :  0.8854197822014491 train acc :  0.8585763888888885     val loss :  0.8755788133541743 val acc :  0.8682060185185181\n",
            "epoch :  12   train loss :  0.877231345375379 train acc :  0.8664351851851855     val loss :  0.8826009422540665 val acc :  0.8617592592592587\n",
            "epoch :  13   train loss :  0.8786416010061899 train acc :  0.8651620370370368     val loss :  0.871177374124527 val acc :  0.8736574074074067\n",
            "epoch :  14   train loss :  0.8803678186734517 train acc :  0.8633680555555556     val loss :  0.8777604462703069 val acc :  0.8667013888888881\n",
            "epoch :  15   train loss :  0.8768054600556692 train acc :  0.8669907407407398     val loss :  0.8884737559159597 val acc :  0.8554050925925917\n",
            "epoch :  16   train loss :  0.8759104452530543 train acc :  0.8678703703703697     val loss :  0.884624417424202 val acc :  0.85917824074074\n",
            "epoch :  17   train loss :  0.891576327085495 train acc :  0.8522106481481478     val loss :  0.8789839708805084 val acc :  0.865185185185185\n",
            "epoch :  18   train loss :  0.8884671215216319 train acc :  0.8552546296296297     val loss :  0.8876520796616872 val acc :  0.8561805555555545\n",
            "epoch :  19   train loss :  0.8815876120328903 train acc :  0.8620370370370364     val loss :  0.8888301169872284 val acc :  0.8555092592592585\n"
          ]
        }
      ],
      "source": [
        "import matplotlib.pyplot as plt\n",
        "loss_tr = []\n",
        "loss_val = []\n",
        "acc_tr = []\n",
        "acc_val = []\n",
        "for epoch in range(epochs):\n",
        "    loss_ep = 0  # add batch loss in epoch\n",
        "    acc_ep = 0\n",
        "    for batch_idx, batch in enumerate(trainLoader):\n",
        "        # print(batch.shape)\n",
        "        optimizer.zero_grad()\n",
        "        loss_batch, acc_batch = criterion.forward(batch, model, train = True)\n",
        "        # print(batch_idx)\n",
        "        optimizer.step()\n",
        "        loss_ep += loss_batch.item()\n",
        "        acc_ep += acc_batch\n",
        "\n",
        "    loss_tr.append((loss_ep)/len(trainLoader))\n",
        "    acc_tr.append((acc_ep)/len(trainLoader))\n",
        "\n",
        "    loss_ep_val = 0\n",
        "    acc_ep_val = 0\n",
        "    for batch_idx, batch in enumerate(valLoader):\n",
        "        loss_batch_val, acc_batch_val = criterion.forward(batch, model, train = False)\n",
        "        loss_ep_val += loss_batch_val.item()\n",
        "        acc_ep_val += acc_batch_val\n",
        "    \n",
        "    loss_val.append((loss_ep_val)/len(valLoader))\n",
        "    acc_val.append((acc_ep_val)/len(valLoader))\n",
        "    print(\"epoch : \", epoch, \"  train loss : \", loss_tr[epoch], 'train acc : ', acc_tr[epoch], \"    val loss : \", loss_val[epoch], 'val acc : ', acc_val[epoch])\n",
        "    torch.save(model,'Temporal_2s_ep' + str(epoch)+'_.pt')"
      ]
    },
    {
      "cell_type": "code",
      "execution_count": 28,
      "metadata": {
        "id": "S9QLOrL3hq-f"
      },
      "outputs": [],
      "source": []
    },
    {
      "cell_type": "markdown",
      "metadata": {
        "id": "EyYjI6wY4bew"
      },
      "source": [
        "result save and plot"
      ]
    },
    {
      "cell_type": "code",
      "execution_count": 29,
      "metadata": {
        "colab": {
          "base_uri": "https://localhost:8080/"
        },
        "id": "sULgDLvm2xHe",
        "outputId": "17510bae-c0ed-43eb-fc19-ebe1c2871d99"
      },
      "outputs": [
        {
          "output_type": "stream",
          "name": "stdout",
          "text": [
            "(4, 20)\n"
          ]
        }
      ],
      "source": [
        "import pandas as pd\n",
        "col = ['loss_tr','loss_val','acc_tr','acc_val']\n",
        "data = np.array([loss_tr,\n",
        "                 loss_val,\n",
        "                 acc_tr,\n",
        "                 acc_val])\n",
        "print(data.shape)\n",
        "data = np.transpose(data)\n",
        "df = pd.DataFrame(data = data, columns= col)\n",
        "df.to_excel('1026_Sleepedf+MASS_30s.xlsx', index = False)"
      ]
    },
    {
      "cell_type": "code",
      "execution_count": 31,
      "metadata": {
        "colab": {
          "base_uri": "https://localhost:8080/",
          "height": 295
        },
        "id": "yqo5atQngb6K",
        "outputId": "c0e7e817-b004-4804-ecdc-203ca85e2827"
      },
      "outputs": [
        {
          "output_type": "display_data",
          "data": {
            "text/plain": [
              "<Figure size 432x288 with 1 Axes>"
            ],
            "image/png": "[encoded data removed]"
          },
          "metadata": {
            "needs_background": "light"
          }
        }
      ],
      "source": [
        "# plt.figure(figsize =(15, 10))\n",
        "plt.plot(range(epochs), loss_tr, color='red')\n",
        "plt.plot(range(epochs), loss_val, color='blue')\n",
        "plt.title('Model loss')\n",
        "plt.xlabel('epochs')\n",
        "plt.ylabel('loss')\n",
        "plt.legend(['Train', 'Validation'], loc='upper right')\n",
        "plt.savefig('1026_Sleepedf+MASS_loss_30s',bbox_inches = 'tight')\n",
        "plt.show()\n"
      ]
    },
    {
      "cell_type": "code",
      "execution_count": 33,
      "metadata": {
        "colab": {
          "base_uri": "https://localhost:8080/",
          "height": 295
        },
        "id": "0qR7XCy2hPq6",
        "outputId": "18fe184c-2e88-46a6-a525-632a4c4717eb"
      },
      "outputs": [
        {
          "output_type": "display_data",
          "data": {
            "text/plain": [
              "<Figure size 432x288 with 1 Axes>"
            ],
            "image/png": "[encoded data removed]"
          },
          "metadata": {
            "needs_background": "light"
          }
        }
      ],
      "source": [
        "# plt.figure(figsize =(15, 10))\n",
        "plt.plot(range(epochs), acc_tr, color='red')\n",
        "plt.plot(range(epochs), acc_val, color='blue')\n",
        "plt.title('Model accuracy')\n",
        "plt.xlabel('epochs')\n",
        "plt.ylabel('accuracy')\n",
        "plt.legend(['Train', 'Validation'], loc='lower right')\n",
        "plt.savefig('1026_Sleepedf+MASS_accuracy_30s',bbox_inches = 'tight')\n",
        "plt.show()"
      ]
    },
    {
      "cell_type": "markdown",
      "metadata": {
        "id": "WaNXMjTxw00n"
      },
      "source": []
    },
    {
      "cell_type": "code",
      "execution_count": 34,
      "metadata": {
        "id": "n2HeGrHBwziU"
      },
      "outputs": [],
      "source": [
        "torch.cuda.empty_cache() # GPU 캐시 데이터 삭제"
      ]
    },
    {
      "cell_type": "code",
      "execution_count": 35,
      "metadata": {
        "id": "1eLsdB1VwFwT"
      },
      "outputs": [],
      "source": [
        "def predict( batch, encoder):\n",
        "  x, y = augmented_data(batch,window = 100 , a= 0.6, b = 0, c = 0.6, d= 1.5)\n",
        "  c,t = x.shape\n",
        "  # print('bj',x.shape)\n",
        "  x = np.reshape(x,(c,1,t))\n",
        "      \n",
        "  rept = encoder.forward(torch.Tensor(x).to(device))\n",
        "  \n",
        "  rept = rept.cpu().detach().numpy()\n",
        "  \n",
        "  return rept, y"
      ]
    },
    {
      "cell_type": "code",
      "execution_count": 36,
      "metadata": {
        "id": "52Tjv55gLspZ",
        "colab": {
          "base_uri": "https://localhost:8080/"
        },
        "outputId": "058cdea7-b512-420c-f608-628f9e0343ed"
      },
      "outputs": [
        {
          "output_type": "stream",
          "name": "stderr",
          "text": [
            "/usr/local/lib/python3.7/dist-packages/ipykernel_launcher.py:63: UserWarning: Implicit dimension choice for softmax has been deprecated. Change the call to include dim=X as an argument.\n"
          ]
        }
      ],
      "source": [
        "Y_hat = []\n",
        "Y = []\n",
        "for batch_idx, batch in enumerate(testLoader):\n",
        "  y_hat,y = predict(batch, encoder = model)\n",
        "\n",
        "  Y_hat.extend(y_hat)\n",
        "  Y.extend(y)"
      ]
    },
    {
      "cell_type": "markdown",
      "metadata": {
        "id": "emCt_GRALsct"
      },
      "source": []
    },
    {
      "cell_type": "code",
      "execution_count": null,
      "metadata": {
        "id": "IdPnum5HrrBo"
      },
      "outputs": [],
      "source": []
    },
    {
      "cell_type": "code",
      "execution_count": 37,
      "metadata": {
        "id": "i4VmNDYww6Fd",
        "colab": {
          "base_uri": "https://localhost:8080/"
        },
        "outputId": "a5bc1f50-0209-4138-8d52-c38c8d6479b5"
      },
      "outputs": [
        {
          "output_type": "stream",
          "name": "stdout",
          "text": [
            "(16000, 4)\n",
            "(16000, 4)\n"
          ]
        }
      ],
      "source": [
        "Y_hat = np.array(Y_hat)\n",
        "print(Y_hat.shape)\n",
        "\n",
        "Y = np.array(Y)\n",
        "print(Y.shape)"
      ]
    },
    {
      "cell_type": "code",
      "execution_count": 38,
      "metadata": {
        "id": "sPVbhBbByliz",
        "colab": {
          "base_uri": "https://localhost:8080/"
        },
        "outputId": "86fe3d4c-c536-4737-9bac-ea678de386e8"
      },
      "outputs": [
        {
          "output_type": "execute_result",
          "data": {
            "text/plain": [
              "array([[1.0000000e+00, 2.7427210e-35, 1.1312237e-35, 8.9235670e-34],\n",
              "       [1.0000000e+00, 2.8586489e-43, 4.7630089e-36, 7.2675357e-38],\n",
              "       [1.0000000e+00, 9.8627818e-16, 6.2379944e-21, 5.0069041e-21],\n",
              "       ...,\n",
              "       [0.0000000e+00, 0.0000000e+00, 1.5896089e-33, 1.0000000e+00],\n",
              "       [0.0000000e+00, 0.0000000e+00, 2.1261619e-37, 1.0000000e+00],\n",
              "       [0.0000000e+00, 0.0000000e+00, 4.7784278e-43, 1.0000000e+00]],\n",
              "      dtype=float32)"
            ]
          },
          "metadata": {},
          "execution_count": 38
        }
      ],
      "source": [
        "y_hat"
      ]
    },
    {
      "cell_type": "code",
      "execution_count": 39,
      "metadata": {
        "id": "782hYYxLy6UM",
        "colab": {
          "base_uri": "https://localhost:8080/"
        },
        "outputId": "876a2036-0e1e-4177-e66c-a15f57653651"
      },
      "outputs": [
        {
          "output_type": "stream",
          "name": "stdout",
          "text": [
            "torch.Size([16000])\n"
          ]
        }
      ],
      "source": [
        "Y_tensor = torch.Tensor(Y)\n",
        "_, Y_tensor =  torch.max(Y_tensor, 1) \n",
        "Y_hat_tensor = torch.Tensor(Y_hat)\n",
        "\n",
        "\n",
        "_, predicted = torch.max(Y_hat_tensor, 1) \n",
        "# print(predicted.shape)\n",
        "# print(y.shape)\n",
        "print(predicted.shape)\n",
        "correct = (predicted == Y_tensor).sum().item()\n",
        "wrong = len(Y) - correct"
      ]
    },
    {
      "cell_type": "code",
      "execution_count": 40,
      "metadata": {
        "id": "qfeXlRqj0L22",
        "colab": {
          "base_uri": "https://localhost:8080/"
        },
        "outputId": "e8543692-0ea1-423d-a3a4-a9e8696d05d6"
      },
      "outputs": [
        {
          "output_type": "stream",
          "name": "stdout",
          "text": [
            "tensor([0, 0, 0,  ..., 3, 3, 3])\n",
            "tensor([0, 0, 0,  ..., 3, 3, 3])\n"
          ]
        }
      ],
      "source": [
        "print(Y_tensor)\n",
        "print(predicted)"
      ]
    },
    {
      "cell_type": "code",
      "execution_count": 41,
      "metadata": {
        "id": "88-2-L6yy6QS",
        "colab": {
          "base_uri": "https://localhost:8080/"
        },
        "outputId": "f1683060-f2d1-4c7b-83a1-5447c71ca15d"
      },
      "outputs": [
        {
          "output_type": "execute_result",
          "data": {
            "text/plain": [
              "(13941, 2059)"
            ]
          },
          "metadata": {},
          "execution_count": 41
        }
      ],
      "source": [
        "correct, wrong"
      ]
    },
    {
      "cell_type": "code",
      "execution_count": 42,
      "metadata": {
        "id": "wVQ1-2_n2pwB",
        "colab": {
          "base_uri": "https://localhost:8080/"
        },
        "outputId": "cb9477e3-63b0-457b-9790-850fd963bb4c"
      },
      "outputs": [
        {
          "output_type": "stream",
          "name": "stdout",
          "text": [
            "accuracy: 0.8713125\n"
          ]
        }
      ],
      "source": [
        "print('accuracy:',correct/(correct + wrong))"
      ]
    },
    {
      "cell_type": "code",
      "execution_count": 43,
      "metadata": {
        "id": "KOQh-DH0yNHr",
        "colab": {
          "base_uri": "https://localhost:8080/"
        },
        "outputId": "931d8bcd-da9f-47e5-939d-ebad8bb47f92"
      },
      "outputs": [
        {
          "output_type": "stream",
          "name": "stdout",
          "text": [
            "[[3854  138    8    0]\n",
            " [   1 3999    0    0]\n",
            " [1908    1 2088    3]\n",
            " [   0    0    0 4000]]\n"
          ]
        }
      ],
      "source": [
        "# confusion matrix 사용을 위한 라이브러리\n",
        "from sklearn.metrics import confusion_matrix\n",
        "conf_matrix = confusion_matrix(Y_tensor, predicted)\n",
        "print(conf_matrix)\n",
        "\n"
      ]
    },
    {
      "cell_type": "code",
      "execution_count": 44,
      "metadata": {
        "id": "gvMokQwihrA5",
        "colab": {
          "base_uri": "https://localhost:8080/",
          "height": 367
        },
        "outputId": "e8c21bdd-6935-4fb9-dd84-1b0ff874f27b"
      },
      "outputs": [
        {
          "output_type": "display_data",
          "data": {
            "text/plain": [
              "<Figure size 432x432 with 2 Axes>"
            ],
            "image/png": "[encoded data removed]"
          },
          "metadata": {
            "needs_background": "light"
          }
        }
      ],
      "source": [
        "#one-hot encoding\n",
        "      # original = [1,0,0,0]\n",
        "      # s_maf = [0,1,0,0]\n",
        "      # s_asln = [0,0,1,0]\n",
        "      # s_apn = [0,0,0,1]\n",
        "\n",
        "title = 'confusion matrix'\n",
        "cmap=plt.cm.Greens\n",
        "plt.figure(figsize=(6, 6))\n",
        "plt.imshow(conf_matrix, interpolation='nearest', cmap=cmap)  # , cmap=plt.cm.Greens\n",
        "plt.title(title, size=12)\n",
        "plt.colorbar(fraction=0.05, pad=0.05)\n",
        "tick_marks = np.arange(4, 4)\n",
        "plt.xticks(np.arange(4), ('raw','stationary','trendstationary','cyclostationary'))\n",
        "plt.yticks(np.arange(4), ('raw','stationary','trendstationary','cyclostationary'))\n",
        "\n",
        "\n",
        "fmt = 'd' \n",
        "thresh = 1\n",
        "for i in range(conf_matrix.shape[0]):\n",
        "    for j in range(conf_matrix.shape[1]):\n",
        "        plt.text(j, i, format(conf_matrix[i, j], fmt),\n",
        "                 ha=\"center\", va=\"center\", color=\"black\" if conf_matrix[i, j] > thresh else \"black\")  #horizontalalignment\n",
        "\n",
        "plt.savefig('1026_Sleepedf+MASS_confusionmatrix_5s',bbox_inches = 'tight')\n"
      ]
    }
  ],
  "metadata": {
    "colab": {
      "collapsed_sections": [],
      "provenance": []
    },
    "kernelspec": {
      "display_name": "Python 3",
      "name": "python3"
    },
    "language_info": {
      "name": "python"
    },
    "gpuClass": "standard"
  },
  "nbformat": 4,
  "nbformat_minor": 0
}