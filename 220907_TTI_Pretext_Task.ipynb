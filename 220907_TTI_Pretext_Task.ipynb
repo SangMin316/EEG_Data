{
  "nbformat": 4,
  "nbformat_minor": 0,
  "metadata": {
    "colab": {
      "provenance": [],
      "collapsed_sections": [],
      "mount_file_id": "1EpS2DUx-3SAttYImPsFJjSFwZRbzxzpH",
      "authorship_tag": "ABX9TyNvDX1N6WNQ+iT44gMV4+hC",
      "include_colab_link": true
    },
    "kernelspec": {
      "name": "python3",
      "display_name": "Python 3"
    },
    "language_info": {
      "name": "python"
    },
    "accelerator": "GPU",
    "gpuClass": "standard"
  },
  "cells": [
    {
      "cell_type": "markdown",
      "metadata": {
        "id": "view-in-github",
        "colab_type": "text"
      },
      "source": [
        "<a href=\"https://colab.research.google.com/github/SangMin316/EEG_Data/blob/main/220907_TTI_Pretext_Task.ipynb\" target=\"_parent\"><img src=\"https://colab.research.google.com/assets/colab-badge.svg\" alt=\"Open In Colab\"/></a>"
      ]
    },
    {
      "cell_type": "code",
      "source": [
        "from google.colab import drive\n",
        "drive.mount('/content/drive')"
      ],
      "metadata": {
        "colab": {
          "base_uri": "https://localhost:8080/"
        },
        "id": "bF8-dJ4KV9cm",
        "outputId": "357b6a00-9a59-4f00-a7a6-9f104129bbe1"
      },
      "execution_count": 1,
      "outputs": [
        {
          "output_type": "stream",
          "name": "stdout",
          "text": [
            "Drive already mounted at /content/drive; to attempt to forcibly remount, call drive.mount(\"/content/drive\", force_remount=True).\n"
          ]
        }
      ]
    },
    {
      "cell_type": "markdown",
      "source": [
        "augmentation for single channel"
      ],
      "metadata": {
        "id": "t6r0Y7BWWEac"
      }
    },
    {
      "cell_type": "code",
      "source": [
        "import numpy as np\n",
        "def MAF(x,window):\n",
        "    noise = np.convolve(x, np.ones(window),'same')/window\n",
        "    x = x - noise\n",
        "    return x\n",
        "\n",
        "def asln(x,a,b):\n",
        "    T = len(x)\n",
        "    noise = a*np.linspace(0,10,T) - b*np.ones(T)\n",
        "    n = np.random.randint(2)\n",
        "    if n == 0:\n",
        "        new_signals = x + noise\n",
        "    else:\n",
        "        new_signals = x - noise\n",
        "    return new_signals\n",
        "\n",
        "def apn(x,c,d):\n",
        "    T = len(x)\n",
        "    noise =np.sin(np.linspace(-np.pi+d,np.pi+d,T))\n",
        "    new_signals = x + c*noise\n",
        "    return new_signals"
      ],
      "metadata": {
        "id": "-OrN1fAmWDmG"
      },
      "execution_count": 2,
      "outputs": []
    },
    {
      "cell_type": "code",
      "source": [
        "def data_aug(x,window,a,b,c,d):\n",
        "    sequence_length = 500\n",
        "    x = np.reshape(x,(1,sequence_length))\n",
        "    x = np.squeeze(x)\n",
        "    x_maf = MAF(x,window)\n",
        "    x_asln = asln(x,a,b)\n",
        "    x_apn = apn(x,c,d)\n",
        "    x = np.array([x ,x_maf, x_asln, x_apn])\n",
        "    x = np.squeeze(x)\n",
        "    #one-hot encoding\n",
        "    label = np.eye(4)\n",
        "    return x, label\n",
        "    "
      ],
      "metadata": {
        "id": "h3eMpatLWO7S"
      },
      "execution_count": 3,
      "outputs": []
    },
    {
      "cell_type": "code",
      "source": [
        "sample_data = np.load('16079_4.npy')"
      ],
      "metadata": {
        "id": "ezLyPYbvWZcJ"
      },
      "execution_count": 6,
      "outputs": []
    },
    {
      "cell_type": "code",
      "source": [
        "x,y = data_aug(sample_data,20,5,0.3,25,0)\n",
        "print(x.shape)\n",
        "print(y)"
      ],
      "metadata": {
        "colab": {
          "base_uri": "https://localhost:8080/"
        },
        "id": "86D2y3HOg2kA",
        "outputId": "ed3425da-a96d-4e39-a81e-3d56d387507d"
      },
      "execution_count": 12,
      "outputs": [
        {
          "output_type": "stream",
          "name": "stdout",
          "text": [
            "(4, 500)\n",
            "[[1. 0. 0. 0.]\n",
            " [0. 1. 0. 0.]\n",
            " [0. 0. 1. 0.]\n",
            " [0. 0. 0. 1.]]\n"
          ]
        }
      ]
    },
    {
      "cell_type": "markdown",
      "source": [
        "Plot signals"
      ],
      "metadata": {
        "id": "wJd7OLk3apyz"
      }
    },
    {
      "cell_type": "code",
      "source": [
        "import matplotlib.pyplot as plt\n",
        "\n",
        "t = np.linspace(0,500,500)\n",
        "plt.figure(figsize =(12, 7))\n",
        "label = ['raw', 'stationary','trendstationary','cyclostationary']\n",
        "\n",
        "for i in range(4):\n",
        "  y = x[i]\n",
        "  plt.subplot(2, 2, i+1)\n",
        "  plt.plot(t,y)\n",
        "  plt.title(label[i])\n",
        "  \n",
        "plt.show()  "
      ],
      "metadata": {
        "colab": {
          "base_uri": "https://localhost:8080/",
          "height": 444
        },
        "id": "jZer0IqWacFu",
        "outputId": "ff8c6104-3782-4dbc-c7c9-ea9f0fe2cd0a"
      },
      "execution_count": 13,
      "outputs": [
        {
          "output_type": "display_data",
          "data": {
            "text/plain": [
              "<Figure size 864x504 with 4 Axes>"
            ],
            "image/png": "[encoded data removed]"
          },
          "metadata": {
            "needs_background": "light"
          }
        }
      ]
    },
    {
      "cell_type": "markdown",
      "source": [
        "augmentation for multiple channels "
      ],
      "metadata": {
        "id": "FT70imvBa2Ye"
      }
    },
    {
      "cell_type": "code",
      "source": [
        "import numpy as np\n",
        "def MAF(x,window):\n",
        "    sample_num, T = x.shape\n",
        "    for i in range(sample_num):\n",
        "      noise = np.convolve(x[i], np.ones(window),'same')/window\n",
        "      x[i] = x[i] - noise\n",
        "    return x\n",
        "\n",
        "def asln(x,a,b):\n",
        "\n",
        "    C,T = x.shape\n",
        "    noise = a*np.linspace(0,10,T) - b*np.ones(T)\n",
        "    noise = noise*np.ones((C,1))\n",
        "    n = np.random.randint(2)\n",
        "    if n == 0:\n",
        "      new_signals = x + noise\n",
        "    else:\n",
        "      new_signals = x - noise\n",
        "    return new_signals\n",
        "\n",
        "def apn(x,c,d):\n",
        "    C,T = x.shape\n",
        "    noise = np.linspace(-np.pi+d,np.pi+d,T) - d*np.ones(T)\n",
        "    noise = c*np.sin(noise)*np.ones((C,1))\n",
        "    new_signals = x + noise\n",
        "    return new_signals"
      ],
      "metadata": {
        "id": "SWLRHrC6acQd"
      },
      "execution_count": 14,
      "outputs": []
    },
    {
      "cell_type": "markdown",
      "source": [
        "load_dataset"
      ],
      "metadata": {
        "id": "ivKy3accbD6B"
      }
    },
    {
      "cell_type": "code",
      "source": [
        "import glob\n",
        "class load_dataset():\n",
        "    def __init__(self, sbj_idx):\n",
        "        self.sbj_idx = sbj_idx\n",
        "        self.sequence_length = 500\n",
        "        self.path = '/content/drive/MyDrive/sleep_edfx/500npy'\n",
        "\n",
        "    def load_data(self):\n",
        "        X = []\n",
        "        data_list = glob.glob(self.path+'/**')\n",
        "\n",
        "        for sbj_idx in range(self.sbj_idx):\n",
        "            data = np.load(data_list[sbj_idx])\n",
        "            X.append(data)\n",
        "        return  np.array(X)\n",
        "\n",
        "    def augmented_data(self,x,window,a,b,c,d):\n",
        "      X = []\n",
        "      Y = []\n",
        "      x = np.reshape(x,(self.sbj_idx,1,self.sequence_length))\n",
        "      x = np.squeeze(x)\n",
        "      x_maf = MAF(x,window)\n",
        "      x_asln = asln(x,a,b)\n",
        "      x_apn = apn(x,c,d)\n",
        "      X.append(x)\n",
        "      X.append(x_maf)\n",
        "      X.append(x_asln)\n",
        "      X.append(x_apn)\n",
        "\n",
        "      #one-hot encoding\n",
        "      original = [1,0,0,0]\n",
        "      s_maf = [0,1,0,0]\n",
        "      s_asln = [0,0,1,0]\n",
        "      s_apn = [0,0,0,1]\n",
        "\n",
        "      Y.append(original*np.ones((self.sbj_idx,1)))\n",
        "      Y.append(s_maf*np.ones((self.sbj_idx,1)))\n",
        "      Y.append(s_asln*np.ones((self.sbj_idx,1)))\n",
        "      Y.append(s_apn*np.ones((self.sbj_idx,1)))\n",
        "      \n",
        "      X = np.array(X)\n",
        "      X = X.reshape(4*self.sbj_idx,1,self.sequence_length)\n",
        "\n",
        "      Y = np.array(Y)\n",
        "      Y = Y.reshape(4*self.sbj_idx,4)\n",
        "      \n",
        "      return X,Y \n",
        "\n",
        "\n",
        "    def call(self, fold):\n",
        "        X = self.load_data()\n",
        "        X,Y = self.augmented_data(X,20,2,0.3,20,0)\n",
        "        print(X.shape)\n",
        "        print(Y.shape)\n",
        "        num_samples = int(X.shape[0]/(5)) # Samples per fold\n",
        "\n",
        "        # Set training/validation/testing data indices\n",
        "        rand_idx = np.random.RandomState(seed=981220).permutation(X.shape[0])\n",
        "        test_idx = rand_idx[(fold - 1) * num_samples:fold * num_samples]\n",
        "        train_idx = np.setdiff1d(rand_idx, test_idx)\n",
        "        valid_idx = np.random.RandomState(seed=3940).permutation(train_idx.shape[0])[:28]\n",
        "        valid_idx = train_idx[valid_idx]\n",
        "        train_idx = np.setdiff1d(train_idx, valid_idx)\n",
        "\n",
        "\n",
        "        X_tr, X_vl, X_ts = X[train_idx, ...], X[valid_idx, ...], X[test_idx, ...]\n",
        "        Y_tr, Y_vl, Y_ts = Y[train_idx, ...], Y[valid_idx, ...], Y[test_idx, ...]\n",
        "\n",
        "        return (X_tr, Y_tr), (X_vl, Y_vl), (X_ts, Y_ts)"
      ],
      "metadata": {
        "id": "LA4EOza9bCgg"
      },
      "execution_count": 15,
      "outputs": []
    },
    {
      "cell_type": "markdown",
      "source": [
        "EEGLoader"
      ],
      "metadata": {
        "id": "T7n1GtEHbM-x"
      }
    },
    {
      "cell_type": "code",
      "source": [
        "from torch.utils.data import Dataset\n",
        "import torch\n",
        "\n",
        "class EEGLoader(Dataset):\n",
        "    def __init__(self, data, device):\n",
        "        X_data, y_data = data\n",
        "\n",
        "        self.x_data = torch.Tensor(X_data).to(device)\n",
        "        self.y_data = torch.Tensor(y_data).to(device)\n",
        "\n",
        "    def __len__(self):\n",
        "        return len(self.y_data)\n",
        "\n",
        "    def __getitem__(self, index):\n",
        "        return self.x_data[index,:], self.y_data[index,:]\n",
        "\n",
        "    def getallitem(self):\n",
        "        return self.x_data, self.y_data"
      ],
      "metadata": {
        "id": "PIdBrrmubIvX"
      },
      "execution_count": 16,
      "outputs": []
    },
    {
      "cell_type": "markdown",
      "source": [
        "model"
      ],
      "metadata": {
        "id": "UvjM0zLAbVwN"
      }
    },
    {
      "cell_type": "code",
      "source": [
        "pip install separableconv-torch"
      ],
      "metadata": {
        "colab": {
          "base_uri": "https://localhost:8080/"
        },
        "id": "76l9urL3bTxs",
        "outputId": "2817f55e-1e29-4441-eb57-3549629f89b7"
      },
      "execution_count": 17,
      "outputs": [
        {
          "output_type": "stream",
          "name": "stdout",
          "text": [
            "Looking in indexes: https://pypi.org/simple, https://us-python.pkg.dev/colab-wheels/public/simple/\n",
            "Collecting separableconv-torch\n",
            "  Downloading separableconv_torch-0.1.0-py3-none-any.whl (11 kB)\n",
            "Requirement already satisfied: numpy in /usr/local/lib/python3.7/dist-packages (from separableconv-torch) (1.21.6)\n",
            "Requirement already satisfied: torch in /usr/local/lib/python3.7/dist-packages (from separableconv-torch) (1.12.1+cu113)\n",
            "Requirement already satisfied: torchvision in /usr/local/lib/python3.7/dist-packages (from separableconv-torch) (0.13.1+cu113)\n",
            "Requirement already satisfied: typing-extensions in /usr/local/lib/python3.7/dist-packages (from torch->separableconv-torch) (4.1.1)\n",
            "Requirement already satisfied: requests in /usr/local/lib/python3.7/dist-packages (from torchvision->separableconv-torch) (2.23.0)\n",
            "Requirement already satisfied: pillow!=8.3.*,>=5.3.0 in /usr/local/lib/python3.7/dist-packages (from torchvision->separableconv-torch) (7.1.2)\n",
            "Requirement already satisfied: chardet<4,>=3.0.2 in /usr/local/lib/python3.7/dist-packages (from requests->torchvision->separableconv-torch) (3.0.4)\n",
            "Requirement already satisfied: urllib3!=1.25.0,!=1.25.1,<1.26,>=1.21.1 in /usr/local/lib/python3.7/dist-packages (from requests->torchvision->separableconv-torch) (1.24.3)\n",
            "Requirement already satisfied: idna<3,>=2.5 in /usr/local/lib/python3.7/dist-packages (from requests->torchvision->separableconv-torch) (2.10)\n",
            "Requirement already satisfied: certifi>=2017.4.17 in /usr/local/lib/python3.7/dist-packages (from requests->torchvision->separableconv-torch) (2022.6.15)\n",
            "Installing collected packages: separableconv-torch\n",
            "Successfully installed separableconv-torch-0.1.0\n"
          ]
        }
      ]
    },
    {
      "cell_type": "code",
      "source": [
        "import torch\n",
        "import torch.nn as nn\n",
        "import separableconv.nn as nns\n",
        "\n",
        "\n",
        "class feature_extractor3(nn.Module):\n",
        "    def __init__(self):\n",
        "        super(feature_extractor3,self).__init__()\n",
        "        \n",
        "        self.channels = 1 # we use only single channel \n",
        "        \n",
        "        # Regularizer\n",
        "        #self.regularizer = tf.keras.regularizers.L1L2(l1=.001, l2=.01)\n",
        "\n",
        "        # Activation functions\n",
        "        self.activation = nn.LeakyReLU()\n",
        "\n",
        "        self.softmax = nn.Softmax()\n",
        "        self.conv1t = nns.SeparableConv1d(1,16,10,padding ='same') # (in_channels, out_channels, kernel size,,,)\n",
        "        self.conv1s = nn.Conv1d(16,16,self.channels)\n",
        "        self.conv2t = nns.SeparableConv1d(16,32,10,padding ='same') \n",
        "        self.conv2s = nn.Conv1d(32,32,self.channels)\n",
        "        self.conv3t = nns.SeparableConv1d(32,64,10,padding ='same')\n",
        "        self.conv3s = nn.Conv1d(64,64,self.channels)\n",
        "        \n",
        "        # Flatteninig\n",
        "        self.flatten = nn.Flatten()\n",
        "\n",
        "        # Dropout\n",
        "        self.dropout = nn.Dropout(0.3)\n",
        "\n",
        "        # Decision making\n",
        "        self.Linear = nn.Linear(56000,4) # \n",
        "      \n",
        "         \n",
        "        \n",
        "    def embedding(self, x, random_mask=False):\n",
        "        # print(x.shape)\n",
        "        x = self.activation(self.conv1t(x))\n",
        "        f1 = self.activation(self.conv1s(x))\n",
        "\n",
        "        x = self.activation(self.conv2t(x))\n",
        "        f2 = self.activation(self.conv2s(x))\n",
        "\n",
        "        x = self.activation(self.conv3t(x))\n",
        "        f3 = self.activation(self.conv3s(x))\n",
        "        \n",
        "\n",
        "        # multi-scale feature representation by exploiting intermediate features\n",
        "        feature = torch.cat([f1, f2, f3],dim = 1  )\n",
        "        return feature\n",
        "\n",
        "    def classifier(self, feature):\n",
        "        # Flattening, dropout, mapping into the decision nodes\n",
        "        feature = self.flatten(feature)\n",
        "        feature = self.dropout(feature)\n",
        "        y_hat = self.softmax(self.Linear(feature))\n",
        "        return y_hat    \n",
        "\n",
        "    def forward(self, x):\n",
        "        feature = self.embedding(x)\n",
        "        y_hat = self.classifier(feature)\n",
        "        return y_hat"
      ],
      "metadata": {
        "id": "v4F3jTLIbT0R"
      },
      "execution_count": 19,
      "outputs": []
    },
    {
      "cell_type": "code",
      "source": [
        "import os\n",
        "\n",
        "# batch size\n",
        "batch_size = 2\n",
        "learning_rate = 0.000001\n",
        "epochs = 14\n",
        "\n",
        "os.environ[\"CUDA_VISIBLE_DEVICES\"] = \"0\"\n",
        "device = torch.device(\"cuda:0\" if torch.cuda.is_available() else \"cpu\")\n",
        "#torch.device(\"cuda:0\" if torch.cuda.is_available() else \"cpu\")\n",
        "#\"cpu\"\n",
        "\n"
      ],
      "metadata": {
        "id": "HhfJy0SJbd38"
      },
      "execution_count": 31,
      "outputs": []
    },
    {
      "cell_type": "code",
      "source": [
        "print(device)"
      ],
      "metadata": {
        "colab": {
          "base_uri": "https://localhost:8080/"
        },
        "id": "rRv7RDlBfV_1",
        "outputId": "5e678469-f3d2-41f1-aea3-265ac6ec2a40"
      },
      "execution_count": 21,
      "outputs": [
        {
          "output_type": "stream",
          "name": "stdout",
          "text": [
            "cuda:0\n"
          ]
        }
      ]
    },
    {
      "cell_type": "code",
      "source": [
        "from torch.utils.data import DataLoader\n",
        "#dataset 몇개를 사용할 것인지 결정 \n",
        "idx = 1000\n",
        "tr, va, te = load_dataset(idx).call(5)"
      ],
      "metadata": {
        "colab": {
          "base_uri": "https://localhost:8080/"
        },
        "id": "GVrkQ9o_sU_E",
        "outputId": "f05a8d59-f025-421f-fb01-88a1cc44a5b5"
      },
      "execution_count": 22,
      "outputs": [
        {
          "output_type": "stream",
          "name": "stdout",
          "text": [
            "(4000, 1, 500)\n",
            "(4000, 4)\n"
          ]
        }
      ]
    },
    {
      "cell_type": "code",
      "source": [
        "# dataset loader\n",
        "trainEEG = EEGLoader(tr, device)\n",
        "valEEG = EEGLoader(va,device)\n",
        "print(\"tainLoader\")\n",
        "trainLoader = DataLoader(trainEEG, batch_size = batch_size, shuffle=True)\n",
        "valLoder = DataLoader(valEEG, batch_size = batch_size, shuffle=True)"
      ],
      "metadata": {
        "colab": {
          "base_uri": "https://localhost:8080/"
        },
        "id": "EuVYaAzUbg8h",
        "outputId": "422c721d-01c4-4e2e-c2bc-a6205d9a92ad"
      },
      "execution_count": 32,
      "outputs": [
        {
          "output_type": "stream",
          "name": "stdout",
          "text": [
            "tainLoader\n"
          ]
        }
      ]
    },
    {
      "cell_type": "code",
      "source": [
        "class Temporal_Trend_Identification_Task_Loss(torch.nn.modules.loss._Loss):\n",
        "    def __init__(self, device = None):\n",
        "        super().__init__()\n",
        "        self.device = device\n",
        "\n",
        "    def forward(self, batch, encoder, train):\n",
        "        x,y = batch\n",
        "        CrossEL = torch.nn.CrossEntropyLoss()\n",
        "        rept = encoder.forward(torch.Tensor(x))\n",
        "        # print('y:',y.shape)\n",
        "        # print('x:',rept.shape)\n",
        "        loss = CrossEL(rept, torch.Tensor(y))\n",
        "\n",
        "        if train:\n",
        "            loss.backward(retain_graph=True)\n",
        "        return loss"
      ],
      "metadata": {
        "id": "CTIR3OUmfCqv"
      },
      "execution_count": 24,
      "outputs": []
    },
    {
      "cell_type": "code",
      "source": [
        "model = feature_extractor3().to(device)\n",
        "#model.to(device)\n",
        "criterion = Temporal_Trend_Identification_Task_Loss(device)\n",
        "optimizer = torch.optim.Adam(model.parameters(), lr=learning_rate)"
      ],
      "metadata": {
        "id": "SPyAFNfIfCtD"
      },
      "execution_count": 33,
      "outputs": []
    },
    {
      "cell_type": "code",
      "source": [
        "print(model)"
      ],
      "metadata": {
        "colab": {
          "base_uri": "https://localhost:8080/"
        },
        "id": "Jcpn9ultjyWu",
        "outputId": "b958681e-a600-411c-a418-a32029c73050"
      },
      "execution_count": 26,
      "outputs": [
        {
          "output_type": "stream",
          "name": "stdout",
          "text": [
            "feature_extractor3(\n",
            "  (activation): LeakyReLU(negative_slope=0.01)\n",
            "  (softmax): Softmax(dim=None)\n",
            "  (conv1t): SeparableConv1d(\n",
            "    (dwconv): Conv1d(1, 1, kernel_size=(10,), stride=(1,), padding=same)\n",
            "    (dwconv_normalization): BatchNorm1d(1, eps=1e-05, momentum=0.1, affine=True, track_running_stats=True)\n",
            "    (dwconv_activation): ReLU()\n",
            "    (pwconv): Conv1d(1, 16, kernel_size=(1,), stride=(1,))\n",
            "    (pwconv_normalization): BatchNorm1d(16, eps=1e-05, momentum=0.1, affine=True, track_running_stats=True)\n",
            "    (pwconv_activation): ReLU()\n",
            "  )\n",
            "  (conv1s): Conv1d(16, 16, kernel_size=(1,), stride=(1,))\n",
            "  (conv2t): SeparableConv1d(\n",
            "    (dwconv): Conv1d(16, 16, kernel_size=(10,), stride=(1,), padding=same, groups=16)\n",
            "    (dwconv_normalization): BatchNorm1d(16, eps=1e-05, momentum=0.1, affine=True, track_running_stats=True)\n",
            "    (dwconv_activation): ReLU()\n",
            "    (pwconv): Conv1d(16, 32, kernel_size=(1,), stride=(1,))\n",
            "    (pwconv_normalization): BatchNorm1d(32, eps=1e-05, momentum=0.1, affine=True, track_running_stats=True)\n",
            "    (pwconv_activation): ReLU()\n",
            "  )\n",
            "  (conv2s): Conv1d(32, 32, kernel_size=(1,), stride=(1,))\n",
            "  (conv3t): SeparableConv1d(\n",
            "    (dwconv): Conv1d(32, 32, kernel_size=(10,), stride=(1,), padding=same, groups=32)\n",
            "    (dwconv_normalization): BatchNorm1d(32, eps=1e-05, momentum=0.1, affine=True, track_running_stats=True)\n",
            "    (dwconv_activation): ReLU()\n",
            "    (pwconv): Conv1d(32, 64, kernel_size=(1,), stride=(1,))\n",
            "    (pwconv_normalization): BatchNorm1d(64, eps=1e-05, momentum=0.1, affine=True, track_running_stats=True)\n",
            "    (pwconv_activation): ReLU()\n",
            "  )\n",
            "  (conv3s): Conv1d(64, 64, kernel_size=(1,), stride=(1,))\n",
            "  (flatten): Flatten(start_dim=1, end_dim=-1)\n",
            "  (dropout): Dropout(p=0.3, inplace=False)\n",
            "  (Linear): Linear(in_features=56000, out_features=4, bias=True)\n",
            ")\n"
          ]
        }
      ]
    },
    {
      "cell_type": "markdown",
      "source": [
        "learing"
      ],
      "metadata": {
        "id": "-vsPmCptfb6V"
      }
    },
    {
      "cell_type": "code",
      "source": [
        "import matplotlib.pyplot as plt\n",
        "\n",
        "loss_tr = []\n",
        "loss_val = []\n",
        "for epoch in range(epochs):\n",
        "    loss_ep = 0  # add batch loss in epoch\n",
        "    for batch_idx, batch in enumerate(trainLoader):\n",
        "        loss_batch = criterion.forward(batch, model, train = True)\n",
        "        optimizer.step()\n",
        "        loss_ep += loss_batch\n",
        "    loss_ep =  loss_ep/4/idx*5/3\n",
        "    loss_tr.append(loss_ep.item())\n",
        "\n",
        "    loss_ep_val = 0\n",
        "    for batch_idx, batch in enumerate(valLoder):\n",
        "        loss_batch_val = criterion.forward(batch, model, train = False)\n",
        "        loss_ep_val += loss_batch_val\n",
        "    \n",
        "    loss_ep_val =  loss_ep_val/idx/4*5\n",
        "    loss_val.append(loss_ep_val.item())\n",
        "    print(\"epoch : \", epoch, \"   train loss : \", loss_ep.item(), \"    val loss : \", loss_ep_val.item())\n"
      ],
      "metadata": {
        "colab": {
          "base_uri": "https://localhost:8080/"
        },
        "id": "ANWc4cbqfCvK",
        "outputId": "144c2f61-353a-4c20-81e9-72e15b44d464"
      },
      "execution_count": 34,
      "outputs": [
        {
          "output_type": "stream",
          "name": "stderr",
          "text": [
            "/usr/local/lib/python3.7/dist-packages/ipykernel_launcher.py:57: UserWarning: Implicit dimension choice for softmax has been deprecated. Change the call to include dim=X as an argument.\n"
          ]
        },
        {
          "output_type": "stream",
          "name": "stdout",
          "text": [
            "epoch :  0    train loss :  0.9133847951889038     val loss :  0.023645201697945595\n",
            "epoch :  1    train loss :  0.8424844741821289     val loss :  0.023558691143989563\n",
            "epoch :  2    train loss :  0.7737693786621094     val loss :  0.021561328321695328\n",
            "epoch :  3    train loss :  0.7276619672775269     val loss :  0.020346639677882195\n",
            "epoch :  4    train loss :  0.6986038684844971     val loss :  0.020770711824297905\n",
            "epoch :  5    train loss :  0.6836955547332764     val loss :  0.019325241446495056\n",
            "epoch :  6    train loss :  0.6733548045158386     val loss :  0.018475886434316635\n",
            "epoch :  7    train loss :  0.6683288812637329     val loss :  0.01832776516675949\n",
            "epoch :  8    train loss :  0.6645386219024658     val loss :  0.01889132149517536\n",
            "epoch :  9    train loss :  0.6628965735435486     val loss :  0.018625449389219284\n",
            "epoch :  10    train loss :  0.6614371538162231     val loss :  0.018461301922798157\n",
            "epoch :  11    train loss :  0.6592187285423279     val loss :  0.01861865073442459\n",
            "epoch :  12    train loss :  0.6573305726051331     val loss :  0.01796761341392994\n",
            "epoch :  13    train loss :  0.6557943820953369     val loss :  0.018014198169112206\n"
          ]
        }
      ]
    },
    {
      "cell_type": "code",
      "source": [
        "print(loss_tr)\n",
        "print(loss_val)\n",
        "plt.subplot(2,2,1)\n",
        "plt.plot(range(epochs), loss_tr, label='Loss', color='red')\n",
        "plt.title('tr_loss')\n",
        "\n",
        "plt.subplot(2,2,2)\n",
        "plt.plot(range(epochs), loss_val, label='Loss', color='blue')\n",
        "plt.title('val_loss')\n"
      ],
      "metadata": {
        "colab": {
          "base_uri": "https://localhost:8080/",
          "height": 237
        },
        "id": "yqo5atQngb6K",
        "outputId": "3d1da022-8bbe-4683-b581-0f7473afee6f"
      },
      "execution_count": 36,
      "outputs": [
        {
          "output_type": "stream",
          "name": "stdout",
          "text": [
            "[0.9133847951889038, 0.8424844741821289, 0.7737693786621094, 0.7276619672775269, 0.6986038684844971, 0.6836955547332764, 0.6733548045158386, 0.6683288812637329, 0.6645386219024658, 0.6628965735435486, 0.6614371538162231, 0.6592187285423279, 0.6573305726051331, 0.6557943820953369]\n",
            "[0.023645201697945595, 0.023558691143989563, 0.021561328321695328, 0.020346639677882195, 0.020770711824297905, 0.019325241446495056, 0.018475886434316635, 0.01832776516675949, 0.01889132149517536, 0.018625449389219284, 0.018461301922798157, 0.01861865073442459, 0.01796761341392994, 0.018014198169112206]\n"
          ]
        },
        {
          "output_type": "execute_result",
          "data": {
            "text/plain": [
              "Text(0.5, 1.0, 'val_loss')"
            ]
          },
          "metadata": {},
          "execution_count": 36
        },
        {
          "output_type": "display_data",
          "data": {
            "text/plain": [
              "<Figure size 432x288 with 2 Axes>"
            ],
            "image/png": "[encoded data removed]"
          },
          "metadata": {
            "needs_background": "light"
          }
        }
      ]
    },
    {
      "cell_type": "code",
      "source": [],
      "metadata": {
        "id": "EeM8nKSmjVgX"
      },
      "execution_count": null,
      "outputs": []
    }
  ]
}