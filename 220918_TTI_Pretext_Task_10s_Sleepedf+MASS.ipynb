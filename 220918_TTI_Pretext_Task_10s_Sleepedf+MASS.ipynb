{
  "nbformat": 4,
  "nbformat_minor": 0,
  "metadata": {
    "colab": {
      "provenance": [],
      "collapsed_sections": [],
      "include_colab_link": true
    },
    "kernelspec": {
      "name": "python3",
      "display_name": "Python 3"
    },
    "language_info": {
      "name": "python"
    },
    "accelerator": "GPU"
  },
  "cells": [
    {
      "cell_type": "markdown",
      "metadata": {
        "id": "view-in-github",
        "colab_type": "text"
      },
      "source": [
        "<a href=\"https://colab.research.google.com/github/SangMin316/EEG_Data/blob/main/220918_TTI_Pretext_Task_10s_Sleepedf%2BMASS.ipynb\" target=\"_parent\"><img src=\"https://colab.research.google.com/assets/colab-badge.svg\" alt=\"Open In Colab\"/></a>"
      ]
    },
    {
      "cell_type": "code",
      "execution_count": 1,
      "metadata": {
        "colab": {
          "base_uri": "https://localhost:8080/"
        },
        "id": "uk8X8KhB2RP9",
        "outputId": "11d28457-cbb7-401d-9bf4-cf18098a0865"
      },
      "outputs": [
        {
          "output_type": "stream",
          "name": "stdout",
          "text": [
            "Mounted at /content/drive\n"
          ]
        }
      ],
      "source": [
        "from google.colab import drive\n",
        "drive.mount('/content/drive')"
      ]
    },
    {
      "cell_type": "markdown",
      "source": [
        "data analysis"
      ],
      "metadata": {
        "id": "R8DQbqbUT1ZE"
      }
    },
    {
      "cell_type": "code",
      "source": [
        "import pickle\n",
        "\n",
        "with open('/content/drive/MyDrive/EEG_data/Sleep/150.pickle','rb') as f:\n",
        "    sample_data =  pickle.load(f)\n",
        "print(sample_data.shape)\n"
      ],
      "metadata": {
        "colab": {
          "base_uri": "https://localhost:8080/"
        },
        "id": "rVZtU8jnT1en",
        "outputId": "557f7488-c8d3-4b3c-eea1-3278f1f4b6f1"
      },
      "execution_count": 2,
      "outputs": [
        {
          "output_type": "stream",
          "name": "stdout",
          "text": [
            "(2, 8106000)\n"
          ]
        }
      ]
    },
    {
      "cell_type": "code",
      "source": [
        "import pandas as pd\n",
        "import numpy as np\n",
        "df = pd.DataFrame(np.transpose(sample_data), columns = ['ch1','ch2'])\n"
      ],
      "metadata": {
        "id": "glByLgfcEzw-"
      },
      "execution_count": 3,
      "outputs": []
    },
    {
      "cell_type": "code",
      "source": [
        "df.info()"
      ],
      "metadata": {
        "colab": {
          "base_uri": "https://localhost:8080/"
        },
        "id": "DhuDOExkFKjZ",
        "outputId": "a56ddb32-6026-40e7-cbbf-e138997e3e80"
      },
      "execution_count": 4,
      "outputs": [
        {
          "output_type": "stream",
          "name": "stdout",
          "text": [
            "<class 'pandas.core.frame.DataFrame'>\n",
            "RangeIndex: 8106000 entries, 0 to 8105999\n",
            "Data columns (total 2 columns):\n",
            " #   Column  Dtype  \n",
            "---  ------  -----  \n",
            " 0   ch1     float64\n",
            " 1   ch2     float64\n",
            "dtypes: float64(2)\n",
            "memory usage: 123.7 MB\n"
          ]
        }
      ]
    },
    {
      "cell_type": "code",
      "source": [
        "df['ch1'].sort_values()"
      ],
      "metadata": {
        "colab": {
          "base_uri": "https://localhost:8080/"
        },
        "id": "2x5V8SXEUA8S",
        "outputId": "44b98502-a6e3-4683-bba5-78ad161999aa"
      },
      "execution_count": 5,
      "outputs": [
        {
          "output_type": "execute_result",
          "data": {
            "text/plain": [
              "6681412   -181.0\n",
              "1981486   -181.0\n",
              "1981487   -181.0\n",
              "1981488   -181.0\n",
              "1981489   -181.0\n",
              "           ...  \n",
              "5968799    179.0\n",
              "5424095    179.0\n",
              "1572198    179.0\n",
              "698369     179.0\n",
              "698367     179.0\n",
              "Name: ch1, Length: 8106000, dtype: float64"
            ]
          },
          "metadata": {},
          "execution_count": 5
        }
      ]
    },
    {
      "cell_type": "code",
      "source": [
        "df['ch2'].sort_values()"
      ],
      "metadata": {
        "colab": {
          "base_uri": "https://localhost:8080/"
        },
        "id": "9u8XuMaIWaM4",
        "outputId": "d8ba5017-7f49-4289-e160-ae37e9960fae"
      },
      "execution_count": 6,
      "outputs": [
        {
          "output_type": "execute_result",
          "data": {
            "text/plain": [
              "6322239   -184.0\n",
              "6322237   -184.0\n",
              "6322238   -184.0\n",
              "6322240   -184.0\n",
              "6322241   -184.0\n",
              "           ...  \n",
              "6681416    182.0\n",
              "6681420    182.0\n",
              "6681419    182.0\n",
              "6681417    182.0\n",
              "7325001    182.0\n",
              "Name: ch2, Length: 8106000, dtype: float64"
            ]
          },
          "metadata": {},
          "execution_count": 6
        }
      ]
    },
    {
      "cell_type": "markdown",
      "source": [
        "\n",
        "signal values are about -182 ~ 182.\n",
        "\n",
        "----"
      ],
      "metadata": {
        "id": "LpYwnqGEqkup"
      }
    },
    {
      "cell_type": "markdown",
      "source": [
        "Plot the signal"
      ],
      "metadata": {
        "id": "P9SNlHLfrsBH"
      }
    },
    {
      "cell_type": "code",
      "source": [
        "import matplotlib.pyplot as plt\n",
        "x = np.linspace(0,100000,100000)\n",
        "plt.figure(figsize =(20, 10))\n",
        "\n",
        "for i in range(8):\n",
        "  y = sample_data[1,i*100000:(1+i)*100000]\n",
        "  x\n",
        "  plt.subplot(4, 2, i+1)\n",
        "  plt.plot(x,y)\n",
        "plt.show()  "
      ],
      "metadata": {
        "colab": {
          "base_uri": "https://localhost:8080/",
          "height": 327
        },
        "id": "1rO2kDdwXnUg",
        "outputId": "854e5c48-0ce4-400d-9521-9604ad411d62"
      },
      "execution_count": 7,
      "outputs": [
        {
          "output_type": "display_data",
          "data": {
            "text/plain": [
              "<Figure size 1440x720 with 8 Axes>"
            ],
            "image/png": "[encoded data removed]"
          },
          "metadata": {
            "needs_background": "light"
          }
        }
      ]
    },
    {
      "cell_type": "markdown",
      "source": [
        "data augmentation"
      ],
      "metadata": {
        "id": "vOOL5nJ12gOr"
      }
    },
    {
      "cell_type": "code",
      "source": [
        "import numpy as np\n",
        "def MAF(x,window):\n",
        "    new_signals = np.zeros(x.shape)\n",
        "    sample_num, T = x.shape\n",
        "    for i in range(sample_num):\n",
        "      noise = np.convolve(x[i], np.ones(window),'same')/window\n",
        "      new_signals[i] = x[i] - noise\n",
        "   \n",
        "    return new_signals\n",
        "\n",
        "\n",
        "def asln(x,a,b):\n",
        "\n",
        "    C,T = x.shape\n",
        "    noise = a*np.linspace(0,1,T) - b*np.ones(T)\n",
        "    noise = noise*np.ones((C,1))\n",
        "    n = np.random.randint(2)\n",
        "    if n == 0:\n",
        "      new_signals = x + noise\n",
        "    else:\n",
        "      new_signals = x - noise\n",
        "    return new_signals\n",
        "\n",
        "def apn(x,c,d):\n",
        "    C,T = x.shape\n",
        "    noise = np.linspace(-np.pi+d,np.pi+d,T) - d*np.ones(T)\n",
        "    noise = c*np.sin(noise)*np.ones((C,1))\n",
        "    new_signals = x + noise\n",
        "    return new_signals"
      ],
      "metadata": {
        "id": "6qwJD_tn2fUk"
      },
      "execution_count": 8,
      "outputs": []
    },
    {
      "cell_type": "code",
      "source": [
        "def augmented_data(x,window,a,b,c,d):\n",
        "      samples, sequence_length = x.shape\n",
        "      X = []\n",
        "      Y = []\n",
        "      X.append(x)\n",
        "\n",
        "      x_maf = MAF(x,window)\n",
        "      x_asln = asln(x,a,b)\n",
        "      x_apn = apn(x,c,d)\n",
        "      \n",
        "      \n",
        "      X.append(x_maf)\n",
        "      X.append(x_asln)\n",
        "      X.append(x_apn)\n",
        "      \n",
        "      del x\n",
        "\n",
        "      #one-hot encoding\n",
        "      original = [1,0,0,0]\n",
        "      s_maf = [0,1,0,0]\n",
        "      s_asln = [0,0,1,0]\n",
        "      s_apn = [0,0,0,1]\n",
        "\n",
        "      Y.append(original*np.ones((samples,1)))\n",
        "      Y.append(s_maf*np.ones((samples,1)))\n",
        "      Y.append(s_asln*np.ones((samples,1)))\n",
        "      Y.append(s_apn*np.ones((samples,1)))\n",
        "      \n",
        "      X = np.array(X)\n",
        "      print(X.shape)\n",
        "\n",
        "      X = X.reshape(4*samples,sequence_length)\n",
        "      #print(X.shape)\n",
        "      Y = np.array(Y)\n",
        "      Y = Y.reshape(4*samples,4)\n",
        "      \n",
        "      return X,Y "
      ],
      "metadata": {
        "id": "xrfjy-u82nJJ"
      },
      "execution_count": 9,
      "outputs": []
    },
    {
      "cell_type": "code",
      "source": [
        "sample_data = sample_data[:,:1000]\n",
        "print(sample_data.shape)"
      ],
      "metadata": {
        "colab": {
          "base_uri": "https://localhost:8080/"
        },
        "id": "wEyJFM7QEy6L",
        "outputId": "00cc48af-76ef-4adc-cdcf-8dd52f5d6c6c"
      },
      "execution_count": 10,
      "outputs": [
        {
          "output_type": "stream",
          "name": "stdout",
          "text": [
            "(2, 1000)\n"
          ]
        }
      ]
    },
    {
      "cell_type": "code",
      "source": [
        "\n",
        "x,y = augmented_data(sample_data,50,50,0,50,1.5)\n",
        "print(x.shape)\n",
        "print(y.shape)\n"
      ],
      "metadata": {
        "colab": {
          "base_uri": "https://localhost:8080/"
        },
        "id": "n7dl51CO3a_S",
        "outputId": "c7c9e811-784b-4816-aa31-d1a2420ec4e8"
      },
      "execution_count": 11,
      "outputs": [
        {
          "output_type": "stream",
          "name": "stdout",
          "text": [
            "(4, 2, 1000)\n",
            "(8, 1000)\n",
            "(8, 4)\n"
          ]
        }
      ]
    },
    {
      "cell_type": "markdown",
      "source": [
        "plot the augmented signals in 2 channels"
      ],
      "metadata": {
        "id": "NQoVe5xY5q-k"
      }
    },
    {
      "cell_type": "code",
      "source": [
        "sequence_length = 1000\n",
        "t = np.linspace(0,sequence_length,sequence_length)\n",
        "plt.figure(figsize =(12, 6))\n",
        "label = ['S1_raw','S2_raw','S1_stationary','S2_stationary',\n",
        "         'S1_trendstationary','S2_trendstationary','S1_cyclostationary','S2_cyclostationary']\n",
        "\n",
        "\n",
        "label = ['raw','stationary','trendstationary','cyclostationary']\n",
        "\n",
        "\n",
        "for i in range(4):\n",
        "  k = x[i*2]\n",
        "  print(y[i*2])\n",
        "  plt.subplot(2, 2, i+1)\n",
        "  plt.plot(t,k)\n",
        "  plt.title(label[i])\n",
        "plt.show()  "
      ],
      "metadata": {
        "colab": {
          "base_uri": "https://localhost:8080/",
          "height": 415
        },
        "id": "aKUmdbHK5qKG",
        "outputId": "79743231-4f37-4320-c495-bb58bb002184"
      },
      "execution_count": 12,
      "outputs": [
        {
          "output_type": "stream",
          "name": "stdout",
          "text": [
            "[1. 0. 0. 0.]\n",
            "[0. 1. 0. 0.]\n",
            "[0. 0. 1. 0.]\n",
            "[0. 0. 0. 1.]\n"
          ]
        },
        {
          "output_type": "display_data",
          "data": {
            "text/plain": [
              "<Figure size 864x432 with 4 Axes>"
            ],
            "image/png": "[encoded data removed]"
          },
          "metadata": {
            "needs_background": "light"
          }
        }
      ]
    },
    {
      "cell_type": "code",
      "source": [
        "!pip install mne"
      ],
      "metadata": {
        "colab": {
          "base_uri": "https://localhost:8080/"
        },
        "id": "QanSeKExzmv2",
        "outputId": "f0d0e977-7883-4076-e561-4f5983693ada"
      },
      "execution_count": 13,
      "outputs": [
        {
          "output_type": "stream",
          "name": "stdout",
          "text": [
            "Looking in indexes: https://pypi.org/simple, https://us-python.pkg.dev/colab-wheels/public/simple/\n",
            "Collecting mne\n",
            "  Downloading mne-1.1.1-py3-none-any.whl (7.5 MB)\n",
            "\u001b[K     |████████████████████████████████| 7.5 MB 5.1 MB/s \n",
            "\u001b[?25hRequirement already satisfied: jinja2 in /usr/local/lib/python3.7/dist-packages (from mne) (2.11.3)\n",
            "Requirement already satisfied: tqdm in /usr/local/lib/python3.7/dist-packages (from mne) (4.64.1)\n",
            "Requirement already satisfied: packaging in /usr/local/lib/python3.7/dist-packages (from mne) (21.3)\n",
            "Requirement already satisfied: decorator in /usr/local/lib/python3.7/dist-packages (from mne) (4.4.2)\n",
            "Requirement already satisfied: numpy>=1.15.4 in /usr/local/lib/python3.7/dist-packages (from mne) (1.21.6)\n",
            "Requirement already satisfied: pooch>=1.5 in /usr/local/lib/python3.7/dist-packages (from mne) (1.6.0)\n",
            "Requirement already satisfied: scipy>=1.1.0 in /usr/local/lib/python3.7/dist-packages (from mne) (1.7.3)\n",
            "Requirement already satisfied: matplotlib in /usr/local/lib/python3.7/dist-packages (from mne) (3.2.2)\n",
            "Requirement already satisfied: appdirs>=1.3.0 in /usr/local/lib/python3.7/dist-packages (from pooch>=1.5->mne) (1.4.4)\n",
            "Requirement already satisfied: requests>=2.19.0 in /usr/local/lib/python3.7/dist-packages (from pooch>=1.5->mne) (2.23.0)\n",
            "Requirement already satisfied: pyparsing!=3.0.5,>=2.0.2 in /usr/local/lib/python3.7/dist-packages (from packaging->mne) (3.0.9)\n",
            "Requirement already satisfied: idna<3,>=2.5 in /usr/local/lib/python3.7/dist-packages (from requests>=2.19.0->pooch>=1.5->mne) (2.10)\n",
            "Requirement already satisfied: chardet<4,>=3.0.2 in /usr/local/lib/python3.7/dist-packages (from requests>=2.19.0->pooch>=1.5->mne) (3.0.4)\n",
            "Requirement already satisfied: certifi>=2017.4.17 in /usr/local/lib/python3.7/dist-packages (from requests>=2.19.0->pooch>=1.5->mne) (2022.6.15)\n",
            "Requirement already satisfied: urllib3!=1.25.0,!=1.25.1,<1.26,>=1.21.1 in /usr/local/lib/python3.7/dist-packages (from requests>=2.19.0->pooch>=1.5->mne) (1.24.3)\n",
            "Requirement already satisfied: MarkupSafe>=0.23 in /usr/local/lib/python3.7/dist-packages (from jinja2->mne) (2.0.1)\n",
            "Requirement already satisfied: kiwisolver>=1.0.1 in /usr/local/lib/python3.7/dist-packages (from matplotlib->mne) (1.4.4)\n",
            "Requirement already satisfied: python-dateutil>=2.1 in /usr/local/lib/python3.7/dist-packages (from matplotlib->mne) (2.8.2)\n",
            "Requirement already satisfied: cycler>=0.10 in /usr/local/lib/python3.7/dist-packages (from matplotlib->mne) (0.11.0)\n",
            "Requirement already satisfied: typing-extensions in /usr/local/lib/python3.7/dist-packages (from kiwisolver>=1.0.1->matplotlib->mne) (4.1.1)\n",
            "Requirement already satisfied: six>=1.5 in /usr/local/lib/python3.7/dist-packages (from python-dateutil>=2.1->matplotlib->mne) (1.15.0)\n",
            "Installing collected packages: mne\n",
            "Successfully installed mne-1.1.1\n"
          ]
        }
      ]
    },
    {
      "cell_type": "code",
      "source": [
        "import glob\n",
        "import pickle\n",
        "import mne\n",
        "\n",
        "class load_dataset():\n",
        "    def __init__(self, sbj_idx):\n",
        "        self.sbj_idx = sbj_idx\n",
        "        self.sequence_length = 2000\n",
        "\n",
        "    def preprocessing_sleep_edf(self,data):\n",
        "        data = mne.filter.resample(data, up = 2.0) # upsampling to 200Hz  \n",
        "        return data\n",
        "    \n",
        "    def preprocessing_MASS(self,data):\n",
        "        data = mne.filter.resample(data, down = 1.28) # downsampling to 200Hz  \n",
        "        return data\n",
        "\n",
        "    def split_data(self, data):\n",
        "        L = self.sequence_length\n",
        "        channels, length = data.shape\n",
        "        a = 2000*int(length/2000)\n",
        "        if length == a:\n",
        "          data = np.reshape(data,(int(length/L*channels),1,L))\n",
        "        else:\n",
        "          data = data[:,:a]\n",
        "          data = np.reshape(data,(int(length/L*channels)-1,1,L))\n",
        "        data = np.squeeze(data,1)\n",
        "        print(data.shape)\n",
        "        return data\n",
        "\n",
        "    #수정 필요, \n",
        "    #폴더에 MASS sample 1개, Sleep edf data 2개 넣어놓고 가져오는 방법,\n",
        "    #MASS data와 Sleep data 합했을 때 어떻게 결과 나오는지 보기 위한 임시 방편.\n",
        "    def load_data(self):\n",
        "        X = []\n",
        "        data_list = glob.glob('/content/drive/MyDrive/EEG_data/Sleep'+'/**')\n",
        "        for sbj_idx in range(self.sbj_idx):\n",
        "          a = data_list[sbj_idx]\n",
        "          print(sbj_idx)\n",
        "          with open(file = a , mode='rb') as f:\n",
        "            sample = pickle.load(f)\n",
        "          if sbj_idx <= 2:\n",
        "            sample = self.preprocessing_sleep_edf(sample)\n",
        "          else:\n",
        "            sample = self.preprocessing_MASS(sample)\n",
        "          sample = self.split_data(sample)\n",
        "          X.extend(sample)\n",
        "        return np.array(X)\n",
        "\n",
        "\n",
        "    def call(self, fold):\n",
        "        X = self.load_data()\n",
        "        num_samples = int(X.shape[0]/(5)) # Samples per fold\n",
        "\n",
        "        # Set training/validation/testing data indices\n",
        "        rand_idx = np.random.RandomState(seed=981220).permutation(X.shape[0])\n",
        "        test_idx = rand_idx[(fold - 1) * num_samples:fold * num_samples]\n",
        "        train_idx = np.setdiff1d(rand_idx, test_idx)\n",
        "        valid_idx = np.random.RandomState(seed=3940).permutation(train_idx.shape[0])[:num_samples]\n",
        "        valid_idx = train_idx[valid_idx]\n",
        "        train_idx = np.setdiff1d(train_idx, valid_idx)\n",
        "\n",
        "\n",
        "        X_tr, X_vl, X_ts = X[train_idx, ...], X[valid_idx, ...], X[test_idx, ...]\n",
        "        # Y_tr, Y_vl, Y_ts = Y[train_idx, ...], Y[valid_idx, ...], Y[test_idx, ...]\n",
        "        del X\n",
        "        return X_tr, X_vl ,X_ts"
      ],
      "metadata": {
        "id": "MUGvbj1vhSb_"
      },
      "execution_count": 14,
      "outputs": []
    },
    {
      "cell_type": "code",
      "source": [],
      "metadata": {
        "id": "h5wwhPA8WP3q"
      },
      "execution_count": null,
      "outputs": []
    },
    {
      "cell_type": "code",
      "source": [
        "import glob\n",
        "data_list = glob.glob('/content/drive/MyDrive/EEG_data/Sleep'+'/**')\n",
        "print(data_list)"
      ],
      "metadata": {
        "colab": {
          "base_uri": "https://localhost:8080/"
        },
        "id": "3js-oEwYNZFe",
        "outputId": "8c7557c1-4b69-40b9-c994-2e016c055955"
      },
      "execution_count": 15,
      "outputs": [
        {
          "output_type": "stream",
          "name": "stdout",
          "text": [
            "['/content/drive/MyDrive/EEG_data/Sleep/150.pickle', '/content/drive/MyDrive/EEG_data/Sleep/151.pickle', '/content/drive/MyDrive/EEG_data/Sleep/SS1_1.pickle', '/content/drive/MyDrive/EEG_data/Sleep/SS1_2.pickle', '/content/drive/MyDrive/EEG_data/Sleep/SS1_3.pickle']\n"
          ]
        }
      ]
    },
    {
      "cell_type": "markdown",
      "metadata": {
        "id": "T7n1GtEHbM-x"
      },
      "source": [
        "EEGLoader"
      ]
    },
    {
      "cell_type": "code",
      "execution_count": 16,
      "metadata": {
        "id": "PIdBrrmubIvX"
      },
      "outputs": [],
      "source": [
        "from torch.utils.data import Dataset\n",
        "import torch\n",
        "\n",
        "class EEGLoader(Dataset):\n",
        "    def __init__(self, data, device):\n",
        "        self.x_data = data\n",
        "\n",
        "        # self.x_data = torch.Tensor(X_data).to(device)\n",
        "        \n",
        "    def __len__(self):\n",
        "        return len(self.x_data)\n",
        "\n",
        "    def __getitem__(self, index):\n",
        "        return self.x_data[index,:]\n",
        "\n",
        "    def getallitem(self):\n",
        "        return self.x_data"
      ]
    },
    {
      "cell_type": "markdown",
      "metadata": {
        "id": "fjz8xp2hhpB4"
      },
      "source": [
        "model"
      ]
    },
    {
      "cell_type": "code",
      "execution_count": 17,
      "metadata": {
        "colab": {
          "base_uri": "https://localhost:8080/"
        },
        "outputId": "609cb570-3077-4736-c1fb-40469b7dea2e",
        "id": "cQLTc_e4hpB4"
      },
      "outputs": [
        {
          "output_type": "stream",
          "name": "stdout",
          "text": [
            "Looking in indexes: https://pypi.org/simple, https://us-python.pkg.dev/colab-wheels/public/simple/\n",
            "Collecting separableconv-torch\n",
            "  Downloading separableconv_torch-0.1.0-py3-none-any.whl (11 kB)\n",
            "Requirement already satisfied: numpy in /usr/local/lib/python3.7/dist-packages (from separableconv-torch) (1.21.6)\n",
            "Requirement already satisfied: torchvision in /usr/local/lib/python3.7/dist-packages (from separableconv-torch) (0.13.1+cu113)\n",
            "Requirement already satisfied: torch in /usr/local/lib/python3.7/dist-packages (from separableconv-torch) (1.12.1+cu113)\n",
            "Requirement already satisfied: typing-extensions in /usr/local/lib/python3.7/dist-packages (from torch->separableconv-torch) (4.1.1)\n",
            "Requirement already satisfied: pillow!=8.3.*,>=5.3.0 in /usr/local/lib/python3.7/dist-packages (from torchvision->separableconv-torch) (7.1.2)\n",
            "Requirement already satisfied: requests in /usr/local/lib/python3.7/dist-packages (from torchvision->separableconv-torch) (2.23.0)\n",
            "Requirement already satisfied: certifi>=2017.4.17 in /usr/local/lib/python3.7/dist-packages (from requests->torchvision->separableconv-torch) (2022.6.15)\n",
            "Requirement already satisfied: urllib3!=1.25.0,!=1.25.1,<1.26,>=1.21.1 in /usr/local/lib/python3.7/dist-packages (from requests->torchvision->separableconv-torch) (1.24.3)\n",
            "Requirement already satisfied: idna<3,>=2.5 in /usr/local/lib/python3.7/dist-packages (from requests->torchvision->separableconv-torch) (2.10)\n",
            "Requirement already satisfied: chardet<4,>=3.0.2 in /usr/local/lib/python3.7/dist-packages (from requests->torchvision->separableconv-torch) (3.0.4)\n",
            "Installing collected packages: separableconv-torch\n",
            "Successfully installed separableconv-torch-0.1.0\n"
          ]
        }
      ],
      "source": [
        "pip install separableconv-torch"
      ]
    },
    {
      "cell_type": "code",
      "execution_count": 18,
      "metadata": {
        "id": "v4F3jTLIbT0R"
      },
      "outputs": [],
      "source": [
        "import torch\n",
        "import torch.nn as nn\n",
        "import separableconv.nn as nns\n",
        "\n",
        "def weight_init_xavier_uniform(submodule):\n",
        "    if isinstance(submodule, nn.SeparableConv1d):\n",
        "        torch.nn.init.xavier_uniform_(submodule.weight)\n",
        "\n",
        "    if isinstance(submodule, nn.Linear):\n",
        "        torch.nn.init.xavier_uniform_(submodule.weight)\n",
        "\n",
        "\n",
        "class feature_extractor3(nn.Module):\n",
        "    def __init__(self):\n",
        "        super(feature_extractor3,self).__init__()\n",
        "        \n",
        "        self.channels = 1 # we use only single channel \n",
        "        \n",
        "        # Regularizer\n",
        "        #self.regularizer = tf.keras.regularizers.L1L2(l1=.001, l2=.01)\n",
        "\n",
        "        # Activation functions\n",
        "        self.activation = nn.LeakyReLU()\n",
        "        self.bn = nn.BatchNorm1d(1)\n",
        "\n",
        "        # self.conv2t = nns.SeparableConv1d(16,32,10,padding ='same') (in_channels, out_channels, kernel size,,,) \n",
        "\n",
        "        self.softmax = nn.Softmax()\n",
        "        self.conv1t = nns.SeparableConv1d(1,8, 30, padding ='same') #in_channels, out_channels, kernel_size, \n",
        "        self.conv1s = nn.Conv1d(8,8,self.channels)\n",
        "        self.conv2t = nns.SeparableConv1d(8,16,15,padding ='same') \n",
        "        self.conv2s = nn.Conv1d(16,16,self.channels)\n",
        "        self.conv3t = nns.SeparableConv1d(16,32,5,padding ='same')\n",
        "        self.conv3s = nn.Conv1d(32,32,self.channels)\n",
        "          \n",
        "          \n",
        "        # Flatteninig\n",
        "        self.flatten = nn.Flatten()\n",
        "\n",
        "        # Dropout\n",
        "        self.dropout = nn.Dropout(0.5)\n",
        "\n",
        "        # Decision making\n",
        "        self.Linear = nn.Linear(112000 ,4) # \n",
        "\n",
        "      \n",
        "    def embedding(self, x, random_mask=False):\n",
        "        # print(x.shape)\n",
        "        x = self.bn(x)\n",
        "        x = self.activation(self.conv1t(x))\n",
        "        f1 = self.activation(self.conv1s(x))\n",
        "\n",
        "        x = self.activation(self.conv2t(x))\n",
        "        f2 = self.activation(self.conv2s(x))\n",
        "\n",
        "        x = self.activation(self.conv3t(x))\n",
        "        f3 = self.activation(self.conv3s(x))\n",
        "        \n",
        "        # multi-scale feature representation by exploiting intermediate features\n",
        "        feature = torch.cat([f1, f2, f3],dim = 1  )\n",
        "        \n",
        "        return feature\n",
        "\n",
        "    def classifier(self, feature):\n",
        "        # Flattening, dropout, mapping into the decision nodes\n",
        "        feature = self.flatten(feature)\n",
        "        feature = self.dropout(feature)\n",
        "        y_hat = self.softmax(self.Linear(feature))\n",
        "        return y_hat    \n",
        "\n",
        "    def forward(self, x):\n",
        "        feature = self.embedding(x)\n",
        "        y_hat = self.classifier(feature)\n",
        "        return y_hat"
      ]
    },
    {
      "cell_type": "markdown",
      "source": [
        "parameter setting"
      ],
      "metadata": {
        "id": "FZW9BHj4v3oY"
      }
    },
    {
      "cell_type": "code",
      "execution_count": 19,
      "metadata": {
        "id": "HhfJy0SJbd38"
      },
      "outputs": [],
      "source": [
        "import os\n",
        "\n",
        "# batch size\n",
        "batch_size = 128\n",
        "learning_rate = 0.0001\n",
        "epochs = 20\n",
        "\n",
        "os.environ[\"CUDA_VISIBLE_DEVICES\"] = \"0\"\n",
        "device = torch.device(\"cuda:0\" if torch.cuda.is_available() else \"cpu\")\n",
        "#torch.device(\"cuda:0\" if torch.cuda.is_available() else \"cpu\")\n",
        "#\"cpu\"\n",
        "\n"
      ]
    },
    {
      "cell_type": "code",
      "execution_count": 20,
      "metadata": {
        "colab": {
          "base_uri": "https://localhost:8080/"
        },
        "id": "rRv7RDlBfV_1",
        "outputId": "c3744816-3a2c-4e92-eb55-93f7887abe7b"
      },
      "outputs": [
        {
          "output_type": "stream",
          "name": "stdout",
          "text": [
            "cuda:0\n"
          ]
        }
      ],
      "source": [
        "print(device)"
      ]
    },
    {
      "cell_type": "code",
      "execution_count": 21,
      "metadata": {
        "id": "GVrkQ9o_sU_E",
        "colab": {
          "base_uri": "https://localhost:8080/"
        },
        "outputId": "ccc95a55-bb9e-4954-f59d-4930d9913942"
      },
      "outputs": [
        {
          "output_type": "stream",
          "name": "stdout",
          "text": [
            "0\n",
            "(16212, 2000)\n",
            "1\n",
            "(16728, 2000)\n",
            "2\n",
            "(166338, 2000)\n"
          ]
        }
      ],
      "source": [
        "from torch.utils.data import DataLoader\n",
        "#dataset 몇개를 사용할 것인지 결정 \n",
        "idx = 3\n",
        "tr, va, te = load_dataset(idx).call(5)"
      ]
    },
    {
      "cell_type": "code",
      "execution_count": 22,
      "metadata": {
        "colab": {
          "base_uri": "https://localhost:8080/"
        },
        "id": "EuVYaAzUbg8h",
        "outputId": "ce17a5ed-1e31-4e39-f5f9-11fbf5f4caa8"
      },
      "outputs": [
        {
          "output_type": "stream",
          "name": "stdout",
          "text": [
            "tainLoader\n"
          ]
        }
      ],
      "source": [
        "# dataset loader\n",
        "trainEEG = EEGLoader(tr, device)\n",
        "valEEG = EEGLoader(va,device)\n",
        "testEEG = EEGLoader(te,device)\n",
        "print(\"tainLoader\")\n",
        "trainLoader = DataLoader(trainEEG, batch_size = batch_size, shuffle=True)\n",
        "valLoader = DataLoader(valEEG, batch_size = batch_size, shuffle=True)\n",
        "testLoader = DataLoader(testEEG, batch_size = batch_size, shuffle=True)"
      ]
    },
    {
      "cell_type": "markdown",
      "source": [
        "batch단위로 loss를 계산하는 방법입니다."
      ],
      "metadata": {
        "id": "yP4mQuQlw17N"
      }
    },
    {
      "cell_type": "code",
      "source": [
        "def augmented_data(x,window,a,b,c,d):\n",
        "      x = np.squeeze(x)\n",
        "      # b,c,t = x.shape\n",
        "      # x = np.reshape(x,(b*c,t))\n",
        "      # print(x.shape)\n",
        "      x = x.numpy()\n",
        "      samples, sequence_length = x.shape\n",
        "      X = []\n",
        "      Y = []\n",
        "      x_maf = MAF(x,window)\n",
        "      x_asln = asln(x,a,b)\n",
        "      x_apn = apn(x,c,d)\n",
        "      X.append(x)\n",
        "      X.append(x_maf)\n",
        "      X.append(x_asln)\n",
        "      X.append(x_apn)\n",
        "\n",
        "      #one-hot encoding\n",
        "      original = [1,0,0,0]\n",
        "      s_maf = [0,1,0,0]\n",
        "      s_asln = [0,0,1,0]\n",
        "      s_apn = [0,0,0,1]\n",
        "\n",
        "      Y.append(original*np.ones((samples,1)))\n",
        "      Y.append(s_maf*np.ones((samples,1)))\n",
        "      Y.append(s_asln*np.ones((samples,1)))\n",
        "      Y.append(s_apn*np.ones((samples,1)))\n",
        "      \n",
        "      X = np.array(X)\n",
        "\n",
        "      X = X.reshape(4*samples,sequence_length)\n",
        "      # print(X.shape)\n",
        "      Y = np.array(Y)\n",
        "      Y = Y.reshape(4*samples,4)\n",
        "      \n",
        "      return X,Y "
      ],
      "metadata": {
        "id": "XvYtHt5Iqkdv"
      },
      "execution_count": 23,
      "outputs": []
    },
    {
      "cell_type": "code",
      "execution_count": 24,
      "metadata": {
        "id": "CTIR3OUmfCqv"
      },
      "outputs": [],
      "source": [
        "class Temporal_Trend_Identification_Task_Loss(torch.nn.modules.loss._Loss):\n",
        "    def __init__(self, device = None):\n",
        "        super().__init__()\n",
        "        self.device = device\n",
        "\n",
        "    def forward(self, batch, encoder, train):\n",
        "        acc = 0\n",
        "        x, y = augmented_data(batch,window =50 , a= 50, b = 0, c = 50, d= 1.5)\n",
        "        c,t = x.shape\n",
        "        x = np.reshape(x,(c,1,t))\n",
        "        CrossEL = torch.nn.CrossEntropyLoss()\n",
        "        pred = encoder.forward(torch.Tensor(x).to(device))\n",
        "        y = torch.Tensor(y).to(device)\n",
        "        _, y =  torch.max(y, 1) \n",
        "        \n",
        "      \n",
        "        # print('y:',y.shape)\n",
        "        # print('rept:',rept.shape)\n",
        "        loss = CrossEL(pred, torch.Tensor(y).to(device))\n",
        "        if train:\n",
        "            loss.backward(retain_graph=True)\n",
        "\n",
        "        _, predicted = torch.max(pred, 1) \n",
        "        # print(predicted.shape)\n",
        "        # print(y.shape)\n",
        "        acc = (predicted == y).sum().item()\n",
        "        acc = acc/c #acc/(batch*channels*4(augmented))\n",
        "        loss = loss/c\n",
        "        del x\n",
        "        del y\n",
        "        return loss, acc    \n",
        "        "
      ]
    },
    {
      "cell_type": "markdown",
      "metadata": {
        "id": "PVVgXj8_XkLb"
      },
      "source": [
        "gpu memory 정리"
      ]
    },
    {
      "cell_type": "code",
      "execution_count": 25,
      "metadata": {
        "colab": {
          "base_uri": "https://localhost:8080/"
        },
        "id": "Ci93atLFZ4Hz",
        "outputId": "32277912-ee21-4e61-8d07-9811fdcc98b8"
      },
      "outputs": [
        {
          "output_type": "execute_result",
          "data": {
            "text/plain": [
              "44"
            ]
          },
          "metadata": {},
          "execution_count": 25
        }
      ],
      "source": [
        "import gc\n",
        "gc.collect()"
      ]
    },
    {
      "cell_type": "code",
      "execution_count": 26,
      "metadata": {
        "id": "34QCkoIrahGU"
      },
      "outputs": [],
      "source": [
        "torch.cuda.empty_cache() # GPU 캐시 데이터 삭제"
      ]
    },
    {
      "cell_type": "markdown",
      "source": [
        "model, loss, optimizer settiong"
      ],
      "metadata": {
        "id": "dopbUMZYxDOQ"
      }
    },
    {
      "cell_type": "code",
      "execution_count": 27,
      "metadata": {
        "id": "SPyAFNfIfCtD"
      },
      "outputs": [],
      "source": [
        "model = feature_extractor3().to(device)\n",
        "#model.to(device)\n",
        "criterion = Temporal_Trend_Identification_Task_Loss(device)\n",
        "optimizer = torch.optim.Adam(model.parameters(), lr=learning_rate)"
      ]
    },
    {
      "cell_type": "code",
      "execution_count": 28,
      "metadata": {
        "colab": {
          "base_uri": "https://localhost:8080/"
        },
        "id": "Jcpn9ultjyWu",
        "outputId": "fe7b106d-e39f-4c4a-a717-09956e49e926"
      },
      "outputs": [
        {
          "output_type": "stream",
          "name": "stdout",
          "text": [
            "feature_extractor3(\n",
            "  (activation): LeakyReLU(negative_slope=0.01)\n",
            "  (bn): BatchNorm1d(1, eps=1e-05, momentum=0.1, affine=True, track_running_stats=True)\n",
            "  (softmax): Softmax(dim=None)\n",
            "  (conv1t): SeparableConv1d(\n",
            "    (dwconv): Conv1d(1, 1, kernel_size=(30,), stride=(1,), padding=same)\n",
            "    (dwconv_normalization): BatchNorm1d(1, eps=1e-05, momentum=0.1, affine=True, track_running_stats=True)\n",
            "    (dwconv_activation): ReLU()\n",
            "    (pwconv): Conv1d(1, 8, kernel_size=(1,), stride=(1,))\n",
            "    (pwconv_normalization): BatchNorm1d(8, eps=1e-05, momentum=0.1, affine=True, track_running_stats=True)\n",
            "    (pwconv_activation): ReLU()\n",
            "  )\n",
            "  (conv1s): Conv1d(8, 8, kernel_size=(1,), stride=(1,))\n",
            "  (conv2t): SeparableConv1d(\n",
            "    (dwconv): Conv1d(8, 8, kernel_size=(15,), stride=(1,), padding=same, groups=8)\n",
            "    (dwconv_normalization): BatchNorm1d(8, eps=1e-05, momentum=0.1, affine=True, track_running_stats=True)\n",
            "    (dwconv_activation): ReLU()\n",
            "    (pwconv): Conv1d(8, 16, kernel_size=(1,), stride=(1,))\n",
            "    (pwconv_normalization): BatchNorm1d(16, eps=1e-05, momentum=0.1, affine=True, track_running_stats=True)\n",
            "    (pwconv_activation): ReLU()\n",
            "  )\n",
            "  (conv2s): Conv1d(16, 16, kernel_size=(1,), stride=(1,))\n",
            "  (conv3t): SeparableConv1d(\n",
            "    (dwconv): Conv1d(16, 16, kernel_size=(5,), stride=(1,), padding=same, groups=16)\n",
            "    (dwconv_normalization): BatchNorm1d(16, eps=1e-05, momentum=0.1, affine=True, track_running_stats=True)\n",
            "    (dwconv_activation): ReLU()\n",
            "    (pwconv): Conv1d(16, 32, kernel_size=(1,), stride=(1,))\n",
            "    (pwconv_normalization): BatchNorm1d(32, eps=1e-05, momentum=0.1, affine=True, track_running_stats=True)\n",
            "    (pwconv_activation): ReLU()\n",
            "  )\n",
            "  (conv3s): Conv1d(32, 32, kernel_size=(1,), stride=(1,))\n",
            "  (flatten): Flatten(start_dim=1, end_dim=-1)\n",
            "  (dropout): Dropout(p=0.5, inplace=False)\n",
            "  (Linear): Linear(in_features=112000, out_features=4, bias=True)\n",
            ")\n"
          ]
        }
      ],
      "source": [
        "print(model)"
      ]
    },
    {
      "cell_type": "markdown",
      "metadata": {
        "id": "-vsPmCptfb6V"
      },
      "source": [
        "learing"
      ]
    },
    {
      "cell_type": "code",
      "execution_count": 29,
      "metadata": {
        "colab": {
          "base_uri": "https://localhost:8080/"
        },
        "id": "ANWc4cbqfCvK",
        "outputId": "fee44b78-ec29-4d67-b80f-b4ca3f5e6fa3"
      },
      "outputs": [
        {
          "output_type": "stream",
          "name": "stderr",
          "text": [
            "/usr/local/lib/python3.7/dist-packages/torch/nn/modules/conv.py:304: UserWarning: Using padding='same' with even kernel lengths and odd dilation may require a zero-padded copy of the input be created (Triggered internally at  ../aten/src/ATen/native/Convolution.cpp:882.)\n",
            "  self.padding, self.dilation, self.groups)\n",
            "/usr/local/lib/python3.7/dist-packages/ipykernel_launcher.py:68: UserWarning: Implicit dimension choice for softmax has been deprecated. Change the call to include dim=X as an argument.\n"
          ]
        },
        {
          "output_type": "stream",
          "name": "stdout",
          "text": [
            "epoch :  0   train loss :  0.0016391188994468375 train acc :  0.916644385026738     val loss :  0.0015599288349338353 val acc :  0.9527889570120703\n",
            "epoch :  1   train loss :  0.0015534793857216117 train acc :  0.9559805314171123     val loss :  0.001544513630319554 val acc :  0.9590562985883796\n",
            "epoch :  2   train loss :  0.00153861532727366 train acc :  0.963598763368984     val loss :  0.001530943237668954 val acc :  0.9644653520100246\n",
            "epoch :  3   train loss :  0.0015282807770847556 train acc :  0.9675405247326203     val loss :  0.0015233948547691584 val acc :  0.9685715229473539\n",
            "epoch :  4   train loss :  0.0015242532868047847 train acc :  0.969610628342246     val loss :  0.0015173148097416672 val acc :  0.971135732064921\n",
            "epoch :  5   train loss :  0.0015208614734873015 train acc :  0.971524064171123     val loss :  0.001515806586935352 val acc :  0.9720203922019913\n",
            "epoch :  6   train loss :  0.00151245309585297 train acc :  0.9750772894385027     val loss :  0.0015091950526066984 val acc :  0.9751950194779733\n",
            "epoch :  7   train loss :  0.0015124152077083044 train acc :  0.9752088903743316     val loss :  0.0015106556884114607 val acc :  0.9748092959373296\n",
            "epoch :  8   train loss :  0.001507986142339912 train acc :  0.9775484625668449     val loss :  0.0015024330988615896 val acc :  0.9786779858411757\n",
            "epoch :  9   train loss :  0.0015063494445138517 train acc :  0.9783255347593582     val loss :  0.0015055706511096407 val acc :  0.9768636467283824\n",
            "epoch :  10   train loss :  0.0015019474592169418 train acc :  0.9808677306149732     val loss :  0.0014978998977965557 val acc :  0.9805911532920758\n",
            "epoch :  11   train loss :  0.0014980041490429464 train acc :  0.9823947192513369     val loss :  0.0014943212415509594 val acc :  0.9824816781318194\n",
            "epoch :  12   train loss :  0.0014962213646799805 train acc :  0.9830172125668449     val loss :  0.0014917993815824725 val acc :  0.9839437248533824\n",
            "epoch :  13   train loss :  0.0014918873206099725 train acc :  0.985507185828877     val loss :  0.0014879622467560694 val acc :  0.9861729565176622\n",
            "epoch :  14   train loss :  0.0014884091165404826 train acc :  0.987188753342246     val loss :  0.0014874066221706856 val acc :  0.9864300167502046\n",
            "epoch :  15   train loss :  0.0014854458054866303 train acc :  0.9886405414438503     val loss :  0.0014836355892326443 val acc :  0.9882927044974087\n",
            "epoch :  16   train loss :  0.001483789083976199 train acc :  0.9896745487967914     val loss :  0.001486317445270311 val acc :  0.986763529093358\n",
            "epoch :  17   train loss :  0.001482630886117564 train acc :  0.9901445521390374     val loss :  0.0014817694616981614 val acc :  0.9891537896805102\n",
            "epoch :  18   train loss :  0.0014822914626170449 train acc :  0.9902782419786096     val loss :  0.001480593944553477 val acc :  0.9896834935897436\n",
            "epoch :  19   train loss :  0.0014822602433894566 train acc :  0.9907273562834225     val loss :  0.001480114563048865 val acc :  0.9899606657886661\n"
          ]
        }
      ],
      "source": [
        "import matplotlib.pyplot as plt\n",
        "loss_tr = []\n",
        "loss_val = []\n",
        "acc_tr = []\n",
        "acc_val = []\n",
        "for epoch in range(epochs):\n",
        "    loss_ep = 0  # add batch loss in epoch\n",
        "    acc_ep = 0\n",
        "    for batch_idx, batch in enumerate(trainLoader):\n",
        "        optimizer.zero_grad()\n",
        "        loss_batch, acc_batch = criterion.forward(batch, model, train = True)\n",
        "        # print(batch_idx)\n",
        "        optimizer.step()\n",
        "        loss_ep += loss_batch.item()\n",
        "        acc_ep += acc_batch\n",
        "\n",
        "    loss_tr.append((loss_ep)/len(trainLoader))\n",
        "    acc_tr.append((acc_ep)/len(trainLoader))\n",
        "\n",
        "    loss_ep_val = 0\n",
        "    acc_ep_val = 0\n",
        "    for batch_idx, batch in enumerate(valLoader):\n",
        "        loss_batch_val, acc_batch_val = criterion.forward(batch, model, train = False)\n",
        "        loss_ep_val += loss_batch_val.item()\n",
        "        acc_ep_val += acc_batch_val\n",
        "    \n",
        "    loss_val.append((loss_ep_val)/len(valLoader))\n",
        "    acc_val.append((acc_ep_val)/len(valLoader))\n",
        "    print(\"epoch : \", epoch, \"  train loss : \", loss_tr[epoch], 'train acc : ', acc_tr[epoch], \"    val loss : \", loss_val[epoch], 'val acc : ', acc_val[epoch])\n"
      ]
    },
    {
      "cell_type": "markdown",
      "source": [
        "result save and plot"
      ],
      "metadata": {
        "id": "EyYjI6wY4bew"
      }
    },
    {
      "cell_type": "code",
      "source": [
        "import pandas as pd\n",
        "col = ['loss_tr','loss_val','acc_tr','acc_val']\n",
        "data = np.array([loss_tr,\n",
        "                 loss_val,\n",
        "                 acc_tr,\n",
        "                 acc_val])\n",
        "print(data.shape)\n",
        "data = np.transpose(data)\n",
        "df = pd.DataFrame(data = data, columns= col)\n",
        "df.to_excel('Sleepedf+MASS_10s.xlsx', index = False)"
      ],
      "metadata": {
        "colab": {
          "base_uri": "https://localhost:8080/"
        },
        "id": "sULgDLvm2xHe",
        "outputId": "9d2a675f-2b70-4a2e-c50c-1129207156aa"
      },
      "execution_count": 35,
      "outputs": [
        {
          "output_type": "stream",
          "name": "stdout",
          "text": [
            "(4, 20)\n"
          ]
        }
      ]
    },
    {
      "cell_type": "code",
      "execution_count": 34,
      "metadata": {
        "colab": {
          "base_uri": "https://localhost:8080/",
          "height": 295
        },
        "id": "yqo5atQngb6K",
        "outputId": "fa399812-232d-4ad2-db20-ca9081541fd9"
      },
      "outputs": [
        {
          "output_type": "display_data",
          "data": {
            "text/plain": [
              "<Figure size 432x288 with 1 Axes>"
            ],
            "image/png": "[encoded data removed]"
          },
          "metadata": {
            "needs_background": "light"
          }
        }
      ],
      "source": [
        "# plt.figure(figsize =(15, 10))\n",
        "plt.plot(range(epochs), loss_tr, color='red')\n",
        "plt.plot(range(epochs), loss_val, color='blue')\n",
        "plt.title('Model loss')\n",
        "plt.xlabel('epochs')\n",
        "plt.ylabel('loss')\n",
        "plt.legend(['Train', 'Validation'], loc='upper right')\n",
        "plt.savefig('Sleepedf+MASS_loss_10s')\n",
        "plt.show()\n"
      ]
    },
    {
      "cell_type": "code",
      "source": [
        "# plt.figure(figsize =(15, 10))\n",
        "plt.plot(range(epochs), acc_tr, color='red')\n",
        "plt.plot(range(epochs), acc_val, color='blue')\n",
        "plt.title('Model accuracy')\n",
        "plt.xlabel('epochs')\n",
        "plt.ylabel('accuracy')\n",
        "plt.legend(['Train', 'Validation'], loc='upper left')\n",
        "plt.savefig('Sleepedf+MASS_accuracy_10s')\n",
        "plt.show()"
      ],
      "metadata": {
        "colab": {
          "base_uri": "https://localhost:8080/",
          "height": 295
        },
        "id": "0qR7XCy2hPq6",
        "outputId": "84456e4b-285a-4948-aa0a-97d9c58798f1"
      },
      "execution_count": 36,
      "outputs": [
        {
          "output_type": "display_data",
          "data": {
            "text/plain": [
              "<Figure size 432x288 with 1 Axes>"
            ],
            "image/png": "[encoded data removed]"
          },
          "metadata": {
            "needs_background": "light"
          }
        }
      ]
    },
    {
      "cell_type": "markdown",
      "source": [],
      "metadata": {
        "id": "WaNXMjTxw00n"
      }
    },
    {
      "cell_type": "code",
      "source": [
        "torch.cuda.empty_cache() # GPU 캐시 데이터 삭제"
      ],
      "metadata": {
        "id": "n2HeGrHBwziU"
      },
      "execution_count": 37,
      "outputs": []
    },
    {
      "cell_type": "code",
      "source": [
        "def predict( batch, encoder):\n",
        "  x, y = augmented_data(batch,window = 50 , a= 50, b = 0, c = 50, d= 1.5)\n",
        "  c,t = x.shape\n",
        "  # print('bj',x.shape)\n",
        "  x = np.reshape(x,(c,1,t))\n",
        "      \n",
        "  rept = encoder.forward(torch.Tensor(x).to(device))\n",
        "  \n",
        "  rept = rept.cpu().detach().numpy()\n",
        "  \n",
        "  return rept, y"
      ],
      "metadata": {
        "id": "1eLsdB1VwFwT"
      },
      "execution_count": 49,
      "outputs": []
    },
    {
      "cell_type": "code",
      "source": [
        "Y_hat = []\n",
        "Y = []\n",
        "for batch_idx, batch in enumerate(testLoader):\n",
        "  y_hat,y = predict(batch, encoder = model)\n",
        "\n",
        "  Y_hat.extend(y_hat)\n",
        "  Y.extend(y)\n"
      ],
      "metadata": {
        "colab": {
          "base_uri": "https://localhost:8080/"
        },
        "id": "V3aJ6UfdwquZ",
        "outputId": "c1b9726b-f13a-4ffa-9ad2-7c217c5fb6c7"
      },
      "execution_count": 50,
      "outputs": [
        {
          "output_type": "stream",
          "name": "stderr",
          "text": [
            "/usr/local/lib/python3.7/dist-packages/ipykernel_launcher.py:68: UserWarning: Implicit dimension choice for softmax has been deprecated. Change the call to include dim=X as an argument.\n"
          ]
        }
      ]
    },
    {
      "cell_type": "code",
      "source": [
        "Y_hat = np.array(Y_hat)\n",
        "print(Y_hat.shape)\n",
        "\n",
        "Y = np.array(Y)\n",
        "print(Y.shape)"
      ],
      "metadata": {
        "colab": {
          "base_uri": "https://localhost:8080/"
        },
        "id": "i4VmNDYww6Fd",
        "outputId": "34bc17a1-02df-4e56-a23a-03c754f4f3e9"
      },
      "execution_count": 51,
      "outputs": [
        {
          "output_type": "stream",
          "name": "stdout",
          "text": [
            "(159420, 4)\n",
            "(159420, 4)\n"
          ]
        }
      ]
    },
    {
      "cell_type": "code",
      "source": [
        "y_hat"
      ],
      "metadata": {
        "colab": {
          "base_uri": "https://localhost:8080/"
        },
        "id": "sPVbhBbByliz",
        "outputId": "4a5dc46a-749c-4900-d1b7-ca19ccbcd307"
      },
      "execution_count": 52,
      "outputs": [
        {
          "output_type": "execute_result",
          "data": {
            "text/plain": [
              "array([[1.00000000e+00, 1.38781320e-13, 6.33183269e-28, 5.78944173e-13],\n",
              "       [1.00000000e+00, 5.68015359e-08, 1.88868631e-26, 1.06687081e-11],\n",
              "       [1.00000000e+00, 9.15200233e-25, 1.53716727e-26, 1.16785495e-26],\n",
              "       [1.00000000e+00, 1.64166701e-30, 4.38250414e-28, 1.03026802e-31],\n",
              "       [9.99976873e-01, 2.30784972e-05, 2.59524237e-26, 1.65938208e-10],\n",
              "       [1.00000000e+00, 9.91037510e-40, 1.42484559e-18, 1.70315751e-19],\n",
              "       [1.00000000e+00, 6.14276855e-18, 5.24781195e-28, 2.17716665e-12],\n",
              "       [1.00000000e+00, 7.45433554e-13, 1.25349516e-32, 2.84420163e-26],\n",
              "       [1.00000000e+00, 2.46159115e-27, 5.74943051e-28, 2.59093688e-21],\n",
              "       [1.00000000e+00, 4.12866876e-12, 3.28446046e-28, 4.30050665e-22],\n",
              "       [1.00000000e+00, 1.59603380e-15, 9.87008092e-24, 1.21336875e-24],\n",
              "       [1.00000000e+00, 3.34662770e-10, 2.11773358e-24, 3.92831180e-15],\n",
              "       [1.00000000e+00, 3.29199481e-38, 1.59426787e-24, 1.50144070e-23],\n",
              "       [1.00000000e+00, 2.02070958e-31, 9.74751270e-22, 9.34704523e-25],\n",
              "       [1.00000000e+00, 3.04917697e-38, 4.80260329e-27, 8.39890887e-29],\n",
              "       [1.00000000e+00, 9.50862744e-33, 1.23751332e-23, 6.33330969e-27],\n",
              "       [1.00000000e+00, 3.52524432e-28, 4.52413471e-22, 1.01724106e-29],\n",
              "       [1.00000000e+00, 4.49210926e-24, 2.15545987e-25, 5.54952630e-19],\n",
              "       [1.00000000e+00, 2.17060702e-27, 1.76008851e-24, 5.71101974e-22],\n",
              "       [1.00000000e+00, 2.78317095e-21, 6.48913949e-20, 7.57383383e-24],\n",
              "       [1.00000000e+00, 7.21127809e-24, 2.33507815e-30, 7.79102704e-19],\n",
              "       [1.00000000e+00, 8.92968330e-22, 2.08362678e-26, 7.33941682e-15],\n",
              "       [1.00000000e+00, 3.92501462e-16, 6.18385531e-29, 4.55416901e-18],\n",
              "       [1.00000000e+00, 8.93021409e-25, 1.47699380e-19, 1.50509752e-18],\n",
              "       [1.00000000e+00, 9.88721037e-20, 5.70872952e-23, 2.07549872e-23],\n",
              "       [1.00000000e+00, 1.00249920e-20, 4.97766515e-31, 7.54692411e-32],\n",
              "       [1.00000000e+00, 5.17261930e-15, 3.80104591e-25, 8.71129268e-21],\n",
              "       [1.00000000e+00, 2.52598269e-26, 4.32798428e-25, 5.78174184e-27],\n",
              "       [9.99996662e-01, 1.40129846e-45, 7.33594992e-15, 3.34851961e-06],\n",
              "       [9.99849558e-01, 1.50446722e-04, 1.44530498e-27, 1.29969562e-13],\n",
              "       [1.00000000e+00, 1.57033649e-23, 4.34130309e-29, 7.38589766e-23],\n",
              "       [1.00000000e+00, 1.53049047e-12, 7.61786567e-27, 5.93747583e-23],\n",
              "       [1.00000000e+00, 1.17685683e-27, 2.05032191e-26, 1.13514582e-25],\n",
              "       [1.00000000e+00, 7.69764976e-14, 1.19437256e-28, 6.62549838e-24],\n",
              "       [1.00000000e+00, 6.78094994e-35, 7.03211848e-17, 3.78851919e-20],\n",
              "       [1.00000000e+00, 7.88455904e-24, 8.65481560e-29, 2.04263329e-25],\n",
              "       [1.00000000e+00, 1.40129846e-45, 3.16318948e-15, 1.37052440e-22],\n",
              "       [9.99964595e-01, 1.71320662e-38, 3.54205731e-05, 9.99586590e-13],\n",
              "       [1.00000000e+00, 1.89447879e-28, 2.68497930e-26, 3.96231227e-29],\n",
              "       [1.00000000e+00, 4.53082206e-13, 1.91635744e-20, 1.07728178e-13],\n",
              "       [1.00000000e+00, 7.04463201e-24, 5.71009620e-25, 2.57186725e-25],\n",
              "       [1.00000000e+00, 4.42622912e-24, 8.21414690e-15, 8.57383586e-09],\n",
              "       [1.00000000e+00, 4.08868217e-29, 1.85574294e-32, 6.09023360e-30],\n",
              "       [1.00000000e+00, 1.68384474e-23, 3.24184008e-35, 3.91339289e-26],\n",
              "       [1.00000000e+00, 4.17411321e-22, 7.04325061e-27, 7.70967624e-31],\n",
              "       [1.00000000e+00, 9.06858704e-27, 6.98596627e-18, 2.63865289e-22],\n",
              "       [1.00000000e+00, 2.62518304e-19, 2.09913479e-27, 4.40286899e-18],\n",
              "       [1.66170324e-11, 1.00000000e+00, 2.37992203e-33, 1.25312047e-20],\n",
              "       [1.52099133e-07, 9.99999881e-01, 5.44361090e-30, 1.44725188e-16],\n",
              "       [3.64833452e-09, 1.00000000e+00, 4.93346751e-31, 3.29303090e-27],\n",
              "       [1.22157276e-13, 1.00000000e+00, 1.83224496e-36, 9.92334560e-25],\n",
              "       [1.19852528e-14, 1.00000000e+00, 5.44462803e-38, 2.45684923e-23],\n",
              "       [1.12008222e-10, 1.00000000e+00, 4.45223490e-34, 2.11973993e-22],\n",
              "       [9.30493269e-12, 1.00000000e+00, 1.73129124e-35, 6.44971729e-23],\n",
              "       [3.02675788e-12, 1.00000000e+00, 3.66912869e-36, 9.66747363e-25],\n",
              "       [3.05546848e-13, 1.00000000e+00, 5.24234544e-37, 3.29764597e-26],\n",
              "       [3.02742345e-11, 1.00000000e+00, 8.13429607e-36, 2.49852049e-23],\n",
              "       [3.13374557e-19, 1.00000000e+00, 3.04053741e-41, 2.65615851e-34],\n",
              "       [4.14164319e-12, 1.00000000e+00, 1.94257559e-34, 6.61469588e-22],\n",
              "       [5.19888577e-09, 1.00000000e+00, 3.08800931e-35, 1.46703087e-21],\n",
              "       [1.98328180e-05, 9.99980211e-01, 1.79613186e-30, 6.52651461e-22],\n",
              "       [3.68669142e-15, 1.00000000e+00, 1.86391613e-39, 5.99669442e-26],\n",
              "       [1.49532947e-17, 1.00000000e+00, 2.65066815e-40, 1.92600066e-29],\n",
              "       [2.26510967e-15, 1.00000000e+00, 1.29689192e-39, 4.78835055e-28],\n",
              "       [1.05981482e-11, 1.00000000e+00, 1.92373948e-36, 1.37467646e-22],\n",
              "       [2.25931473e-07, 9.99999762e-01, 1.70652588e-34, 1.92497775e-23],\n",
              "       [5.44254863e-09, 1.00000000e+00, 4.13049907e-33, 1.44963308e-24],\n",
              "       [8.35715497e-10, 1.00000000e+00, 9.93235146e-34, 6.64514023e-24],\n",
              "       [7.79943882e-20, 1.00000000e+00, 6.64355602e-42, 8.06739457e-28],\n",
              "       [2.32907258e-08, 1.00000000e+00, 3.38652796e-33, 1.24324051e-20],\n",
              "       [4.38561202e-14, 1.00000000e+00, 1.70521194e-34, 4.47508466e-27],\n",
              "       [3.28982071e-17, 1.00000000e+00, 1.35734954e-39, 1.08046504e-32],\n",
              "       [2.54887537e-18, 1.00000000e+00, 5.03486538e-42, 8.96154857e-31],\n",
              "       [2.30823688e-13, 1.00000000e+00, 1.88085616e-34, 2.59714457e-26],\n",
              "       [3.83588106e-10, 1.00000000e+00, 1.72062692e-33, 1.65132500e-25],\n",
              "       [2.19659042e-03, 9.97803390e-01, 1.01563521e-27, 4.18506778e-18],\n",
              "       [1.67982197e-12, 1.00000000e+00, 1.51591146e-35, 6.64942246e-25],\n",
              "       [1.96909655e-10, 1.00000000e+00, 5.94385275e-35, 9.98083289e-23],\n",
              "       [2.15017015e-11, 1.00000000e+00, 1.46159573e-36, 1.15176885e-25],\n",
              "       [1.74243106e-10, 1.00000000e+00, 1.18684249e-35, 2.14095032e-22],\n",
              "       [9.30207083e-13, 1.00000000e+00, 2.86932676e-37, 1.50333207e-23],\n",
              "       [1.53665883e-06, 9.99998450e-01, 8.31824589e-32, 1.89489975e-23],\n",
              "       [3.82897198e-01, 6.17102802e-01, 4.29351649e-25, 6.32702140e-22],\n",
              "       [3.06837672e-12, 1.00000000e+00, 1.07566773e-36, 4.37403253e-22],\n",
              "       [1.23345983e-16, 1.00000000e+00, 1.93546223e-39, 1.02366875e-35],\n",
              "       [8.66383854e-09, 1.00000000e+00, 6.70274547e-34, 3.02593751e-20],\n",
              "       [3.77648460e-13, 1.00000000e+00, 4.31713065e-34, 1.28162595e-25],\n",
              "       [8.50051095e-13, 1.00000000e+00, 6.18859678e-37, 3.20707901e-28],\n",
              "       [6.76397469e-13, 1.00000000e+00, 3.20965002e-35, 3.27194428e-27],\n",
              "       [2.08125739e-13, 1.00000000e+00, 2.04983733e-33, 3.88470008e-27],\n",
              "       [1.06638249e-11, 1.00000000e+00, 4.36898649e-34, 1.11647067e-22],\n",
              "       [2.75833436e-12, 1.00000000e+00, 5.13734768e-35, 7.61941567e-32],\n",
              "       [1.48162259e-17, 1.00000000e+00, 2.38220739e-44, 2.62923697e-38],\n",
              "       [7.77943451e-14, 1.00000000e+00, 1.43482873e-39, 3.14689989e-26],\n",
              "       [8.55560712e-31, 0.00000000e+00, 1.00000000e+00, 0.00000000e+00],\n",
              "       [7.06182990e-30, 0.00000000e+00, 1.00000000e+00, 1.40129846e-45],\n",
              "       [5.46613469e-27, 0.00000000e+00, 1.00000000e+00, 1.55221270e-39],\n",
              "       [5.59572930e-23, 0.00000000e+00, 1.00000000e+00, 7.62097737e-34],\n",
              "       [4.53303047e-30, 0.00000000e+00, 1.00000000e+00, 4.20389539e-45],\n",
              "       [2.20097348e-20, 0.00000000e+00, 1.00000000e+00, 6.03368504e-33],\n",
              "       [1.26873399e-27, 0.00000000e+00, 1.00000000e+00, 3.36311631e-44],\n",
              "       [8.12858654e-29, 0.00000000e+00, 1.00000000e+00, 4.79244075e-43],\n",
              "       [9.55449911e-21, 0.00000000e+00, 1.00000000e+00, 5.15636469e-38],\n",
              "       [9.41581468e-28, 0.00000000e+00, 1.00000000e+00, 1.19832038e-40],\n",
              "       [1.46553033e-23, 0.00000000e+00, 1.00000000e+00, 2.04690890e-39],\n",
              "       [2.24452634e-30, 0.00000000e+00, 1.00000000e+00, 1.68155816e-44],\n",
              "       [3.71016018e-19, 0.00000000e+00, 1.00000000e+00, 2.27116748e-29],\n",
              "       [7.90591105e-17, 0.00000000e+00, 1.00000000e+00, 3.25433088e-27],\n",
              "       [2.14802770e-21, 0.00000000e+00, 1.00000000e+00, 5.76582974e-38],\n",
              "       [2.61311713e-24, 0.00000000e+00, 1.00000000e+00, 4.02764629e-35],\n",
              "       [1.34342016e-24, 0.00000000e+00, 1.00000000e+00, 1.12103877e-44],\n",
              "       [5.67713881e-28, 0.00000000e+00, 1.00000000e+00, 1.20036426e-37],\n",
              "       [4.21960614e-25, 0.00000000e+00, 1.00000000e+00, 1.96181785e-44],\n",
              "       [3.04969731e-25, 0.00000000e+00, 1.00000000e+00, 1.45287612e-33],\n",
              "       [1.80174134e-21, 0.00000000e+00, 1.00000000e+00, 4.40007718e-43],\n",
              "       [2.89210761e-29, 0.00000000e+00, 1.00000000e+00, 2.45927880e-42],\n",
              "       [8.84375783e-27, 0.00000000e+00, 1.00000000e+00, 1.68155816e-44],\n",
              "       [5.32366152e-22, 0.00000000e+00, 1.00000000e+00, 2.24049389e-33],\n",
              "       [1.91850105e-27, 0.00000000e+00, 1.00000000e+00, 1.98775028e-39],\n",
              "       [9.98404394e-28, 0.00000000e+00, 1.00000000e+00, 8.96831017e-44],\n",
              "       [3.80683165e-27, 0.00000000e+00, 1.00000000e+00, 5.42302506e-43],\n",
              "       [7.45859127e-27, 0.00000000e+00, 1.00000000e+00, 8.77474881e-40],\n",
              "       [1.47506229e-08, 0.00000000e+00, 1.00000000e+00, 2.94642427e-24],\n",
              "       [6.33361996e-28, 0.00000000e+00, 1.00000000e+00, 9.66895940e-44],\n",
              "       [5.44744200e-27, 0.00000000e+00, 1.00000000e+00, 2.26505884e-41],\n",
              "       [2.45515777e-27, 0.00000000e+00, 1.00000000e+00, 9.79506954e-38],\n",
              "       [7.58313499e-26, 0.00000000e+00, 1.00000000e+00, 5.92185928e-40],\n",
              "       [2.81096517e-29, 0.00000000e+00, 1.00000000e+00, 9.94921910e-44],\n",
              "       [7.20324428e-18, 0.00000000e+00, 1.00000000e+00, 2.40233429e-32],\n",
              "       [1.21983241e-26, 0.00000000e+00, 1.00000000e+00, 8.26759902e-35],\n",
              "       [2.21426630e-24, 0.00000000e+00, 1.00000000e+00, 1.09072364e-38],\n",
              "       [9.84667167e-07, 0.00000000e+00, 9.99999046e-01, 2.97603543e-12],\n",
              "       [8.03339445e-29, 0.00000000e+00, 1.00000000e+00, 8.87021928e-43],\n",
              "       [1.26956122e-28, 0.00000000e+00, 1.00000000e+00, 2.77457096e-43],\n",
              "       [6.88296917e-23, 0.00000000e+00, 1.00000000e+00, 1.10209613e-37],\n",
              "       [1.14102955e-12, 0.00000000e+00, 1.00000000e+00, 3.49122904e-26],\n",
              "       [2.41664599e-09, 0.00000000e+00, 1.00000000e+00, 2.63228973e-29],\n",
              "       [5.73821197e-28, 0.00000000e+00, 1.00000000e+00, 2.80259693e-45],\n",
              "       [2.80518490e-11, 0.00000000e+00, 1.00000000e+00, 2.28305263e-27],\n",
              "       [4.65748486e-14, 0.00000000e+00, 1.00000000e+00, 8.89763633e-33],\n",
              "       [4.37911364e-27, 0.00000000e+00, 1.00000000e+00, 7.45490783e-43],\n",
              "       [2.15454558e-19, 0.00000000e+00, 1.12125750e-33, 1.00000000e+00],\n",
              "       [6.12096489e-19, 0.00000000e+00, 7.52110719e-34, 1.00000000e+00],\n",
              "       [5.79057862e-17, 0.00000000e+00, 1.18499011e-31, 1.00000000e+00],\n",
              "       [3.90494285e-16, 0.00000000e+00, 1.35448595e-28, 1.00000000e+00],\n",
              "       [1.06379000e-19, 0.00000000e+00, 2.02435579e-34, 1.00000000e+00],\n",
              "       [5.16465634e-14, 0.00000000e+00, 3.12714262e-26, 1.00000000e+00],\n",
              "       [4.62704931e-19, 0.00000000e+00, 6.07386711e-33, 1.00000000e+00],\n",
              "       [1.54601225e-18, 0.00000000e+00, 1.38381384e-32, 1.00000000e+00],\n",
              "       [3.85863708e-17, 0.00000000e+00, 1.59657488e-31, 1.00000000e+00],\n",
              "       [1.24198506e-19, 0.00000000e+00, 7.63987280e-33, 1.00000000e+00],\n",
              "       [1.23839019e-18, 0.00000000e+00, 1.06857110e-30, 1.00000000e+00],\n",
              "       [1.60263266e-18, 0.00000000e+00, 2.99491305e-32, 1.00000000e+00],\n",
              "       [8.06043011e-16, 0.00000000e+00, 6.81535121e-31, 1.00000000e+00],\n",
              "       [1.11305995e-15, 0.00000000e+00, 7.82634903e-28, 1.00000000e+00],\n",
              "       [1.78536825e-14, 0.00000000e+00, 7.13709494e-29, 1.00000000e+00],\n",
              "       [1.11175655e-16, 0.00000000e+00, 6.40268067e-29, 1.00000000e+00],\n",
              "       [1.93002614e-19, 0.00000000e+00, 1.75097196e-34, 1.00000000e+00],\n",
              "       [2.59998893e-19, 0.00000000e+00, 1.29542842e-32, 1.00000000e+00],\n",
              "       [2.12120025e-18, 0.00000000e+00, 4.88837378e-32, 1.00000000e+00],\n",
              "       [8.24552825e-18, 0.00000000e+00, 3.95505983e-31, 1.00000000e+00],\n",
              "       [4.79620197e-17, 0.00000000e+00, 1.45161915e-32, 1.00000000e+00],\n",
              "       [3.89196718e-20, 0.00000000e+00, 3.52834290e-33, 1.00000000e+00],\n",
              "       [6.22364489e-19, 0.00000000e+00, 4.35597294e-34, 1.00000000e+00],\n",
              "       [4.91112359e-12, 0.00000000e+00, 5.38127284e-25, 1.00000000e+00],\n",
              "       [3.77745659e-17, 0.00000000e+00, 5.19799464e-31, 1.00000000e+00],\n",
              "       [1.82601775e-17, 0.00000000e+00, 2.70296650e-31, 1.00000000e+00],\n",
              "       [1.40285848e-16, 0.00000000e+00, 4.90360241e-29, 1.00000000e+00],\n",
              "       [8.03262096e-16, 0.00000000e+00, 4.21814487e-31, 1.00000000e+00],\n",
              "       [2.57318551e-15, 0.00000000e+00, 1.13221998e-29, 1.00000000e+00],\n",
              "       [2.97064003e-19, 0.00000000e+00, 8.19301048e-33, 1.00000000e+00],\n",
              "       [4.17913850e-19, 0.00000000e+00, 5.77557109e-34, 1.00000000e+00],\n",
              "       [3.38337695e-18, 0.00000000e+00, 5.14525926e-32, 1.00000000e+00],\n",
              "       [1.11308004e-17, 0.00000000e+00, 9.91942168e-30, 1.00000000e+00],\n",
              "       [1.83131054e-19, 0.00000000e+00, 3.46647820e-34, 1.00000000e+00],\n",
              "       [1.73829904e-13, 0.00000000e+00, 1.85074349e-26, 1.00000000e+00],\n",
              "       [1.03644500e-16, 0.00000000e+00, 2.78021868e-30, 1.00000000e+00],\n",
              "       [1.98768987e-16, 0.00000000e+00, 6.09154115e-28, 1.00000000e+00],\n",
              "       [1.29353195e-10, 1.22034272e-36, 3.67556723e-24, 1.00000000e+00],\n",
              "       [3.15295504e-19, 0.00000000e+00, 6.78007730e-33, 1.00000000e+00],\n",
              "       [3.17352883e-19, 0.00000000e+00, 6.29071973e-33, 1.00000000e+00],\n",
              "       [8.38726979e-18, 0.00000000e+00, 5.47925518e-31, 1.00000000e+00],\n",
              "       [7.03038193e-15, 0.00000000e+00, 3.34009264e-28, 1.00000000e+00],\n",
              "       [9.57687547e-08, 1.09161150e-42, 4.32253444e-27, 9.99999881e-01],\n",
              "       [3.54617964e-19, 0.00000000e+00, 4.15661157e-33, 1.00000000e+00],\n",
              "       [1.30479069e-19, 0.00000000e+00, 5.59143577e-32, 1.00000000e+00],\n",
              "       [8.75793358e-15, 0.00000000e+00, 9.22588044e-28, 1.00000000e+00],\n",
              "       [1.10585487e-18, 0.00000000e+00, 2.67276941e-32, 1.00000000e+00]],\n",
              "      dtype=float32)"
            ]
          },
          "metadata": {},
          "execution_count": 52
        }
      ]
    },
    {
      "cell_type": "code",
      "source": [
        "Y_tensor = torch.Tensor(Y)\n",
        "_, Y_tensor =  torch.max(Y_tensor, 1) \n",
        "Y_hat_tensor = torch.Tensor(Y_hat)\n",
        "\n",
        "\n",
        "_, predicted = torch.max(Y_hat_tensor, 1) \n",
        "# print(predicted.shape)\n",
        "# print(y.shape)\n",
        "print(predicted.shape)\n",
        "correct = (predicted == Y_tensor).sum().item()\n",
        "wrong = len(Y) - correct"
      ],
      "metadata": {
        "colab": {
          "base_uri": "https://localhost:8080/"
        },
        "id": "782hYYxLy6UM",
        "outputId": "51cb0b8f-c4aa-415e-fb15-607896586ea7"
      },
      "execution_count": 53,
      "outputs": [
        {
          "output_type": "stream",
          "name": "stdout",
          "text": [
            "torch.Size([159420])\n"
          ]
        }
      ]
    },
    {
      "cell_type": "code",
      "source": [
        "print(Y_tensor)\n",
        "print(predicted)"
      ],
      "metadata": {
        "colab": {
          "base_uri": "https://localhost:8080/"
        },
        "id": "qfeXlRqj0L22",
        "outputId": "48a38115-9e67-4833-beef-69d03d1441fa"
      },
      "execution_count": 54,
      "outputs": [
        {
          "output_type": "stream",
          "name": "stdout",
          "text": [
            "tensor([0, 0, 0,  ..., 3, 3, 3])\n",
            "tensor([0, 0, 0,  ..., 3, 3, 3])\n"
          ]
        }
      ]
    },
    {
      "cell_type": "code",
      "source": [
        "correct, wrong"
      ],
      "metadata": {
        "colab": {
          "base_uri": "https://localhost:8080/"
        },
        "id": "88-2-L6yy6QS",
        "outputId": "504f35ec-5ea3-42d1-c60f-f5b9c862e001"
      },
      "execution_count": 55,
      "outputs": [
        {
          "output_type": "execute_result",
          "data": {
            "text/plain": [
              "(157838, 1582)"
            ]
          },
          "metadata": {},
          "execution_count": 55
        }
      ]
    },
    {
      "cell_type": "code",
      "source": [
        "print('accuracy:',correct/(correct + wrong))"
      ],
      "metadata": {
        "colab": {
          "base_uri": "https://localhost:8080/"
        },
        "id": "wVQ1-2_n2pwB",
        "outputId": "19f5252d-9b56-48b5-9930-f4720bb5f929"
      },
      "execution_count": 59,
      "outputs": [
        {
          "output_type": "stream",
          "name": "stdout",
          "text": [
            "accuracy: 0.990076527411868\n"
          ]
        }
      ]
    },
    {
      "cell_type": "code",
      "source": [
        "# confusion matrix 사용을 위한 라이브러리\n",
        "from sklearn.metrics import confusion_matrix\n",
        "conf_matrix = confusion_matrix(Y_tensor, predicted)\n",
        "print(conf_matrix)\n",
        "\n"
      ],
      "metadata": {
        "id": "KOQh-DH0yNHr",
        "colab": {
          "base_uri": "https://localhost:8080/"
        },
        "outputId": "9133ceae-3a96-4256-8322-ee6fa7272cde"
      },
      "execution_count": 56,
      "outputs": [
        {
          "output_type": "stream",
          "name": "stdout",
          "text": [
            "[[39381   164   137   173]\n",
            " [  533 39322     0     0]\n",
            " [  209     0 39527   119]\n",
            " [  173     0    74 39608]]\n"
          ]
        }
      ]
    },
    {
      "cell_type": "code",
      "source": [
        "#one-hot encoding\n",
        "      # original = [1,0,0,0]\n",
        "      # s_maf = [0,1,0,0]\n",
        "      # s_asln = [0,0,1,0]\n",
        "      # s_apn = [0,0,0,1]\n",
        "\n",
        "title = 'confusion matrix'\n",
        "cmap=plt.cm.Greens\n",
        "plt.figure(figsize=(6, 6))\n",
        "plt.imshow(conf_matrix, interpolation='nearest', cmap=cmap)  # , cmap=plt.cm.Greens\n",
        "plt.title(title, size=12)\n",
        "plt.colorbar(fraction=0.05, pad=0.05)\n",
        "tick_marks = np.arange(4, 4)\n",
        "plt.xticks(np.arange(4), ('raw','stationary','trendstationary','cyclostationary'))\n",
        "plt.yticks(np.arange(4), ('raw','stationary','trendstationary','cyclostationary'))\n",
        "\n",
        "\n",
        "fmt = 'd' \n",
        "thresh = 1\n",
        "for i in range(conf_matrix.shape[0]):\n",
        "    for j in range(conf_matrix.shape[1]):\n",
        "        plt.text(j, i, format(conf_matrix[i, j], fmt),\n",
        "                 ha=\"center\", va=\"center\", color=\"black\" if conf_matrix[i, j] > thresh else \"black\")  #horizontalalignment\n",
        "plt.savefig('Sleepedf+MASS_confusionmatrix_10s',bbox_inches = 'tight')"
      ],
      "metadata": {
        "colab": {
          "base_uri": "https://localhost:8080/",
          "height": 367
        },
        "id": "SbFjZfyHycrx",
        "outputId": "f62aaa37-7cbd-4e4f-b7a0-811a00886232"
      },
      "execution_count": 62,
      "outputs": [
        {
          "output_type": "display_data",
          "data": {
            "text/plain": [
              "<Figure size 432x432 with 2 Axes>"
            ],
            "image/png": "[encoded data removed]"
          },
          "metadata": {
            "needs_background": "light"
          }
        }
      ]
    }
  ]
}