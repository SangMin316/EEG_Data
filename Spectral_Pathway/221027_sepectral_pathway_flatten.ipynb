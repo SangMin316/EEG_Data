{
  "cells": [
    {
      "cell_type": "code",
      "execution_count": 2,
      "metadata": {
        "colab": {
          "base_uri": "https://localhost:8080/"
        },
        "id": "bDWt74XAgpLK",
        "outputId": "383e98fe-23c9-4455-a10a-7cd0373ea662"
      },
      "outputs": [
        {
          "output_type": "stream",
          "name": "stdout",
          "text": [
            "Looking in indexes: https://pypi.org/simple, https://us-python.pkg.dev/colab-wheels/public/simple/\n",
            "Requirement already satisfied: mne in /usr/local/lib/python3.7/dist-packages (1.2.1)\n",
            "Requirement already satisfied: scipy>=1.1.0 in /usr/local/lib/python3.7/dist-packages (from mne) (1.7.3)\n",
            "Requirement already satisfied: decorator in /usr/local/lib/python3.7/dist-packages (from mne) (4.4.2)\n",
            "Requirement already satisfied: matplotlib in /usr/local/lib/python3.7/dist-packages (from mne) (3.2.2)\n",
            "Requirement already satisfied: tqdm in /usr/local/lib/python3.7/dist-packages (from mne) (4.64.1)\n",
            "Requirement already satisfied: pooch>=1.5 in /usr/local/lib/python3.7/dist-packages (from mne) (1.6.0)\n",
            "Requirement already satisfied: packaging in /usr/local/lib/python3.7/dist-packages (from mne) (21.3)\n",
            "Requirement already satisfied: jinja2 in /usr/local/lib/python3.7/dist-packages (from mne) (2.11.3)\n",
            "Requirement already satisfied: numpy>=1.15.4 in /usr/local/lib/python3.7/dist-packages (from mne) (1.21.6)\n",
            "Requirement already satisfied: appdirs>=1.3.0 in /usr/local/lib/python3.7/dist-packages (from pooch>=1.5->mne) (1.4.4)\n",
            "Requirement already satisfied: requests>=2.19.0 in /usr/local/lib/python3.7/dist-packages (from pooch>=1.5->mne) (2.23.0)\n",
            "Requirement already satisfied: pyparsing!=3.0.5,>=2.0.2 in /usr/local/lib/python3.7/dist-packages (from packaging->mne) (3.0.9)\n",
            "Requirement already satisfied: idna<3,>=2.5 in /usr/local/lib/python3.7/dist-packages (from requests>=2.19.0->pooch>=1.5->mne) (2.10)\n",
            "Requirement already satisfied: certifi>=2017.4.17 in /usr/local/lib/python3.7/dist-packages (from requests>=2.19.0->pooch>=1.5->mne) (2022.9.24)\n",
            "Requirement already satisfied: chardet<4,>=3.0.2 in /usr/local/lib/python3.7/dist-packages (from requests>=2.19.0->pooch>=1.5->mne) (3.0.4)\n",
            "Requirement already satisfied: urllib3!=1.25.0,!=1.25.1,<1.26,>=1.21.1 in /usr/local/lib/python3.7/dist-packages (from requests>=2.19.0->pooch>=1.5->mne) (1.24.3)\n",
            "Requirement already satisfied: MarkupSafe>=0.23 in /usr/local/lib/python3.7/dist-packages (from jinja2->mne) (2.0.1)\n",
            "Requirement already satisfied: python-dateutil>=2.1 in /usr/local/lib/python3.7/dist-packages (from matplotlib->mne) (2.8.2)\n",
            "Requirement already satisfied: cycler>=0.10 in /usr/local/lib/python3.7/dist-packages (from matplotlib->mne) (0.11.0)\n",
            "Requirement already satisfied: kiwisolver>=1.0.1 in /usr/local/lib/python3.7/dist-packages (from matplotlib->mne) (1.4.4)\n",
            "Requirement already satisfied: typing-extensions in /usr/local/lib/python3.7/dist-packages (from kiwisolver>=1.0.1->matplotlib->mne) (4.1.1)\n",
            "Requirement already satisfied: six>=1.5 in /usr/local/lib/python3.7/dist-packages (from python-dateutil>=2.1->matplotlib->mne) (1.15.0)\n"
          ]
        }
      ],
      "source": [
        "!pip install mne"
      ]
    },
    {
      "cell_type": "code",
      "execution_count": 3,
      "metadata": {
        "id": "l4YUYhC7E4Ck"
      },
      "outputs": [],
      "source": [
        "from torch.utils.data import Dataset\n",
        "import torch\n",
        "import pickle\n",
        "import mne\n",
        "import numpy as np\n",
        "import time\n",
        "\n",
        "class Sleepedf_dataset(Dataset):\n",
        "    def __init__(self, files, seq_len, SSL = bool):\n",
        "        self.files = files\n",
        "        self.sequence_length = seq_len\n",
        "        self.SSL = SSL\n",
        "        # sample을 split해줬을 때 몇개로 split되는지 누적해서 저장, i번째 data를 찾을 때 data_adress 각 값이 기준이 됨\n",
        "        data_adress = [0]\n",
        "        ad = 0\n",
        "        max_value = 0.\n",
        "        min_value = 0.\n",
        "\n",
        "        for i in range(len(self.files)):\n",
        "            sample = np.load(files[i])['x']\n",
        "            c,t = sample.shape\n",
        "            t = int(t/self.sequence_length) \n",
        "            ad += t\n",
        "            data_adress.append(ad)\n",
        "            temp_max = sample.max()\n",
        "            temp_min = sample.min()\n",
        "            max_value = np.max([max_value, temp_max])\n",
        "            min_value = np.min([min_value, temp_min])\n",
        "        \n",
        "        self.data_adress = data_adress\n",
        "        self.max_value = max_value\n",
        "        self.min_value = min_value\n",
        "\n",
        "    def preprocessing(self, data):\n",
        "        data_max = np.max(data,axis = 2, keepdims=True) # max value of each channels\n",
        "        data_min = np.min(data,axis = 2, keepdims=True) # shape = b,c\n",
        "        b,c,t = data.shape\n",
        "        \n",
        "        return data/data_max*np.ones((b,c,t)) - (data_max - data_min)*np.ones((b,c,t))/(self.max_value - self.min_value)\n",
        "\n",
        "\n",
        "    def split_data(self, data):\n",
        "        L = self.sequence_length\n",
        "        channels, length = data.shape\n",
        "        a = L*int(length/L)\n",
        "        \n",
        "        if length == a:\n",
        "            data = np.reshape(data,(int(length/L),channels,L))\n",
        "        \n",
        "        else:\n",
        "            data = data[:,:a]\n",
        "            data = np.reshape(data,(int(a/L),channels,L))\n",
        "        return data\n",
        "\n",
        "    def one_hot_encoding(self,y):\n",
        "        if y == 'Sleep stage W':\n",
        "          y = np.array([1,0,0,0,0])\n",
        "        elif y == 'Sleep stage 1':\n",
        "          y = np.array([0,1,0,0,0])\n",
        "        elif y == 'Sleep stage 2':\n",
        "          y = np.array([0,0,1,0,0])   \n",
        "        elif y == 'Sleep stage 3':\n",
        "          y = np.array([0,0,0,1,0])\n",
        "        elif y == 'Sleep stage R':\n",
        "          y = np.array([0,0,0,0,1])      \n",
        "        return y  \n",
        "\n",
        "\n",
        "    def __getitem__(self, index):\n",
        "        for i in range(len(self.data_adress)):\n",
        "            if index < self.data_adress[i]:\n",
        "                break\n",
        "          \n",
        "        sample = np.load(self.files[i-1])  \n",
        "        y = self.one_hot_encoding(sample['y'])\n",
        "        sample = self.split_data(sample['x'])\n",
        "        sample = self.preprocessing(sample)\n",
        "\n",
        "        if self.SSL:\n",
        "          return sample[index - self.data_adress[i-1],:,:]\n",
        "        else:\n",
        "          return { 'x' : torch.tensor(sample[index - self.data_adress[i-1],:,:]), \n",
        "                   'y' : torch.tensor(y)\n",
        "                   }\n",
        "\n",
        "          \n",
        "          \n",
        "    def __len__(self):\n",
        "        return self.data_adress[-1]\n"
      ]
    },
    {
      "cell_type": "code",
      "execution_count": 4,
      "metadata": {
        "id": "x59y8HGhPIQB"
      },
      "outputs": [],
      "source": [
        "class MASS_dataset(Dataset):\n",
        "    def __init__(self, files, seq_len, SSL = bool):\n",
        "        self.files = files\n",
        "        self.sequence_length = seq_len\n",
        "        self.SSL = SSL\n",
        "        # self.freq = 1.28 # 256Hz / 1.28 = 200Hz\n",
        "        # sample을 split해줬을 때 몇개로 split되는지 누적해서 저장, i번째 data를 찾을 때 data_adress 각 값이 기준이 됨\n",
        "        data_adress = [0]\n",
        "        ad = 0\n",
        "        max_value = 0.\n",
        "        min_value = 0.\n",
        "\n",
        "        for i in range(len(self.files)):\n",
        "            sample = np.load(files[i])['x']\n",
        "            c,t = sample.shape\n",
        "            t = int(t/self.sequence_length) \n",
        "            ad += t\n",
        "            data_adress.append(ad)\n",
        "            temp_max = sample.max()\n",
        "            temp_min = sample.min()\n",
        "            max_value = np.max([max_value, temp_max])\n",
        "            min_value = np.min([min_value, temp_min])\n",
        "      \n",
        "        self.data_adress = data_adress\n",
        "        self.max_value = max_value\n",
        "        self.min_value = min_value\n",
        "\n",
        "    def preprocessing(self, data):\n",
        "        data_max = np.max(data,axis = 2, keepdims=True) # max value of each channels\n",
        "        data_min = np.min(data,axis = 2, keepdims=True) # shape = b,c\n",
        "        b,c,t = data.shape\n",
        "        \n",
        "        return data/data_max*np.ones((b,c,t)) - (data_max - data_min)*np.ones((b,c,t))/(self.max_value - self.min_value)\n",
        "\n",
        "\n",
        "    def split_data(self, data):\n",
        "        L = self.sequence_length\n",
        "        channels, length = data.shape\n",
        "        a = L*int(length/L)\n",
        "        \n",
        "        if length == a:\n",
        "            data = np.reshape(data,(int(length/L),channels,L))\n",
        "        \n",
        "        else:\n",
        "            data = data[:,:a]\n",
        "            data = np.reshape(data,(int(a/L),channels,L))\n",
        "        return data\n",
        "\n",
        "    def one_hot_encoding(self,y):\n",
        "        if y == 'Sleep stage W':\n",
        "          y = np.array([1,0,0,0,0])\n",
        "        elif y == 'Sleep stage 1':\n",
        "          y = np.array([0,1,0,0,0])\n",
        "        elif y == 'Sleep stage 2':\n",
        "          y = np.array([0,0,1,0,0])   \n",
        "        elif y == 'Sleep stage 3':\n",
        "          y = np.array([0,0,0,1,0])\n",
        "        elif y == 'Sleep stage R':\n",
        "          y = np.array([0,0,0,0,1])      \n",
        "        return y  \n",
        "\n",
        "\n",
        "    def __getitem__(self, index):\n",
        "        for i in range(len(self.data_adress)):\n",
        "            if index < self.data_adress[i]:\n",
        "                break\n",
        "          \n",
        "        sample = np.load(self.files[i-1])  \n",
        "        y = self.one_hot_encoding(sample['y'])\n",
        "        sample = self.split_data(sample['x'])\n",
        "        sample = self.preprocessing(sample)\n",
        "\n",
        "        if self.SSL:\n",
        "          return sample[index - self.data_adress[i-1],:,:]\n",
        "        else:\n",
        "          return { 'x' : torch.tensor(sample[index - self.data_adress[i-1],:,:]), \n",
        "                   'y' : torch.tensor(y)\n",
        "                   }\n",
        "\n",
        "          \n",
        "    def __len__(self):\n",
        "        return self.data_adress[-1]"
      ]
    },
    {
      "cell_type": "code",
      "execution_count": 5,
      "metadata": {
        "id": "dK-L4S1ZPOy8"
      },
      "outputs": [],
      "source": [
        "from sklearn.model_selection import train_test_split\n",
        "\n",
        "class concat_dataset():\n",
        "    def __init__(self, data_dic,seq_len):\n",
        "        self.data_dic = data_dic #data_dic : {'dataset1_name : [dataset1_adress],,,datasetN_name : [datasetN_adress]}\n",
        "        self.seq_len = seq_len\n",
        "    \n",
        "    def tr_val_te_split(self,data_list):\n",
        "        train, test = train_test_split(data_list, test_size=0.2)#, shuffle=True, random_state=34), #stratify=target\n",
        "        train, val = train_test_split(train, test_size= 0.25)#, shuffle=True, random_state=34)\n",
        "        del data_list\n",
        "        print('split done')\n",
        "        return train, val, test    \n",
        "    \n",
        "    def call(self):\n",
        "        # train_dataset = [] # extend로 빈 어레의 받으면 메모리가 터지는 문제 발생했음.\n",
        "        # val_dataset = []\n",
        "        # test_dataset = []\n",
        "    \n",
        "        for name, data_list in self.data_dic.items():\n",
        "            print(name)\n",
        "            tr, val, te = self.tr_val_te_split(data_list)\n",
        "            \n",
        "            if name =='Sleep_edf':\n",
        "                sleepedf_train_data = Sleepedf_dataset(tr,self.seq_len,SSL = True)\n",
        "                print('sleep train done')\n",
        "                sleepedf_val_data = Sleepedf_dataset(val,self.seq_len, SSL = True)\n",
        "                print('sleep val done')\n",
        "                sleepedf_test_data = Sleepedf_dataset(te,self.seq_len, SSL = True)\n",
        "                print('sleep test done')\n",
        "            \n",
        "            elif name == 'MASS':\n",
        "                MASS_train_data = Sleepedf_dataset(tr,self.seq_len, SSL = True)\n",
        "                print('MASS train done')\n",
        "                MASS_val_data = Sleepedf_dataset(val,self.seq_len, SSL = True)\n",
        "                print('MASS val done')\n",
        "                MASS_test_data = Sleepedf_dataset(te,self.seq_len, SSL = True)\n",
        "                print('MASS test done')\n",
        "        \n",
        "            # train_dataset.extend(train_data)\n",
        "            # val_dataset.extend(val_data)\n",
        "            # test_dataset.extend(test_data)\n",
        "            # print(train_data)\n",
        "\n",
        "        # del train_data,val_data, test_data\n",
        "    \n",
        "        train_dataset = torch.utils.data.ConcatDataset([sleepedf_train_data,MASS_train_data])\n",
        "        val_dataset = torch.utils.data.ConcatDataset([sleepedf_test_data,MASS_val_data])\n",
        "        test_dataset = torch.utils.data.ConcatDataset([sleepedf_val_data,MASS_test_data])\n",
        "    \n",
        "        return train_dataset, val_dataset, test_dataset"
      ]
    },
    {
      "cell_type": "code",
      "execution_count": 6,
      "metadata": {
        "colab": {
          "base_uri": "https://localhost:8080/"
        },
        "id": "pk5UWrymWlfa",
        "outputId": "d55796b4-525e-44d9-c0bb-0417b3914d9b"
      },
      "outputs": [
        {
          "output_type": "stream",
          "name": "stdout",
          "text": [
            "153\n",
            "2650\n",
            "2830\n"
          ]
        },
        {
          "output_type": "execute_result",
          "data": {
            "text/plain": [
              "5480"
            ]
          },
          "metadata": {},
          "execution_count": 6
        }
      ],
      "source": [
        "import glob\n",
        "SC_list = glob.glob('/content/drive/MyDrive/sleep_edfx/Preprocessed_EEG/SC/**')\n",
        "print(len(SC_list))\n",
        "sleepedf_list = []\n",
        "for i in range(2):\n",
        "  length = len(sleepedf_list)\n",
        "  sleepedf_list.extend(glob.glob(SC_list[i]+'/**'))\n",
        "  print(len(sleepedf_list) - length)\n",
        "len(sleepedf_list)"
      ]
    },
    {
      "cell_type": "code",
      "execution_count": 7,
      "metadata": {
        "colab": {
          "base_uri": "https://localhost:8080/"
        },
        "id": "obBikyK6Wlhg",
        "outputId": "5de047b4-72c9-4fe9-a6cf-88ec8e0f3f8b"
      },
      "outputs": [
        {
          "output_type": "stream",
          "name": "stdout",
          "text": [
            "53\n",
            "1004\n",
            "1071\n",
            "937\n",
            "1041\n",
            "1079\n",
            "991\n",
            "877\n",
            "7000\n"
          ]
        }
      ],
      "source": [
        "SS1_list = glob.glob('/content/drive/MyDrive/EEG_data/MASS/SS1/Preprocessed_EEGedf/**')\n",
        "print(len(SS1_list))\n",
        "MASS_list = []\n",
        "for i in range(7,14):\n",
        "    length = len(MASS_list)\n",
        "    MASS_list.extend(glob.glob(SS1_list[i]+'/**'))\n",
        "    print(len(MASS_list) - length)\n",
        "print(len(MASS_list))"
      ]
    },
    {
      "cell_type": "code",
      "execution_count": 8,
      "metadata": {
        "id": "eY3pJkIbWoFC"
      },
      "outputs": [],
      "source": [
        "data_dic = {'MASS' : MASS_list[:1000], 'Sleep_edf': sleepedf_list[:1000]}"
      ]
    },
    {
      "cell_type": "code",
      "execution_count": 9,
      "metadata": {
        "colab": {
          "base_uri": "https://localhost:8080/"
        },
        "id": "pb6mPckKWoHR",
        "outputId": "221aa18a-b171-41a0-e347-6be35cfc44aa"
      },
      "outputs": [
        {
          "output_type": "stream",
          "name": "stdout",
          "text": [
            "MASS\n",
            "split done\n",
            "MASS train done\n",
            "MASS val done\n",
            "MASS test done\n",
            "Sleep_edf\n",
            "split done\n",
            "sleep train done\n",
            "sleep val done\n",
            "sleep test done\n"
          ]
        }
      ],
      "source": [
        "train_dataset, val_dataset, test_dataset = concat_dataset(data_dic, seq_len = 2000).call()"
      ]
    },
    {
      "cell_type": "code",
      "execution_count": 10,
      "metadata": {
        "id": "CcmiiI43YFCV"
      },
      "outputs": [],
      "source": [
        "from torch.utils.data import DataLoader\n",
        "trainLoader = DataLoader(train_dataset, batch_size = 10 , shuffle= False)\n",
        "valLoader = DataLoader(val_dataset, batch_size = 10 , shuffle= False)\n",
        "testLoader = DataLoader(test_dataset, batch_size = 10 , shuffle= False)\n"
      ]
    },
    {
      "cell_type": "code",
      "execution_count": 11,
      "metadata": {
        "colab": {
          "base_uri": "https://localhost:8080/"
        },
        "id": "3YWymlqfWs4T",
        "outputId": "e26f5616-5aa1-4740-c1c0-b515e32adf3d"
      },
      "outputs": [
        {
          "output_type": "stream",
          "name": "stdout",
          "text": [
            "batch_idx: 0   torch.Size([10, 2, 2000])\n",
            "time: 0.10629081726074219\n",
            "batch_idx: 1   torch.Size([10, 2, 2000])\n",
            "time: 0.12753725051879883\n",
            "batch_idx: 2   torch.Size([10, 2, 2000])\n",
            "time: 0.1474754810333252\n",
            "batch_idx: 3   torch.Size([10, 2, 2000])\n",
            "time: 0.16811466217041016\n",
            "batch_idx: 4   torch.Size([10, 2, 2000])\n",
            "time: 0.19106101989746094\n",
            "batch_idx: 5   torch.Size([10, 2, 2000])\n",
            "time: 0.21094131469726562\n",
            "batch_idx: 6   torch.Size([10, 2, 2000])\n",
            "time: 0.23074817657470703\n",
            "batch_idx: 7   torch.Size([10, 2, 2000])\n",
            "time: 0.2509746551513672\n",
            "batch_idx: 8   torch.Size([10, 2, 2000])\n",
            "time: 0.27080345153808594\n",
            "batch_idx: 9   torch.Size([10, 2, 2000])\n",
            "time: 0.2900559902191162\n",
            "batch_idx: 10   torch.Size([10, 2, 2000])\n",
            "time: 0.31314802169799805\n"
          ]
        }
      ],
      "source": [
        "import time\n",
        "start_T = time.time()\n",
        "for batch_idx, batch in enumerate(valLoader):\n",
        "  print('batch_idx:',batch_idx,' ',batch.shape)\n",
        "  end_T = time.time()\n",
        "  print('time:', end_T - start_T)\n",
        "  if batch_idx >= 10:\n",
        "        break"
      ]
    },
    {
      "cell_type": "code",
      "execution_count": 12,
      "metadata": {
        "colab": {
          "base_uri": "https://localhost:8080/"
        },
        "id": "834tX7V_uCyj",
        "outputId": "266e9d3b-1be2-4256-e884-53be7024396b"
      },
      "outputs": [
        {
          "output_type": "stream",
          "name": "stdout",
          "text": [
            "Looking in indexes: https://pypi.org/simple, https://us-python.pkg.dev/colab-wheels/public/simple/\n",
            "Collecting separableconv-torch\n",
            "  Downloading separableconv_torch-0.1.0-py3-none-any.whl (11 kB)\n",
            "Requirement already satisfied: numpy in /usr/local/lib/python3.7/dist-packages (from separableconv-torch) (1.21.6)\n",
            "Requirement already satisfied: torch in /usr/local/lib/python3.7/dist-packages (from separableconv-torch) (1.12.1+cu113)\n",
            "Requirement already satisfied: torchvision in /usr/local/lib/python3.7/dist-packages (from separableconv-torch) (0.13.1+cu113)\n",
            "Requirement already satisfied: typing-extensions in /usr/local/lib/python3.7/dist-packages (from torch->separableconv-torch) (4.1.1)\n",
            "Requirement already satisfied: requests in /usr/local/lib/python3.7/dist-packages (from torchvision->separableconv-torch) (2.23.0)\n",
            "Requirement already satisfied: pillow!=8.3.*,>=5.3.0 in /usr/local/lib/python3.7/dist-packages (from torchvision->separableconv-torch) (7.1.2)\n",
            "Requirement already satisfied: urllib3!=1.25.0,!=1.25.1,<1.26,>=1.21.1 in /usr/local/lib/python3.7/dist-packages (from requests->torchvision->separableconv-torch) (1.24.3)\n",
            "Requirement already satisfied: certifi>=2017.4.17 in /usr/local/lib/python3.7/dist-packages (from requests->torchvision->separableconv-torch) (2022.9.24)\n",
            "Requirement already satisfied: chardet<4,>=3.0.2 in /usr/local/lib/python3.7/dist-packages (from requests->torchvision->separableconv-torch) (3.0.4)\n",
            "Requirement already satisfied: idna<3,>=2.5 in /usr/local/lib/python3.7/dist-packages (from requests->torchvision->separableconv-torch) (2.10)\n",
            "Installing collected packages: separableconv-torch\n",
            "Successfully installed separableconv-torch-0.1.0\n"
          ]
        }
      ],
      "source": [
        "!pip install separableconv-torch"
      ]
    },
    {
      "cell_type": "code",
      "execution_count": 13,
      "metadata": {
        "id": "AISU52mNuvT0"
      },
      "outputs": [],
      "source": [
        "import numpy as np\n",
        "import torch\n",
        "import torch.nn as nn\n",
        "from mne.filter import filter_data, notch_filter\n",
        "import matplotlib.pyplot as plt\n",
        "# import hypertools as hyp\n",
        "from sklearn.metrics import f1_score\n",
        "\n",
        "def accuracy_check(pred, label):\n",
        "    prediction = np.argmax(pred, axis=1)\n",
        "    lb = np.argmax(label, axis=1)\n",
        "\n",
        "    compare = np.equal(lb, prediction)\n",
        "    accuracy = np.sum(compare.tolist()) / len(compare.tolist())\n",
        "\n",
        "    f1acc = f1_score(lb, prediction, average='micro')\n",
        "\n",
        "    return accuracy, f1acc\n",
        "\n",
        "def dotprod_sample(sample):\n",
        "    length = sample.shape[0]\n",
        "    sam = nn.functional.normalize(sample.reshape([length,-1]), dim=1)\n",
        "    result = torch.matmul(sam, sam.T)\n",
        "\n",
        "    return result\n",
        "\n",
        "\n",
        "TRAIN = 0\n",
        "VALIDATION = 1\n",
        "TEST = 2\n",
        "\n",
        "class StoppedBandPredTaskLoss(torch.nn.modules.loss._Loss):\n",
        "    def __init__(self, bands, labels, device):\n",
        "        super().__init__()\n",
        "        self.device = device\n",
        "        self.BAND = bands\n",
        "        self.LABEL = labels\n",
        "\n",
        "    def forward(self, batch, encoder, sfreq, train):\n",
        "        batch_aug = []\n",
        "        batch_label = []\n",
        "        b,c,t = batch.shape\n",
        "        batch = np.reshape(batch,(b*c,t))        #Band has freqeuncy range, filter_data plays the role of Band Stop filter\n",
        "        \n",
        "        #each Labels are composed of one-hot vectors and are copied ( Bands size * Batch size )\n",
        "        for idx,band in enumerate(self.BAND):\n",
        "            lfreq, rfreq = band\n",
        "            data = filter_data(batch.numpy().astype(np.float64), sfreq=200, l_freq=rfreq, h_freq=lfreq, verbose=False)\n",
        "            batch_aug.extend(data)\n",
        "            batch_label.extend(data.shape[0] * [self.LABEL[idx]])\n",
        "\n",
        "        #[batch, augmentation, channel, time length] -> [batch*augmentation, channel, time length]\n",
        "        # b,a,l = np.array(batch_aug).shape\n",
        "        batch_aug = np.array(batch_aug)\n",
        " \n",
        "        batch_label = np.array(batch_label)\n",
        "        c,t = batch_aug.shape\n",
        "        batch_aug = np.reshape(batch_aug,(c,1,t))\n",
        "        batch_label = torch.Tensor(batch_label).to(device)\n",
        "  \n",
        "        #Self-supervised Learning Loss is CrossEntropy\n",
        "        CrossEL = torch.nn.CrossEntropyLoss()\n",
        "        pred = encoder.forward(torch.Tensor(batch_aug).to(device))\n",
        "        loss = CrossEL(pred, batch_label)\n",
        "        _, y =  torch.max(batch_label, 1) \n",
        "        _, predicted = torch.max(pred, 1) \n",
        "        \n",
        "    \n",
        "        if train:\n",
        "            loss.backward(retain_graph=True)\n",
        "            \n",
        "        acc = (predicted == y).sum().item()\n",
        "        acc = acc/c #acc/(batch*channels*4(augmented))\n",
        "        loss = loss\n",
        "      \n",
        "        del y\n",
        "        return loss, acc"
      ]
    },
    {
      "cell_type": "code",
      "execution_count": 24,
      "metadata": {
        "id": "aJVoejtCuxGB"
      },
      "outputs": [],
      "source": [
        "def weight_init_xavier_uniform(submodule):\n",
        "    # if isinstance(submodule, snn.SeparableConv1d):\n",
        "    #     torch.nn.init.xavier_uniform_(submodule.weight)\n",
        "\n",
        "    if isinstance(submodule, nn.Linear):\n",
        "        torch.nn.init.xavier_uniform_(submodule.weight)\n",
        "\n",
        "class Encoder(nn.Module):\n",
        "    def __init__(self, fs, encode_info):\n",
        "        super(Encoder, self).__init__()\n",
        "        #spectral layer means spectral convolution\n",
        "        #self.bac_layer is consist of several SeparableConv2d, which plays the role of temporal separable convolution\n",
        "        #convolution layer are initiated by xavier_uniform initization\n",
        "        #Input are Normalized by self.bn(=torch.nn.BatchNorm2d)\n",
        "        #[batch, electrode, length] -> [batch, electrode, Feature]\n",
        "        self.fs = fs\n",
        "        self.elu = nn.ELU()\n",
        "        self.maxpool = nn.AdaptiveMaxPool1d(1)\n",
        "        self.bn = nn.BatchNorm1d(1)\n",
        "        self.activation = nn.LeakyReLU()\n",
        "\n",
        "        self.spectral_layer = nn.Conv1d(1, 10, int(self.fs/2), padding=\"same\")\n",
        "\n",
        "        # self.bac_layer = nn.Sequential()\n",
        "        # for i, arg in enumerate(encode_info):\n",
        "        #     input_dim, output_dim, kernel_size = arg\n",
        "        #     self.bac_layer.add_module(\"temporal_conv_\"+str(i),\n",
        "        #                           nn.Conv1d(input_dim, output_dim, kernel_size, padding = 'same'))\n",
        "        #     self.bac_layer.add_module(\"ELU\",nn.ELU()) \n",
        "        \n",
        "        self.conv1t = nn.Conv1d(10,16, 30, padding ='same')\n",
        "        self.conv2t = nn.Conv1d(16,32, 15, padding ='same')\n",
        "        self.conv3t = nn.Conv1d(32,64, 5, padding ='same')\n",
        "        \n",
        "        # torch.nn.init.xavier_uniform_(self.spectral_layer.weight)\n",
        "        #self.bac_layer.apply(weight_init_xavier_uniform)\n",
        "\n",
        "    def forward(self, x):\n",
        "        x = self.activation(self.spectral_layer(x))\n",
        "        x = self.activation(self.conv1t(x))\n",
        "        x = self.activation(self.conv2t(x))\n",
        "        x = self.activation(self.conv3t(x))\n",
        "\n",
        "        return x\n",
        "\n",
        "#Linear layer for SSL classification\n",
        "class Head_NN(nn.Module):\n",
        "    def __init__(self, length):\n",
        "        super(Head_NN, self).__init__()\n",
        "        self.length = length\n",
        "        \n",
        "        self.layer = nn.Sequential(\n",
        "            nn.Dropout(0.5),\n",
        "            nn.Linear(64*length, 5)\n",
        "        )\n",
        "        \n",
        "        # self.layer = nn.Sequential(\n",
        "        #     nn.Dropout(0.5),\n",
        "        #     nn.Linear(64, 5)\n",
        "        # )\n",
        "        \n",
        "        self.softmax = torch.nn.Softmax()\n",
        "        # self.layer.apply(weight_init_xavier_uniform)\n",
        "        self.bn = nn.BatchNorm1d(64)\n",
        "        self.flatten = nn.Flatten()\n",
        "\n",
        "    def forward(self, x):\n",
        "        # x = torch.mean(x, axis = 2) # Global average pooling into temporal dimension\n",
        "        x = self.flatten(x)\n",
        "        x = self.layer(x)\n",
        "        x = self.softmax(x)\n",
        "        return x\n",
        "\n",
        "class StoppedBandPathway(nn.Module):\n",
        "    def __init__(self, fs, Unsupervise, encode_info, bands):\n",
        "        super(StoppedBandPathway, self).__init__()\n",
        "        self.encoder = Encoder(fs, encode_info)\n",
        "        self.pretrain = Head_NN(2000)\n",
        "        self.Unsupervise = Unsupervise\n",
        "\n",
        "\n",
        "    def forward(self, x):\n",
        "        x = self.encoder(x)\n",
        "        x = self.pretrain(x)\n",
        "        return x\n",
        "\n",
        "    def getRep(self, x):\n",
        "        x = self.encoder(x)\n",
        "        return x\n"
      ]
    },
    {
      "cell_type": "code",
      "execution_count": 15,
      "metadata": {
        "id": "E-HDYWxLaZiA"
      },
      "outputs": [],
      "source": [
        "\n",
        "import os\n",
        "import torch\n",
        "# batch size\n",
        "batch_size = 20\n",
        "learning_rate = 0.01\n",
        "epochs = 10\n",
        "\n",
        "os.environ[\"CUDA_VISIBLE_DEVICES\"] = \"0\"\n",
        "device = torch.device(\"cuda:0\" if torch.cuda.is_available() else \"cpu\")\n",
        "#torch.device(\"cuda:0\" if torch.cuda.is_available() else \"cpu\")\n",
        "#\"cpu\""
      ]
    },
    {
      "cell_type": "code",
      "execution_count": 16,
      "metadata": {
        "colab": {
          "base_uri": "https://localhost:8080/"
        },
        "id": "6TiQ9BH615R_",
        "outputId": "3a85ca5b-730a-4f27-8ebe-2060516a7a31"
      },
      "outputs": [
        {
          "output_type": "stream",
          "name": "stdout",
          "text": [
            "cuda:0\n"
          ]
        }
      ],
      "source": [
        "print(device)"
      ]
    },
    {
      "cell_type": "code",
      "execution_count": 17,
      "metadata": {
        "id": "SpnINn5J2AVM"
      },
      "outputs": [],
      "source": [
        "from torch.utils.data import DataLoader\n",
        "trainLoader = DataLoader(train_dataset, batch_size = batch_size , shuffle= False)\n",
        "valLoader = DataLoader(val_dataset, batch_size = batch_size , shuffle= False)\n",
        "testLoader = DataLoader(test_dataset, batch_size = batch_size , shuffle= False)"
      ]
    },
    {
      "cell_type": "code",
      "execution_count": 25,
      "metadata": {
        "id": "gPM0DbXxuz9n"
      },
      "outputs": [],
      "source": [
        "BANDS = [(0.5,4), (4,8), (8,15), (15,30), (30,49.9)]\n",
        "LABEL = [[1,0,0,0,0],[0,1,0,0,0],[0,0,1,0,0],[0,0,0,1,0],[0,0,0,0,1]]\n",
        "\n",
        "encode_info = [(10, 16, 30),(16, 32, 15),(32, 64, 5)]\n",
        "sfreq = 200\n",
        "\n",
        "\n",
        "model = StoppedBandPathway(sfreq,True,encode_info,BANDS).to(device)\n",
        "#model = MSNN.feature_extractor3(sfreq).to(device)\n",
        "\n",
        "# Custom Tripletloss\n",
        "criterion = StoppedBandPredTaskLoss(BANDS, LABEL, device=device)\n",
        "\n",
        "\n",
        "# use Adam optimizer\n",
        "optimizer = torch.optim.Adam(model.parameters(), lr=learning_rate)#optimizer = torch.optim.Adam(model.parameters(), lr=learning_rate)\n"
      ]
    },
    {
      "cell_type": "code",
      "execution_count": 26,
      "metadata": {
        "colab": {
          "base_uri": "https://localhost:8080/",
          "height": 696
        },
        "id": "sfGyOdRAbtyv",
        "outputId": "5e9aa10e-b326-4ccf-9b51-81599134103e"
      },
      "outputs": [
        {
          "output_type": "stream",
          "name": "stderr",
          "text": [
            "/usr/local/lib/python3.7/dist-packages/ipykernel_launcher.py:71: UserWarning: Implicit dimension choice for softmax has been deprecated. Change the call to include dim=X as an argument.\n"
          ]
        },
        {
          "output_type": "stream",
          "name": "stdout",
          "text": [
            "epoch :  0   train loss :  1.7039788623650869 train acc :  0.19991666666666655     val loss :  1.7048326134681702 val acc :  0.19999999999999982\n",
            "epoch :  1   train loss :  1.7048326134681702 train acc :  0.19999999999999984     val loss :  1.7048326134681702 val acc :  0.19999999999999982\n",
            "epoch :  2   train loss :  1.7048326134681702 train acc :  0.19999999999999984     val loss :  1.7048326134681702 val acc :  0.19999999999999982\n"
          ]
        },
        {
          "output_type": "error",
          "ename": "KeyboardInterrupt",
          "evalue": "ignored",
          "traceback": [
            "\u001b[0;31m---------------------------------------------------------------------------\u001b[0m",
            "\u001b[0;31mKeyboardInterrupt\u001b[0m                         Traceback (most recent call last)",
            "\u001b[0;32m<ipython-input-26-55435c9804ec>\u001b[0m in \u001b[0;36m<module>\u001b[0;34m\u001b[0m\n\u001b[1;32m     11\u001b[0m         \u001b[0moptimizer\u001b[0m\u001b[0;34m.\u001b[0m\u001b[0mzero_grad\u001b[0m\u001b[0;34m(\u001b[0m\u001b[0;34m)\u001b[0m\u001b[0;34m\u001b[0m\u001b[0;34m\u001b[0m\u001b[0m\n\u001b[1;32m     12\u001b[0m         \u001b[0;31m# print(batch.shape)\u001b[0m\u001b[0;34m\u001b[0m\u001b[0;34m\u001b[0m\u001b[0;34m\u001b[0m\u001b[0m\n\u001b[0;32m---> 13\u001b[0;31m         \u001b[0mloss_batch\u001b[0m\u001b[0;34m,\u001b[0m \u001b[0macc_batch\u001b[0m \u001b[0;34m=\u001b[0m \u001b[0mcriterion\u001b[0m\u001b[0;34m.\u001b[0m\u001b[0mforward\u001b[0m\u001b[0;34m(\u001b[0m\u001b[0mbatch\u001b[0m\u001b[0;34m,\u001b[0m \u001b[0mmodel\u001b[0m\u001b[0;34m,\u001b[0m \u001b[0msfreq\u001b[0m\u001b[0;34m,\u001b[0m \u001b[0mtrain\u001b[0m \u001b[0;34m=\u001b[0m \u001b[0;32mTrue\u001b[0m\u001b[0;34m)\u001b[0m\u001b[0;34m\u001b[0m\u001b[0;34m\u001b[0m\u001b[0m\n\u001b[0m\u001b[1;32m     14\u001b[0m         \u001b[0moptimizer\u001b[0m\u001b[0;34m.\u001b[0m\u001b[0mstep\u001b[0m\u001b[0;34m(\u001b[0m\u001b[0;34m)\u001b[0m\u001b[0;34m\u001b[0m\u001b[0;34m\u001b[0m\u001b[0m\n\u001b[1;32m     15\u001b[0m         \u001b[0mloss_ep\u001b[0m \u001b[0;34m+=\u001b[0m \u001b[0mloss_batch\u001b[0m\u001b[0;34m.\u001b[0m\u001b[0mitem\u001b[0m\u001b[0;34m(\u001b[0m\u001b[0;34m)\u001b[0m\u001b[0;34m\u001b[0m\u001b[0;34m\u001b[0m\u001b[0m\n",
            "\u001b[0;32m<ipython-input-13-d51203a4971d>\u001b[0m in \u001b[0;36mforward\u001b[0;34m(self, batch, encoder, sfreq, train)\u001b[0m\n\u001b[1;32m     46\u001b[0m         \u001b[0;32mfor\u001b[0m \u001b[0midx\u001b[0m\u001b[0;34m,\u001b[0m\u001b[0mband\u001b[0m \u001b[0;32min\u001b[0m \u001b[0menumerate\u001b[0m\u001b[0;34m(\u001b[0m\u001b[0mself\u001b[0m\u001b[0;34m.\u001b[0m\u001b[0mBAND\u001b[0m\u001b[0;34m)\u001b[0m\u001b[0;34m:\u001b[0m\u001b[0;34m\u001b[0m\u001b[0;34m\u001b[0m\u001b[0m\n\u001b[1;32m     47\u001b[0m             \u001b[0mlfreq\u001b[0m\u001b[0;34m,\u001b[0m \u001b[0mrfreq\u001b[0m \u001b[0;34m=\u001b[0m \u001b[0mband\u001b[0m\u001b[0;34m\u001b[0m\u001b[0;34m\u001b[0m\u001b[0m\n\u001b[0;32m---> 48\u001b[0;31m             \u001b[0mdata\u001b[0m \u001b[0;34m=\u001b[0m \u001b[0mfilter_data\u001b[0m\u001b[0;34m(\u001b[0m\u001b[0mbatch\u001b[0m\u001b[0;34m.\u001b[0m\u001b[0mnumpy\u001b[0m\u001b[0;34m(\u001b[0m\u001b[0;34m)\u001b[0m\u001b[0;34m.\u001b[0m\u001b[0mastype\u001b[0m\u001b[0;34m(\u001b[0m\u001b[0mnp\u001b[0m\u001b[0;34m.\u001b[0m\u001b[0mfloat64\u001b[0m\u001b[0;34m)\u001b[0m\u001b[0;34m,\u001b[0m \u001b[0msfreq\u001b[0m\u001b[0;34m=\u001b[0m\u001b[0;36m200\u001b[0m\u001b[0;34m,\u001b[0m \u001b[0ml_freq\u001b[0m\u001b[0;34m=\u001b[0m\u001b[0mrfreq\u001b[0m\u001b[0;34m,\u001b[0m \u001b[0mh_freq\u001b[0m\u001b[0;34m=\u001b[0m\u001b[0mlfreq\u001b[0m\u001b[0;34m,\u001b[0m \u001b[0mverbose\u001b[0m\u001b[0;34m=\u001b[0m\u001b[0;32mFalse\u001b[0m\u001b[0;34m)\u001b[0m\u001b[0;34m\u001b[0m\u001b[0;34m\u001b[0m\u001b[0m\n\u001b[0m\u001b[1;32m     49\u001b[0m             \u001b[0mbatch_aug\u001b[0m\u001b[0;34m.\u001b[0m\u001b[0mextend\u001b[0m\u001b[0;34m(\u001b[0m\u001b[0mdata\u001b[0m\u001b[0;34m)\u001b[0m\u001b[0;34m\u001b[0m\u001b[0;34m\u001b[0m\u001b[0m\n\u001b[1;32m     50\u001b[0m             \u001b[0mbatch_label\u001b[0m\u001b[0;34m.\u001b[0m\u001b[0mextend\u001b[0m\u001b[0;34m(\u001b[0m\u001b[0mdata\u001b[0m\u001b[0;34m.\u001b[0m\u001b[0mshape\u001b[0m\u001b[0;34m[\u001b[0m\u001b[0;36m0\u001b[0m\u001b[0;34m]\u001b[0m \u001b[0;34m*\u001b[0m \u001b[0;34m[\u001b[0m\u001b[0mself\u001b[0m\u001b[0;34m.\u001b[0m\u001b[0mLABEL\u001b[0m\u001b[0;34m[\u001b[0m\u001b[0midx\u001b[0m\u001b[0;34m]\u001b[0m\u001b[0;34m]\u001b[0m\u001b[0;34m)\u001b[0m\u001b[0;34m\u001b[0m\u001b[0;34m\u001b[0m\u001b[0m\n",
            "\u001b[0;32m<decorator-gen-261>\u001b[0m in \u001b[0;36mfilter_data\u001b[0;34m(data, sfreq, l_freq, h_freq, picks, filter_length, l_trans_bandwidth, h_trans_bandwidth, n_jobs, method, iir_params, copy, phase, fir_window, fir_design, pad, verbose)\u001b[0m\n",
            "\u001b[0;32m/usr/local/lib/python3.7/dist-packages/mne/filter.py\u001b[0m in \u001b[0;36mfilter_data\u001b[0;34m(data, sfreq, l_freq, h_freq, picks, filter_length, l_trans_bandwidth, h_trans_bandwidth, n_jobs, method, iir_params, copy, phase, fir_window, fir_design, pad, verbose)\u001b[0m\n\u001b[1;32m    815\u001b[0m     \u001b[0;32mif\u001b[0m \u001b[0mmethod\u001b[0m \u001b[0;32min\u001b[0m \u001b[0;34m(\u001b[0m\u001b[0;34m'fir'\u001b[0m\u001b[0;34m,\u001b[0m \u001b[0;34m'fft'\u001b[0m\u001b[0;34m)\u001b[0m\u001b[0;34m:\u001b[0m\u001b[0;34m\u001b[0m\u001b[0;34m\u001b[0m\u001b[0m\n\u001b[1;32m    816\u001b[0m         data = _overlap_add_filter(data, filt, None, phase, picks, n_jobs,\n\u001b[0;32m--> 817\u001b[0;31m                                    copy, pad)\n\u001b[0m\u001b[1;32m    818\u001b[0m     \u001b[0;32melse\u001b[0m\u001b[0;34m:\u001b[0m\u001b[0;34m\u001b[0m\u001b[0;34m\u001b[0m\u001b[0m\n\u001b[1;32m    819\u001b[0m         \u001b[0mdata\u001b[0m \u001b[0;34m=\u001b[0m \u001b[0m_filtfilt\u001b[0m\u001b[0;34m(\u001b[0m\u001b[0mdata\u001b[0m\u001b[0;34m,\u001b[0m \u001b[0mfilt\u001b[0m\u001b[0;34m,\u001b[0m \u001b[0mpicks\u001b[0m\u001b[0;34m,\u001b[0m \u001b[0mn_jobs\u001b[0m\u001b[0;34m,\u001b[0m \u001b[0mcopy\u001b[0m\u001b[0;34m)\u001b[0m\u001b[0;34m\u001b[0m\u001b[0;34m\u001b[0m\u001b[0m\n",
            "\u001b[0;32m/usr/local/lib/python3.7/dist-packages/mne/filter.py\u001b[0m in \u001b[0;36m_overlap_add_filter\u001b[0;34m(x, h, n_fft, phase, picks, n_jobs, copy, pad)\u001b[0m\n\u001b[1;32m    207\u001b[0m     \u001b[0;32melse\u001b[0m\u001b[0;34m:\u001b[0m\u001b[0;34m\u001b[0m\u001b[0;34m\u001b[0m\u001b[0m\n\u001b[1;32m    208\u001b[0m         data_new = parallel(p_fun(x[p], len(h), n_edge, phase,\n\u001b[0;32m--> 209\u001b[0;31m                                   cuda_dict, pad, n_fft) for p in picks)\n\u001b[0m\u001b[1;32m    210\u001b[0m         \u001b[0;32mfor\u001b[0m \u001b[0mpp\u001b[0m\u001b[0;34m,\u001b[0m \u001b[0mp\u001b[0m \u001b[0;32min\u001b[0m \u001b[0menumerate\u001b[0m\u001b[0;34m(\u001b[0m\u001b[0mpicks\u001b[0m\u001b[0;34m)\u001b[0m\u001b[0;34m:\u001b[0m\u001b[0;34m\u001b[0m\u001b[0;34m\u001b[0m\u001b[0m\n\u001b[1;32m    211\u001b[0m             \u001b[0mx\u001b[0m\u001b[0;34m[\u001b[0m\u001b[0mp\u001b[0m\u001b[0;34m]\u001b[0m \u001b[0;34m=\u001b[0m \u001b[0mdata_new\u001b[0m\u001b[0;34m[\u001b[0m\u001b[0mpp\u001b[0m\u001b[0;34m]\u001b[0m\u001b[0;34m\u001b[0m\u001b[0;34m\u001b[0m\u001b[0m\n",
            "\u001b[0;32m/usr/local/lib/python3.7/dist-packages/joblib/parallel.py\u001b[0m in \u001b[0;36m__call__\u001b[0;34m(self, iterable)\u001b[0m\n\u001b[1;32m   1086\u001b[0m                 \u001b[0mself\u001b[0m\u001b[0;34m.\u001b[0m\u001b[0m_iterating\u001b[0m \u001b[0;34m=\u001b[0m \u001b[0mself\u001b[0m\u001b[0;34m.\u001b[0m\u001b[0m_original_iterator\u001b[0m \u001b[0;32mis\u001b[0m \u001b[0;32mnot\u001b[0m \u001b[0;32mNone\u001b[0m\u001b[0;34m\u001b[0m\u001b[0;34m\u001b[0m\u001b[0m\n\u001b[1;32m   1087\u001b[0m \u001b[0;34m\u001b[0m\u001b[0m\n\u001b[0;32m-> 1088\u001b[0;31m             \u001b[0;32mwhile\u001b[0m \u001b[0mself\u001b[0m\u001b[0;34m.\u001b[0m\u001b[0mdispatch_one_batch\u001b[0m\u001b[0;34m(\u001b[0m\u001b[0miterator\u001b[0m\u001b[0;34m)\u001b[0m\u001b[0;34m:\u001b[0m\u001b[0;34m\u001b[0m\u001b[0;34m\u001b[0m\u001b[0m\n\u001b[0m\u001b[1;32m   1089\u001b[0m                 \u001b[0;32mpass\u001b[0m\u001b[0;34m\u001b[0m\u001b[0;34m\u001b[0m\u001b[0m\n\u001b[1;32m   1090\u001b[0m \u001b[0;34m\u001b[0m\u001b[0m\n",
            "\u001b[0;32m/usr/local/lib/python3.7/dist-packages/joblib/parallel.py\u001b[0m in \u001b[0;36mdispatch_one_batch\u001b[0;34m(self, iterator)\u001b[0m\n\u001b[1;32m    899\u001b[0m                 \u001b[0;32mreturn\u001b[0m \u001b[0;32mFalse\u001b[0m\u001b[0;34m\u001b[0m\u001b[0;34m\u001b[0m\u001b[0m\n\u001b[1;32m    900\u001b[0m             \u001b[0;32melse\u001b[0m\u001b[0;34m:\u001b[0m\u001b[0;34m\u001b[0m\u001b[0;34m\u001b[0m\u001b[0m\n\u001b[0;32m--> 901\u001b[0;31m                 \u001b[0mself\u001b[0m\u001b[0;34m.\u001b[0m\u001b[0m_dispatch\u001b[0m\u001b[0;34m(\u001b[0m\u001b[0mtasks\u001b[0m\u001b[0;34m)\u001b[0m\u001b[0;34m\u001b[0m\u001b[0;34m\u001b[0m\u001b[0m\n\u001b[0m\u001b[1;32m    902\u001b[0m                 \u001b[0;32mreturn\u001b[0m \u001b[0;32mTrue\u001b[0m\u001b[0;34m\u001b[0m\u001b[0;34m\u001b[0m\u001b[0m\n\u001b[1;32m    903\u001b[0m \u001b[0;34m\u001b[0m\u001b[0m\n",
            "\u001b[0;32m/usr/local/lib/python3.7/dist-packages/joblib/parallel.py\u001b[0m in \u001b[0;36m_dispatch\u001b[0;34m(self, batch)\u001b[0m\n\u001b[1;32m    817\u001b[0m         \u001b[0;32mwith\u001b[0m \u001b[0mself\u001b[0m\u001b[0;34m.\u001b[0m\u001b[0m_lock\u001b[0m\u001b[0;34m:\u001b[0m\u001b[0;34m\u001b[0m\u001b[0;34m\u001b[0m\u001b[0m\n\u001b[1;32m    818\u001b[0m             \u001b[0mjob_idx\u001b[0m \u001b[0;34m=\u001b[0m \u001b[0mlen\u001b[0m\u001b[0;34m(\u001b[0m\u001b[0mself\u001b[0m\u001b[0;34m.\u001b[0m\u001b[0m_jobs\u001b[0m\u001b[0;34m)\u001b[0m\u001b[0;34m\u001b[0m\u001b[0;34m\u001b[0m\u001b[0m\n\u001b[0;32m--> 819\u001b[0;31m             \u001b[0mjob\u001b[0m \u001b[0;34m=\u001b[0m \u001b[0mself\u001b[0m\u001b[0;34m.\u001b[0m\u001b[0m_backend\u001b[0m\u001b[0;34m.\u001b[0m\u001b[0mapply_async\u001b[0m\u001b[0;34m(\u001b[0m\u001b[0mbatch\u001b[0m\u001b[0;34m,\u001b[0m \u001b[0mcallback\u001b[0m\u001b[0;34m=\u001b[0m\u001b[0mcb\u001b[0m\u001b[0;34m)\u001b[0m\u001b[0;34m\u001b[0m\u001b[0;34m\u001b[0m\u001b[0m\n\u001b[0m\u001b[1;32m    820\u001b[0m             \u001b[0;31m# A job can complete so quickly than its callback is\u001b[0m\u001b[0;34m\u001b[0m\u001b[0;34m\u001b[0m\u001b[0;34m\u001b[0m\u001b[0m\n\u001b[1;32m    821\u001b[0m             \u001b[0;31m# called before we get here, causing self._jobs to\u001b[0m\u001b[0;34m\u001b[0m\u001b[0;34m\u001b[0m\u001b[0;34m\u001b[0m\u001b[0m\n",
            "\u001b[0;32m/usr/local/lib/python3.7/dist-packages/joblib/_parallel_backends.py\u001b[0m in \u001b[0;36mapply_async\u001b[0;34m(self, func, callback)\u001b[0m\n\u001b[1;32m    206\u001b[0m     \u001b[0;32mdef\u001b[0m \u001b[0mapply_async\u001b[0m\u001b[0;34m(\u001b[0m\u001b[0mself\u001b[0m\u001b[0;34m,\u001b[0m \u001b[0mfunc\u001b[0m\u001b[0;34m,\u001b[0m \u001b[0mcallback\u001b[0m\u001b[0;34m=\u001b[0m\u001b[0;32mNone\u001b[0m\u001b[0;34m)\u001b[0m\u001b[0;34m:\u001b[0m\u001b[0;34m\u001b[0m\u001b[0;34m\u001b[0m\u001b[0m\n\u001b[1;32m    207\u001b[0m         \u001b[0;34m\"\"\"Schedule a func to be run\"\"\"\u001b[0m\u001b[0;34m\u001b[0m\u001b[0;34m\u001b[0m\u001b[0m\n\u001b[0;32m--> 208\u001b[0;31m         \u001b[0mresult\u001b[0m \u001b[0;34m=\u001b[0m \u001b[0mImmediateResult\u001b[0m\u001b[0;34m(\u001b[0m\u001b[0mfunc\u001b[0m\u001b[0;34m)\u001b[0m\u001b[0;34m\u001b[0m\u001b[0;34m\u001b[0m\u001b[0m\n\u001b[0m\u001b[1;32m    209\u001b[0m         \u001b[0;32mif\u001b[0m \u001b[0mcallback\u001b[0m\u001b[0;34m:\u001b[0m\u001b[0;34m\u001b[0m\u001b[0;34m\u001b[0m\u001b[0m\n\u001b[1;32m    210\u001b[0m             \u001b[0mcallback\u001b[0m\u001b[0;34m(\u001b[0m\u001b[0mresult\u001b[0m\u001b[0;34m)\u001b[0m\u001b[0;34m\u001b[0m\u001b[0;34m\u001b[0m\u001b[0m\n",
            "\u001b[0;32m/usr/local/lib/python3.7/dist-packages/joblib/_parallel_backends.py\u001b[0m in \u001b[0;36m__init__\u001b[0;34m(self, batch)\u001b[0m\n\u001b[1;32m    595\u001b[0m         \u001b[0;31m# Don't delay the application, to avoid keeping the input\u001b[0m\u001b[0;34m\u001b[0m\u001b[0;34m\u001b[0m\u001b[0;34m\u001b[0m\u001b[0m\n\u001b[1;32m    596\u001b[0m         \u001b[0;31m# arguments in memory\u001b[0m\u001b[0;34m\u001b[0m\u001b[0;34m\u001b[0m\u001b[0;34m\u001b[0m\u001b[0m\n\u001b[0;32m--> 597\u001b[0;31m         \u001b[0mself\u001b[0m\u001b[0;34m.\u001b[0m\u001b[0mresults\u001b[0m \u001b[0;34m=\u001b[0m \u001b[0mbatch\u001b[0m\u001b[0;34m(\u001b[0m\u001b[0;34m)\u001b[0m\u001b[0;34m\u001b[0m\u001b[0;34m\u001b[0m\u001b[0m\n\u001b[0m\u001b[1;32m    598\u001b[0m \u001b[0;34m\u001b[0m\u001b[0m\n\u001b[1;32m    599\u001b[0m     \u001b[0;32mdef\u001b[0m \u001b[0mget\u001b[0m\u001b[0;34m(\u001b[0m\u001b[0mself\u001b[0m\u001b[0;34m)\u001b[0m\u001b[0;34m:\u001b[0m\u001b[0;34m\u001b[0m\u001b[0;34m\u001b[0m\u001b[0m\n",
            "\u001b[0;32m/usr/local/lib/python3.7/dist-packages/joblib/parallel.py\u001b[0m in \u001b[0;36m__call__\u001b[0;34m(self)\u001b[0m\n\u001b[1;32m    287\u001b[0m         \u001b[0;32mwith\u001b[0m \u001b[0mparallel_backend\u001b[0m\u001b[0;34m(\u001b[0m\u001b[0mself\u001b[0m\u001b[0;34m.\u001b[0m\u001b[0m_backend\u001b[0m\u001b[0;34m,\u001b[0m \u001b[0mn_jobs\u001b[0m\u001b[0;34m=\u001b[0m\u001b[0mself\u001b[0m\u001b[0;34m.\u001b[0m\u001b[0m_n_jobs\u001b[0m\u001b[0;34m)\u001b[0m\u001b[0;34m:\u001b[0m\u001b[0;34m\u001b[0m\u001b[0;34m\u001b[0m\u001b[0m\n\u001b[1;32m    288\u001b[0m             return [func(*args, **kwargs)\n\u001b[0;32m--> 289\u001b[0;31m                     for func, args, kwargs in self.items]\n\u001b[0m\u001b[1;32m    290\u001b[0m \u001b[0;34m\u001b[0m\u001b[0m\n\u001b[1;32m    291\u001b[0m     \u001b[0;32mdef\u001b[0m \u001b[0m__reduce__\u001b[0m\u001b[0;34m(\u001b[0m\u001b[0mself\u001b[0m\u001b[0;34m)\u001b[0m\u001b[0;34m:\u001b[0m\u001b[0;34m\u001b[0m\u001b[0;34m\u001b[0m\u001b[0m\n",
            "\u001b[0;32m/usr/local/lib/python3.7/dist-packages/joblib/parallel.py\u001b[0m in \u001b[0;36m<listcomp>\u001b[0;34m(.0)\u001b[0m\n\u001b[1;32m    287\u001b[0m         \u001b[0;32mwith\u001b[0m \u001b[0mparallel_backend\u001b[0m\u001b[0;34m(\u001b[0m\u001b[0mself\u001b[0m\u001b[0;34m.\u001b[0m\u001b[0m_backend\u001b[0m\u001b[0;34m,\u001b[0m \u001b[0mn_jobs\u001b[0m\u001b[0;34m=\u001b[0m\u001b[0mself\u001b[0m\u001b[0;34m.\u001b[0m\u001b[0m_n_jobs\u001b[0m\u001b[0;34m)\u001b[0m\u001b[0;34m:\u001b[0m\u001b[0;34m\u001b[0m\u001b[0;34m\u001b[0m\u001b[0m\n\u001b[1;32m    288\u001b[0m             return [func(*args, **kwargs)\n\u001b[0;32m--> 289\u001b[0;31m                     for func, args, kwargs in self.items]\n\u001b[0m\u001b[1;32m    290\u001b[0m \u001b[0;34m\u001b[0m\u001b[0m\n\u001b[1;32m    291\u001b[0m     \u001b[0;32mdef\u001b[0m \u001b[0m__reduce__\u001b[0m\u001b[0;34m(\u001b[0m\u001b[0mself\u001b[0m\u001b[0;34m)\u001b[0m\u001b[0;34m:\u001b[0m\u001b[0;34m\u001b[0m\u001b[0;34m\u001b[0m\u001b[0m\n",
            "\u001b[0;32m/usr/local/lib/python3.7/dist-packages/mne/filter.py\u001b[0m in \u001b[0;36m_1d_overlap_filter\u001b[0;34m(x, n_h, n_edge, phase, cuda_dict, pad, n_fft)\u001b[0m\n\u001b[1;32m    232\u001b[0m         \u001b[0mstop\u001b[0m \u001b[0;34m=\u001b[0m \u001b[0;34m(\u001b[0m\u001b[0mseg_idx\u001b[0m \u001b[0;34m+\u001b[0m \u001b[0;36m1\u001b[0m\u001b[0;34m)\u001b[0m \u001b[0;34m*\u001b[0m \u001b[0mn_seg\u001b[0m\u001b[0;34m\u001b[0m\u001b[0;34m\u001b[0m\u001b[0m\n\u001b[1;32m    233\u001b[0m         \u001b[0mseg\u001b[0m \u001b[0;34m=\u001b[0m \u001b[0mx_ext\u001b[0m\u001b[0;34m[\u001b[0m\u001b[0mstart\u001b[0m\u001b[0;34m:\u001b[0m\u001b[0mstop\u001b[0m\u001b[0;34m]\u001b[0m\u001b[0;34m\u001b[0m\u001b[0;34m\u001b[0m\u001b[0m\n\u001b[0;32m--> 234\u001b[0;31m         \u001b[0mseg\u001b[0m \u001b[0;34m=\u001b[0m \u001b[0mnp\u001b[0m\u001b[0;34m.\u001b[0m\u001b[0mconcatenate\u001b[0m\u001b[0;34m(\u001b[0m\u001b[0;34m[\u001b[0m\u001b[0mseg\u001b[0m\u001b[0;34m,\u001b[0m \u001b[0mnp\u001b[0m\u001b[0;34m.\u001b[0m\u001b[0mzeros\u001b[0m\u001b[0;34m(\u001b[0m\u001b[0mn_fft\u001b[0m \u001b[0;34m-\u001b[0m \u001b[0mlen\u001b[0m\u001b[0;34m(\u001b[0m\u001b[0mseg\u001b[0m\u001b[0;34m)\u001b[0m\u001b[0;34m)\u001b[0m\u001b[0;34m]\u001b[0m\u001b[0;34m)\u001b[0m\u001b[0;34m\u001b[0m\u001b[0;34m\u001b[0m\u001b[0m\n\u001b[0m\u001b[1;32m    235\u001b[0m \u001b[0;34m\u001b[0m\u001b[0m\n\u001b[1;32m    236\u001b[0m         \u001b[0mprod\u001b[0m \u001b[0;34m=\u001b[0m \u001b[0m_fft_multiply_repeated\u001b[0m\u001b[0;34m(\u001b[0m\u001b[0mseg\u001b[0m\u001b[0;34m,\u001b[0m \u001b[0mcuda_dict\u001b[0m\u001b[0;34m)\u001b[0m\u001b[0;34m\u001b[0m\u001b[0;34m\u001b[0m\u001b[0m\n",
            "\u001b[0;32m<__array_function__ internals>\u001b[0m in \u001b[0;36mconcatenate\u001b[0;34m(*args, **kwargs)\u001b[0m\n",
            "\u001b[0;32m/usr/local/lib/python3.7/dist-packages/numpy/core/multiarray.py\u001b[0m in \u001b[0;36mconcatenate\u001b[0;34m(arrays, axis, out, dtype, casting)\u001b[0m\n\u001b[1;32m    146\u001b[0m \u001b[0;34m\u001b[0m\u001b[0m\n\u001b[1;32m    147\u001b[0m \u001b[0;34m\u001b[0m\u001b[0m\n\u001b[0;32m--> 148\u001b[0;31m \u001b[0;34m@\u001b[0m\u001b[0marray_function_from_c_func_and_dispatcher\u001b[0m\u001b[0;34m(\u001b[0m\u001b[0m_multiarray_umath\u001b[0m\u001b[0;34m.\u001b[0m\u001b[0mconcatenate\u001b[0m\u001b[0;34m)\u001b[0m\u001b[0;34m\u001b[0m\u001b[0;34m\u001b[0m\u001b[0m\n\u001b[0m\u001b[1;32m    149\u001b[0m \u001b[0;32mdef\u001b[0m \u001b[0mconcatenate\u001b[0m\u001b[0;34m(\u001b[0m\u001b[0marrays\u001b[0m\u001b[0;34m,\u001b[0m \u001b[0maxis\u001b[0m\u001b[0;34m=\u001b[0m\u001b[0;32mNone\u001b[0m\u001b[0;34m,\u001b[0m \u001b[0mout\u001b[0m\u001b[0;34m=\u001b[0m\u001b[0;32mNone\u001b[0m\u001b[0;34m,\u001b[0m \u001b[0;34m*\u001b[0m\u001b[0;34m,\u001b[0m \u001b[0mdtype\u001b[0m\u001b[0;34m=\u001b[0m\u001b[0;32mNone\u001b[0m\u001b[0;34m,\u001b[0m \u001b[0mcasting\u001b[0m\u001b[0;34m=\u001b[0m\u001b[0;32mNone\u001b[0m\u001b[0;34m)\u001b[0m\u001b[0;34m:\u001b[0m\u001b[0;34m\u001b[0m\u001b[0;34m\u001b[0m\u001b[0m\n\u001b[1;32m    150\u001b[0m     \"\"\"\n",
            "\u001b[0;31mKeyboardInterrupt\u001b[0m: "
          ]
        }
      ],
      "source": [
        "loss_tr = []\n",
        "loss_val = []\n",
        "acc_tr = []\n",
        "acc_val = []\n",
        "\n",
        "for epoch in range(epochs):\n",
        "    loss_ep = 0  # add batch loss in epoch\n",
        "    acc_ep = 0\n",
        "    #concatdata.getTrain()\n",
        "    for batch_idx, batch in enumerate(trainLoader):\n",
        "        optimizer.zero_grad()\n",
        "        # print(batch.shape)\n",
        "        loss_batch, acc_batch = criterion.forward(batch, model, sfreq, train = True)\n",
        "        optimizer.step()\n",
        "        loss_ep += loss_batch.item()\n",
        "        acc_ep += acc_batch\n",
        "        # print('acc',acc_batch)\n",
        "        # print('loss:',loss_batch.item())\n",
        "    loss_tr.append((loss_ep)/len(trainLoader))\n",
        "    acc_tr.append((acc_ep)/len(trainLoader))\n",
        "\n",
        "    loss_ep_val = 0\n",
        "    acc_ep_val = 0\n",
        "\n",
        "    with torch.no_grad():\n",
        "        loss_v = 0\n",
        "        acc_v = 0\n",
        "        #concatdata.getVal()\n",
        "        for batch_idx, batch in enumerate(valLoader):\n",
        "            loss_batch, acc_batch = criterion.forward(batch, model, sfreq, train = False)\n",
        "            loss_ep_val += loss_batch.item()\n",
        "            acc_ep_val += acc_batch\n",
        "    \n",
        "        loss_val.append((loss_ep_val)/len(valLoader))\n",
        "        acc_val.append((acc_ep_val)/len(valLoader))\n",
        "        print(\"epoch : \", epoch, \"  train loss : \", loss_tr[epoch], 'train acc : ', acc_tr[epoch], \"    val loss : \", loss_val[epoch], 'val acc : ', acc_val[epoch])  \n",
        "        torch.save(model,'Spectral__10s_ep' + str(epoch)+'_.pt')"
      ]
    },
    {
      "cell_type": "code",
      "execution_count": null,
      "metadata": {
        "id": "c6iBV4I-bt1N"
      },
      "outputs": [],
      "source": []
    },
    {
      "cell_type": "code",
      "execution_count": null,
      "metadata": {
        "id": "S9QLOrL3hq-f"
      },
      "outputs": [],
      "source": []
    },
    {
      "cell_type": "markdown",
      "metadata": {
        "id": "EyYjI6wY4bew"
      },
      "source": [
        "result save and plot"
      ]
    },
    {
      "cell_type": "code",
      "source": [
        "epochs = 3\n"
      ],
      "metadata": {
        "id": "otiESYAaRVvz"
      },
      "execution_count": 27,
      "outputs": []
    },
    {
      "cell_type": "code",
      "execution_count": 28,
      "metadata": {
        "colab": {
          "base_uri": "https://localhost:8080/"
        },
        "id": "sULgDLvm2xHe",
        "outputId": "d42e1506-a472-4117-ea4b-6fcbfea1b45c"
      },
      "outputs": [
        {
          "output_type": "stream",
          "name": "stdout",
          "text": [
            "(4, 3)\n"
          ]
        }
      ],
      "source": [
        "import pandas as pd\n",
        "col = ['loss_tr','loss_val','acc_tr','acc_val']\n",
        "data = np.array([loss_tr,\n",
        "                 loss_val,\n",
        "                 acc_tr,\n",
        "                 acc_val])\n",
        "print(data.shape)\n",
        "data = np.transpose(data)\n",
        "df = pd.DataFrame(data = data, columns= col)\n",
        "df.to_excel('s_Sleepedf+MASS_10s.xlsx', index = False)"
      ]
    },
    {
      "cell_type": "code",
      "execution_count": 29,
      "metadata": {
        "colab": {
          "base_uri": "https://localhost:8080/",
          "height": 295
        },
        "id": "yqo5atQngb6K",
        "outputId": "3fc0a595-62c0-4809-df46-f5a45639afce"
      },
      "outputs": [
        {
          "output_type": "display_data",
          "data": {
            "text/plain": [
              "<Figure size 432x288 with 1 Axes>"
            ],
            "image/png": "[encoded data removed]"
          },
          "metadata": {
            "needs_background": "light"
          }
        }
      ],
      "source": [
        "# plt.figure(figsize =(15, 10))\n",
        "\n",
        "plt.plot(range(epochs), loss_tr, color='red')\n",
        "plt.plot(range(epochs), loss_val, color='blue')\n",
        "plt.title('Model loss')\n",
        "plt.xlabel('epochs')\n",
        "plt.ylabel('loss')\n",
        "plt.legend(['Train', 'Validation'], loc='upper right')\n",
        "plt.savefig('s_Sleepedf+MASS_loss_10s',bbox_inches = 'tight')\n",
        "plt.show()\n"
      ]
    },
    {
      "cell_type": "code",
      "execution_count": 30,
      "metadata": {
        "colab": {
          "base_uri": "https://localhost:8080/",
          "height": 295
        },
        "id": "0qR7XCy2hPq6",
        "outputId": "4406951e-c8a4-40ef-e615-a6f906c117bb"
      },
      "outputs": [
        {
          "output_type": "display_data",
          "data": {
            "text/plain": [
              "<Figure size 432x288 with 1 Axes>"
            ],
            "image/png": "[encoded data removed]"
          },
          "metadata": {
            "needs_background": "light"
          }
        }
      ],
      "source": [
        "# plt.figure(figsize =(15, 10))\n",
        "plt.plot(range(epochs), acc_tr, color='red')\n",
        "plt.plot(range(epochs), acc_val, color='blue')\n",
        "plt.title('Model accuracy')\n",
        "plt.xlabel('epochs')\n",
        "plt.ylabel('accuracy')\n",
        "plt.legend(['Train', 'Validation'], loc='lower right')\n",
        "plt.savefig('s_Sleepedf+MASS_accuracy_10s',bbox_inches = 'tight')\n",
        "plt.show()"
      ]
    },
    {
      "cell_type": "markdown",
      "metadata": {
        "id": "WaNXMjTxw00n"
      },
      "source": []
    },
    {
      "cell_type": "code",
      "execution_count": 32,
      "metadata": {
        "id": "n2HeGrHBwziU"
      },
      "outputs": [],
      "source": [
        "torch.cuda.empty_cache() # GPU 캐시 데이터 삭제"
      ]
    },
    {
      "cell_type": "code",
      "execution_count": 33,
      "metadata": {
        "colab": {
          "base_uri": "https://localhost:8080/"
        },
        "id": "SKq8oqGJ9vrw",
        "outputId": "d390a418-86ea-4a33-ac56-3bdc621be911"
      },
      "outputs": [
        {
          "output_type": "execute_result",
          "data": {
            "text/plain": [
              "StoppedBandPathway(\n",
              "  (encoder): Encoder(\n",
              "    (elu): ELU(alpha=1.0)\n",
              "    (maxpool): AdaptiveMaxPool1d(output_size=1)\n",
              "    (bn): BatchNorm1d(1, eps=1e-05, momentum=0.1, affine=True, track_running_stats=True)\n",
              "    (activation): LeakyReLU(negative_slope=0.01)\n",
              "    (spectral_layer): Conv1d(1, 10, kernel_size=(100,), stride=(1,), padding=same)\n",
              "    (conv1t): Conv1d(10, 16, kernel_size=(30,), stride=(1,), padding=same)\n",
              "    (conv2t): Conv1d(16, 32, kernel_size=(15,), stride=(1,), padding=same)\n",
              "    (conv3t): Conv1d(32, 64, kernel_size=(5,), stride=(1,), padding=same)\n",
              "  )\n",
              "  (pretrain): Head_NN(\n",
              "    (layer): Sequential(\n",
              "      (0): Dropout(p=0.5, inplace=False)\n",
              "      (1): Linear(in_features=128000, out_features=5, bias=True)\n",
              "    )\n",
              "    (softmax): Softmax(dim=None)\n",
              "    (bn): BatchNorm1d(64, eps=1e-05, momentum=0.1, affine=True, track_running_stats=True)\n",
              "    (flatten): Flatten(start_dim=1, end_dim=-1)\n",
              "  )\n",
              ")"
            ]
          },
          "metadata": {},
          "execution_count": 33
        }
      ],
      "source": [
        "model = torch.load('/content/Spectral__10s_ep2_.pt')\n",
        "model.to(device)"
      ]
    },
    {
      "cell_type": "code",
      "execution_count": null,
      "metadata": {
        "id": "g2OEbge-bt3y"
      },
      "outputs": [],
      "source": [
        "loss_test = 0\n",
        "acc_test = 0\n",
        "for batch_idx, batch in enumerate(testLoader):\n",
        "  loss_batch, acc_batch = criterion.forward(batch, model, sfreq, train = False)\n",
        "  loss_test += loss_batch.item()\n",
        "  acc_test += acc_batch\n"
      ]
    },
    {
      "cell_type": "code",
      "execution_count": 35,
      "metadata": {
        "colab": {
          "base_uri": "https://localhost:8080/"
        },
        "id": "gYCSS-NjshUi",
        "outputId": "2b50586b-3bdc-453b-e1e1-0de412b3f014"
      },
      "outputs": [
        {
          "output_type": "stream",
          "name": "stdout",
          "text": [
            "loss: 1.7048326134681702\n",
            "acc: 0.19999999999999982\n"
          ]
        }
      ],
      "source": [
        "print('loss:',loss_test/len(testLoader))\n",
        "print('acc:',acc_test/len(testLoader))"
      ]
    },
    {
      "cell_type": "code",
      "execution_count": null,
      "metadata": {
        "id": "-P2ev1ebshZi"
      },
      "outputs": [],
      "source": []
    },
    {
      "cell_type": "code",
      "execution_count": null,
      "metadata": {
        "id": "G25-VgpOshcm"
      },
      "outputs": [],
      "source": []
    }
  ],
  "metadata": {
    "accelerator": "GPU",
    "colab": {
      "collapsed_sections": [],
      "provenance": []
    },
    "gpuClass": "standard",
    "kernelspec": {
      "display_name": "Python 3",
      "name": "python3"
    },
    "language_info": {
      "name": "python"
    }
  },
  "nbformat": 4,
  "nbformat_minor": 0
}