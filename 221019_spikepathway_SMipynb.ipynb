{
  "nbformat": 4,
  "nbformat_minor": 0,
  "metadata": {
    "colab": {
      "provenance": [],
      "collapsed_sections": [],
      "mount_file_id": "1DgIU6eUH1x_dbPDp8ONN72AnMW9Xs7Sz",
      "authorship_tag": "ABX9TyMgQzbQxudvVqA+qyzBEIXZ",
      "include_colab_link": true
    },
    "kernelspec": {
      "name": "python3",
      "display_name": "Python 3"
    },
    "language_info": {
      "name": "python"
    },
    "gpuClass": "standard"
  },
  "cells": [
    {
      "cell_type": "markdown",
      "metadata": {
        "id": "view-in-github",
        "colab_type": "text"
      },
      "source": [
        "<a href=\"https://colab.research.google.com/github/SangMin316/EEG_Data/blob/main/221019_spikepathway_SMipynb.ipynb\" target=\"_parent\"><img src=\"https://colab.research.google.com/assets/colab-badge.svg\" alt=\"Open In Colab\"/></a>"
      ]
    },
    {
      "cell_type": "markdown",
      "source": [
        "Make a Spikeed Augmentaion"
      ],
      "metadata": {
        "id": "Cn36xhPqvzuL"
      }
    },
    {
      "cell_type": "code",
      "source": [
        "import numpy as np\n",
        "# I will spike the channel divided into four hemispheres.\n",
        "\n",
        "channel_list = [0,1,3,5,6,8,9,15,16,18,19,21,23] # 0: Non-spike\n",
        "np.random.choice(channel_list,20) # randomly spike for 4 channels\n"
      ],
      "metadata": {
        "colab": {
          "base_uri": "https://localhost:8080/"
        },
        "id": "K-zPQjjaVk3n",
        "outputId": "13bb87fa-f5f2-4057-8e30-25d8fff0d02b"
      },
      "execution_count": 1,
      "outputs": [
        {
          "output_type": "execute_result",
          "data": {
            "text/plain": [
              "array([ 1, 19, 19, 23, 21, 15, 18,  8,  3, 19,  8, 19, 15,  8, 23,  1,  3,\n",
              "        8,  6,  1])"
            ]
          },
          "metadata": {},
          "execution_count": 1
        }
      ]
    },
    {
      "cell_type": "markdown",
      "source": [
        "Plot The RBF Matrix"
      ],
      "metadata": {
        "id": "2Jj82fAPxLfs"
      }
    },
    {
      "cell_type": "code",
      "source": [
        "def RBF(spiked_ch,scale,beta):\n",
        "  n = len(spiked_ch)\n",
        "  noise = np.zeros((n,25))\n",
        "  for i in range(n):\n",
        "    if spiked_ch[i] == 0:\n",
        "      continue\n",
        "    else:\n",
        "      for j in range(25):\n",
        "        y = j//5 - spiked_ch[i]//5\n",
        "        x = j%5 - spiked_ch[i]%5\n",
        "        noise[i,j] = scale*np.exp(-beta*(x**2 + y**2))\n",
        "  return noise"
      ],
      "metadata": {
        "id": "vQ77ppxAZOYn"
      },
      "execution_count": 2,
      "outputs": []
    },
    {
      "cell_type": "code",
      "source": [
        "import time\n",
        "st= time.time()\n",
        "ch = np.random.choice(channel_list, 2)\n",
        "a = RBF(ch,1,0.5)\n",
        "et = time.time()\n",
        "print(et-st)\n",
        "print(ch)"
      ],
      "metadata": {
        "id": "11RTDSxqjljk",
        "colab": {
          "base_uri": "https://localhost:8080/"
        },
        "outputId": "632815a7-5078-4b66-eb0f-e136a08c3918"
      },
      "execution_count": 3,
      "outputs": [
        {
          "output_type": "stream",
          "name": "stdout",
          "text": [
            "0.0007796287536621094\n",
            "[ 5 21]\n"
          ]
        }
      ]
    },
    {
      "cell_type": "code",
      "source": [
        "a"
      ],
      "metadata": {
        "colab": {
          "base_uri": "https://localhost:8080/"
        },
        "id": "wVVggLbVrImT",
        "outputId": "0ec40e94-4a3c-4393-d0a4-67817f22dd9a"
      },
      "execution_count": 4,
      "outputs": [
        {
          "output_type": "execute_result",
          "data": {
            "text/plain": [
              "array([[6.06530660e-01, 3.67879441e-01, 8.20849986e-02, 6.73794700e-03,\n",
              "        2.03468369e-04, 1.00000000e+00, 6.06530660e-01, 1.35335283e-01,\n",
              "        1.11089965e-02, 3.35462628e-04, 6.06530660e-01, 3.67879441e-01,\n",
              "        8.20849986e-02, 6.73794700e-03, 2.03468369e-04, 1.35335283e-01,\n",
              "        8.20849986e-02, 1.83156389e-02, 1.50343919e-03, 4.53999298e-05,\n",
              "        1.11089965e-02, 6.73794700e-03, 1.50343919e-03, 1.23409804e-04,\n",
              "        3.72665317e-06],\n",
              "       [2.03468369e-04, 3.35462628e-04, 2.03468369e-04, 4.53999298e-05,\n",
              "        3.72665317e-06, 6.73794700e-03, 1.11089965e-02, 6.73794700e-03,\n",
              "        1.50343919e-03, 1.23409804e-04, 8.20849986e-02, 1.35335283e-01,\n",
              "        8.20849986e-02, 1.83156389e-02, 1.50343919e-03, 3.67879441e-01,\n",
              "        6.06530660e-01, 3.67879441e-01, 8.20849986e-02, 6.73794700e-03,\n",
              "        6.06530660e-01, 1.00000000e+00, 6.06530660e-01, 1.35335283e-01,\n",
              "        1.11089965e-02]])"
            ]
          },
          "metadata": {},
          "execution_count": 4
        }
      ]
    },
    {
      "cell_type": "code",
      "source": [
        "import matplotlib.pyplot as plt\n",
        "\n",
        "plt.figure(figsize = (10,10))\n",
        "\n",
        "plt.subplot(2, 2, 1)\n",
        "data = np.reshape(a[0],(5,5))\n",
        "plt.imshow(data)\n",
        "plt.title('Spikes Randomly in One Channel')\n",
        "cbar = plt.colorbar()\n",
        "\n",
        "plt.subplot(2, 2, 2)\n",
        "data = np.reshape(a[1],(5,5))\n",
        "plt.imshow(data)\n",
        "plt.title('Spikes Randomly in One Channel')\n",
        "cbar = plt.colorbar()\n",
        "\n",
        "plt.savefig('spike_image_(2,1).png',bbox_inches = 'tight')\n",
        "plt.show()\n"
      ],
      "metadata": {
        "colab": {
          "base_uri": "https://localhost:8080/",
          "height": 282
        },
        "id": "7A7_k5CTfsqU",
        "outputId": "bebda181-4959-489f-8da6-9da76637833d"
      },
      "execution_count": 5,
      "outputs": [
        {
          "output_type": "display_data",
          "data": {
            "text/plain": [
              "<Figure size 720x720 with 4 Axes>"
            ],
            "image/png": "[encoded data removed]"
          },
          "metadata": {
            "needs_background": "light"
          }
        }
      ]
    },
    {
      "cell_type": "code",
      "source": [
        "class spiked_channels():\n",
        "  def __init__(self, data, scale, beta):\n",
        "      self.data = data # batch_size, channels, times\n",
        "      self.scale = scale\n",
        "      self.beta = beta\n",
        "      self.batch_size, self.channels, self.times = data.shape\n",
        "     \n",
        "  def RBF(self,spiked_ch):\n",
        "      n = len(spiked_ch)\n",
        "      noise = np.zeros((n,25))\n",
        "      for i in range(n):\n",
        "        if spiked_ch[i] == 0:\n",
        "          continue\n",
        "        else:\n",
        "          for j in range(25):\n",
        "            y = j//5 - spiked_ch[i]//5\n",
        "            x = j%5 - spiked_ch[i]%5\n",
        "            noise[i,j] = self.scale*np.exp(-self.beta*(x**2 + y**2))\n",
        "      return noise #[batch_size, 25]\n",
        "\n",
        "\n",
        "  def one_hot_1020sys(self,spiked_ch):\n",
        "      labels = []\n",
        "      for i in range(len(spiked_ch)):\n",
        "        if spiked_ch[i] == 0: # Non-spike\n",
        "          labels.append([1,0,0,0,0]) \n",
        "\n",
        "        elif spiked_ch[i] in [3,8,9]:# the 1rd quadrant\n",
        "          labels.append([0,1,0,0,0])\n",
        "\n",
        "        elif spiked_ch[i] in [18,19,23]:# the 2rd quadrant\n",
        "          labels.append([0,0,1,0,0])\n",
        "\n",
        "        elif spiked_ch[i] in [15,16,21]:# the 3rd quadrant\n",
        "          labels.append([0,0,0,1,0])\n",
        "\n",
        "        elif spiked_ch[i] in [1,5,6]:# the 4rd quadrant\n",
        "          labels.append([0,0,0,0,1])\n",
        "        \n",
        "      labels = np.array(labels)\n",
        "      return labels\n",
        "\n",
        "\n",
        "\n",
        "  def forward(self):\n",
        "      \n",
        "      if self.channels == 19: # 10-20 system, 19channels\n",
        "        channel_list = [0,1,3,5,6,8,9,15,16,18,19,21,23] # 0: Non-spike\n",
        "        spiked_ch = np.random.choice(channel_list,self.batch_size) # randomly spike for batchsize channels\n",
        "        \n",
        "        noise = self.RBF(spiked_ch)\n",
        "        noise = np.expand_dims(noise,-1) #[batch_size, 25] --> [batch_size, 25,1]\n",
        "        noise = noise*np.ones((1,self.times))  #[batch_size, 25,1] --> [batch_size, 25,times]\n",
        "        \n",
        "        # add the noise, data channels oreder is different noise channels order\n",
        "        self.data[:,2:17,:] += noise[:,5:20,:]  # add the noise to F7~T6 channels\n",
        "        self.data[:,0,:] += noise[:,1,:] #add the noise to Fp1 channels\n",
        "        self.data[:,1,:] += noise[:,3,:] #add the noise to Fp2 channels\n",
        "        self.data[:,17,:] += noise[:,21,:] #add the noise to O1 channels\n",
        "        self.data[:,18,:] += noise[:,23,:] #add the noise to O2 channels\n",
        "        \n",
        "        labels = self.one_hot_1020sys(spiked_ch)\n",
        "\n",
        "      elif self.channels == 17 or 18: # 10-20 system, 17channels\n",
        "        channel_list = [0,1,3,5,6,8,9,15,16,18,19,21,23] # 0: Non-spike\n",
        "        spiked_ch = np.random.choice(channel_list,self.batch_size) # randomly spike for batchsize channels\n",
        "        \n",
        "        noise = self.RBF(spiked_ch)\n",
        "        noise = np.expand_dims(noise,-1) #[batch_size, 25] --> [batch_size, 25,1]\n",
        "        noise = noise*np.ones((1,self.times))  #[batch_size, 25,1] --> [batch_size, 25,times]\n",
        "        \n",
        "        # add the noise, data channels oreder is different noise channels order\n",
        "        self.data[:,:15,:] += noise[:,5:20,:]  # add the noise to F7~T6 channels\n",
        "        self.data[:,-2,:] += noise[:,21,:] #add the noise to O1 channels\n",
        "        self.data[:,-1,:] += noise[:,23,:] #add the noise to O2 channels\n",
        "    \n",
        "        labels = self.one_hot_1020sys(spiked_ch)\n",
        "\n",
        "      return self.data, labels\n",
        "     "
      ],
      "metadata": {
        "id": "IaXzk1pxkvyL"
      },
      "execution_count": 6,
      "outputs": []
    },
    {
      "cell_type": "code",
      "source": [
        "data = np.zeros(3800,dtype = 'float64')\n",
        "data = np.reshape(data,(2,19,100))\n",
        "data, y = spiked_channels(data,2,1).forward()\n",
        "data = data[:,:,1]\n",
        "\n",
        "plt.figure(figsize = (10,10))\n",
        "\n",
        "\n",
        "plt.subplot(2, 2, 1)\n",
        "\n",
        "v_data = np.zeros((2,25))\n",
        "v_data[:,5:20] = data[:,2:17]\n",
        "v_data[:,1] = data[:,0]\n",
        "v_data[:,3] = data[:,1]\n",
        "v_data[:,21] = data[:,17]\n",
        "v_data[:,23] = data[:,18]\n",
        "\n",
        "v_data1 = np.reshape(v_data[0],(5,5))\n",
        "plt.imshow(v_data1)\n",
        "plt.title('Spikes Randomly in One Channel')\n",
        "cbar = plt.colorbar()\n",
        "\n",
        "plt.subplot(2, 2, 2)\n",
        "v_data2 = np.reshape(v_data[1],(5,5))\n",
        "plt.imshow(v_data2)\n",
        "plt.title('Spikes Randomly in One Channel')\n",
        "cbar = plt.colorbar()\n",
        "plt.savefig('spiked_channels_image.png',bbox_inches = 'tight')\n",
        "plt.show()\n",
        "print(y)"
      ],
      "metadata": {
        "colab": {
          "base_uri": "https://localhost:8080/",
          "height": 324
        },
        "id": "Yl616UT5kv6O",
        "outputId": "4dbf9bfc-3d03-4ed0-c017-05ddf5a5e2fd"
      },
      "execution_count": 7,
      "outputs": [
        {
          "output_type": "display_data",
          "data": {
            "text/plain": [
              "<Figure size 720x720 with 4 Axes>"
            ],
            "image/png": "[encoded data removed]"
          },
          "metadata": {
            "needs_background": "light"
          }
        },
        {
          "output_type": "stream",
          "name": "stdout",
          "text": [
            "[[0 0 0 0 1]\n",
            " [0 1 0 0 0]]\n"
          ]
        }
      ]
    },
    {
      "cell_type": "code",
      "source": [
        "!pip install mne"
      ],
      "metadata": {
        "colab": {
          "base_uri": "https://localhost:8080/"
        },
        "id": "bDWt74XAgpLK",
        "outputId": "6b15a48b-803c-4d78-8e0a-fbc33de205c9"
      },
      "execution_count": 8,
      "outputs": [
        {
          "output_type": "stream",
          "name": "stdout",
          "text": [
            "Looking in indexes: https://pypi.org/simple, https://us-python.pkg.dev/colab-wheels/public/simple/\n",
            "Collecting mne\n",
            "  Downloading mne-1.2.0-py3-none-any.whl (7.6 MB)\n",
            "\u001b[K     |████████████████████████████████| 7.6 MB 14.5 MB/s \n",
            "\u001b[?25hRequirement already satisfied: matplotlib in /usr/local/lib/python3.7/dist-packages (from mne) (3.2.2)\n",
            "Requirement already satisfied: decorator in /usr/local/lib/python3.7/dist-packages (from mne) (4.4.2)\n",
            "Requirement already satisfied: scipy>=1.1.0 in /usr/local/lib/python3.7/dist-packages (from mne) (1.7.3)\n",
            "Requirement already satisfied: jinja2 in /usr/local/lib/python3.7/dist-packages (from mne) (2.11.3)\n",
            "Requirement already satisfied: pooch>=1.5 in /usr/local/lib/python3.7/dist-packages (from mne) (1.6.0)\n",
            "Requirement already satisfied: tqdm in /usr/local/lib/python3.7/dist-packages (from mne) (4.64.1)\n",
            "Requirement already satisfied: numpy>=1.15.4 in /usr/local/lib/python3.7/dist-packages (from mne) (1.21.6)\n",
            "Requirement already satisfied: packaging in /usr/local/lib/python3.7/dist-packages (from mne) (21.3)\n",
            "Requirement already satisfied: requests>=2.19.0 in /usr/local/lib/python3.7/dist-packages (from pooch>=1.5->mne) (2.23.0)\n",
            "Requirement already satisfied: appdirs>=1.3.0 in /usr/local/lib/python3.7/dist-packages (from pooch>=1.5->mne) (1.4.4)\n",
            "Requirement already satisfied: pyparsing!=3.0.5,>=2.0.2 in /usr/local/lib/python3.7/dist-packages (from packaging->mne) (3.0.9)\n",
            "Requirement already satisfied: certifi>=2017.4.17 in /usr/local/lib/python3.7/dist-packages (from requests>=2.19.0->pooch>=1.5->mne) (2022.9.24)\n",
            "Requirement already satisfied: chardet<4,>=3.0.2 in /usr/local/lib/python3.7/dist-packages (from requests>=2.19.0->pooch>=1.5->mne) (3.0.4)\n",
            "Requirement already satisfied: idna<3,>=2.5 in /usr/local/lib/python3.7/dist-packages (from requests>=2.19.0->pooch>=1.5->mne) (2.10)\n",
            "Requirement already satisfied: urllib3!=1.25.0,!=1.25.1,<1.26,>=1.21.1 in /usr/local/lib/python3.7/dist-packages (from requests>=2.19.0->pooch>=1.5->mne) (1.24.3)\n",
            "Requirement already satisfied: MarkupSafe>=0.23 in /usr/local/lib/python3.7/dist-packages (from jinja2->mne) (2.0.1)\n",
            "Requirement already satisfied: cycler>=0.10 in /usr/local/lib/python3.7/dist-packages (from matplotlib->mne) (0.11.0)\n",
            "Requirement already satisfied: kiwisolver>=1.0.1 in /usr/local/lib/python3.7/dist-packages (from matplotlib->mne) (1.4.4)\n",
            "Requirement already satisfied: python-dateutil>=2.1 in /usr/local/lib/python3.7/dist-packages (from matplotlib->mne) (2.8.2)\n",
            "Requirement already satisfied: typing-extensions in /usr/local/lib/python3.7/dist-packages (from kiwisolver>=1.0.1->matplotlib->mne) (4.1.1)\n",
            "Requirement already satisfied: six>=1.5 in /usr/local/lib/python3.7/dist-packages (from python-dateutil>=2.1->matplotlib->mne) (1.15.0)\n",
            "Installing collected packages: mne\n",
            "Successfully installed mne-1.2.0\n"
          ]
        }
      ]
    },
    {
      "cell_type": "markdown",
      "source": [
        "DataLoader"
      ],
      "metadata": {
        "id": "7svxmVT12Ca3"
      }
    },
    {
      "cell_type": "code",
      "execution_count": 9,
      "metadata": {
        "id": "l4YUYhC7E4Ck"
      },
      "outputs": [],
      "source": [
        "from torch.utils.data import Dataset\n",
        "import torch\n",
        "import pickle\n",
        "import mne\n",
        "import numpy as np\n",
        "import time\n",
        "\n",
        "class Sleepedf_dataset(Dataset):\n",
        "    def __init__(self, files, seq_len, SSL = bool):\n",
        "        self.files = files\n",
        "        self.sequence_length = seq_len\n",
        "        self.SSL = SSL\n",
        "        # sample을 split해줬을 때 몇개로 split되는지 누적해서 저장, i번째 data를 찾을 때 data_adress 각 값이 기준이 됨\n",
        "        data_adress = [0]\n",
        "        ad = 0\n",
        "        max_value = 0.\n",
        "        min_value = 0.\n",
        "\n",
        "        for i in range(len(self.files)):\n",
        "            sample = np.load(files[i])['x']\n",
        "            c,t = sample.shape\n",
        "            t = int(t/self.sequence_length) \n",
        "            ad += t\n",
        "            data_adress.append(ad)\n",
        "            temp_max = sample.max()\n",
        "            temp_min = sample.min()\n",
        "            max_value = np.max([max_value, temp_max])\n",
        "            min_value = np.min([min_value, temp_min])\n",
        "        \n",
        "        self.data_adress = data_adress\n",
        "        self.max_value = max_value\n",
        "        self.min_value = min_value\n",
        "\n",
        "    def preprocessing(self, data):\n",
        "        data_max = np.max(data,axis = 2, keepdims=True) # max value of each channels\n",
        "        data_min = np.min(data,axis = 2, keepdims=True) # shape = b,c\n",
        "        b,c,t = data.shape\n",
        "        \n",
        "        return data/data_max*np.ones((b,c,t)) - (data_max - data_min)*np.ones((b,c,t))/(self.max_value - self.min_value)\n",
        "\n",
        "\n",
        "    def split_data(self, data):\n",
        "        L = self.sequence_length\n",
        "        channels, length = data.shape\n",
        "        a = L*int(length/L)\n",
        "        \n",
        "        if length == a:\n",
        "            data = np.reshape(data,(int(length/L),channels,L))\n",
        "        \n",
        "        else:\n",
        "            data = data[:,:a]\n",
        "            data = np.reshape(data,(int(a/L),channels,L))\n",
        "        return data\n",
        "\n",
        "    def one_hot_encoding(self,y):\n",
        "        if y == 'W':\n",
        "          y = np.array([1,0,0,0,0])\n",
        "        elif y == '1':\n",
        "          y = np.array([0,1,0,0,0])\n",
        "        elif y == '2':\n",
        "          y = np.array([0,0,1,0,0])   \n",
        "        elif y == '3':\n",
        "          y = np.array([0,0,0,1,0])\n",
        "        elif y == '4':\n",
        "          y = np.array([0,0,0,0,1])      \n",
        "        return y  \n",
        "\n",
        "    def __getitem__(self, index):\n",
        "        for i in range(len(self.data_adress)):\n",
        "            if index < self.data_adress[i]:\n",
        "                break\n",
        "          \n",
        "        sample = np.load(self.files[i-1])  \n",
        "        y = self.one_hot_encoding(sample['y'])\n",
        "        sample = self.split_data(sample['x'])\n",
        "        sample = self.preprocessing(sample)\n",
        "\n",
        "        if self.SSL:\n",
        "          return sample[index - self.data_adress[i-1],:,:]\n",
        "        else:\n",
        "          return { 'x' : torch.tensor(sample[index - self.data_adress[i-1],:,:]), \n",
        "                   'y' : torch.tensor(y)\n",
        "                   }\n",
        "\n",
        "    def __len__(self):\n",
        "        return self.data_adress[-1]\n"
      ]
    },
    {
      "cell_type": "code",
      "source": [
        "class MASS_dataset(Dataset):\n",
        "    def __init__(self, files, seq_len, SSL = bool):\n",
        "        self.files = files\n",
        "        self.sequence_length = seq_len\n",
        "        self.SSL = SSL\n",
        "        # self.freq = 1.28 # 256Hz / 1.28 = 200Hz\n",
        "        # sample을 split해줬을 때 몇개로 split되는지 누적해서 저장, i번째 data를 찾을 때 data_adress 각 값이 기준이 됨\n",
        "        data_adress = [0]\n",
        "        ad = 0\n",
        "        max_value = 0.\n",
        "        min_value = 0.\n",
        "\n",
        "        for i in range(len(self.files)):\n",
        "            sample = np.load(files[i])['x']\n",
        "            c,t = sample.shape\n",
        "            t = int(t/self.sequence_length) \n",
        "            ad += t\n",
        "            data_adress.append(ad)\n",
        "            temp_max = sample.max()\n",
        "            temp_min = sample.min()\n",
        "            max_value = np.max([max_value, temp_max])\n",
        "            min_value = np.min([min_value, temp_min])\n",
        "      \n",
        "        self.data_adress = data_adress\n",
        "        self.max_value = max_value\n",
        "        self.min_value = min_value\n",
        "\n",
        "    def preprocessing(self, data):\n",
        "        data_max = np.max(data,axis = 2, keepdims=True) # max value of each channels\n",
        "        data_min = np.min(data,axis = 2, keepdims=True) # shape = b,c\n",
        "        b,c,t = data.shape\n",
        "        \n",
        "        return data/data_max*np.ones((b,c,t)) - (data_max - data_min)*np.ones((b,c,t))/(self.max_value - self.min_value)\n",
        "\n",
        "\n",
        "    def split_data(self, data):\n",
        "        L = self.sequence_length\n",
        "        channels, length = data.shape\n",
        "        a = L*int(length/L)\n",
        "        \n",
        "        if length == a:\n",
        "            data = np.reshape(data,(int(length/L),channels,L))\n",
        "        \n",
        "        else:\n",
        "            data = data[:,:a]\n",
        "            data = np.reshape(data,(int(a/L),channels,L))\n",
        "        return data\n",
        "\n",
        "    def one_hot_encoding(self,y):\n",
        "        if y == 'Sleep stage W':\n",
        "          y = np.array([1,0,0,0,0])\n",
        "        elif y == 'Sleep stage 1':\n",
        "          y = np.array([0,1,0,0,0])\n",
        "        elif y == 'Sleep stage 2':\n",
        "          y = np.array([0,0,1,0,0])   \n",
        "        elif y == 'Sleep stage 3':\n",
        "          y = np.array([0,0,0,1,0])\n",
        "        elif y == 'Sleep stage R':\n",
        "          y = np.array([0,0,0,0,1])      \n",
        "        return y  \n",
        "\n",
        "\n",
        "    def __getitem__(self, index):\n",
        "        for i in range(len(self.data_adress)):\n",
        "            if index < self.data_adress[i]:\n",
        "                break\n",
        "          \n",
        "        sample = np.load(self.files[i-1])  \n",
        "        y = self.one_hot_encoding(sample['y'])\n",
        "        sample = self.split_data(sample['x'])\n",
        "        sample = self.preprocessing(sample)\n",
        "\n",
        "        if self.SSL:\n",
        "          return sample[index - self.data_adress[i-1],:,:]\n",
        "        else:\n",
        "          return { 'x' : torch.tensor(sample[index - self.data_adress[i-1],:,:]), \n",
        "                   'y' : torch.tensor(y)\n",
        "                   }\n",
        "\n",
        "          \n",
        "    def __len__(self):\n",
        "        return self.data_adress[-1]"
      ],
      "metadata": {
        "id": "x59y8HGhPIQB"
      },
      "execution_count": 10,
      "outputs": []
    },
    {
      "cell_type": "markdown",
      "source": [
        "Concatenate datasets"
      ],
      "metadata": {
        "id": "3KZzANnT2Fv5"
      }
    },
    {
      "cell_type": "code",
      "source": [
        "from sklearn.model_selection import train_test_split\n",
        "\n",
        "class concat_dataset():\n",
        "    def __init__(self, data_dic,seq_len):\n",
        "        self.data_dic = data_dic #data_dic : {'dataset1_name : [dataset1_adress],,,datasetN_name : [datasetN_adress]}\n",
        "        self.seq_len = seq_len\n",
        "    \n",
        "    def tr_val_te_split(self,data_list):\n",
        "        train, test = train_test_split(data_list, test_size=0.2)#, shuffle=True, random_state=34), #stratify=target\n",
        "        train, val = train_test_split(train, test_size= 0.25)#, shuffle=True, random_state=34)\n",
        "        del data_list\n",
        "        print('split done')\n",
        "        return train, val, test    \n",
        "    \n",
        "    def call(self):\n",
        "    \n",
        "        for name, data_list in self.data_dic.items():\n",
        "            print(name)\n",
        "            tr, val, te = self.tr_val_te_split(data_list)\n",
        "            \n",
        "            if name =='Sleep_edf':\n",
        "                sleepedf_train_data = Sleepedf_dataset(tr,self.seq_len,SSL = True)\n",
        "                print('sleep train done')\n",
        "                sleepedf_val_data = Sleepedf_dataset(val,self.seq_len, SSL = True)\n",
        "                print('sleep val done')\n",
        "                sleepedf_test_data = Sleepedf_dataset(te,self.seq_len, SSL = True)\n",
        "                print('sleep test done')\n",
        "            \n",
        "            elif name == 'MASS':\n",
        "                MASS_train_data = Sleepedf_dataset(tr,self.seq_len, SSL = True)\n",
        "                print('MASS train done')\n",
        "                MASS_val_data = Sleepedf_dataset(val,self.seq_len, SSL = True)\n",
        "                print('MASS val done')\n",
        "                MASS_test_data = Sleepedf_dataset(te,self.seq_len, SSL = True)\n",
        "                print('MASS test done')\n",
        "    \n",
        "        train_dataset = torch.utils.data.ConcatDataset([sleepedf_train_data,MASS_train_data])\n",
        "        val_dataset = torch.utils.data.ConcatDataset([sleepedf_test_data,MASS_val_data])\n",
        "        test_dataset = torch.utils.data.ConcatDataset([sleepedf_val_data,MASS_test_data])\n",
        "    \n",
        "        return train_dataset, val_dataset, test_dataset"
      ],
      "metadata": {
        "id": "dK-L4S1ZPOy8"
      },
      "execution_count": 11,
      "outputs": []
    },
    {
      "cell_type": "markdown",
      "source": [
        "spike"
      ],
      "metadata": {
        "id": "TdRwBZS_sil9"
      }
    },
    {
      "cell_type": "code",
      "source": [
        "import torch\n",
        "from torch import nn\n",
        "from torchsummary import summary as summary_\n",
        "import os\n",
        "\n",
        "def model_loader(model_name:str,temporal_len, in_channels, out_channels,FL,KL):\n",
        "    if model_name == \"SpatialNetwork\":\n",
        "        return SpatialNetwork(temporal_len, in_channels, out_channels,FL,KL)\n",
        "\n",
        "def weight_init_xavier_uniform(submodule):\n",
        "    if isinstance(submodule, torch.nn.Conv2d):\n",
        "        torch.nn.init.xavier_uniform_(submodule.weight)\n",
        "        submodule.bias.data.fill_(0.01)\n",
        "    elif isinstance(submodule, torch.nn.BatchNorm2d):\n",
        "        submodule.weight.data.fill_(1.0)\n",
        "        submodule.bias.data.zero_()\n",
        "\n",
        "\n",
        "class SpatialNetwork(nn.Module):\n",
        "    def __init__(self,temporal_len):\n",
        "        super(SpatialNetwork, self).__init__()\n",
        "\n",
        "        # input length/2 = output of conv1 length\n",
        "        # self.conv1 = nn.Conv1d(1, 16, stride = 2 ,padding = 14, kernel_size=30) \n",
        "        self.conv1 = nn.Conv1d(1, 16, padding = \"same\", kernel_size=30) \n",
        "        self.conv2 = nn.Conv1d(16, 32, padding=\"same\", kernel_size=15)\n",
        "        self.conv3 = nn.Conv1d(32, 64, padding=\"same\", kernel_size=5)\n",
        "\n",
        "\n",
        "        self.Spatial_conv_17 = nn.Conv2d(64,64,kernel_size = (17,1)) \n",
        "        self.maxpool = nn.MaxPool2d(3, stride=2)\n",
        "\n",
        "\n",
        "        self.dropout = nn.Dropout(0.5)\n",
        "\n",
        "        # self.fc = nn.Linear(FL[-1] * 2, 5)\n",
        "        self.fc = nn.Linear(64*temporal_len, 5)\n",
        "        self.elu = nn.ELU()\n",
        "        self.classifier = nn.Softmax(dim=1)\n",
        "        self.softmax = nn.Softmax()\n",
        "        self.flatten = nn.Flatten()\n",
        "\n",
        "        # xavier initialization\n",
        "        torch.nn.init.xavier_uniform_(self.conv1.weight)\n",
        "        torch.nn.init.xavier_uniform_(self.conv2.weight)\n",
        "        torch.nn.init.xavier_uniform_(self.conv3.weight)\n",
        "\n",
        "    def embedding1(self, x, b, c):\n",
        "        # X=(B,C,T)\n",
        "\n",
        "        # X=(B*C,1,T)\n",
        "        x = self.elu(self.conv1(x))\n",
        "\n",
        "        # X=(B*C,F,T2)\n",
        "        x = self.elu(self.conv2(x))\n",
        "\n",
        "        # X=(B*C,F,T3)\n",
        "        x = self.elu(self.conv3(x))\n",
        "        \n",
        "        bc,f,t = x.shape \n",
        "        x = torch.reshape(x,(b,c,f,t))\n",
        "        \n",
        "        # X=(B,F,T4*2) # remove summation part, because each of dataset has a different number of channels\n",
        "        # x = torch.cat([x.max(dim=1)[0], x.sum(dim=1) / c], dim=1)       \n",
        "        return x\n",
        "\n",
        "    def embedding2(self, x, b, c):\n",
        "        x = self.embedding1(x,b,c)\n",
        "        b,c,f,t = x.shape\n",
        "        x = torch.reshape(x,(b,f,c,t))\n",
        "        if c == 17:\n",
        "          x = self.elu(self.Spatial_conv_17(x))\n",
        "          # print(x.shape) # b,64,1,t\n",
        "          x = torch.squeeze(x)\n",
        "          # x = self.maxpool(x)\n",
        "             \n",
        "        return x    \n",
        "\n",
        "    def classifier(self, feature):\n",
        "        # Flattening, dropout, mapping into the decision nodes\n",
        "        # feature = torch.mean(feature, dim = 2) \n",
        "        feature = self.flatten(feature)\n",
        "        ## feature.shape = [batch,filter]\n",
        "\n",
        "        feature = self.dropout(feature)\n",
        "        y_hat = self.softmax(self.fc(feature))\n",
        "        return y_hat   \n",
        "    \n",
        "    def forward(self,x,b,c):\n",
        "        # print('1:',out.shape)\n",
        "        x = self.embedding2(x,b,c)\n",
        "        x = self.classifier(x)\n",
        "        return x\n",
        "\n",
        "\n"
      ],
      "metadata": {
        "id": "mXnSvhqhu0GL"
      },
      "execution_count": 12,
      "outputs": []
    },
    {
      "cell_type": "code",
      "source": [],
      "metadata": {
        "id": "6mZKrzWEIDnH"
      },
      "execution_count": 12,
      "outputs": []
    },
    {
      "cell_type": "code",
      "source": [
        "pip install separableconv-torch\n"
      ],
      "metadata": {
        "colab": {
          "base_uri": "https://localhost:8080/"
        },
        "id": "jdAizVUPpp7L",
        "outputId": "707d9418-817a-4ea7-a9d9-2fade4a300cc"
      },
      "execution_count": 13,
      "outputs": [
        {
          "output_type": "stream",
          "name": "stdout",
          "text": [
            "Looking in indexes: https://pypi.org/simple, https://us-python.pkg.dev/colab-wheels/public/simple/\n",
            "Collecting separableconv-torch\n",
            "  Downloading separableconv_torch-0.1.0-py3-none-any.whl (11 kB)\n",
            "Requirement already satisfied: numpy in /usr/local/lib/python3.7/dist-packages (from separableconv-torch) (1.21.6)\n",
            "Requirement already satisfied: torchvision in /usr/local/lib/python3.7/dist-packages (from separableconv-torch) (0.13.1+cu113)\n",
            "Requirement already satisfied: torch in /usr/local/lib/python3.7/dist-packages (from separableconv-torch) (1.12.1+cu113)\n",
            "Requirement already satisfied: typing-extensions in /usr/local/lib/python3.7/dist-packages (from torch->separableconv-torch) (4.1.1)\n",
            "Requirement already satisfied: pillow!=8.3.*,>=5.3.0 in /usr/local/lib/python3.7/dist-packages (from torchvision->separableconv-torch) (7.1.2)\n",
            "Requirement already satisfied: requests in /usr/local/lib/python3.7/dist-packages (from torchvision->separableconv-torch) (2.23.0)\n",
            "Requirement already satisfied: chardet<4,>=3.0.2 in /usr/local/lib/python3.7/dist-packages (from requests->torchvision->separableconv-torch) (3.0.4)\n",
            "Requirement already satisfied: certifi>=2017.4.17 in /usr/local/lib/python3.7/dist-packages (from requests->torchvision->separableconv-torch) (2022.9.24)\n",
            "Requirement already satisfied: idna<3,>=2.5 in /usr/local/lib/python3.7/dist-packages (from requests->torchvision->separableconv-torch) (2.10)\n",
            "Requirement already satisfied: urllib3!=1.25.0,!=1.25.1,<1.26,>=1.21.1 in /usr/local/lib/python3.7/dist-packages (from requests->torchvision->separableconv-torch) (1.24.3)\n",
            "Installing collected packages: separableconv-torch\n",
            "Successfully installed separableconv-torch-0.1.0\n"
          ]
        }
      ]
    },
    {
      "cell_type": "code",
      "source": [
        "# import torch\n",
        "# from torch import nn\n",
        "# from torchsummary import summary as summary_\n",
        "# import separableconv.nn as snn\n",
        "# import os\n",
        "\n",
        "# def model_loader(model_name:str,temporal_len, in_channels, out_channels,FL,KL):\n",
        "#     if model_name == \"SpatialNetwork\":\n",
        "#         return SpatialNetwork(temporal_len, in_channels, out_channels,FL,KL)\n",
        "\n",
        "# class SSL_extractor2(nn.Module):\n",
        "#     def __init__(self, temporal_len, in_channels, out_channels, FL, KL):\n",
        "#         super(SSL_extractor2,self).__init__()\n",
        "#         self.dropout = nn.Dropout(0.3)\n",
        "#         self.flat=nn.Flatten()\n",
        "#         self.fc = nn.Linear(FL[-1]*3*temporal_len, 5)\n",
        "#         self.classifier = nn.Softmax(dim=1)\n",
        "\n",
        "#     def forward(self,x):\n",
        "#         out= self.flat(x)\n",
        "#         out = self.fc(out)\n",
        "#         out = self.dropout(out)\n",
        "#         out = self.classifier(out)\n",
        "#         return out\n",
        "\n",
        "\n",
        "# class Endcoder2(nn.Module):\n",
        "#     def __init__(self, temporal_len, in_channels, out_channels, FL, KS):\n",
        "#         super(Endcoder2, self).__init__()\n",
        "\n",
        "#         self.in_channels = in_channels\n",
        "#         self.out_channels = out_channels\n",
        "#         self.FL = FL\n",
        "\n",
        "#         self.GAP = nn.AdaptiveAvgPool1d(1)\n",
        "#         self.GAP2 = nn.AdaptiveAvgPool1d(20)\n",
        "#         self.dropout = nn.Dropout(0.3)\n",
        "\n",
        "#         self.sep1 = snn.SeparableConv2d(1, FL[0], (1, KS[0]), padding=\"same\", normalization_dw=\"bn\",\n",
        "#                                         normalization_pw=\"bn\")\n",
        "#         self.sep2 = snn.SeparableConv2d(FL[0], FL[1], (1, KS[1]), padding=\"same\", normalization_dw=\"bn\",\n",
        "#                                         normalization_pw=\"bn\")\n",
        "#         self.sep3 = snn.SeparableConv2d(FL[1], FL[2], (1, KS[2]), padding=\"same\", normalization_dw=\"bn\",\n",
        "#                                         normalization_pw=\"bn\")\n",
        "#         self.pipe = nn.Conv2d(FL[-2], FL[-1], 1, padding=\"same\")\n",
        "\n",
        "#         self.bn1 = nn.BatchNorm1d(1)\n",
        "#         self.bn2 = nn.BatchNorm1d(FL[1])\n",
        "\n",
        "#         self.sep1.apply(weight_init_xavier_uniform)\n",
        "#         self.sep2.apply(weight_init_xavier_uniform)\n",
        "#         self.sep3.apply(weight_init_xavier_uniform)\n",
        "\n",
        "#         self.fc = nn.Linear(FL[-1] * 3 * temporal_len, 5)\n",
        "#         self.elu = nn.ELU()\n",
        "#         self.classifier = nn.Softmax(dim=1)\n",
        "#         self.maxpool = nn.MaxPool1d(2, stride=2)\n",
        "#         # xavier initialization\n",
        "\n",
        "#         #   X =(B,C,X,Y)  X =(B,14,T)\n",
        "\n",
        "#     def forward(self, x):\n",
        "#         # X=(B,C,T)\n",
        "#         b_s, c_s, t_s = x.shape\n",
        "#         x = x.unsqueeze(1)\n",
        "#         # X=(B*C,1,T)\n",
        "#         out = self.sep1(x)\n",
        "#         out = self.elu(out)\n",
        "\n",
        "#         # X=(B*C,F,T2)\n",
        "#         out = self.sep2(out)\n",
        "#         # out= self.bn2(out)\n",
        "#         out = self.elu(out)\n",
        "\n",
        "#         # X=(B*C,F,T3)\n",
        "#         out = self.sep3(out)\n",
        "#         out = self.elu(out)\n",
        "\n",
        "#         out = self.pipe(out)\n",
        "#         out = self.elu(out)\n",
        "\n",
        "#         # B,C,F*T\n",
        "\n",
        "#         out = out.view([b_s, c_s, -1])\n",
        "\n",
        "#         # B,C,F\n",
        "\n",
        "#         # B,F*T\n",
        "#         out = torch.cat([out.sum(dim=1), out.max(dim=1)[0], out.sum(dim=1) / self.in_channels], dim=1)\n",
        "#         out= out.view([b_s,t_s,-1])\n",
        "#         return out\n",
        "\n",
        "\n",
        "# class SpatialNetwork2(nn.Module):\n",
        "#     def __init__(self, temporal_len, in_channels, out_channels, FL, KL):\n",
        "#         super(SpatialNetwork2, self).__init__()\n",
        "#         self.encoder = Endcoder2(temporal_len, in_channels, out_channels, FL, KL)\n",
        "#         self.classifier = SSL_extractor2(temporal_len, in_channels, out_channels,FL,KL)\n",
        "\n",
        "#     def forward(self,x):\n",
        "#         out = self.encoder(x)\n",
        "#         out= self.classifier(out)\n",
        "#         return out\n",
        "#     def get_Rep(self,x):\n",
        "#         out = self.encoder(x)\n",
        "#         return out\n",
        "\n",
        "# if __name__ == \"__main__\":\n",
        "\n",
        "#     model = SpatialNetwork2(200,23,23,[8,16,32,4],[30,15,5])\n",
        "#     #model = SpatialNetwork6(7680,14,14,[8,10,12,20])\n",
        "#     # os.environ[\"CUDA_VISIBLE_DEVICES\"] = \"2\"\n",
        "#     # device = \"cuda\" if torch.cuda.is_available() else \"cpu\"\n",
        "#     # print(f\"Using {device} device\")\n",
        "#     # model.to(device)\n",
        "# # \n",
        "#     # summary_(model, (23,200), batch_size=322)"
      ],
      "metadata": {
        "id": "iU8rUqd6pHB4"
      },
      "execution_count": 14,
      "outputs": []
    },
    {
      "cell_type": "code",
      "source": [
        "import numpy as np\n",
        "import torch\n",
        "import torch.nn as nn\n",
        "\n",
        "\n",
        "# f1acc = f1_score(label, prediction, average='micro')\n",
        "\n",
        "class PredTaskLoss(torch.nn.modules.loss._Loss):\n",
        "    def __init__(self, beta, scale, device = None):\n",
        "        super().__init__()\n",
        "        self.device = device\n",
        "        self.beta = beta\n",
        "        self.scale= scale\n",
        "\n",
        "    def forward(self, batch, encoder, spiked_channels, train):\n",
        "        batch_aug, labels = spiked_channels(batch,self.scale,self.beta).forward()\n",
        "        b,c,t = batch_aug.shape\n",
        "        batch_aug = np.reshape(batch_aug, (b*c,1,t)) # we use sing channel encoder\n",
        "        CrossEL = torch.nn.CrossEntropyLoss()\n",
        "        pred = encoder.forward(torch.Tensor(batch_aug).type(torch.float).to(self.device),b,c) \n",
        "        # print('pred:',pred.shape)\n",
        "        labels = torch.Tensor(labels).to(self.device)\n",
        "        # print('labels:',labels.shape)\n",
        "\n",
        "        loss = CrossEL(pred,labels)\n",
        "        if train:\n",
        "            loss.backward(retain_graph=True)\n",
        "        \n",
        "        _, Y =  torch.max(labels, 1) \n",
        "        _, predicted = torch.max(pred, 1) \n",
        "        acc = (predicted == Y).sum().item()\n",
        "        acc = acc/(b)\n",
        "        # print(acc)\n",
        "        return loss, acc"
      ],
      "metadata": {
        "id": "-LfVRTNvu0Gw"
      },
      "execution_count": 15,
      "outputs": []
    },
    {
      "cell_type": "code",
      "source": [],
      "metadata": {
        "id": "wRx9cfLr16dz"
      },
      "execution_count": 15,
      "outputs": []
    },
    {
      "cell_type": "code",
      "source": [
        "import glob\n",
        "\n",
        "SS1_list = glob.glob('/content/drive/MyDrive/EEG_data/MASS/SS1/Preprocessed_EEG/**')\n",
        "print(len(SS1_list))\n",
        "MASS_list = []\n",
        "for i in range(len(SS1_list)):\n",
        "    length = len(MASS_list)\n",
        "    MASS_list.extend(glob.glob(SS1_list[i]+'/**'))\n",
        "    print(len(MASS_list) - length)\n",
        "print(len(MASS_list))"
      ],
      "metadata": {
        "colab": {
          "base_uri": "https://localhost:8080/"
        },
        "id": "kzs8wj9H4DqQ",
        "outputId": "cc91b087-f77d-40d0-a2b1-12980d4f0030"
      },
      "execution_count": 16,
      "outputs": [
        {
          "output_type": "stream",
          "name": "stdout",
          "text": [
            "1\n",
            "918\n",
            "918\n"
          ]
        }
      ]
    },
    {
      "cell_type": "code",
      "source": [
        "train, test = train_test_split(MASS_list, test_size=0.2)#, shuffle=True, random_state=34), #stratify=target\n",
        "train, val = train_test_split(train, test_size= 0.25)#, shu"
      ],
      "metadata": {
        "id": "8hZHBofhD_ti"
      },
      "execution_count": 17,
      "outputs": []
    },
    {
      "cell_type": "code",
      "source": [
        "train_dataset = MASS_dataset(train, 2000, SSL = True)\n",
        "val_dataset = MASS_dataset(val, 2000, SSL = True)\n",
        "test_dataset = MASS_dataset(test, 2000, SSL = True)"
      ],
      "metadata": {
        "id": "eY3pJkIbWoFC"
      },
      "execution_count": 23,
      "outputs": []
    },
    {
      "cell_type": "code",
      "source": [
        "import os\n",
        "import torch\n",
        "# batch size\n",
        "batch_size = 100\n",
        "learning_rate = 0.001\n",
        "epochs = 15\n",
        "\n",
        "os.environ[\"CUDA_VISIBLE_DEVICES\"] = \"0\"\n",
        "device = torch.device(\"cuda:0\" if torch.cuda.is_available() else \"cpu\")\n",
        "#torch.device(\"cuda:0\" if torch.cuda.is_available() else \"cpu\")\n",
        "#\"cpu\"\n",
        "print(device)"
      ],
      "metadata": {
        "id": "9LtnRyXDS2pn",
        "colab": {
          "base_uri": "https://localhost:8080/"
        },
        "outputId": "0416d4aa-82a5-4d62-f483-47fa824a87d2"
      },
      "execution_count": 24,
      "outputs": [
        {
          "output_type": "stream",
          "name": "stdout",
          "text": [
            "cuda:0\n"
          ]
        }
      ]
    },
    {
      "cell_type": "code",
      "source": [
        "# model = SpatialNetwork2(200,23,23,[8,16,32,4],[30,15,5]).to(device)\n",
        "\n",
        "model = SpatialNetwork(2000).to(device)\n",
        "criterion = PredTaskLoss(1,0.5,device)\n",
        "optimizer = torch.optim.Adam(model.parameters(), lr=learning_rate)"
      ],
      "metadata": {
        "id": "iP30M7cpo4K2"
      },
      "execution_count": 25,
      "outputs": []
    },
    {
      "cell_type": "code",
      "execution_count": 26,
      "metadata": {
        "id": "790uPh_l1y1z"
      },
      "outputs": [],
      "source": [
        "from torch.utils.data import DataLoader\n",
        "trainLoader = DataLoader(train_dataset, batch_size = batch_size, shuffle= True)\n",
        "valLoader = DataLoader(val_dataset, batch_size = batch_size , shuffle= True)\n",
        "testLoader = DataLoader(test_dataset, batch_size = batch_size, shuffle= True)\n"
      ]
    },
    {
      "cell_type": "code",
      "source": [
        "import matplotlib.pyplot as plt\n",
        "loss_tr = []\n",
        "loss_val = []\n",
        "acc_tr = []\n",
        "acc_val = []\n",
        "for epoch in range(epochs):\n",
        "    loss_ep = 0  # add batch loss in epoch\n",
        "    acc_ep = 0\n",
        "    for batch_idx, batch in enumerate(trainLoader):\n",
        "        # print(batch.shape)\n",
        "        optimizer.zero_grad()\n",
        "        loss_batch, acc_batch = criterion.forward(batch, model, spiked_channels,train = True)\n",
        "        # print(batch_idx)\n",
        "        optimizer.step()\n",
        "        loss_ep += loss_batch.item()\n",
        "        # print('loss:',loss_batch.item())\n",
        "        # print(acc_batch)\n",
        "        acc_ep += acc_batch\n",
        "\n",
        "    loss_tr.append((loss_ep)/len(trainLoader))\n",
        "    acc_tr.append((acc_ep)/len(trainLoader))\n",
        "\n",
        "    loss_ep_val = 0\n",
        "    acc_ep_val = 0\n",
        "    for batch_idx, batch in enumerate(valLoader):\n",
        "        loss_batch_val, acc_batch_val = criterion.forward(batch, model,spiked_channels, train = False)\n",
        "        loss_ep_val += loss_batch_val.item()\n",
        "        acc_ep_val += acc_batch_val\n",
        "    \n",
        "    loss_val.append((loss_ep_val)/len(valLoader))\n",
        "    acc_val.append((acc_ep_val)/len(valLoader))\n",
        "    print(\"epoch : \", epoch, \"  train loss : \", loss_tr[epoch], 'train acc : ', acc_tr[epoch], \"    val loss : \", loss_val[epoch], 'val acc : ', acc_val[epoch])\n",
        "    torch.save(model,'Spike_10s_ep' + str(epoch)+'_.pt')\n"
      ],
      "metadata": {
        "id": "tf0OPTC7zOzS",
        "colab": {
          "base_uri": "https://localhost:8080/"
        },
        "outputId": "b745d948-2171-449b-95bf-4ea5c933e512"
      },
      "execution_count": 27,
      "outputs": [
        {
          "output_type": "stream",
          "name": "stderr",
          "text": [
            "/usr/local/lib/python3.7/dist-packages/ipykernel_launcher.py:86: UserWarning: Implicit dimension choice for softmax has been deprecated. Change the call to include dim=X as an argument.\n"
          ]
        },
        {
          "output_type": "stream",
          "name": "stdout",
          "text": [
            "epoch :  0   train loss :  1.3137980033369625 train acc :  0.5776470588235295     val loss :  0.9825969040393829 val acc :  0.9207692307692309\n",
            "epoch :  1   train loss :  0.9932167284628924 train acc :  0.9105882352941177     val loss :  0.9809651076793671 val acc :  0.9237179487179489\n",
            "epoch :  2   train loss :  0.9782801270484924 train acc :  0.9264705882352943     val loss :  0.9873478909333547 val acc :  0.9171794871794873\n",
            "epoch :  3   train loss :  0.9849621653556824 train acc :  0.9194117647058824     val loss :  0.9884183605511984 val acc :  0.9161538461538461\n",
            "epoch :  4   train loss :  0.9874531346208909 train acc :  0.9170588235294117     val loss :  1.0019030570983887 val acc :  0.9026923076923077\n",
            "epoch :  5   train loss :  0.9887086293276619 train acc :  0.9158823529411764     val loss :  0.9597160518169403 val acc :  0.9452564102564103\n",
            "epoch :  6   train loss :  0.9769713282585144 train acc :  0.9270588235294118     val loss :  0.981013019879659 val acc :  0.9237179487179489\n",
            "epoch :  7   train loss :  0.9540844840161941 train acc :  0.9505882352941174     val loss :  0.9505937000115713 val acc :  0.9555128205128205\n",
            "epoch :  8   train loss :  0.9307044288691353 train acc :  0.973529411764706     val loss :  0.9179357786973318 val acc :  0.9869230769230771\n",
            "epoch :  9   train loss :  0.9264649783863741 train acc :  0.9782352941176474     val loss :  0.9273506303628286 val acc :  0.9767948717948718\n",
            "epoch :  10   train loss :  0.9404776657328886 train acc :  0.9641176470588235     val loss :  0.9430816372235616 val acc :  0.9617948717948718\n",
            "epoch :  11   train loss :  0.9640451915123883 train acc :  0.9405882352941176     val loss :  0.9945915937423706 val acc :  0.9101282051282052\n",
            "epoch :  12   train loss :  0.9800921748666203 train acc :  0.9247058823529412     val loss :  0.992925763130188 val acc :  0.9117948717948718\n",
            "epoch :  13   train loss :  0.9897309436517603 train acc :  0.9152941176470586     val loss :  0.9791656831900278 val acc :  0.9256410256410256\n",
            "epoch :  14   train loss :  0.9986678642385146 train acc :  0.9058823529411765     val loss :  0.9906880358854929 val acc :  0.9141025641025641\n"
          ]
        }
      ]
    },
    {
      "cell_type": "markdown",
      "metadata": {
        "id": "EyYjI6wY4bew"
      },
      "source": [
        "result save and plot"
      ]
    },
    {
      "cell_type": "code",
      "execution_count": 28,
      "metadata": {
        "id": "sULgDLvm2xHe",
        "colab": {
          "base_uri": "https://localhost:8080/"
        },
        "outputId": "f4785734-b8e6-4809-ba73-648114f779bf"
      },
      "outputs": [
        {
          "output_type": "stream",
          "name": "stdout",
          "text": [
            "(4, 15)\n"
          ]
        }
      ],
      "source": [
        "import pandas as pd\n",
        "col = ['loss_tr','loss_val','acc_tr','acc_val']\n",
        "data = np.array([loss_tr,\n",
        "                 loss_val,\n",
        "                 acc_tr,\n",
        "                 acc_val])\n",
        "print(data.shape)\n",
        "data = np.transpose(data)\n",
        "df = pd.DataFrame(data = data, columns= col)\n",
        "df.to_excel('spike_10s.xlsx', index = False)"
      ]
    },
    {
      "cell_type": "code",
      "execution_count": 29,
      "metadata": {
        "id": "yqo5atQngb6K",
        "colab": {
          "base_uri": "https://localhost:8080/",
          "height": 295
        },
        "outputId": "8ce4d551-5638-4986-8486-dd94273826ea"
      },
      "outputs": [
        {
          "output_type": "display_data",
          "data": {
            "text/plain": [
              "<Figure size 432x288 with 1 Axes>"
            ],
            "image/png": "[encoded data removed]"
          },
          "metadata": {
            "needs_background": "light"
          }
        }
      ],
      "source": [
        "# plt.figure(figsize =(15, 10))\n",
        "plt.plot(range(epochs), loss_tr, color='red')\n",
        "plt.plot(range(epochs), loss_val, color='blue')\n",
        "plt.title('Model loss')\n",
        "plt.xlabel('epochs')\n",
        "plt.ylabel('loss')\n",
        "plt.legend(['Train', 'Validation'], loc='upper right')\n",
        "plt.savefig('spike_loss_10s',bbox_inches = 'tight')\n",
        "plt.show()\n"
      ]
    },
    {
      "cell_type": "code",
      "execution_count": 30,
      "metadata": {
        "id": "0qR7XCy2hPq6",
        "colab": {
          "base_uri": "https://localhost:8080/",
          "height": 295
        },
        "outputId": "484a4b0e-8a5e-47d6-80a3-0bc0c10bab36"
      },
      "outputs": [
        {
          "output_type": "display_data",
          "data": {
            "text/plain": [
              "<Figure size 432x288 with 1 Axes>"
            ],
            "image/png": "[encoded data removed]"
          },
          "metadata": {
            "needs_background": "light"
          }
        }
      ],
      "source": [
        "# plt.figure(figsize =(15, 10))\n",
        "plt.plot(range(epochs), acc_tr, color='red')\n",
        "plt.plot(range(epochs), acc_val, color='blue')\n",
        "plt.title('Model accuracy')\n",
        "plt.xlabel('epochs')\n",
        "plt.ylabel('accuracy')\n",
        "plt.legend(['Train', 'Validation'], loc='lower right')\n",
        "plt.savefig('spike_accuracy_10s',bbox_inches = 'tight')\n",
        "plt.show()"
      ]
    },
    {
      "cell_type": "markdown",
      "metadata": {
        "id": "WaNXMjTxw00n"
      },
      "source": []
    },
    {
      "cell_type": "code",
      "execution_count": null,
      "metadata": {
        "id": "n2HeGrHBwziU"
      },
      "outputs": [],
      "source": [
        "torch.cuda.empty_cache() # GPU 캐시 데이터 삭제"
      ]
    },
    {
      "cell_type": "code",
      "execution_count": null,
      "metadata": {
        "id": "SKq8oqGJ9vrw"
      },
      "outputs": [],
      "source": [
        "torch.save(model,'Spatial__10s.pt')"
      ]
    },
    {
      "cell_type": "code",
      "execution_count": null,
      "metadata": {
        "id": "JsweOxDn-nS_"
      },
      "outputs": [],
      "source": [
        "torch.save(model.state_dict(),'Spectral_20s_stat_dict.pt')"
      ]
    },
    {
      "cell_type": "code",
      "source": [],
      "metadata": {
        "id": "9bdXUlFi33lC"
      },
      "execution_count": null,
      "outputs": []
    },
    {
      "cell_type": "code",
      "source": [],
      "metadata": {
        "id": "kMpyDvdO0dgT"
      },
      "execution_count": null,
      "outputs": []
    },
    {
      "cell_type": "code",
      "source": [],
      "metadata": {
        "id": "aEkVVxyK0diq"
      },
      "execution_count": null,
      "outputs": []
    },
    {
      "cell_type": "code",
      "source": [],
      "metadata": {
        "id": "JiODMsr10dlM"
      },
      "execution_count": null,
      "outputs": []
    }
  ]
}